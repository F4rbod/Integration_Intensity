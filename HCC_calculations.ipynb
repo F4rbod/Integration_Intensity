{
 "cells": [
  {
   "cell_type": "markdown",
   "id": "13ffe1ec-7515-473a-a152-de06e6250e82",
   "metadata": {},
   "source": [
    "# Setup"
   ]
  },
  {
   "cell_type": "code",
   "execution_count": 1,
   "id": "4c35f02d-0dd9-49e1-95ba-3da58c9a47ec",
   "metadata": {},
   "outputs": [
    {
     "name": "stderr",
     "output_type": "stream",
     "text": [
      "Initializing packrat project in directory:\n",
      "- \"/work/postresearch/Shared/Projects/Farbod/CaseMix\"\n",
      "\n",
      "Initialization complete!\n",
      "\n"
     ]
    }
   ],
   "source": [
    "packrat::init(project = \"/work/postresearch/Shared/Projects/Farbod/CaseMix\")"
   ]
  },
  {
   "cell_type": "code",
   "execution_count": 2,
   "id": "87d247c5-4afb-49d7-b54c-317655f91891",
   "metadata": {},
   "outputs": [],
   "source": [
    "#packrat::snapshot()"
   ]
  },
  {
   "cell_type": "code",
   "execution_count": 3,
   "id": "3d33fe60-1077-44e8-b923-f6d318960f7d",
   "metadata": {},
   "outputs": [
    {
     "name": "stderr",
     "output_type": "stream",
     "text": [
      "Up to date.\n",
      "\n"
     ]
    }
   ],
   "source": [
    "packrat::status()"
   ]
  },
  {
   "cell_type": "code",
   "execution_count": 4,
   "id": "363434e4-7517-4392-908a-53cc61ade523",
   "metadata": {},
   "outputs": [],
   "source": [
    "setwd('/work/postresearch/Shared/Projects/Farbod/Integration_Intensity')"
   ]
  },
  {
   "cell_type": "code",
   "execution_count": 5,
   "id": "047d3179-6b10-41b1-bc57-c400f1dae3f7",
   "metadata": {
    "pycharm": {
     "name": "#%%\n"
    },
    "tags": []
   },
   "outputs": [
    {
     "name": "stderr",
     "output_type": "stream",
     "text": [
      "── \u001b[1mAttaching packages\u001b[22m ─────────────────────────────────────────────────────────────────────────────────────────────────────────────────────── tidyverse 1.3.2 ──\n",
      "\u001b[32m✔\u001b[39m \u001b[34mggplot2\u001b[39m 3.3.6     \u001b[32m✔\u001b[39m \u001b[34mpurrr  \u001b[39m 0.3.4\n",
      "\u001b[32m✔\u001b[39m \u001b[34mtibble \u001b[39m 3.1.8     \u001b[32m✔\u001b[39m \u001b[34mdplyr  \u001b[39m 1.0.9\n",
      "\u001b[32m✔\u001b[39m \u001b[34mtidyr  \u001b[39m 1.2.0     \u001b[32m✔\u001b[39m \u001b[34mstringr\u001b[39m 1.4.1\n",
      "\u001b[32m✔\u001b[39m \u001b[34mreadr  \u001b[39m 2.1.2     \u001b[32m✔\u001b[39m \u001b[34mforcats\u001b[39m 0.5.2\n",
      "── \u001b[1mConflicts\u001b[22m ────────────────────────────────────────────────────────────────────────────────────────────────────────────────────────── tidyverse_conflicts() ──\n",
      "\u001b[31m✖\u001b[39m \u001b[34mdplyr\u001b[39m::\u001b[32mfilter()\u001b[39m masks \u001b[34mstats\u001b[39m::filter()\n",
      "\u001b[31m✖\u001b[39m \u001b[34mdplyr\u001b[39m::\u001b[32mlag()\u001b[39m    masks \u001b[34mstats\u001b[39m::lag()\n",
      "\n",
      "Attaching package: ‘data.table’\n",
      "\n",
      "\n",
      "The following objects are masked from ‘package:dplyr’:\n",
      "\n",
      "    between, first, last\n",
      "\n",
      "\n",
      "The following object is masked from ‘package:purrr’:\n",
      "\n",
      "    transpose\n",
      "\n",
      "\n",
      "This is {comorbidity} version 1.0.3.\n",
      "\n",
      "A lot has changed since the pre-1.0.0 release on CRAN, please check-out breaking changes here:\n",
      "\n",
      "-> https://ellessenne.github.io/comorbidity/articles/C-changes.html\n",
      "\n",
      "\n",
      "Attaching package: ‘reshape’\n",
      "\n",
      "\n",
      "The following object is masked from ‘package:data.table’:\n",
      "\n",
      "    melt\n",
      "\n",
      "\n",
      "The following object is masked from ‘package:dplyr’:\n",
      "\n",
      "    rename\n",
      "\n",
      "\n",
      "The following objects are masked from ‘package:tidyr’:\n",
      "\n",
      "    expand, smiths\n",
      "\n",
      "\n",
      "\n",
      "Attaching package: ‘icd’\n",
      "\n",
      "\n",
      "The following object is masked from ‘package:reshape’:\n",
      "\n",
      "    condense\n",
      "\n",
      "\n"
     ]
    }
   ],
   "source": [
    "options(repr.matrix.max.rows=100, repr.matrix.max.cols=300)\n",
    "options(repr.plot.width = 20, repr.plot.height = 15)\n",
    "options(width=300)\n",
    "    \n",
    "numcores=56\n",
    "\n",
    "library(tidyverse)\n",
    "library(parallel)\n",
    "library(data.table)\n",
    "library(fst)\n",
    "library(comorbidity)\n",
    "library(zeallot)\n",
    "library(reshape)\n",
    "library(dtplyr)\n",
    "library(haven)\n",
    "library(vroom)\n",
    "library(dplyr)\n",
    "library(icd)\n",
    "`%!in%` = Negate(`%in%`)\n",
    "\n",
    "setDTthreads(numcores)"
   ]
  },
  {
   "cell_type": "markdown",
   "id": "66b93937-6634-4b82-8ae8-2e6aaeb496bc",
   "metadata": {},
   "source": [
    "# Finding the diagnosis for each patient"
   ]
  },
  {
   "cell_type": "markdown",
   "id": "11d95288-b707-4cb0-98eb-a50e2cdeb1be",
   "metadata": {},
   "source": [
    "## Carrier files"
   ]
  },
  {
   "cell_type": "code",
   "execution_count": 108,
   "id": "cf674419-e763-49f2-b0d2-9e1df920bcb9",
   "metadata": {
    "pycharm": {
     "name": "#%%\n"
    }
   },
   "outputs": [],
   "source": [
    "carrier_data_2013=read_fst(\"/work/postresearch/Shared/Projects/Data_fst/carrier_data_2013.fst\",as.data.table = T, columns = c(\"DESY_SORT_KEY\",\"LINE_ICD_DGNS_CD\"))\n",
    "carrier_data_2014=read_fst(\"/work/postresearch/Shared/Projects/Data_fst/carrier_data_2014.fst\",as.data.table = T, columns = c(\"DESY_SORT_KEY\",\"LINE_ICD_DGNS_CD\"))\n",
    "carrier_data_2015=read_fst(\"/work/postresearch/Shared/Projects/Data_fst/carrier_data_2015.fst\",as.data.table = T, columns = c(\"DESY_SORT_KEY\",\"LINE_ICD_DGNS_CD\"))\n",
    "carrier_data_2016=read_fst(\"/work/postresearch/Shared/Projects/Data_fst/carrier_data_2016.fst\",as.data.table = T, columns = c(\"DESY_SORT_KEY\",\"LINE_ICD_DGNS_CD\"))\n",
    "carrier_data_2017=read_fst(\"/work/postresearch/Shared/Projects/Data_fst/carrier_data_2017.fst\",as.data.table = T, columns = c(\"DESY_SORT_KEY\",\"LINE_ICD_DGNS_CD\"))\n",
    "carrier_data_2018=read_fst(\"/work/postresearch/Shared/Projects/Data_fst/carrier_data_2018.fst\",as.data.table = T, columns = c(\"DESY_SORT_KEY\",\"LINE_ICD_DGNS_CD\"))\n",
    "carrier_data_2019=read_fst(\"/work/postresearch/Shared/Projects/Data_fst/carrier_data_2019.fst\",as.data.table = T, columns = c(\"DESY_SORT_KEY\",\"LINE_ICD_DGNS_CD\"))\n",
    "carrier_data_2020=read_fst(\"/work/postresearch/Shared/Projects/Data_fst/carrier_data_2020.fst\",as.data.table = T, columns = c(\"DESY_SORT_KEY\",\"LINE_ICD_DGNS_CD\"))"
   ]
  },
  {
   "cell_type": "markdown",
   "id": "67dd131d-a8dd-4f10-b57d-59db811259f5",
   "metadata": {
    "pycharm": {
     "name": "#%% md\n"
    },
    "tags": []
   },
   "source": [
    "## Inpatient files"
   ]
  },
  {
   "cell_type": "code",
   "execution_count": 111,
   "id": "50472a0e-7fb3-44b9-a2a1-5d8a363ffb46",
   "metadata": {
    "pycharm": {
     "name": "#%%\n"
    },
    "tags": []
   },
   "outputs": [],
   "source": [
    "inpatient_data_2013 = read_fst(\"/work/postresearch/Shared/Projects/Data_fst/inpatient_data_2013.fst\",as.data.table = T)\n",
    "inpatient_data_2014 = read_fst(\"/work/postresearch/Shared/Projects/Data_fst/inpatient_data_2014.fst\",as.data.table = T)\n",
    "inpatient_data_2015 = read_fst(\"/work/postresearch/Shared/Projects/Data_fst/inpatient_data_2015.fst\",as.data.table = T)\n",
    "inpatient_data_2016 = read_fst(\"/work/postresearch/Shared/Projects/Data_fst/inpatient_data_2016.fst\",as.data.table = T)\n",
    "inpatient_data_2017 = read_fst(\"/work/postresearch/Shared/Projects/Data_fst/inpatient_data_2017.fst\",as.data.table = T)\n",
    "inpatient_data_2018 = read_fst(\"/work/postresearch/Shared/Projects/Data_fst/inpatient_data_2018.fst\",as.data.table = T)\n",
    "inpatient_data_2019 = read_fst(\"/work/postresearch/Shared/Projects/Data_fst/inpatient_data_2019.fst\",as.data.table = T)\n",
    "inpatient_data_2020 = read_fst(\"/work/postresearch/Shared/Projects/Data_fst/inpatient_data_2020.fst\",as.data.table = T)"
   ]
  },
  {
   "cell_type": "markdown",
   "id": "49aaaf87-3c1f-450e-8f51-a5a21a4cb694",
   "metadata": {
    "pycharm": {
     "name": "#%% md\n"
    }
   },
   "source": [
    "## Outpatient files"
   ]
  },
  {
   "cell_type": "code",
   "execution_count": 112,
   "id": "07b87323-b8cf-4407-8386-6a0dad4bb890",
   "metadata": {
    "pycharm": {
     "name": "#%%\n"
    }
   },
   "outputs": [],
   "source": [
    "outpatient_data_2013 = read_fst(\"/work/postresearch/Shared/Projects/Data_fst/outpatient_data_2013.fst\",as.data.table = T)\n",
    "outpatient_data_2014 = read_fst(\"/work/postresearch/Shared/Projects/Data_fst/outpatient_data_2014.fst\",as.data.table = T)\n",
    "outpatient_data_2015 = read_fst(\"/work/postresearch/Shared/Projects/Data_fst/outpatient_data_2015.fst\",as.data.table = T)\n",
    "outpatient_data_2016 = read_fst(\"/work/postresearch/Shared/Projects/Data_fst/outpatient_data_2016.fst\",as.data.table = T)\n",
    "outpatient_data_2017 = read_fst(\"/work/postresearch/Shared/Projects/Data_fst/outpatient_data_2017.fst\",as.data.table = T)\n",
    "outpatient_data_2018 = read_fst(\"/work/postresearch/Shared/Projects/Data_fst/outpatient_data_2018.fst\",as.data.table = T)\n",
    "outpatient_data_2019 = read_fst(\"/work/postresearch/Shared/Projects/Data_fst/outpatient_data_2019.fst\",as.data.table = T)\n",
    "outpatient_data_2020 = read_fst(\"/work/postresearch/Shared/Projects/Data_fst/outpatient_data_2020.fst\",as.data.table = T)"
   ]
  },
  {
   "cell_type": "code",
   "execution_count": 109,
   "id": "85dc4483-cd83-44c5-bdb5-26bdbb223b42",
   "metadata": {},
   "outputs": [],
   "source": [
    "carrier_test=\n",
    "carrier_data_2020[1:10,.(\n",
    "    MBI=DESY_SORT_KEY,\n",
    "    DIAG=LINE_ICD_DGNS_CD)]"
   ]
  },
  {
   "cell_type": "code",
   "execution_count": 113,
   "id": "54a7108f-2f7e-42cd-a6e4-f826332e0b4f",
   "metadata": {},
   "outputs": [
    {
     "data": {
      "text/html": [
       "<table class=\"dataframe\">\n",
       "<caption>A data.table: 6 × 2</caption>\n",
       "<thead>\n",
       "\t<tr><th scope=col>MBI</th><th scope=col>DIAG</th></tr>\n",
       "\t<tr><th scope=col>&lt;int&gt;</th><th scope=col>&lt;chr&gt;</th></tr>\n",
       "</thead>\n",
       "<tbody>\n",
       "\t<tr><td>100000015</td><td>H903   </td></tr>\n",
       "\t<tr><td>100000015</td><td>H3530  </td></tr>\n",
       "\t<tr><td>100000015</td><td>H3530  </td></tr>\n",
       "\t<tr><td>100000015</td><td>H353231</td></tr>\n",
       "\t<tr><td>100000015</td><td>H353231</td></tr>\n",
       "\t<tr><td>100000015</td><td>E119   </td></tr>\n",
       "</tbody>\n",
       "</table>\n"
      ],
      "text/latex": [
       "A data.table: 6 × 2\n",
       "\\begin{tabular}{ll}\n",
       " MBI & DIAG\\\\\n",
       " <int> & <chr>\\\\\n",
       "\\hline\n",
       "\t 100000015 & H903   \\\\\n",
       "\t 100000015 & H3530  \\\\\n",
       "\t 100000015 & H3530  \\\\\n",
       "\t 100000015 & H353231\\\\\n",
       "\t 100000015 & H353231\\\\\n",
       "\t 100000015 & E119   \\\\\n",
       "\\end{tabular}\n"
      ],
      "text/markdown": [
       "\n",
       "A data.table: 6 × 2\n",
       "\n",
       "| MBI &lt;int&gt; | DIAG &lt;chr&gt; |\n",
       "|---|---|\n",
       "| 100000015 | H903    |\n",
       "| 100000015 | H3530   |\n",
       "| 100000015 | H3530   |\n",
       "| 100000015 | H353231 |\n",
       "| 100000015 | H353231 |\n",
       "| 100000015 | E119    |\n",
       "\n"
      ],
      "text/plain": [
       "  MBI       DIAG   \n",
       "1 100000015 H903   \n",
       "2 100000015 H3530  \n",
       "3 100000015 H3530  \n",
       "4 100000015 H353231\n",
       "5 100000015 H353231\n",
       "6 100000015 E119   "
      ]
     },
     "metadata": {},
     "output_type": "display_data"
    }
   ],
   "source": [
    "head(carrier_test)"
   ]
  },
  {
   "cell_type": "code",
   "execution_count": 114,
   "id": "042b69b3-fe96-483c-ad29-ca9a5bb5ae92",
   "metadata": {},
   "outputs": [],
   "source": [
    "find_all_diagnosis=function(data){\n",
    "    data=data[,.(\n",
    "    DESY_SORT_KEY,\n",
    "    PRNCPAL_DGNS_CD,\n",
    "    ICD_DGNS_CD1,\n",
    "    ICD_DGNS_CD2,\n",
    "    ICD_DGNS_CD3,\n",
    "    ICD_DGNS_CD4,\n",
    "    ICD_DGNS_CD5,\n",
    "    ICD_DGNS_CD6,\n",
    "    ICD_DGNS_CD7,\n",
    "    ICD_DGNS_CD8,\n",
    "    ICD_DGNS_CD9,\n",
    "    ICD_DGNS_CD10,\n",
    "    ICD_DGNS_CD11,\n",
    "    ICD_DGNS_CD12,\n",
    "    ICD_DGNS_CD13,\n",
    "    ICD_DGNS_CD14,\n",
    "    ICD_DGNS_CD15,\n",
    "    ICD_DGNS_CD16,\n",
    "    ICD_DGNS_CD17,\n",
    "    ICD_DGNS_CD18,\n",
    "    ICD_DGNS_CD19,\n",
    "    ICD_DGNS_CD20,\n",
    "    ICD_DGNS_CD21,\n",
    "    ICD_DGNS_CD22,\n",
    "    ICD_DGNS_CD23,\n",
    "    ICD_DGNS_CD24,\n",
    "    ICD_DGNS_CD25\n",
    "    )]\n",
    "    \n",
    "    result=melt(data,id.vars = \"DESY_SORT_KEY\")%>%as.data.table()\n",
    "    \n",
    "    result=result[,.(MBI=DESY_SORT_KEY,\n",
    "                     DIAG=value\n",
    "                    )]\n",
    "    \n",
    "    result=result[nchar(DIAG)>0,]\n",
    "    \n",
    "    return(result)\n",
    "    \n",
    "    \n",
    "}"
   ]
  },
  {
   "cell_type": "code",
   "execution_count": 115,
   "id": "2e3da25c-45b2-48af-b593-245351c8682f",
   "metadata": {},
   "outputs": [],
   "source": [
    "in_test=find_all_diagnosis(inpatient_data_2020[1:2,])"
   ]
  },
  {
   "cell_type": "code",
   "execution_count": 116,
   "id": "002ac5bd-eee4-4b32-b775-2d62cc665a55",
   "metadata": {},
   "outputs": [],
   "source": [
    "out_test=find_all_diagnosis(outpatient_data_2020[1:2,])"
   ]
  },
  {
   "cell_type": "code",
   "execution_count": 117,
   "id": "449a96d6-1bd9-4a9d-8ec4-0c62d25d9316",
   "metadata": {},
   "outputs": [],
   "source": [
    "combine_diagnosis=function(carrier,outpatient,inpatient){\n",
    "    data=rbind(carrier,outpatient,inpatient)\n",
    "    data=data[order(MBI)]\n",
    "    return(data)\n",
    "}"
   ]
  },
  {
   "cell_type": "code",
   "execution_count": 118,
   "id": "1639a118-0ffe-426c-91af-465da7eeac2b",
   "metadata": {},
   "outputs": [],
   "source": [
    "diag_test=combine_diagnosis(carrier_test,out_test,in_test)"
   ]
  },
  {
   "cell_type": "code",
   "execution_count": 119,
   "id": "02881118-a425-46f9-beb7-37cc394f509b",
   "metadata": {},
   "outputs": [
    {
     "data": {
      "text/html": [
       "<table class=\"dataframe\">\n",
       "<caption>A data.table: 6 × 2</caption>\n",
       "<thead>\n",
       "\t<tr><th scope=col>MBI</th><th scope=col>DIAG</th></tr>\n",
       "\t<tr><th scope=col>&lt;int&gt;</th><th scope=col>&lt;chr&gt;</th></tr>\n",
       "</thead>\n",
       "<tbody>\n",
       "\t<tr><td>100000015</td><td>H903   </td></tr>\n",
       "\t<tr><td>100000015</td><td>H3530  </td></tr>\n",
       "\t<tr><td>100000015</td><td>H3530  </td></tr>\n",
       "\t<tr><td>100000015</td><td>H353231</td></tr>\n",
       "\t<tr><td>100000015</td><td>H353231</td></tr>\n",
       "\t<tr><td>100000015</td><td>E119   </td></tr>\n",
       "</tbody>\n",
       "</table>\n"
      ],
      "text/latex": [
       "A data.table: 6 × 2\n",
       "\\begin{tabular}{ll}\n",
       " MBI & DIAG\\\\\n",
       " <int> & <chr>\\\\\n",
       "\\hline\n",
       "\t 100000015 & H903   \\\\\n",
       "\t 100000015 & H3530  \\\\\n",
       "\t 100000015 & H3530  \\\\\n",
       "\t 100000015 & H353231\\\\\n",
       "\t 100000015 & H353231\\\\\n",
       "\t 100000015 & E119   \\\\\n",
       "\\end{tabular}\n"
      ],
      "text/markdown": [
       "\n",
       "A data.table: 6 × 2\n",
       "\n",
       "| MBI &lt;int&gt; | DIAG &lt;chr&gt; |\n",
       "|---|---|\n",
       "| 100000015 | H903    |\n",
       "| 100000015 | H3530   |\n",
       "| 100000015 | H3530   |\n",
       "| 100000015 | H353231 |\n",
       "| 100000015 | H353231 |\n",
       "| 100000015 | E119    |\n",
       "\n"
      ],
      "text/plain": [
       "  MBI       DIAG   \n",
       "1 100000015 H903   \n",
       "2 100000015 H3530  \n",
       "3 100000015 H3530  \n",
       "4 100000015 H353231\n",
       "5 100000015 H353231\n",
       "6 100000015 E119   "
      ]
     },
     "metadata": {},
     "output_type": "display_data"
    }
   ],
   "source": [
    "head(diag_test)"
   ]
  },
  {
   "cell_type": "code",
   "execution_count": 123,
   "id": "c68fd8cb-b9b5-48a7-a4bc-10b846047747",
   "metadata": {},
   "outputs": [],
   "source": [
    "carrier_2013=\n",
    "carrier_data_2013[,.(\n",
    "    MBI=DESY_SORT_KEY,\n",
    "    DIAG=LINE_ICD_DGNS_CD)]\n",
    "\n",
    "carrier_2014=\n",
    "carrier_data_2014[,.(\n",
    "    MBI=DESY_SORT_KEY,\n",
    "    DIAG=LINE_ICD_DGNS_CD)]\n",
    "\n",
    "carrier_2015=\n",
    "carrier_data_2015[,.(\n",
    "    MBI=DESY_SORT_KEY,\n",
    "    DIAG=LINE_ICD_DGNS_CD)]\n",
    "\n",
    "carrier_2016=\n",
    "carrier_data_2016[,.(\n",
    "    MBI=DESY_SORT_KEY,\n",
    "    DIAG=LINE_ICD_DGNS_CD)]\n",
    "\n",
    "carrier_2017=\n",
    "carrier_data_2017[,.(\n",
    "    MBI=DESY_SORT_KEY,\n",
    "    DIAG=LINE_ICD_DGNS_CD)]\n",
    "\n",
    "carrier_2018=\n",
    "carrier_data_2018[,.(\n",
    "    MBI=DESY_SORT_KEY,\n",
    "    DIAG=LINE_ICD_DGNS_CD)]\n",
    "\n",
    "carrier_2019=\n",
    "carrier_data_2019[,.(\n",
    "    MBI=DESY_SORT_KEY,\n",
    "    DIAG=LINE_ICD_DGNS_CD)]\n",
    "\n",
    "carrier_2020=\n",
    "carrier_data_2020[,.(\n",
    "    MBI=DESY_SORT_KEY,\n",
    "    DIAG=LINE_ICD_DGNS_CD)]"
   ]
  },
  {
   "cell_type": "code",
   "execution_count": 124,
   "id": "12c9e71c-363d-4fe7-8016-39cb4501dd77",
   "metadata": {},
   "outputs": [
    {
     "data": {
      "text/html": [
       "<table class=\"dataframe\">\n",
       "<caption>A data.table: 6 × 2</caption>\n",
       "<thead>\n",
       "\t<tr><th scope=col>MBI</th><th scope=col>DIAG</th></tr>\n",
       "\t<tr><th scope=col>&lt;int&gt;</th><th scope=col>&lt;chr&gt;</th></tr>\n",
       "</thead>\n",
       "<tbody>\n",
       "\t<tr><td>100000015</td><td>496  </td></tr>\n",
       "\t<tr><td>100000015</td><td>496  </td></tr>\n",
       "\t<tr><td>100000015</td><td>496  </td></tr>\n",
       "\t<tr><td>100000015</td><td>41400</td></tr>\n",
       "\t<tr><td>100000015</td><td>41400</td></tr>\n",
       "\t<tr><td>100000015</td><td>496  </td></tr>\n",
       "</tbody>\n",
       "</table>\n"
      ],
      "text/latex": [
       "A data.table: 6 × 2\n",
       "\\begin{tabular}{ll}\n",
       " MBI & DIAG\\\\\n",
       " <int> & <chr>\\\\\n",
       "\\hline\n",
       "\t 100000015 & 496  \\\\\n",
       "\t 100000015 & 496  \\\\\n",
       "\t 100000015 & 496  \\\\\n",
       "\t 100000015 & 41400\\\\\n",
       "\t 100000015 & 41400\\\\\n",
       "\t 100000015 & 496  \\\\\n",
       "\\end{tabular}\n"
      ],
      "text/markdown": [
       "\n",
       "A data.table: 6 × 2\n",
       "\n",
       "| MBI &lt;int&gt; | DIAG &lt;chr&gt; |\n",
       "|---|---|\n",
       "| 100000015 | 496   |\n",
       "| 100000015 | 496   |\n",
       "| 100000015 | 496   |\n",
       "| 100000015 | 41400 |\n",
       "| 100000015 | 41400 |\n",
       "| 100000015 | 496   |\n",
       "\n"
      ],
      "text/plain": [
       "  MBI       DIAG \n",
       "1 100000015 496  \n",
       "2 100000015 496  \n",
       "3 100000015 496  \n",
       "4 100000015 41400\n",
       "5 100000015 41400\n",
       "6 100000015 496  "
      ]
     },
     "metadata": {},
     "output_type": "display_data"
    }
   ],
   "source": [
    "head(carrier_2013)"
   ]
  },
  {
   "cell_type": "code",
   "execution_count": 125,
   "id": "a2bb4ef8-2616-42ac-abcf-ce51b4eb7a02",
   "metadata": {},
   "outputs": [],
   "source": [
    "in_2013=find_all_diagnosis(inpatient_data_2013)\n",
    "in_2014=find_all_diagnosis(inpatient_data_2014)\n",
    "in_2015=find_all_diagnosis(inpatient_data_2015)\n",
    "in_2016=find_all_diagnosis(inpatient_data_2016)\n",
    "in_2017=find_all_diagnosis(inpatient_data_2017)\n",
    "in_2018=find_all_diagnosis(inpatient_data_2018)\n",
    "in_2019=find_all_diagnosis(inpatient_data_2019)\n",
    "in_2020=find_all_diagnosis(inpatient_data_2020)"
   ]
  },
  {
   "cell_type": "code",
   "execution_count": 126,
   "id": "2a275d5a-fc31-4907-afad-73597a97e3f3",
   "metadata": {},
   "outputs": [
    {
     "data": {
      "text/html": [
       "<table class=\"dataframe\">\n",
       "<caption>A data.table: 6 × 2</caption>\n",
       "<thead>\n",
       "\t<tr><th scope=col>MBI</th><th scope=col>DIAG</th></tr>\n",
       "\t<tr><th scope=col>&lt;int&gt;</th><th scope=col>&lt;chr&gt;</th></tr>\n",
       "</thead>\n",
       "<tbody>\n",
       "\t<tr><td>100000099</td><td>71536</td></tr>\n",
       "\t<tr><td>100000099</td><td>99812</td></tr>\n",
       "\t<tr><td>100000315</td><td>0090 </td></tr>\n",
       "\t<tr><td>100000559</td><td>7907 </td></tr>\n",
       "\t<tr><td>100000905</td><td>5990 </td></tr>\n",
       "\t<tr><td>100001177</td><td>1889 </td></tr>\n",
       "</tbody>\n",
       "</table>\n"
      ],
      "text/latex": [
       "A data.table: 6 × 2\n",
       "\\begin{tabular}{ll}\n",
       " MBI & DIAG\\\\\n",
       " <int> & <chr>\\\\\n",
       "\\hline\n",
       "\t 100000099 & 71536\\\\\n",
       "\t 100000099 & 99812\\\\\n",
       "\t 100000315 & 0090 \\\\\n",
       "\t 100000559 & 7907 \\\\\n",
       "\t 100000905 & 5990 \\\\\n",
       "\t 100001177 & 1889 \\\\\n",
       "\\end{tabular}\n"
      ],
      "text/markdown": [
       "\n",
       "A data.table: 6 × 2\n",
       "\n",
       "| MBI &lt;int&gt; | DIAG &lt;chr&gt; |\n",
       "|---|---|\n",
       "| 100000099 | 71536 |\n",
       "| 100000099 | 99812 |\n",
       "| 100000315 | 0090  |\n",
       "| 100000559 | 7907  |\n",
       "| 100000905 | 5990  |\n",
       "| 100001177 | 1889  |\n",
       "\n"
      ],
      "text/plain": [
       "  MBI       DIAG \n",
       "1 100000099 71536\n",
       "2 100000099 99812\n",
       "3 100000315 0090 \n",
       "4 100000559 7907 \n",
       "5 100000905 5990 \n",
       "6 100001177 1889 "
      ]
     },
     "metadata": {},
     "output_type": "display_data"
    }
   ],
   "source": [
    "head(in_2013)"
   ]
  },
  {
   "cell_type": "code",
   "execution_count": 127,
   "id": "eaddb3e1-eb2f-4f86-b462-e827dc3912f8",
   "metadata": {},
   "outputs": [],
   "source": [
    "out_2013=find_all_diagnosis(outpatient_data_2013)\n",
    "out_2014=find_all_diagnosis(outpatient_data_2014)\n",
    "out_2015=find_all_diagnosis(outpatient_data_2015)\n",
    "out_2016=find_all_diagnosis(outpatient_data_2016)\n",
    "out_2017=find_all_diagnosis(outpatient_data_2017)\n",
    "out_2018=find_all_diagnosis(outpatient_data_2018)\n",
    "out_2019=find_all_diagnosis(outpatient_data_2019)\n",
    "out_2020=find_all_diagnosis(outpatient_data_2020)"
   ]
  },
  {
   "cell_type": "code",
   "execution_count": 128,
   "id": "644f7332-5e6d-4b9f-8eaf-806d07e0d2b9",
   "metadata": {},
   "outputs": [
    {
     "data": {
      "text/html": [
       "<table class=\"dataframe\">\n",
       "<caption>A data.table: 6 × 2</caption>\n",
       "<thead>\n",
       "\t<tr><th scope=col>MBI</th><th scope=col>DIAG</th></tr>\n",
       "\t<tr><th scope=col>&lt;int&gt;</th><th scope=col>&lt;chr&gt;</th></tr>\n",
       "</thead>\n",
       "<tbody>\n",
       "\t<tr><td>100000015</td><td>496  </td></tr>\n",
       "\t<tr><td>100000015</td><td>496  </td></tr>\n",
       "\t<tr><td>100000015</td><td>V0481</td></tr>\n",
       "\t<tr><td>100000019</td><td>53510</td></tr>\n",
       "\t<tr><td>100000019</td><td>1541 </td></tr>\n",
       "\t<tr><td>100000019</td><td>1540 </td></tr>\n",
       "</tbody>\n",
       "</table>\n"
      ],
      "text/latex": [
       "A data.table: 6 × 2\n",
       "\\begin{tabular}{ll}\n",
       " MBI & DIAG\\\\\n",
       " <int> & <chr>\\\\\n",
       "\\hline\n",
       "\t 100000015 & 496  \\\\\n",
       "\t 100000015 & 496  \\\\\n",
       "\t 100000015 & V0481\\\\\n",
       "\t 100000019 & 53510\\\\\n",
       "\t 100000019 & 1541 \\\\\n",
       "\t 100000019 & 1540 \\\\\n",
       "\\end{tabular}\n"
      ],
      "text/markdown": [
       "\n",
       "A data.table: 6 × 2\n",
       "\n",
       "| MBI &lt;int&gt; | DIAG &lt;chr&gt; |\n",
       "|---|---|\n",
       "| 100000015 | 496   |\n",
       "| 100000015 | 496   |\n",
       "| 100000015 | V0481 |\n",
       "| 100000019 | 53510 |\n",
       "| 100000019 | 1541  |\n",
       "| 100000019 | 1540  |\n",
       "\n"
      ],
      "text/plain": [
       "  MBI       DIAG \n",
       "1 100000015 496  \n",
       "2 100000015 496  \n",
       "3 100000015 V0481\n",
       "4 100000019 53510\n",
       "5 100000019 1541 \n",
       "6 100000019 1540 "
      ]
     },
     "metadata": {},
     "output_type": "display_data"
    }
   ],
   "source": [
    "head(out_2013)"
   ]
  },
  {
   "cell_type": "code",
   "execution_count": 129,
   "id": "ea7d8a79-b78d-4902-9f4d-f66b97557df0",
   "metadata": {},
   "outputs": [],
   "source": [
    "diag_2013=combine_diagnosis(carrier_2013,out_2013,in_2013)\n",
    "diag_2014=combine_diagnosis(carrier_2014,out_2014,in_2014)\n",
    "diag_2015=combine_diagnosis(carrier_2015,out_2015,in_2015)\n",
    "diag_2016=combine_diagnosis(carrier_2016,out_2016,in_2016)\n",
    "diag_2017=combine_diagnosis(carrier_2017,out_2017,in_2017)\n",
    "diag_2018=combine_diagnosis(carrier_2018,out_2018,in_2018)\n",
    "diag_2019=combine_diagnosis(carrier_2019,out_2019,in_2019)\n",
    "diag_2020=combine_diagnosis(carrier_2020,out_2020,in_2020)"
   ]
  },
  {
   "cell_type": "code",
   "execution_count": 132,
   "id": "dafad692-6e8a-49e9-8b17-fd2b227e45d1",
   "metadata": {},
   "outputs": [
    {
     "data": {
      "text/html": [
       "<table class=\"dataframe\">\n",
       "<caption>A data.table: 6 × 2</caption>\n",
       "<thead>\n",
       "\t<tr><th scope=col>MBI</th><th scope=col>DIAG</th></tr>\n",
       "\t<tr><th scope=col>&lt;int&gt;</th><th scope=col>&lt;chr&gt;</th></tr>\n",
       "</thead>\n",
       "<tbody>\n",
       "\t<tr><td>100000015</td><td>496  </td></tr>\n",
       "\t<tr><td>100000015</td><td>496  </td></tr>\n",
       "\t<tr><td>100000015</td><td>496  </td></tr>\n",
       "\t<tr><td>100000015</td><td>41400</td></tr>\n",
       "\t<tr><td>100000015</td><td>41400</td></tr>\n",
       "\t<tr><td>100000015</td><td>496  </td></tr>\n",
       "</tbody>\n",
       "</table>\n"
      ],
      "text/latex": [
       "A data.table: 6 × 2\n",
       "\\begin{tabular}{ll}\n",
       " MBI & DIAG\\\\\n",
       " <int> & <chr>\\\\\n",
       "\\hline\n",
       "\t 100000015 & 496  \\\\\n",
       "\t 100000015 & 496  \\\\\n",
       "\t 100000015 & 496  \\\\\n",
       "\t 100000015 & 41400\\\\\n",
       "\t 100000015 & 41400\\\\\n",
       "\t 100000015 & 496  \\\\\n",
       "\\end{tabular}\n"
      ],
      "text/markdown": [
       "\n",
       "A data.table: 6 × 2\n",
       "\n",
       "| MBI &lt;int&gt; | DIAG &lt;chr&gt; |\n",
       "|---|---|\n",
       "| 100000015 | 496   |\n",
       "| 100000015 | 496   |\n",
       "| 100000015 | 496   |\n",
       "| 100000015 | 41400 |\n",
       "| 100000015 | 41400 |\n",
       "| 100000015 | 496   |\n",
       "\n"
      ],
      "text/plain": [
       "  MBI       DIAG \n",
       "1 100000015 496  \n",
       "2 100000015 496  \n",
       "3 100000015 496  \n",
       "4 100000015 41400\n",
       "5 100000015 41400\n",
       "6 100000015 496  "
      ]
     },
     "metadata": {},
     "output_type": "display_data"
    }
   ],
   "source": [
    "head(diag_2013)"
   ]
  },
  {
   "cell_type": "code",
   "execution_count": 133,
   "id": "27192a0c-0986-462e-91a3-8608a1a3de46",
   "metadata": {},
   "outputs": [],
   "source": [
    "write.csv(diag_2013,\"/work/postresearch/Shared/Projects/Farbod/hcc_data/diag_2013.csv\")\n",
    "write.csv(diag_2014,\"/work/postresearch/Shared/Projects/Farbod/hcc_data/diag_2014.csv\")\n",
    "write.csv(diag_2015,\"/work/postresearch/Shared/Projects/Farbod/hcc_data/diag_2015.csv\")\n",
    "write.csv(diag_2016,\"/work/postresearch/Shared/Projects/Farbod/hcc_data/diag_2016.csv\")\n",
    "write.csv(diag_2017,\"/work/postresearch/Shared/Projects/Farbod/hcc_data/diag_2017.csv\")\n",
    "write.csv(diag_2018,\"/work/postresearch/Shared/Projects/Farbod/hcc_data/diag_2018.csv\")\n",
    "write.csv(diag_2019,\"/work/postresearch/Shared/Projects/Farbod/hcc_data/diag_2019.csv\")\n",
    "write.csv(diag_2020,\"/work/postresearch/Shared/Projects/Farbod/hcc_data/diag_2020.csv\")"
   ]
  },
  {
   "cell_type": "markdown",
   "id": "213e4911-5139-41a4-8387-5ed27498dd35",
   "metadata": {
    "tags": []
   },
   "source": [
    "# Converting to HCC codes"
   ]
  },
  {
   "cell_type": "code",
   "execution_count": 8,
   "id": "b736b3fb-8534-487e-b49d-5268ee668ae6",
   "metadata": {
    "collapsed": true,
    "jupyter": {
     "outputs_hidden": true
    },
    "tags": []
   },
   "outputs": [
    {
     "name": "stderr",
     "output_type": "stream",
     "text": [
      "\u001b[1m\u001b[22mNew names:\n",
      "\u001b[36m•\u001b[39m `` -> `...1`\n",
      "\u001b[1mRows: \u001b[22m\u001b[34m134286683\u001b[39m \u001b[1mColumns: \u001b[22m\u001b[34m3\u001b[39m\n",
      "\u001b[36m──\u001b[39m \u001b[1mColumn specification\u001b[22m \u001b[36m────────────────────────────────────────────────────────\u001b[39m\n",
      "\u001b[1mDelimiter:\u001b[22m \",\"\n",
      "\u001b[31mchr\u001b[39m (1): DIAG\n",
      "\u001b[32mdbl\u001b[39m (2): ...1, MBI\n",
      "\n",
      "\u001b[36mℹ\u001b[39m Use `spec()` to retrieve the full column specification for this data.\n",
      "\u001b[36mℹ\u001b[39m Specify the column types or set `show_col_types = FALSE` to quiet this message.\n",
      "\u001b[1m\u001b[22mNew names:\n",
      "\u001b[36m•\u001b[39m `` -> `...1`\n",
      "\u001b[1mRows: \u001b[22m\u001b[34m136922602\u001b[39m \u001b[1mColumns: \u001b[22m\u001b[34m3\u001b[39m\n",
      "\u001b[36m──\u001b[39m \u001b[1mColumn specification\u001b[22m \u001b[36m────────────────────────────────────────────────────────\u001b[39m\n",
      "\u001b[1mDelimiter:\u001b[22m \",\"\n",
      "\u001b[31mchr\u001b[39m (1): DIAG\n",
      "\u001b[32mdbl\u001b[39m (2): ...1, MBI\n",
      "\n",
      "\u001b[36mℹ\u001b[39m Use `spec()` to retrieve the full column specification for this data.\n",
      "\u001b[36mℹ\u001b[39m Specify the column types or set `show_col_types = FALSE` to quiet this message.\n",
      "\u001b[1m\u001b[22mNew names:\n",
      "\u001b[36m•\u001b[39m `` -> `...1`\n",
      "\u001b[1mRows: \u001b[22m\u001b[34m139859054\u001b[39m \u001b[1mColumns: \u001b[22m\u001b[34m3\u001b[39m\n",
      "\u001b[36m──\u001b[39m \u001b[1mColumn specification\u001b[22m \u001b[36m────────────────────────────────────────────────────────\u001b[39m\n",
      "\u001b[1mDelimiter:\u001b[22m \",\"\n",
      "\u001b[31mchr\u001b[39m (1): DIAG\n",
      "\u001b[32mdbl\u001b[39m (2): ...1, MBI\n",
      "\n",
      "\u001b[36mℹ\u001b[39m Use `spec()` to retrieve the full column specification for this data.\n",
      "\u001b[36mℹ\u001b[39m Specify the column types or set `show_col_types = FALSE` to quiet this message.\n",
      "\u001b[1m\u001b[22mNew names:\n",
      "\u001b[36m•\u001b[39m `` -> `...1`\n",
      "\u001b[1mRows: \u001b[22m\u001b[34m141192637\u001b[39m \u001b[1mColumns: \u001b[22m\u001b[34m3\u001b[39m\n",
      "\u001b[36m──\u001b[39m \u001b[1mColumn specification\u001b[22m \u001b[36m────────────────────────────────────────────────────────\u001b[39m\n",
      "\u001b[1mDelimiter:\u001b[22m \",\"\n",
      "\u001b[31mchr\u001b[39m (1): DIAG\n",
      "\u001b[32mdbl\u001b[39m (2): ...1, MBI\n",
      "\n",
      "\u001b[36mℹ\u001b[39m Use `spec()` to retrieve the full column specification for this data.\n",
      "\u001b[36mℹ\u001b[39m Specify the column types or set `show_col_types = FALSE` to quiet this message.\n",
      "\u001b[1m\u001b[22mNew names:\n",
      "\u001b[36m•\u001b[39m `` -> `...1`\n",
      "\u001b[1mRows: \u001b[22m\u001b[34m141010363\u001b[39m \u001b[1mColumns: \u001b[22m\u001b[34m3\u001b[39m\n",
      "\u001b[36m──\u001b[39m \u001b[1mColumn specification\u001b[22m \u001b[36m────────────────────────────────────────────────────────\u001b[39m\n",
      "\u001b[1mDelimiter:\u001b[22m \",\"\n",
      "\u001b[31mchr\u001b[39m (1): DIAG\n",
      "\u001b[32mdbl\u001b[39m (2): ...1, MBI\n",
      "\n",
      "\u001b[36mℹ\u001b[39m Use `spec()` to retrieve the full column specification for this data.\n",
      "\u001b[36mℹ\u001b[39m Specify the column types or set `show_col_types = FALSE` to quiet this message.\n",
      "\u001b[1m\u001b[22mNew names:\n",
      "\u001b[36m•\u001b[39m `` -> `...1`\n",
      "\u001b[1mRows: \u001b[22m\u001b[34m142176423\u001b[39m \u001b[1mColumns: \u001b[22m\u001b[34m3\u001b[39m\n",
      "\u001b[36m──\u001b[39m \u001b[1mColumn specification\u001b[22m \u001b[36m────────────────────────────────────────────────────────\u001b[39m\n",
      "\u001b[1mDelimiter:\u001b[22m \",\"\n",
      "\u001b[31mchr\u001b[39m (1): DIAG\n",
      "\u001b[32mdbl\u001b[39m (2): ...1, MBI\n",
      "\n",
      "\u001b[36mℹ\u001b[39m Use `spec()` to retrieve the full column specification for this data.\n",
      "\u001b[36mℹ\u001b[39m Specify the column types or set `show_col_types = FALSE` to quiet this message.\n",
      "\u001b[1m\u001b[22mNew names:\n",
      "\u001b[36m•\u001b[39m `` -> `...1`\n",
      "\u001b[1mRows: \u001b[22m\u001b[34m142775994\u001b[39m \u001b[1mColumns: \u001b[22m\u001b[34m3\u001b[39m\n",
      "\u001b[36m──\u001b[39m \u001b[1mColumn specification\u001b[22m \u001b[36m────────────────────────────────────────────────────────\u001b[39m\n",
      "\u001b[1mDelimiter:\u001b[22m \",\"\n",
      "\u001b[31mchr\u001b[39m (1): DIAG\n",
      "\u001b[32mdbl\u001b[39m (2): ...1, MBI\n",
      "\n",
      "\u001b[36mℹ\u001b[39m Use `spec()` to retrieve the full column specification for this data.\n",
      "\u001b[36mℹ\u001b[39m Specify the column types or set `show_col_types = FALSE` to quiet this message.\n",
      "\u001b[1m\u001b[22mNew names:\n",
      "\u001b[36m•\u001b[39m `` -> `...1`\n",
      "\u001b[1mRows: \u001b[22m\u001b[34m123643425\u001b[39m \u001b[1mColumns: \u001b[22m\u001b[34m3\u001b[39m\n",
      "\u001b[36m──\u001b[39m \u001b[1mColumn specification\u001b[22m \u001b[36m────────────────────────────────────────────────────────\u001b[39m\n",
      "\u001b[1mDelimiter:\u001b[22m \",\"\n",
      "\u001b[31mchr\u001b[39m (1): DIAG\n",
      "\u001b[32mdbl\u001b[39m (2): ...1, MBI\n",
      "\n",
      "\u001b[36mℹ\u001b[39m Use `spec()` to retrieve the full column specification for this data.\n",
      "\u001b[36mℹ\u001b[39m Specify the column types or set `show_col_types = FALSE` to quiet this message.\n"
     ]
    }
   ],
   "source": [
    "diag_2013=vroom(\"/work/postresearch/Shared/Projects/Farbod/hcc_data/diag_2013.csv\", num_threads = numcores)%>% as.data.table()\n",
    "diag_2014=vroom(\"/work/postresearch/Shared/Projects/Farbod/hcc_data/diag_2014.csv\", num_threads = numcores)%>% as.data.table()\n",
    "diag_2015=vroom(\"/work/postresearch/Shared/Projects/Farbod/hcc_data/diag_2015.csv\", num_threads = numcores)%>% as.data.table()\n",
    "diag_2016=vroom(\"/work/postresearch/Shared/Projects/Farbod/hcc_data/diag_2016.csv\", num_threads = numcores)%>% as.data.table()\n",
    "diag_2017=vroom(\"/work/postresearch/Shared/Projects/Farbod/hcc_data/diag_2017.csv\", num_threads = numcores)%>% as.data.table()\n",
    "diag_2018=vroom(\"/work/postresearch/Shared/Projects/Farbod/hcc_data/diag_2018.csv\", num_threads = numcores)%>% as.data.table()\n",
    "diag_2019=vroom(\"/work/postresearch/Shared/Projects/Farbod/hcc_data/diag_2019.csv\", num_threads = numcores)%>% as.data.table()\n",
    "diag_2020=vroom(\"/work/postresearch/Shared/Projects/Farbod/hcc_data/diag_2020.csv\", num_threads = numcores)%>% as.data.table()"
   ]
  },
  {
   "cell_type": "code",
   "execution_count": 32,
   "id": "62a8a507-9263-49cc-984c-6ec86d2b51f5",
   "metadata": {},
   "outputs": [],
   "source": [
    "diag_2013[,date:=as.IDate(paste(\"2013\",\"-01\",\"-01\",sep=\"\"),\"%Y-%m-%d\")]\n",
    "diag_2014[,date:=as.IDate(paste(\"2014\",\"-01\",\"-01\",sep=\"\"),\"%Y-%m-%d\")]\n",
    "diag_2015[,date:=as.IDate(paste(\"2015\",\"-01\",\"-01\",sep=\"\"),\"%Y-%m-%d\")]\n",
    "diag_2016[,date:=as.IDate(paste(\"2016\",\"-01\",\"-01\",sep=\"\"),\"%Y-%m-%d\")]\n",
    "diag_2017[,date:=as.IDate(paste(\"2017\",\"-01\",\"-01\",sep=\"\"),\"%Y-%m-%d\")]\n",
    "diag_2018[,date:=as.IDate(paste(\"2018\",\"-01\",\"-01\",sep=\"\"),\"%Y-%m-%d\")]\n",
    "diag_2019[,date:=as.IDate(paste(\"2019\",\"-01\",\"-01\",sep=\"\"),\"%Y-%m-%d\")]\n",
    "diag_2020[,date:=as.IDate(paste(\"2019\",\"-01\",\"-01\",sep=\"\"),\"%Y-%m-%d\")]"
   ]
  },
  {
   "cell_type": "code",
   "execution_count": 17,
   "id": "1e0e6240-647c-44b5-9bd6-403bb225b801",
   "metadata": {},
   "outputs": [],
   "source": [
    "diag_2013[,MBI:=as.character(MBI)]\n",
    "diag_2014[,MBI:=as.character(MBI)]\n",
    "diag_2015[,MBI:=as.character(MBI)]\n",
    "diag_2016[,MBI:=as.character(MBI)]\n",
    "diag_2017[,MBI:=as.character(MBI)]\n",
    "diag_2018[,MBI:=as.character(MBI)]\n",
    "diag_2019[,MBI:=as.character(MBI)]\n",
    "diag_2020[,MBI:=as.character(MBI)]"
   ]
  },
  {
   "cell_type": "code",
   "execution_count": 27,
   "id": "5b948ff5-749f-4a5b-8eeb-aaeffc7c0338",
   "metadata": {},
   "outputs": [
    {
     "data": {
      "text/html": [
       "<table class=\"dataframe\">\n",
       "<caption>A data.table: 6 × 4</caption>\n",
       "<thead>\n",
       "\t<tr><th scope=col>...1</th><th scope=col>MBI</th><th scope=col>DIAG</th><th scope=col>date</th></tr>\n",
       "\t<tr><th scope=col>&lt;dbl&gt;</th><th scope=col>&lt;chr&gt;</th><th scope=col>&lt;chr&gt;</th><th scope=col>&lt;date&gt;</th></tr>\n",
       "</thead>\n",
       "<tbody>\n",
       "\t<tr><td>1</td><td>100000015</td><td>496  </td><td>2013-01-01</td></tr>\n",
       "\t<tr><td>2</td><td>100000015</td><td>496  </td><td>2013-01-01</td></tr>\n",
       "\t<tr><td>3</td><td>100000015</td><td>496  </td><td>2013-01-01</td></tr>\n",
       "\t<tr><td>4</td><td>100000015</td><td>41400</td><td>2013-01-01</td></tr>\n",
       "\t<tr><td>5</td><td>100000015</td><td>41400</td><td>2013-01-01</td></tr>\n",
       "\t<tr><td>6</td><td>100000015</td><td>496  </td><td>2013-01-01</td></tr>\n",
       "</tbody>\n",
       "</table>\n"
      ],
      "text/latex": [
       "A data.table: 6 × 4\n",
       "\\begin{tabular}{llll}\n",
       " ...1 & MBI & DIAG & date\\\\\n",
       " <dbl> & <chr> & <chr> & <date>\\\\\n",
       "\\hline\n",
       "\t 1 & 100000015 & 496   & 2013-01-01\\\\\n",
       "\t 2 & 100000015 & 496   & 2013-01-01\\\\\n",
       "\t 3 & 100000015 & 496   & 2013-01-01\\\\\n",
       "\t 4 & 100000015 & 41400 & 2013-01-01\\\\\n",
       "\t 5 & 100000015 & 41400 & 2013-01-01\\\\\n",
       "\t 6 & 100000015 & 496   & 2013-01-01\\\\\n",
       "\\end{tabular}\n"
      ],
      "text/markdown": [
       "\n",
       "A data.table: 6 × 4\n",
       "\n",
       "| ...1 &lt;dbl&gt; | MBI &lt;chr&gt; | DIAG &lt;chr&gt; | date &lt;date&gt; |\n",
       "|---|---|---|---|\n",
       "| 1 | 100000015 | 496   | 2013-01-01 |\n",
       "| 2 | 100000015 | 496   | 2013-01-01 |\n",
       "| 3 | 100000015 | 496   | 2013-01-01 |\n",
       "| 4 | 100000015 | 41400 | 2013-01-01 |\n",
       "| 5 | 100000015 | 41400 | 2013-01-01 |\n",
       "| 6 | 100000015 | 496   | 2013-01-01 |\n",
       "\n"
      ],
      "text/plain": [
       "  ...1 MBI       DIAG  date      \n",
       "1 1    100000015 496   2013-01-01\n",
       "2 2    100000015 496   2013-01-01\n",
       "3 3    100000015 496   2013-01-01\n",
       "4 4    100000015 41400 2013-01-01\n",
       "5 5    100000015 41400 2013-01-01\n",
       "6 6    100000015 496   2013-01-01"
      ]
     },
     "metadata": {},
     "output_type": "display_data"
    },
    {
     "data": {
      "text/html": [
       "<table class=\"dataframe\">\n",
       "<caption>A data.table: 6 × 4</caption>\n",
       "<thead>\n",
       "\t<tr><th scope=col>...1</th><th scope=col>MBI</th><th scope=col>DIAG</th><th scope=col>date</th></tr>\n",
       "\t<tr><th scope=col>&lt;dbl&gt;</th><th scope=col>&lt;chr&gt;</th><th scope=col>&lt;chr&gt;</th><th scope=col>&lt;date&gt;</th></tr>\n",
       "</thead>\n",
       "<tbody>\n",
       "\t<tr><td>123643420</td><td>499999981</td><td>W57XXXA</td><td>2020-01-01</td></tr>\n",
       "\t<tr><td>123643421</td><td>499999981</td><td>W57XXXD</td><td>2020-01-01</td></tr>\n",
       "\t<tr><td>123643422</td><td>499999981</td><td>R634   </td><td>2020-01-01</td></tr>\n",
       "\t<tr><td>123643423</td><td>499999981</td><td>R634   </td><td>2020-01-01</td></tr>\n",
       "\t<tr><td>123643424</td><td>499999981</td><td>Z6824  </td><td>2020-01-01</td></tr>\n",
       "\t<tr><td>123643425</td><td>499999981</td><td>Z6824  </td><td>2020-01-01</td></tr>\n",
       "</tbody>\n",
       "</table>\n"
      ],
      "text/latex": [
       "A data.table: 6 × 4\n",
       "\\begin{tabular}{llll}\n",
       " ...1 & MBI & DIAG & date\\\\\n",
       " <dbl> & <chr> & <chr> & <date>\\\\\n",
       "\\hline\n",
       "\t 123643420 & 499999981 & W57XXXA & 2020-01-01\\\\\n",
       "\t 123643421 & 499999981 & W57XXXD & 2020-01-01\\\\\n",
       "\t 123643422 & 499999981 & R634    & 2020-01-01\\\\\n",
       "\t 123643423 & 499999981 & R634    & 2020-01-01\\\\\n",
       "\t 123643424 & 499999981 & Z6824   & 2020-01-01\\\\\n",
       "\t 123643425 & 499999981 & Z6824   & 2020-01-01\\\\\n",
       "\\end{tabular}\n"
      ],
      "text/markdown": [
       "\n",
       "A data.table: 6 × 4\n",
       "\n",
       "| ...1 &lt;dbl&gt; | MBI &lt;chr&gt; | DIAG &lt;chr&gt; | date &lt;date&gt; |\n",
       "|---|---|---|---|\n",
       "| 123643420 | 499999981 | W57XXXA | 2020-01-01 |\n",
       "| 123643421 | 499999981 | W57XXXD | 2020-01-01 |\n",
       "| 123643422 | 499999981 | R634    | 2020-01-01 |\n",
       "| 123643423 | 499999981 | R634    | 2020-01-01 |\n",
       "| 123643424 | 499999981 | Z6824   | 2020-01-01 |\n",
       "| 123643425 | 499999981 | Z6824   | 2020-01-01 |\n",
       "\n"
      ],
      "text/plain": [
       "  ...1      MBI       DIAG    date      \n",
       "1 123643420 499999981 W57XXXA 2020-01-01\n",
       "2 123643421 499999981 W57XXXD 2020-01-01\n",
       "3 123643422 499999981 R634    2020-01-01\n",
       "4 123643423 499999981 R634    2020-01-01\n",
       "5 123643424 499999981 Z6824   2020-01-01\n",
       "6 123643425 499999981 Z6824   2020-01-01"
      ]
     },
     "metadata": {},
     "output_type": "display_data"
    }
   ],
   "source": [
    "head(diag_2013)\n",
    "tail(diag_2020)"
   ]
  },
  {
   "cell_type": "code",
   "execution_count": 34,
   "id": "7c330d85-60a2-430f-a13c-a95518ac3477",
   "metadata": {},
   "outputs": [
    {
     "data": {
      "text/html": [
       "<table class=\"dataframe\">\n",
       "<caption>A data.frame: 2 × 3</caption>\n",
       "<thead>\n",
       "\t<tr><th></th><th scope=col>MBI</th><th scope=col>date</th><th scope=col>hcc</th></tr>\n",
       "\t<tr><th></th><th scope=col>&lt;chr&gt;</th><th scope=col>&lt;date&gt;</th><th scope=col>&lt;dbl&gt;</th></tr>\n",
       "</thead>\n",
       "<tbody>\n",
       "\t<tr><th scope=row>1</th><td>100000015</td><td>2013-01-01</td><td>111</td></tr>\n",
       "\t<tr><th scope=row>2</th><td>100000015</td><td>2013-01-01</td><td>124</td></tr>\n",
       "</tbody>\n",
       "</table>\n"
      ],
      "text/latex": [
       "A data.frame: 2 × 3\n",
       "\\begin{tabular}{r|lll}\n",
       "  & MBI & date & hcc\\\\\n",
       "  & <chr> & <date> & <dbl>\\\\\n",
       "\\hline\n",
       "\t1 & 100000015 & 2013-01-01 & 111\\\\\n",
       "\t2 & 100000015 & 2013-01-01 & 124\\\\\n",
       "\\end{tabular}\n"
      ],
      "text/markdown": [
       "\n",
       "A data.frame: 2 × 3\n",
       "\n",
       "| <!--/--> | MBI &lt;chr&gt; | date &lt;date&gt; | hcc &lt;dbl&gt; |\n",
       "|---|---|---|---|\n",
       "| 1 | 100000015 | 2013-01-01 | 111 |\n",
       "| 2 | 100000015 | 2013-01-01 | 124 |\n",
       "\n"
      ],
      "text/plain": [
       "  MBI       date       hcc\n",
       "1 100000015 2013-01-01 111\n",
       "2 100000015 2013-01-01 124"
      ]
     },
     "metadata": {},
     "output_type": "display_data"
    }
   ],
   "source": [
    "comorbid_hcc(as.data.frame(diag_2013[MBI==100000015,]),\n",
    "             date_name = \"date\",\n",
    "             visit_name = \"MBI\",\n",
    "             icd_name = \"DIAG\"\n",
    "            )"
   ]
  },
  {
   "cell_type": "code",
   "execution_count": 35,
   "id": "72c755e7-1004-4ea4-a9ae-d6f0c5ff0b38",
   "metadata": {},
   "outputs": [
    {
     "data": {
      "text/html": [
       "<table class=\"dataframe\">\n",
       "<caption>A data.frame: 3 × 3</caption>\n",
       "<thead>\n",
       "\t<tr><th></th><th scope=col>MBI</th><th scope=col>date</th><th scope=col>hcc</th></tr>\n",
       "\t<tr><th></th><th scope=col>&lt;chr&gt;</th><th scope=col>&lt;date&gt;</th><th scope=col>&lt;dbl&gt;</th></tr>\n",
       "</thead>\n",
       "<tbody>\n",
       "\t<tr><th scope=row>1</th><td>100000015</td><td>2015-01-01</td><td> 19</td></tr>\n",
       "\t<tr><th scope=row>2</th><td>100000015</td><td>2015-01-01</td><td>111</td></tr>\n",
       "\t<tr><th scope=row>3</th><td>100000015</td><td>2015-01-01</td><td>124</td></tr>\n",
       "</tbody>\n",
       "</table>\n"
      ],
      "text/latex": [
       "A data.frame: 3 × 3\n",
       "\\begin{tabular}{r|lll}\n",
       "  & MBI & date & hcc\\\\\n",
       "  & <chr> & <date> & <dbl>\\\\\n",
       "\\hline\n",
       "\t1 & 100000015 & 2015-01-01 &  19\\\\\n",
       "\t2 & 100000015 & 2015-01-01 & 111\\\\\n",
       "\t3 & 100000015 & 2015-01-01 & 124\\\\\n",
       "\\end{tabular}\n"
      ],
      "text/markdown": [
       "\n",
       "A data.frame: 3 × 3\n",
       "\n",
       "| <!--/--> | MBI &lt;chr&gt; | date &lt;date&gt; | hcc &lt;dbl&gt; |\n",
       "|---|---|---|---|\n",
       "| 1 | 100000015 | 2015-01-01 |  19 |\n",
       "| 2 | 100000015 | 2015-01-01 | 111 |\n",
       "| 3 | 100000015 | 2015-01-01 | 124 |\n",
       "\n"
      ],
      "text/plain": [
       "  MBI       date       hcc\n",
       "1 100000015 2015-01-01  19\n",
       "2 100000015 2015-01-01 111\n",
       "3 100000015 2015-01-01 124"
      ]
     },
     "metadata": {},
     "output_type": "display_data"
    }
   ],
   "source": [
    "comorbid_hcc(as.data.frame(diag_2015[MBI==100000015,]),\n",
    "             date_name = \"date\",\n",
    "             visit_name = \"MBI\",\n",
    "             icd_name = \"DIAG\"\n",
    "            )"
   ]
  },
  {
   "cell_type": "code",
   "execution_count": null,
   "id": "9ee81544-a92e-4e02-8956-48580992c1d8",
   "metadata": {},
   "outputs": [],
   "source": [
    "hcc_diag_2013=comorbid_hcc(as.data.frame(diag_2013),\n",
    "             date_name = \"date\",\n",
    "             visit_name = \"MBI\",\n",
    "             icd_name = \"DIAG\"\n",
    "            )\n",
    "hcc_diag_2014=comorbid_hcc(as.data.frame(diag_2014),\n",
    "             date_name = \"date\",\n",
    "             visit_name = \"MBI\",\n",
    "             icd_name = \"DIAG\"\n",
    "            )\n",
    "hcc_diag_2015=comorbid_hcc(as.data.frame(diag_2015),\n",
    "             date_name = \"date\",\n",
    "             visit_name = \"MBI\",\n",
    "             icd_name = \"DIAG\"\n",
    "            )\n",
    "hcc_diag_2016=comorbid_hcc(as.data.frame(diag_2016),\n",
    "             date_name = \"date\",\n",
    "             visit_name = \"MBI\",\n",
    "             icd_name = \"DIAG\"\n",
    "            )\n",
    "hcc_diag_2017=comorbid_hcc(as.data.frame(diag_2017),\n",
    "             date_name = \"date\",\n",
    "             visit_name = \"MBI\",\n",
    "             icd_name = \"DIAG\"\n",
    "            )\n",
    "hcc_diag_2018=comorbid_hcc(as.data.frame(diag_2018),\n",
    "             date_name = \"date\",\n",
    "             visit_name = \"MBI\",\n",
    "             icd_name = \"DIAG\"\n",
    "            )\n",
    "hcc_diag_2019=comorbid_hcc(as.data.frame(diag_2019),\n",
    "             date_name = \"date\",\n",
    "             visit_name = \"MBI\",\n",
    "             icd_name = \"DIAG\"\n",
    "            )\n",
    "hcc_diag_2020=comorbid_hcc(as.data.frame(diag_2020),\n",
    "             date_name = \"date\",\n",
    "             visit_name = \"MBI\",\n",
    "             icd_name = \"DIAG\"\n",
    "            )"
   ]
  },
  {
   "cell_type": "code",
   "execution_count": 112,
   "id": "7fbb6193-5e59-41b4-b855-392a450020ac",
   "metadata": {
    "tags": []
   },
   "outputs": [
    {
     "name": "stderr",
     "output_type": "stream",
     "text": [
      "\u001b[1m\u001b[22mNew names:\n",
      "\u001b[36m•\u001b[39m `` -> `...1`\n",
      "\u001b[1mRows: \u001b[22m\u001b[34m3443527\u001b[39m \u001b[1mColumns: \u001b[22m\u001b[34m4\u001b[39m\n",
      "\u001b[36m──\u001b[39m \u001b[1mColumn specification\u001b[22m \u001b[36m────────────────────────────────────────────────────────\u001b[39m\n",
      "\u001b[1mDelimiter:\u001b[22m \",\"\n",
      "\u001b[32mdbl\u001b[39m  (3): ...1, MBI, hcc\n",
      "\u001b[34mdate\u001b[39m (1): date\n",
      "\n",
      "\u001b[36mℹ\u001b[39m Use `spec()` to retrieve the full column specification for this data.\n",
      "\u001b[36mℹ\u001b[39m Specify the column types or set `show_col_types = FALSE` to quiet this message.\n",
      "\u001b[1m\u001b[22mNew names:\n",
      "\u001b[36m•\u001b[39m `` -> `...1`\n",
      "\u001b[1mRows: \u001b[22m\u001b[34m3104411\u001b[39m \u001b[1mColumns: \u001b[22m\u001b[34m4\u001b[39m\n",
      "\u001b[36m──\u001b[39m \u001b[1mColumn specification\u001b[22m \u001b[36m────────────────────────────────────────────────────────\u001b[39m\n",
      "\u001b[1mDelimiter:\u001b[22m \",\"\n",
      "\u001b[32mdbl\u001b[39m  (3): ...1, MBI, hcc\n",
      "\u001b[34mdate\u001b[39m (1): date\n",
      "\n",
      "\u001b[36mℹ\u001b[39m Use `spec()` to retrieve the full column specification for this data.\n",
      "\u001b[36mℹ\u001b[39m Specify the column types or set `show_col_types = FALSE` to quiet this message.\n",
      "\u001b[1m\u001b[22mNew names:\n",
      "\u001b[36m•\u001b[39m `` -> `...1`\n",
      "\u001b[1mRows: \u001b[22m\u001b[34m2710744\u001b[39m \u001b[1mColumns: \u001b[22m\u001b[34m4\u001b[39m\n",
      "\u001b[36m──\u001b[39m \u001b[1mColumn specification\u001b[22m \u001b[36m────────────────────────────────────────────────────────\u001b[39m\n",
      "\u001b[1mDelimiter:\u001b[22m \",\"\n",
      "\u001b[32mdbl\u001b[39m  (3): ...1, MBI, hcc\n",
      "\u001b[34mdate\u001b[39m (1): date\n",
      "\n",
      "\u001b[36mℹ\u001b[39m Use `spec()` to retrieve the full column specification for this data.\n",
      "\u001b[36mℹ\u001b[39m Specify the column types or set `show_col_types = FALSE` to quiet this message.\n",
      "\u001b[1m\u001b[22mNew names:\n",
      "\u001b[36m•\u001b[39m `` -> `...1`\n",
      "\u001b[1mRows: \u001b[22m\u001b[34m3233288\u001b[39m \u001b[1mColumns: \u001b[22m\u001b[34m4\u001b[39m\n",
      "\u001b[36m──\u001b[39m \u001b[1mColumn specification\u001b[22m \u001b[36m────────────────────────────────────────────────────────\u001b[39m\n",
      "\u001b[1mDelimiter:\u001b[22m \",\"\n",
      "\u001b[32mdbl\u001b[39m  (3): ...1, MBI, hcc\n",
      "\u001b[34mdate\u001b[39m (1): date\n",
      "\n",
      "\u001b[36mℹ\u001b[39m Use `spec()` to retrieve the full column specification for this data.\n",
      "\u001b[36mℹ\u001b[39m Specify the column types or set `show_col_types = FALSE` to quiet this message.\n",
      "\u001b[1m\u001b[22mNew names:\n",
      "\u001b[36m•\u001b[39m `` -> `...1`\n",
      "\u001b[1mRows: \u001b[22m\u001b[34m3285022\u001b[39m \u001b[1mColumns: \u001b[22m\u001b[34m4\u001b[39m\n",
      "\u001b[36m──\u001b[39m \u001b[1mColumn specification\u001b[22m \u001b[36m────────────────────────────────────────────────────────\u001b[39m\n",
      "\u001b[1mDelimiter:\u001b[22m \",\"\n",
      "\u001b[32mdbl\u001b[39m  (3): ...1, MBI, hcc\n",
      "\u001b[34mdate\u001b[39m (1): date\n",
      "\n",
      "\u001b[36mℹ\u001b[39m Use `spec()` to retrieve the full column specification for this data.\n",
      "\u001b[36mℹ\u001b[39m Specify the column types or set `show_col_types = FALSE` to quiet this message.\n",
      "\u001b[1m\u001b[22mNew names:\n",
      "\u001b[36m•\u001b[39m `` -> `...1`\n",
      "\u001b[1mRows: \u001b[22m\u001b[34m3313484\u001b[39m \u001b[1mColumns: \u001b[22m\u001b[34m4\u001b[39m\n",
      "\u001b[36m──\u001b[39m \u001b[1mColumn specification\u001b[22m \u001b[36m────────────────────────────────────────────────────────\u001b[39m\n",
      "\u001b[1mDelimiter:\u001b[22m \",\"\n",
      "\u001b[32mdbl\u001b[39m  (3): ...1, MBI, hcc\n",
      "\u001b[34mdate\u001b[39m (1): date\n",
      "\n",
      "\u001b[36mℹ\u001b[39m Use `spec()` to retrieve the full column specification for this data.\n",
      "\u001b[36mℹ\u001b[39m Specify the column types or set `show_col_types = FALSE` to quiet this message.\n",
      "\u001b[1m\u001b[22mNew names:\n",
      "\u001b[36m•\u001b[39m `` -> `...1`\n",
      "\u001b[1mRows: \u001b[22m\u001b[34m3813314\u001b[39m \u001b[1mColumns: \u001b[22m\u001b[34m4\u001b[39m\n",
      "\u001b[36m──\u001b[39m \u001b[1mColumn specification\u001b[22m \u001b[36m────────────────────────────────────────────────────────\u001b[39m\n",
      "\u001b[1mDelimiter:\u001b[22m \",\"\n",
      "\u001b[32mdbl\u001b[39m  (3): ...1, MBI, hcc\n",
      "\u001b[34mdate\u001b[39m (1): date\n",
      "\n",
      "\u001b[36mℹ\u001b[39m Use `spec()` to retrieve the full column specification for this data.\n",
      "\u001b[36mℹ\u001b[39m Specify the column types or set `show_col_types = FALSE` to quiet this message.\n",
      "\u001b[1m\u001b[22mNew names:\n",
      "\u001b[36m•\u001b[39m `` -> `...1`\n",
      "\u001b[1mRows: \u001b[22m\u001b[34m3473769\u001b[39m \u001b[1mColumns: \u001b[22m\u001b[34m4\u001b[39m\n",
      "\u001b[36m──\u001b[39m \u001b[1mColumn specification\u001b[22m \u001b[36m────────────────────────────────────────────────────────\u001b[39m\n",
      "\u001b[1mDelimiter:\u001b[22m \",\"\n",
      "\u001b[32mdbl\u001b[39m  (3): ...1, MBI, hcc\n",
      "\u001b[34mdate\u001b[39m (1): date\n",
      "\n",
      "\u001b[36mℹ\u001b[39m Use `spec()` to retrieve the full column specification for this data.\n",
      "\u001b[36mℹ\u001b[39m Specify the column types or set `show_col_types = FALSE` to quiet this message.\n"
     ]
    }
   ],
   "source": [
    "hcc_diag_2013=vroom(\"/work/postresearch/Shared/Projects/Farbod/hcc_data/hcc_diag_2013.csv\",num_threads = numcores)%>%as.data.table()\n",
    "hcc_diag_2014=vroom(\"/work/postresearch/Shared/Projects/Farbod/hcc_data/hcc_diag_2014.csv\",num_threads = numcores)%>%as.data.table()\n",
    "hcc_diag_2015=vroom(\"/work/postresearch/Shared/Projects/Farbod/hcc_data/hcc_diag_2015.csv\",num_threads = numcores)%>%as.data.table()\n",
    "hcc_diag_2016=vroom(\"/work/postresearch/Shared/Projects/Farbod/hcc_data/hcc_diag_2016.csv\",num_threads = numcores)%>%as.data.table()\n",
    "hcc_diag_2017=vroom(\"/work/postresearch/Shared/Projects/Farbod/hcc_data/hcc_diag_2017.csv\",num_threads = numcores)%>%as.data.table()\n",
    "hcc_diag_2018=vroom(\"/work/postresearch/Shared/Projects/Farbod/hcc_data/hcc_diag_2018.csv\",num_threads = numcores)%>%as.data.table()\n",
    "hcc_diag_2019=vroom(\"/work/postresearch/Shared/Projects/Farbod/hcc_data/hcc_diag_2019.csv\",num_threads = numcores)%>%as.data.table()\n",
    "hcc_diag_2020=vroom(\"/work/postresearch/Shared/Projects/Farbod/hcc_data/hcc_diag_2020.csv\",num_threads = numcores)%>%as.data.table()"
   ]
  },
  {
   "cell_type": "code",
   "execution_count": 113,
   "id": "003d4e9a-fb2c-4d1b-8d53-0a38769a028a",
   "metadata": {},
   "outputs": [],
   "source": [
    "hcc_diag_2013=hcc_diag_2013[,.(MBI=as.factor(MBI),hcc)]\n",
    "hcc_diag_2014=hcc_diag_2014[,.(MBI=as.factor(MBI),hcc)]\n",
    "hcc_diag_2015=hcc_diag_2015[,.(MBI=as.factor(MBI),hcc)]\n",
    "hcc_diag_2016=hcc_diag_2016[,.(MBI=as.factor(MBI),hcc)]\n",
    "hcc_diag_2017=hcc_diag_2017[,.(MBI=as.factor(MBI),hcc)]\n",
    "hcc_diag_2018=hcc_diag_2018[,.(MBI=as.factor(MBI),hcc)]\n",
    "hcc_diag_2019=hcc_diag_2019[,.(MBI=as.factor(MBI),hcc)]\n",
    "hcc_diag_2020=hcc_diag_2020[,.(MBI=as.factor(MBI),hcc)]"
   ]
  },
  {
   "cell_type": "code",
   "execution_count": 122,
   "id": "1709ba23-2e86-4881-9372-0fd1f12fea86",
   "metadata": {},
   "outputs": [
    {
     "data": {
      "text/html": [
       "<table class=\"dataframe\">\n",
       "<caption>A data.table: 2 × 2</caption>\n",
       "<thead>\n",
       "\t<tr><th scope=col>MBI</th><th scope=col>hcc</th></tr>\n",
       "\t<tr><th scope=col>&lt;fct&gt;</th><th scope=col>&lt;dbl&gt;</th></tr>\n",
       "</thead>\n",
       "<tbody>\n",
       "\t<tr><td>100000015</td><td>111</td></tr>\n",
       "\t<tr><td>100000015</td><td>124</td></tr>\n",
       "</tbody>\n",
       "</table>\n"
      ],
      "text/latex": [
       "A data.table: 2 × 2\n",
       "\\begin{tabular}{ll}\n",
       " MBI & hcc\\\\\n",
       " <fct> & <dbl>\\\\\n",
       "\\hline\n",
       "\t 100000015 & 111\\\\\n",
       "\t 100000015 & 124\\\\\n",
       "\\end{tabular}\n"
      ],
      "text/markdown": [
       "\n",
       "A data.table: 2 × 2\n",
       "\n",
       "| MBI &lt;fct&gt; | hcc &lt;dbl&gt; |\n",
       "|---|---|\n",
       "| 100000015 | 111 |\n",
       "| 100000015 | 124 |\n",
       "\n"
      ],
      "text/plain": [
       "  MBI       hcc\n",
       "1 100000015 111\n",
       "2 100000015 124"
      ]
     },
     "metadata": {},
     "output_type": "display_data"
    },
    {
     "data": {
      "text/html": [
       "<table class=\"dataframe\">\n",
       "<caption>A data.table: 3 × 2</caption>\n",
       "<thead>\n",
       "\t<tr><th scope=col>MBI</th><th scope=col>hcc</th></tr>\n",
       "\t<tr><th scope=col>&lt;fct&gt;</th><th scope=col>&lt;dbl&gt;</th></tr>\n",
       "</thead>\n",
       "<tbody>\n",
       "\t<tr><td>100000015</td><td> 19</td></tr>\n",
       "\t<tr><td>100000015</td><td>111</td></tr>\n",
       "\t<tr><td>100000015</td><td>124</td></tr>\n",
       "</tbody>\n",
       "</table>\n"
      ],
      "text/latex": [
       "A data.table: 3 × 2\n",
       "\\begin{tabular}{ll}\n",
       " MBI & hcc\\\\\n",
       " <fct> & <dbl>\\\\\n",
       "\\hline\n",
       "\t 100000015 &  19\\\\\n",
       "\t 100000015 & 111\\\\\n",
       "\t 100000015 & 124\\\\\n",
       "\\end{tabular}\n"
      ],
      "text/markdown": [
       "\n",
       "A data.table: 3 × 2\n",
       "\n",
       "| MBI &lt;fct&gt; | hcc &lt;dbl&gt; |\n",
       "|---|---|\n",
       "| 100000015 |  19 |\n",
       "| 100000015 | 111 |\n",
       "| 100000015 | 124 |\n",
       "\n"
      ],
      "text/plain": [
       "  MBI       hcc\n",
       "1 100000015  19\n",
       "2 100000015 111\n",
       "3 100000015 124"
      ]
     },
     "metadata": {},
     "output_type": "display_data"
    },
    {
     "data": {
      "text/html": [
       "<table class=\"dataframe\">\n",
       "<caption>A data.table: 4 × 2</caption>\n",
       "<thead>\n",
       "\t<tr><th scope=col>MBI</th><th scope=col>hcc</th></tr>\n",
       "\t<tr><th scope=col>&lt;fct&gt;</th><th scope=col>&lt;dbl&gt;</th></tr>\n",
       "</thead>\n",
       "<tbody>\n",
       "\t<tr><td>100000015</td><td> 18</td></tr>\n",
       "\t<tr><td>100000015</td><td> 19</td></tr>\n",
       "\t<tr><td>100000015</td><td>111</td></tr>\n",
       "\t<tr><td>100000015</td><td>124</td></tr>\n",
       "</tbody>\n",
       "</table>\n"
      ],
      "text/latex": [
       "A data.table: 4 × 2\n",
       "\\begin{tabular}{ll}\n",
       " MBI & hcc\\\\\n",
       " <fct> & <dbl>\\\\\n",
       "\\hline\n",
       "\t 100000015 &  18\\\\\n",
       "\t 100000015 &  19\\\\\n",
       "\t 100000015 & 111\\\\\n",
       "\t 100000015 & 124\\\\\n",
       "\\end{tabular}\n"
      ],
      "text/markdown": [
       "\n",
       "A data.table: 4 × 2\n",
       "\n",
       "| MBI &lt;fct&gt; | hcc &lt;dbl&gt; |\n",
       "|---|---|\n",
       "| 100000015 |  18 |\n",
       "| 100000015 |  19 |\n",
       "| 100000015 | 111 |\n",
       "| 100000015 | 124 |\n",
       "\n"
      ],
      "text/plain": [
       "  MBI       hcc\n",
       "1 100000015  18\n",
       "2 100000015  19\n",
       "3 100000015 111\n",
       "4 100000015 124"
      ]
     },
     "metadata": {},
     "output_type": "display_data"
    }
   ],
   "source": [
    "hcc_diag_2013[MBI==100000015]\n",
    "hcc_diag_2015[MBI==100000015]\n",
    "hcc_diag_2020[MBI==100000015]"
   ]
  },
  {
   "cell_type": "code",
   "execution_count": 116,
   "id": "78e338b1-a666-4c8f-9471-2495e0723842",
   "metadata": {
    "tags": []
   },
   "outputs": [],
   "source": [
    "hcc_diag_2013_wide = dcast(hcc_diag_2013,MBI~hcc,length)\n",
    "hcc_diag_2014_wide = dcast(hcc_diag_2014,MBI~hcc,length)\n",
    "hcc_diag_2015_wide = dcast(hcc_diag_2015,MBI~hcc,length)\n",
    "hcc_diag_2016_wide = dcast(hcc_diag_2016,MBI~hcc,length)\n",
    "hcc_diag_2017_wide = dcast(hcc_diag_2017,MBI~hcc,length)\n",
    "hcc_diag_2018_wide = dcast(hcc_diag_2018,MBI~hcc,length)\n",
    "hcc_diag_2019_wide = dcast(hcc_diag_2019,MBI~hcc,length)\n",
    "hcc_diag_2020_wide = dcast(hcc_diag_2020,MBI~hcc,length)"
   ]
  },
  {
   "cell_type": "code",
   "execution_count": 121,
   "id": "211e5b2b-3e93-4b35-84ce-0d84e9d9ef03",
   "metadata": {},
   "outputs": [
    {
     "data": {
      "text/html": [
       "<table class=\"dataframe\">\n",
       "<caption>A data.table: 1 × 88</caption>\n",
       "<thead>\n",
       "\t<tr><th scope=col>MBI</th><th scope=col>1</th><th scope=col>2</th><th scope=col>6</th><th scope=col>8</th><th scope=col>9</th><th scope=col>10</th><th scope=col>11</th><th scope=col>12</th><th scope=col>17</th><th scope=col>18</th><th scope=col>19</th><th scope=col>21</th><th scope=col>22</th><th scope=col>23</th><th scope=col>27</th><th scope=col>28</th><th scope=col>29</th><th scope=col>33</th><th scope=col>34</th><th scope=col>35</th><th scope=col>39</th><th scope=col>40</th><th scope=col>46</th><th scope=col>47</th><th scope=col>48</th><th scope=col>51</th><th scope=col>52</th><th scope=col>54</th><th scope=col>55</th><th scope=col>57</th><th scope=col>58</th><th scope=col>70</th><th scope=col>71</th><th scope=col>72</th><th scope=col>73</th><th scope=col>74</th><th scope=col>75</th><th scope=col>76</th><th scope=col>77</th><th scope=col>78</th><th scope=col>79</th><th scope=col>80</th><th scope=col>82</th><th scope=col>83</th><th scope=col>84</th><th scope=col>85</th><th scope=col>86</th><th scope=col>87</th><th scope=col>88</th><th scope=col>96</th><th scope=col>99</th><th scope=col>100</th><th scope=col>103</th><th scope=col>104</th><th scope=col>106</th><th scope=col>107</th><th scope=col>108</th><th scope=col>110</th><th scope=col>111</th><th scope=col>112</th><th scope=col>114</th><th scope=col>115</th><th scope=col>122</th><th scope=col>124</th><th scope=col>134</th><th scope=col>135</th><th scope=col>136</th><th scope=col>137</th><th scope=col>138</th><th scope=col>139</th><th scope=col>140</th><th scope=col>141</th><th scope=col>157</th><th scope=col>158</th><th scope=col>159</th><th scope=col>160</th><th scope=col>161</th><th scope=col>162</th><th scope=col>166</th><th scope=col>167</th><th scope=col>169</th><th scope=col>170</th><th scope=col>173</th><th scope=col>176</th><th scope=col>186</th><th scope=col>188</th><th scope=col>189</th></tr>\n",
       "\t<tr><th scope=col>&lt;fct&gt;</th><th scope=col>&lt;int&gt;</th><th scope=col>&lt;int&gt;</th><th scope=col>&lt;int&gt;</th><th scope=col>&lt;int&gt;</th><th scope=col>&lt;int&gt;</th><th scope=col>&lt;int&gt;</th><th scope=col>&lt;int&gt;</th><th scope=col>&lt;int&gt;</th><th scope=col>&lt;int&gt;</th><th scope=col>&lt;int&gt;</th><th scope=col>&lt;int&gt;</th><th scope=col>&lt;int&gt;</th><th scope=col>&lt;int&gt;</th><th scope=col>&lt;int&gt;</th><th scope=col>&lt;int&gt;</th><th scope=col>&lt;int&gt;</th><th scope=col>&lt;int&gt;</th><th scope=col>&lt;int&gt;</th><th scope=col>&lt;int&gt;</th><th scope=col>&lt;int&gt;</th><th scope=col>&lt;int&gt;</th><th scope=col>&lt;int&gt;</th><th scope=col>&lt;int&gt;</th><th scope=col>&lt;int&gt;</th><th scope=col>&lt;int&gt;</th><th scope=col>&lt;int&gt;</th><th scope=col>&lt;int&gt;</th><th scope=col>&lt;int&gt;</th><th scope=col>&lt;int&gt;</th><th scope=col>&lt;int&gt;</th><th scope=col>&lt;int&gt;</th><th scope=col>&lt;int&gt;</th><th scope=col>&lt;int&gt;</th><th scope=col>&lt;int&gt;</th><th scope=col>&lt;int&gt;</th><th scope=col>&lt;int&gt;</th><th scope=col>&lt;int&gt;</th><th scope=col>&lt;int&gt;</th><th scope=col>&lt;int&gt;</th><th scope=col>&lt;int&gt;</th><th scope=col>&lt;int&gt;</th><th scope=col>&lt;int&gt;</th><th scope=col>&lt;int&gt;</th><th scope=col>&lt;int&gt;</th><th scope=col>&lt;int&gt;</th><th scope=col>&lt;int&gt;</th><th scope=col>&lt;int&gt;</th><th scope=col>&lt;int&gt;</th><th scope=col>&lt;int&gt;</th><th scope=col>&lt;int&gt;</th><th scope=col>&lt;int&gt;</th><th scope=col>&lt;int&gt;</th><th scope=col>&lt;int&gt;</th><th scope=col>&lt;int&gt;</th><th scope=col>&lt;int&gt;</th><th scope=col>&lt;int&gt;</th><th scope=col>&lt;int&gt;</th><th scope=col>&lt;int&gt;</th><th scope=col>&lt;int&gt;</th><th scope=col>&lt;int&gt;</th><th scope=col>&lt;int&gt;</th><th scope=col>&lt;int&gt;</th><th scope=col>&lt;int&gt;</th><th scope=col>&lt;int&gt;</th><th scope=col>&lt;int&gt;</th><th scope=col>&lt;int&gt;</th><th scope=col>&lt;int&gt;</th><th scope=col>&lt;int&gt;</th><th scope=col>&lt;int&gt;</th><th scope=col>&lt;int&gt;</th><th scope=col>&lt;int&gt;</th><th scope=col>&lt;int&gt;</th><th scope=col>&lt;int&gt;</th><th scope=col>&lt;int&gt;</th><th scope=col>&lt;int&gt;</th><th scope=col>&lt;int&gt;</th><th scope=col>&lt;int&gt;</th><th scope=col>&lt;int&gt;</th><th scope=col>&lt;int&gt;</th><th scope=col>&lt;int&gt;</th><th scope=col>&lt;int&gt;</th><th scope=col>&lt;int&gt;</th><th scope=col>&lt;int&gt;</th><th scope=col>&lt;int&gt;</th><th scope=col>&lt;int&gt;</th><th scope=col>&lt;int&gt;</th><th scope=col>&lt;int&gt;</th></tr>\n",
       "</thead>\n",
       "<tbody>\n",
       "\t<tr><td>100000015</td><td>0</td><td>0</td><td>0</td><td>0</td><td>0</td><td>0</td><td>0</td><td>0</td><td>0</td><td>0</td><td>0</td><td>0</td><td>0</td><td>0</td><td>0</td><td>0</td><td>0</td><td>0</td><td>0</td><td>0</td><td>0</td><td>0</td><td>0</td><td>0</td><td>0</td><td>0</td><td>0</td><td>0</td><td>0</td><td>0</td><td>0</td><td>0</td><td>0</td><td>0</td><td>0</td><td>0</td><td>0</td><td>0</td><td>0</td><td>0</td><td>0</td><td>0</td><td>0</td><td>0</td><td>0</td><td>0</td><td>0</td><td>0</td><td>0</td><td>0</td><td>0</td><td>0</td><td>0</td><td>0</td><td>0</td><td>0</td><td>0</td><td>0</td><td>1</td><td>0</td><td>0</td><td>0</td><td>0</td><td>1</td><td>0</td><td>0</td><td>0</td><td>0</td><td>0</td><td>0</td><td>0</td><td>0</td><td>0</td><td>0</td><td>0</td><td>0</td><td>0</td><td>0</td><td>0</td><td>0</td><td>0</td><td>0</td><td>0</td><td>0</td><td>0</td><td>0</td><td>0</td></tr>\n",
       "</tbody>\n",
       "</table>\n"
      ],
      "text/latex": [
       "A data.table: 1 × 88\n",
       "\\begin{tabular}{llllllllllllllllllllllllllllllllllllllllllllllllllllllllllllllllllllllllllllllllllllllll}\n",
       " MBI & 1 & 2 & 6 & 8 & 9 & 10 & 11 & 12 & 17 & 18 & 19 & 21 & 22 & 23 & 27 & 28 & 29 & 33 & 34 & 35 & 39 & 40 & 46 & 47 & 48 & 51 & 52 & 54 & 55 & 57 & 58 & 70 & 71 & 72 & 73 & 74 & 75 & 76 & 77 & 78 & 79 & 80 & 82 & 83 & 84 & 85 & 86 & 87 & 88 & 96 & 99 & 100 & 103 & 104 & 106 & 107 & 108 & 110 & 111 & 112 & 114 & 115 & 122 & 124 & 134 & 135 & 136 & 137 & 138 & 139 & 140 & 141 & 157 & 158 & 159 & 160 & 161 & 162 & 166 & 167 & 169 & 170 & 173 & 176 & 186 & 188 & 189\\\\\n",
       " <fct> & <int> & <int> & <int> & <int> & <int> & <int> & <int> & <int> & <int> & <int> & <int> & <int> & <int> & <int> & <int> & <int> & <int> & <int> & <int> & <int> & <int> & <int> & <int> & <int> & <int> & <int> & <int> & <int> & <int> & <int> & <int> & <int> & <int> & <int> & <int> & <int> & <int> & <int> & <int> & <int> & <int> & <int> & <int> & <int> & <int> & <int> & <int> & <int> & <int> & <int> & <int> & <int> & <int> & <int> & <int> & <int> & <int> & <int> & <int> & <int> & <int> & <int> & <int> & <int> & <int> & <int> & <int> & <int> & <int> & <int> & <int> & <int> & <int> & <int> & <int> & <int> & <int> & <int> & <int> & <int> & <int> & <int> & <int> & <int> & <int> & <int> & <int>\\\\\n",
       "\\hline\n",
       "\t 100000015 & 0 & 0 & 0 & 0 & 0 & 0 & 0 & 0 & 0 & 0 & 0 & 0 & 0 & 0 & 0 & 0 & 0 & 0 & 0 & 0 & 0 & 0 & 0 & 0 & 0 & 0 & 0 & 0 & 0 & 0 & 0 & 0 & 0 & 0 & 0 & 0 & 0 & 0 & 0 & 0 & 0 & 0 & 0 & 0 & 0 & 0 & 0 & 0 & 0 & 0 & 0 & 0 & 0 & 0 & 0 & 0 & 0 & 0 & 1 & 0 & 0 & 0 & 0 & 1 & 0 & 0 & 0 & 0 & 0 & 0 & 0 & 0 & 0 & 0 & 0 & 0 & 0 & 0 & 0 & 0 & 0 & 0 & 0 & 0 & 0 & 0 & 0\\\\\n",
       "\\end{tabular}\n"
      ],
      "text/markdown": [
       "\n",
       "A data.table: 1 × 88\n",
       "\n",
       "| MBI &lt;fct&gt; | 1 &lt;int&gt; | 2 &lt;int&gt; | 6 &lt;int&gt; | 8 &lt;int&gt; | 9 &lt;int&gt; | 10 &lt;int&gt; | 11 &lt;int&gt; | 12 &lt;int&gt; | 17 &lt;int&gt; | 18 &lt;int&gt; | 19 &lt;int&gt; | 21 &lt;int&gt; | 22 &lt;int&gt; | 23 &lt;int&gt; | 27 &lt;int&gt; | 28 &lt;int&gt; | 29 &lt;int&gt; | 33 &lt;int&gt; | 34 &lt;int&gt; | 35 &lt;int&gt; | 39 &lt;int&gt; | 40 &lt;int&gt; | 46 &lt;int&gt; | 47 &lt;int&gt; | 48 &lt;int&gt; | 51 &lt;int&gt; | 52 &lt;int&gt; | 54 &lt;int&gt; | 55 &lt;int&gt; | 57 &lt;int&gt; | 58 &lt;int&gt; | 70 &lt;int&gt; | 71 &lt;int&gt; | 72 &lt;int&gt; | 73 &lt;int&gt; | 74 &lt;int&gt; | 75 &lt;int&gt; | 76 &lt;int&gt; | 77 &lt;int&gt; | 78 &lt;int&gt; | 79 &lt;int&gt; | 80 &lt;int&gt; | 82 &lt;int&gt; | 83 &lt;int&gt; | 84 &lt;int&gt; | 85 &lt;int&gt; | 86 &lt;int&gt; | 87 &lt;int&gt; | 88 &lt;int&gt; | 96 &lt;int&gt; | 99 &lt;int&gt; | 100 &lt;int&gt; | 103 &lt;int&gt; | 104 &lt;int&gt; | 106 &lt;int&gt; | 107 &lt;int&gt; | 108 &lt;int&gt; | 110 &lt;int&gt; | 111 &lt;int&gt; | 112 &lt;int&gt; | 114 &lt;int&gt; | 115 &lt;int&gt; | 122 &lt;int&gt; | 124 &lt;int&gt; | 134 &lt;int&gt; | 135 &lt;int&gt; | 136 &lt;int&gt; | 137 &lt;int&gt; | 138 &lt;int&gt; | 139 &lt;int&gt; | 140 &lt;int&gt; | 141 &lt;int&gt; | 157 &lt;int&gt; | 158 &lt;int&gt; | 159 &lt;int&gt; | 160 &lt;int&gt; | 161 &lt;int&gt; | 162 &lt;int&gt; | 166 &lt;int&gt; | 167 &lt;int&gt; | 169 &lt;int&gt; | 170 &lt;int&gt; | 173 &lt;int&gt; | 176 &lt;int&gt; | 186 &lt;int&gt; | 188 &lt;int&gt; | 189 &lt;int&gt; |\n",
       "|---|---|---|---|---|---|---|---|---|---|---|---|---|---|---|---|---|---|---|---|---|---|---|---|---|---|---|---|---|---|---|---|---|---|---|---|---|---|---|---|---|---|---|---|---|---|---|---|---|---|---|---|---|---|---|---|---|---|---|---|---|---|---|---|---|---|---|---|---|---|---|---|---|---|---|---|---|---|---|---|---|---|---|---|---|---|---|---|\n",
       "| 100000015 | 0 | 0 | 0 | 0 | 0 | 0 | 0 | 0 | 0 | 0 | 0 | 0 | 0 | 0 | 0 | 0 | 0 | 0 | 0 | 0 | 0 | 0 | 0 | 0 | 0 | 0 | 0 | 0 | 0 | 0 | 0 | 0 | 0 | 0 | 0 | 0 | 0 | 0 | 0 | 0 | 0 | 0 | 0 | 0 | 0 | 0 | 0 | 0 | 0 | 0 | 0 | 0 | 0 | 0 | 0 | 0 | 0 | 0 | 1 | 0 | 0 | 0 | 0 | 1 | 0 | 0 | 0 | 0 | 0 | 0 | 0 | 0 | 0 | 0 | 0 | 0 | 0 | 0 | 0 | 0 | 0 | 0 | 0 | 0 | 0 | 0 | 0 |\n",
       "\n"
      ],
      "text/plain": [
       "  MBI       1 2 6 8 9 10 11 12 17 18 19 21 22 23 27 28 29 33 34 35 39 40 46 47 48 51 52 54 55 57 58 70 71 72 73 74 75 76 77 78 79 80 82 83 84 85 86 87 88 96 99 100 103 104 106 107 108 110 111 112 114 115 122 124 134 135 136 137 138 139 140 141 157 158 159 160 161 162 166 167 169 170 173 176 186 188\n",
       "1 100000015 0 0 0 0 0 0  0  0  0  0  0  0  0  0  0  0  0  0  0  0  0  0  0  0  0  0  0  0  0  0  0  0  0  0  0  0  0  0  0  0  0  0  0  0  0  0  0  0  0  0  0  0   0   0   0   0   0   0   1   0   0   0   0   1   0   0   0   0   0   0   0   0   0   0   0   0   0   0   0   0   0   0   0   0   0   0  \n",
       "  189\n",
       "1 0  "
      ]
     },
     "metadata": {},
     "output_type": "display_data"
    },
    {
     "data": {
      "text/html": [
       "<table class=\"dataframe\">\n",
       "<caption>A data.table: 1 × 80</caption>\n",
       "<thead>\n",
       "\t<tr><th scope=col>MBI</th><th scope=col>1</th><th scope=col>2</th><th scope=col>6</th><th scope=col>8</th><th scope=col>9</th><th scope=col>10</th><th scope=col>11</th><th scope=col>12</th><th scope=col>17</th><th scope=col>18</th><th scope=col>19</th><th scope=col>21</th><th scope=col>22</th><th scope=col>23</th><th scope=col>27</th><th scope=col>28</th><th scope=col>29</th><th scope=col>33</th><th scope=col>34</th><th scope=col>35</th><th scope=col>39</th><th scope=col>40</th><th scope=col>46</th><th scope=col>47</th><th scope=col>48</th><th scope=col>54</th><th scope=col>55</th><th scope=col>57</th><th scope=col>58</th><th scope=col>70</th><th scope=col>71</th><th scope=col>72</th><th scope=col>73</th><th scope=col>74</th><th scope=col>75</th><th scope=col>76</th><th scope=col>77</th><th scope=col>78</th><th scope=col>79</th><th scope=col>80</th><th scope=col>82</th><th scope=col>83</th><th scope=col>84</th><th scope=col>85</th><th scope=col>86</th><th scope=col>87</th><th scope=col>88</th><th scope=col>96</th><th scope=col>99</th><th scope=col>100</th><th scope=col>103</th><th scope=col>104</th><th scope=col>106</th><th scope=col>107</th><th scope=col>108</th><th scope=col>110</th><th scope=col>111</th><th scope=col>112</th><th scope=col>114</th><th scope=col>115</th><th scope=col>122</th><th scope=col>124</th><th scope=col>134</th><th scope=col>135</th><th scope=col>136</th><th scope=col>137</th><th scope=col>157</th><th scope=col>158</th><th scope=col>161</th><th scope=col>162</th><th scope=col>166</th><th scope=col>167</th><th scope=col>169</th><th scope=col>170</th><th scope=col>173</th><th scope=col>176</th><th scope=col>186</th><th scope=col>188</th><th scope=col>189</th></tr>\n",
       "\t<tr><th scope=col>&lt;fct&gt;</th><th scope=col>&lt;int&gt;</th><th scope=col>&lt;int&gt;</th><th scope=col>&lt;int&gt;</th><th scope=col>&lt;int&gt;</th><th scope=col>&lt;int&gt;</th><th scope=col>&lt;int&gt;</th><th scope=col>&lt;int&gt;</th><th scope=col>&lt;int&gt;</th><th scope=col>&lt;int&gt;</th><th scope=col>&lt;int&gt;</th><th scope=col>&lt;int&gt;</th><th scope=col>&lt;int&gt;</th><th scope=col>&lt;int&gt;</th><th scope=col>&lt;int&gt;</th><th scope=col>&lt;int&gt;</th><th scope=col>&lt;int&gt;</th><th scope=col>&lt;int&gt;</th><th scope=col>&lt;int&gt;</th><th scope=col>&lt;int&gt;</th><th scope=col>&lt;int&gt;</th><th scope=col>&lt;int&gt;</th><th scope=col>&lt;int&gt;</th><th scope=col>&lt;int&gt;</th><th scope=col>&lt;int&gt;</th><th scope=col>&lt;int&gt;</th><th scope=col>&lt;int&gt;</th><th scope=col>&lt;int&gt;</th><th scope=col>&lt;int&gt;</th><th scope=col>&lt;int&gt;</th><th scope=col>&lt;int&gt;</th><th scope=col>&lt;int&gt;</th><th scope=col>&lt;int&gt;</th><th scope=col>&lt;int&gt;</th><th scope=col>&lt;int&gt;</th><th scope=col>&lt;int&gt;</th><th scope=col>&lt;int&gt;</th><th scope=col>&lt;int&gt;</th><th scope=col>&lt;int&gt;</th><th scope=col>&lt;int&gt;</th><th scope=col>&lt;int&gt;</th><th scope=col>&lt;int&gt;</th><th scope=col>&lt;int&gt;</th><th scope=col>&lt;int&gt;</th><th scope=col>&lt;int&gt;</th><th scope=col>&lt;int&gt;</th><th scope=col>&lt;int&gt;</th><th scope=col>&lt;int&gt;</th><th scope=col>&lt;int&gt;</th><th scope=col>&lt;int&gt;</th><th scope=col>&lt;int&gt;</th><th scope=col>&lt;int&gt;</th><th scope=col>&lt;int&gt;</th><th scope=col>&lt;int&gt;</th><th scope=col>&lt;int&gt;</th><th scope=col>&lt;int&gt;</th><th scope=col>&lt;int&gt;</th><th scope=col>&lt;int&gt;</th><th scope=col>&lt;int&gt;</th><th scope=col>&lt;int&gt;</th><th scope=col>&lt;int&gt;</th><th scope=col>&lt;int&gt;</th><th scope=col>&lt;int&gt;</th><th scope=col>&lt;int&gt;</th><th scope=col>&lt;int&gt;</th><th scope=col>&lt;int&gt;</th><th scope=col>&lt;int&gt;</th><th scope=col>&lt;int&gt;</th><th scope=col>&lt;int&gt;</th><th scope=col>&lt;int&gt;</th><th scope=col>&lt;int&gt;</th><th scope=col>&lt;int&gt;</th><th scope=col>&lt;int&gt;</th><th scope=col>&lt;int&gt;</th><th scope=col>&lt;int&gt;</th><th scope=col>&lt;int&gt;</th><th scope=col>&lt;int&gt;</th><th scope=col>&lt;int&gt;</th><th scope=col>&lt;int&gt;</th><th scope=col>&lt;int&gt;</th></tr>\n",
       "</thead>\n",
       "<tbody>\n",
       "\t<tr><td>100000015</td><td>0</td><td>0</td><td>0</td><td>0</td><td>0</td><td>0</td><td>0</td><td>0</td><td>0</td><td>0</td><td>1</td><td>0</td><td>0</td><td>0</td><td>0</td><td>0</td><td>0</td><td>0</td><td>0</td><td>0</td><td>0</td><td>0</td><td>0</td><td>0</td><td>0</td><td>0</td><td>0</td><td>0</td><td>0</td><td>0</td><td>0</td><td>0</td><td>0</td><td>0</td><td>0</td><td>0</td><td>0</td><td>0</td><td>0</td><td>0</td><td>0</td><td>0</td><td>0</td><td>0</td><td>0</td><td>0</td><td>0</td><td>0</td><td>0</td><td>0</td><td>0</td><td>0</td><td>0</td><td>0</td><td>0</td><td>0</td><td>1</td><td>0</td><td>0</td><td>0</td><td>0</td><td>1</td><td>0</td><td>0</td><td>0</td><td>0</td><td>0</td><td>0</td><td>0</td><td>0</td><td>0</td><td>0</td><td>0</td><td>0</td><td>0</td><td>0</td><td>0</td><td>0</td><td>0</td></tr>\n",
       "</tbody>\n",
       "</table>\n"
      ],
      "text/latex": [
       "A data.table: 1 × 80\n",
       "\\begin{tabular}{llllllllllllllllllllllllllllllllllllllllllllllllllllllllllllllllllllllllllllllll}\n",
       " MBI & 1 & 2 & 6 & 8 & 9 & 10 & 11 & 12 & 17 & 18 & 19 & 21 & 22 & 23 & 27 & 28 & 29 & 33 & 34 & 35 & 39 & 40 & 46 & 47 & 48 & 54 & 55 & 57 & 58 & 70 & 71 & 72 & 73 & 74 & 75 & 76 & 77 & 78 & 79 & 80 & 82 & 83 & 84 & 85 & 86 & 87 & 88 & 96 & 99 & 100 & 103 & 104 & 106 & 107 & 108 & 110 & 111 & 112 & 114 & 115 & 122 & 124 & 134 & 135 & 136 & 137 & 157 & 158 & 161 & 162 & 166 & 167 & 169 & 170 & 173 & 176 & 186 & 188 & 189\\\\\n",
       " <fct> & <int> & <int> & <int> & <int> & <int> & <int> & <int> & <int> & <int> & <int> & <int> & <int> & <int> & <int> & <int> & <int> & <int> & <int> & <int> & <int> & <int> & <int> & <int> & <int> & <int> & <int> & <int> & <int> & <int> & <int> & <int> & <int> & <int> & <int> & <int> & <int> & <int> & <int> & <int> & <int> & <int> & <int> & <int> & <int> & <int> & <int> & <int> & <int> & <int> & <int> & <int> & <int> & <int> & <int> & <int> & <int> & <int> & <int> & <int> & <int> & <int> & <int> & <int> & <int> & <int> & <int> & <int> & <int> & <int> & <int> & <int> & <int> & <int> & <int> & <int> & <int> & <int> & <int> & <int>\\\\\n",
       "\\hline\n",
       "\t 100000015 & 0 & 0 & 0 & 0 & 0 & 0 & 0 & 0 & 0 & 0 & 1 & 0 & 0 & 0 & 0 & 0 & 0 & 0 & 0 & 0 & 0 & 0 & 0 & 0 & 0 & 0 & 0 & 0 & 0 & 0 & 0 & 0 & 0 & 0 & 0 & 0 & 0 & 0 & 0 & 0 & 0 & 0 & 0 & 0 & 0 & 0 & 0 & 0 & 0 & 0 & 0 & 0 & 0 & 0 & 0 & 0 & 1 & 0 & 0 & 0 & 0 & 1 & 0 & 0 & 0 & 0 & 0 & 0 & 0 & 0 & 0 & 0 & 0 & 0 & 0 & 0 & 0 & 0 & 0\\\\\n",
       "\\end{tabular}\n"
      ],
      "text/markdown": [
       "\n",
       "A data.table: 1 × 80\n",
       "\n",
       "| MBI &lt;fct&gt; | 1 &lt;int&gt; | 2 &lt;int&gt; | 6 &lt;int&gt; | 8 &lt;int&gt; | 9 &lt;int&gt; | 10 &lt;int&gt; | 11 &lt;int&gt; | 12 &lt;int&gt; | 17 &lt;int&gt; | 18 &lt;int&gt; | 19 &lt;int&gt; | 21 &lt;int&gt; | 22 &lt;int&gt; | 23 &lt;int&gt; | 27 &lt;int&gt; | 28 &lt;int&gt; | 29 &lt;int&gt; | 33 &lt;int&gt; | 34 &lt;int&gt; | 35 &lt;int&gt; | 39 &lt;int&gt; | 40 &lt;int&gt; | 46 &lt;int&gt; | 47 &lt;int&gt; | 48 &lt;int&gt; | 54 &lt;int&gt; | 55 &lt;int&gt; | 57 &lt;int&gt; | 58 &lt;int&gt; | 70 &lt;int&gt; | 71 &lt;int&gt; | 72 &lt;int&gt; | 73 &lt;int&gt; | 74 &lt;int&gt; | 75 &lt;int&gt; | 76 &lt;int&gt; | 77 &lt;int&gt; | 78 &lt;int&gt; | 79 &lt;int&gt; | 80 &lt;int&gt; | 82 &lt;int&gt; | 83 &lt;int&gt; | 84 &lt;int&gt; | 85 &lt;int&gt; | 86 &lt;int&gt; | 87 &lt;int&gt; | 88 &lt;int&gt; | 96 &lt;int&gt; | 99 &lt;int&gt; | 100 &lt;int&gt; | 103 &lt;int&gt; | 104 &lt;int&gt; | 106 &lt;int&gt; | 107 &lt;int&gt; | 108 &lt;int&gt; | 110 &lt;int&gt; | 111 &lt;int&gt; | 112 &lt;int&gt; | 114 &lt;int&gt; | 115 &lt;int&gt; | 122 &lt;int&gt; | 124 &lt;int&gt; | 134 &lt;int&gt; | 135 &lt;int&gt; | 136 &lt;int&gt; | 137 &lt;int&gt; | 157 &lt;int&gt; | 158 &lt;int&gt; | 161 &lt;int&gt; | 162 &lt;int&gt; | 166 &lt;int&gt; | 167 &lt;int&gt; | 169 &lt;int&gt; | 170 &lt;int&gt; | 173 &lt;int&gt; | 176 &lt;int&gt; | 186 &lt;int&gt; | 188 &lt;int&gt; | 189 &lt;int&gt; |\n",
       "|---|---|---|---|---|---|---|---|---|---|---|---|---|---|---|---|---|---|---|---|---|---|---|---|---|---|---|---|---|---|---|---|---|---|---|---|---|---|---|---|---|---|---|---|---|---|---|---|---|---|---|---|---|---|---|---|---|---|---|---|---|---|---|---|---|---|---|---|---|---|---|---|---|---|---|---|---|---|---|---|\n",
       "| 100000015 | 0 | 0 | 0 | 0 | 0 | 0 | 0 | 0 | 0 | 0 | 1 | 0 | 0 | 0 | 0 | 0 | 0 | 0 | 0 | 0 | 0 | 0 | 0 | 0 | 0 | 0 | 0 | 0 | 0 | 0 | 0 | 0 | 0 | 0 | 0 | 0 | 0 | 0 | 0 | 0 | 0 | 0 | 0 | 0 | 0 | 0 | 0 | 0 | 0 | 0 | 0 | 0 | 0 | 0 | 0 | 0 | 1 | 0 | 0 | 0 | 0 | 1 | 0 | 0 | 0 | 0 | 0 | 0 | 0 | 0 | 0 | 0 | 0 | 0 | 0 | 0 | 0 | 0 | 0 |\n",
       "\n"
      ],
      "text/plain": [
       "  MBI       1 2 6 8 9 10 11 12 17 18 19 21 22 23 27 28 29 33 34 35 39 40 46 47 48 54 55 57 58 70 71 72 73 74 75 76 77 78 79 80 82 83 84 85 86 87 88 96 99 100 103 104 106 107 108 110 111 112 114 115 122 124 134 135 136 137 157 158 161 162 166 167 169 170 173 176 186 188 189\n",
       "1 100000015 0 0 0 0 0 0  0  0  0  0  1  0  0  0  0  0  0  0  0  0  0  0  0  0  0  0  0  0  0  0  0  0  0  0  0  0  0  0  0  0  0  0  0  0  0  0  0  0  0  0   0   0   0   0   0   0   1   0   0   0   0   1   0   0   0   0   0   0   0   0   0   0   0   0   0   0   0   0   0  "
      ]
     },
     "metadata": {},
     "output_type": "display_data"
    },
    {
     "data": {
      "text/html": [
       "<table class=\"dataframe\">\n",
       "<caption>A data.table: 1 × 80</caption>\n",
       "<thead>\n",
       "\t<tr><th scope=col>MBI</th><th scope=col>1</th><th scope=col>2</th><th scope=col>6</th><th scope=col>8</th><th scope=col>9</th><th scope=col>10</th><th scope=col>11</th><th scope=col>12</th><th scope=col>17</th><th scope=col>18</th><th scope=col>19</th><th scope=col>21</th><th scope=col>22</th><th scope=col>23</th><th scope=col>27</th><th scope=col>28</th><th scope=col>29</th><th scope=col>33</th><th scope=col>34</th><th scope=col>35</th><th scope=col>39</th><th scope=col>40</th><th scope=col>46</th><th scope=col>47</th><th scope=col>48</th><th scope=col>54</th><th scope=col>55</th><th scope=col>57</th><th scope=col>58</th><th scope=col>70</th><th scope=col>71</th><th scope=col>72</th><th scope=col>73</th><th scope=col>74</th><th scope=col>75</th><th scope=col>76</th><th scope=col>77</th><th scope=col>78</th><th scope=col>79</th><th scope=col>80</th><th scope=col>82</th><th scope=col>83</th><th scope=col>84</th><th scope=col>85</th><th scope=col>86</th><th scope=col>87</th><th scope=col>88</th><th scope=col>96</th><th scope=col>99</th><th scope=col>100</th><th scope=col>103</th><th scope=col>104</th><th scope=col>106</th><th scope=col>107</th><th scope=col>108</th><th scope=col>110</th><th scope=col>111</th><th scope=col>112</th><th scope=col>114</th><th scope=col>115</th><th scope=col>122</th><th scope=col>124</th><th scope=col>134</th><th scope=col>135</th><th scope=col>136</th><th scope=col>137</th><th scope=col>157</th><th scope=col>158</th><th scope=col>161</th><th scope=col>162</th><th scope=col>166</th><th scope=col>167</th><th scope=col>169</th><th scope=col>170</th><th scope=col>173</th><th scope=col>176</th><th scope=col>186</th><th scope=col>188</th><th scope=col>189</th></tr>\n",
       "\t<tr><th scope=col>&lt;fct&gt;</th><th scope=col>&lt;int&gt;</th><th scope=col>&lt;int&gt;</th><th scope=col>&lt;int&gt;</th><th scope=col>&lt;int&gt;</th><th scope=col>&lt;int&gt;</th><th scope=col>&lt;int&gt;</th><th scope=col>&lt;int&gt;</th><th scope=col>&lt;int&gt;</th><th scope=col>&lt;int&gt;</th><th scope=col>&lt;int&gt;</th><th scope=col>&lt;int&gt;</th><th scope=col>&lt;int&gt;</th><th scope=col>&lt;int&gt;</th><th scope=col>&lt;int&gt;</th><th scope=col>&lt;int&gt;</th><th scope=col>&lt;int&gt;</th><th scope=col>&lt;int&gt;</th><th scope=col>&lt;int&gt;</th><th scope=col>&lt;int&gt;</th><th scope=col>&lt;int&gt;</th><th scope=col>&lt;int&gt;</th><th scope=col>&lt;int&gt;</th><th scope=col>&lt;int&gt;</th><th scope=col>&lt;int&gt;</th><th scope=col>&lt;int&gt;</th><th scope=col>&lt;int&gt;</th><th scope=col>&lt;int&gt;</th><th scope=col>&lt;int&gt;</th><th scope=col>&lt;int&gt;</th><th scope=col>&lt;int&gt;</th><th scope=col>&lt;int&gt;</th><th scope=col>&lt;int&gt;</th><th scope=col>&lt;int&gt;</th><th scope=col>&lt;int&gt;</th><th scope=col>&lt;int&gt;</th><th scope=col>&lt;int&gt;</th><th scope=col>&lt;int&gt;</th><th scope=col>&lt;int&gt;</th><th scope=col>&lt;int&gt;</th><th scope=col>&lt;int&gt;</th><th scope=col>&lt;int&gt;</th><th scope=col>&lt;int&gt;</th><th scope=col>&lt;int&gt;</th><th scope=col>&lt;int&gt;</th><th scope=col>&lt;int&gt;</th><th scope=col>&lt;int&gt;</th><th scope=col>&lt;int&gt;</th><th scope=col>&lt;int&gt;</th><th scope=col>&lt;int&gt;</th><th scope=col>&lt;int&gt;</th><th scope=col>&lt;int&gt;</th><th scope=col>&lt;int&gt;</th><th scope=col>&lt;int&gt;</th><th scope=col>&lt;int&gt;</th><th scope=col>&lt;int&gt;</th><th scope=col>&lt;int&gt;</th><th scope=col>&lt;int&gt;</th><th scope=col>&lt;int&gt;</th><th scope=col>&lt;int&gt;</th><th scope=col>&lt;int&gt;</th><th scope=col>&lt;int&gt;</th><th scope=col>&lt;int&gt;</th><th scope=col>&lt;int&gt;</th><th scope=col>&lt;int&gt;</th><th scope=col>&lt;int&gt;</th><th scope=col>&lt;int&gt;</th><th scope=col>&lt;int&gt;</th><th scope=col>&lt;int&gt;</th><th scope=col>&lt;int&gt;</th><th scope=col>&lt;int&gt;</th><th scope=col>&lt;int&gt;</th><th scope=col>&lt;int&gt;</th><th scope=col>&lt;int&gt;</th><th scope=col>&lt;int&gt;</th><th scope=col>&lt;int&gt;</th><th scope=col>&lt;int&gt;</th><th scope=col>&lt;int&gt;</th><th scope=col>&lt;int&gt;</th><th scope=col>&lt;int&gt;</th></tr>\n",
       "</thead>\n",
       "<tbody>\n",
       "\t<tr><td>100000015</td><td>0</td><td>0</td><td>0</td><td>0</td><td>0</td><td>0</td><td>0</td><td>0</td><td>0</td><td>1</td><td>1</td><td>0</td><td>0</td><td>0</td><td>0</td><td>0</td><td>0</td><td>0</td><td>0</td><td>0</td><td>0</td><td>0</td><td>0</td><td>0</td><td>0</td><td>0</td><td>0</td><td>0</td><td>0</td><td>0</td><td>0</td><td>0</td><td>0</td><td>0</td><td>0</td><td>0</td><td>0</td><td>0</td><td>0</td><td>0</td><td>0</td><td>0</td><td>0</td><td>0</td><td>0</td><td>0</td><td>0</td><td>0</td><td>0</td><td>0</td><td>0</td><td>0</td><td>0</td><td>0</td><td>0</td><td>0</td><td>1</td><td>0</td><td>0</td><td>0</td><td>0</td><td>1</td><td>0</td><td>0</td><td>0</td><td>0</td><td>0</td><td>0</td><td>0</td><td>0</td><td>0</td><td>0</td><td>0</td><td>0</td><td>0</td><td>0</td><td>0</td><td>0</td><td>0</td></tr>\n",
       "</tbody>\n",
       "</table>\n"
      ],
      "text/latex": [
       "A data.table: 1 × 80\n",
       "\\begin{tabular}{llllllllllllllllllllllllllllllllllllllllllllllllllllllllllllllllllllllllllllllll}\n",
       " MBI & 1 & 2 & 6 & 8 & 9 & 10 & 11 & 12 & 17 & 18 & 19 & 21 & 22 & 23 & 27 & 28 & 29 & 33 & 34 & 35 & 39 & 40 & 46 & 47 & 48 & 54 & 55 & 57 & 58 & 70 & 71 & 72 & 73 & 74 & 75 & 76 & 77 & 78 & 79 & 80 & 82 & 83 & 84 & 85 & 86 & 87 & 88 & 96 & 99 & 100 & 103 & 104 & 106 & 107 & 108 & 110 & 111 & 112 & 114 & 115 & 122 & 124 & 134 & 135 & 136 & 137 & 157 & 158 & 161 & 162 & 166 & 167 & 169 & 170 & 173 & 176 & 186 & 188 & 189\\\\\n",
       " <fct> & <int> & <int> & <int> & <int> & <int> & <int> & <int> & <int> & <int> & <int> & <int> & <int> & <int> & <int> & <int> & <int> & <int> & <int> & <int> & <int> & <int> & <int> & <int> & <int> & <int> & <int> & <int> & <int> & <int> & <int> & <int> & <int> & <int> & <int> & <int> & <int> & <int> & <int> & <int> & <int> & <int> & <int> & <int> & <int> & <int> & <int> & <int> & <int> & <int> & <int> & <int> & <int> & <int> & <int> & <int> & <int> & <int> & <int> & <int> & <int> & <int> & <int> & <int> & <int> & <int> & <int> & <int> & <int> & <int> & <int> & <int> & <int> & <int> & <int> & <int> & <int> & <int> & <int> & <int>\\\\\n",
       "\\hline\n",
       "\t 100000015 & 0 & 0 & 0 & 0 & 0 & 0 & 0 & 0 & 0 & 1 & 1 & 0 & 0 & 0 & 0 & 0 & 0 & 0 & 0 & 0 & 0 & 0 & 0 & 0 & 0 & 0 & 0 & 0 & 0 & 0 & 0 & 0 & 0 & 0 & 0 & 0 & 0 & 0 & 0 & 0 & 0 & 0 & 0 & 0 & 0 & 0 & 0 & 0 & 0 & 0 & 0 & 0 & 0 & 0 & 0 & 0 & 1 & 0 & 0 & 0 & 0 & 1 & 0 & 0 & 0 & 0 & 0 & 0 & 0 & 0 & 0 & 0 & 0 & 0 & 0 & 0 & 0 & 0 & 0\\\\\n",
       "\\end{tabular}\n"
      ],
      "text/markdown": [
       "\n",
       "A data.table: 1 × 80\n",
       "\n",
       "| MBI &lt;fct&gt; | 1 &lt;int&gt; | 2 &lt;int&gt; | 6 &lt;int&gt; | 8 &lt;int&gt; | 9 &lt;int&gt; | 10 &lt;int&gt; | 11 &lt;int&gt; | 12 &lt;int&gt; | 17 &lt;int&gt; | 18 &lt;int&gt; | 19 &lt;int&gt; | 21 &lt;int&gt; | 22 &lt;int&gt; | 23 &lt;int&gt; | 27 &lt;int&gt; | 28 &lt;int&gt; | 29 &lt;int&gt; | 33 &lt;int&gt; | 34 &lt;int&gt; | 35 &lt;int&gt; | 39 &lt;int&gt; | 40 &lt;int&gt; | 46 &lt;int&gt; | 47 &lt;int&gt; | 48 &lt;int&gt; | 54 &lt;int&gt; | 55 &lt;int&gt; | 57 &lt;int&gt; | 58 &lt;int&gt; | 70 &lt;int&gt; | 71 &lt;int&gt; | 72 &lt;int&gt; | 73 &lt;int&gt; | 74 &lt;int&gt; | 75 &lt;int&gt; | 76 &lt;int&gt; | 77 &lt;int&gt; | 78 &lt;int&gt; | 79 &lt;int&gt; | 80 &lt;int&gt; | 82 &lt;int&gt; | 83 &lt;int&gt; | 84 &lt;int&gt; | 85 &lt;int&gt; | 86 &lt;int&gt; | 87 &lt;int&gt; | 88 &lt;int&gt; | 96 &lt;int&gt; | 99 &lt;int&gt; | 100 &lt;int&gt; | 103 &lt;int&gt; | 104 &lt;int&gt; | 106 &lt;int&gt; | 107 &lt;int&gt; | 108 &lt;int&gt; | 110 &lt;int&gt; | 111 &lt;int&gt; | 112 &lt;int&gt; | 114 &lt;int&gt; | 115 &lt;int&gt; | 122 &lt;int&gt; | 124 &lt;int&gt; | 134 &lt;int&gt; | 135 &lt;int&gt; | 136 &lt;int&gt; | 137 &lt;int&gt; | 157 &lt;int&gt; | 158 &lt;int&gt; | 161 &lt;int&gt; | 162 &lt;int&gt; | 166 &lt;int&gt; | 167 &lt;int&gt; | 169 &lt;int&gt; | 170 &lt;int&gt; | 173 &lt;int&gt; | 176 &lt;int&gt; | 186 &lt;int&gt; | 188 &lt;int&gt; | 189 &lt;int&gt; |\n",
       "|---|---|---|---|---|---|---|---|---|---|---|---|---|---|---|---|---|---|---|---|---|---|---|---|---|---|---|---|---|---|---|---|---|---|---|---|---|---|---|---|---|---|---|---|---|---|---|---|---|---|---|---|---|---|---|---|---|---|---|---|---|---|---|---|---|---|---|---|---|---|---|---|---|---|---|---|---|---|---|---|\n",
       "| 100000015 | 0 | 0 | 0 | 0 | 0 | 0 | 0 | 0 | 0 | 1 | 1 | 0 | 0 | 0 | 0 | 0 | 0 | 0 | 0 | 0 | 0 | 0 | 0 | 0 | 0 | 0 | 0 | 0 | 0 | 0 | 0 | 0 | 0 | 0 | 0 | 0 | 0 | 0 | 0 | 0 | 0 | 0 | 0 | 0 | 0 | 0 | 0 | 0 | 0 | 0 | 0 | 0 | 0 | 0 | 0 | 0 | 1 | 0 | 0 | 0 | 0 | 1 | 0 | 0 | 0 | 0 | 0 | 0 | 0 | 0 | 0 | 0 | 0 | 0 | 0 | 0 | 0 | 0 | 0 |\n",
       "\n"
      ],
      "text/plain": [
       "  MBI       1 2 6 8 9 10 11 12 17 18 19 21 22 23 27 28 29 33 34 35 39 40 46 47 48 54 55 57 58 70 71 72 73 74 75 76 77 78 79 80 82 83 84 85 86 87 88 96 99 100 103 104 106 107 108 110 111 112 114 115 122 124 134 135 136 137 157 158 161 162 166 167 169 170 173 176 186 188 189\n",
       "1 100000015 0 0 0 0 0 0  0  0  0  1  1  0  0  0  0  0  0  0  0  0  0  0  0  0  0  0  0  0  0  0  0  0  0  0  0  0  0  0  0  0  0  0  0  0  0  0  0  0  0  0   0   0   0   0   0   0   1   0   0   0   0   1   0   0   0   0   0   0   0   0   0   0   0   0   0   0   0   0   0  "
      ]
     },
     "metadata": {},
     "output_type": "display_data"
    }
   ],
   "source": [
    "hcc_diag_2013_wide[MBI==100000015]\n",
    "hcc_diag_2015_wide[MBI==100000015]\n",
    "hcc_diag_2020_wide[MBI==100000015]"
   ]
  },
  {
   "cell_type": "code",
   "execution_count": 120,
   "id": "e38afadb-5676-4736-9399-c4c0df1a3315",
   "metadata": {},
   "outputs": [
    {
     "data": {
      "text/html": [
       "<table class=\"dataframe\">\n",
       "<caption>A data.table: 6 × 88</caption>\n",
       "<thead>\n",
       "\t<tr><th scope=col>MBI</th><th scope=col>1</th><th scope=col>2</th><th scope=col>6</th><th scope=col>8</th><th scope=col>9</th><th scope=col>10</th><th scope=col>11</th><th scope=col>12</th><th scope=col>17</th><th scope=col>18</th><th scope=col>19</th><th scope=col>21</th><th scope=col>22</th><th scope=col>23</th><th scope=col>27</th><th scope=col>28</th><th scope=col>29</th><th scope=col>33</th><th scope=col>34</th><th scope=col>35</th><th scope=col>39</th><th scope=col>40</th><th scope=col>46</th><th scope=col>47</th><th scope=col>48</th><th scope=col>51</th><th scope=col>52</th><th scope=col>54</th><th scope=col>55</th><th scope=col>57</th><th scope=col>58</th><th scope=col>70</th><th scope=col>71</th><th scope=col>72</th><th scope=col>73</th><th scope=col>74</th><th scope=col>75</th><th scope=col>76</th><th scope=col>77</th><th scope=col>78</th><th scope=col>79</th><th scope=col>80</th><th scope=col>82</th><th scope=col>83</th><th scope=col>84</th><th scope=col>85</th><th scope=col>86</th><th scope=col>87</th><th scope=col>88</th><th scope=col>96</th><th scope=col>99</th><th scope=col>100</th><th scope=col>103</th><th scope=col>104</th><th scope=col>106</th><th scope=col>107</th><th scope=col>108</th><th scope=col>110</th><th scope=col>111</th><th scope=col>112</th><th scope=col>114</th><th scope=col>115</th><th scope=col>122</th><th scope=col>124</th><th scope=col>134</th><th scope=col>135</th><th scope=col>136</th><th scope=col>137</th><th scope=col>138</th><th scope=col>139</th><th scope=col>140</th><th scope=col>141</th><th scope=col>157</th><th scope=col>158</th><th scope=col>159</th><th scope=col>160</th><th scope=col>161</th><th scope=col>162</th><th scope=col>166</th><th scope=col>167</th><th scope=col>169</th><th scope=col>170</th><th scope=col>173</th><th scope=col>176</th><th scope=col>186</th><th scope=col>188</th><th scope=col>189</th></tr>\n",
       "\t<tr><th scope=col>&lt;fct&gt;</th><th scope=col>&lt;int&gt;</th><th scope=col>&lt;int&gt;</th><th scope=col>&lt;int&gt;</th><th scope=col>&lt;int&gt;</th><th scope=col>&lt;int&gt;</th><th scope=col>&lt;int&gt;</th><th scope=col>&lt;int&gt;</th><th scope=col>&lt;int&gt;</th><th scope=col>&lt;int&gt;</th><th scope=col>&lt;int&gt;</th><th scope=col>&lt;int&gt;</th><th scope=col>&lt;int&gt;</th><th scope=col>&lt;int&gt;</th><th scope=col>&lt;int&gt;</th><th scope=col>&lt;int&gt;</th><th scope=col>&lt;int&gt;</th><th scope=col>&lt;int&gt;</th><th scope=col>&lt;int&gt;</th><th scope=col>&lt;int&gt;</th><th scope=col>&lt;int&gt;</th><th scope=col>&lt;int&gt;</th><th scope=col>&lt;int&gt;</th><th scope=col>&lt;int&gt;</th><th scope=col>&lt;int&gt;</th><th scope=col>&lt;int&gt;</th><th scope=col>&lt;int&gt;</th><th scope=col>&lt;int&gt;</th><th scope=col>&lt;int&gt;</th><th scope=col>&lt;int&gt;</th><th scope=col>&lt;int&gt;</th><th scope=col>&lt;int&gt;</th><th scope=col>&lt;int&gt;</th><th scope=col>&lt;int&gt;</th><th scope=col>&lt;int&gt;</th><th scope=col>&lt;int&gt;</th><th scope=col>&lt;int&gt;</th><th scope=col>&lt;int&gt;</th><th scope=col>&lt;int&gt;</th><th scope=col>&lt;int&gt;</th><th scope=col>&lt;int&gt;</th><th scope=col>&lt;int&gt;</th><th scope=col>&lt;int&gt;</th><th scope=col>&lt;int&gt;</th><th scope=col>&lt;int&gt;</th><th scope=col>&lt;int&gt;</th><th scope=col>&lt;int&gt;</th><th scope=col>&lt;int&gt;</th><th scope=col>&lt;int&gt;</th><th scope=col>&lt;int&gt;</th><th scope=col>&lt;int&gt;</th><th scope=col>&lt;int&gt;</th><th scope=col>&lt;int&gt;</th><th scope=col>&lt;int&gt;</th><th scope=col>&lt;int&gt;</th><th scope=col>&lt;int&gt;</th><th scope=col>&lt;int&gt;</th><th scope=col>&lt;int&gt;</th><th scope=col>&lt;int&gt;</th><th scope=col>&lt;int&gt;</th><th scope=col>&lt;int&gt;</th><th scope=col>&lt;int&gt;</th><th scope=col>&lt;int&gt;</th><th scope=col>&lt;int&gt;</th><th scope=col>&lt;int&gt;</th><th scope=col>&lt;int&gt;</th><th scope=col>&lt;int&gt;</th><th scope=col>&lt;int&gt;</th><th scope=col>&lt;int&gt;</th><th scope=col>&lt;int&gt;</th><th scope=col>&lt;int&gt;</th><th scope=col>&lt;int&gt;</th><th scope=col>&lt;int&gt;</th><th scope=col>&lt;int&gt;</th><th scope=col>&lt;int&gt;</th><th scope=col>&lt;int&gt;</th><th scope=col>&lt;int&gt;</th><th scope=col>&lt;int&gt;</th><th scope=col>&lt;int&gt;</th><th scope=col>&lt;int&gt;</th><th scope=col>&lt;int&gt;</th><th scope=col>&lt;int&gt;</th><th scope=col>&lt;int&gt;</th><th scope=col>&lt;int&gt;</th><th scope=col>&lt;int&gt;</th><th scope=col>&lt;int&gt;</th><th scope=col>&lt;int&gt;</th><th scope=col>&lt;int&gt;</th></tr>\n",
       "</thead>\n",
       "<tbody>\n",
       "\t<tr><td>100000015</td><td>0</td><td>0</td><td>0</td><td>0</td><td>0</td><td>0</td><td>0</td><td>0</td><td>0</td><td>0</td><td>0</td><td>0</td><td>0</td><td>0</td><td>0</td><td>0</td><td>0</td><td>0</td><td>0</td><td>0</td><td>0</td><td>0</td><td>0</td><td>0</td><td>0</td><td>0</td><td>0</td><td>0</td><td>0</td><td>0</td><td>0</td><td>0</td><td>0</td><td>0</td><td>0</td><td>0</td><td>0</td><td>0</td><td>0</td><td>0</td><td>0</td><td>0</td><td>0</td><td>0</td><td>0</td><td>0</td><td>0</td><td>0</td><td>0</td><td>0</td><td>0</td><td>0</td><td>0</td><td>0</td><td>0</td><td>0</td><td>0</td><td>0</td><td>1</td><td>0</td><td>0</td><td>0</td><td>0</td><td>1</td><td>0</td><td>0</td><td>0</td><td>0</td><td>0</td><td>0</td><td>0</td><td>0</td><td>0</td><td>0</td><td>0</td><td>0</td><td>0</td><td>0</td><td>0</td><td>0</td><td>0</td><td>0</td><td>0</td><td>0</td><td>0</td><td>0</td><td>0</td></tr>\n",
       "\t<tr><td>100000019</td><td>0</td><td>0</td><td>0</td><td>0</td><td>0</td><td>0</td><td>1</td><td>0</td><td>0</td><td>0</td><td>0</td><td>0</td><td>0</td><td>0</td><td>0</td><td>0</td><td>0</td><td>0</td><td>0</td><td>0</td><td>0</td><td>0</td><td>0</td><td>1</td><td>0</td><td>0</td><td>0</td><td>0</td><td>0</td><td>0</td><td>0</td><td>0</td><td>0</td><td>0</td><td>0</td><td>0</td><td>0</td><td>0</td><td>0</td><td>0</td><td>0</td><td>0</td><td>0</td><td>0</td><td>0</td><td>0</td><td>0</td><td>0</td><td>0</td><td>0</td><td>0</td><td>0</td><td>0</td><td>0</td><td>0</td><td>0</td><td>0</td><td>0</td><td>0</td><td>0</td><td>0</td><td>0</td><td>0</td><td>0</td><td>0</td><td>0</td><td>0</td><td>0</td><td>0</td><td>0</td><td>0</td><td>0</td><td>0</td><td>0</td><td>0</td><td>0</td><td>0</td><td>0</td><td>0</td><td>0</td><td>0</td><td>0</td><td>0</td><td>0</td><td>0</td><td>0</td><td>0</td></tr>\n",
       "\t<tr><td>100000053</td><td>0</td><td>0</td><td>0</td><td>0</td><td>0</td><td>0</td><td>0</td><td>0</td><td>0</td><td>0</td><td>1</td><td>0</td><td>0</td><td>0</td><td>0</td><td>0</td><td>0</td><td>0</td><td>0</td><td>0</td><td>0</td><td>0</td><td>0</td><td>0</td><td>0</td><td>0</td><td>0</td><td>0</td><td>0</td><td>0</td><td>0</td><td>0</td><td>0</td><td>0</td><td>0</td><td>0</td><td>0</td><td>0</td><td>0</td><td>0</td><td>0</td><td>0</td><td>0</td><td>0</td><td>0</td><td>1</td><td>0</td><td>0</td><td>0</td><td>0</td><td>0</td><td>0</td><td>0</td><td>0</td><td>0</td><td>0</td><td>0</td><td>0</td><td>1</td><td>0</td><td>0</td><td>0</td><td>0</td><td>0</td><td>0</td><td>0</td><td>0</td><td>0</td><td>0</td><td>1</td><td>0</td><td>0</td><td>0</td><td>0</td><td>0</td><td>0</td><td>0</td><td>0</td><td>0</td><td>0</td><td>0</td><td>0</td><td>0</td><td>0</td><td>0</td><td>0</td><td>0</td></tr>\n",
       "\t<tr><td>100000099</td><td>0</td><td>0</td><td>0</td><td>0</td><td>0</td><td>0</td><td>0</td><td>0</td><td>0</td><td>0</td><td>0</td><td>0</td><td>0</td><td>0</td><td>0</td><td>0</td><td>0</td><td>0</td><td>0</td><td>0</td><td>0</td><td>0</td><td>0</td><td>0</td><td>1</td><td>0</td><td>0</td><td>0</td><td>0</td><td>0</td><td>0</td><td>0</td><td>0</td><td>0</td><td>0</td><td>0</td><td>0</td><td>0</td><td>0</td><td>0</td><td>0</td><td>0</td><td>0</td><td>0</td><td>0</td><td>0</td><td>0</td><td>0</td><td>0</td><td>1</td><td>0</td><td>0</td><td>0</td><td>0</td><td>0</td><td>0</td><td>1</td><td>0</td><td>0</td><td>0</td><td>0</td><td>0</td><td>0</td><td>0</td><td>0</td><td>0</td><td>0</td><td>0</td><td>0</td><td>0</td><td>0</td><td>0</td><td>0</td><td>0</td><td>0</td><td>0</td><td>0</td><td>0</td><td>0</td><td>0</td><td>0</td><td>0</td><td>0</td><td>0</td><td>0</td><td>0</td><td>0</td></tr>\n",
       "\t<tr><td>100000129</td><td>0</td><td>0</td><td>0</td><td>0</td><td>0</td><td>0</td><td>0</td><td>0</td><td>0</td><td>0</td><td>0</td><td>0</td><td>0</td><td>0</td><td>0</td><td>0</td><td>0</td><td>0</td><td>0</td><td>0</td><td>0</td><td>0</td><td>0</td><td>0</td><td>0</td><td>0</td><td>0</td><td>0</td><td>1</td><td>0</td><td>0</td><td>0</td><td>0</td><td>0</td><td>0</td><td>0</td><td>0</td><td>0</td><td>0</td><td>0</td><td>0</td><td>0</td><td>0</td><td>0</td><td>0</td><td>0</td><td>0</td><td>0</td><td>0</td><td>0</td><td>0</td><td>0</td><td>0</td><td>0</td><td>0</td><td>0</td><td>0</td><td>0</td><td>0</td><td>0</td><td>0</td><td>0</td><td>0</td><td>0</td><td>0</td><td>0</td><td>0</td><td>0</td><td>0</td><td>0</td><td>0</td><td>0</td><td>0</td><td>0</td><td>0</td><td>0</td><td>0</td><td>0</td><td>0</td><td>0</td><td>0</td><td>0</td><td>0</td><td>0</td><td>0</td><td>0</td><td>0</td></tr>\n",
       "\t<tr><td>100000203</td><td>0</td><td>0</td><td>0</td><td>0</td><td>1</td><td>0</td><td>0</td><td>0</td><td>0</td><td>0</td><td>0</td><td>0</td><td>0</td><td>0</td><td>0</td><td>0</td><td>0</td><td>0</td><td>0</td><td>0</td><td>0</td><td>1</td><td>0</td><td>0</td><td>0</td><td>0</td><td>0</td><td>0</td><td>0</td><td>0</td><td>0</td><td>0</td><td>0</td><td>0</td><td>0</td><td>0</td><td>0</td><td>0</td><td>0</td><td>0</td><td>0</td><td>0</td><td>0</td><td>0</td><td>0</td><td>0</td><td>0</td><td>0</td><td>0</td><td>0</td><td>0</td><td>0</td><td>0</td><td>0</td><td>0</td><td>0</td><td>0</td><td>0</td><td>1</td><td>0</td><td>0</td><td>0</td><td>0</td><td>0</td><td>0</td><td>0</td><td>0</td><td>0</td><td>0</td><td>0</td><td>0</td><td>0</td><td>0</td><td>0</td><td>0</td><td>0</td><td>0</td><td>0</td><td>0</td><td>0</td><td>0</td><td>0</td><td>0</td><td>0</td><td>0</td><td>0</td><td>0</td></tr>\n",
       "</tbody>\n",
       "</table>\n"
      ],
      "text/latex": [
       "A data.table: 6 × 88\n",
       "\\begin{tabular}{llllllllllllllllllllllllllllllllllllllllllllllllllllllllllllllllllllllllllllllllllllllll}\n",
       " MBI & 1 & 2 & 6 & 8 & 9 & 10 & 11 & 12 & 17 & 18 & 19 & 21 & 22 & 23 & 27 & 28 & 29 & 33 & 34 & 35 & 39 & 40 & 46 & 47 & 48 & 51 & 52 & 54 & 55 & 57 & 58 & 70 & 71 & 72 & 73 & 74 & 75 & 76 & 77 & 78 & 79 & 80 & 82 & 83 & 84 & 85 & 86 & 87 & 88 & 96 & 99 & 100 & 103 & 104 & 106 & 107 & 108 & 110 & 111 & 112 & 114 & 115 & 122 & 124 & 134 & 135 & 136 & 137 & 138 & 139 & 140 & 141 & 157 & 158 & 159 & 160 & 161 & 162 & 166 & 167 & 169 & 170 & 173 & 176 & 186 & 188 & 189\\\\\n",
       " <fct> & <int> & <int> & <int> & <int> & <int> & <int> & <int> & <int> & <int> & <int> & <int> & <int> & <int> & <int> & <int> & <int> & <int> & <int> & <int> & <int> & <int> & <int> & <int> & <int> & <int> & <int> & <int> & <int> & <int> & <int> & <int> & <int> & <int> & <int> & <int> & <int> & <int> & <int> & <int> & <int> & <int> & <int> & <int> & <int> & <int> & <int> & <int> & <int> & <int> & <int> & <int> & <int> & <int> & <int> & <int> & <int> & <int> & <int> & <int> & <int> & <int> & <int> & <int> & <int> & <int> & <int> & <int> & <int> & <int> & <int> & <int> & <int> & <int> & <int> & <int> & <int> & <int> & <int> & <int> & <int> & <int> & <int> & <int> & <int> & <int> & <int> & <int>\\\\\n",
       "\\hline\n",
       "\t 100000015 & 0 & 0 & 0 & 0 & 0 & 0 & 0 & 0 & 0 & 0 & 0 & 0 & 0 & 0 & 0 & 0 & 0 & 0 & 0 & 0 & 0 & 0 & 0 & 0 & 0 & 0 & 0 & 0 & 0 & 0 & 0 & 0 & 0 & 0 & 0 & 0 & 0 & 0 & 0 & 0 & 0 & 0 & 0 & 0 & 0 & 0 & 0 & 0 & 0 & 0 & 0 & 0 & 0 & 0 & 0 & 0 & 0 & 0 & 1 & 0 & 0 & 0 & 0 & 1 & 0 & 0 & 0 & 0 & 0 & 0 & 0 & 0 & 0 & 0 & 0 & 0 & 0 & 0 & 0 & 0 & 0 & 0 & 0 & 0 & 0 & 0 & 0\\\\\n",
       "\t 100000019 & 0 & 0 & 0 & 0 & 0 & 0 & 1 & 0 & 0 & 0 & 0 & 0 & 0 & 0 & 0 & 0 & 0 & 0 & 0 & 0 & 0 & 0 & 0 & 1 & 0 & 0 & 0 & 0 & 0 & 0 & 0 & 0 & 0 & 0 & 0 & 0 & 0 & 0 & 0 & 0 & 0 & 0 & 0 & 0 & 0 & 0 & 0 & 0 & 0 & 0 & 0 & 0 & 0 & 0 & 0 & 0 & 0 & 0 & 0 & 0 & 0 & 0 & 0 & 0 & 0 & 0 & 0 & 0 & 0 & 0 & 0 & 0 & 0 & 0 & 0 & 0 & 0 & 0 & 0 & 0 & 0 & 0 & 0 & 0 & 0 & 0 & 0\\\\\n",
       "\t 100000053 & 0 & 0 & 0 & 0 & 0 & 0 & 0 & 0 & 0 & 0 & 1 & 0 & 0 & 0 & 0 & 0 & 0 & 0 & 0 & 0 & 0 & 0 & 0 & 0 & 0 & 0 & 0 & 0 & 0 & 0 & 0 & 0 & 0 & 0 & 0 & 0 & 0 & 0 & 0 & 0 & 0 & 0 & 0 & 0 & 0 & 1 & 0 & 0 & 0 & 0 & 0 & 0 & 0 & 0 & 0 & 0 & 0 & 0 & 1 & 0 & 0 & 0 & 0 & 0 & 0 & 0 & 0 & 0 & 0 & 1 & 0 & 0 & 0 & 0 & 0 & 0 & 0 & 0 & 0 & 0 & 0 & 0 & 0 & 0 & 0 & 0 & 0\\\\\n",
       "\t 100000099 & 0 & 0 & 0 & 0 & 0 & 0 & 0 & 0 & 0 & 0 & 0 & 0 & 0 & 0 & 0 & 0 & 0 & 0 & 0 & 0 & 0 & 0 & 0 & 0 & 1 & 0 & 0 & 0 & 0 & 0 & 0 & 0 & 0 & 0 & 0 & 0 & 0 & 0 & 0 & 0 & 0 & 0 & 0 & 0 & 0 & 0 & 0 & 0 & 0 & 1 & 0 & 0 & 0 & 0 & 0 & 0 & 1 & 0 & 0 & 0 & 0 & 0 & 0 & 0 & 0 & 0 & 0 & 0 & 0 & 0 & 0 & 0 & 0 & 0 & 0 & 0 & 0 & 0 & 0 & 0 & 0 & 0 & 0 & 0 & 0 & 0 & 0\\\\\n",
       "\t 100000129 & 0 & 0 & 0 & 0 & 0 & 0 & 0 & 0 & 0 & 0 & 0 & 0 & 0 & 0 & 0 & 0 & 0 & 0 & 0 & 0 & 0 & 0 & 0 & 0 & 0 & 0 & 0 & 0 & 1 & 0 & 0 & 0 & 0 & 0 & 0 & 0 & 0 & 0 & 0 & 0 & 0 & 0 & 0 & 0 & 0 & 0 & 0 & 0 & 0 & 0 & 0 & 0 & 0 & 0 & 0 & 0 & 0 & 0 & 0 & 0 & 0 & 0 & 0 & 0 & 0 & 0 & 0 & 0 & 0 & 0 & 0 & 0 & 0 & 0 & 0 & 0 & 0 & 0 & 0 & 0 & 0 & 0 & 0 & 0 & 0 & 0 & 0\\\\\n",
       "\t 100000203 & 0 & 0 & 0 & 0 & 1 & 0 & 0 & 0 & 0 & 0 & 0 & 0 & 0 & 0 & 0 & 0 & 0 & 0 & 0 & 0 & 0 & 1 & 0 & 0 & 0 & 0 & 0 & 0 & 0 & 0 & 0 & 0 & 0 & 0 & 0 & 0 & 0 & 0 & 0 & 0 & 0 & 0 & 0 & 0 & 0 & 0 & 0 & 0 & 0 & 0 & 0 & 0 & 0 & 0 & 0 & 0 & 0 & 0 & 1 & 0 & 0 & 0 & 0 & 0 & 0 & 0 & 0 & 0 & 0 & 0 & 0 & 0 & 0 & 0 & 0 & 0 & 0 & 0 & 0 & 0 & 0 & 0 & 0 & 0 & 0 & 0 & 0\\\\\n",
       "\\end{tabular}\n"
      ],
      "text/markdown": [
       "\n",
       "A data.table: 6 × 88\n",
       "\n",
       "| MBI &lt;fct&gt; | 1 &lt;int&gt; | 2 &lt;int&gt; | 6 &lt;int&gt; | 8 &lt;int&gt; | 9 &lt;int&gt; | 10 &lt;int&gt; | 11 &lt;int&gt; | 12 &lt;int&gt; | 17 &lt;int&gt; | 18 &lt;int&gt; | 19 &lt;int&gt; | 21 &lt;int&gt; | 22 &lt;int&gt; | 23 &lt;int&gt; | 27 &lt;int&gt; | 28 &lt;int&gt; | 29 &lt;int&gt; | 33 &lt;int&gt; | 34 &lt;int&gt; | 35 &lt;int&gt; | 39 &lt;int&gt; | 40 &lt;int&gt; | 46 &lt;int&gt; | 47 &lt;int&gt; | 48 &lt;int&gt; | 51 &lt;int&gt; | 52 &lt;int&gt; | 54 &lt;int&gt; | 55 &lt;int&gt; | 57 &lt;int&gt; | 58 &lt;int&gt; | 70 &lt;int&gt; | 71 &lt;int&gt; | 72 &lt;int&gt; | 73 &lt;int&gt; | 74 &lt;int&gt; | 75 &lt;int&gt; | 76 &lt;int&gt; | 77 &lt;int&gt; | 78 &lt;int&gt; | 79 &lt;int&gt; | 80 &lt;int&gt; | 82 &lt;int&gt; | 83 &lt;int&gt; | 84 &lt;int&gt; | 85 &lt;int&gt; | 86 &lt;int&gt; | 87 &lt;int&gt; | 88 &lt;int&gt; | 96 &lt;int&gt; | 99 &lt;int&gt; | 100 &lt;int&gt; | 103 &lt;int&gt; | 104 &lt;int&gt; | 106 &lt;int&gt; | 107 &lt;int&gt; | 108 &lt;int&gt; | 110 &lt;int&gt; | 111 &lt;int&gt; | 112 &lt;int&gt; | 114 &lt;int&gt; | 115 &lt;int&gt; | 122 &lt;int&gt; | 124 &lt;int&gt; | 134 &lt;int&gt; | 135 &lt;int&gt; | 136 &lt;int&gt; | 137 &lt;int&gt; | 138 &lt;int&gt; | 139 &lt;int&gt; | 140 &lt;int&gt; | 141 &lt;int&gt; | 157 &lt;int&gt; | 158 &lt;int&gt; | 159 &lt;int&gt; | 160 &lt;int&gt; | 161 &lt;int&gt; | 162 &lt;int&gt; | 166 &lt;int&gt; | 167 &lt;int&gt; | 169 &lt;int&gt; | 170 &lt;int&gt; | 173 &lt;int&gt; | 176 &lt;int&gt; | 186 &lt;int&gt; | 188 &lt;int&gt; | 189 &lt;int&gt; |\n",
       "|---|---|---|---|---|---|---|---|---|---|---|---|---|---|---|---|---|---|---|---|---|---|---|---|---|---|---|---|---|---|---|---|---|---|---|---|---|---|---|---|---|---|---|---|---|---|---|---|---|---|---|---|---|---|---|---|---|---|---|---|---|---|---|---|---|---|---|---|---|---|---|---|---|---|---|---|---|---|---|---|---|---|---|---|---|---|---|---|\n",
       "| 100000015 | 0 | 0 | 0 | 0 | 0 | 0 | 0 | 0 | 0 | 0 | 0 | 0 | 0 | 0 | 0 | 0 | 0 | 0 | 0 | 0 | 0 | 0 | 0 | 0 | 0 | 0 | 0 | 0 | 0 | 0 | 0 | 0 | 0 | 0 | 0 | 0 | 0 | 0 | 0 | 0 | 0 | 0 | 0 | 0 | 0 | 0 | 0 | 0 | 0 | 0 | 0 | 0 | 0 | 0 | 0 | 0 | 0 | 0 | 1 | 0 | 0 | 0 | 0 | 1 | 0 | 0 | 0 | 0 | 0 | 0 | 0 | 0 | 0 | 0 | 0 | 0 | 0 | 0 | 0 | 0 | 0 | 0 | 0 | 0 | 0 | 0 | 0 |\n",
       "| 100000019 | 0 | 0 | 0 | 0 | 0 | 0 | 1 | 0 | 0 | 0 | 0 | 0 | 0 | 0 | 0 | 0 | 0 | 0 | 0 | 0 | 0 | 0 | 0 | 1 | 0 | 0 | 0 | 0 | 0 | 0 | 0 | 0 | 0 | 0 | 0 | 0 | 0 | 0 | 0 | 0 | 0 | 0 | 0 | 0 | 0 | 0 | 0 | 0 | 0 | 0 | 0 | 0 | 0 | 0 | 0 | 0 | 0 | 0 | 0 | 0 | 0 | 0 | 0 | 0 | 0 | 0 | 0 | 0 | 0 | 0 | 0 | 0 | 0 | 0 | 0 | 0 | 0 | 0 | 0 | 0 | 0 | 0 | 0 | 0 | 0 | 0 | 0 |\n",
       "| 100000053 | 0 | 0 | 0 | 0 | 0 | 0 | 0 | 0 | 0 | 0 | 1 | 0 | 0 | 0 | 0 | 0 | 0 | 0 | 0 | 0 | 0 | 0 | 0 | 0 | 0 | 0 | 0 | 0 | 0 | 0 | 0 | 0 | 0 | 0 | 0 | 0 | 0 | 0 | 0 | 0 | 0 | 0 | 0 | 0 | 0 | 1 | 0 | 0 | 0 | 0 | 0 | 0 | 0 | 0 | 0 | 0 | 0 | 0 | 1 | 0 | 0 | 0 | 0 | 0 | 0 | 0 | 0 | 0 | 0 | 1 | 0 | 0 | 0 | 0 | 0 | 0 | 0 | 0 | 0 | 0 | 0 | 0 | 0 | 0 | 0 | 0 | 0 |\n",
       "| 100000099 | 0 | 0 | 0 | 0 | 0 | 0 | 0 | 0 | 0 | 0 | 0 | 0 | 0 | 0 | 0 | 0 | 0 | 0 | 0 | 0 | 0 | 0 | 0 | 0 | 1 | 0 | 0 | 0 | 0 | 0 | 0 | 0 | 0 | 0 | 0 | 0 | 0 | 0 | 0 | 0 | 0 | 0 | 0 | 0 | 0 | 0 | 0 | 0 | 0 | 1 | 0 | 0 | 0 | 0 | 0 | 0 | 1 | 0 | 0 | 0 | 0 | 0 | 0 | 0 | 0 | 0 | 0 | 0 | 0 | 0 | 0 | 0 | 0 | 0 | 0 | 0 | 0 | 0 | 0 | 0 | 0 | 0 | 0 | 0 | 0 | 0 | 0 |\n",
       "| 100000129 | 0 | 0 | 0 | 0 | 0 | 0 | 0 | 0 | 0 | 0 | 0 | 0 | 0 | 0 | 0 | 0 | 0 | 0 | 0 | 0 | 0 | 0 | 0 | 0 | 0 | 0 | 0 | 0 | 1 | 0 | 0 | 0 | 0 | 0 | 0 | 0 | 0 | 0 | 0 | 0 | 0 | 0 | 0 | 0 | 0 | 0 | 0 | 0 | 0 | 0 | 0 | 0 | 0 | 0 | 0 | 0 | 0 | 0 | 0 | 0 | 0 | 0 | 0 | 0 | 0 | 0 | 0 | 0 | 0 | 0 | 0 | 0 | 0 | 0 | 0 | 0 | 0 | 0 | 0 | 0 | 0 | 0 | 0 | 0 | 0 | 0 | 0 |\n",
       "| 100000203 | 0 | 0 | 0 | 0 | 1 | 0 | 0 | 0 | 0 | 0 | 0 | 0 | 0 | 0 | 0 | 0 | 0 | 0 | 0 | 0 | 0 | 1 | 0 | 0 | 0 | 0 | 0 | 0 | 0 | 0 | 0 | 0 | 0 | 0 | 0 | 0 | 0 | 0 | 0 | 0 | 0 | 0 | 0 | 0 | 0 | 0 | 0 | 0 | 0 | 0 | 0 | 0 | 0 | 0 | 0 | 0 | 0 | 0 | 1 | 0 | 0 | 0 | 0 | 0 | 0 | 0 | 0 | 0 | 0 | 0 | 0 | 0 | 0 | 0 | 0 | 0 | 0 | 0 | 0 | 0 | 0 | 0 | 0 | 0 | 0 | 0 | 0 |\n",
       "\n"
      ],
      "text/plain": [
       "  MBI       1 2 6 8 9 10 11 12 17 18 19 21 22 23 27 28 29 33 34 35 39 40 46 47 48 51 52 54 55 57 58 70 71 72 73 74 75 76 77 78 79 80 82 83 84 85 86 87 88 96 99 100 103 104 106 107 108 110 111 112 114 115 122 124 134 135 136 137 138 139 140 141 157 158 159 160 161 162 166 167 169 170 173 176 186 188\n",
       "1 100000015 0 0 0 0 0 0  0  0  0  0  0  0  0  0  0  0  0  0  0  0  0  0  0  0  0  0  0  0  0  0  0  0  0  0  0  0  0  0  0  0  0  0  0  0  0  0  0  0  0  0  0  0   0   0   0   0   0   0   1   0   0   0   0   1   0   0   0   0   0   0   0   0   0   0   0   0   0   0   0   0   0   0   0   0   0   0  \n",
       "2 100000019 0 0 0 0 0 0  1  0  0  0  0  0  0  0  0  0  0  0  0  0  0  0  0  1  0  0  0  0  0  0  0  0  0  0  0  0  0  0  0  0  0  0  0  0  0  0  0  0  0  0  0  0   0   0   0   0   0   0   0   0   0   0   0   0   0   0   0   0   0   0   0   0   0   0   0   0   0   0   0   0   0   0   0   0   0   0  \n",
       "3 100000053 0 0 0 0 0 0  0  0  0  0  1  0  0  0  0  0  0  0  0  0  0  0  0  0  0  0  0  0  0  0  0  0  0  0  0  0  0  0  0  0  0  0  0  0  0  1  0  0  0  0  0  0   0   0   0   0   0   0   1   0   0   0   0   0   0   0   0   0   0   1   0   0   0   0   0   0   0   0   0   0   0   0   0   0   0   0  \n",
       "4 100000099 0 0 0 0 0 0  0  0  0  0  0  0  0  0  0  0  0  0  0  0  0  0  0  0  1  0  0  0  0  0  0  0  0  0  0  0  0  0  0  0  0  0  0  0  0  0  0  0  0  1  0  0   0   0   0   0   1   0   0   0   0   0   0   0   0   0   0   0   0   0   0   0   0   0   0   0   0   0   0   0   0   0   0   0   0   0  \n",
       "5 100000129 0 0 0 0 0 0  0  0  0  0  0  0  0  0  0  0  0  0  0  0  0  0  0  0  0  0  0  0  1  0  0  0  0  0  0  0  0  0  0  0  0  0  0  0  0  0  0  0  0  0  0  0   0   0   0   0   0   0   0   0   0   0   0   0   0   0   0   0   0   0   0   0   0   0   0   0   0   0   0   0   0   0   0   0   0   0  \n",
       "6 100000203 0 0 0 0 1 0  0  0  0  0  0  0  0  0  0  0  0  0  0  0  0  1  0  0  0  0  0  0  0  0  0  0  0  0  0  0  0  0  0  0  0  0  0  0  0  0  0  0  0  0  0  0   0   0   0   0   0   0   1   0   0   0   0   0   0   0   0   0   0   0   0   0   0   0   0   0   0   0   0   0   0   0   0   0   0   0  \n",
       "  189\n",
       "1 0  \n",
       "2 0  \n",
       "3 0  \n",
       "4 0  \n",
       "5 0  \n",
       "6 0  "
      ]
     },
     "metadata": {},
     "output_type": "display_data"
    },
    {
     "data": {
      "text/html": [
       "<table class=\"dataframe\">\n",
       "<caption>A data.table: 6 × 80</caption>\n",
       "<thead>\n",
       "\t<tr><th scope=col>MBI</th><th scope=col>1</th><th scope=col>2</th><th scope=col>6</th><th scope=col>8</th><th scope=col>9</th><th scope=col>10</th><th scope=col>11</th><th scope=col>12</th><th scope=col>17</th><th scope=col>18</th><th scope=col>19</th><th scope=col>21</th><th scope=col>22</th><th scope=col>23</th><th scope=col>27</th><th scope=col>28</th><th scope=col>29</th><th scope=col>33</th><th scope=col>34</th><th scope=col>35</th><th scope=col>39</th><th scope=col>40</th><th scope=col>46</th><th scope=col>47</th><th scope=col>48</th><th scope=col>54</th><th scope=col>55</th><th scope=col>57</th><th scope=col>58</th><th scope=col>70</th><th scope=col>71</th><th scope=col>72</th><th scope=col>73</th><th scope=col>74</th><th scope=col>75</th><th scope=col>76</th><th scope=col>77</th><th scope=col>78</th><th scope=col>79</th><th scope=col>80</th><th scope=col>82</th><th scope=col>83</th><th scope=col>84</th><th scope=col>85</th><th scope=col>86</th><th scope=col>87</th><th scope=col>88</th><th scope=col>96</th><th scope=col>99</th><th scope=col>100</th><th scope=col>103</th><th scope=col>104</th><th scope=col>106</th><th scope=col>107</th><th scope=col>108</th><th scope=col>110</th><th scope=col>111</th><th scope=col>112</th><th scope=col>114</th><th scope=col>115</th><th scope=col>122</th><th scope=col>124</th><th scope=col>134</th><th scope=col>135</th><th scope=col>136</th><th scope=col>137</th><th scope=col>157</th><th scope=col>158</th><th scope=col>161</th><th scope=col>162</th><th scope=col>166</th><th scope=col>167</th><th scope=col>169</th><th scope=col>170</th><th scope=col>173</th><th scope=col>176</th><th scope=col>186</th><th scope=col>188</th><th scope=col>189</th></tr>\n",
       "\t<tr><th scope=col>&lt;fct&gt;</th><th scope=col>&lt;int&gt;</th><th scope=col>&lt;int&gt;</th><th scope=col>&lt;int&gt;</th><th scope=col>&lt;int&gt;</th><th scope=col>&lt;int&gt;</th><th scope=col>&lt;int&gt;</th><th scope=col>&lt;int&gt;</th><th scope=col>&lt;int&gt;</th><th scope=col>&lt;int&gt;</th><th scope=col>&lt;int&gt;</th><th scope=col>&lt;int&gt;</th><th scope=col>&lt;int&gt;</th><th scope=col>&lt;int&gt;</th><th scope=col>&lt;int&gt;</th><th scope=col>&lt;int&gt;</th><th scope=col>&lt;int&gt;</th><th scope=col>&lt;int&gt;</th><th scope=col>&lt;int&gt;</th><th scope=col>&lt;int&gt;</th><th scope=col>&lt;int&gt;</th><th scope=col>&lt;int&gt;</th><th scope=col>&lt;int&gt;</th><th scope=col>&lt;int&gt;</th><th scope=col>&lt;int&gt;</th><th scope=col>&lt;int&gt;</th><th scope=col>&lt;int&gt;</th><th scope=col>&lt;int&gt;</th><th scope=col>&lt;int&gt;</th><th scope=col>&lt;int&gt;</th><th scope=col>&lt;int&gt;</th><th scope=col>&lt;int&gt;</th><th scope=col>&lt;int&gt;</th><th scope=col>&lt;int&gt;</th><th scope=col>&lt;int&gt;</th><th scope=col>&lt;int&gt;</th><th scope=col>&lt;int&gt;</th><th scope=col>&lt;int&gt;</th><th scope=col>&lt;int&gt;</th><th scope=col>&lt;int&gt;</th><th scope=col>&lt;int&gt;</th><th scope=col>&lt;int&gt;</th><th scope=col>&lt;int&gt;</th><th scope=col>&lt;int&gt;</th><th scope=col>&lt;int&gt;</th><th scope=col>&lt;int&gt;</th><th scope=col>&lt;int&gt;</th><th scope=col>&lt;int&gt;</th><th scope=col>&lt;int&gt;</th><th scope=col>&lt;int&gt;</th><th scope=col>&lt;int&gt;</th><th scope=col>&lt;int&gt;</th><th scope=col>&lt;int&gt;</th><th scope=col>&lt;int&gt;</th><th scope=col>&lt;int&gt;</th><th scope=col>&lt;int&gt;</th><th scope=col>&lt;int&gt;</th><th scope=col>&lt;int&gt;</th><th scope=col>&lt;int&gt;</th><th scope=col>&lt;int&gt;</th><th scope=col>&lt;int&gt;</th><th scope=col>&lt;int&gt;</th><th scope=col>&lt;int&gt;</th><th scope=col>&lt;int&gt;</th><th scope=col>&lt;int&gt;</th><th scope=col>&lt;int&gt;</th><th scope=col>&lt;int&gt;</th><th scope=col>&lt;int&gt;</th><th scope=col>&lt;int&gt;</th><th scope=col>&lt;int&gt;</th><th scope=col>&lt;int&gt;</th><th scope=col>&lt;int&gt;</th><th scope=col>&lt;int&gt;</th><th scope=col>&lt;int&gt;</th><th scope=col>&lt;int&gt;</th><th scope=col>&lt;int&gt;</th><th scope=col>&lt;int&gt;</th><th scope=col>&lt;int&gt;</th><th scope=col>&lt;int&gt;</th><th scope=col>&lt;int&gt;</th></tr>\n",
       "</thead>\n",
       "<tbody>\n",
       "\t<tr><td>100000015</td><td>0</td><td>0</td><td>0</td><td>0</td><td>0</td><td>0</td><td>0</td><td>0</td><td>0</td><td>1</td><td>1</td><td>0</td><td>0</td><td>0</td><td>0</td><td>0</td><td>0</td><td>0</td><td>0</td><td>0</td><td>0</td><td>0</td><td>0</td><td>0</td><td>0</td><td>0</td><td>0</td><td>0</td><td>0</td><td>0</td><td>0</td><td>0</td><td>0</td><td>0</td><td>0</td><td>0</td><td>0</td><td>0</td><td>0</td><td>0</td><td>0</td><td>0</td><td>0</td><td>0</td><td>0</td><td>0</td><td>0</td><td>0</td><td>0</td><td>0</td><td>0</td><td>0</td><td>0</td><td>0</td><td>0</td><td>0</td><td>1</td><td>0</td><td>0</td><td>0</td><td>0</td><td>1</td><td>0</td><td>0</td><td>0</td><td>0</td><td>0</td><td>0</td><td>0</td><td>0</td><td>0</td><td>0</td><td>0</td><td>0</td><td>0</td><td>0</td><td>0</td><td>0</td><td>0</td></tr>\n",
       "\t<tr><td>100000053</td><td>0</td><td>0</td><td>0</td><td>0</td><td>0</td><td>0</td><td>0</td><td>0</td><td>0</td><td>0</td><td>1</td><td>0</td><td>0</td><td>0</td><td>0</td><td>0</td><td>0</td><td>0</td><td>0</td><td>0</td><td>0</td><td>0</td><td>0</td><td>0</td><td>0</td><td>0</td><td>0</td><td>0</td><td>0</td><td>0</td><td>0</td><td>0</td><td>0</td><td>0</td><td>0</td><td>0</td><td>0</td><td>0</td><td>0</td><td>0</td><td>0</td><td>0</td><td>0</td><td>1</td><td>0</td><td>0</td><td>0</td><td>1</td><td>0</td><td>0</td><td>0</td><td>0</td><td>0</td><td>0</td><td>0</td><td>0</td><td>0</td><td>0</td><td>0</td><td>0</td><td>0</td><td>0</td><td>0</td><td>0</td><td>0</td><td>0</td><td>0</td><td>0</td><td>0</td><td>0</td><td>0</td><td>0</td><td>0</td><td>0</td><td>0</td><td>0</td><td>0</td><td>0</td><td>0</td></tr>\n",
       "\t<tr><td>100000203</td><td>0</td><td>0</td><td>0</td><td>0</td><td>0</td><td>0</td><td>0</td><td>0</td><td>0</td><td>0</td><td>0</td><td>0</td><td>0</td><td>0</td><td>0</td><td>0</td><td>0</td><td>0</td><td>0</td><td>0</td><td>0</td><td>0</td><td>0</td><td>0</td><td>0</td><td>0</td><td>0</td><td>0</td><td>0</td><td>0</td><td>0</td><td>0</td><td>0</td><td>0</td><td>0</td><td>0</td><td>0</td><td>0</td><td>0</td><td>0</td><td>0</td><td>0</td><td>0</td><td>0</td><td>0</td><td>0</td><td>0</td><td>0</td><td>0</td><td>0</td><td>0</td><td>0</td><td>0</td><td>0</td><td>0</td><td>0</td><td>1</td><td>0</td><td>0</td><td>0</td><td>0</td><td>0</td><td>0</td><td>0</td><td>0</td><td>0</td><td>0</td><td>0</td><td>0</td><td>0</td><td>0</td><td>0</td><td>1</td><td>0</td><td>0</td><td>0</td><td>0</td><td>0</td><td>0</td></tr>\n",
       "\t<tr><td>100000241</td><td>0</td><td>0</td><td>0</td><td>0</td><td>0</td><td>0</td><td>0</td><td>0</td><td>0</td><td>1</td><td>0</td><td>0</td><td>0</td><td>0</td><td>0</td><td>0</td><td>0</td><td>0</td><td>0</td><td>0</td><td>0</td><td>0</td><td>0</td><td>0</td><td>0</td><td>0</td><td>0</td><td>0</td><td>0</td><td>0</td><td>0</td><td>0</td><td>0</td><td>0</td><td>0</td><td>0</td><td>0</td><td>0</td><td>0</td><td>0</td><td>0</td><td>0</td><td>0</td><td>0</td><td>0</td><td>0</td><td>0</td><td>0</td><td>0</td><td>0</td><td>0</td><td>0</td><td>0</td><td>0</td><td>0</td><td>0</td><td>0</td><td>0</td><td>0</td><td>0</td><td>0</td><td>0</td><td>0</td><td>0</td><td>0</td><td>0</td><td>0</td><td>0</td><td>0</td><td>0</td><td>0</td><td>0</td><td>0</td><td>0</td><td>0</td><td>0</td><td>0</td><td>0</td><td>0</td></tr>\n",
       "\t<tr><td>100000285</td><td>0</td><td>0</td><td>0</td><td>0</td><td>0</td><td>0</td><td>0</td><td>0</td><td>0</td><td>1</td><td>1</td><td>0</td><td>0</td><td>0</td><td>0</td><td>0</td><td>0</td><td>0</td><td>0</td><td>0</td><td>0</td><td>0</td><td>0</td><td>0</td><td>0</td><td>0</td><td>0</td><td>0</td><td>0</td><td>0</td><td>0</td><td>0</td><td>0</td><td>0</td><td>0</td><td>0</td><td>0</td><td>0</td><td>0</td><td>0</td><td>0</td><td>0</td><td>0</td><td>0</td><td>0</td><td>0</td><td>0</td><td>1</td><td>0</td><td>0</td><td>0</td><td>0</td><td>0</td><td>0</td><td>0</td><td>0</td><td>0</td><td>0</td><td>0</td><td>0</td><td>0</td><td>0</td><td>0</td><td>0</td><td>0</td><td>0</td><td>0</td><td>0</td><td>0</td><td>0</td><td>0</td><td>0</td><td>0</td><td>0</td><td>0</td><td>0</td><td>0</td><td>0</td><td>0</td></tr>\n",
       "\t<tr><td>100000327</td><td>0</td><td>0</td><td>0</td><td>0</td><td>0</td><td>0</td><td>0</td><td>0</td><td>0</td><td>0</td><td>0</td><td>0</td><td>0</td><td>0</td><td>0</td><td>0</td><td>0</td><td>0</td><td>0</td><td>0</td><td>0</td><td>0</td><td>0</td><td>0</td><td>0</td><td>0</td><td>0</td><td>0</td><td>0</td><td>0</td><td>0</td><td>0</td><td>0</td><td>0</td><td>0</td><td>0</td><td>0</td><td>0</td><td>0</td><td>0</td><td>0</td><td>0</td><td>0</td><td>0</td><td>0</td><td>0</td><td>0</td><td>1</td><td>0</td><td>0</td><td>0</td><td>0</td><td>0</td><td>0</td><td>0</td><td>0</td><td>0</td><td>0</td><td>0</td><td>0</td><td>0</td><td>0</td><td>0</td><td>0</td><td>0</td><td>0</td><td>0</td><td>0</td><td>0</td><td>0</td><td>0</td><td>0</td><td>0</td><td>0</td><td>0</td><td>0</td><td>0</td><td>0</td><td>0</td></tr>\n",
       "</tbody>\n",
       "</table>\n"
      ],
      "text/latex": [
       "A data.table: 6 × 80\n",
       "\\begin{tabular}{llllllllllllllllllllllllllllllllllllllllllllllllllllllllllllllllllllllllllllllll}\n",
       " MBI & 1 & 2 & 6 & 8 & 9 & 10 & 11 & 12 & 17 & 18 & 19 & 21 & 22 & 23 & 27 & 28 & 29 & 33 & 34 & 35 & 39 & 40 & 46 & 47 & 48 & 54 & 55 & 57 & 58 & 70 & 71 & 72 & 73 & 74 & 75 & 76 & 77 & 78 & 79 & 80 & 82 & 83 & 84 & 85 & 86 & 87 & 88 & 96 & 99 & 100 & 103 & 104 & 106 & 107 & 108 & 110 & 111 & 112 & 114 & 115 & 122 & 124 & 134 & 135 & 136 & 137 & 157 & 158 & 161 & 162 & 166 & 167 & 169 & 170 & 173 & 176 & 186 & 188 & 189\\\\\n",
       " <fct> & <int> & <int> & <int> & <int> & <int> & <int> & <int> & <int> & <int> & <int> & <int> & <int> & <int> & <int> & <int> & <int> & <int> & <int> & <int> & <int> & <int> & <int> & <int> & <int> & <int> & <int> & <int> & <int> & <int> & <int> & <int> & <int> & <int> & <int> & <int> & <int> & <int> & <int> & <int> & <int> & <int> & <int> & <int> & <int> & <int> & <int> & <int> & <int> & <int> & <int> & <int> & <int> & <int> & <int> & <int> & <int> & <int> & <int> & <int> & <int> & <int> & <int> & <int> & <int> & <int> & <int> & <int> & <int> & <int> & <int> & <int> & <int> & <int> & <int> & <int> & <int> & <int> & <int> & <int>\\\\\n",
       "\\hline\n",
       "\t 100000015 & 0 & 0 & 0 & 0 & 0 & 0 & 0 & 0 & 0 & 1 & 1 & 0 & 0 & 0 & 0 & 0 & 0 & 0 & 0 & 0 & 0 & 0 & 0 & 0 & 0 & 0 & 0 & 0 & 0 & 0 & 0 & 0 & 0 & 0 & 0 & 0 & 0 & 0 & 0 & 0 & 0 & 0 & 0 & 0 & 0 & 0 & 0 & 0 & 0 & 0 & 0 & 0 & 0 & 0 & 0 & 0 & 1 & 0 & 0 & 0 & 0 & 1 & 0 & 0 & 0 & 0 & 0 & 0 & 0 & 0 & 0 & 0 & 0 & 0 & 0 & 0 & 0 & 0 & 0\\\\\n",
       "\t 100000053 & 0 & 0 & 0 & 0 & 0 & 0 & 0 & 0 & 0 & 0 & 1 & 0 & 0 & 0 & 0 & 0 & 0 & 0 & 0 & 0 & 0 & 0 & 0 & 0 & 0 & 0 & 0 & 0 & 0 & 0 & 0 & 0 & 0 & 0 & 0 & 0 & 0 & 0 & 0 & 0 & 0 & 0 & 0 & 1 & 0 & 0 & 0 & 1 & 0 & 0 & 0 & 0 & 0 & 0 & 0 & 0 & 0 & 0 & 0 & 0 & 0 & 0 & 0 & 0 & 0 & 0 & 0 & 0 & 0 & 0 & 0 & 0 & 0 & 0 & 0 & 0 & 0 & 0 & 0\\\\\n",
       "\t 100000203 & 0 & 0 & 0 & 0 & 0 & 0 & 0 & 0 & 0 & 0 & 0 & 0 & 0 & 0 & 0 & 0 & 0 & 0 & 0 & 0 & 0 & 0 & 0 & 0 & 0 & 0 & 0 & 0 & 0 & 0 & 0 & 0 & 0 & 0 & 0 & 0 & 0 & 0 & 0 & 0 & 0 & 0 & 0 & 0 & 0 & 0 & 0 & 0 & 0 & 0 & 0 & 0 & 0 & 0 & 0 & 0 & 1 & 0 & 0 & 0 & 0 & 0 & 0 & 0 & 0 & 0 & 0 & 0 & 0 & 0 & 0 & 0 & 1 & 0 & 0 & 0 & 0 & 0 & 0\\\\\n",
       "\t 100000241 & 0 & 0 & 0 & 0 & 0 & 0 & 0 & 0 & 0 & 1 & 0 & 0 & 0 & 0 & 0 & 0 & 0 & 0 & 0 & 0 & 0 & 0 & 0 & 0 & 0 & 0 & 0 & 0 & 0 & 0 & 0 & 0 & 0 & 0 & 0 & 0 & 0 & 0 & 0 & 0 & 0 & 0 & 0 & 0 & 0 & 0 & 0 & 0 & 0 & 0 & 0 & 0 & 0 & 0 & 0 & 0 & 0 & 0 & 0 & 0 & 0 & 0 & 0 & 0 & 0 & 0 & 0 & 0 & 0 & 0 & 0 & 0 & 0 & 0 & 0 & 0 & 0 & 0 & 0\\\\\n",
       "\t 100000285 & 0 & 0 & 0 & 0 & 0 & 0 & 0 & 0 & 0 & 1 & 1 & 0 & 0 & 0 & 0 & 0 & 0 & 0 & 0 & 0 & 0 & 0 & 0 & 0 & 0 & 0 & 0 & 0 & 0 & 0 & 0 & 0 & 0 & 0 & 0 & 0 & 0 & 0 & 0 & 0 & 0 & 0 & 0 & 0 & 0 & 0 & 0 & 1 & 0 & 0 & 0 & 0 & 0 & 0 & 0 & 0 & 0 & 0 & 0 & 0 & 0 & 0 & 0 & 0 & 0 & 0 & 0 & 0 & 0 & 0 & 0 & 0 & 0 & 0 & 0 & 0 & 0 & 0 & 0\\\\\n",
       "\t 100000327 & 0 & 0 & 0 & 0 & 0 & 0 & 0 & 0 & 0 & 0 & 0 & 0 & 0 & 0 & 0 & 0 & 0 & 0 & 0 & 0 & 0 & 0 & 0 & 0 & 0 & 0 & 0 & 0 & 0 & 0 & 0 & 0 & 0 & 0 & 0 & 0 & 0 & 0 & 0 & 0 & 0 & 0 & 0 & 0 & 0 & 0 & 0 & 1 & 0 & 0 & 0 & 0 & 0 & 0 & 0 & 0 & 0 & 0 & 0 & 0 & 0 & 0 & 0 & 0 & 0 & 0 & 0 & 0 & 0 & 0 & 0 & 0 & 0 & 0 & 0 & 0 & 0 & 0 & 0\\\\\n",
       "\\end{tabular}\n"
      ],
      "text/markdown": [
       "\n",
       "A data.table: 6 × 80\n",
       "\n",
       "| MBI &lt;fct&gt; | 1 &lt;int&gt; | 2 &lt;int&gt; | 6 &lt;int&gt; | 8 &lt;int&gt; | 9 &lt;int&gt; | 10 &lt;int&gt; | 11 &lt;int&gt; | 12 &lt;int&gt; | 17 &lt;int&gt; | 18 &lt;int&gt; | 19 &lt;int&gt; | 21 &lt;int&gt; | 22 &lt;int&gt; | 23 &lt;int&gt; | 27 &lt;int&gt; | 28 &lt;int&gt; | 29 &lt;int&gt; | 33 &lt;int&gt; | 34 &lt;int&gt; | 35 &lt;int&gt; | 39 &lt;int&gt; | 40 &lt;int&gt; | 46 &lt;int&gt; | 47 &lt;int&gt; | 48 &lt;int&gt; | 54 &lt;int&gt; | 55 &lt;int&gt; | 57 &lt;int&gt; | 58 &lt;int&gt; | 70 &lt;int&gt; | 71 &lt;int&gt; | 72 &lt;int&gt; | 73 &lt;int&gt; | 74 &lt;int&gt; | 75 &lt;int&gt; | 76 &lt;int&gt; | 77 &lt;int&gt; | 78 &lt;int&gt; | 79 &lt;int&gt; | 80 &lt;int&gt; | 82 &lt;int&gt; | 83 &lt;int&gt; | 84 &lt;int&gt; | 85 &lt;int&gt; | 86 &lt;int&gt; | 87 &lt;int&gt; | 88 &lt;int&gt; | 96 &lt;int&gt; | 99 &lt;int&gt; | 100 &lt;int&gt; | 103 &lt;int&gt; | 104 &lt;int&gt; | 106 &lt;int&gt; | 107 &lt;int&gt; | 108 &lt;int&gt; | 110 &lt;int&gt; | 111 &lt;int&gt; | 112 &lt;int&gt; | 114 &lt;int&gt; | 115 &lt;int&gt; | 122 &lt;int&gt; | 124 &lt;int&gt; | 134 &lt;int&gt; | 135 &lt;int&gt; | 136 &lt;int&gt; | 137 &lt;int&gt; | 157 &lt;int&gt; | 158 &lt;int&gt; | 161 &lt;int&gt; | 162 &lt;int&gt; | 166 &lt;int&gt; | 167 &lt;int&gt; | 169 &lt;int&gt; | 170 &lt;int&gt; | 173 &lt;int&gt; | 176 &lt;int&gt; | 186 &lt;int&gt; | 188 &lt;int&gt; | 189 &lt;int&gt; |\n",
       "|---|---|---|---|---|---|---|---|---|---|---|---|---|---|---|---|---|---|---|---|---|---|---|---|---|---|---|---|---|---|---|---|---|---|---|---|---|---|---|---|---|---|---|---|---|---|---|---|---|---|---|---|---|---|---|---|---|---|---|---|---|---|---|---|---|---|---|---|---|---|---|---|---|---|---|---|---|---|---|---|\n",
       "| 100000015 | 0 | 0 | 0 | 0 | 0 | 0 | 0 | 0 | 0 | 1 | 1 | 0 | 0 | 0 | 0 | 0 | 0 | 0 | 0 | 0 | 0 | 0 | 0 | 0 | 0 | 0 | 0 | 0 | 0 | 0 | 0 | 0 | 0 | 0 | 0 | 0 | 0 | 0 | 0 | 0 | 0 | 0 | 0 | 0 | 0 | 0 | 0 | 0 | 0 | 0 | 0 | 0 | 0 | 0 | 0 | 0 | 1 | 0 | 0 | 0 | 0 | 1 | 0 | 0 | 0 | 0 | 0 | 0 | 0 | 0 | 0 | 0 | 0 | 0 | 0 | 0 | 0 | 0 | 0 |\n",
       "| 100000053 | 0 | 0 | 0 | 0 | 0 | 0 | 0 | 0 | 0 | 0 | 1 | 0 | 0 | 0 | 0 | 0 | 0 | 0 | 0 | 0 | 0 | 0 | 0 | 0 | 0 | 0 | 0 | 0 | 0 | 0 | 0 | 0 | 0 | 0 | 0 | 0 | 0 | 0 | 0 | 0 | 0 | 0 | 0 | 1 | 0 | 0 | 0 | 1 | 0 | 0 | 0 | 0 | 0 | 0 | 0 | 0 | 0 | 0 | 0 | 0 | 0 | 0 | 0 | 0 | 0 | 0 | 0 | 0 | 0 | 0 | 0 | 0 | 0 | 0 | 0 | 0 | 0 | 0 | 0 |\n",
       "| 100000203 | 0 | 0 | 0 | 0 | 0 | 0 | 0 | 0 | 0 | 0 | 0 | 0 | 0 | 0 | 0 | 0 | 0 | 0 | 0 | 0 | 0 | 0 | 0 | 0 | 0 | 0 | 0 | 0 | 0 | 0 | 0 | 0 | 0 | 0 | 0 | 0 | 0 | 0 | 0 | 0 | 0 | 0 | 0 | 0 | 0 | 0 | 0 | 0 | 0 | 0 | 0 | 0 | 0 | 0 | 0 | 0 | 1 | 0 | 0 | 0 | 0 | 0 | 0 | 0 | 0 | 0 | 0 | 0 | 0 | 0 | 0 | 0 | 1 | 0 | 0 | 0 | 0 | 0 | 0 |\n",
       "| 100000241 | 0 | 0 | 0 | 0 | 0 | 0 | 0 | 0 | 0 | 1 | 0 | 0 | 0 | 0 | 0 | 0 | 0 | 0 | 0 | 0 | 0 | 0 | 0 | 0 | 0 | 0 | 0 | 0 | 0 | 0 | 0 | 0 | 0 | 0 | 0 | 0 | 0 | 0 | 0 | 0 | 0 | 0 | 0 | 0 | 0 | 0 | 0 | 0 | 0 | 0 | 0 | 0 | 0 | 0 | 0 | 0 | 0 | 0 | 0 | 0 | 0 | 0 | 0 | 0 | 0 | 0 | 0 | 0 | 0 | 0 | 0 | 0 | 0 | 0 | 0 | 0 | 0 | 0 | 0 |\n",
       "| 100000285 | 0 | 0 | 0 | 0 | 0 | 0 | 0 | 0 | 0 | 1 | 1 | 0 | 0 | 0 | 0 | 0 | 0 | 0 | 0 | 0 | 0 | 0 | 0 | 0 | 0 | 0 | 0 | 0 | 0 | 0 | 0 | 0 | 0 | 0 | 0 | 0 | 0 | 0 | 0 | 0 | 0 | 0 | 0 | 0 | 0 | 0 | 0 | 1 | 0 | 0 | 0 | 0 | 0 | 0 | 0 | 0 | 0 | 0 | 0 | 0 | 0 | 0 | 0 | 0 | 0 | 0 | 0 | 0 | 0 | 0 | 0 | 0 | 0 | 0 | 0 | 0 | 0 | 0 | 0 |\n",
       "| 100000327 | 0 | 0 | 0 | 0 | 0 | 0 | 0 | 0 | 0 | 0 | 0 | 0 | 0 | 0 | 0 | 0 | 0 | 0 | 0 | 0 | 0 | 0 | 0 | 0 | 0 | 0 | 0 | 0 | 0 | 0 | 0 | 0 | 0 | 0 | 0 | 0 | 0 | 0 | 0 | 0 | 0 | 0 | 0 | 0 | 0 | 0 | 0 | 1 | 0 | 0 | 0 | 0 | 0 | 0 | 0 | 0 | 0 | 0 | 0 | 0 | 0 | 0 | 0 | 0 | 0 | 0 | 0 | 0 | 0 | 0 | 0 | 0 | 0 | 0 | 0 | 0 | 0 | 0 | 0 |\n",
       "\n"
      ],
      "text/plain": [
       "  MBI       1 2 6 8 9 10 11 12 17 18 19 21 22 23 27 28 29 33 34 35 39 40 46 47 48 54 55 57 58 70 71 72 73 74 75 76 77 78 79 80 82 83 84 85 86 87 88 96 99 100 103 104 106 107 108 110 111 112 114 115 122 124 134 135 136 137 157 158 161 162 166 167 169 170 173 176 186 188 189\n",
       "1 100000015 0 0 0 0 0 0  0  0  0  1  1  0  0  0  0  0  0  0  0  0  0  0  0  0  0  0  0  0  0  0  0  0  0  0  0  0  0  0  0  0  0  0  0  0  0  0  0  0  0  0   0   0   0   0   0   0   1   0   0   0   0   1   0   0   0   0   0   0   0   0   0   0   0   0   0   0   0   0   0  \n",
       "2 100000053 0 0 0 0 0 0  0  0  0  0  1  0  0  0  0  0  0  0  0  0  0  0  0  0  0  0  0  0  0  0  0  0  0  0  0  0  0  0  0  0  0  0  0  1  0  0  0  1  0  0   0   0   0   0   0   0   0   0   0   0   0   0   0   0   0   0   0   0   0   0   0   0   0   0   0   0   0   0   0  \n",
       "3 100000203 0 0 0 0 0 0  0  0  0  0  0  0  0  0  0  0  0  0  0  0  0  0  0  0  0  0  0  0  0  0  0  0  0  0  0  0  0  0  0  0  0  0  0  0  0  0  0  0  0  0   0   0   0   0   0   0   1   0   0   0   0   0   0   0   0   0   0   0   0   0   0   0   1   0   0   0   0   0   0  \n",
       "4 100000241 0 0 0 0 0 0  0  0  0  1  0  0  0  0  0  0  0  0  0  0  0  0  0  0  0  0  0  0  0  0  0  0  0  0  0  0  0  0  0  0  0  0  0  0  0  0  0  0  0  0   0   0   0   0   0   0   0   0   0   0   0   0   0   0   0   0   0   0   0   0   0   0   0   0   0   0   0   0   0  \n",
       "5 100000285 0 0 0 0 0 0  0  0  0  1  1  0  0  0  0  0  0  0  0  0  0  0  0  0  0  0  0  0  0  0  0  0  0  0  0  0  0  0  0  0  0  0  0  0  0  0  0  1  0  0   0   0   0   0   0   0   0   0   0   0   0   0   0   0   0   0   0   0   0   0   0   0   0   0   0   0   0   0   0  \n",
       "6 100000327 0 0 0 0 0 0  0  0  0  0  0  0  0  0  0  0  0  0  0  0  0  0  0  0  0  0  0  0  0  0  0  0  0  0  0  0  0  0  0  0  0  0  0  0  0  0  0  1  0  0   0   0   0   0   0   0   0   0   0   0   0   0   0   0   0   0   0   0   0   0   0   0   0   0   0   0   0   0   0  "
      ]
     },
     "metadata": {},
     "output_type": "display_data"
    }
   ],
   "source": [
    "head(hcc_diag_2013_wide)\n",
    "head(hcc_diag_2020_wide)"
   ]
  },
  {
   "cell_type": "code",
   "execution_count": 119,
   "id": "16231f9f-b284-4a15-a4fe-085072e160e4",
   "metadata": {},
   "outputs": [],
   "source": [
    "write.csv(hcc_diag_2013_wide,\"/work/postresearch/Shared/Projects/Farbod/hcc_data/wide_results/hcc_diag_2013_wide.csv\")\n",
    "write.csv(hcc_diag_2014_wide,\"/work/postresearch/Shared/Projects/Farbod/hcc_data/wide_results/hcc_diag_2014_wide.csv\")\n",
    "write.csv(hcc_diag_2015_wide,\"/work/postresearch/Shared/Projects/Farbod/hcc_data/wide_results/hcc_diag_2015_wide.csv\")\n",
    "write.csv(hcc_diag_2016_wide,\"/work/postresearch/Shared/Projects/Farbod/hcc_data/wide_results/hcc_diag_2016_wide.csv\")\n",
    "write.csv(hcc_diag_2017_wide,\"/work/postresearch/Shared/Projects/Farbod/hcc_data/wide_results/hcc_diag_2017_wide.csv\")\n",
    "write.csv(hcc_diag_2018_wide,\"/work/postresearch/Shared/Projects/Farbod/hcc_data/wide_results/hcc_diag_2018_wide.csv\")\n",
    "write.csv(hcc_diag_2019_wide,\"/work/postresearch/Shared/Projects/Farbod/hcc_data/wide_results/hcc_diag_2019_wide.csv\")\n",
    "write.csv(hcc_diag_2020_wide,\"/work/postresearch/Shared/Projects/Farbod/hcc_data/wide_results/hcc_diag_2020_wide.csv\")"
   ]
  },
  {
   "cell_type": "markdown",
   "id": "64d18bba-6fb2-4368-94a9-9fbe1647112d",
   "metadata": {},
   "source": [
    "## Adding to the stable angina file"
   ]
  },
  {
   "cell_type": "code",
   "execution_count": 6,
   "id": "52608db7-d5d7-4f8b-9a6a-05fe903c46df",
   "metadata": {
    "collapsed": true,
    "jupyter": {
     "outputs_hidden": true
    },
    "tags": []
   },
   "outputs": [
    {
     "name": "stderr",
     "output_type": "stream",
     "text": [
      "\u001b[1m\u001b[22mNew names:\n",
      "\u001b[36m•\u001b[39m `` -> `...1`\n",
      "\u001b[1mRows: \u001b[22m\u001b[34m1229495\u001b[39m \u001b[1mColumns: \u001b[22m\u001b[34m89\u001b[39m\n",
      "\u001b[36m──\u001b[39m \u001b[1mColumn specification\u001b[22m \u001b[36m────────────────────────────────────────────────────────────────────────────────────────────────────────────────────────────────────────\u001b[39m\n",
      "\u001b[1mDelimiter:\u001b[22m \",\"\n",
      "\u001b[32mdbl\u001b[39m (89): ...1, MBI, 1, 2, 6, 8, 9, 10, 11, 12, 17, 18, 19, 21, 22, 23, 27, 28, 29, 33, 34, 35, 39, 40, 46, 47, 48, 51, 52, 54, 55, 57, 58, 70, 71, 72, 73, 74, 75, 76, 77, 78, 79, 80, 82, 83, 84, 85, 86, 87, 88, 96, 99, 100, 103, 104, 106, 107, 108, 110, 111, 112, 114, 115, 122, 124, 134, 135, 1...\n",
      "\n",
      "\u001b[36mℹ\u001b[39m Use `spec()` to retrieve the full column specification for this data.\n",
      "\u001b[36mℹ\u001b[39m Specify the column types or set `show_col_types = FALSE` to quiet this message.\n",
      "\u001b[1m\u001b[22mNew names:\n",
      "\u001b[36m•\u001b[39m `` -> `...1`\n",
      "\u001b[1mRows: \u001b[22m\u001b[34m1196634\u001b[39m \u001b[1mColumns: \u001b[22m\u001b[34m81\u001b[39m\n",
      "\u001b[36m──\u001b[39m \u001b[1mColumn specification\u001b[22m \u001b[36m────────────────────────────────────────────────────────────────────────────────────────────────────────────────────────────────────────\u001b[39m\n",
      "\u001b[1mDelimiter:\u001b[22m \",\"\n",
      "\u001b[32mdbl\u001b[39m (81): ...1, MBI, 1, 2, 6, 8, 9, 10, 11, 12, 17, 18, 19, 21, 22, 23, 27, 28, 29, 33, 34, 35, 39, 40, 46, 47, 48, 54, 55, 57, 58, 70, 71, 72, 73, 74, 75, 76, 77, 78, 79, 80, 82, 83, 84, 85, 86, 87, 88, 96, 99, 100, 103, 104, 106, 107, 108, 110, 111, 112, 114, 115, 122, 124, 134, 135, 136, 137,...\n",
      "\n",
      "\u001b[36mℹ\u001b[39m Use `spec()` to retrieve the full column specification for this data.\n",
      "\u001b[36mℹ\u001b[39m Specify the column types or set `show_col_types = FALSE` to quiet this message.\n",
      "\u001b[1m\u001b[22mNew names:\n",
      "\u001b[36m•\u001b[39m `` -> `...1`\n",
      "\u001b[1mRows: \u001b[22m\u001b[34m1115998\u001b[39m \u001b[1mColumns: \u001b[22m\u001b[34m81\u001b[39m\n",
      "\u001b[36m──\u001b[39m \u001b[1mColumn specification\u001b[22m \u001b[36m────────────────────────────────────────────────────────────────────────────────────────────────────────────────────────────────────────\u001b[39m\n",
      "\u001b[1mDelimiter:\u001b[22m \",\"\n",
      "\u001b[32mdbl\u001b[39m (81): ...1, MBI, 1, 2, 6, 8, 9, 10, 11, 12, 17, 18, 19, 21, 22, 23, 27, 28, 29, 33, 34, 35, 39, 40, 46, 47, 48, 54, 55, 57, 58, 70, 71, 72, 73, 74, 75, 76, 77, 78, 79, 80, 82, 83, 84, 85, 86, 87, 88, 96, 99, 100, 103, 104, 106, 107, 108, 110, 111, 112, 114, 115, 122, 124, 134, 135, 136, 137,...\n",
      "\n",
      "\u001b[36mℹ\u001b[39m Use `spec()` to retrieve the full column specification for this data.\n",
      "\u001b[36mℹ\u001b[39m Specify the column types or set `show_col_types = FALSE` to quiet this message.\n",
      "\u001b[1m\u001b[22mNew names:\n",
      "\u001b[36m•\u001b[39m `` -> `...1`\n",
      "\u001b[1mRows: \u001b[22m\u001b[34m1218333\u001b[39m \u001b[1mColumns: \u001b[22m\u001b[34m81\u001b[39m\n",
      "\u001b[36m──\u001b[39m \u001b[1mColumn specification\u001b[22m \u001b[36m────────────────────────────────────────────────────────────────────────────────────────────────────────────────────────────────────────\u001b[39m\n",
      "\u001b[1mDelimiter:\u001b[22m \",\"\n",
      "\u001b[32mdbl\u001b[39m (81): ...1, MBI, 1, 2, 6, 8, 9, 10, 11, 12, 17, 18, 19, 21, 22, 23, 27, 28, 29, 33, 34, 35, 39, 40, 46, 47, 48, 54, 55, 57, 58, 70, 71, 72, 73, 74, 75, 76, 77, 78, 79, 80, 82, 83, 84, 85, 86, 87, 88, 96, 99, 100, 103, 104, 106, 107, 108, 110, 111, 112, 114, 115, 122, 124, 134, 135, 136, 137,...\n",
      "\n",
      "\u001b[36mℹ\u001b[39m Use `spec()` to retrieve the full column specification for this data.\n",
      "\u001b[36mℹ\u001b[39m Specify the column types or set `show_col_types = FALSE` to quiet this message.\n",
      "\u001b[1m\u001b[22mNew names:\n",
      "\u001b[36m•\u001b[39m `` -> `...1`\n",
      "\u001b[1mRows: \u001b[22m\u001b[34m1223195\u001b[39m \u001b[1mColumns: \u001b[22m\u001b[34m81\u001b[39m\n",
      "\u001b[36m──\u001b[39m \u001b[1mColumn specification\u001b[22m \u001b[36m────────────────────────────────────────────────────────────────────────────────────────────────────────────────────────────────────────\u001b[39m\n",
      "\u001b[1mDelimiter:\u001b[22m \",\"\n",
      "\u001b[32mdbl\u001b[39m (81): ...1, MBI, 1, 2, 6, 8, 9, 10, 11, 12, 17, 18, 19, 21, 22, 23, 27, 28, 29, 33, 34, 35, 39, 40, 46, 47, 48, 54, 55, 57, 58, 70, 71, 72, 73, 74, 75, 76, 77, 78, 79, 80, 82, 83, 84, 85, 86, 87, 88, 96, 99, 100, 103, 104, 106, 107, 108, 110, 111, 112, 114, 115, 122, 124, 134, 135, 136, 137,...\n",
      "\n",
      "\u001b[36mℹ\u001b[39m Use `spec()` to retrieve the full column specification for this data.\n",
      "\u001b[36mℹ\u001b[39m Specify the column types or set `show_col_types = FALSE` to quiet this message.\n",
      "\u001b[1m\u001b[22mNew names:\n",
      "\u001b[36m•\u001b[39m `` -> `...1`\n",
      "\u001b[1mRows: \u001b[22m\u001b[34m1222623\u001b[39m \u001b[1mColumns: \u001b[22m\u001b[34m81\u001b[39m\n",
      "\u001b[36m──\u001b[39m \u001b[1mColumn specification\u001b[22m \u001b[36m────────────────────────────────────────────────────────────────────────────────────────────────────────────────────────────────────────\u001b[39m\n",
      "\u001b[1mDelimiter:\u001b[22m \",\"\n",
      "\u001b[32mdbl\u001b[39m (81): ...1, MBI, 1, 2, 6, 8, 9, 10, 11, 12, 17, 18, 19, 21, 22, 23, 27, 28, 29, 33, 34, 35, 39, 40, 46, 47, 48, 54, 55, 57, 58, 70, 71, 72, 73, 74, 75, 76, 77, 78, 79, 80, 82, 83, 84, 85, 86, 87, 88, 96, 99, 100, 103, 104, 106, 107, 108, 110, 111, 112, 114, 115, 122, 124, 134, 135, 136, 137,...\n",
      "\n",
      "\u001b[36mℹ\u001b[39m Use `spec()` to retrieve the full column specification for this data.\n",
      "\u001b[36mℹ\u001b[39m Specify the column types or set `show_col_types = FALSE` to quiet this message.\n",
      "\u001b[1m\u001b[22mNew names:\n",
      "\u001b[36m•\u001b[39m `` -> `...1`\n",
      "\u001b[1mRows: \u001b[22m\u001b[34m1210926\u001b[39m \u001b[1mColumns: \u001b[22m\u001b[34m81\u001b[39m\n",
      "\u001b[36m──\u001b[39m \u001b[1mColumn specification\u001b[22m \u001b[36m────────────────────────────────────────────────────────────────────────────────────────────────────────────────────────────────────────\u001b[39m\n",
      "\u001b[1mDelimiter:\u001b[22m \",\"\n",
      "\u001b[32mdbl\u001b[39m (81): ...1, MBI, 1, 2, 6, 8, 9, 10, 11, 12, 17, 18, 19, 21, 22, 23, 27, 28, 29, 33, 34, 35, 39, 40, 46, 47, 48, 54, 55, 57, 58, 70, 71, 72, 73, 74, 75, 76, 77, 78, 79, 80, 82, 83, 84, 85, 86, 87, 88, 96, 99, 100, 103, 104, 106, 107, 108, 110, 111, 112, 114, 115, 122, 124, 134, 135, 136, 137,...\n",
      "\n",
      "\u001b[36mℹ\u001b[39m Use `spec()` to retrieve the full column specification for this data.\n",
      "\u001b[36mℹ\u001b[39m Specify the column types or set `show_col_types = FALSE` to quiet this message.\n",
      "\u001b[1m\u001b[22mNew names:\n",
      "\u001b[36m•\u001b[39m `` -> `...1`\n",
      "\u001b[1mRows: \u001b[22m\u001b[34m1133574\u001b[39m \u001b[1mColumns: \u001b[22m\u001b[34m81\u001b[39m\n",
      "\u001b[36m──\u001b[39m \u001b[1mColumn specification\u001b[22m \u001b[36m────────────────────────────────────────────────────────────────────────────────────────────────────────────────────────────────────────\u001b[39m\n",
      "\u001b[1mDelimiter:\u001b[22m \",\"\n",
      "\u001b[32mdbl\u001b[39m (81): ...1, MBI, 1, 2, 6, 8, 9, 10, 11, 12, 17, 18, 19, 21, 22, 23, 27, 28, 29, 33, 34, 35, 39, 40, 46, 47, 48, 54, 55, 57, 58, 70, 71, 72, 73, 74, 75, 76, 77, 78, 79, 80, 82, 83, 84, 85, 86, 87, 88, 96, 99, 100, 103, 104, 106, 107, 108, 110, 111, 112, 114, 115, 122, 124, 134, 135, 136, 137,...\n",
      "\n",
      "\u001b[36mℹ\u001b[39m Use `spec()` to retrieve the full column specification for this data.\n",
      "\u001b[36mℹ\u001b[39m Specify the column types or set `show_col_types = FALSE` to quiet this message.\n"
     ]
    }
   ],
   "source": [
    "hcc_diag_2013_wide=vroom(\"/work/postresearch/Shared/Projects/Farbod/hcc_data/wide_results/hcc_diag_2013_wide.csv\",num_threads = numcores)%>%as.data.table()\n",
    "hcc_diag_2014_wide=vroom(\"/work/postresearch/Shared/Projects/Farbod/hcc_data/wide_results/hcc_diag_2014_wide.csv\",num_threads = numcores)%>%as.data.table()\n",
    "hcc_diag_2015_wide=vroom(\"/work/postresearch/Shared/Projects/Farbod/hcc_data/wide_results/hcc_diag_2015_wide.csv\",num_threads = numcores)%>%as.data.table()\n",
    "hcc_diag_2016_wide=vroom(\"/work/postresearch/Shared/Projects/Farbod/hcc_data/wide_results/hcc_diag_2016_wide.csv\",num_threads = numcores)%>%as.data.table()\n",
    "hcc_diag_2017_wide=vroom(\"/work/postresearch/Shared/Projects/Farbod/hcc_data/wide_results/hcc_diag_2017_wide.csv\",num_threads = numcores)%>%as.data.table()\n",
    "hcc_diag_2018_wide=vroom(\"/work/postresearch/Shared/Projects/Farbod/hcc_data/wide_results/hcc_diag_2018_wide.csv\",num_threads = numcores)%>%as.data.table()\n",
    "hcc_diag_2019_wide=vroom(\"/work/postresearch/Shared/Projects/Farbod/hcc_data/wide_results/hcc_diag_2019_wide.csv\",num_threads = numcores)%>%as.data.table()\n",
    "hcc_diag_2020_wide=vroom(\"/work/postresearch/Shared/Projects/Farbod/hcc_data/wide_results/hcc_diag_2020_wide.csv\",num_threads = numcores)%>%as.data.table()"
   ]
  },
  {
   "cell_type": "code",
   "execution_count": 7,
   "id": "30797d14-291d-42cb-859a-45773a383db3",
   "metadata": {
    "collapsed": true,
    "jupyter": {
     "outputs_hidden": true
    },
    "tags": []
   },
   "outputs": [
    {
     "name": "stderr",
     "output_type": "stream",
     "text": [
      "\u001b[1m\u001b[22mNew names:\n",
      "\u001b[36m•\u001b[39m `` -> `...1`\n",
      "Warning message:\n",
      "“One or more parsing issues, see `problems()` for details”\n",
      "\u001b[1mRows: \u001b[22m\u001b[34m14554\u001b[39m \u001b[1mColumns: \u001b[22m\u001b[34m597\u001b[39m\n",
      "\u001b[36m──\u001b[39m \u001b[1mColumn specification\u001b[22m \u001b[36m────────────────────────────────────────────────────────────────────────────────────────────────────────────────────────────────────────\u001b[39m\n",
      "\u001b[1mDelimiter:\u001b[22m \",\"\n",
      "\u001b[31mchr\u001b[39m  (227): ENTITLEMENT_BUY_IN_IND01_2013, ENTITLEMENT_BUY_IN_IND02_2013, ENTITLEMENT_BUY_IN_IND03_2013, ENTITLEMENT_BUY_IN_IND04_2013, ENTITLEMENT_BUY_IN_IND05_2013, ENTITLEMENT_BUY_IN_IND06_2013, ENTITLEMENT_BUY_IN_IND07_2013, ENTITLEMENT_BUY_IN_IND08_2013, ENTITLEMENT_BUY_IN_IND09_2013, ENTIT...\n",
      "\u001b[32mdbl\u001b[39m  (339): ...1, X, DESY_SORT_KEY, tot_allowed_carrier, office_visit_count, office_visit_cost_carrier, cardiology_visit_count, distinct_clinicians, distinct_cardiologists, distinct_primary_care_physicians, distinct_surgeons, distinct_other_specialties, catheterization_count, catheterization_cos...\n",
      "\u001b[33mlgl\u001b[39m   (25): stable_angina, unstable_angina, MI, cardiac_arrest, stroke, hypertension, copd, obesity, depression, diabetes, icd_9_pure, icd_10_pure, angioplasty_with_cath, angioplasty_during_year_after_cath, VALID_DATE_OF_DEATH_SWITCH_2013, DATE_OF_DEATH_2013, death_validity_collapsed, died_in_on...\n",
      "\u001b[34mdate\u001b[39m   (6): first_diagnosis, MI_date, catheterization_date, angioplasty_date, deate_of_death_collapsed, date_of_death_collapsed\n",
      "\n",
      "\u001b[36mℹ\u001b[39m Use `spec()` to retrieve the full column specification for this data.\n",
      "\u001b[36mℹ\u001b[39m Specify the column types or set `show_col_types = FALSE` to quiet this message.\n"
     ]
    }
   ],
   "source": [
    "yearly_calculations=vroom(\"yearly_calculations_with_tin.csv\",num_threads = numcores)%>%as.data.table()"
   ]
  },
  {
   "cell_type": "code",
   "execution_count": 8,
   "id": "1f3a7fe4-fae3-4de0-a822-5ea971ad111f",
   "metadata": {},
   "outputs": [],
   "source": [
    "hcc_diag_2013_wide[,year:=2013]\n",
    "hcc_diag_2014_wide[,year:=2014]\n",
    "hcc_diag_2015_wide[,year:=2015]\n",
    "hcc_diag_2016_wide[,year:=2016]\n",
    "hcc_diag_2017_wide[,year:=2017]\n",
    "hcc_diag_2018_wide[,year:=2018]\n",
    "hcc_diag_2019_wide[,year:=2019]\n",
    "hcc_diag_2020_wide[,year:=2020]"
   ]
  },
  {
   "cell_type": "code",
   "execution_count": 9,
   "id": "d4f26ac9-f7ff-4bfc-989f-4973063fe74a",
   "metadata": {},
   "outputs": [
    {
     "data": {
      "text/html": [
       "<table class=\"dataframe\">\n",
       "<caption>A data.table: 6 × 90</caption>\n",
       "<thead>\n",
       "\t<tr><th scope=col>...1</th><th scope=col>MBI</th><th scope=col>1</th><th scope=col>2</th><th scope=col>6</th><th scope=col>8</th><th scope=col>9</th><th scope=col>10</th><th scope=col>11</th><th scope=col>12</th><th scope=col>17</th><th scope=col>18</th><th scope=col>19</th><th scope=col>21</th><th scope=col>22</th><th scope=col>23</th><th scope=col>27</th><th scope=col>28</th><th scope=col>29</th><th scope=col>33</th><th scope=col>34</th><th scope=col>35</th><th scope=col>39</th><th scope=col>40</th><th scope=col>46</th><th scope=col>47</th><th scope=col>48</th><th scope=col>51</th><th scope=col>52</th><th scope=col>54</th><th scope=col>55</th><th scope=col>57</th><th scope=col>58</th><th scope=col>70</th><th scope=col>71</th><th scope=col>72</th><th scope=col>73</th><th scope=col>74</th><th scope=col>75</th><th scope=col>76</th><th scope=col>77</th><th scope=col>78</th><th scope=col>79</th><th scope=col>80</th><th scope=col>82</th><th scope=col>83</th><th scope=col>84</th><th scope=col>85</th><th scope=col>86</th><th scope=col>87</th><th scope=col>88</th><th scope=col>96</th><th scope=col>99</th><th scope=col>100</th><th scope=col>103</th><th scope=col>104</th><th scope=col>106</th><th scope=col>107</th><th scope=col>108</th><th scope=col>110</th><th scope=col>111</th><th scope=col>112</th><th scope=col>114</th><th scope=col>115</th><th scope=col>122</th><th scope=col>124</th><th scope=col>134</th><th scope=col>135</th><th scope=col>136</th><th scope=col>137</th><th scope=col>138</th><th scope=col>139</th><th scope=col>140</th><th scope=col>141</th><th scope=col>157</th><th scope=col>158</th><th scope=col>159</th><th scope=col>160</th><th scope=col>161</th><th scope=col>162</th><th scope=col>166</th><th scope=col>167</th><th scope=col>169</th><th scope=col>170</th><th scope=col>173</th><th scope=col>176</th><th scope=col>186</th><th scope=col>188</th><th scope=col>189</th><th scope=col>year</th></tr>\n",
       "\t<tr><th scope=col>&lt;dbl&gt;</th><th scope=col>&lt;dbl&gt;</th><th scope=col>&lt;dbl&gt;</th><th scope=col>&lt;dbl&gt;</th><th scope=col>&lt;dbl&gt;</th><th scope=col>&lt;dbl&gt;</th><th scope=col>&lt;dbl&gt;</th><th scope=col>&lt;dbl&gt;</th><th scope=col>&lt;dbl&gt;</th><th scope=col>&lt;dbl&gt;</th><th scope=col>&lt;dbl&gt;</th><th scope=col>&lt;dbl&gt;</th><th scope=col>&lt;dbl&gt;</th><th scope=col>&lt;dbl&gt;</th><th scope=col>&lt;dbl&gt;</th><th scope=col>&lt;dbl&gt;</th><th scope=col>&lt;dbl&gt;</th><th scope=col>&lt;dbl&gt;</th><th scope=col>&lt;dbl&gt;</th><th scope=col>&lt;dbl&gt;</th><th scope=col>&lt;dbl&gt;</th><th scope=col>&lt;dbl&gt;</th><th scope=col>&lt;dbl&gt;</th><th scope=col>&lt;dbl&gt;</th><th scope=col>&lt;dbl&gt;</th><th scope=col>&lt;dbl&gt;</th><th scope=col>&lt;dbl&gt;</th><th scope=col>&lt;dbl&gt;</th><th scope=col>&lt;dbl&gt;</th><th scope=col>&lt;dbl&gt;</th><th scope=col>&lt;dbl&gt;</th><th scope=col>&lt;dbl&gt;</th><th scope=col>&lt;dbl&gt;</th><th scope=col>&lt;dbl&gt;</th><th scope=col>&lt;dbl&gt;</th><th scope=col>&lt;dbl&gt;</th><th scope=col>&lt;dbl&gt;</th><th scope=col>&lt;dbl&gt;</th><th scope=col>&lt;dbl&gt;</th><th scope=col>&lt;dbl&gt;</th><th scope=col>&lt;dbl&gt;</th><th scope=col>&lt;dbl&gt;</th><th scope=col>&lt;dbl&gt;</th><th scope=col>&lt;dbl&gt;</th><th scope=col>&lt;dbl&gt;</th><th scope=col>&lt;dbl&gt;</th><th scope=col>&lt;dbl&gt;</th><th scope=col>&lt;dbl&gt;</th><th scope=col>&lt;dbl&gt;</th><th scope=col>&lt;dbl&gt;</th><th scope=col>&lt;dbl&gt;</th><th scope=col>&lt;dbl&gt;</th><th scope=col>&lt;dbl&gt;</th><th scope=col>&lt;dbl&gt;</th><th scope=col>&lt;dbl&gt;</th><th scope=col>&lt;dbl&gt;</th><th scope=col>&lt;dbl&gt;</th><th scope=col>&lt;dbl&gt;</th><th scope=col>&lt;dbl&gt;</th><th scope=col>&lt;dbl&gt;</th><th scope=col>&lt;dbl&gt;</th><th scope=col>&lt;dbl&gt;</th><th scope=col>&lt;dbl&gt;</th><th scope=col>&lt;dbl&gt;</th><th scope=col>&lt;dbl&gt;</th><th scope=col>&lt;dbl&gt;</th><th scope=col>&lt;dbl&gt;</th><th scope=col>&lt;dbl&gt;</th><th scope=col>&lt;dbl&gt;</th><th scope=col>&lt;dbl&gt;</th><th scope=col>&lt;dbl&gt;</th><th scope=col>&lt;dbl&gt;</th><th scope=col>&lt;dbl&gt;</th><th scope=col>&lt;dbl&gt;</th><th scope=col>&lt;dbl&gt;</th><th scope=col>&lt;dbl&gt;</th><th scope=col>&lt;dbl&gt;</th><th scope=col>&lt;dbl&gt;</th><th scope=col>&lt;dbl&gt;</th><th scope=col>&lt;dbl&gt;</th><th scope=col>&lt;dbl&gt;</th><th scope=col>&lt;dbl&gt;</th><th scope=col>&lt;dbl&gt;</th><th scope=col>&lt;dbl&gt;</th><th scope=col>&lt;dbl&gt;</th><th scope=col>&lt;dbl&gt;</th><th scope=col>&lt;dbl&gt;</th><th scope=col>&lt;dbl&gt;</th><th scope=col>&lt;dbl&gt;</th><th scope=col>&lt;dbl&gt;</th></tr>\n",
       "</thead>\n",
       "<tbody>\n",
       "\t<tr><td>1</td><td>100000015</td><td>0</td><td>0</td><td>0</td><td>0</td><td>0</td><td>0</td><td>0</td><td>0</td><td>0</td><td>0</td><td>0</td><td>0</td><td>0</td><td>0</td><td>0</td><td>0</td><td>0</td><td>0</td><td>0</td><td>0</td><td>0</td><td>0</td><td>0</td><td>0</td><td>0</td><td>0</td><td>0</td><td>0</td><td>0</td><td>0</td><td>0</td><td>0</td><td>0</td><td>0</td><td>0</td><td>0</td><td>0</td><td>0</td><td>0</td><td>0</td><td>0</td><td>0</td><td>0</td><td>0</td><td>0</td><td>0</td><td>0</td><td>0</td><td>0</td><td>0</td><td>0</td><td>0</td><td>0</td><td>0</td><td>0</td><td>0</td><td>0</td><td>0</td><td>1</td><td>0</td><td>0</td><td>0</td><td>0</td><td>1</td><td>0</td><td>0</td><td>0</td><td>0</td><td>0</td><td>0</td><td>0</td><td>0</td><td>0</td><td>0</td><td>0</td><td>0</td><td>0</td><td>0</td><td>0</td><td>0</td><td>0</td><td>0</td><td>0</td><td>0</td><td>0</td><td>0</td><td>0</td><td>2013</td></tr>\n",
       "\t<tr><td>2</td><td>100000019</td><td>0</td><td>0</td><td>0</td><td>0</td><td>0</td><td>0</td><td>1</td><td>0</td><td>0</td><td>0</td><td>0</td><td>0</td><td>0</td><td>0</td><td>0</td><td>0</td><td>0</td><td>0</td><td>0</td><td>0</td><td>0</td><td>0</td><td>0</td><td>1</td><td>0</td><td>0</td><td>0</td><td>0</td><td>0</td><td>0</td><td>0</td><td>0</td><td>0</td><td>0</td><td>0</td><td>0</td><td>0</td><td>0</td><td>0</td><td>0</td><td>0</td><td>0</td><td>0</td><td>0</td><td>0</td><td>0</td><td>0</td><td>0</td><td>0</td><td>0</td><td>0</td><td>0</td><td>0</td><td>0</td><td>0</td><td>0</td><td>0</td><td>0</td><td>0</td><td>0</td><td>0</td><td>0</td><td>0</td><td>0</td><td>0</td><td>0</td><td>0</td><td>0</td><td>0</td><td>0</td><td>0</td><td>0</td><td>0</td><td>0</td><td>0</td><td>0</td><td>0</td><td>0</td><td>0</td><td>0</td><td>0</td><td>0</td><td>0</td><td>0</td><td>0</td><td>0</td><td>0</td><td>2013</td></tr>\n",
       "\t<tr><td>3</td><td>100000053</td><td>0</td><td>0</td><td>0</td><td>0</td><td>0</td><td>0</td><td>0</td><td>0</td><td>0</td><td>0</td><td>1</td><td>0</td><td>0</td><td>0</td><td>0</td><td>0</td><td>0</td><td>0</td><td>0</td><td>0</td><td>0</td><td>0</td><td>0</td><td>0</td><td>0</td><td>0</td><td>0</td><td>0</td><td>0</td><td>0</td><td>0</td><td>0</td><td>0</td><td>0</td><td>0</td><td>0</td><td>0</td><td>0</td><td>0</td><td>0</td><td>0</td><td>0</td><td>0</td><td>0</td><td>0</td><td>1</td><td>0</td><td>0</td><td>0</td><td>0</td><td>0</td><td>0</td><td>0</td><td>0</td><td>0</td><td>0</td><td>0</td><td>0</td><td>1</td><td>0</td><td>0</td><td>0</td><td>0</td><td>0</td><td>0</td><td>0</td><td>0</td><td>0</td><td>0</td><td>1</td><td>0</td><td>0</td><td>0</td><td>0</td><td>0</td><td>0</td><td>0</td><td>0</td><td>0</td><td>0</td><td>0</td><td>0</td><td>0</td><td>0</td><td>0</td><td>0</td><td>0</td><td>2013</td></tr>\n",
       "\t<tr><td>4</td><td>100000099</td><td>0</td><td>0</td><td>0</td><td>0</td><td>0</td><td>0</td><td>0</td><td>0</td><td>0</td><td>0</td><td>0</td><td>0</td><td>0</td><td>0</td><td>0</td><td>0</td><td>0</td><td>0</td><td>0</td><td>0</td><td>0</td><td>0</td><td>0</td><td>0</td><td>1</td><td>0</td><td>0</td><td>0</td><td>0</td><td>0</td><td>0</td><td>0</td><td>0</td><td>0</td><td>0</td><td>0</td><td>0</td><td>0</td><td>0</td><td>0</td><td>0</td><td>0</td><td>0</td><td>0</td><td>0</td><td>0</td><td>0</td><td>0</td><td>0</td><td>1</td><td>0</td><td>0</td><td>0</td><td>0</td><td>0</td><td>0</td><td>1</td><td>0</td><td>0</td><td>0</td><td>0</td><td>0</td><td>0</td><td>0</td><td>0</td><td>0</td><td>0</td><td>0</td><td>0</td><td>0</td><td>0</td><td>0</td><td>0</td><td>0</td><td>0</td><td>0</td><td>0</td><td>0</td><td>0</td><td>0</td><td>0</td><td>0</td><td>0</td><td>0</td><td>0</td><td>0</td><td>0</td><td>2013</td></tr>\n",
       "\t<tr><td>5</td><td>100000129</td><td>0</td><td>0</td><td>0</td><td>0</td><td>0</td><td>0</td><td>0</td><td>0</td><td>0</td><td>0</td><td>0</td><td>0</td><td>0</td><td>0</td><td>0</td><td>0</td><td>0</td><td>0</td><td>0</td><td>0</td><td>0</td><td>0</td><td>0</td><td>0</td><td>0</td><td>0</td><td>0</td><td>0</td><td>1</td><td>0</td><td>0</td><td>0</td><td>0</td><td>0</td><td>0</td><td>0</td><td>0</td><td>0</td><td>0</td><td>0</td><td>0</td><td>0</td><td>0</td><td>0</td><td>0</td><td>0</td><td>0</td><td>0</td><td>0</td><td>0</td><td>0</td><td>0</td><td>0</td><td>0</td><td>0</td><td>0</td><td>0</td><td>0</td><td>0</td><td>0</td><td>0</td><td>0</td><td>0</td><td>0</td><td>0</td><td>0</td><td>0</td><td>0</td><td>0</td><td>0</td><td>0</td><td>0</td><td>0</td><td>0</td><td>0</td><td>0</td><td>0</td><td>0</td><td>0</td><td>0</td><td>0</td><td>0</td><td>0</td><td>0</td><td>0</td><td>0</td><td>0</td><td>2013</td></tr>\n",
       "\t<tr><td>6</td><td>100000203</td><td>0</td><td>0</td><td>0</td><td>0</td><td>1</td><td>0</td><td>0</td><td>0</td><td>0</td><td>0</td><td>0</td><td>0</td><td>0</td><td>0</td><td>0</td><td>0</td><td>0</td><td>0</td><td>0</td><td>0</td><td>0</td><td>1</td><td>0</td><td>0</td><td>0</td><td>0</td><td>0</td><td>0</td><td>0</td><td>0</td><td>0</td><td>0</td><td>0</td><td>0</td><td>0</td><td>0</td><td>0</td><td>0</td><td>0</td><td>0</td><td>0</td><td>0</td><td>0</td><td>0</td><td>0</td><td>0</td><td>0</td><td>0</td><td>0</td><td>0</td><td>0</td><td>0</td><td>0</td><td>0</td><td>0</td><td>0</td><td>0</td><td>0</td><td>1</td><td>0</td><td>0</td><td>0</td><td>0</td><td>0</td><td>0</td><td>0</td><td>0</td><td>0</td><td>0</td><td>0</td><td>0</td><td>0</td><td>0</td><td>0</td><td>0</td><td>0</td><td>0</td><td>0</td><td>0</td><td>0</td><td>0</td><td>0</td><td>0</td><td>0</td><td>0</td><td>0</td><td>0</td><td>2013</td></tr>\n",
       "</tbody>\n",
       "</table>\n"
      ],
      "text/latex": [
       "A data.table: 6 × 90\n",
       "\\begin{tabular}{llllllllllllllllllllllllllllllllllllllllllllllllllllllllllllllllllllllllllllllllllllllllll}\n",
       " ...1 & MBI & 1 & 2 & 6 & 8 & 9 & 10 & 11 & 12 & 17 & 18 & 19 & 21 & 22 & 23 & 27 & 28 & 29 & 33 & 34 & 35 & 39 & 40 & 46 & 47 & 48 & 51 & 52 & 54 & 55 & 57 & 58 & 70 & 71 & 72 & 73 & 74 & 75 & 76 & 77 & 78 & 79 & 80 & 82 & 83 & 84 & 85 & 86 & 87 & 88 & 96 & 99 & 100 & 103 & 104 & 106 & 107 & 108 & 110 & 111 & 112 & 114 & 115 & 122 & 124 & 134 & 135 & 136 & 137 & 138 & 139 & 140 & 141 & 157 & 158 & 159 & 160 & 161 & 162 & 166 & 167 & 169 & 170 & 173 & 176 & 186 & 188 & 189 & year\\\\\n",
       " <dbl> & <dbl> & <dbl> & <dbl> & <dbl> & <dbl> & <dbl> & <dbl> & <dbl> & <dbl> & <dbl> & <dbl> & <dbl> & <dbl> & <dbl> & <dbl> & <dbl> & <dbl> & <dbl> & <dbl> & <dbl> & <dbl> & <dbl> & <dbl> & <dbl> & <dbl> & <dbl> & <dbl> & <dbl> & <dbl> & <dbl> & <dbl> & <dbl> & <dbl> & <dbl> & <dbl> & <dbl> & <dbl> & <dbl> & <dbl> & <dbl> & <dbl> & <dbl> & <dbl> & <dbl> & <dbl> & <dbl> & <dbl> & <dbl> & <dbl> & <dbl> & <dbl> & <dbl> & <dbl> & <dbl> & <dbl> & <dbl> & <dbl> & <dbl> & <dbl> & <dbl> & <dbl> & <dbl> & <dbl> & <dbl> & <dbl> & <dbl> & <dbl> & <dbl> & <dbl> & <dbl> & <dbl> & <dbl> & <dbl> & <dbl> & <dbl> & <dbl> & <dbl> & <dbl> & <dbl> & <dbl> & <dbl> & <dbl> & <dbl> & <dbl> & <dbl> & <dbl> & <dbl> & <dbl> & <dbl>\\\\\n",
       "\\hline\n",
       "\t 1 & 100000015 & 0 & 0 & 0 & 0 & 0 & 0 & 0 & 0 & 0 & 0 & 0 & 0 & 0 & 0 & 0 & 0 & 0 & 0 & 0 & 0 & 0 & 0 & 0 & 0 & 0 & 0 & 0 & 0 & 0 & 0 & 0 & 0 & 0 & 0 & 0 & 0 & 0 & 0 & 0 & 0 & 0 & 0 & 0 & 0 & 0 & 0 & 0 & 0 & 0 & 0 & 0 & 0 & 0 & 0 & 0 & 0 & 0 & 0 & 1 & 0 & 0 & 0 & 0 & 1 & 0 & 0 & 0 & 0 & 0 & 0 & 0 & 0 & 0 & 0 & 0 & 0 & 0 & 0 & 0 & 0 & 0 & 0 & 0 & 0 & 0 & 0 & 0 & 2013\\\\\n",
       "\t 2 & 100000019 & 0 & 0 & 0 & 0 & 0 & 0 & 1 & 0 & 0 & 0 & 0 & 0 & 0 & 0 & 0 & 0 & 0 & 0 & 0 & 0 & 0 & 0 & 0 & 1 & 0 & 0 & 0 & 0 & 0 & 0 & 0 & 0 & 0 & 0 & 0 & 0 & 0 & 0 & 0 & 0 & 0 & 0 & 0 & 0 & 0 & 0 & 0 & 0 & 0 & 0 & 0 & 0 & 0 & 0 & 0 & 0 & 0 & 0 & 0 & 0 & 0 & 0 & 0 & 0 & 0 & 0 & 0 & 0 & 0 & 0 & 0 & 0 & 0 & 0 & 0 & 0 & 0 & 0 & 0 & 0 & 0 & 0 & 0 & 0 & 0 & 0 & 0 & 2013\\\\\n",
       "\t 3 & 100000053 & 0 & 0 & 0 & 0 & 0 & 0 & 0 & 0 & 0 & 0 & 1 & 0 & 0 & 0 & 0 & 0 & 0 & 0 & 0 & 0 & 0 & 0 & 0 & 0 & 0 & 0 & 0 & 0 & 0 & 0 & 0 & 0 & 0 & 0 & 0 & 0 & 0 & 0 & 0 & 0 & 0 & 0 & 0 & 0 & 0 & 1 & 0 & 0 & 0 & 0 & 0 & 0 & 0 & 0 & 0 & 0 & 0 & 0 & 1 & 0 & 0 & 0 & 0 & 0 & 0 & 0 & 0 & 0 & 0 & 1 & 0 & 0 & 0 & 0 & 0 & 0 & 0 & 0 & 0 & 0 & 0 & 0 & 0 & 0 & 0 & 0 & 0 & 2013\\\\\n",
       "\t 4 & 100000099 & 0 & 0 & 0 & 0 & 0 & 0 & 0 & 0 & 0 & 0 & 0 & 0 & 0 & 0 & 0 & 0 & 0 & 0 & 0 & 0 & 0 & 0 & 0 & 0 & 1 & 0 & 0 & 0 & 0 & 0 & 0 & 0 & 0 & 0 & 0 & 0 & 0 & 0 & 0 & 0 & 0 & 0 & 0 & 0 & 0 & 0 & 0 & 0 & 0 & 1 & 0 & 0 & 0 & 0 & 0 & 0 & 1 & 0 & 0 & 0 & 0 & 0 & 0 & 0 & 0 & 0 & 0 & 0 & 0 & 0 & 0 & 0 & 0 & 0 & 0 & 0 & 0 & 0 & 0 & 0 & 0 & 0 & 0 & 0 & 0 & 0 & 0 & 2013\\\\\n",
       "\t 5 & 100000129 & 0 & 0 & 0 & 0 & 0 & 0 & 0 & 0 & 0 & 0 & 0 & 0 & 0 & 0 & 0 & 0 & 0 & 0 & 0 & 0 & 0 & 0 & 0 & 0 & 0 & 0 & 0 & 0 & 1 & 0 & 0 & 0 & 0 & 0 & 0 & 0 & 0 & 0 & 0 & 0 & 0 & 0 & 0 & 0 & 0 & 0 & 0 & 0 & 0 & 0 & 0 & 0 & 0 & 0 & 0 & 0 & 0 & 0 & 0 & 0 & 0 & 0 & 0 & 0 & 0 & 0 & 0 & 0 & 0 & 0 & 0 & 0 & 0 & 0 & 0 & 0 & 0 & 0 & 0 & 0 & 0 & 0 & 0 & 0 & 0 & 0 & 0 & 2013\\\\\n",
       "\t 6 & 100000203 & 0 & 0 & 0 & 0 & 1 & 0 & 0 & 0 & 0 & 0 & 0 & 0 & 0 & 0 & 0 & 0 & 0 & 0 & 0 & 0 & 0 & 1 & 0 & 0 & 0 & 0 & 0 & 0 & 0 & 0 & 0 & 0 & 0 & 0 & 0 & 0 & 0 & 0 & 0 & 0 & 0 & 0 & 0 & 0 & 0 & 0 & 0 & 0 & 0 & 0 & 0 & 0 & 0 & 0 & 0 & 0 & 0 & 0 & 1 & 0 & 0 & 0 & 0 & 0 & 0 & 0 & 0 & 0 & 0 & 0 & 0 & 0 & 0 & 0 & 0 & 0 & 0 & 0 & 0 & 0 & 0 & 0 & 0 & 0 & 0 & 0 & 0 & 2013\\\\\n",
       "\\end{tabular}\n"
      ],
      "text/markdown": [
       "\n",
       "A data.table: 6 × 90\n",
       "\n",
       "| ...1 &lt;dbl&gt; | MBI &lt;dbl&gt; | 1 &lt;dbl&gt; | 2 &lt;dbl&gt; | 6 &lt;dbl&gt; | 8 &lt;dbl&gt; | 9 &lt;dbl&gt; | 10 &lt;dbl&gt; | 11 &lt;dbl&gt; | 12 &lt;dbl&gt; | 17 &lt;dbl&gt; | 18 &lt;dbl&gt; | 19 &lt;dbl&gt; | 21 &lt;dbl&gt; | 22 &lt;dbl&gt; | 23 &lt;dbl&gt; | 27 &lt;dbl&gt; | 28 &lt;dbl&gt; | 29 &lt;dbl&gt; | 33 &lt;dbl&gt; | 34 &lt;dbl&gt; | 35 &lt;dbl&gt; | 39 &lt;dbl&gt; | 40 &lt;dbl&gt; | 46 &lt;dbl&gt; | 47 &lt;dbl&gt; | 48 &lt;dbl&gt; | 51 &lt;dbl&gt; | 52 &lt;dbl&gt; | 54 &lt;dbl&gt; | 55 &lt;dbl&gt; | 57 &lt;dbl&gt; | 58 &lt;dbl&gt; | 70 &lt;dbl&gt; | 71 &lt;dbl&gt; | 72 &lt;dbl&gt; | 73 &lt;dbl&gt; | 74 &lt;dbl&gt; | 75 &lt;dbl&gt; | 76 &lt;dbl&gt; | 77 &lt;dbl&gt; | 78 &lt;dbl&gt; | 79 &lt;dbl&gt; | 80 &lt;dbl&gt; | 82 &lt;dbl&gt; | 83 &lt;dbl&gt; | 84 &lt;dbl&gt; | 85 &lt;dbl&gt; | 86 &lt;dbl&gt; | 87 &lt;dbl&gt; | 88 &lt;dbl&gt; | 96 &lt;dbl&gt; | 99 &lt;dbl&gt; | 100 &lt;dbl&gt; | 103 &lt;dbl&gt; | 104 &lt;dbl&gt; | 106 &lt;dbl&gt; | 107 &lt;dbl&gt; | 108 &lt;dbl&gt; | 110 &lt;dbl&gt; | 111 &lt;dbl&gt; | 112 &lt;dbl&gt; | 114 &lt;dbl&gt; | 115 &lt;dbl&gt; | 122 &lt;dbl&gt; | 124 &lt;dbl&gt; | 134 &lt;dbl&gt; | 135 &lt;dbl&gt; | 136 &lt;dbl&gt; | 137 &lt;dbl&gt; | 138 &lt;dbl&gt; | 139 &lt;dbl&gt; | 140 &lt;dbl&gt; | 141 &lt;dbl&gt; | 157 &lt;dbl&gt; | 158 &lt;dbl&gt; | 159 &lt;dbl&gt; | 160 &lt;dbl&gt; | 161 &lt;dbl&gt; | 162 &lt;dbl&gt; | 166 &lt;dbl&gt; | 167 &lt;dbl&gt; | 169 &lt;dbl&gt; | 170 &lt;dbl&gt; | 173 &lt;dbl&gt; | 176 &lt;dbl&gt; | 186 &lt;dbl&gt; | 188 &lt;dbl&gt; | 189 &lt;dbl&gt; | year &lt;dbl&gt; |\n",
       "|---|---|---|---|---|---|---|---|---|---|---|---|---|---|---|---|---|---|---|---|---|---|---|---|---|---|---|---|---|---|---|---|---|---|---|---|---|---|---|---|---|---|---|---|---|---|---|---|---|---|---|---|---|---|---|---|---|---|---|---|---|---|---|---|---|---|---|---|---|---|---|---|---|---|---|---|---|---|---|---|---|---|---|---|---|---|---|---|---|---|\n",
       "| 1 | 100000015 | 0 | 0 | 0 | 0 | 0 | 0 | 0 | 0 | 0 | 0 | 0 | 0 | 0 | 0 | 0 | 0 | 0 | 0 | 0 | 0 | 0 | 0 | 0 | 0 | 0 | 0 | 0 | 0 | 0 | 0 | 0 | 0 | 0 | 0 | 0 | 0 | 0 | 0 | 0 | 0 | 0 | 0 | 0 | 0 | 0 | 0 | 0 | 0 | 0 | 0 | 0 | 0 | 0 | 0 | 0 | 0 | 0 | 0 | 1 | 0 | 0 | 0 | 0 | 1 | 0 | 0 | 0 | 0 | 0 | 0 | 0 | 0 | 0 | 0 | 0 | 0 | 0 | 0 | 0 | 0 | 0 | 0 | 0 | 0 | 0 | 0 | 0 | 2013 |\n",
       "| 2 | 100000019 | 0 | 0 | 0 | 0 | 0 | 0 | 1 | 0 | 0 | 0 | 0 | 0 | 0 | 0 | 0 | 0 | 0 | 0 | 0 | 0 | 0 | 0 | 0 | 1 | 0 | 0 | 0 | 0 | 0 | 0 | 0 | 0 | 0 | 0 | 0 | 0 | 0 | 0 | 0 | 0 | 0 | 0 | 0 | 0 | 0 | 0 | 0 | 0 | 0 | 0 | 0 | 0 | 0 | 0 | 0 | 0 | 0 | 0 | 0 | 0 | 0 | 0 | 0 | 0 | 0 | 0 | 0 | 0 | 0 | 0 | 0 | 0 | 0 | 0 | 0 | 0 | 0 | 0 | 0 | 0 | 0 | 0 | 0 | 0 | 0 | 0 | 0 | 2013 |\n",
       "| 3 | 100000053 | 0 | 0 | 0 | 0 | 0 | 0 | 0 | 0 | 0 | 0 | 1 | 0 | 0 | 0 | 0 | 0 | 0 | 0 | 0 | 0 | 0 | 0 | 0 | 0 | 0 | 0 | 0 | 0 | 0 | 0 | 0 | 0 | 0 | 0 | 0 | 0 | 0 | 0 | 0 | 0 | 0 | 0 | 0 | 0 | 0 | 1 | 0 | 0 | 0 | 0 | 0 | 0 | 0 | 0 | 0 | 0 | 0 | 0 | 1 | 0 | 0 | 0 | 0 | 0 | 0 | 0 | 0 | 0 | 0 | 1 | 0 | 0 | 0 | 0 | 0 | 0 | 0 | 0 | 0 | 0 | 0 | 0 | 0 | 0 | 0 | 0 | 0 | 2013 |\n",
       "| 4 | 100000099 | 0 | 0 | 0 | 0 | 0 | 0 | 0 | 0 | 0 | 0 | 0 | 0 | 0 | 0 | 0 | 0 | 0 | 0 | 0 | 0 | 0 | 0 | 0 | 0 | 1 | 0 | 0 | 0 | 0 | 0 | 0 | 0 | 0 | 0 | 0 | 0 | 0 | 0 | 0 | 0 | 0 | 0 | 0 | 0 | 0 | 0 | 0 | 0 | 0 | 1 | 0 | 0 | 0 | 0 | 0 | 0 | 1 | 0 | 0 | 0 | 0 | 0 | 0 | 0 | 0 | 0 | 0 | 0 | 0 | 0 | 0 | 0 | 0 | 0 | 0 | 0 | 0 | 0 | 0 | 0 | 0 | 0 | 0 | 0 | 0 | 0 | 0 | 2013 |\n",
       "| 5 | 100000129 | 0 | 0 | 0 | 0 | 0 | 0 | 0 | 0 | 0 | 0 | 0 | 0 | 0 | 0 | 0 | 0 | 0 | 0 | 0 | 0 | 0 | 0 | 0 | 0 | 0 | 0 | 0 | 0 | 1 | 0 | 0 | 0 | 0 | 0 | 0 | 0 | 0 | 0 | 0 | 0 | 0 | 0 | 0 | 0 | 0 | 0 | 0 | 0 | 0 | 0 | 0 | 0 | 0 | 0 | 0 | 0 | 0 | 0 | 0 | 0 | 0 | 0 | 0 | 0 | 0 | 0 | 0 | 0 | 0 | 0 | 0 | 0 | 0 | 0 | 0 | 0 | 0 | 0 | 0 | 0 | 0 | 0 | 0 | 0 | 0 | 0 | 0 | 2013 |\n",
       "| 6 | 100000203 | 0 | 0 | 0 | 0 | 1 | 0 | 0 | 0 | 0 | 0 | 0 | 0 | 0 | 0 | 0 | 0 | 0 | 0 | 0 | 0 | 0 | 1 | 0 | 0 | 0 | 0 | 0 | 0 | 0 | 0 | 0 | 0 | 0 | 0 | 0 | 0 | 0 | 0 | 0 | 0 | 0 | 0 | 0 | 0 | 0 | 0 | 0 | 0 | 0 | 0 | 0 | 0 | 0 | 0 | 0 | 0 | 0 | 0 | 1 | 0 | 0 | 0 | 0 | 0 | 0 | 0 | 0 | 0 | 0 | 0 | 0 | 0 | 0 | 0 | 0 | 0 | 0 | 0 | 0 | 0 | 0 | 0 | 0 | 0 | 0 | 0 | 0 | 2013 |\n",
       "\n"
      ],
      "text/plain": [
       "  ...1 MBI       1 2 6 8 9 10 11 12 17 18 19 21 22 23 27 28 29 33 34 35 39 40 46 47 48 51 52 54 55 57 58 70 71 72 73 74 75 76 77 78 79 80 82 83 84 85 86 87 88 96 99 100 103 104 106 107 108 110 111 112 114 115 122 124 134 135 136 137 138 139 140 141 157 158 159 160 161 162 166 167 169 170 173 176\n",
       "1 1    100000015 0 0 0 0 0 0  0  0  0  0  0  0  0  0  0  0  0  0  0  0  0  0  0  0  0  0  0  0  0  0  0  0  0  0  0  0  0  0  0  0  0  0  0  0  0  0  0  0  0  0  0  0   0   0   0   0   0   0   1   0   0   0   0   1   0   0   0   0   0   0   0   0   0   0   0   0   0   0   0   0   0   0   0   0  \n",
       "2 2    100000019 0 0 0 0 0 0  1  0  0  0  0  0  0  0  0  0  0  0  0  0  0  0  0  1  0  0  0  0  0  0  0  0  0  0  0  0  0  0  0  0  0  0  0  0  0  0  0  0  0  0  0  0   0   0   0   0   0   0   0   0   0   0   0   0   0   0   0   0   0   0   0   0   0   0   0   0   0   0   0   0   0   0   0   0  \n",
       "3 3    100000053 0 0 0 0 0 0  0  0  0  0  1  0  0  0  0  0  0  0  0  0  0  0  0  0  0  0  0  0  0  0  0  0  0  0  0  0  0  0  0  0  0  0  0  0  0  1  0  0  0  0  0  0   0   0   0   0   0   0   1   0   0   0   0   0   0   0   0   0   0   1   0   0   0   0   0   0   0   0   0   0   0   0   0   0  \n",
       "4 4    100000099 0 0 0 0 0 0  0  0  0  0  0  0  0  0  0  0  0  0  0  0  0  0  0  0  1  0  0  0  0  0  0  0  0  0  0  0  0  0  0  0  0  0  0  0  0  0  0  0  0  1  0  0   0   0   0   0   1   0   0   0   0   0   0   0   0   0   0   0   0   0   0   0   0   0   0   0   0   0   0   0   0   0   0   0  \n",
       "5 5    100000129 0 0 0 0 0 0  0  0  0  0  0  0  0  0  0  0  0  0  0  0  0  0  0  0  0  0  0  0  1  0  0  0  0  0  0  0  0  0  0  0  0  0  0  0  0  0  0  0  0  0  0  0   0   0   0   0   0   0   0   0   0   0   0   0   0   0   0   0   0   0   0   0   0   0   0   0   0   0   0   0   0   0   0   0  \n",
       "6 6    100000203 0 0 0 0 1 0  0  0  0  0  0  0  0  0  0  0  0  0  0  0  0  1  0  0  0  0  0  0  0  0  0  0  0  0  0  0  0  0  0  0  0  0  0  0  0  0  0  0  0  0  0  0   0   0   0   0   0   0   1   0   0   0   0   0   0   0   0   0   0   0   0   0   0   0   0   0   0   0   0   0   0   0   0   0  \n",
       "  186 188 189 year\n",
       "1 0   0   0   2013\n",
       "2 0   0   0   2013\n",
       "3 0   0   0   2013\n",
       "4 0   0   0   2013\n",
       "5 0   0   0   2013\n",
       "6 0   0   0   2013"
      ]
     },
     "metadata": {},
     "output_type": "display_data"
    }
   ],
   "source": [
    "head(hcc_diag_2013_wide)"
   ]
  },
  {
   "cell_type": "code",
   "execution_count": 10,
   "id": "ba1aa2e1-ace5-4eda-9f0a-89d6a6ea4379",
   "metadata": {},
   "outputs": [],
   "source": [
    "hcc_diag_all_years=\n",
    "rbind(hcc_diag_2013_wide,\n",
    "      hcc_diag_2014_wide,\n",
    "      hcc_diag_2015_wide,\n",
    "      hcc_diag_2016_wide,\n",
    "      hcc_diag_2017_wide,\n",
    "      hcc_diag_2018_wide,\n",
    "      hcc_diag_2019_wide,\n",
    "      hcc_diag_2020_wide,fill=T)"
   ]
  },
  {
   "cell_type": "code",
   "execution_count": 12,
   "id": "4faef4e8-4923-4629-8f97-1f53f298095d",
   "metadata": {},
   "outputs": [],
   "source": [
    "colnames(hcc_diag_all_years)[-2]=paste(\"hcc\",colnames(hcc_diag_all_years)[-2],sep=\"\")"
   ]
  },
  {
   "cell_type": "code",
   "execution_count": 13,
   "id": "54b1a09c-5065-461d-9129-4e11385679e3",
   "metadata": {},
   "outputs": [],
   "source": [
    "hcc_diag_all_years[is.na(hcc_diag_all_years)]<-0\n",
    "hcc_diag_all_years=hcc_diag_all_years[,-1]"
   ]
  },
  {
   "cell_type": "code",
   "execution_count": 14,
   "id": "9640b9d3-1fc0-4575-ae98-3d2a3f740066",
   "metadata": {},
   "outputs": [
    {
     "data": {
      "text/html": [
       "<table class=\"dataframe\">\n",
       "<caption>A data.table: 6 × 89</caption>\n",
       "<thead>\n",
       "\t<tr><th scope=col>MBI</th><th scope=col>hcc1</th><th scope=col>hcc2</th><th scope=col>hcc6</th><th scope=col>hcc8</th><th scope=col>hcc9</th><th scope=col>hcc10</th><th scope=col>hcc11</th><th scope=col>hcc12</th><th scope=col>hcc17</th><th scope=col>hcc18</th><th scope=col>hcc19</th><th scope=col>hcc21</th><th scope=col>hcc22</th><th scope=col>hcc23</th><th scope=col>hcc27</th><th scope=col>hcc28</th><th scope=col>hcc29</th><th scope=col>hcc33</th><th scope=col>hcc34</th><th scope=col>hcc35</th><th scope=col>hcc39</th><th scope=col>hcc40</th><th scope=col>hcc46</th><th scope=col>hcc47</th><th scope=col>hcc48</th><th scope=col>hcc51</th><th scope=col>hcc52</th><th scope=col>hcc54</th><th scope=col>hcc55</th><th scope=col>hcc57</th><th scope=col>hcc58</th><th scope=col>hcc70</th><th scope=col>hcc71</th><th scope=col>hcc72</th><th scope=col>hcc73</th><th scope=col>hcc74</th><th scope=col>hcc75</th><th scope=col>hcc76</th><th scope=col>hcc77</th><th scope=col>hcc78</th><th scope=col>hcc79</th><th scope=col>hcc80</th><th scope=col>hcc82</th><th scope=col>hcc83</th><th scope=col>hcc84</th><th scope=col>hcc85</th><th scope=col>hcc86</th><th scope=col>hcc87</th><th scope=col>hcc88</th><th scope=col>hcc96</th><th scope=col>hcc99</th><th scope=col>hcc100</th><th scope=col>hcc103</th><th scope=col>hcc104</th><th scope=col>hcc106</th><th scope=col>hcc107</th><th scope=col>hcc108</th><th scope=col>hcc110</th><th scope=col>hcc111</th><th scope=col>hcc112</th><th scope=col>hcc114</th><th scope=col>hcc115</th><th scope=col>hcc122</th><th scope=col>hcc124</th><th scope=col>hcc134</th><th scope=col>hcc135</th><th scope=col>hcc136</th><th scope=col>hcc137</th><th scope=col>hcc138</th><th scope=col>hcc139</th><th scope=col>hcc140</th><th scope=col>hcc141</th><th scope=col>hcc157</th><th scope=col>hcc158</th><th scope=col>hcc159</th><th scope=col>hcc160</th><th scope=col>hcc161</th><th scope=col>hcc162</th><th scope=col>hcc166</th><th scope=col>hcc167</th><th scope=col>hcc169</th><th scope=col>hcc170</th><th scope=col>hcc173</th><th scope=col>hcc176</th><th scope=col>hcc186</th><th scope=col>hcc188</th><th scope=col>hcc189</th><th scope=col>hccyear</th></tr>\n",
       "\t<tr><th scope=col>&lt;dbl&gt;</th><th scope=col>&lt;dbl&gt;</th><th scope=col>&lt;dbl&gt;</th><th scope=col>&lt;dbl&gt;</th><th scope=col>&lt;dbl&gt;</th><th scope=col>&lt;dbl&gt;</th><th scope=col>&lt;dbl&gt;</th><th scope=col>&lt;dbl&gt;</th><th scope=col>&lt;dbl&gt;</th><th scope=col>&lt;dbl&gt;</th><th scope=col>&lt;dbl&gt;</th><th scope=col>&lt;dbl&gt;</th><th scope=col>&lt;dbl&gt;</th><th scope=col>&lt;dbl&gt;</th><th scope=col>&lt;dbl&gt;</th><th scope=col>&lt;dbl&gt;</th><th scope=col>&lt;dbl&gt;</th><th scope=col>&lt;dbl&gt;</th><th scope=col>&lt;dbl&gt;</th><th scope=col>&lt;dbl&gt;</th><th scope=col>&lt;dbl&gt;</th><th scope=col>&lt;dbl&gt;</th><th scope=col>&lt;dbl&gt;</th><th scope=col>&lt;dbl&gt;</th><th scope=col>&lt;dbl&gt;</th><th scope=col>&lt;dbl&gt;</th><th scope=col>&lt;dbl&gt;</th><th scope=col>&lt;dbl&gt;</th><th scope=col>&lt;dbl&gt;</th><th scope=col>&lt;dbl&gt;</th><th scope=col>&lt;dbl&gt;</th><th scope=col>&lt;dbl&gt;</th><th scope=col>&lt;dbl&gt;</th><th scope=col>&lt;dbl&gt;</th><th scope=col>&lt;dbl&gt;</th><th scope=col>&lt;dbl&gt;</th><th scope=col>&lt;dbl&gt;</th><th scope=col>&lt;dbl&gt;</th><th scope=col>&lt;dbl&gt;</th><th scope=col>&lt;dbl&gt;</th><th scope=col>&lt;dbl&gt;</th><th scope=col>&lt;dbl&gt;</th><th scope=col>&lt;dbl&gt;</th><th scope=col>&lt;dbl&gt;</th><th scope=col>&lt;dbl&gt;</th><th scope=col>&lt;dbl&gt;</th><th scope=col>&lt;dbl&gt;</th><th scope=col>&lt;dbl&gt;</th><th scope=col>&lt;dbl&gt;</th><th scope=col>&lt;dbl&gt;</th><th scope=col>&lt;dbl&gt;</th><th scope=col>&lt;dbl&gt;</th><th scope=col>&lt;dbl&gt;</th><th scope=col>&lt;dbl&gt;</th><th scope=col>&lt;dbl&gt;</th><th scope=col>&lt;dbl&gt;</th><th scope=col>&lt;dbl&gt;</th><th scope=col>&lt;dbl&gt;</th><th scope=col>&lt;dbl&gt;</th><th scope=col>&lt;dbl&gt;</th><th scope=col>&lt;dbl&gt;</th><th scope=col>&lt;dbl&gt;</th><th scope=col>&lt;dbl&gt;</th><th scope=col>&lt;dbl&gt;</th><th scope=col>&lt;dbl&gt;</th><th scope=col>&lt;dbl&gt;</th><th scope=col>&lt;dbl&gt;</th><th scope=col>&lt;dbl&gt;</th><th scope=col>&lt;dbl&gt;</th><th scope=col>&lt;dbl&gt;</th><th scope=col>&lt;dbl&gt;</th><th scope=col>&lt;dbl&gt;</th><th scope=col>&lt;dbl&gt;</th><th scope=col>&lt;dbl&gt;</th><th scope=col>&lt;dbl&gt;</th><th scope=col>&lt;dbl&gt;</th><th scope=col>&lt;dbl&gt;</th><th scope=col>&lt;dbl&gt;</th><th scope=col>&lt;dbl&gt;</th><th scope=col>&lt;dbl&gt;</th><th scope=col>&lt;dbl&gt;</th><th scope=col>&lt;dbl&gt;</th><th scope=col>&lt;dbl&gt;</th><th scope=col>&lt;dbl&gt;</th><th scope=col>&lt;dbl&gt;</th><th scope=col>&lt;dbl&gt;</th><th scope=col>&lt;dbl&gt;</th><th scope=col>&lt;dbl&gt;</th><th scope=col>&lt;dbl&gt;</th></tr>\n",
       "</thead>\n",
       "<tbody>\n",
       "\t<tr><td>499998435</td><td>0</td><td>0</td><td>0</td><td>1</td><td>0</td><td>0</td><td>0</td><td>1</td><td>0</td><td>0</td><td>0</td><td>0</td><td>0</td><td>0</td><td>0</td><td>0</td><td>0</td><td>0</td><td>0</td><td>0</td><td>0</td><td>0</td><td>0</td><td>0</td><td>0</td><td>0</td><td>0</td><td>0</td><td>0</td><td>0</td><td>0</td><td>0</td><td>0</td><td>0</td><td>0</td><td>0</td><td>0</td><td>0</td><td>0</td><td>0</td><td>0</td><td>0</td><td>0</td><td>0</td><td>0</td><td>0</td><td>0</td><td>0</td><td>0</td><td>1</td><td>0</td><td>0</td><td>0</td><td>0</td><td>0</td><td>0</td><td>0</td><td>0</td><td>0</td><td>0</td><td>0</td><td>0</td><td>0</td><td>0</td><td>0</td><td>0</td><td>0</td><td>0</td><td>0</td><td>0</td><td>0</td><td>0</td><td>0</td><td>0</td><td>0</td><td>0</td><td>0</td><td>0</td><td>0</td><td>0</td><td>0</td><td>0</td><td>0</td><td>0</td><td>0</td><td>0</td><td>0</td><td>2020</td></tr>\n",
       "\t<tr><td>499999281</td><td>0</td><td>0</td><td>0</td><td>0</td><td>0</td><td>0</td><td>0</td><td>0</td><td>0</td><td>0</td><td>0</td><td>0</td><td>0</td><td>0</td><td>0</td><td>0</td><td>0</td><td>0</td><td>0</td><td>0</td><td>0</td><td>0</td><td>0</td><td>0</td><td>0</td><td>0</td><td>0</td><td>0</td><td>0</td><td>0</td><td>0</td><td>0</td><td>0</td><td>0</td><td>0</td><td>0</td><td>0</td><td>0</td><td>0</td><td>0</td><td>0</td><td>0</td><td>0</td><td>0</td><td>0</td><td>0</td><td>0</td><td>0</td><td>0</td><td>1</td><td>0</td><td>0</td><td>0</td><td>0</td><td>0</td><td>0</td><td>0</td><td>0</td><td>1</td><td>0</td><td>0</td><td>0</td><td>0</td><td>0</td><td>0</td><td>0</td><td>0</td><td>0</td><td>0</td><td>0</td><td>0</td><td>0</td><td>0</td><td>0</td><td>0</td><td>0</td><td>0</td><td>0</td><td>0</td><td>0</td><td>0</td><td>0</td><td>0</td><td>0</td><td>0</td><td>0</td><td>0</td><td>2020</td></tr>\n",
       "\t<tr><td>499999461</td><td>0</td><td>1</td><td>0</td><td>0</td><td>0</td><td>0</td><td>0</td><td>0</td><td>0</td><td>0</td><td>1</td><td>0</td><td>0</td><td>0</td><td>0</td><td>0</td><td>0</td><td>0</td><td>0</td><td>0</td><td>0</td><td>0</td><td>0</td><td>0</td><td>1</td><td>0</td><td>0</td><td>0</td><td>0</td><td>0</td><td>0</td><td>0</td><td>0</td><td>0</td><td>0</td><td>0</td><td>0</td><td>0</td><td>0</td><td>0</td><td>0</td><td>0</td><td>0</td><td>0</td><td>1</td><td>0</td><td>0</td><td>0</td><td>0</td><td>0</td><td>0</td><td>0</td><td>0</td><td>0</td><td>0</td><td>0</td><td>0</td><td>0</td><td>0</td><td>0</td><td>0</td><td>0</td><td>0</td><td>0</td><td>0</td><td>1</td><td>0</td><td>0</td><td>0</td><td>0</td><td>0</td><td>0</td><td>0</td><td>0</td><td>0</td><td>0</td><td>0</td><td>0</td><td>0</td><td>0</td><td>0</td><td>0</td><td>0</td><td>0</td><td>0</td><td>0</td><td>0</td><td>2020</td></tr>\n",
       "\t<tr><td>499999521</td><td>0</td><td>0</td><td>0</td><td>0</td><td>0</td><td>0</td><td>0</td><td>1</td><td>0</td><td>0</td><td>0</td><td>0</td><td>0</td><td>0</td><td>0</td><td>0</td><td>0</td><td>0</td><td>0</td><td>0</td><td>0</td><td>0</td><td>0</td><td>0</td><td>0</td><td>0</td><td>0</td><td>0</td><td>0</td><td>0</td><td>0</td><td>0</td><td>0</td><td>0</td><td>0</td><td>0</td><td>0</td><td>0</td><td>0</td><td>0</td><td>0</td><td>0</td><td>0</td><td>0</td><td>0</td><td>0</td><td>0</td><td>0</td><td>0</td><td>0</td><td>0</td><td>0</td><td>0</td><td>0</td><td>0</td><td>0</td><td>0</td><td>0</td><td>0</td><td>0</td><td>0</td><td>0</td><td>0</td><td>0</td><td>0</td><td>0</td><td>0</td><td>0</td><td>0</td><td>0</td><td>0</td><td>0</td><td>0</td><td>0</td><td>0</td><td>0</td><td>0</td><td>0</td><td>0</td><td>0</td><td>0</td><td>0</td><td>0</td><td>0</td><td>0</td><td>0</td><td>0</td><td>2020</td></tr>\n",
       "\t<tr><td>499999841</td><td>0</td><td>0</td><td>0</td><td>0</td><td>0</td><td>0</td><td>0</td><td>1</td><td>0</td><td>0</td><td>0</td><td>0</td><td>0</td><td>0</td><td>0</td><td>0</td><td>0</td><td>0</td><td>0</td><td>0</td><td>0</td><td>0</td><td>0</td><td>0</td><td>0</td><td>0</td><td>0</td><td>0</td><td>0</td><td>0</td><td>0</td><td>0</td><td>0</td><td>0</td><td>0</td><td>0</td><td>0</td><td>0</td><td>0</td><td>0</td><td>0</td><td>0</td><td>0</td><td>0</td><td>0</td><td>0</td><td>0</td><td>0</td><td>0</td><td>1</td><td>0</td><td>0</td><td>0</td><td>0</td><td>0</td><td>0</td><td>0</td><td>0</td><td>0</td><td>0</td><td>0</td><td>0</td><td>0</td><td>0</td><td>0</td><td>0</td><td>0</td><td>0</td><td>0</td><td>0</td><td>0</td><td>0</td><td>0</td><td>0</td><td>0</td><td>0</td><td>0</td><td>0</td><td>0</td><td>0</td><td>0</td><td>0</td><td>0</td><td>0</td><td>0</td><td>0</td><td>0</td><td>2020</td></tr>\n",
       "\t<tr><td>499999981</td><td>0</td><td>0</td><td>0</td><td>0</td><td>0</td><td>0</td><td>0</td><td>0</td><td>0</td><td>0</td><td>0</td><td>0</td><td>0</td><td>0</td><td>0</td><td>0</td><td>0</td><td>0</td><td>0</td><td>0</td><td>0</td><td>0</td><td>0</td><td>0</td><td>0</td><td>0</td><td>0</td><td>0</td><td>0</td><td>0</td><td>1</td><td>0</td><td>0</td><td>0</td><td>0</td><td>0</td><td>0</td><td>0</td><td>0</td><td>0</td><td>0</td><td>0</td><td>0</td><td>0</td><td>0</td><td>0</td><td>0</td><td>0</td><td>0</td><td>0</td><td>0</td><td>0</td><td>0</td><td>0</td><td>0</td><td>0</td><td>0</td><td>0</td><td>0</td><td>0</td><td>0</td><td>0</td><td>0</td><td>0</td><td>0</td><td>0</td><td>0</td><td>0</td><td>0</td><td>0</td><td>0</td><td>0</td><td>0</td><td>0</td><td>0</td><td>0</td><td>0</td><td>0</td><td>0</td><td>0</td><td>0</td><td>0</td><td>0</td><td>0</td><td>0</td><td>0</td><td>0</td><td>2020</td></tr>\n",
       "</tbody>\n",
       "</table>\n"
      ],
      "text/latex": [
       "A data.table: 6 × 89\n",
       "\\begin{tabular}{lllllllllllllllllllllllllllllllllllllllllllllllllllllllllllllllllllllllllllllllllllllllll}\n",
       " MBI & hcc1 & hcc2 & hcc6 & hcc8 & hcc9 & hcc10 & hcc11 & hcc12 & hcc17 & hcc18 & hcc19 & hcc21 & hcc22 & hcc23 & hcc27 & hcc28 & hcc29 & hcc33 & hcc34 & hcc35 & hcc39 & hcc40 & hcc46 & hcc47 & hcc48 & hcc51 & hcc52 & hcc54 & hcc55 & hcc57 & hcc58 & hcc70 & hcc71 & hcc72 & hcc73 & hcc74 & hcc75 & hcc76 & hcc77 & hcc78 & hcc79 & hcc80 & hcc82 & hcc83 & hcc84 & hcc85 & hcc86 & hcc87 & hcc88 & hcc96 & hcc99 & hcc100 & hcc103 & hcc104 & hcc106 & hcc107 & hcc108 & hcc110 & hcc111 & hcc112 & hcc114 & hcc115 & hcc122 & hcc124 & hcc134 & hcc135 & hcc136 & hcc137 & hcc138 & hcc139 & hcc140 & hcc141 & hcc157 & hcc158 & hcc159 & hcc160 & hcc161 & hcc162 & hcc166 & hcc167 & hcc169 & hcc170 & hcc173 & hcc176 & hcc186 & hcc188 & hcc189 & hccyear\\\\\n",
       " <dbl> & <dbl> & <dbl> & <dbl> & <dbl> & <dbl> & <dbl> & <dbl> & <dbl> & <dbl> & <dbl> & <dbl> & <dbl> & <dbl> & <dbl> & <dbl> & <dbl> & <dbl> & <dbl> & <dbl> & <dbl> & <dbl> & <dbl> & <dbl> & <dbl> & <dbl> & <dbl> & <dbl> & <dbl> & <dbl> & <dbl> & <dbl> & <dbl> & <dbl> & <dbl> & <dbl> & <dbl> & <dbl> & <dbl> & <dbl> & <dbl> & <dbl> & <dbl> & <dbl> & <dbl> & <dbl> & <dbl> & <dbl> & <dbl> & <dbl> & <dbl> & <dbl> & <dbl> & <dbl> & <dbl> & <dbl> & <dbl> & <dbl> & <dbl> & <dbl> & <dbl> & <dbl> & <dbl> & <dbl> & <dbl> & <dbl> & <dbl> & <dbl> & <dbl> & <dbl> & <dbl> & <dbl> & <dbl> & <dbl> & <dbl> & <dbl> & <dbl> & <dbl> & <dbl> & <dbl> & <dbl> & <dbl> & <dbl> & <dbl> & <dbl> & <dbl> & <dbl> & <dbl> & <dbl>\\\\\n",
       "\\hline\n",
       "\t 499998435 & 0 & 0 & 0 & 1 & 0 & 0 & 0 & 1 & 0 & 0 & 0 & 0 & 0 & 0 & 0 & 0 & 0 & 0 & 0 & 0 & 0 & 0 & 0 & 0 & 0 & 0 & 0 & 0 & 0 & 0 & 0 & 0 & 0 & 0 & 0 & 0 & 0 & 0 & 0 & 0 & 0 & 0 & 0 & 0 & 0 & 0 & 0 & 0 & 0 & 1 & 0 & 0 & 0 & 0 & 0 & 0 & 0 & 0 & 0 & 0 & 0 & 0 & 0 & 0 & 0 & 0 & 0 & 0 & 0 & 0 & 0 & 0 & 0 & 0 & 0 & 0 & 0 & 0 & 0 & 0 & 0 & 0 & 0 & 0 & 0 & 0 & 0 & 2020\\\\\n",
       "\t 499999281 & 0 & 0 & 0 & 0 & 0 & 0 & 0 & 0 & 0 & 0 & 0 & 0 & 0 & 0 & 0 & 0 & 0 & 0 & 0 & 0 & 0 & 0 & 0 & 0 & 0 & 0 & 0 & 0 & 0 & 0 & 0 & 0 & 0 & 0 & 0 & 0 & 0 & 0 & 0 & 0 & 0 & 0 & 0 & 0 & 0 & 0 & 0 & 0 & 0 & 1 & 0 & 0 & 0 & 0 & 0 & 0 & 0 & 0 & 1 & 0 & 0 & 0 & 0 & 0 & 0 & 0 & 0 & 0 & 0 & 0 & 0 & 0 & 0 & 0 & 0 & 0 & 0 & 0 & 0 & 0 & 0 & 0 & 0 & 0 & 0 & 0 & 0 & 2020\\\\\n",
       "\t 499999461 & 0 & 1 & 0 & 0 & 0 & 0 & 0 & 0 & 0 & 0 & 1 & 0 & 0 & 0 & 0 & 0 & 0 & 0 & 0 & 0 & 0 & 0 & 0 & 0 & 1 & 0 & 0 & 0 & 0 & 0 & 0 & 0 & 0 & 0 & 0 & 0 & 0 & 0 & 0 & 0 & 0 & 0 & 0 & 0 & 1 & 0 & 0 & 0 & 0 & 0 & 0 & 0 & 0 & 0 & 0 & 0 & 0 & 0 & 0 & 0 & 0 & 0 & 0 & 0 & 0 & 1 & 0 & 0 & 0 & 0 & 0 & 0 & 0 & 0 & 0 & 0 & 0 & 0 & 0 & 0 & 0 & 0 & 0 & 0 & 0 & 0 & 0 & 2020\\\\\n",
       "\t 499999521 & 0 & 0 & 0 & 0 & 0 & 0 & 0 & 1 & 0 & 0 & 0 & 0 & 0 & 0 & 0 & 0 & 0 & 0 & 0 & 0 & 0 & 0 & 0 & 0 & 0 & 0 & 0 & 0 & 0 & 0 & 0 & 0 & 0 & 0 & 0 & 0 & 0 & 0 & 0 & 0 & 0 & 0 & 0 & 0 & 0 & 0 & 0 & 0 & 0 & 0 & 0 & 0 & 0 & 0 & 0 & 0 & 0 & 0 & 0 & 0 & 0 & 0 & 0 & 0 & 0 & 0 & 0 & 0 & 0 & 0 & 0 & 0 & 0 & 0 & 0 & 0 & 0 & 0 & 0 & 0 & 0 & 0 & 0 & 0 & 0 & 0 & 0 & 2020\\\\\n",
       "\t 499999841 & 0 & 0 & 0 & 0 & 0 & 0 & 0 & 1 & 0 & 0 & 0 & 0 & 0 & 0 & 0 & 0 & 0 & 0 & 0 & 0 & 0 & 0 & 0 & 0 & 0 & 0 & 0 & 0 & 0 & 0 & 0 & 0 & 0 & 0 & 0 & 0 & 0 & 0 & 0 & 0 & 0 & 0 & 0 & 0 & 0 & 0 & 0 & 0 & 0 & 1 & 0 & 0 & 0 & 0 & 0 & 0 & 0 & 0 & 0 & 0 & 0 & 0 & 0 & 0 & 0 & 0 & 0 & 0 & 0 & 0 & 0 & 0 & 0 & 0 & 0 & 0 & 0 & 0 & 0 & 0 & 0 & 0 & 0 & 0 & 0 & 0 & 0 & 2020\\\\\n",
       "\t 499999981 & 0 & 0 & 0 & 0 & 0 & 0 & 0 & 0 & 0 & 0 & 0 & 0 & 0 & 0 & 0 & 0 & 0 & 0 & 0 & 0 & 0 & 0 & 0 & 0 & 0 & 0 & 0 & 0 & 0 & 0 & 1 & 0 & 0 & 0 & 0 & 0 & 0 & 0 & 0 & 0 & 0 & 0 & 0 & 0 & 0 & 0 & 0 & 0 & 0 & 0 & 0 & 0 & 0 & 0 & 0 & 0 & 0 & 0 & 0 & 0 & 0 & 0 & 0 & 0 & 0 & 0 & 0 & 0 & 0 & 0 & 0 & 0 & 0 & 0 & 0 & 0 & 0 & 0 & 0 & 0 & 0 & 0 & 0 & 0 & 0 & 0 & 0 & 2020\\\\\n",
       "\\end{tabular}\n"
      ],
      "text/markdown": [
       "\n",
       "A data.table: 6 × 89\n",
       "\n",
       "| MBI &lt;dbl&gt; | hcc1 &lt;dbl&gt; | hcc2 &lt;dbl&gt; | hcc6 &lt;dbl&gt; | hcc8 &lt;dbl&gt; | hcc9 &lt;dbl&gt; | hcc10 &lt;dbl&gt; | hcc11 &lt;dbl&gt; | hcc12 &lt;dbl&gt; | hcc17 &lt;dbl&gt; | hcc18 &lt;dbl&gt; | hcc19 &lt;dbl&gt; | hcc21 &lt;dbl&gt; | hcc22 &lt;dbl&gt; | hcc23 &lt;dbl&gt; | hcc27 &lt;dbl&gt; | hcc28 &lt;dbl&gt; | hcc29 &lt;dbl&gt; | hcc33 &lt;dbl&gt; | hcc34 &lt;dbl&gt; | hcc35 &lt;dbl&gt; | hcc39 &lt;dbl&gt; | hcc40 &lt;dbl&gt; | hcc46 &lt;dbl&gt; | hcc47 &lt;dbl&gt; | hcc48 &lt;dbl&gt; | hcc51 &lt;dbl&gt; | hcc52 &lt;dbl&gt; | hcc54 &lt;dbl&gt; | hcc55 &lt;dbl&gt; | hcc57 &lt;dbl&gt; | hcc58 &lt;dbl&gt; | hcc70 &lt;dbl&gt; | hcc71 &lt;dbl&gt; | hcc72 &lt;dbl&gt; | hcc73 &lt;dbl&gt; | hcc74 &lt;dbl&gt; | hcc75 &lt;dbl&gt; | hcc76 &lt;dbl&gt; | hcc77 &lt;dbl&gt; | hcc78 &lt;dbl&gt; | hcc79 &lt;dbl&gt; | hcc80 &lt;dbl&gt; | hcc82 &lt;dbl&gt; | hcc83 &lt;dbl&gt; | hcc84 &lt;dbl&gt; | hcc85 &lt;dbl&gt; | hcc86 &lt;dbl&gt; | hcc87 &lt;dbl&gt; | hcc88 &lt;dbl&gt; | hcc96 &lt;dbl&gt; | hcc99 &lt;dbl&gt; | hcc100 &lt;dbl&gt; | hcc103 &lt;dbl&gt; | hcc104 &lt;dbl&gt; | hcc106 &lt;dbl&gt; | hcc107 &lt;dbl&gt; | hcc108 &lt;dbl&gt; | hcc110 &lt;dbl&gt; | hcc111 &lt;dbl&gt; | hcc112 &lt;dbl&gt; | hcc114 &lt;dbl&gt; | hcc115 &lt;dbl&gt; | hcc122 &lt;dbl&gt; | hcc124 &lt;dbl&gt; | hcc134 &lt;dbl&gt; | hcc135 &lt;dbl&gt; | hcc136 &lt;dbl&gt; | hcc137 &lt;dbl&gt; | hcc138 &lt;dbl&gt; | hcc139 &lt;dbl&gt; | hcc140 &lt;dbl&gt; | hcc141 &lt;dbl&gt; | hcc157 &lt;dbl&gt; | hcc158 &lt;dbl&gt; | hcc159 &lt;dbl&gt; | hcc160 &lt;dbl&gt; | hcc161 &lt;dbl&gt; | hcc162 &lt;dbl&gt; | hcc166 &lt;dbl&gt; | hcc167 &lt;dbl&gt; | hcc169 &lt;dbl&gt; | hcc170 &lt;dbl&gt; | hcc173 &lt;dbl&gt; | hcc176 &lt;dbl&gt; | hcc186 &lt;dbl&gt; | hcc188 &lt;dbl&gt; | hcc189 &lt;dbl&gt; | hccyear &lt;dbl&gt; |\n",
       "|---|---|---|---|---|---|---|---|---|---|---|---|---|---|---|---|---|---|---|---|---|---|---|---|---|---|---|---|---|---|---|---|---|---|---|---|---|---|---|---|---|---|---|---|---|---|---|---|---|---|---|---|---|---|---|---|---|---|---|---|---|---|---|---|---|---|---|---|---|---|---|---|---|---|---|---|---|---|---|---|---|---|---|---|---|---|---|---|---|\n",
       "| 499998435 | 0 | 0 | 0 | 1 | 0 | 0 | 0 | 1 | 0 | 0 | 0 | 0 | 0 | 0 | 0 | 0 | 0 | 0 | 0 | 0 | 0 | 0 | 0 | 0 | 0 | 0 | 0 | 0 | 0 | 0 | 0 | 0 | 0 | 0 | 0 | 0 | 0 | 0 | 0 | 0 | 0 | 0 | 0 | 0 | 0 | 0 | 0 | 0 | 0 | 1 | 0 | 0 | 0 | 0 | 0 | 0 | 0 | 0 | 0 | 0 | 0 | 0 | 0 | 0 | 0 | 0 | 0 | 0 | 0 | 0 | 0 | 0 | 0 | 0 | 0 | 0 | 0 | 0 | 0 | 0 | 0 | 0 | 0 | 0 | 0 | 0 | 0 | 2020 |\n",
       "| 499999281 | 0 | 0 | 0 | 0 | 0 | 0 | 0 | 0 | 0 | 0 | 0 | 0 | 0 | 0 | 0 | 0 | 0 | 0 | 0 | 0 | 0 | 0 | 0 | 0 | 0 | 0 | 0 | 0 | 0 | 0 | 0 | 0 | 0 | 0 | 0 | 0 | 0 | 0 | 0 | 0 | 0 | 0 | 0 | 0 | 0 | 0 | 0 | 0 | 0 | 1 | 0 | 0 | 0 | 0 | 0 | 0 | 0 | 0 | 1 | 0 | 0 | 0 | 0 | 0 | 0 | 0 | 0 | 0 | 0 | 0 | 0 | 0 | 0 | 0 | 0 | 0 | 0 | 0 | 0 | 0 | 0 | 0 | 0 | 0 | 0 | 0 | 0 | 2020 |\n",
       "| 499999461 | 0 | 1 | 0 | 0 | 0 | 0 | 0 | 0 | 0 | 0 | 1 | 0 | 0 | 0 | 0 | 0 | 0 | 0 | 0 | 0 | 0 | 0 | 0 | 0 | 1 | 0 | 0 | 0 | 0 | 0 | 0 | 0 | 0 | 0 | 0 | 0 | 0 | 0 | 0 | 0 | 0 | 0 | 0 | 0 | 1 | 0 | 0 | 0 | 0 | 0 | 0 | 0 | 0 | 0 | 0 | 0 | 0 | 0 | 0 | 0 | 0 | 0 | 0 | 0 | 0 | 1 | 0 | 0 | 0 | 0 | 0 | 0 | 0 | 0 | 0 | 0 | 0 | 0 | 0 | 0 | 0 | 0 | 0 | 0 | 0 | 0 | 0 | 2020 |\n",
       "| 499999521 | 0 | 0 | 0 | 0 | 0 | 0 | 0 | 1 | 0 | 0 | 0 | 0 | 0 | 0 | 0 | 0 | 0 | 0 | 0 | 0 | 0 | 0 | 0 | 0 | 0 | 0 | 0 | 0 | 0 | 0 | 0 | 0 | 0 | 0 | 0 | 0 | 0 | 0 | 0 | 0 | 0 | 0 | 0 | 0 | 0 | 0 | 0 | 0 | 0 | 0 | 0 | 0 | 0 | 0 | 0 | 0 | 0 | 0 | 0 | 0 | 0 | 0 | 0 | 0 | 0 | 0 | 0 | 0 | 0 | 0 | 0 | 0 | 0 | 0 | 0 | 0 | 0 | 0 | 0 | 0 | 0 | 0 | 0 | 0 | 0 | 0 | 0 | 2020 |\n",
       "| 499999841 | 0 | 0 | 0 | 0 | 0 | 0 | 0 | 1 | 0 | 0 | 0 | 0 | 0 | 0 | 0 | 0 | 0 | 0 | 0 | 0 | 0 | 0 | 0 | 0 | 0 | 0 | 0 | 0 | 0 | 0 | 0 | 0 | 0 | 0 | 0 | 0 | 0 | 0 | 0 | 0 | 0 | 0 | 0 | 0 | 0 | 0 | 0 | 0 | 0 | 1 | 0 | 0 | 0 | 0 | 0 | 0 | 0 | 0 | 0 | 0 | 0 | 0 | 0 | 0 | 0 | 0 | 0 | 0 | 0 | 0 | 0 | 0 | 0 | 0 | 0 | 0 | 0 | 0 | 0 | 0 | 0 | 0 | 0 | 0 | 0 | 0 | 0 | 2020 |\n",
       "| 499999981 | 0 | 0 | 0 | 0 | 0 | 0 | 0 | 0 | 0 | 0 | 0 | 0 | 0 | 0 | 0 | 0 | 0 | 0 | 0 | 0 | 0 | 0 | 0 | 0 | 0 | 0 | 0 | 0 | 0 | 0 | 1 | 0 | 0 | 0 | 0 | 0 | 0 | 0 | 0 | 0 | 0 | 0 | 0 | 0 | 0 | 0 | 0 | 0 | 0 | 0 | 0 | 0 | 0 | 0 | 0 | 0 | 0 | 0 | 0 | 0 | 0 | 0 | 0 | 0 | 0 | 0 | 0 | 0 | 0 | 0 | 0 | 0 | 0 | 0 | 0 | 0 | 0 | 0 | 0 | 0 | 0 | 0 | 0 | 0 | 0 | 0 | 0 | 2020 |\n",
       "\n"
      ],
      "text/plain": [
       "  MBI       hcc1 hcc2 hcc6 hcc8 hcc9 hcc10 hcc11 hcc12 hcc17 hcc18 hcc19 hcc21 hcc22 hcc23 hcc27 hcc28 hcc29 hcc33 hcc34 hcc35 hcc39 hcc40 hcc46 hcc47 hcc48 hcc51 hcc52 hcc54 hcc55 hcc57 hcc58 hcc70 hcc71 hcc72 hcc73 hcc74 hcc75 hcc76 hcc77 hcc78 hcc79 hcc80 hcc82 hcc83 hcc84 hcc85 hcc86 hcc87\n",
       "1 499998435 0    0    0    1    0    0     0     1     0     0     0     0     0     0     0     0     0     0     0     0     0     0     0     0     0     0     0     0     0     0     0     0     0     0     0     0     0     0     0     0     0     0     0     0     0     0     0     0    \n",
       "2 499999281 0    0    0    0    0    0     0     0     0     0     0     0     0     0     0     0     0     0     0     0     0     0     0     0     0     0     0     0     0     0     0     0     0     0     0     0     0     0     0     0     0     0     0     0     0     0     0     0    \n",
       "3 499999461 0    1    0    0    0    0     0     0     0     0     1     0     0     0     0     0     0     0     0     0     0     0     0     0     1     0     0     0     0     0     0     0     0     0     0     0     0     0     0     0     0     0     0     0     1     0     0     0    \n",
       "4 499999521 0    0    0    0    0    0     0     1     0     0     0     0     0     0     0     0     0     0     0     0     0     0     0     0     0     0     0     0     0     0     0     0     0     0     0     0     0     0     0     0     0     0     0     0     0     0     0     0    \n",
       "5 499999841 0    0    0    0    0    0     0     1     0     0     0     0     0     0     0     0     0     0     0     0     0     0     0     0     0     0     0     0     0     0     0     0     0     0     0     0     0     0     0     0     0     0     0     0     0     0     0     0    \n",
       "6 499999981 0    0    0    0    0    0     0     0     0     0     0     0     0     0     0     0     0     0     0     0     0     0     0     0     0     0     0     0     0     0     1     0     0     0     0     0     0     0     0     0     0     0     0     0     0     0     0     0    \n",
       "  hcc88 hcc96 hcc99 hcc100 hcc103 hcc104 hcc106 hcc107 hcc108 hcc110 hcc111 hcc112 hcc114 hcc115 hcc122 hcc124 hcc134 hcc135 hcc136 hcc137 hcc138 hcc139 hcc140 hcc141 hcc157 hcc158 hcc159 hcc160 hcc161 hcc162 hcc166 hcc167 hcc169 hcc170 hcc173 hcc176 hcc186 hcc188 hcc189 hccyear\n",
       "1 0     1     0     0      0      0      0      0      0      0      0      0      0      0      0      0      0      0      0      0      0      0      0      0      0      0      0      0      0      0      0      0      0      0      0      0      0      0      0      2020   \n",
       "2 0     1     0     0      0      0      0      0      0      0      1      0      0      0      0      0      0      0      0      0      0      0      0      0      0      0      0      0      0      0      0      0      0      0      0      0      0      0      0      2020   \n",
       "3 0     0     0     0      0      0      0      0      0      0      0      0      0      0      0      0      0      1      0      0      0      0      0      0      0      0      0      0      0      0      0      0      0      0      0      0      0      0      0      2020   \n",
       "4 0     0     0     0      0      0      0      0      0      0      0      0      0      0      0      0      0      0      0      0      0      0      0      0      0      0      0      0      0      0      0      0      0      0      0      0      0      0      0      2020   \n",
       "5 0     1     0     0      0      0      0      0      0      0      0      0      0      0      0      0      0      0      0      0      0      0      0      0      0      0      0      0      0      0      0      0      0      0      0      0      0      0      0      2020   \n",
       "6 0     0     0     0      0      0      0      0      0      0      0      0      0      0      0      0      0      0      0      0      0      0      0      0      0      0      0      0      0      0      0      0      0      0      0      0      0      0      0      2020   "
      ]
     },
     "metadata": {},
     "output_type": "display_data"
    }
   ],
   "source": [
    "tail(hcc_diag_all_years)"
   ]
  },
  {
   "cell_type": "code",
   "execution_count": 15,
   "id": "2829e3e7-dd99-4b18-ab04-51a4ec2e95e0",
   "metadata": {},
   "outputs": [
    {
     "data": {
      "text/html": [
       "<table class=\"dataframe\">\n",
       "<caption>A data.table: 6 × 598</caption>\n",
       "<thead>\n",
       "\t<tr><th scope=col>...1</th><th scope=col>X</th><th scope=col>DESY_SORT_KEY</th><th scope=col>first_diagnosis</th><th scope=col>tot_allowed_carrier</th><th scope=col>office_visit_count</th><th scope=col>office_visit_cost_carrier</th><th scope=col>cardiology_visit_count</th><th scope=col>distinct_clinicians</th><th scope=col>distinct_cardiologists</th><th scope=col>distinct_primary_care_physicians</th><th scope=col>distinct_surgeons</th><th scope=col>distinct_other_specialties</th><th scope=col>catheterization_count</th><th scope=col>catheterization_cost_carrier</th><th scope=col>ecg_count</th><th scope=col>ecg_cost_carrier</th><th scope=col>cardiac_ct_count</th><th scope=col>cardiac_ct_cost_carrier</th><th scope=col>cardiac_mri_count</th><th scope=col>cardiac_mri_cost_carrier</th><th scope=col>stress_test_count</th><th scope=col>stress_test_cost_carrier</th><th scope=col>echocardiography_count</th><th scope=col>echocardiography_cost_carrier</th><th scope=col>angioplasty_count</th><th scope=col>angioplasty_cost_carrier</th><th scope=col>CABG_count</th><th scope=col>CABG_cost_carrier</th><th scope=col>stable_angina</th><th scope=col>unstable_angina</th><th scope=col>MI</th><th scope=col>MI_date</th><th scope=col>cardiac_arrest</th><th scope=col>stroke</th><th scope=col>hypertension</th><th scope=col>copd</th><th scope=col>obesity</th><th scope=col>depression</th><th scope=col>diabetes</th><th scope=col>icd_9_pure</th><th scope=col>icd_10_pure</th><th scope=col>catheterization_date</th><th scope=col>angioplasty_date</th><th scope=col>catheterization_doc_NPI</th><th scope=col>angioplasty_doc_NPI</th><th scope=col>diagnosing_doc_NPI</th><th scope=col>year_first_diagnosed</th><th scope=col>time_difference_angio_cath</th><th scope=col>angioplasty_with_cath</th><th scope=col>angioplasty_during_year_after_cath</th><th scope=col>tot_allowed_carrier_cardiology_related</th><th scope=col>office_visit_count_cardiology_related</th><th scope=col>office_visit_cost_carrier_cardiology_related</th><th scope=col>cardiology_visit_count_cardiology_related</th><th scope=col>distinct_clinicians_cardiology_related</th><th scope=col>distinct_cardiologists_cardiology_related</th><th scope=col>distinct_primary_care_physicians_cardiology_related</th><th scope=col>distinct_surgeons_cardiology_related</th><th scope=col>distinct_other_specialties_cardiology_related</th><th scope=col>catheterization_count_cardiology_related</th><th scope=col>catheterization_cost_carrier_cardiology_related</th><th scope=col>ecg_count_cardiology_related</th><th scope=col>ecg_cost_carrier_cardiology_related</th><th scope=col>cardiac_ct_count_cardiology_related</th><th scope=col>cardiac_ct_cost_carrier_cardiology_related</th><th scope=col>cardiac_mri_count_cardiology_related</th><th scope=col>cardiac_mri_cost_carrier_cardiology_related</th><th scope=col>stress_test_count_cardiology_related</th><th scope=col>stress_test_cost_carrier_cardiology_related</th><th scope=col>echocardiography_count_cardiology_related</th><th scope=col>echocardiography_cost_carrier_cardiology_related</th><th scope=col>angioplasty_count_cardiology_related</th><th scope=col>angioplasty_cost_carrier_cardiology_related</th><th scope=col>CABG_count_cardiology_related</th><th scope=col>CABG_cost_carrier_cardiology_related</th><th scope=col>office_visit_cost_outpatient</th><th scope=col>catheterization_cost_outpatient</th><th scope=col>ecg_cost_outpatient</th><th scope=col>cardiac_ct_cost_outpatient</th><th scope=col>cardiac_mri_cost_outpatient</th><th scope=col>stress_test_cost_outpatient</th><th scope=col>echocardiography_cost_outpatient</th><th scope=col>angioplasty_cost_outpatient</th><th scope=col>CABG_cost_outpatient</th><th scope=col>office_visit_cost_outpatient_cardiology_related</th><th scope=col>catheterization_cost_outpatient_cardiology_related</th><th scope=col>ecg_cost_outpatient_cardiology_related</th><th scope=col>cardiac_ct_cost_outpatient_cardiology_related</th><th scope=col>cardiac_mri_cost_outpatient_cardiology_related</th><th scope=col>stress_test_cost_outpatient_cardiology_related</th><th scope=col>echocardiography_cost_outpatient_cardiology_related</th><th scope=col>angioplasty_cost_outpatient_cardiology_related</th><th scope=col>CABG_cost_outpatient_cardiology_related</th><th scope=col>office_visit_cost</th><th scope=col>catheterization_cost</th><th scope=col>ecg_cost</th><th scope=col>cardiac_ct_cost</th><th scope=col>cardiac_mri_cost</th><th scope=col>stress_test_cost</th><th scope=col>echocardiography_cost</th><th scope=col>angioplasty_cost</th><th scope=col>CABG_cost</th><th scope=col>office_visit_cost_cardiology_related</th><th scope=col>catheterization_cost_cardiology_related</th><th scope=col>ecg_cost_cardiology_related</th><th scope=col>cardiac_ct_cost_cardiology_related</th><th scope=col>cardiac_mri_cost_cardiology_related</th><th scope=col>stress_test_cost_cardiology_related</th><th scope=col>echocardiography_cost_cardiology_related</th><th scope=col>angioplasty_cost_cardiology_related</th><th scope=col>CABG_cost_cardiology_related</th><th scope=col>tot_cheap_prcdr_cost</th><th scope=col>tot_expensive_prcdr_cost</th><th scope=col>tot_cheap_prcdr_cost_cardiology_related</th><th scope=col>tot_expensive_prcdr_cost_cardiology_related</th><th scope=col>tot_cheap_prcdr_count</th><th scope=col>tot_expensive_prcdr_count</th><th scope=col>tot_cheap_prcdr_count_cardiology_related</th><th scope=col>tot_expensive_prcdr_count_cardiology_related</th><th scope=col>REFERENCE_YEAR_2013</th><th scope=col>STATE_CODE_2013</th><th scope=col>COUNTY_CODE_2013</th><th scope=col>SEX_CODE_2013</th><th scope=col>RACE_CODE_2013</th><th scope=col>AGE_2013</th><th scope=col>ORIG_REASON_FOR_ENTITLEMENT_2013</th><th scope=col>CURR_REASON_FOR_ENTITLEMENT_2013</th><th scope=col>ENTITLEMENT_BUY_IN_IND01_2013</th><th scope=col>ENTITLEMENT_BUY_IN_IND02_2013</th><th scope=col>ENTITLEMENT_BUY_IN_IND03_2013</th><th scope=col>ENTITLEMENT_BUY_IN_IND04_2013</th><th scope=col>ENTITLEMENT_BUY_IN_IND05_2013</th><th scope=col>ENTITLEMENT_BUY_IN_IND06_2013</th><th scope=col>ENTITLEMENT_BUY_IN_IND07_2013</th><th scope=col>ENTITLEMENT_BUY_IN_IND08_2013</th><th scope=col>ENTITLEMENT_BUY_IN_IND09_2013</th><th scope=col>ENTITLEMENT_BUY_IN_IND10_2013</th><th scope=col>ENTITLEMENT_BUY_IN_IND11_2013</th><th scope=col>ENTITLEMENT_BUY_IN_IND12_2013</th><th scope=col>HMO_INDICATOR01_2013</th><th scope=col>HMO_INDICATOR02_2013</th><th scope=col>HMO_INDICATOR03_2013</th><th scope=col>HMO_INDICATOR04_2013</th><th scope=col>HMO_INDICATOR05_2013</th><th scope=col>HMO_INDICATOR06_2013</th><th scope=col>HMO_INDICATOR07_2013</th><th scope=col>HMO_INDICATOR08_2013</th><th scope=col>HMO_INDICATOR09_2013</th><th scope=col>HMO_INDICATOR10_2013</th><th scope=col>⋯</th><th scope=col>most_common_primary_care_physician_prp_in_year_before_diagnosis_05_non_exclusive_HCPCS</th><th scope=col>most_common_primary_care_physician_prp_in_year_of_diagnosis_03_non_exclusive_HCPCS</th><th scope=col>most_common_primary_care_physician_prp_in_2013_03_non_exclusive_HCPCS</th><th scope=col>most_common_primary_care_physician_prp_in_year_before_diagnosis_03_non_exclusive_HCPCS</th><th scope=col>most_common_primary_care_physician_avg_in_year_of_diagnosis_non_exclusive_HCPCS</th><th scope=col>most_common_primary_care_physician_avg_in_2013_non_exclusive_HCPCS</th><th scope=col>most_common_primary_care_physician_avg_in_year_before_diagnosis_non_exclusive_HCPCS</th><th scope=col>most_common_cardiologist_prp_in_year_of_diagnosis_05_non_exclusive_HCPCS</th><th scope=col>most_common_cardiologist_prp_in_2013_05_non_exclusive_HCPCS</th><th scope=col>most_common_cardiologist_prp_in_year_before_diagnosis_05_non_exclusive_HCPCS</th><th scope=col>most_common_cardiologist_prp_in_year_of_diagnosis_03_non_exclusive_HCPCS</th><th scope=col>most_common_cardiologist_prp_in_2013_03_non_exclusive_HCPCS</th><th scope=col>most_common_cardiologist_prp_in_year_before_diagnosis_03_non_exclusive_HCPCS</th><th scope=col>most_common_cardiologist_avg_in_year_of_diagnosis_non_exclusive_HCPCS</th><th scope=col>most_common_cardiologist_avg_in_2013_non_exclusive_HCPCS</th><th scope=col>most_common_cardiologist_avg_in_year_before_diagnosis_non_exclusive_HCPCS</th><th scope=col>diagnosing_doc_prp_in_year_of_diagnosis_05_non_exclusive_HCPCS</th><th scope=col>diagnosing_doc_prp_in_2013_05_non_exclusive_HCPCS</th><th scope=col>diagnosing_doc_prp_in_year_before_diagnosis_05_non_exclusive_HCPCS</th><th scope=col>diagnosing_doc_prp_in_year_of_diagnosis_03_non_exclusive_HCPCS</th><th scope=col>diagnosing_doc_prp_in_2013_03_non_exclusive_HCPCS</th><th scope=col>diagnosing_doc_prp_in_year_before_diagnosis_03_non_exclusive_HCPCS</th><th scope=col>diagnosing_doc_avg_in_year_of_diagnosis_non_exclusive_HCPCS</th><th scope=col>diagnosing_doc_avg_in_2013_non_exclusive_HCPCS</th><th scope=col>diagnosing_doc_avg_in_year_before_diagnosis_non_exclusive_HCPCS</th><th scope=col>catheterization_doc_prp_in_year_of_diagnosis_05_non_exclusive_HCPCS</th><th scope=col>catheterization_doc_prp_in_2013_05_non_exclusive_HCPCS</th><th scope=col>catheterization_doc_prp_in_year_before_diagnosis_05_non_exclusive_HCPCS</th><th scope=col>catheterization_doc_prp_in_year_of_diagnosis_03_non_exclusive_HCPCS</th><th scope=col>catheterization_doc_prp_in_2013_03_non_exclusive_HCPCS</th><th scope=col>catheterization_doc_prp_in_year_before_diagnosis_03_non_exclusive_HCPCS</th><th scope=col>catheterization_doc_avg_in_year_of_diagnosis_non_exclusive_HCPCS</th><th scope=col>catheterization_doc_avg_in_2013_non_exclusive_HCPCS</th><th scope=col>catheterization_doc_avg_in_year_before_diagnosis_non_exclusive_HCPCS</th><th scope=col>angioplasty_doc_prp_in_year_of_diagnosis_05_non_exclusive_HCPCS</th><th scope=col>angioplasty_doc_prp_in_2013_05_non_exclusive_HCPCS</th><th scope=col>angioplasty_doc_prp_in_year_before_diagnosis_05_non_exclusive_HCPCS</th><th scope=col>angioplasty_doc_prp_in_year_of_diagnosis_03_non_exclusive_HCPCS</th><th scope=col>angioplasty_doc_prp_in_2013_03_non_exclusive_HCPCS</th><th scope=col>angioplasty_doc_prp_in_year_before_diagnosis_03_non_exclusive_HCPCS</th><th scope=col>angioplasty_doc_avg_in_year_of_diagnosis_non_exclusive_HCPCS</th><th scope=col>angioplasty_doc_avg_in_2013_non_exclusive_HCPCS</th><th scope=col>angioplasty_doc_avg_in_year_before_diagnosis_non_exclusive_HCPCS</th><th scope=col>most_common_physician_2013_prp_in_year_of_diagnosis_05_non_exclusive_HCPCS</th><th scope=col>most_common_physician_2013_prp_in_2013_05_non_exclusive_HCPCS</th><th scope=col>most_common_physician_2013_prp_in_year_before_diagnosis_05_non_exclusive_HCPCS</th><th scope=col>most_common_physician_2013_prp_in_year_of_diagnosis_03_non_exclusive_HCPCS</th><th scope=col>most_common_physician_2013_prp_in_2013_03_non_exclusive_HCPCS</th><th scope=col>most_common_physician_2013_prp_in_year_before_diagnosis_03_non_exclusive_HCPCS</th><th scope=col>most_common_physician_2013_avg_in_year_of_diagnosis_non_exclusive_HCPCS</th><th scope=col>most_common_physician_2013_avg_in_2013_non_exclusive_HCPCS</th><th scope=col>most_common_physician_2013_avg_in_year_before_diagnosis_non_exclusive_HCPCS</th><th scope=col>most_common_primary_care_physician_2013_prp_in_year_of_diagnosis_05_non_exclusive_HCPCS</th><th scope=col>most_common_primary_care_physician_2013_prp_in_2013_05_non_exclusive_HCPCS</th><th scope=col>most_common_primary_care_physician_2013_prp_in_year_before_diagnosis_05_non_exclusive_HCPCS</th><th scope=col>most_common_primary_care_physician_2013_prp_in_year_of_diagnosis_03_non_exclusive_HCPCS</th><th scope=col>most_common_primary_care_physician_2013_prp_in_2013_03_non_exclusive_HCPCS</th><th scope=col>most_common_primary_care_physician_2013_prp_in_year_before_diagnosis_03_non_exclusive_HCPCS</th><th scope=col>most_common_primary_care_physician_2013_avg_in_year_of_diagnosis_non_exclusive_HCPCS</th><th scope=col>most_common_primary_care_physician_2013_avg_in_2013_non_exclusive_HCPCS</th><th scope=col>most_common_primary_care_physician_2013_avg_in_year_before_diagnosis_non_exclusive_HCPCS</th><th scope=col>most_common_cardiologist_2013_prp_in_year_of_diagnosis_05_non_exclusive_HCPCS</th><th scope=col>most_common_cardiologist_2013_prp_in_2013_05_non_exclusive_HCPCS</th><th scope=col>most_common_cardiologist_2013_prp_in_year_before_diagnosis_05_non_exclusive_HCPCS</th><th scope=col>most_common_cardiologist_2013_prp_in_year_of_diagnosis_03_non_exclusive_HCPCS</th><th scope=col>most_common_cardiologist_2013_prp_in_2013_03_non_exclusive_HCPCS</th><th scope=col>most_common_cardiologist_2013_prp_in_year_before_diagnosis_03_non_exclusive_HCPCS</th><th scope=col>most_common_cardiologist_2013_avg_in_year_of_diagnosis_non_exclusive_HCPCS</th><th scope=col>most_common_cardiologist_2013_avg_in_2013_non_exclusive_HCPCS</th><th scope=col>most_common_cardiologist_2013_avg_in_year_before_diagnosis_non_exclusive_HCPCS</th><th scope=col>RUCC_2013</th><th scope=col>State.Code</th><th scope=col>census_region</th><th scope=col>Division</th><th scope=col>race</th><th scope=col>sex</th><th scope=col>age_group</th><th scope=col>urban</th><th scope=col>cardiologist_gndr</th><th scope=col>cardiologist_grd_yr</th><th scope=col>cardiologist_experience_at_diagnosis</th><th scope=col>viclaims</th><th scope=col>vikeyword</th><th scope=col>tin1_nu</th><th scope=col>tin1_legal_name</th><th scope=col>tin2_nu</th><th scope=col>tin2_legal_name</th><th scope=col>name_last</th><th scope=col>name_first</th><th scope=col>name_middle</th><th scope=col>SPEC_PRIM_1_NAME</th><th scope=col>SPEC_PRIM_1</th><th scope=col>SPEC_BROAD</th><th scope=col>SEX</th><th scope=col>SPEC_PRIM_2</th><th scope=col>SPEC_PRIM_2_NAME</th><th scope=col>SPEC_SOURCE</th><th scope=col>SPEC_SOURCE_HOSP</th><th scope=col>POS_OFFICE</th><th scope=col>POS_INPAT</th><th scope=col>POS_OPD</th><th scope=col>POS_ER</th><th scope=col>POS_NURSING</th><th scope=col>POS_ASC</th><th scope=col>POS_RESID</th><th scope=col>POS_RETAIL</th><th scope=col>POS_URGENT</th><th scope=col>POS_OTHER</th><th scope=col>STATE</th><th scope=col>STATE_MULTI</th><th scope=col>CBSA_TYPE</th><th scope=col>CBSA_CD</th><th scope=col>CBSA_NAME</th><th scope=col>CBSA_MULTI</th><th scope=col>NPI_SRVC_LINES</th><th scope=col>NPI_ALLOWED_AMT</th><th scope=col>NPI_UNQ_BENES</th><th scope=col>TIN1_SRVC_MONTH</th><th scope=col>TIN1_SRVC_LINES</th><th scope=col>TIN1_ALLOWED_AMT</th><th scope=col>TIN1_UNQ_BENES</th><th scope=col>TIN2_SRVC_MONTH</th><th scope=col>TIN2_SRVC_LINES</th><th scope=col>TIN2_ALLOWED_AMT</th><th scope=col>TIN2_UNQ_BENES</th><th scope=col>BIRTH_YR</th><th scope=col>lns_office</th><th scope=col>lns_opd</th><th scope=col>most_common_cardiologist_integrated_in_year_of_diagnosis</th><th scope=col>tot_allowed_carrier_same_tin</th><th scope=col>tot_allowed_carrier_not_same_tin</th><th scope=col>distinct_clinicians_same_tin</th><th scope=col>distinct_cardiologists_same_tin</th><th scope=col>distinct_clinicians_not_same_tin</th><th scope=col>distinct_cardiologists_not_same_tin</th><th scope=col>tot_allowed_carrier_same_tin_cardiology_related</th><th scope=col>tot_allowed_carrier_not_same_tin_cardiology_related</th><th scope=col>tot_allowed_outpatient_same_tin</th><th scope=col>tot_allowed_outpatient_not_same_tin</th><th scope=col>tot_allowed_inpatient_same_tin</th><th scope=col>tot_allowed_inpatient_not_same_tin</th><th scope=col>tot_allowed_outpatient_same_tin_cardiology_related</th><th scope=col>tot_allowed_outpatient_not_same_tin_cardiology_related</th><th scope=col>tot_allowed_inpatient_same_tin_cardiology_related</th><th scope=col>tot_allowed_inpatient_not_same_tin_cardiology_related</th><th scope=col>total_exp_same_tin</th><th scope=col>total_exp_same_tin_cardiology_related</th><th scope=col>total_exp_not_same_tin</th><th scope=col>total_exp_not_same_tin_cardiology_related</th><th scope=col>year_before_diagnosis</th></tr>\n",
       "\t<tr><th scope=col>&lt;dbl&gt;</th><th scope=col>&lt;dbl&gt;</th><th scope=col>&lt;dbl&gt;</th><th scope=col>&lt;date&gt;</th><th scope=col>&lt;dbl&gt;</th><th scope=col>&lt;dbl&gt;</th><th scope=col>&lt;dbl&gt;</th><th scope=col>&lt;dbl&gt;</th><th scope=col>&lt;dbl&gt;</th><th scope=col>&lt;dbl&gt;</th><th scope=col>&lt;dbl&gt;</th><th scope=col>&lt;dbl&gt;</th><th scope=col>&lt;dbl&gt;</th><th scope=col>&lt;dbl&gt;</th><th scope=col>&lt;dbl&gt;</th><th scope=col>&lt;dbl&gt;</th><th scope=col>&lt;dbl&gt;</th><th scope=col>&lt;dbl&gt;</th><th scope=col>&lt;dbl&gt;</th><th scope=col>&lt;dbl&gt;</th><th scope=col>&lt;dbl&gt;</th><th scope=col>&lt;dbl&gt;</th><th scope=col>&lt;dbl&gt;</th><th scope=col>&lt;dbl&gt;</th><th scope=col>&lt;dbl&gt;</th><th scope=col>&lt;dbl&gt;</th><th scope=col>&lt;dbl&gt;</th><th scope=col>&lt;dbl&gt;</th><th scope=col>&lt;dbl&gt;</th><th scope=col>&lt;lgl&gt;</th><th scope=col>&lt;lgl&gt;</th><th scope=col>&lt;lgl&gt;</th><th scope=col>&lt;date&gt;</th><th scope=col>&lt;lgl&gt;</th><th scope=col>&lt;lgl&gt;</th><th scope=col>&lt;lgl&gt;</th><th scope=col>&lt;lgl&gt;</th><th scope=col>&lt;lgl&gt;</th><th scope=col>&lt;lgl&gt;</th><th scope=col>&lt;lgl&gt;</th><th scope=col>&lt;lgl&gt;</th><th scope=col>&lt;lgl&gt;</th><th scope=col>&lt;date&gt;</th><th scope=col>&lt;date&gt;</th><th scope=col>&lt;dbl&gt;</th><th scope=col>&lt;dbl&gt;</th><th scope=col>&lt;dbl&gt;</th><th scope=col>&lt;dbl&gt;</th><th scope=col>&lt;dbl&gt;</th><th scope=col>&lt;lgl&gt;</th><th scope=col>&lt;lgl&gt;</th><th scope=col>&lt;dbl&gt;</th><th scope=col>&lt;dbl&gt;</th><th scope=col>&lt;dbl&gt;</th><th scope=col>&lt;dbl&gt;</th><th scope=col>&lt;dbl&gt;</th><th scope=col>&lt;dbl&gt;</th><th scope=col>&lt;dbl&gt;</th><th scope=col>&lt;dbl&gt;</th><th scope=col>&lt;dbl&gt;</th><th scope=col>&lt;dbl&gt;</th><th scope=col>&lt;dbl&gt;</th><th scope=col>&lt;dbl&gt;</th><th scope=col>&lt;dbl&gt;</th><th scope=col>&lt;dbl&gt;</th><th scope=col>&lt;dbl&gt;</th><th scope=col>&lt;dbl&gt;</th><th scope=col>&lt;dbl&gt;</th><th scope=col>&lt;dbl&gt;</th><th scope=col>&lt;dbl&gt;</th><th scope=col>&lt;dbl&gt;</th><th scope=col>&lt;dbl&gt;</th><th scope=col>&lt;dbl&gt;</th><th scope=col>&lt;dbl&gt;</th><th scope=col>&lt;dbl&gt;</th><th scope=col>&lt;dbl&gt;</th><th scope=col>&lt;dbl&gt;</th><th scope=col>&lt;dbl&gt;</th><th scope=col>&lt;dbl&gt;</th><th scope=col>&lt;dbl&gt;</th><th scope=col>&lt;dbl&gt;</th><th scope=col>&lt;dbl&gt;</th><th scope=col>&lt;dbl&gt;</th><th scope=col>&lt;dbl&gt;</th><th scope=col>&lt;dbl&gt;</th><th scope=col>&lt;dbl&gt;</th><th scope=col>&lt;dbl&gt;</th><th scope=col>&lt;dbl&gt;</th><th scope=col>&lt;dbl&gt;</th><th scope=col>&lt;dbl&gt;</th><th scope=col>&lt;dbl&gt;</th><th scope=col>&lt;dbl&gt;</th><th scope=col>&lt;dbl&gt;</th><th scope=col>&lt;dbl&gt;</th><th scope=col>&lt;dbl&gt;</th><th scope=col>&lt;dbl&gt;</th><th scope=col>&lt;dbl&gt;</th><th scope=col>&lt;dbl&gt;</th><th scope=col>&lt;dbl&gt;</th><th scope=col>&lt;dbl&gt;</th><th scope=col>&lt;dbl&gt;</th><th scope=col>&lt;dbl&gt;</th><th scope=col>&lt;dbl&gt;</th><th scope=col>&lt;dbl&gt;</th><th scope=col>&lt;dbl&gt;</th><th scope=col>&lt;dbl&gt;</th><th scope=col>&lt;dbl&gt;</th><th scope=col>&lt;dbl&gt;</th><th scope=col>&lt;dbl&gt;</th><th scope=col>&lt;dbl&gt;</th><th scope=col>&lt;dbl&gt;</th><th scope=col>&lt;dbl&gt;</th><th scope=col>&lt;dbl&gt;</th><th scope=col>&lt;dbl&gt;</th><th scope=col>&lt;dbl&gt;</th><th scope=col>&lt;dbl&gt;</th><th scope=col>&lt;dbl&gt;</th><th scope=col>&lt;dbl&gt;</th><th scope=col>&lt;dbl&gt;</th><th scope=col>&lt;dbl&gt;</th><th scope=col>&lt;dbl&gt;</th><th scope=col>&lt;dbl&gt;</th><th scope=col>&lt;dbl&gt;</th><th scope=col>&lt;dbl&gt;</th><th scope=col>&lt;dbl&gt;</th><th scope=col>&lt;dbl&gt;</th><th scope=col>&lt;dbl&gt;</th><th scope=col>&lt;dbl&gt;</th><th scope=col>&lt;chr&gt;</th><th scope=col>&lt;chr&gt;</th><th scope=col>&lt;chr&gt;</th><th scope=col>&lt;chr&gt;</th><th scope=col>&lt;chr&gt;</th><th scope=col>&lt;chr&gt;</th><th scope=col>&lt;chr&gt;</th><th scope=col>&lt;chr&gt;</th><th scope=col>&lt;chr&gt;</th><th scope=col>&lt;chr&gt;</th><th scope=col>&lt;chr&gt;</th><th scope=col>&lt;chr&gt;</th><th scope=col>&lt;chr&gt;</th><th scope=col>&lt;chr&gt;</th><th scope=col>&lt;chr&gt;</th><th scope=col>&lt;chr&gt;</th><th scope=col>&lt;chr&gt;</th><th scope=col>&lt;chr&gt;</th><th scope=col>&lt;chr&gt;</th><th scope=col>&lt;chr&gt;</th><th scope=col>&lt;chr&gt;</th><th scope=col>&lt;chr&gt;</th><th scope=col>⋯</th><th scope=col>&lt;dbl&gt;</th><th scope=col>&lt;dbl&gt;</th><th scope=col>&lt;dbl&gt;</th><th scope=col>&lt;dbl&gt;</th><th scope=col>&lt;dbl&gt;</th><th scope=col>&lt;dbl&gt;</th><th scope=col>&lt;dbl&gt;</th><th scope=col>&lt;dbl&gt;</th><th scope=col>&lt;dbl&gt;</th><th scope=col>&lt;dbl&gt;</th><th scope=col>&lt;dbl&gt;</th><th scope=col>&lt;dbl&gt;</th><th scope=col>&lt;dbl&gt;</th><th scope=col>&lt;dbl&gt;</th><th scope=col>&lt;dbl&gt;</th><th scope=col>&lt;dbl&gt;</th><th scope=col>&lt;dbl&gt;</th><th scope=col>&lt;dbl&gt;</th><th scope=col>&lt;dbl&gt;</th><th scope=col>&lt;dbl&gt;</th><th scope=col>&lt;dbl&gt;</th><th scope=col>&lt;dbl&gt;</th><th scope=col>&lt;dbl&gt;</th><th scope=col>&lt;dbl&gt;</th><th scope=col>&lt;dbl&gt;</th><th scope=col>&lt;dbl&gt;</th><th scope=col>&lt;dbl&gt;</th><th scope=col>&lt;dbl&gt;</th><th scope=col>&lt;dbl&gt;</th><th scope=col>&lt;dbl&gt;</th><th scope=col>&lt;dbl&gt;</th><th scope=col>&lt;dbl&gt;</th><th scope=col>&lt;dbl&gt;</th><th scope=col>&lt;dbl&gt;</th><th scope=col>&lt;dbl&gt;</th><th scope=col>&lt;dbl&gt;</th><th scope=col>&lt;dbl&gt;</th><th scope=col>&lt;dbl&gt;</th><th scope=col>&lt;dbl&gt;</th><th scope=col>&lt;dbl&gt;</th><th scope=col>&lt;dbl&gt;</th><th scope=col>&lt;dbl&gt;</th><th scope=col>&lt;dbl&gt;</th><th scope=col>&lt;dbl&gt;</th><th scope=col>&lt;dbl&gt;</th><th scope=col>&lt;dbl&gt;</th><th scope=col>&lt;dbl&gt;</th><th scope=col>&lt;dbl&gt;</th><th scope=col>&lt;dbl&gt;</th><th scope=col>&lt;dbl&gt;</th><th scope=col>&lt;dbl&gt;</th><th scope=col>&lt;dbl&gt;</th><th scope=col>&lt;dbl&gt;</th><th scope=col>&lt;dbl&gt;</th><th scope=col>&lt;dbl&gt;</th><th scope=col>&lt;dbl&gt;</th><th scope=col>&lt;dbl&gt;</th><th scope=col>&lt;dbl&gt;</th><th scope=col>&lt;dbl&gt;</th><th scope=col>&lt;dbl&gt;</th><th scope=col>&lt;dbl&gt;</th><th scope=col>&lt;dbl&gt;</th><th scope=col>&lt;dbl&gt;</th><th scope=col>&lt;dbl&gt;</th><th scope=col>&lt;dbl&gt;</th><th scope=col>&lt;dbl&gt;</th><th scope=col>&lt;dbl&gt;</th><th scope=col>&lt;dbl&gt;</th><th scope=col>&lt;dbl&gt;</th><th scope=col>&lt;dbl&gt;</th><th scope=col>&lt;dbl&gt;</th><th scope=col>&lt;chr&gt;</th><th scope=col>&lt;chr&gt;</th><th scope=col>&lt;chr&gt;</th><th scope=col>&lt;chr&gt;</th><th scope=col>&lt;chr&gt;</th><th scope=col>&lt;chr&gt;</th><th scope=col>&lt;lgl&gt;</th><th scope=col>&lt;chr&gt;</th><th scope=col>&lt;dbl&gt;</th><th scope=col>&lt;dbl&gt;</th><th scope=col>&lt;dbl&gt;</th><th scope=col>&lt;dbl&gt;</th><th scope=col>&lt;chr&gt;</th><th scope=col>&lt;chr&gt;</th><th scope=col>&lt;chr&gt;</th><th scope=col>&lt;chr&gt;</th><th scope=col>&lt;chr&gt;</th><th scope=col>&lt;chr&gt;</th><th scope=col>&lt;chr&gt;</th><th scope=col>&lt;chr&gt;</th><th scope=col>&lt;chr&gt;</th><th scope=col>&lt;dbl&gt;</th><th scope=col>&lt;chr&gt;</th><th scope=col>&lt;lgl&gt;</th><th scope=col>&lt;chr&gt;</th><th scope=col>&lt;dbl&gt;</th><th scope=col>&lt;lgl&gt;</th><th scope=col>&lt;dbl&gt;</th><th scope=col>&lt;dbl&gt;</th><th scope=col>&lt;dbl&gt;</th><th scope=col>&lt;dbl&gt;</th><th scope=col>&lt;dbl&gt;</th><th scope=col>&lt;dbl&gt;</th><th scope=col>&lt;dbl&gt;</th><th scope=col>&lt;dbl&gt;</th><th scope=col>&lt;dbl&gt;</th><th scope=col>&lt;dbl&gt;</th><th scope=col>&lt;chr&gt;</th><th scope=col>&lt;dbl&gt;</th><th scope=col>&lt;dbl&gt;</th><th scope=col>&lt;dbl&gt;</th><th scope=col>&lt;chr&gt;</th><th scope=col>&lt;dbl&gt;</th><th scope=col>&lt;dbl&gt;</th><th scope=col>&lt;dbl&gt;</th><th scope=col>&lt;dbl&gt;</th><th scope=col>&lt;chr&gt;</th><th scope=col>&lt;dbl&gt;</th><th scope=col>&lt;dbl&gt;</th><th scope=col>&lt;dbl&gt;</th><th scope=col>&lt;chr&gt;</th><th scope=col>&lt;dbl&gt;</th><th scope=col>&lt;dbl&gt;</th><th scope=col>&lt;dbl&gt;</th><th scope=col>&lt;dbl&gt;</th><th scope=col>&lt;dbl&gt;</th><th scope=col>&lt;dbl&gt;</th><th scope=col>&lt;lgl&gt;</th><th scope=col>&lt;dbl&gt;</th><th scope=col>&lt;dbl&gt;</th><th scope=col>&lt;dbl&gt;</th><th scope=col>&lt;dbl&gt;</th><th scope=col>&lt;dbl&gt;</th><th scope=col>&lt;dbl&gt;</th><th scope=col>&lt;dbl&gt;</th><th scope=col>&lt;dbl&gt;</th><th scope=col>&lt;dbl&gt;</th><th scope=col>&lt;dbl&gt;</th><th scope=col>&lt;dbl&gt;</th><th scope=col>&lt;dbl&gt;</th><th scope=col>&lt;dbl&gt;</th><th scope=col>&lt;dbl&gt;</th><th scope=col>&lt;dbl&gt;</th><th scope=col>&lt;dbl&gt;</th><th scope=col>&lt;dbl&gt;</th><th scope=col>&lt;dbl&gt;</th><th scope=col>&lt;dbl&gt;</th><th scope=col>&lt;dbl&gt;</th><th scope=col>&lt;dbl&gt;</th></tr>\n",
       "</thead>\n",
       "<tbody>\n",
       "\t<tr><td>1</td><td>1</td><td>100004643</td><td>2018-07-24</td><td> 2164.96</td><td> 2</td><td> 209.35</td><td>2</td><td> 5</td><td>1</td><td>0</td><td>0</td><td> 4</td><td>0</td><td>  0.00</td><td> 1</td><td> 16.26</td><td>0</td><td>0</td><td>0</td><td>0</td><td>1</td><td>60.06</td><td>0</td><td>  0.00</td><td>0</td><td>   0.00</td><td>0</td><td>0</td><td>TRUE</td><td>FALSE</td><td>FALSE</td><td>NA</td><td>FALSE</td><td>FALSE</td><td> TRUE</td><td>FALSE</td><td>FALSE</td><td>FALSE</td><td>FALSE</td><td>FALSE</td><td> TRUE</td><td>NA</td><td>NA</td><td>        NA</td><td>        NA</td><td>1922000801</td><td>2018</td><td>NA</td><td>FALSE</td><td>FALSE</td><td>1098.55</td><td>1</td><td>104.30</td><td>1</td><td> 5</td><td>1</td><td>0</td><td>0</td><td>4</td><td>0</td><td>  0.00</td><td>1</td><td>16.26</td><td>0</td><td>0</td><td>0</td><td>0</td><td>0</td><td> 0.00</td><td>0</td><td> 0.00</td><td>0</td><td>   0.00</td><td>0</td><td>0</td><td>0</td><td>0.00</td><td>  0.00</td><td>0</td><td>0</td><td>0</td><td>0</td><td>   0.00</td><td>0</td><td>0</td><td>0.00</td><td>  0.0</td><td>0</td><td>0</td><td>0</td><td>0</td><td>   0.00</td><td>0</td><td> 209.35</td><td>  0.00</td><td> 16.26</td><td>0</td><td>0</td><td>60.06</td><td>  0.00</td><td>   0.00</td><td>0</td><td>104.30</td><td>  0.00</td><td> 16.26</td><td>0</td><td>0</td><td> 0.00</td><td> 0.00</td><td>   0.00</td><td>0</td><td> 269.41</td><td>   0.00</td><td>104.30</td><td>   0.00</td><td> 3</td><td>0</td><td> 1</td><td>0</td><td>13</td><td>34</td><td>240</td><td>2</td><td>1</td><td>77</td><td>0</td><td>0</td><td>3</td><td>3</td><td>3</td><td>3</td><td>3</td><td>3</td><td>3</td><td>3</td><td>3</td><td>3</td><td>3</td><td>3</td><td>0</td><td>0</td><td>0</td><td>0</td><td>0</td><td>0</td><td>0</td><td>0</td><td>0</td><td>0</td><td>⋯</td><td>NA</td><td>NA</td><td>NA</td><td>NA</td><td>NA</td><td>         NA</td><td>NA</td><td>0.00000000</td><td>0.00000000</td><td>0</td><td>0.00000000</td><td>0.0000000</td><td>0.0000000</td><td>0.049250535</td><td>0.06811989</td><td>0.07415254</td><td>0.0000000</td><td>0</td><td>0.00</td><td>0.0000000</td><td>0.00</td><td>0.0000000</td><td>0.049250535</td><td>0.06811989</td><td>0.07415254</td><td>       NA</td><td> NA</td><td>       NA</td><td>       NA</td><td>       NA</td><td>  NA</td><td>       NA</td><td>        NA</td><td>        NA</td><td>       NA</td><td> NA</td><td>       NA</td><td>       NA</td><td>       NA</td><td>  NA</td><td>       NA</td><td>       NA</td><td>      NA</td><td>0.00</td><td>0.08333333</td><td>0.0000000</td><td>0.00</td><td>0.1666667</td><td>0.0000000</td><td>0.0000000</td><td>0.1264368</td><td>0.0000000</td><td> 0</td><td>0.08333333</td><td> 0</td><td> 0</td><td>0.1666667</td><td> 0</td><td> 0</td><td>0.1264368</td><td> 0</td><td>NA</td><td>        NA</td><td>NA</td><td>NA</td><td>  NA</td><td>NA</td><td>        NA</td><td>     NA</td><td>        NA</td><td>2</td><td>LA</td><td>South    </td><td>West South Central</td><td>White</td><td>Female</td><td>75-84</td><td>TRUE</td><td>M </td><td>1991</td><td>27</td><td>0</td><td>0</td><td>NU00134539</td><td>CARDIOLOGY SPECIALISTS OF ACADIANA, LLC  </td><td>NU00359047</td><td>ABBEVILLE GENERAL HOSPITAL            </td><td>LELEUX     </td><td>JON    </td><td>DAMIAN</td><td>Cardiology</td><td>06</td><td>2</td><td>M</td><td>NA</td><td>NONE</td><td>1</td><td>NA</td><td>0.8810704</td><td>0.05155199</td><td>0.06513618</td><td>0.0022413910</td><td>0.0000000000</td><td>0</td><td>0</td><td>0</td><td>0</td><td>0</td><td>LA</td><td>0</td><td>1</td><td>29180</td><td>Lafayette, LA                        </td><td>0</td><td>14723</td><td>1811872.4</td><td>2866</td><td>111111111111</td><td>14396</td><td>1788733.8</td><td>2754</td><td>111111111111</td><td>327</td><td>23138.52</td><td>307</td><td>1967</td><td>12972</td><td> 959</td><td>FALSE</td><td>1345.60</td><td>  819.36</td><td> 1</td><td>1</td><td> 4</td><td>0</td><td> 310.35</td><td> 788.20</td><td>NA</td><td>       NA</td><td>NA</td><td>       NA</td><td>NA</td><td>      NA</td><td>NA</td><td>      NA</td><td>1345.60</td><td> 310.35</td><td>   819.36</td><td>  788.20</td><td>2017</td></tr>\n",
       "\t<tr><td>2</td><td>2</td><td>100008543</td><td>2014-04-16</td><td> 2149.56</td><td>12</td><td> 869.89</td><td>2</td><td>22</td><td>4</td><td>5</td><td>1</td><td>12</td><td>0</td><td>  0.00</td><td> 3</td><td> 25.29</td><td>0</td><td>0</td><td>0</td><td>0</td><td>0</td><td> 0.00</td><td>0</td><td>  0.00</td><td>0</td><td>   0.00</td><td>0</td><td>0</td><td>TRUE</td><td>FALSE</td><td>FALSE</td><td>NA</td><td>FALSE</td><td>FALSE</td><td>FALSE</td><td>FALSE</td><td>FALSE</td><td>FALSE</td><td>FALSE</td><td> TRUE</td><td>FALSE</td><td>NA</td><td>NA</td><td>        NA</td><td>        NA</td><td>1033107701</td><td>2014</td><td>NA</td><td>FALSE</td><td>FALSE</td><td> 178.71</td><td>2</td><td>146.81</td><td>1</td><td> 4</td><td>3</td><td>1</td><td>0</td><td>0</td><td>0</td><td>  0.00</td><td>0</td><td> 0.00</td><td>0</td><td>0</td><td>0</td><td>0</td><td>0</td><td> 0.00</td><td>0</td><td> 0.00</td><td>0</td><td>   0.00</td><td>0</td><td>0</td><td>0</td><td>0.00</td><td>490.65</td><td>0</td><td>0</td><td>0</td><td>0</td><td>   0.00</td><td>0</td><td>0</td><td>0.00</td><td>126.3</td><td>0</td><td>0</td><td>0</td><td>0</td><td>   0.00</td><td>0</td><td> 869.89</td><td>  0.00</td><td>515.94</td><td>0</td><td>0</td><td> 0.00</td><td>  0.00</td><td>   0.00</td><td>0</td><td>146.81</td><td>  0.00</td><td>126.30</td><td>0</td><td>0</td><td> 0.00</td><td> 0.00</td><td>   0.00</td><td>0</td><td> 869.89</td><td>   0.00</td><td>146.81</td><td>   0.00</td><td>12</td><td>0</td><td> 2</td><td>0</td><td>13</td><td>49</td><td> 90</td><td>1</td><td>1</td><td>76</td><td>0</td><td>0</td><td>3</td><td>3</td><td>3</td><td>3</td><td>3</td><td>3</td><td>3</td><td>3</td><td>3</td><td>3</td><td>3</td><td>3</td><td>0</td><td>0</td><td>0</td><td>0</td><td>0</td><td>0</td><td>0</td><td>0</td><td>0</td><td>0</td><td>⋯</td><td> 0</td><td> 0</td><td> 0</td><td> 0</td><td> 0</td><td>0.000000000</td><td> 0</td><td>1.00000000</td><td>1.00000000</td><td>1</td><td>1.00000000</td><td>1.0000000</td><td>1.0000000</td><td>0.860000000</td><td>0.84375000</td><td>0.77906977</td><td>0.0000000</td><td>0</td><td>0.00</td><td>0.0000000</td><td>0.00</td><td>0.0000000</td><td>0.000000000</td><td>0.00000000</td><td>0.00000000</td><td>       NA</td><td> NA</td><td>       NA</td><td>       NA</td><td>       NA</td><td>  NA</td><td>       NA</td><td>        NA</td><td>        NA</td><td>       NA</td><td> NA</td><td>       NA</td><td>       NA</td><td>       NA</td><td>  NA</td><td>       NA</td><td>       NA</td><td>      NA</td><td>0.00</td><td>0.00000000</td><td>0.0000000</td><td>0.00</td><td>0.0000000</td><td>0.0000000</td><td>0.0000000</td><td>0.0000000</td><td>0.0000000</td><td> 0</td><td>0.00000000</td><td> 0</td><td> 0</td><td>0.0000000</td><td> 0</td><td> 0</td><td>0.0000000</td><td> 0</td><td> 1</td><td>1.00000000</td><td> 1</td><td> 1</td><td>1.00</td><td> 1</td><td>0.86000000</td><td>0.84375</td><td>0.77906977</td><td>2</td><td>VA</td><td>South    </td><td>South Atlantic    </td><td>White</td><td>Male  </td><td>75-84</td><td>TRUE</td><td>NA</td><td>  NA</td><td>NA</td><td>1</td><td>0</td><td>NU00091211</td><td>CENTRA MEDICAL GROUP LLC                 </td><td>NU00293513</td><td>CENTRA HEALTH, INC                    </td><td>BROWN      </td><td>WILLIAM</td><td>NA    </td><td>Cardiology</td><td>06</td><td>2</td><td>M</td><td>NA</td><td>NONE</td><td>1</td><td>NA</td><td>0.1854909</td><td>0.19504778</td><td>0.61946134</td><td>0.0000000000</td><td>0.0000000000</td><td>0</td><td>0</td><td>0</td><td>0</td><td>0</td><td>VA</td><td>0</td><td>1</td><td>31340</td><td>Lynchburg, VA                        </td><td>0</td><td> 2302</td><td> 163198.9</td><td>1109</td><td>111111111111</td><td> 2297</td><td> 163157.3</td><td>1105</td><td>000001000000</td><td>  5</td><td>   41.65</td><td>  5</td><td>1948</td><td>  427</td><td>1426</td><td> TRUE</td><td> 899.06</td><td> 1250.50</td><td>13</td><td>4</td><td> 9</td><td>0</td><td> 106.90</td><td>  71.81</td><td> 0</td><td>  6337.03</td><td>NA</td><td>       NA</td><td> 0</td><td>  372.60</td><td>NA</td><td>      NA</td><td> 899.06</td><td> 106.90</td><td>  7587.53</td><td>  444.41</td><td>2013</td></tr>\n",
       "\t<tr><td>3</td><td>3</td><td>100010653</td><td>2014-02-14</td><td>16861.51</td><td>16</td><td>1376.90</td><td>4</td><td>49</td><td>9</td><td>7</td><td>2</td><td>31</td><td>1</td><td>345.44</td><td>12</td><td>114.88</td><td>0</td><td>0</td><td>0</td><td>0</td><td>0</td><td> 0.00</td><td>2</td><td>133.10</td><td>2</td><td> 991.67</td><td>0</td><td>0</td><td>TRUE</td><td> TRUE</td><td>FALSE</td><td>NA</td><td>FALSE</td><td>FALSE</td><td>FALSE</td><td> TRUE</td><td>FALSE</td><td>FALSE</td><td>FALSE</td><td> TRUE</td><td>FALSE</td><td>2014-02-14</td><td>2014-02-24</td><td>1790758688</td><td>1114990025</td><td>1790758688</td><td>2014</td><td>10</td><td>FALSE</td><td> TRUE</td><td>3309.14</td><td>3</td><td>258.31</td><td>2</td><td>13</td><td>7</td><td>2</td><td>1</td><td>3</td><td>1</td><td>345.44</td><td>5</td><td>36.15</td><td>0</td><td>0</td><td>0</td><td>0</td><td>0</td><td> 0.00</td><td>1</td><td>66.55</td><td>2</td><td> 991.67</td><td>0</td><td>0</td><td>0</td><td>0.00</td><td>  0.00</td><td>0</td><td>0</td><td>0</td><td>0</td><td>   0.00</td><td>0</td><td>0</td><td>0.00</td><td>  0.0</td><td>0</td><td>0</td><td>0</td><td>0</td><td>   0.00</td><td>0</td><td>1376.90</td><td>345.44</td><td>114.88</td><td>0</td><td>0</td><td> 0.00</td><td>133.10</td><td> 991.67</td><td>0</td><td>258.31</td><td>345.44</td><td> 36.15</td><td>0</td><td>0</td><td> 0.00</td><td>66.55</td><td> 991.67</td><td>0</td><td>1510.00</td><td>1337.11</td><td>324.86</td><td>1337.11</td><td>18</td><td>3</td><td> 4</td><td>3</td><td>13</td><td>33</td><td>740</td><td>2</td><td>1</td><td>76</td><td>0</td><td>0</td><td>3</td><td>3</td><td>3</td><td>3</td><td>3</td><td>3</td><td>3</td><td>3</td><td>3</td><td>3</td><td>3</td><td>3</td><td>0</td><td>0</td><td>0</td><td>0</td><td>0</td><td>0</td><td>0</td><td>0</td><td>0</td><td>0</td><td>⋯</td><td> 0</td><td> 0</td><td> 0</td><td> 0</td><td> 0</td><td>0.000000000</td><td> 0</td><td>0.08333333</td><td>0.00000000</td><td>0</td><td>0.08333333</td><td>0.2500000</td><td>0.1666667</td><td>0.080310881</td><td>0.15428571</td><td>0.10191083</td><td>0.1666667</td><td>0</td><td>0.00</td><td>0.1666667</td><td>0.00</td><td>0.0000000</td><td>0.115789474</td><td>0.04214559</td><td>0.04489796</td><td>0.1666667</td><td>0.0</td><td>0.0000000</td><td>0.1666667</td><td>0.0000000</td><td>0.00</td><td>0.1157895</td><td>0.04214559</td><td>0.04489796</td><td>0.0000000</td><td>0.0</td><td>0.0000000</td><td>0.1666667</td><td>0.0000000</td><td>0.00</td><td>0.0776699</td><td>0.1003521</td><td>0.118705</td><td>0.25</td><td>0.45454545</td><td>0.4166667</td><td>0.25</td><td>0.6363636</td><td>0.5833333</td><td>0.3769231</td><td>0.4310345</td><td>0.3521127</td><td> 0</td><td>0.00000000</td><td> 0</td><td> 0</td><td>0.0000000</td><td> 0</td><td> 0</td><td>0.0000000</td><td> 0</td><td>NA</td><td>        NA</td><td>NA</td><td>NA</td><td>  NA</td><td>NA</td><td>        NA</td><td>     NA</td><td>        NA</td><td>3</td><td>NY</td><td>Northeast</td><td>Middle Atlantic   </td><td>White</td><td>Female</td><td>75-84</td><td>TRUE</td><td>M </td><td>1995</td><td>19</td><td>0</td><td>0</td><td>NU00309843</td><td>NUVANCE HEALTH MEDICAL PRACTICE, PC      </td><td>NA        </td><td>NA                                    </td><td>HAMMOUD    </td><td>ALI    </td><td>NA    </td><td>Cardiology</td><td>06</td><td>2</td><td>M</td><td>NA</td><td>NONE</td><td>1</td><td>NA</td><td>0.4856055</td><td>0.32505712</td><td>0.10555979</td><td>0.0837776090</td><td>0.0000000000</td><td>0</td><td>0</td><td>0</td><td>0</td><td>0</td><td>NY</td><td>0</td><td>1</td><td>35620</td><td>New York-Newark-Jersey City, NY-NJ-PA</td><td>0</td><td> 6565</td><td> 428347.0</td><td>2519</td><td>111111111111</td><td> 6565</td><td> 428347.0</td><td>2519</td><td>NA          </td><td> NA</td><td>      NA</td><td> NA</td><td>1969</td><td> 3188</td><td> 693</td><td>FALSE</td><td>2848.26</td><td>14013.25</td><td>12</td><td>3</td><td>37</td><td>6</td><td>1035.17</td><td>2273.97</td><td> 0</td><td>176109.78</td><td> 0</td><td>311264.38</td><td>NA</td><td>      NA</td><td>NA</td><td>      NA</td><td>2848.26</td><td>1035.17</td><td>501387.41</td><td> 2273.97</td><td>2013</td></tr>\n",
       "\t<tr><td>4</td><td>4</td><td>100010781</td><td>2017-10-16</td><td>13178.43</td><td>14</td><td>1191.80</td><td>6</td><td>21</td><td>4</td><td>1</td><td>2</td><td>14</td><td>2</td><td>269.30</td><td> 2</td><td> 27.59</td><td>0</td><td>0</td><td>0</td><td>0</td><td>0</td><td> 0.00</td><td>3</td><td>595.98</td><td>4</td><td>1543.65</td><td>0</td><td>0</td><td>TRUE</td><td>FALSE</td><td>FALSE</td><td>NA</td><td>FALSE</td><td>FALSE</td><td>FALSE</td><td>FALSE</td><td>FALSE</td><td>FALSE</td><td>FALSE</td><td>FALSE</td><td> TRUE</td><td>2017-10-16</td><td>2017-10-16</td><td>1609845817</td><td>1609845817</td><td>1982698973</td><td>2017</td><td> 0</td><td> TRUE</td><td> TRUE</td><td>2704.51</td><td>6</td><td>693.47</td><td>5</td><td> 4</td><td>3</td><td>1</td><td>0</td><td>0</td><td>2</td><td>269.30</td><td>1</td><td>18.54</td><td>0</td><td>0</td><td>0</td><td>0</td><td>0</td><td> 0.00</td><td>1</td><td>68.04</td><td>4</td><td>1543.65</td><td>0</td><td>0</td><td>0</td><td>0.01</td><td>  0.00</td><td>0</td><td>0</td><td>0</td><td>0</td><td>6621.35</td><td>0</td><td>0</td><td>0.01</td><td>  0.0</td><td>0</td><td>0</td><td>0</td><td>0</td><td>6621.35</td><td>0</td><td>1191.80</td><td>269.31</td><td> 27.59</td><td>0</td><td>0</td><td> 0.00</td><td>595.98</td><td>8165.00</td><td>0</td><td>693.47</td><td>269.31</td><td> 18.54</td><td>0</td><td>0</td><td> 0.00</td><td>68.04</td><td>8165.00</td><td>0</td><td>1787.78</td><td>8434.31</td><td>761.51</td><td>8434.31</td><td>17</td><td>6</td><td> 7</td><td>6</td><td>13</td><td>21</td><td> 20</td><td>2</td><td>1</td><td>76</td><td>0</td><td>0</td><td>3</td><td>3</td><td>3</td><td>3</td><td>3</td><td>3</td><td>3</td><td>3</td><td>3</td><td>3</td><td>3</td><td>3</td><td>0</td><td>0</td><td>0</td><td>0</td><td>0</td><td>0</td><td>0</td><td>0</td><td>0</td><td>0</td><td>⋯</td><td> 0</td><td> 0</td><td> 0</td><td> 0</td><td> 0</td><td>0.000000000</td><td> 0</td><td>0.00000000</td><td>0.08333333</td><td>0</td><td>0.00000000</td><td>0.2500000</td><td>0.0000000</td><td>0.027397260</td><td>0.19200000</td><td>0.07482993</td><td>0.1666667</td><td>0</td><td>0.25</td><td>0.5000000</td><td>0.25</td><td>0.5833333</td><td>0.314285714</td><td>0.19745223</td><td>0.31343284</td><td>0.5833333</td><td>0.5</td><td>0.5833333</td><td>0.6666667</td><td>0.6666667</td><td>0.75</td><td>0.4878049</td><td>0.44444444</td><td>0.50000000</td><td>0.5833333</td><td>0.5</td><td>0.5833333</td><td>0.6666667</td><td>0.6666667</td><td>0.75</td><td>0.4878049</td><td>0.4444444</td><td>0.500000</td><td>0.00</td><td>0.00000000</td><td>0.0000000</td><td>0.00</td><td>0.0000000</td><td>0.0000000</td><td>0.0000000</td><td>0.0000000</td><td>0.0000000</td><td> 0</td><td>0.00000000</td><td> 0</td><td> 0</td><td>0.0000000</td><td> 0</td><td> 0</td><td>0.0000000</td><td> 0</td><td> 0</td><td>0.08333333</td><td> 0</td><td> 0</td><td>0.25</td><td> 0</td><td>0.02739726</td><td>0.19200</td><td>0.07482993</td><td>1</td><td>MD</td><td>South    </td><td>South Atlantic    </td><td>White</td><td>Female</td><td>75-84</td><td>TRUE</td><td>M </td><td>1980</td><td>37</td><td>0</td><td>1</td><td>NU00286144</td><td>JOHNS HOPKINS UNIVERSITY                 </td><td>NU00291537</td><td>GREATER BALTIMORE MEDICAL CENTER, INC.</td><td>PORTERFIELD</td><td>JAMES  </td><td>K     </td><td>Cardiology</td><td>06</td><td>2</td><td>M</td><td>NA</td><td>NONE</td><td>1</td><td>NA</td><td>0.7182977</td><td>0.22207820</td><td>0.04385396</td><td>0.0153380860</td><td>0.0004320588</td><td>0</td><td>0</td><td>0</td><td>0</td><td>0</td><td>MD</td><td>0</td><td>1</td><td>12580</td><td>Baltimore-Columbia-Towson, MD        </td><td>0</td><td> 4629</td><td> 418995.5</td><td>2323</td><td>111111111111</td><td> 3860</td><td> 411640.6</td><td>1814</td><td>111111111111</td><td>769</td><td> 7354.90</td><td>674</td><td>1954</td><td> 3325</td><td> 203</td><td> TRUE</td><td>1318.46</td><td>11859.97</td><td> 2</td><td>1</td><td>19</td><td>3</td><td> 367.64</td><td>2336.87</td><td> 0</td><td> 17704.68</td><td> 0</td><td> 13915.48</td><td> 0</td><td>12305.11</td><td> 0</td><td>13915.48</td><td>1318.46</td><td> 367.64</td><td> 43480.13</td><td>28557.46</td><td>2016</td></tr>\n",
       "\t<tr><td>5</td><td>5</td><td>100013703</td><td>2015-05-18</td><td> 6408.96</td><td>11</td><td> 855.53</td><td>0</td><td>15</td><td>0</td><td>1</td><td>1</td><td>13</td><td>0</td><td>  0.00</td><td> 2</td><td> 34.03</td><td>0</td><td>0</td><td>0</td><td>0</td><td>1</td><td>65.83</td><td>0</td><td>  0.00</td><td>0</td><td>   0.00</td><td>0</td><td>0</td><td>TRUE</td><td> TRUE</td><td>FALSE</td><td>NA</td><td>FALSE</td><td>FALSE</td><td> TRUE</td><td>FALSE</td><td>FALSE</td><td>FALSE</td><td>FALSE</td><td>FALSE</td><td>FALSE</td><td>NA</td><td>NA</td><td>        NA</td><td>        NA</td><td>1982617072</td><td>2015</td><td>NA</td><td>FALSE</td><td>FALSE</td><td>1637.42</td><td>9</td><td>711.56</td><td>0</td><td> 3</td><td>0</td><td>1</td><td>0</td><td>2</td><td>0</td><td>  0.00</td><td>2</td><td>34.03</td><td>0</td><td>0</td><td>0</td><td>0</td><td>1</td><td>65.83</td><td>0</td><td> 0.00</td><td>0</td><td>   0.00</td><td>0</td><td>0</td><td>0</td><td>0.00</td><td>  0.00</td><td>0</td><td>0</td><td>0</td><td>0</td><td>   0.00</td><td>0</td><td>0</td><td>0.00</td><td>  0.0</td><td>0</td><td>0</td><td>0</td><td>0</td><td>   0.00</td><td>0</td><td> 855.53</td><td>  0.00</td><td> 34.03</td><td>0</td><td>0</td><td>65.83</td><td>  0.00</td><td>   0.00</td><td>0</td><td>711.56</td><td>  0.00</td><td> 34.03</td><td>0</td><td>0</td><td>65.83</td><td> 0.00</td><td>   0.00</td><td>0</td><td> 921.36</td><td>   0.00</td><td>777.39</td><td>   0.00</td><td>12</td><td>0</td><td>10</td><td>0</td><td>13</td><td>10</td><td> 70</td><td>2</td><td>1</td><td>76</td><td>0</td><td>0</td><td>3</td><td>3</td><td>3</td><td>3</td><td>3</td><td>3</td><td>3</td><td>3</td><td>3</td><td>3</td><td>3</td><td>3</td><td>0</td><td>0</td><td>0</td><td>0</td><td>0</td><td>0</td><td>0</td><td>0</td><td>0</td><td>0</td><td>⋯</td><td> 0</td><td> 0</td><td> 0</td><td> 0</td><td> 0</td><td>0.005988024</td><td> 0</td><td>0.00000000</td><td>0.00000000</td><td>0</td><td>0.00000000</td><td>0.0000000</td><td>0.0000000</td><td>0.006329114</td><td>0.02051282</td><td>0.01492537</td><td>0.0000000</td><td>0</td><td>0.00</td><td>0.0000000</td><td>0.00</td><td>0.0000000</td><td>0.006329114</td><td>0.02051282</td><td>0.01492537</td><td>       NA</td><td> NA</td><td>       NA</td><td>       NA</td><td>       NA</td><td>  NA</td><td>       NA</td><td>        NA</td><td>        NA</td><td>       NA</td><td> NA</td><td>       NA</td><td>       NA</td><td>       NA</td><td>  NA</td><td>       NA</td><td>       NA</td><td>      NA</td><td>0.00</td><td>0.00000000</td><td>0.0000000</td><td>0.00</td><td>0.0000000</td><td>0.0000000</td><td>0.0000000</td><td>0.0000000</td><td>0.0000000</td><td>NA</td><td>        NA</td><td>NA</td><td>NA</td><td>       NA</td><td>NA</td><td>NA</td><td>       NA</td><td>NA</td><td>NA</td><td>        NA</td><td>NA</td><td>NA</td><td>  NA</td><td>NA</td><td>        NA</td><td>     NA</td><td>        NA</td><td>3</td><td>FL</td><td>South    </td><td>South Atlantic    </td><td>White</td><td>Female</td><td>75-84</td><td>TRUE</td><td>M </td><td>1986</td><td>29</td><td>0</td><td>0</td><td>NU00350972</td><td>CHARLOTTE HEART AND VASCULAR INSTITUTE PA</td><td>NU00333835</td><td>SRA VENTURES INC                      </td><td>CONNELLY   </td><td>TERENCE</td><td>P     </td><td>Cardiology</td><td>06</td><td>2</td><td>M</td><td>NA</td><td>NONE</td><td>1</td><td>NA</td><td>0.7951728</td><td>0.16314956</td><td>0.04154577</td><td>0.0001318913</td><td>0.0000000000</td><td>0</td><td>0</td><td>0</td><td>0</td><td>0</td><td>FL</td><td>0</td><td>1</td><td>39460</td><td>Punta Gorda, FL                      </td><td>1</td><td> 7582</td><td>1252974.0</td><td>1892</td><td>111111111111</td><td> 7559</td><td>1247715.9</td><td>1873</td><td>001101010111</td><td> 23</td><td> 5258.12</td><td> 19</td><td>1959</td><td> 6029</td><td> 315</td><td>FALSE</td><td>1268.06</td><td> 5140.90</td><td> 3</td><td>0</td><td>12</td><td>0</td><td>1158.92</td><td> 478.50</td><td> 0</td><td>  1037.85</td><td>NA</td><td>       NA</td><td>NA</td><td>      NA</td><td>NA</td><td>      NA</td><td>1268.06</td><td>1158.92</td><td>  6178.75</td><td>  478.50</td><td>2014</td></tr>\n",
       "\t<tr><td>6</td><td>6</td><td>100013815</td><td>2018-10-22</td><td> 1615.67</td><td>12</td><td>1145.16</td><td>1</td><td> 5</td><td>1</td><td>1</td><td>0</td><td> 3</td><td>0</td><td>  0.00</td><td> 0</td><td>  0.00</td><td>0</td><td>0</td><td>0</td><td>0</td><td>0</td><td> 0.00</td><td>0</td><td>  0.00</td><td>0</td><td>   0.00</td><td>0</td><td>0</td><td>TRUE</td><td>FALSE</td><td>FALSE</td><td>NA</td><td>FALSE</td><td>FALSE</td><td> TRUE</td><td>FALSE</td><td>FALSE</td><td>FALSE</td><td>FALSE</td><td>FALSE</td><td> TRUE</td><td>NA</td><td>NA</td><td>        NA</td><td>        NA</td><td>1235147182</td><td>2018</td><td>NA</td><td>FALSE</td><td>FALSE</td><td> 381.15</td><td>4</td><td>342.90</td><td>0</td><td> 3</td><td>0</td><td>1</td><td>0</td><td>2</td><td>0</td><td>  0.00</td><td>0</td><td> 0.00</td><td>0</td><td>0</td><td>0</td><td>0</td><td>0</td><td> 0.00</td><td>0</td><td> 0.00</td><td>0</td><td>   0.00</td><td>0</td><td>0</td><td>0</td><td>0.00</td><td>  0.00</td><td>0</td><td>0</td><td>0</td><td>0</td><td>   0.00</td><td>0</td><td>0</td><td>0.00</td><td>  0.0</td><td>0</td><td>0</td><td>0</td><td>0</td><td>   0.00</td><td>0</td><td>1145.16</td><td>  0.00</td><td>  0.00</td><td>0</td><td>0</td><td> 0.00</td><td>  0.00</td><td>   0.00</td><td>0</td><td>342.90</td><td>  0.00</td><td>  0.00</td><td>0</td><td>0</td><td> 0.00</td><td> 0.00</td><td>   0.00</td><td>0</td><td>1145.16</td><td>   0.00</td><td>342.90</td><td>   0.00</td><td>12</td><td>0</td><td> 4</td><td>0</td><td>13</td><td>10</td><td>280</td><td>2</td><td>1</td><td>76</td><td>0</td><td>0</td><td>3</td><td>3</td><td>3</td><td>3</td><td>3</td><td>3</td><td>3</td><td>3</td><td>3</td><td>3</td><td>3</td><td>3</td><td>0</td><td>0</td><td>0</td><td>0</td><td>0</td><td>0</td><td>0</td><td>0</td><td>0</td><td>0</td><td>⋯</td><td> 0</td><td> 0</td><td> 0</td><td> 0</td><td> 0</td><td>0.000000000</td><td> 0</td><td>0.00000000</td><td>0.00000000</td><td>0</td><td>0.08333333</td><td>0.1666667</td><td>0.1666667</td><td>0.093220339</td><td>0.15957447</td><td>0.07826087</td><td>0.0000000</td><td>0</td><td>0.00</td><td>0.0000000</td><td>0.00</td><td>0.0000000</td><td>0.000000000</td><td>0.00000000</td><td>0.00000000</td><td>       NA</td><td> NA</td><td>       NA</td><td>       NA</td><td>       NA</td><td>  NA</td><td>       NA</td><td>        NA</td><td>        NA</td><td>       NA</td><td> NA</td><td>       NA</td><td>       NA</td><td>       NA</td><td>  NA</td><td>       NA</td><td>       NA</td><td>      NA</td><td>0.00</td><td>0.00000000</td><td>0.0000000</td><td>0.00</td><td>0.0000000</td><td>0.0000000</td><td>0.0000000</td><td>0.0000000</td><td>0.0000000</td><td> 0</td><td>0.00000000</td><td> 0</td><td> 0</td><td>0.0000000</td><td> 0</td><td> 0</td><td>0.0000000</td><td> 0</td><td>NA</td><td>        NA</td><td>NA</td><td>NA</td><td>  NA</td><td>NA</td><td>        NA</td><td>     NA</td><td>        NA</td><td>1</td><td>FL</td><td>South    </td><td>South Atlantic    </td><td>White</td><td>Female</td><td>75-84</td><td>TRUE</td><td>F </td><td>1990</td><td>28</td><td>0</td><td>0</td><td>NU00331617</td><td>BAY AREA CARDIOLOGY ASSOC. PA            </td><td>NA        </td><td>NA                                    </td><td>KHAN       </td><td>TEHREEN</td><td>NA    </td><td>Cardiology</td><td>06</td><td>2</td><td>F</td><td>NA</td><td>NONE</td><td>1</td><td>NA</td><td>0.6941682</td><td>0.22830018</td><td>0.06735985</td><td>0.0101717900</td><td>0.0000000000</td><td>0</td><td>0</td><td>0</td><td>0</td><td>0</td><td>FL</td><td>0</td><td>1</td><td>45300</td><td>Tampa-St. Petersburg-Clearwater, FL  </td><td>0</td><td> 4424</td><td> 446058.3</td><td>2035</td><td>111111111111</td><td> 4424</td><td> 446058.3</td><td>2035</td><td>NA          </td><td> NA</td><td>      NA</td><td> NA</td><td>1964</td><td> 3071</td><td> 298</td><td>FALSE</td><td> 233.44</td><td> 1382.23</td><td> 2</td><td>1</td><td> 3</td><td>0</td><td> 124.40</td><td> 256.75</td><td>NA</td><td>       NA</td><td>NA</td><td>       NA</td><td>NA</td><td>      NA</td><td>NA</td><td>      NA</td><td> 233.44</td><td> 124.40</td><td>  1382.23</td><td>  256.75</td><td>2017</td></tr>\n",
       "</tbody>\n",
       "</table>\n"
      ],
      "text/latex": [
       "A data.table: 6 × 598\n",
       "\\begin{tabular}{lllllllllllllllllllllllllllllllllllllllllllllllllllllllllllllllllllllllllllllllllllllllllllllllllllllllllllllllllllllllllllllllllllllllllllllllllllllllllllllllllllllllllllllllllllllllllllllllllllllllllllllllllllllllllllllllllllllllllllllllllllllllllllllllllllllllllllllllllllllllllllllllllllllllllllll}\n",
       " ...1 & X & DESY\\_SORT\\_KEY & first\\_diagnosis & tot\\_allowed\\_carrier & office\\_visit\\_count & office\\_visit\\_cost\\_carrier & cardiology\\_visit\\_count & distinct\\_clinicians & distinct\\_cardiologists & distinct\\_primary\\_care\\_physicians & distinct\\_surgeons & distinct\\_other\\_specialties & catheterization\\_count & catheterization\\_cost\\_carrier & ecg\\_count & ecg\\_cost\\_carrier & cardiac\\_ct\\_count & cardiac\\_ct\\_cost\\_carrier & cardiac\\_mri\\_count & cardiac\\_mri\\_cost\\_carrier & stress\\_test\\_count & stress\\_test\\_cost\\_carrier & echocardiography\\_count & echocardiography\\_cost\\_carrier & angioplasty\\_count & angioplasty\\_cost\\_carrier & CABG\\_count & CABG\\_cost\\_carrier & stable\\_angina & unstable\\_angina & MI & MI\\_date & cardiac\\_arrest & stroke & hypertension & copd & obesity & depression & diabetes & icd\\_9\\_pure & icd\\_10\\_pure & catheterization\\_date & angioplasty\\_date & catheterization\\_doc\\_NPI & angioplasty\\_doc\\_NPI & diagnosing\\_doc\\_NPI & year\\_first\\_diagnosed & time\\_difference\\_angio\\_cath & angioplasty\\_with\\_cath & angioplasty\\_during\\_year\\_after\\_cath & tot\\_allowed\\_carrier\\_cardiology\\_related & office\\_visit\\_count\\_cardiology\\_related & office\\_visit\\_cost\\_carrier\\_cardiology\\_related & cardiology\\_visit\\_count\\_cardiology\\_related & distinct\\_clinicians\\_cardiology\\_related & distinct\\_cardiologists\\_cardiology\\_related & distinct\\_primary\\_care\\_physicians\\_cardiology\\_related & distinct\\_surgeons\\_cardiology\\_related & distinct\\_other\\_specialties\\_cardiology\\_related & catheterization\\_count\\_cardiology\\_related & catheterization\\_cost\\_carrier\\_cardiology\\_related & ecg\\_count\\_cardiology\\_related & ecg\\_cost\\_carrier\\_cardiology\\_related & cardiac\\_ct\\_count\\_cardiology\\_related & cardiac\\_ct\\_cost\\_carrier\\_cardiology\\_related & cardiac\\_mri\\_count\\_cardiology\\_related & cardiac\\_mri\\_cost\\_carrier\\_cardiology\\_related & stress\\_test\\_count\\_cardiology\\_related & stress\\_test\\_cost\\_carrier\\_cardiology\\_related & echocardiography\\_count\\_cardiology\\_related & echocardiography\\_cost\\_carrier\\_cardiology\\_related & angioplasty\\_count\\_cardiology\\_related & angioplasty\\_cost\\_carrier\\_cardiology\\_related & CABG\\_count\\_cardiology\\_related & CABG\\_cost\\_carrier\\_cardiology\\_related & office\\_visit\\_cost\\_outpatient & catheterization\\_cost\\_outpatient & ecg\\_cost\\_outpatient & cardiac\\_ct\\_cost\\_outpatient & cardiac\\_mri\\_cost\\_outpatient & stress\\_test\\_cost\\_outpatient & echocardiography\\_cost\\_outpatient & angioplasty\\_cost\\_outpatient & CABG\\_cost\\_outpatient & office\\_visit\\_cost\\_outpatient\\_cardiology\\_related & catheterization\\_cost\\_outpatient\\_cardiology\\_related & ecg\\_cost\\_outpatient\\_cardiology\\_related & cardiac\\_ct\\_cost\\_outpatient\\_cardiology\\_related & cardiac\\_mri\\_cost\\_outpatient\\_cardiology\\_related & stress\\_test\\_cost\\_outpatient\\_cardiology\\_related & echocardiography\\_cost\\_outpatient\\_cardiology\\_related & angioplasty\\_cost\\_outpatient\\_cardiology\\_related & CABG\\_cost\\_outpatient\\_cardiology\\_related & office\\_visit\\_cost & catheterization\\_cost & ecg\\_cost & cardiac\\_ct\\_cost & cardiac\\_mri\\_cost & stress\\_test\\_cost & echocardiography\\_cost & angioplasty\\_cost & CABG\\_cost & office\\_visit\\_cost\\_cardiology\\_related & catheterization\\_cost\\_cardiology\\_related & ecg\\_cost\\_cardiology\\_related & cardiac\\_ct\\_cost\\_cardiology\\_related & cardiac\\_mri\\_cost\\_cardiology\\_related & stress\\_test\\_cost\\_cardiology\\_related & echocardiography\\_cost\\_cardiology\\_related & angioplasty\\_cost\\_cardiology\\_related & CABG\\_cost\\_cardiology\\_related & tot\\_cheap\\_prcdr\\_cost & tot\\_expensive\\_prcdr\\_cost & tot\\_cheap\\_prcdr\\_cost\\_cardiology\\_related & tot\\_expensive\\_prcdr\\_cost\\_cardiology\\_related & tot\\_cheap\\_prcdr\\_count & tot\\_expensive\\_prcdr\\_count & tot\\_cheap\\_prcdr\\_count\\_cardiology\\_related & tot\\_expensive\\_prcdr\\_count\\_cardiology\\_related & REFERENCE\\_YEAR\\_2013 & STATE\\_CODE\\_2013 & COUNTY\\_CODE\\_2013 & SEX\\_CODE\\_2013 & RACE\\_CODE\\_2013 & AGE\\_2013 & ORIG\\_REASON\\_FOR\\_ENTITLEMENT\\_2013 & CURR\\_REASON\\_FOR\\_ENTITLEMENT\\_2013 & ENTITLEMENT\\_BUY\\_IN\\_IND01\\_2013 & ENTITLEMENT\\_BUY\\_IN\\_IND02\\_2013 & ENTITLEMENT\\_BUY\\_IN\\_IND03\\_2013 & ENTITLEMENT\\_BUY\\_IN\\_IND04\\_2013 & ENTITLEMENT\\_BUY\\_IN\\_IND05\\_2013 & ENTITLEMENT\\_BUY\\_IN\\_IND06\\_2013 & ENTITLEMENT\\_BUY\\_IN\\_IND07\\_2013 & ENTITLEMENT\\_BUY\\_IN\\_IND08\\_2013 & ENTITLEMENT\\_BUY\\_IN\\_IND09\\_2013 & ENTITLEMENT\\_BUY\\_IN\\_IND10\\_2013 & ENTITLEMENT\\_BUY\\_IN\\_IND11\\_2013 & ENTITLEMENT\\_BUY\\_IN\\_IND12\\_2013 & HMO\\_INDICATOR01\\_2013 & HMO\\_INDICATOR02\\_2013 & HMO\\_INDICATOR03\\_2013 & HMO\\_INDICATOR04\\_2013 & HMO\\_INDICATOR05\\_2013 & HMO\\_INDICATOR06\\_2013 & HMO\\_INDICATOR07\\_2013 & HMO\\_INDICATOR08\\_2013 & HMO\\_INDICATOR09\\_2013 & HMO\\_INDICATOR10\\_2013 & ⋯ & most\\_common\\_primary\\_care\\_physician\\_prp\\_in\\_year\\_before\\_diagnosis\\_05\\_non\\_exclusive\\_HCPCS & most\\_common\\_primary\\_care\\_physician\\_prp\\_in\\_year\\_of\\_diagnosis\\_03\\_non\\_exclusive\\_HCPCS & most\\_common\\_primary\\_care\\_physician\\_prp\\_in\\_2013\\_03\\_non\\_exclusive\\_HCPCS & most\\_common\\_primary\\_care\\_physician\\_prp\\_in\\_year\\_before\\_diagnosis\\_03\\_non\\_exclusive\\_HCPCS & most\\_common\\_primary\\_care\\_physician\\_avg\\_in\\_year\\_of\\_diagnosis\\_non\\_exclusive\\_HCPCS & most\\_common\\_primary\\_care\\_physician\\_avg\\_in\\_2013\\_non\\_exclusive\\_HCPCS & most\\_common\\_primary\\_care\\_physician\\_avg\\_in\\_year\\_before\\_diagnosis\\_non\\_exclusive\\_HCPCS & most\\_common\\_cardiologist\\_prp\\_in\\_year\\_of\\_diagnosis\\_05\\_non\\_exclusive\\_HCPCS & most\\_common\\_cardiologist\\_prp\\_in\\_2013\\_05\\_non\\_exclusive\\_HCPCS & most\\_common\\_cardiologist\\_prp\\_in\\_year\\_before\\_diagnosis\\_05\\_non\\_exclusive\\_HCPCS & most\\_common\\_cardiologist\\_prp\\_in\\_year\\_of\\_diagnosis\\_03\\_non\\_exclusive\\_HCPCS & most\\_common\\_cardiologist\\_prp\\_in\\_2013\\_03\\_non\\_exclusive\\_HCPCS & most\\_common\\_cardiologist\\_prp\\_in\\_year\\_before\\_diagnosis\\_03\\_non\\_exclusive\\_HCPCS & most\\_common\\_cardiologist\\_avg\\_in\\_year\\_of\\_diagnosis\\_non\\_exclusive\\_HCPCS & most\\_common\\_cardiologist\\_avg\\_in\\_2013\\_non\\_exclusive\\_HCPCS & most\\_common\\_cardiologist\\_avg\\_in\\_year\\_before\\_diagnosis\\_non\\_exclusive\\_HCPCS & diagnosing\\_doc\\_prp\\_in\\_year\\_of\\_diagnosis\\_05\\_non\\_exclusive\\_HCPCS & diagnosing\\_doc\\_prp\\_in\\_2013\\_05\\_non\\_exclusive\\_HCPCS & diagnosing\\_doc\\_prp\\_in\\_year\\_before\\_diagnosis\\_05\\_non\\_exclusive\\_HCPCS & diagnosing\\_doc\\_prp\\_in\\_year\\_of\\_diagnosis\\_03\\_non\\_exclusive\\_HCPCS & diagnosing\\_doc\\_prp\\_in\\_2013\\_03\\_non\\_exclusive\\_HCPCS & diagnosing\\_doc\\_prp\\_in\\_year\\_before\\_diagnosis\\_03\\_non\\_exclusive\\_HCPCS & diagnosing\\_doc\\_avg\\_in\\_year\\_of\\_diagnosis\\_non\\_exclusive\\_HCPCS & diagnosing\\_doc\\_avg\\_in\\_2013\\_non\\_exclusive\\_HCPCS & diagnosing\\_doc\\_avg\\_in\\_year\\_before\\_diagnosis\\_non\\_exclusive\\_HCPCS & catheterization\\_doc\\_prp\\_in\\_year\\_of\\_diagnosis\\_05\\_non\\_exclusive\\_HCPCS & catheterization\\_doc\\_prp\\_in\\_2013\\_05\\_non\\_exclusive\\_HCPCS & catheterization\\_doc\\_prp\\_in\\_year\\_before\\_diagnosis\\_05\\_non\\_exclusive\\_HCPCS & catheterization\\_doc\\_prp\\_in\\_year\\_of\\_diagnosis\\_03\\_non\\_exclusive\\_HCPCS & catheterization\\_doc\\_prp\\_in\\_2013\\_03\\_non\\_exclusive\\_HCPCS & catheterization\\_doc\\_prp\\_in\\_year\\_before\\_diagnosis\\_03\\_non\\_exclusive\\_HCPCS & catheterization\\_doc\\_avg\\_in\\_year\\_of\\_diagnosis\\_non\\_exclusive\\_HCPCS & catheterization\\_doc\\_avg\\_in\\_2013\\_non\\_exclusive\\_HCPCS & catheterization\\_doc\\_avg\\_in\\_year\\_before\\_diagnosis\\_non\\_exclusive\\_HCPCS & angioplasty\\_doc\\_prp\\_in\\_year\\_of\\_diagnosis\\_05\\_non\\_exclusive\\_HCPCS & angioplasty\\_doc\\_prp\\_in\\_2013\\_05\\_non\\_exclusive\\_HCPCS & angioplasty\\_doc\\_prp\\_in\\_year\\_before\\_diagnosis\\_05\\_non\\_exclusive\\_HCPCS & angioplasty\\_doc\\_prp\\_in\\_year\\_of\\_diagnosis\\_03\\_non\\_exclusive\\_HCPCS & angioplasty\\_doc\\_prp\\_in\\_2013\\_03\\_non\\_exclusive\\_HCPCS & angioplasty\\_doc\\_prp\\_in\\_year\\_before\\_diagnosis\\_03\\_non\\_exclusive\\_HCPCS & angioplasty\\_doc\\_avg\\_in\\_year\\_of\\_diagnosis\\_non\\_exclusive\\_HCPCS & angioplasty\\_doc\\_avg\\_in\\_2013\\_non\\_exclusive\\_HCPCS & angioplasty\\_doc\\_avg\\_in\\_year\\_before\\_diagnosis\\_non\\_exclusive\\_HCPCS & most\\_common\\_physician\\_2013\\_prp\\_in\\_year\\_of\\_diagnosis\\_05\\_non\\_exclusive\\_HCPCS & most\\_common\\_physician\\_2013\\_prp\\_in\\_2013\\_05\\_non\\_exclusive\\_HCPCS & most\\_common\\_physician\\_2013\\_prp\\_in\\_year\\_before\\_diagnosis\\_05\\_non\\_exclusive\\_HCPCS & most\\_common\\_physician\\_2013\\_prp\\_in\\_year\\_of\\_diagnosis\\_03\\_non\\_exclusive\\_HCPCS & most\\_common\\_physician\\_2013\\_prp\\_in\\_2013\\_03\\_non\\_exclusive\\_HCPCS & most\\_common\\_physician\\_2013\\_prp\\_in\\_year\\_before\\_diagnosis\\_03\\_non\\_exclusive\\_HCPCS & most\\_common\\_physician\\_2013\\_avg\\_in\\_year\\_of\\_diagnosis\\_non\\_exclusive\\_HCPCS & most\\_common\\_physician\\_2013\\_avg\\_in\\_2013\\_non\\_exclusive\\_HCPCS & most\\_common\\_physician\\_2013\\_avg\\_in\\_year\\_before\\_diagnosis\\_non\\_exclusive\\_HCPCS & most\\_common\\_primary\\_care\\_physician\\_2013\\_prp\\_in\\_year\\_of\\_diagnosis\\_05\\_non\\_exclusive\\_HCPCS & most\\_common\\_primary\\_care\\_physician\\_2013\\_prp\\_in\\_2013\\_05\\_non\\_exclusive\\_HCPCS & most\\_common\\_primary\\_care\\_physician\\_2013\\_prp\\_in\\_year\\_before\\_diagnosis\\_05\\_non\\_exclusive\\_HCPCS & most\\_common\\_primary\\_care\\_physician\\_2013\\_prp\\_in\\_year\\_of\\_diagnosis\\_03\\_non\\_exclusive\\_HCPCS & most\\_common\\_primary\\_care\\_physician\\_2013\\_prp\\_in\\_2013\\_03\\_non\\_exclusive\\_HCPCS & most\\_common\\_primary\\_care\\_physician\\_2013\\_prp\\_in\\_year\\_before\\_diagnosis\\_03\\_non\\_exclusive\\_HCPCS & most\\_common\\_primary\\_care\\_physician\\_2013\\_avg\\_in\\_year\\_of\\_diagnosis\\_non\\_exclusive\\_HCPCS & most\\_common\\_primary\\_care\\_physician\\_2013\\_avg\\_in\\_2013\\_non\\_exclusive\\_HCPCS & most\\_common\\_primary\\_care\\_physician\\_2013\\_avg\\_in\\_year\\_before\\_diagnosis\\_non\\_exclusive\\_HCPCS & most\\_common\\_cardiologist\\_2013\\_prp\\_in\\_year\\_of\\_diagnosis\\_05\\_non\\_exclusive\\_HCPCS & most\\_common\\_cardiologist\\_2013\\_prp\\_in\\_2013\\_05\\_non\\_exclusive\\_HCPCS & most\\_common\\_cardiologist\\_2013\\_prp\\_in\\_year\\_before\\_diagnosis\\_05\\_non\\_exclusive\\_HCPCS & most\\_common\\_cardiologist\\_2013\\_prp\\_in\\_year\\_of\\_diagnosis\\_03\\_non\\_exclusive\\_HCPCS & most\\_common\\_cardiologist\\_2013\\_prp\\_in\\_2013\\_03\\_non\\_exclusive\\_HCPCS & most\\_common\\_cardiologist\\_2013\\_prp\\_in\\_year\\_before\\_diagnosis\\_03\\_non\\_exclusive\\_HCPCS & most\\_common\\_cardiologist\\_2013\\_avg\\_in\\_year\\_of\\_diagnosis\\_non\\_exclusive\\_HCPCS & most\\_common\\_cardiologist\\_2013\\_avg\\_in\\_2013\\_non\\_exclusive\\_HCPCS & most\\_common\\_cardiologist\\_2013\\_avg\\_in\\_year\\_before\\_diagnosis\\_non\\_exclusive\\_HCPCS & RUCC\\_2013 & State.Code & census\\_region & Division & race & sex & age\\_group & urban & cardiologist\\_gndr & cardiologist\\_grd\\_yr & cardiologist\\_experience\\_at\\_diagnosis & viclaims & vikeyword & tin1\\_nu & tin1\\_legal\\_name & tin2\\_nu & tin2\\_legal\\_name & name\\_last & name\\_first & name\\_middle & SPEC\\_PRIM\\_1\\_NAME & SPEC\\_PRIM\\_1 & SPEC\\_BROAD & SEX & SPEC\\_PRIM\\_2 & SPEC\\_PRIM\\_2\\_NAME & SPEC\\_SOURCE & SPEC\\_SOURCE\\_HOSP & POS\\_OFFICE & POS\\_INPAT & POS\\_OPD & POS\\_ER & POS\\_NURSING & POS\\_ASC & POS\\_RESID & POS\\_RETAIL & POS\\_URGENT & POS\\_OTHER & STATE & STATE\\_MULTI & CBSA\\_TYPE & CBSA\\_CD & CBSA\\_NAME & CBSA\\_MULTI & NPI\\_SRVC\\_LINES & NPI\\_ALLOWED\\_AMT & NPI\\_UNQ\\_BENES & TIN1\\_SRVC\\_MONTH & TIN1\\_SRVC\\_LINES & TIN1\\_ALLOWED\\_AMT & TIN1\\_UNQ\\_BENES & TIN2\\_SRVC\\_MONTH & TIN2\\_SRVC\\_LINES & TIN2\\_ALLOWED\\_AMT & TIN2\\_UNQ\\_BENES & BIRTH\\_YR & lns\\_office & lns\\_opd & most\\_common\\_cardiologist\\_integrated\\_in\\_year\\_of\\_diagnosis & tot\\_allowed\\_carrier\\_same\\_tin & tot\\_allowed\\_carrier\\_not\\_same\\_tin & distinct\\_clinicians\\_same\\_tin & distinct\\_cardiologists\\_same\\_tin & distinct\\_clinicians\\_not\\_same\\_tin & distinct\\_cardiologists\\_not\\_same\\_tin & tot\\_allowed\\_carrier\\_same\\_tin\\_cardiology\\_related & tot\\_allowed\\_carrier\\_not\\_same\\_tin\\_cardiology\\_related & tot\\_allowed\\_outpatient\\_same\\_tin & tot\\_allowed\\_outpatient\\_not\\_same\\_tin & tot\\_allowed\\_inpatient\\_same\\_tin & tot\\_allowed\\_inpatient\\_not\\_same\\_tin & tot\\_allowed\\_outpatient\\_same\\_tin\\_cardiology\\_related & tot\\_allowed\\_outpatient\\_not\\_same\\_tin\\_cardiology\\_related & tot\\_allowed\\_inpatient\\_same\\_tin\\_cardiology\\_related & tot\\_allowed\\_inpatient\\_not\\_same\\_tin\\_cardiology\\_related & total\\_exp\\_same\\_tin & total\\_exp\\_same\\_tin\\_cardiology\\_related & total\\_exp\\_not\\_same\\_tin & total\\_exp\\_not\\_same\\_tin\\_cardiology\\_related & year\\_before\\_diagnosis\\\\\n",
       " <dbl> & <dbl> & <dbl> & <date> & <dbl> & <dbl> & <dbl> & <dbl> & <dbl> & <dbl> & <dbl> & <dbl> & <dbl> & <dbl> & <dbl> & <dbl> & <dbl> & <dbl> & <dbl> & <dbl> & <dbl> & <dbl> & <dbl> & <dbl> & <dbl> & <dbl> & <dbl> & <dbl> & <dbl> & <lgl> & <lgl> & <lgl> & <date> & <lgl> & <lgl> & <lgl> & <lgl> & <lgl> & <lgl> & <lgl> & <lgl> & <lgl> & <date> & <date> & <dbl> & <dbl> & <dbl> & <dbl> & <dbl> & <lgl> & <lgl> & <dbl> & <dbl> & <dbl> & <dbl> & <dbl> & <dbl> & <dbl> & <dbl> & <dbl> & <dbl> & <dbl> & <dbl> & <dbl> & <dbl> & <dbl> & <dbl> & <dbl> & <dbl> & <dbl> & <dbl> & <dbl> & <dbl> & <dbl> & <dbl> & <dbl> & <dbl> & <dbl> & <dbl> & <dbl> & <dbl> & <dbl> & <dbl> & <dbl> & <dbl> & <dbl> & <dbl> & <dbl> & <dbl> & <dbl> & <dbl> & <dbl> & <dbl> & <dbl> & <dbl> & <dbl> & <dbl> & <dbl> & <dbl> & <dbl> & <dbl> & <dbl> & <dbl> & <dbl> & <dbl> & <dbl> & <dbl> & <dbl> & <dbl> & <dbl> & <dbl> & <dbl> & <dbl> & <dbl> & <dbl> & <dbl> & <dbl> & <dbl> & <dbl> & <dbl> & <dbl> & <dbl> & <dbl> & <dbl> & <dbl> & <dbl> & <dbl> & <dbl> & <chr> & <chr> & <chr> & <chr> & <chr> & <chr> & <chr> & <chr> & <chr> & <chr> & <chr> & <chr> & <chr> & <chr> & <chr> & <chr> & <chr> & <chr> & <chr> & <chr> & <chr> & <chr> & ⋯ & <dbl> & <dbl> & <dbl> & <dbl> & <dbl> & <dbl> & <dbl> & <dbl> & <dbl> & <dbl> & <dbl> & <dbl> & <dbl> & <dbl> & <dbl> & <dbl> & <dbl> & <dbl> & <dbl> & <dbl> & <dbl> & <dbl> & <dbl> & <dbl> & <dbl> & <dbl> & <dbl> & <dbl> & <dbl> & <dbl> & <dbl> & <dbl> & <dbl> & <dbl> & <dbl> & <dbl> & <dbl> & <dbl> & <dbl> & <dbl> & <dbl> & <dbl> & <dbl> & <dbl> & <dbl> & <dbl> & <dbl> & <dbl> & <dbl> & <dbl> & <dbl> & <dbl> & <dbl> & <dbl> & <dbl> & <dbl> & <dbl> & <dbl> & <dbl> & <dbl> & <dbl> & <dbl> & <dbl> & <dbl> & <dbl> & <dbl> & <dbl> & <dbl> & <dbl> & <dbl> & <dbl> & <chr> & <chr> & <chr> & <chr> & <chr> & <chr> & <lgl> & <chr> & <dbl> & <dbl> & <dbl> & <dbl> & <chr> & <chr> & <chr> & <chr> & <chr> & <chr> & <chr> & <chr> & <chr> & <dbl> & <chr> & <lgl> & <chr> & <dbl> & <lgl> & <dbl> & <dbl> & <dbl> & <dbl> & <dbl> & <dbl> & <dbl> & <dbl> & <dbl> & <dbl> & <chr> & <dbl> & <dbl> & <dbl> & <chr> & <dbl> & <dbl> & <dbl> & <dbl> & <chr> & <dbl> & <dbl> & <dbl> & <chr> & <dbl> & <dbl> & <dbl> & <dbl> & <dbl> & <dbl> & <lgl> & <dbl> & <dbl> & <dbl> & <dbl> & <dbl> & <dbl> & <dbl> & <dbl> & <dbl> & <dbl> & <dbl> & <dbl> & <dbl> & <dbl> & <dbl> & <dbl> & <dbl> & <dbl> & <dbl> & <dbl> & <dbl>\\\\\n",
       "\\hline\n",
       "\t 1 & 1 & 100004643 & 2018-07-24 &  2164.96 &  2 &  209.35 & 2 &  5 & 1 & 0 & 0 &  4 & 0 &   0.00 &  1 &  16.26 & 0 & 0 & 0 & 0 & 1 & 60.06 & 0 &   0.00 & 0 &    0.00 & 0 & 0 & TRUE & FALSE & FALSE & NA & FALSE & FALSE &  TRUE & FALSE & FALSE & FALSE & FALSE & FALSE &  TRUE & NA & NA &         NA &         NA & 1922000801 & 2018 & NA & FALSE & FALSE & 1098.55 & 1 & 104.30 & 1 &  5 & 1 & 0 & 0 & 4 & 0 &   0.00 & 1 & 16.26 & 0 & 0 & 0 & 0 & 0 &  0.00 & 0 &  0.00 & 0 &    0.00 & 0 & 0 & 0 & 0.00 &   0.00 & 0 & 0 & 0 & 0 &    0.00 & 0 & 0 & 0.00 &   0.0 & 0 & 0 & 0 & 0 &    0.00 & 0 &  209.35 &   0.00 &  16.26 & 0 & 0 & 60.06 &   0.00 &    0.00 & 0 & 104.30 &   0.00 &  16.26 & 0 & 0 &  0.00 &  0.00 &    0.00 & 0 &  269.41 &    0.00 & 104.30 &    0.00 &  3 & 0 &  1 & 0 & 13 & 34 & 240 & 2 & 1 & 77 & 0 & 0 & 3 & 3 & 3 & 3 & 3 & 3 & 3 & 3 & 3 & 3 & 3 & 3 & 0 & 0 & 0 & 0 & 0 & 0 & 0 & 0 & 0 & 0 & ⋯ & NA & NA & NA & NA & NA &          NA & NA & 0.00000000 & 0.00000000 & 0 & 0.00000000 & 0.0000000 & 0.0000000 & 0.049250535 & 0.06811989 & 0.07415254 & 0.0000000 & 0 & 0.00 & 0.0000000 & 0.00 & 0.0000000 & 0.049250535 & 0.06811989 & 0.07415254 &        NA &  NA &        NA &        NA &        NA &   NA &        NA &         NA &         NA &        NA &  NA &        NA &        NA &        NA &   NA &        NA &        NA &       NA & 0.00 & 0.08333333 & 0.0000000 & 0.00 & 0.1666667 & 0.0000000 & 0.0000000 & 0.1264368 & 0.0000000 &  0 & 0.08333333 &  0 &  0 & 0.1666667 &  0 &  0 & 0.1264368 &  0 & NA &         NA & NA & NA &   NA & NA &         NA &      NA &         NA & 2 & LA & South     & West South Central & White & Female & 75-84 & TRUE & M  & 1991 & 27 & 0 & 0 & NU00134539 & CARDIOLOGY SPECIALISTS OF ACADIANA, LLC   & NU00359047 & ABBEVILLE GENERAL HOSPITAL             & LELEUX      & JON     & DAMIAN & Cardiology & 06 & 2 & M & NA & NONE & 1 & NA & 0.8810704 & 0.05155199 & 0.06513618 & 0.0022413910 & 0.0000000000 & 0 & 0 & 0 & 0 & 0 & LA & 0 & 1 & 29180 & Lafayette, LA                         & 0 & 14723 & 1811872.4 & 2866 & 111111111111 & 14396 & 1788733.8 & 2754 & 111111111111 & 327 & 23138.52 & 307 & 1967 & 12972 &  959 & FALSE & 1345.60 &   819.36 &  1 & 1 &  4 & 0 &  310.35 &  788.20 & NA &        NA & NA &        NA & NA &       NA & NA &       NA & 1345.60 &  310.35 &    819.36 &   788.20 & 2017\\\\\n",
       "\t 2 & 2 & 100008543 & 2014-04-16 &  2149.56 & 12 &  869.89 & 2 & 22 & 4 & 5 & 1 & 12 & 0 &   0.00 &  3 &  25.29 & 0 & 0 & 0 & 0 & 0 &  0.00 & 0 &   0.00 & 0 &    0.00 & 0 & 0 & TRUE & FALSE & FALSE & NA & FALSE & FALSE & FALSE & FALSE & FALSE & FALSE & FALSE &  TRUE & FALSE & NA & NA &         NA &         NA & 1033107701 & 2014 & NA & FALSE & FALSE &  178.71 & 2 & 146.81 & 1 &  4 & 3 & 1 & 0 & 0 & 0 &   0.00 & 0 &  0.00 & 0 & 0 & 0 & 0 & 0 &  0.00 & 0 &  0.00 & 0 &    0.00 & 0 & 0 & 0 & 0.00 & 490.65 & 0 & 0 & 0 & 0 &    0.00 & 0 & 0 & 0.00 & 126.3 & 0 & 0 & 0 & 0 &    0.00 & 0 &  869.89 &   0.00 & 515.94 & 0 & 0 &  0.00 &   0.00 &    0.00 & 0 & 146.81 &   0.00 & 126.30 & 0 & 0 &  0.00 &  0.00 &    0.00 & 0 &  869.89 &    0.00 & 146.81 &    0.00 & 12 & 0 &  2 & 0 & 13 & 49 &  90 & 1 & 1 & 76 & 0 & 0 & 3 & 3 & 3 & 3 & 3 & 3 & 3 & 3 & 3 & 3 & 3 & 3 & 0 & 0 & 0 & 0 & 0 & 0 & 0 & 0 & 0 & 0 & ⋯ &  0 &  0 &  0 &  0 &  0 & 0.000000000 &  0 & 1.00000000 & 1.00000000 & 1 & 1.00000000 & 1.0000000 & 1.0000000 & 0.860000000 & 0.84375000 & 0.77906977 & 0.0000000 & 0 & 0.00 & 0.0000000 & 0.00 & 0.0000000 & 0.000000000 & 0.00000000 & 0.00000000 &        NA &  NA &        NA &        NA &        NA &   NA &        NA &         NA &         NA &        NA &  NA &        NA &        NA &        NA &   NA &        NA &        NA &       NA & 0.00 & 0.00000000 & 0.0000000 & 0.00 & 0.0000000 & 0.0000000 & 0.0000000 & 0.0000000 & 0.0000000 &  0 & 0.00000000 &  0 &  0 & 0.0000000 &  0 &  0 & 0.0000000 &  0 &  1 & 1.00000000 &  1 &  1 & 1.00 &  1 & 0.86000000 & 0.84375 & 0.77906977 & 2 & VA & South     & South Atlantic     & White & Male   & 75-84 & TRUE & NA &   NA & NA & 1 & 0 & NU00091211 & CENTRA MEDICAL GROUP LLC                  & NU00293513 & CENTRA HEALTH, INC                     & BROWN       & WILLIAM & NA     & Cardiology & 06 & 2 & M & NA & NONE & 1 & NA & 0.1854909 & 0.19504778 & 0.61946134 & 0.0000000000 & 0.0000000000 & 0 & 0 & 0 & 0 & 0 & VA & 0 & 1 & 31340 & Lynchburg, VA                         & 0 &  2302 &  163198.9 & 1109 & 111111111111 &  2297 &  163157.3 & 1105 & 000001000000 &   5 &    41.65 &   5 & 1948 &   427 & 1426 &  TRUE &  899.06 &  1250.50 & 13 & 4 &  9 & 0 &  106.90 &   71.81 &  0 &   6337.03 & NA &        NA &  0 &   372.60 & NA &       NA &  899.06 &  106.90 &   7587.53 &   444.41 & 2013\\\\\n",
       "\t 3 & 3 & 100010653 & 2014-02-14 & 16861.51 & 16 & 1376.90 & 4 & 49 & 9 & 7 & 2 & 31 & 1 & 345.44 & 12 & 114.88 & 0 & 0 & 0 & 0 & 0 &  0.00 & 2 & 133.10 & 2 &  991.67 & 0 & 0 & TRUE &  TRUE & FALSE & NA & FALSE & FALSE & FALSE &  TRUE & FALSE & FALSE & FALSE &  TRUE & FALSE & 2014-02-14 & 2014-02-24 & 1790758688 & 1114990025 & 1790758688 & 2014 & 10 & FALSE &  TRUE & 3309.14 & 3 & 258.31 & 2 & 13 & 7 & 2 & 1 & 3 & 1 & 345.44 & 5 & 36.15 & 0 & 0 & 0 & 0 & 0 &  0.00 & 1 & 66.55 & 2 &  991.67 & 0 & 0 & 0 & 0.00 &   0.00 & 0 & 0 & 0 & 0 &    0.00 & 0 & 0 & 0.00 &   0.0 & 0 & 0 & 0 & 0 &    0.00 & 0 & 1376.90 & 345.44 & 114.88 & 0 & 0 &  0.00 & 133.10 &  991.67 & 0 & 258.31 & 345.44 &  36.15 & 0 & 0 &  0.00 & 66.55 &  991.67 & 0 & 1510.00 & 1337.11 & 324.86 & 1337.11 & 18 & 3 &  4 & 3 & 13 & 33 & 740 & 2 & 1 & 76 & 0 & 0 & 3 & 3 & 3 & 3 & 3 & 3 & 3 & 3 & 3 & 3 & 3 & 3 & 0 & 0 & 0 & 0 & 0 & 0 & 0 & 0 & 0 & 0 & ⋯ &  0 &  0 &  0 &  0 &  0 & 0.000000000 &  0 & 0.08333333 & 0.00000000 & 0 & 0.08333333 & 0.2500000 & 0.1666667 & 0.080310881 & 0.15428571 & 0.10191083 & 0.1666667 & 0 & 0.00 & 0.1666667 & 0.00 & 0.0000000 & 0.115789474 & 0.04214559 & 0.04489796 & 0.1666667 & 0.0 & 0.0000000 & 0.1666667 & 0.0000000 & 0.00 & 0.1157895 & 0.04214559 & 0.04489796 & 0.0000000 & 0.0 & 0.0000000 & 0.1666667 & 0.0000000 & 0.00 & 0.0776699 & 0.1003521 & 0.118705 & 0.25 & 0.45454545 & 0.4166667 & 0.25 & 0.6363636 & 0.5833333 & 0.3769231 & 0.4310345 & 0.3521127 &  0 & 0.00000000 &  0 &  0 & 0.0000000 &  0 &  0 & 0.0000000 &  0 & NA &         NA & NA & NA &   NA & NA &         NA &      NA &         NA & 3 & NY & Northeast & Middle Atlantic    & White & Female & 75-84 & TRUE & M  & 1995 & 19 & 0 & 0 & NU00309843 & NUVANCE HEALTH MEDICAL PRACTICE, PC       & NA         & NA                                     & HAMMOUD     & ALI     & NA     & Cardiology & 06 & 2 & M & NA & NONE & 1 & NA & 0.4856055 & 0.32505712 & 0.10555979 & 0.0837776090 & 0.0000000000 & 0 & 0 & 0 & 0 & 0 & NY & 0 & 1 & 35620 & New York-Newark-Jersey City, NY-NJ-PA & 0 &  6565 &  428347.0 & 2519 & 111111111111 &  6565 &  428347.0 & 2519 & NA           &  NA &       NA &  NA & 1969 &  3188 &  693 & FALSE & 2848.26 & 14013.25 & 12 & 3 & 37 & 6 & 1035.17 & 2273.97 &  0 & 176109.78 &  0 & 311264.38 & NA &       NA & NA &       NA & 2848.26 & 1035.17 & 501387.41 &  2273.97 & 2013\\\\\n",
       "\t 4 & 4 & 100010781 & 2017-10-16 & 13178.43 & 14 & 1191.80 & 6 & 21 & 4 & 1 & 2 & 14 & 2 & 269.30 &  2 &  27.59 & 0 & 0 & 0 & 0 & 0 &  0.00 & 3 & 595.98 & 4 & 1543.65 & 0 & 0 & TRUE & FALSE & FALSE & NA & FALSE & FALSE & FALSE & FALSE & FALSE & FALSE & FALSE & FALSE &  TRUE & 2017-10-16 & 2017-10-16 & 1609845817 & 1609845817 & 1982698973 & 2017 &  0 &  TRUE &  TRUE & 2704.51 & 6 & 693.47 & 5 &  4 & 3 & 1 & 0 & 0 & 2 & 269.30 & 1 & 18.54 & 0 & 0 & 0 & 0 & 0 &  0.00 & 1 & 68.04 & 4 & 1543.65 & 0 & 0 & 0 & 0.01 &   0.00 & 0 & 0 & 0 & 0 & 6621.35 & 0 & 0 & 0.01 &   0.0 & 0 & 0 & 0 & 0 & 6621.35 & 0 & 1191.80 & 269.31 &  27.59 & 0 & 0 &  0.00 & 595.98 & 8165.00 & 0 & 693.47 & 269.31 &  18.54 & 0 & 0 &  0.00 & 68.04 & 8165.00 & 0 & 1787.78 & 8434.31 & 761.51 & 8434.31 & 17 & 6 &  7 & 6 & 13 & 21 &  20 & 2 & 1 & 76 & 0 & 0 & 3 & 3 & 3 & 3 & 3 & 3 & 3 & 3 & 3 & 3 & 3 & 3 & 0 & 0 & 0 & 0 & 0 & 0 & 0 & 0 & 0 & 0 & ⋯ &  0 &  0 &  0 &  0 &  0 & 0.000000000 &  0 & 0.00000000 & 0.08333333 & 0 & 0.00000000 & 0.2500000 & 0.0000000 & 0.027397260 & 0.19200000 & 0.07482993 & 0.1666667 & 0 & 0.25 & 0.5000000 & 0.25 & 0.5833333 & 0.314285714 & 0.19745223 & 0.31343284 & 0.5833333 & 0.5 & 0.5833333 & 0.6666667 & 0.6666667 & 0.75 & 0.4878049 & 0.44444444 & 0.50000000 & 0.5833333 & 0.5 & 0.5833333 & 0.6666667 & 0.6666667 & 0.75 & 0.4878049 & 0.4444444 & 0.500000 & 0.00 & 0.00000000 & 0.0000000 & 0.00 & 0.0000000 & 0.0000000 & 0.0000000 & 0.0000000 & 0.0000000 &  0 & 0.00000000 &  0 &  0 & 0.0000000 &  0 &  0 & 0.0000000 &  0 &  0 & 0.08333333 &  0 &  0 & 0.25 &  0 & 0.02739726 & 0.19200 & 0.07482993 & 1 & MD & South     & South Atlantic     & White & Female & 75-84 & TRUE & M  & 1980 & 37 & 0 & 1 & NU00286144 & JOHNS HOPKINS UNIVERSITY                  & NU00291537 & GREATER BALTIMORE MEDICAL CENTER, INC. & PORTERFIELD & JAMES   & K      & Cardiology & 06 & 2 & M & NA & NONE & 1 & NA & 0.7182977 & 0.22207820 & 0.04385396 & 0.0153380860 & 0.0004320588 & 0 & 0 & 0 & 0 & 0 & MD & 0 & 1 & 12580 & Baltimore-Columbia-Towson, MD         & 0 &  4629 &  418995.5 & 2323 & 111111111111 &  3860 &  411640.6 & 1814 & 111111111111 & 769 &  7354.90 & 674 & 1954 &  3325 &  203 &  TRUE & 1318.46 & 11859.97 &  2 & 1 & 19 & 3 &  367.64 & 2336.87 &  0 &  17704.68 &  0 &  13915.48 &  0 & 12305.11 &  0 & 13915.48 & 1318.46 &  367.64 &  43480.13 & 28557.46 & 2016\\\\\n",
       "\t 5 & 5 & 100013703 & 2015-05-18 &  6408.96 & 11 &  855.53 & 0 & 15 & 0 & 1 & 1 & 13 & 0 &   0.00 &  2 &  34.03 & 0 & 0 & 0 & 0 & 1 & 65.83 & 0 &   0.00 & 0 &    0.00 & 0 & 0 & TRUE &  TRUE & FALSE & NA & FALSE & FALSE &  TRUE & FALSE & FALSE & FALSE & FALSE & FALSE & FALSE & NA & NA &         NA &         NA & 1982617072 & 2015 & NA & FALSE & FALSE & 1637.42 & 9 & 711.56 & 0 &  3 & 0 & 1 & 0 & 2 & 0 &   0.00 & 2 & 34.03 & 0 & 0 & 0 & 0 & 1 & 65.83 & 0 &  0.00 & 0 &    0.00 & 0 & 0 & 0 & 0.00 &   0.00 & 0 & 0 & 0 & 0 &    0.00 & 0 & 0 & 0.00 &   0.0 & 0 & 0 & 0 & 0 &    0.00 & 0 &  855.53 &   0.00 &  34.03 & 0 & 0 & 65.83 &   0.00 &    0.00 & 0 & 711.56 &   0.00 &  34.03 & 0 & 0 & 65.83 &  0.00 &    0.00 & 0 &  921.36 &    0.00 & 777.39 &    0.00 & 12 & 0 & 10 & 0 & 13 & 10 &  70 & 2 & 1 & 76 & 0 & 0 & 3 & 3 & 3 & 3 & 3 & 3 & 3 & 3 & 3 & 3 & 3 & 3 & 0 & 0 & 0 & 0 & 0 & 0 & 0 & 0 & 0 & 0 & ⋯ &  0 &  0 &  0 &  0 &  0 & 0.005988024 &  0 & 0.00000000 & 0.00000000 & 0 & 0.00000000 & 0.0000000 & 0.0000000 & 0.006329114 & 0.02051282 & 0.01492537 & 0.0000000 & 0 & 0.00 & 0.0000000 & 0.00 & 0.0000000 & 0.006329114 & 0.02051282 & 0.01492537 &        NA &  NA &        NA &        NA &        NA &   NA &        NA &         NA &         NA &        NA &  NA &        NA &        NA &        NA &   NA &        NA &        NA &       NA & 0.00 & 0.00000000 & 0.0000000 & 0.00 & 0.0000000 & 0.0000000 & 0.0000000 & 0.0000000 & 0.0000000 & NA &         NA & NA & NA &        NA & NA & NA &        NA & NA & NA &         NA & NA & NA &   NA & NA &         NA &      NA &         NA & 3 & FL & South     & South Atlantic     & White & Female & 75-84 & TRUE & M  & 1986 & 29 & 0 & 0 & NU00350972 & CHARLOTTE HEART AND VASCULAR INSTITUTE PA & NU00333835 & SRA VENTURES INC                       & CONNELLY    & TERENCE & P      & Cardiology & 06 & 2 & M & NA & NONE & 1 & NA & 0.7951728 & 0.16314956 & 0.04154577 & 0.0001318913 & 0.0000000000 & 0 & 0 & 0 & 0 & 0 & FL & 0 & 1 & 39460 & Punta Gorda, FL                       & 1 &  7582 & 1252974.0 & 1892 & 111111111111 &  7559 & 1247715.9 & 1873 & 001101010111 &  23 &  5258.12 &  19 & 1959 &  6029 &  315 & FALSE & 1268.06 &  5140.90 &  3 & 0 & 12 & 0 & 1158.92 &  478.50 &  0 &   1037.85 & NA &        NA & NA &       NA & NA &       NA & 1268.06 & 1158.92 &   6178.75 &   478.50 & 2014\\\\\n",
       "\t 6 & 6 & 100013815 & 2018-10-22 &  1615.67 & 12 & 1145.16 & 1 &  5 & 1 & 1 & 0 &  3 & 0 &   0.00 &  0 &   0.00 & 0 & 0 & 0 & 0 & 0 &  0.00 & 0 &   0.00 & 0 &    0.00 & 0 & 0 & TRUE & FALSE & FALSE & NA & FALSE & FALSE &  TRUE & FALSE & FALSE & FALSE & FALSE & FALSE &  TRUE & NA & NA &         NA &         NA & 1235147182 & 2018 & NA & FALSE & FALSE &  381.15 & 4 & 342.90 & 0 &  3 & 0 & 1 & 0 & 2 & 0 &   0.00 & 0 &  0.00 & 0 & 0 & 0 & 0 & 0 &  0.00 & 0 &  0.00 & 0 &    0.00 & 0 & 0 & 0 & 0.00 &   0.00 & 0 & 0 & 0 & 0 &    0.00 & 0 & 0 & 0.00 &   0.0 & 0 & 0 & 0 & 0 &    0.00 & 0 & 1145.16 &   0.00 &   0.00 & 0 & 0 &  0.00 &   0.00 &    0.00 & 0 & 342.90 &   0.00 &   0.00 & 0 & 0 &  0.00 &  0.00 &    0.00 & 0 & 1145.16 &    0.00 & 342.90 &    0.00 & 12 & 0 &  4 & 0 & 13 & 10 & 280 & 2 & 1 & 76 & 0 & 0 & 3 & 3 & 3 & 3 & 3 & 3 & 3 & 3 & 3 & 3 & 3 & 3 & 0 & 0 & 0 & 0 & 0 & 0 & 0 & 0 & 0 & 0 & ⋯ &  0 &  0 &  0 &  0 &  0 & 0.000000000 &  0 & 0.00000000 & 0.00000000 & 0 & 0.08333333 & 0.1666667 & 0.1666667 & 0.093220339 & 0.15957447 & 0.07826087 & 0.0000000 & 0 & 0.00 & 0.0000000 & 0.00 & 0.0000000 & 0.000000000 & 0.00000000 & 0.00000000 &        NA &  NA &        NA &        NA &        NA &   NA &        NA &         NA &         NA &        NA &  NA &        NA &        NA &        NA &   NA &        NA &        NA &       NA & 0.00 & 0.00000000 & 0.0000000 & 0.00 & 0.0000000 & 0.0000000 & 0.0000000 & 0.0000000 & 0.0000000 &  0 & 0.00000000 &  0 &  0 & 0.0000000 &  0 &  0 & 0.0000000 &  0 & NA &         NA & NA & NA &   NA & NA &         NA &      NA &         NA & 1 & FL & South     & South Atlantic     & White & Female & 75-84 & TRUE & F  & 1990 & 28 & 0 & 0 & NU00331617 & BAY AREA CARDIOLOGY ASSOC. PA             & NA         & NA                                     & KHAN        & TEHREEN & NA     & Cardiology & 06 & 2 & F & NA & NONE & 1 & NA & 0.6941682 & 0.22830018 & 0.06735985 & 0.0101717900 & 0.0000000000 & 0 & 0 & 0 & 0 & 0 & FL & 0 & 1 & 45300 & Tampa-St. Petersburg-Clearwater, FL   & 0 &  4424 &  446058.3 & 2035 & 111111111111 &  4424 &  446058.3 & 2035 & NA           &  NA &       NA &  NA & 1964 &  3071 &  298 & FALSE &  233.44 &  1382.23 &  2 & 1 &  3 & 0 &  124.40 &  256.75 & NA &        NA & NA &        NA & NA &       NA & NA &       NA &  233.44 &  124.40 &   1382.23 &   256.75 & 2017\\\\\n",
       "\\end{tabular}\n"
      ],
      "text/markdown": [
       "\n",
       "A data.table: 6 × 598\n",
       "\n",
       "| ...1 &lt;dbl&gt; | X &lt;dbl&gt; | DESY_SORT_KEY &lt;dbl&gt; | first_diagnosis &lt;date&gt; | tot_allowed_carrier &lt;dbl&gt; | office_visit_count &lt;dbl&gt; | office_visit_cost_carrier &lt;dbl&gt; | cardiology_visit_count &lt;dbl&gt; | distinct_clinicians &lt;dbl&gt; | distinct_cardiologists &lt;dbl&gt; | distinct_primary_care_physicians &lt;dbl&gt; | distinct_surgeons &lt;dbl&gt; | distinct_other_specialties &lt;dbl&gt; | catheterization_count &lt;dbl&gt; | catheterization_cost_carrier &lt;dbl&gt; | ecg_count &lt;dbl&gt; | ecg_cost_carrier &lt;dbl&gt; | cardiac_ct_count &lt;dbl&gt; | cardiac_ct_cost_carrier &lt;dbl&gt; | cardiac_mri_count &lt;dbl&gt; | cardiac_mri_cost_carrier &lt;dbl&gt; | stress_test_count &lt;dbl&gt; | stress_test_cost_carrier &lt;dbl&gt; | echocardiography_count &lt;dbl&gt; | echocardiography_cost_carrier &lt;dbl&gt; | angioplasty_count &lt;dbl&gt; | angioplasty_cost_carrier &lt;dbl&gt; | CABG_count &lt;dbl&gt; | CABG_cost_carrier &lt;dbl&gt; | stable_angina &lt;lgl&gt; | unstable_angina &lt;lgl&gt; | MI &lt;lgl&gt; | MI_date &lt;date&gt; | cardiac_arrest &lt;lgl&gt; | stroke &lt;lgl&gt; | hypertension &lt;lgl&gt; | copd &lt;lgl&gt; | obesity &lt;lgl&gt; | depression &lt;lgl&gt; | diabetes &lt;lgl&gt; | icd_9_pure &lt;lgl&gt; | icd_10_pure &lt;lgl&gt; | catheterization_date &lt;date&gt; | angioplasty_date &lt;date&gt; | catheterization_doc_NPI &lt;dbl&gt; | angioplasty_doc_NPI &lt;dbl&gt; | diagnosing_doc_NPI &lt;dbl&gt; | year_first_diagnosed &lt;dbl&gt; | time_difference_angio_cath &lt;dbl&gt; | angioplasty_with_cath &lt;lgl&gt; | angioplasty_during_year_after_cath &lt;lgl&gt; | tot_allowed_carrier_cardiology_related &lt;dbl&gt; | office_visit_count_cardiology_related &lt;dbl&gt; | office_visit_cost_carrier_cardiology_related &lt;dbl&gt; | cardiology_visit_count_cardiology_related &lt;dbl&gt; | distinct_clinicians_cardiology_related &lt;dbl&gt; | distinct_cardiologists_cardiology_related &lt;dbl&gt; | distinct_primary_care_physicians_cardiology_related &lt;dbl&gt; | distinct_surgeons_cardiology_related &lt;dbl&gt; | distinct_other_specialties_cardiology_related &lt;dbl&gt; | catheterization_count_cardiology_related &lt;dbl&gt; | catheterization_cost_carrier_cardiology_related &lt;dbl&gt; | ecg_count_cardiology_related &lt;dbl&gt; | ecg_cost_carrier_cardiology_related &lt;dbl&gt; | cardiac_ct_count_cardiology_related &lt;dbl&gt; | cardiac_ct_cost_carrier_cardiology_related &lt;dbl&gt; | cardiac_mri_count_cardiology_related &lt;dbl&gt; | cardiac_mri_cost_carrier_cardiology_related &lt;dbl&gt; | stress_test_count_cardiology_related &lt;dbl&gt; | stress_test_cost_carrier_cardiology_related &lt;dbl&gt; | echocardiography_count_cardiology_related &lt;dbl&gt; | echocardiography_cost_carrier_cardiology_related &lt;dbl&gt; | angioplasty_count_cardiology_related &lt;dbl&gt; | angioplasty_cost_carrier_cardiology_related &lt;dbl&gt; | CABG_count_cardiology_related &lt;dbl&gt; | CABG_cost_carrier_cardiology_related &lt;dbl&gt; | office_visit_cost_outpatient &lt;dbl&gt; | catheterization_cost_outpatient &lt;dbl&gt; | ecg_cost_outpatient &lt;dbl&gt; | cardiac_ct_cost_outpatient &lt;dbl&gt; | cardiac_mri_cost_outpatient &lt;dbl&gt; | stress_test_cost_outpatient &lt;dbl&gt; | echocardiography_cost_outpatient &lt;dbl&gt; | angioplasty_cost_outpatient &lt;dbl&gt; | CABG_cost_outpatient &lt;dbl&gt; | office_visit_cost_outpatient_cardiology_related &lt;dbl&gt; | catheterization_cost_outpatient_cardiology_related &lt;dbl&gt; | ecg_cost_outpatient_cardiology_related &lt;dbl&gt; | cardiac_ct_cost_outpatient_cardiology_related &lt;dbl&gt; | cardiac_mri_cost_outpatient_cardiology_related &lt;dbl&gt; | stress_test_cost_outpatient_cardiology_related &lt;dbl&gt; | echocardiography_cost_outpatient_cardiology_related &lt;dbl&gt; | angioplasty_cost_outpatient_cardiology_related &lt;dbl&gt; | CABG_cost_outpatient_cardiology_related &lt;dbl&gt; | office_visit_cost &lt;dbl&gt; | catheterization_cost &lt;dbl&gt; | ecg_cost &lt;dbl&gt; | cardiac_ct_cost &lt;dbl&gt; | cardiac_mri_cost &lt;dbl&gt; | stress_test_cost &lt;dbl&gt; | echocardiography_cost &lt;dbl&gt; | angioplasty_cost &lt;dbl&gt; | CABG_cost &lt;dbl&gt; | office_visit_cost_cardiology_related &lt;dbl&gt; | catheterization_cost_cardiology_related &lt;dbl&gt; | ecg_cost_cardiology_related &lt;dbl&gt; | cardiac_ct_cost_cardiology_related &lt;dbl&gt; | cardiac_mri_cost_cardiology_related &lt;dbl&gt; | stress_test_cost_cardiology_related &lt;dbl&gt; | echocardiography_cost_cardiology_related &lt;dbl&gt; | angioplasty_cost_cardiology_related &lt;dbl&gt; | CABG_cost_cardiology_related &lt;dbl&gt; | tot_cheap_prcdr_cost &lt;dbl&gt; | tot_expensive_prcdr_cost &lt;dbl&gt; | tot_cheap_prcdr_cost_cardiology_related &lt;dbl&gt; | tot_expensive_prcdr_cost_cardiology_related &lt;dbl&gt; | tot_cheap_prcdr_count &lt;dbl&gt; | tot_expensive_prcdr_count &lt;dbl&gt; | tot_cheap_prcdr_count_cardiology_related &lt;dbl&gt; | tot_expensive_prcdr_count_cardiology_related &lt;dbl&gt; | REFERENCE_YEAR_2013 &lt;dbl&gt; | STATE_CODE_2013 &lt;dbl&gt; | COUNTY_CODE_2013 &lt;dbl&gt; | SEX_CODE_2013 &lt;dbl&gt; | RACE_CODE_2013 &lt;dbl&gt; | AGE_2013 &lt;dbl&gt; | ORIG_REASON_FOR_ENTITLEMENT_2013 &lt;dbl&gt; | CURR_REASON_FOR_ENTITLEMENT_2013 &lt;dbl&gt; | ENTITLEMENT_BUY_IN_IND01_2013 &lt;chr&gt; | ENTITLEMENT_BUY_IN_IND02_2013 &lt;chr&gt; | ENTITLEMENT_BUY_IN_IND03_2013 &lt;chr&gt; | ENTITLEMENT_BUY_IN_IND04_2013 &lt;chr&gt; | ENTITLEMENT_BUY_IN_IND05_2013 &lt;chr&gt; | ENTITLEMENT_BUY_IN_IND06_2013 &lt;chr&gt; | ENTITLEMENT_BUY_IN_IND07_2013 &lt;chr&gt; | ENTITLEMENT_BUY_IN_IND08_2013 &lt;chr&gt; | ENTITLEMENT_BUY_IN_IND09_2013 &lt;chr&gt; | ENTITLEMENT_BUY_IN_IND10_2013 &lt;chr&gt; | ENTITLEMENT_BUY_IN_IND11_2013 &lt;chr&gt; | ENTITLEMENT_BUY_IN_IND12_2013 &lt;chr&gt; | HMO_INDICATOR01_2013 &lt;chr&gt; | HMO_INDICATOR02_2013 &lt;chr&gt; | HMO_INDICATOR03_2013 &lt;chr&gt; | HMO_INDICATOR04_2013 &lt;chr&gt; | HMO_INDICATOR05_2013 &lt;chr&gt; | HMO_INDICATOR06_2013 &lt;chr&gt; | HMO_INDICATOR07_2013 &lt;chr&gt; | HMO_INDICATOR08_2013 &lt;chr&gt; | HMO_INDICATOR09_2013 &lt;chr&gt; | HMO_INDICATOR10_2013 &lt;chr&gt; | ⋯ ⋯ | most_common_primary_care_physician_prp_in_year_before_diagnosis_05_non_exclusive_HCPCS &lt;dbl&gt; | most_common_primary_care_physician_prp_in_year_of_diagnosis_03_non_exclusive_HCPCS &lt;dbl&gt; | most_common_primary_care_physician_prp_in_2013_03_non_exclusive_HCPCS &lt;dbl&gt; | most_common_primary_care_physician_prp_in_year_before_diagnosis_03_non_exclusive_HCPCS &lt;dbl&gt; | most_common_primary_care_physician_avg_in_year_of_diagnosis_non_exclusive_HCPCS &lt;dbl&gt; | most_common_primary_care_physician_avg_in_2013_non_exclusive_HCPCS &lt;dbl&gt; | most_common_primary_care_physician_avg_in_year_before_diagnosis_non_exclusive_HCPCS &lt;dbl&gt; | most_common_cardiologist_prp_in_year_of_diagnosis_05_non_exclusive_HCPCS &lt;dbl&gt; | most_common_cardiologist_prp_in_2013_05_non_exclusive_HCPCS &lt;dbl&gt; | most_common_cardiologist_prp_in_year_before_diagnosis_05_non_exclusive_HCPCS &lt;dbl&gt; | most_common_cardiologist_prp_in_year_of_diagnosis_03_non_exclusive_HCPCS &lt;dbl&gt; | most_common_cardiologist_prp_in_2013_03_non_exclusive_HCPCS &lt;dbl&gt; | most_common_cardiologist_prp_in_year_before_diagnosis_03_non_exclusive_HCPCS &lt;dbl&gt; | most_common_cardiologist_avg_in_year_of_diagnosis_non_exclusive_HCPCS &lt;dbl&gt; | most_common_cardiologist_avg_in_2013_non_exclusive_HCPCS &lt;dbl&gt; | most_common_cardiologist_avg_in_year_before_diagnosis_non_exclusive_HCPCS &lt;dbl&gt; | diagnosing_doc_prp_in_year_of_diagnosis_05_non_exclusive_HCPCS &lt;dbl&gt; | diagnosing_doc_prp_in_2013_05_non_exclusive_HCPCS &lt;dbl&gt; | diagnosing_doc_prp_in_year_before_diagnosis_05_non_exclusive_HCPCS &lt;dbl&gt; | diagnosing_doc_prp_in_year_of_diagnosis_03_non_exclusive_HCPCS &lt;dbl&gt; | diagnosing_doc_prp_in_2013_03_non_exclusive_HCPCS &lt;dbl&gt; | diagnosing_doc_prp_in_year_before_diagnosis_03_non_exclusive_HCPCS &lt;dbl&gt; | diagnosing_doc_avg_in_year_of_diagnosis_non_exclusive_HCPCS &lt;dbl&gt; | diagnosing_doc_avg_in_2013_non_exclusive_HCPCS &lt;dbl&gt; | diagnosing_doc_avg_in_year_before_diagnosis_non_exclusive_HCPCS &lt;dbl&gt; | catheterization_doc_prp_in_year_of_diagnosis_05_non_exclusive_HCPCS &lt;dbl&gt; | catheterization_doc_prp_in_2013_05_non_exclusive_HCPCS &lt;dbl&gt; | catheterization_doc_prp_in_year_before_diagnosis_05_non_exclusive_HCPCS &lt;dbl&gt; | catheterization_doc_prp_in_year_of_diagnosis_03_non_exclusive_HCPCS &lt;dbl&gt; | catheterization_doc_prp_in_2013_03_non_exclusive_HCPCS &lt;dbl&gt; | catheterization_doc_prp_in_year_before_diagnosis_03_non_exclusive_HCPCS &lt;dbl&gt; | catheterization_doc_avg_in_year_of_diagnosis_non_exclusive_HCPCS &lt;dbl&gt; | catheterization_doc_avg_in_2013_non_exclusive_HCPCS &lt;dbl&gt; | catheterization_doc_avg_in_year_before_diagnosis_non_exclusive_HCPCS &lt;dbl&gt; | angioplasty_doc_prp_in_year_of_diagnosis_05_non_exclusive_HCPCS &lt;dbl&gt; | angioplasty_doc_prp_in_2013_05_non_exclusive_HCPCS &lt;dbl&gt; | angioplasty_doc_prp_in_year_before_diagnosis_05_non_exclusive_HCPCS &lt;dbl&gt; | angioplasty_doc_prp_in_year_of_diagnosis_03_non_exclusive_HCPCS &lt;dbl&gt; | angioplasty_doc_prp_in_2013_03_non_exclusive_HCPCS &lt;dbl&gt; | angioplasty_doc_prp_in_year_before_diagnosis_03_non_exclusive_HCPCS &lt;dbl&gt; | angioplasty_doc_avg_in_year_of_diagnosis_non_exclusive_HCPCS &lt;dbl&gt; | angioplasty_doc_avg_in_2013_non_exclusive_HCPCS &lt;dbl&gt; | angioplasty_doc_avg_in_year_before_diagnosis_non_exclusive_HCPCS &lt;dbl&gt; | most_common_physician_2013_prp_in_year_of_diagnosis_05_non_exclusive_HCPCS &lt;dbl&gt; | most_common_physician_2013_prp_in_2013_05_non_exclusive_HCPCS &lt;dbl&gt; | most_common_physician_2013_prp_in_year_before_diagnosis_05_non_exclusive_HCPCS &lt;dbl&gt; | most_common_physician_2013_prp_in_year_of_diagnosis_03_non_exclusive_HCPCS &lt;dbl&gt; | most_common_physician_2013_prp_in_2013_03_non_exclusive_HCPCS &lt;dbl&gt; | most_common_physician_2013_prp_in_year_before_diagnosis_03_non_exclusive_HCPCS &lt;dbl&gt; | most_common_physician_2013_avg_in_year_of_diagnosis_non_exclusive_HCPCS &lt;dbl&gt; | most_common_physician_2013_avg_in_2013_non_exclusive_HCPCS &lt;dbl&gt; | most_common_physician_2013_avg_in_year_before_diagnosis_non_exclusive_HCPCS &lt;dbl&gt; | most_common_primary_care_physician_2013_prp_in_year_of_diagnosis_05_non_exclusive_HCPCS &lt;dbl&gt; | most_common_primary_care_physician_2013_prp_in_2013_05_non_exclusive_HCPCS &lt;dbl&gt; | most_common_primary_care_physician_2013_prp_in_year_before_diagnosis_05_non_exclusive_HCPCS &lt;dbl&gt; | most_common_primary_care_physician_2013_prp_in_year_of_diagnosis_03_non_exclusive_HCPCS &lt;dbl&gt; | most_common_primary_care_physician_2013_prp_in_2013_03_non_exclusive_HCPCS &lt;dbl&gt; | most_common_primary_care_physician_2013_prp_in_year_before_diagnosis_03_non_exclusive_HCPCS &lt;dbl&gt; | most_common_primary_care_physician_2013_avg_in_year_of_diagnosis_non_exclusive_HCPCS &lt;dbl&gt; | most_common_primary_care_physician_2013_avg_in_2013_non_exclusive_HCPCS &lt;dbl&gt; | most_common_primary_care_physician_2013_avg_in_year_before_diagnosis_non_exclusive_HCPCS &lt;dbl&gt; | most_common_cardiologist_2013_prp_in_year_of_diagnosis_05_non_exclusive_HCPCS &lt;dbl&gt; | most_common_cardiologist_2013_prp_in_2013_05_non_exclusive_HCPCS &lt;dbl&gt; | most_common_cardiologist_2013_prp_in_year_before_diagnosis_05_non_exclusive_HCPCS &lt;dbl&gt; | most_common_cardiologist_2013_prp_in_year_of_diagnosis_03_non_exclusive_HCPCS &lt;dbl&gt; | most_common_cardiologist_2013_prp_in_2013_03_non_exclusive_HCPCS &lt;dbl&gt; | most_common_cardiologist_2013_prp_in_year_before_diagnosis_03_non_exclusive_HCPCS &lt;dbl&gt; | most_common_cardiologist_2013_avg_in_year_of_diagnosis_non_exclusive_HCPCS &lt;dbl&gt; | most_common_cardiologist_2013_avg_in_2013_non_exclusive_HCPCS &lt;dbl&gt; | most_common_cardiologist_2013_avg_in_year_before_diagnosis_non_exclusive_HCPCS &lt;dbl&gt; | RUCC_2013 &lt;dbl&gt; | State.Code &lt;chr&gt; | census_region &lt;chr&gt; | Division &lt;chr&gt; | race &lt;chr&gt; | sex &lt;chr&gt; | age_group &lt;chr&gt; | urban &lt;lgl&gt; | cardiologist_gndr &lt;chr&gt; | cardiologist_grd_yr &lt;dbl&gt; | cardiologist_experience_at_diagnosis &lt;dbl&gt; | viclaims &lt;dbl&gt; | vikeyword &lt;dbl&gt; | tin1_nu &lt;chr&gt; | tin1_legal_name &lt;chr&gt; | tin2_nu &lt;chr&gt; | tin2_legal_name &lt;chr&gt; | name_last &lt;chr&gt; | name_first &lt;chr&gt; | name_middle &lt;chr&gt; | SPEC_PRIM_1_NAME &lt;chr&gt; | SPEC_PRIM_1 &lt;chr&gt; | SPEC_BROAD &lt;dbl&gt; | SEX &lt;chr&gt; | SPEC_PRIM_2 &lt;lgl&gt; | SPEC_PRIM_2_NAME &lt;chr&gt; | SPEC_SOURCE &lt;dbl&gt; | SPEC_SOURCE_HOSP &lt;lgl&gt; | POS_OFFICE &lt;dbl&gt; | POS_INPAT &lt;dbl&gt; | POS_OPD &lt;dbl&gt; | POS_ER &lt;dbl&gt; | POS_NURSING &lt;dbl&gt; | POS_ASC &lt;dbl&gt; | POS_RESID &lt;dbl&gt; | POS_RETAIL &lt;dbl&gt; | POS_URGENT &lt;dbl&gt; | POS_OTHER &lt;dbl&gt; | STATE &lt;chr&gt; | STATE_MULTI &lt;dbl&gt; | CBSA_TYPE &lt;dbl&gt; | CBSA_CD &lt;dbl&gt; | CBSA_NAME &lt;chr&gt; | CBSA_MULTI &lt;dbl&gt; | NPI_SRVC_LINES &lt;dbl&gt; | NPI_ALLOWED_AMT &lt;dbl&gt; | NPI_UNQ_BENES &lt;dbl&gt; | TIN1_SRVC_MONTH &lt;chr&gt; | TIN1_SRVC_LINES &lt;dbl&gt; | TIN1_ALLOWED_AMT &lt;dbl&gt; | TIN1_UNQ_BENES &lt;dbl&gt; | TIN2_SRVC_MONTH &lt;chr&gt; | TIN2_SRVC_LINES &lt;dbl&gt; | TIN2_ALLOWED_AMT &lt;dbl&gt; | TIN2_UNQ_BENES &lt;dbl&gt; | BIRTH_YR &lt;dbl&gt; | lns_office &lt;dbl&gt; | lns_opd &lt;dbl&gt; | most_common_cardiologist_integrated_in_year_of_diagnosis &lt;lgl&gt; | tot_allowed_carrier_same_tin &lt;dbl&gt; | tot_allowed_carrier_not_same_tin &lt;dbl&gt; | distinct_clinicians_same_tin &lt;dbl&gt; | distinct_cardiologists_same_tin &lt;dbl&gt; | distinct_clinicians_not_same_tin &lt;dbl&gt; | distinct_cardiologists_not_same_tin &lt;dbl&gt; | tot_allowed_carrier_same_tin_cardiology_related &lt;dbl&gt; | tot_allowed_carrier_not_same_tin_cardiology_related &lt;dbl&gt; | tot_allowed_outpatient_same_tin &lt;dbl&gt; | tot_allowed_outpatient_not_same_tin &lt;dbl&gt; | tot_allowed_inpatient_same_tin &lt;dbl&gt; | tot_allowed_inpatient_not_same_tin &lt;dbl&gt; | tot_allowed_outpatient_same_tin_cardiology_related &lt;dbl&gt; | tot_allowed_outpatient_not_same_tin_cardiology_related &lt;dbl&gt; | tot_allowed_inpatient_same_tin_cardiology_related &lt;dbl&gt; | tot_allowed_inpatient_not_same_tin_cardiology_related &lt;dbl&gt; | total_exp_same_tin &lt;dbl&gt; | total_exp_same_tin_cardiology_related &lt;dbl&gt; | total_exp_not_same_tin &lt;dbl&gt; | total_exp_not_same_tin_cardiology_related &lt;dbl&gt; | year_before_diagnosis &lt;dbl&gt; |\n",
       "|---|---|---|---|---|---|---|---|---|---|---|---|---|---|---|---|---|---|---|---|---|---|---|---|---|---|---|---|---|---|---|---|---|---|---|---|---|---|---|---|---|---|---|---|---|---|---|---|---|---|---|---|---|---|---|---|---|---|---|---|---|---|---|---|---|---|---|---|---|---|---|---|---|---|---|---|---|---|---|---|---|---|---|---|---|---|---|---|---|---|---|---|---|---|---|---|---|---|---|---|---|---|---|---|---|---|---|---|---|---|---|---|---|---|---|---|---|---|---|---|---|---|---|---|---|---|---|---|---|---|---|---|---|---|---|---|---|---|---|---|---|---|---|---|---|---|---|---|---|---|---|---|---|---|---|---|---|---|---|---|---|---|---|---|---|---|---|---|---|---|---|---|---|---|---|---|---|---|---|---|---|---|---|---|---|---|---|---|---|---|---|---|---|---|---|---|---|---|---|---|---|---|---|---|---|---|---|---|---|---|---|---|---|---|---|---|---|---|---|---|---|---|---|---|---|---|---|---|---|---|---|---|---|---|---|---|---|---|---|---|---|---|---|---|---|---|---|---|---|---|---|---|---|---|---|---|---|---|---|---|---|---|---|---|---|---|---|---|---|---|---|---|---|---|---|---|---|---|---|---|---|---|---|---|---|---|---|---|---|---|---|---|---|---|---|---|---|---|---|---|---|\n",
       "| 1 | 1 | 100004643 | 2018-07-24 |  2164.96 |  2 |  209.35 | 2 |  5 | 1 | 0 | 0 |  4 | 0 |   0.00 |  1 |  16.26 | 0 | 0 | 0 | 0 | 1 | 60.06 | 0 |   0.00 | 0 |    0.00 | 0 | 0 | TRUE | FALSE | FALSE | NA | FALSE | FALSE |  TRUE | FALSE | FALSE | FALSE | FALSE | FALSE |  TRUE | NA | NA |         NA |         NA | 1922000801 | 2018 | NA | FALSE | FALSE | 1098.55 | 1 | 104.30 | 1 |  5 | 1 | 0 | 0 | 4 | 0 |   0.00 | 1 | 16.26 | 0 | 0 | 0 | 0 | 0 |  0.00 | 0 |  0.00 | 0 |    0.00 | 0 | 0 | 0 | 0.00 |   0.00 | 0 | 0 | 0 | 0 |    0.00 | 0 | 0 | 0.00 |   0.0 | 0 | 0 | 0 | 0 |    0.00 | 0 |  209.35 |   0.00 |  16.26 | 0 | 0 | 60.06 |   0.00 |    0.00 | 0 | 104.30 |   0.00 |  16.26 | 0 | 0 |  0.00 |  0.00 |    0.00 | 0 |  269.41 |    0.00 | 104.30 |    0.00 |  3 | 0 |  1 | 0 | 13 | 34 | 240 | 2 | 1 | 77 | 0 | 0 | 3 | 3 | 3 | 3 | 3 | 3 | 3 | 3 | 3 | 3 | 3 | 3 | 0 | 0 | 0 | 0 | 0 | 0 | 0 | 0 | 0 | 0 | ⋯ | NA | NA | NA | NA | NA |          NA | NA | 0.00000000 | 0.00000000 | 0 | 0.00000000 | 0.0000000 | 0.0000000 | 0.049250535 | 0.06811989 | 0.07415254 | 0.0000000 | 0 | 0.00 | 0.0000000 | 0.00 | 0.0000000 | 0.049250535 | 0.06811989 | 0.07415254 |        NA |  NA |        NA |        NA |        NA |   NA |        NA |         NA |         NA |        NA |  NA |        NA |        NA |        NA |   NA |        NA |        NA |       NA | 0.00 | 0.08333333 | 0.0000000 | 0.00 | 0.1666667 | 0.0000000 | 0.0000000 | 0.1264368 | 0.0000000 |  0 | 0.08333333 |  0 |  0 | 0.1666667 |  0 |  0 | 0.1264368 |  0 | NA |         NA | NA | NA |   NA | NA |         NA |      NA |         NA | 2 | LA | South     | West South Central | White | Female | 75-84 | TRUE | M  | 1991 | 27 | 0 | 0 | NU00134539 | CARDIOLOGY SPECIALISTS OF ACADIANA, LLC   | NU00359047 | ABBEVILLE GENERAL HOSPITAL             | LELEUX      | JON     | DAMIAN | Cardiology | 06 | 2 | M | NA | NONE | 1 | NA | 0.8810704 | 0.05155199 | 0.06513618 | 0.0022413910 | 0.0000000000 | 0 | 0 | 0 | 0 | 0 | LA | 0 | 1 | 29180 | Lafayette, LA                         | 0 | 14723 | 1811872.4 | 2866 | 111111111111 | 14396 | 1788733.8 | 2754 | 111111111111 | 327 | 23138.52 | 307 | 1967 | 12972 |  959 | FALSE | 1345.60 |   819.36 |  1 | 1 |  4 | 0 |  310.35 |  788.20 | NA |        NA | NA |        NA | NA |       NA | NA |       NA | 1345.60 |  310.35 |    819.36 |   788.20 | 2017 |\n",
       "| 2 | 2 | 100008543 | 2014-04-16 |  2149.56 | 12 |  869.89 | 2 | 22 | 4 | 5 | 1 | 12 | 0 |   0.00 |  3 |  25.29 | 0 | 0 | 0 | 0 | 0 |  0.00 | 0 |   0.00 | 0 |    0.00 | 0 | 0 | TRUE | FALSE | FALSE | NA | FALSE | FALSE | FALSE | FALSE | FALSE | FALSE | FALSE |  TRUE | FALSE | NA | NA |         NA |         NA | 1033107701 | 2014 | NA | FALSE | FALSE |  178.71 | 2 | 146.81 | 1 |  4 | 3 | 1 | 0 | 0 | 0 |   0.00 | 0 |  0.00 | 0 | 0 | 0 | 0 | 0 |  0.00 | 0 |  0.00 | 0 |    0.00 | 0 | 0 | 0 | 0.00 | 490.65 | 0 | 0 | 0 | 0 |    0.00 | 0 | 0 | 0.00 | 126.3 | 0 | 0 | 0 | 0 |    0.00 | 0 |  869.89 |   0.00 | 515.94 | 0 | 0 |  0.00 |   0.00 |    0.00 | 0 | 146.81 |   0.00 | 126.30 | 0 | 0 |  0.00 |  0.00 |    0.00 | 0 |  869.89 |    0.00 | 146.81 |    0.00 | 12 | 0 |  2 | 0 | 13 | 49 |  90 | 1 | 1 | 76 | 0 | 0 | 3 | 3 | 3 | 3 | 3 | 3 | 3 | 3 | 3 | 3 | 3 | 3 | 0 | 0 | 0 | 0 | 0 | 0 | 0 | 0 | 0 | 0 | ⋯ |  0 |  0 |  0 |  0 |  0 | 0.000000000 |  0 | 1.00000000 | 1.00000000 | 1 | 1.00000000 | 1.0000000 | 1.0000000 | 0.860000000 | 0.84375000 | 0.77906977 | 0.0000000 | 0 | 0.00 | 0.0000000 | 0.00 | 0.0000000 | 0.000000000 | 0.00000000 | 0.00000000 |        NA |  NA |        NA |        NA |        NA |   NA |        NA |         NA |         NA |        NA |  NA |        NA |        NA |        NA |   NA |        NA |        NA |       NA | 0.00 | 0.00000000 | 0.0000000 | 0.00 | 0.0000000 | 0.0000000 | 0.0000000 | 0.0000000 | 0.0000000 |  0 | 0.00000000 |  0 |  0 | 0.0000000 |  0 |  0 | 0.0000000 |  0 |  1 | 1.00000000 |  1 |  1 | 1.00 |  1 | 0.86000000 | 0.84375 | 0.77906977 | 2 | VA | South     | South Atlantic     | White | Male   | 75-84 | TRUE | NA |   NA | NA | 1 | 0 | NU00091211 | CENTRA MEDICAL GROUP LLC                  | NU00293513 | CENTRA HEALTH, INC                     | BROWN       | WILLIAM | NA     | Cardiology | 06 | 2 | M | NA | NONE | 1 | NA | 0.1854909 | 0.19504778 | 0.61946134 | 0.0000000000 | 0.0000000000 | 0 | 0 | 0 | 0 | 0 | VA | 0 | 1 | 31340 | Lynchburg, VA                         | 0 |  2302 |  163198.9 | 1109 | 111111111111 |  2297 |  163157.3 | 1105 | 000001000000 |   5 |    41.65 |   5 | 1948 |   427 | 1426 |  TRUE |  899.06 |  1250.50 | 13 | 4 |  9 | 0 |  106.90 |   71.81 |  0 |   6337.03 | NA |        NA |  0 |   372.60 | NA |       NA |  899.06 |  106.90 |   7587.53 |   444.41 | 2013 |\n",
       "| 3 | 3 | 100010653 | 2014-02-14 | 16861.51 | 16 | 1376.90 | 4 | 49 | 9 | 7 | 2 | 31 | 1 | 345.44 | 12 | 114.88 | 0 | 0 | 0 | 0 | 0 |  0.00 | 2 | 133.10 | 2 |  991.67 | 0 | 0 | TRUE |  TRUE | FALSE | NA | FALSE | FALSE | FALSE |  TRUE | FALSE | FALSE | FALSE |  TRUE | FALSE | 2014-02-14 | 2014-02-24 | 1790758688 | 1114990025 | 1790758688 | 2014 | 10 | FALSE |  TRUE | 3309.14 | 3 | 258.31 | 2 | 13 | 7 | 2 | 1 | 3 | 1 | 345.44 | 5 | 36.15 | 0 | 0 | 0 | 0 | 0 |  0.00 | 1 | 66.55 | 2 |  991.67 | 0 | 0 | 0 | 0.00 |   0.00 | 0 | 0 | 0 | 0 |    0.00 | 0 | 0 | 0.00 |   0.0 | 0 | 0 | 0 | 0 |    0.00 | 0 | 1376.90 | 345.44 | 114.88 | 0 | 0 |  0.00 | 133.10 |  991.67 | 0 | 258.31 | 345.44 |  36.15 | 0 | 0 |  0.00 | 66.55 |  991.67 | 0 | 1510.00 | 1337.11 | 324.86 | 1337.11 | 18 | 3 |  4 | 3 | 13 | 33 | 740 | 2 | 1 | 76 | 0 | 0 | 3 | 3 | 3 | 3 | 3 | 3 | 3 | 3 | 3 | 3 | 3 | 3 | 0 | 0 | 0 | 0 | 0 | 0 | 0 | 0 | 0 | 0 | ⋯ |  0 |  0 |  0 |  0 |  0 | 0.000000000 |  0 | 0.08333333 | 0.00000000 | 0 | 0.08333333 | 0.2500000 | 0.1666667 | 0.080310881 | 0.15428571 | 0.10191083 | 0.1666667 | 0 | 0.00 | 0.1666667 | 0.00 | 0.0000000 | 0.115789474 | 0.04214559 | 0.04489796 | 0.1666667 | 0.0 | 0.0000000 | 0.1666667 | 0.0000000 | 0.00 | 0.1157895 | 0.04214559 | 0.04489796 | 0.0000000 | 0.0 | 0.0000000 | 0.1666667 | 0.0000000 | 0.00 | 0.0776699 | 0.1003521 | 0.118705 | 0.25 | 0.45454545 | 0.4166667 | 0.25 | 0.6363636 | 0.5833333 | 0.3769231 | 0.4310345 | 0.3521127 |  0 | 0.00000000 |  0 |  0 | 0.0000000 |  0 |  0 | 0.0000000 |  0 | NA |         NA | NA | NA |   NA | NA |         NA |      NA |         NA | 3 | NY | Northeast | Middle Atlantic    | White | Female | 75-84 | TRUE | M  | 1995 | 19 | 0 | 0 | NU00309843 | NUVANCE HEALTH MEDICAL PRACTICE, PC       | NA         | NA                                     | HAMMOUD     | ALI     | NA     | Cardiology | 06 | 2 | M | NA | NONE | 1 | NA | 0.4856055 | 0.32505712 | 0.10555979 | 0.0837776090 | 0.0000000000 | 0 | 0 | 0 | 0 | 0 | NY | 0 | 1 | 35620 | New York-Newark-Jersey City, NY-NJ-PA | 0 |  6565 |  428347.0 | 2519 | 111111111111 |  6565 |  428347.0 | 2519 | NA           |  NA |       NA |  NA | 1969 |  3188 |  693 | FALSE | 2848.26 | 14013.25 | 12 | 3 | 37 | 6 | 1035.17 | 2273.97 |  0 | 176109.78 |  0 | 311264.38 | NA |       NA | NA |       NA | 2848.26 | 1035.17 | 501387.41 |  2273.97 | 2013 |\n",
       "| 4 | 4 | 100010781 | 2017-10-16 | 13178.43 | 14 | 1191.80 | 6 | 21 | 4 | 1 | 2 | 14 | 2 | 269.30 |  2 |  27.59 | 0 | 0 | 0 | 0 | 0 |  0.00 | 3 | 595.98 | 4 | 1543.65 | 0 | 0 | TRUE | FALSE | FALSE | NA | FALSE | FALSE | FALSE | FALSE | FALSE | FALSE | FALSE | FALSE |  TRUE | 2017-10-16 | 2017-10-16 | 1609845817 | 1609845817 | 1982698973 | 2017 |  0 |  TRUE |  TRUE | 2704.51 | 6 | 693.47 | 5 |  4 | 3 | 1 | 0 | 0 | 2 | 269.30 | 1 | 18.54 | 0 | 0 | 0 | 0 | 0 |  0.00 | 1 | 68.04 | 4 | 1543.65 | 0 | 0 | 0 | 0.01 |   0.00 | 0 | 0 | 0 | 0 | 6621.35 | 0 | 0 | 0.01 |   0.0 | 0 | 0 | 0 | 0 | 6621.35 | 0 | 1191.80 | 269.31 |  27.59 | 0 | 0 |  0.00 | 595.98 | 8165.00 | 0 | 693.47 | 269.31 |  18.54 | 0 | 0 |  0.00 | 68.04 | 8165.00 | 0 | 1787.78 | 8434.31 | 761.51 | 8434.31 | 17 | 6 |  7 | 6 | 13 | 21 |  20 | 2 | 1 | 76 | 0 | 0 | 3 | 3 | 3 | 3 | 3 | 3 | 3 | 3 | 3 | 3 | 3 | 3 | 0 | 0 | 0 | 0 | 0 | 0 | 0 | 0 | 0 | 0 | ⋯ |  0 |  0 |  0 |  0 |  0 | 0.000000000 |  0 | 0.00000000 | 0.08333333 | 0 | 0.00000000 | 0.2500000 | 0.0000000 | 0.027397260 | 0.19200000 | 0.07482993 | 0.1666667 | 0 | 0.25 | 0.5000000 | 0.25 | 0.5833333 | 0.314285714 | 0.19745223 | 0.31343284 | 0.5833333 | 0.5 | 0.5833333 | 0.6666667 | 0.6666667 | 0.75 | 0.4878049 | 0.44444444 | 0.50000000 | 0.5833333 | 0.5 | 0.5833333 | 0.6666667 | 0.6666667 | 0.75 | 0.4878049 | 0.4444444 | 0.500000 | 0.00 | 0.00000000 | 0.0000000 | 0.00 | 0.0000000 | 0.0000000 | 0.0000000 | 0.0000000 | 0.0000000 |  0 | 0.00000000 |  0 |  0 | 0.0000000 |  0 |  0 | 0.0000000 |  0 |  0 | 0.08333333 |  0 |  0 | 0.25 |  0 | 0.02739726 | 0.19200 | 0.07482993 | 1 | MD | South     | South Atlantic     | White | Female | 75-84 | TRUE | M  | 1980 | 37 | 0 | 1 | NU00286144 | JOHNS HOPKINS UNIVERSITY                  | NU00291537 | GREATER BALTIMORE MEDICAL CENTER, INC. | PORTERFIELD | JAMES   | K      | Cardiology | 06 | 2 | M | NA | NONE | 1 | NA | 0.7182977 | 0.22207820 | 0.04385396 | 0.0153380860 | 0.0004320588 | 0 | 0 | 0 | 0 | 0 | MD | 0 | 1 | 12580 | Baltimore-Columbia-Towson, MD         | 0 |  4629 |  418995.5 | 2323 | 111111111111 |  3860 |  411640.6 | 1814 | 111111111111 | 769 |  7354.90 | 674 | 1954 |  3325 |  203 |  TRUE | 1318.46 | 11859.97 |  2 | 1 | 19 | 3 |  367.64 | 2336.87 |  0 |  17704.68 |  0 |  13915.48 |  0 | 12305.11 |  0 | 13915.48 | 1318.46 |  367.64 |  43480.13 | 28557.46 | 2016 |\n",
       "| 5 | 5 | 100013703 | 2015-05-18 |  6408.96 | 11 |  855.53 | 0 | 15 | 0 | 1 | 1 | 13 | 0 |   0.00 |  2 |  34.03 | 0 | 0 | 0 | 0 | 1 | 65.83 | 0 |   0.00 | 0 |    0.00 | 0 | 0 | TRUE |  TRUE | FALSE | NA | FALSE | FALSE |  TRUE | FALSE | FALSE | FALSE | FALSE | FALSE | FALSE | NA | NA |         NA |         NA | 1982617072 | 2015 | NA | FALSE | FALSE | 1637.42 | 9 | 711.56 | 0 |  3 | 0 | 1 | 0 | 2 | 0 |   0.00 | 2 | 34.03 | 0 | 0 | 0 | 0 | 1 | 65.83 | 0 |  0.00 | 0 |    0.00 | 0 | 0 | 0 | 0.00 |   0.00 | 0 | 0 | 0 | 0 |    0.00 | 0 | 0 | 0.00 |   0.0 | 0 | 0 | 0 | 0 |    0.00 | 0 |  855.53 |   0.00 |  34.03 | 0 | 0 | 65.83 |   0.00 |    0.00 | 0 | 711.56 |   0.00 |  34.03 | 0 | 0 | 65.83 |  0.00 |    0.00 | 0 |  921.36 |    0.00 | 777.39 |    0.00 | 12 | 0 | 10 | 0 | 13 | 10 |  70 | 2 | 1 | 76 | 0 | 0 | 3 | 3 | 3 | 3 | 3 | 3 | 3 | 3 | 3 | 3 | 3 | 3 | 0 | 0 | 0 | 0 | 0 | 0 | 0 | 0 | 0 | 0 | ⋯ |  0 |  0 |  0 |  0 |  0 | 0.005988024 |  0 | 0.00000000 | 0.00000000 | 0 | 0.00000000 | 0.0000000 | 0.0000000 | 0.006329114 | 0.02051282 | 0.01492537 | 0.0000000 | 0 | 0.00 | 0.0000000 | 0.00 | 0.0000000 | 0.006329114 | 0.02051282 | 0.01492537 |        NA |  NA |        NA |        NA |        NA |   NA |        NA |         NA |         NA |        NA |  NA |        NA |        NA |        NA |   NA |        NA |        NA |       NA | 0.00 | 0.00000000 | 0.0000000 | 0.00 | 0.0000000 | 0.0000000 | 0.0000000 | 0.0000000 | 0.0000000 | NA |         NA | NA | NA |        NA | NA | NA |        NA | NA | NA |         NA | NA | NA |   NA | NA |         NA |      NA |         NA | 3 | FL | South     | South Atlantic     | White | Female | 75-84 | TRUE | M  | 1986 | 29 | 0 | 0 | NU00350972 | CHARLOTTE HEART AND VASCULAR INSTITUTE PA | NU00333835 | SRA VENTURES INC                       | CONNELLY    | TERENCE | P      | Cardiology | 06 | 2 | M | NA | NONE | 1 | NA | 0.7951728 | 0.16314956 | 0.04154577 | 0.0001318913 | 0.0000000000 | 0 | 0 | 0 | 0 | 0 | FL | 0 | 1 | 39460 | Punta Gorda, FL                       | 1 |  7582 | 1252974.0 | 1892 | 111111111111 |  7559 | 1247715.9 | 1873 | 001101010111 |  23 |  5258.12 |  19 | 1959 |  6029 |  315 | FALSE | 1268.06 |  5140.90 |  3 | 0 | 12 | 0 | 1158.92 |  478.50 |  0 |   1037.85 | NA |        NA | NA |       NA | NA |       NA | 1268.06 | 1158.92 |   6178.75 |   478.50 | 2014 |\n",
       "| 6 | 6 | 100013815 | 2018-10-22 |  1615.67 | 12 | 1145.16 | 1 |  5 | 1 | 1 | 0 |  3 | 0 |   0.00 |  0 |   0.00 | 0 | 0 | 0 | 0 | 0 |  0.00 | 0 |   0.00 | 0 |    0.00 | 0 | 0 | TRUE | FALSE | FALSE | NA | FALSE | FALSE |  TRUE | FALSE | FALSE | FALSE | FALSE | FALSE |  TRUE | NA | NA |         NA |         NA | 1235147182 | 2018 | NA | FALSE | FALSE |  381.15 | 4 | 342.90 | 0 |  3 | 0 | 1 | 0 | 2 | 0 |   0.00 | 0 |  0.00 | 0 | 0 | 0 | 0 | 0 |  0.00 | 0 |  0.00 | 0 |    0.00 | 0 | 0 | 0 | 0.00 |   0.00 | 0 | 0 | 0 | 0 |    0.00 | 0 | 0 | 0.00 |   0.0 | 0 | 0 | 0 | 0 |    0.00 | 0 | 1145.16 |   0.00 |   0.00 | 0 | 0 |  0.00 |   0.00 |    0.00 | 0 | 342.90 |   0.00 |   0.00 | 0 | 0 |  0.00 |  0.00 |    0.00 | 0 | 1145.16 |    0.00 | 342.90 |    0.00 | 12 | 0 |  4 | 0 | 13 | 10 | 280 | 2 | 1 | 76 | 0 | 0 | 3 | 3 | 3 | 3 | 3 | 3 | 3 | 3 | 3 | 3 | 3 | 3 | 0 | 0 | 0 | 0 | 0 | 0 | 0 | 0 | 0 | 0 | ⋯ |  0 |  0 |  0 |  0 |  0 | 0.000000000 |  0 | 0.00000000 | 0.00000000 | 0 | 0.08333333 | 0.1666667 | 0.1666667 | 0.093220339 | 0.15957447 | 0.07826087 | 0.0000000 | 0 | 0.00 | 0.0000000 | 0.00 | 0.0000000 | 0.000000000 | 0.00000000 | 0.00000000 |        NA |  NA |        NA |        NA |        NA |   NA |        NA |         NA |         NA |        NA |  NA |        NA |        NA |        NA |   NA |        NA |        NA |       NA | 0.00 | 0.00000000 | 0.0000000 | 0.00 | 0.0000000 | 0.0000000 | 0.0000000 | 0.0000000 | 0.0000000 |  0 | 0.00000000 |  0 |  0 | 0.0000000 |  0 |  0 | 0.0000000 |  0 | NA |         NA | NA | NA |   NA | NA |         NA |      NA |         NA | 1 | FL | South     | South Atlantic     | White | Female | 75-84 | TRUE | F  | 1990 | 28 | 0 | 0 | NU00331617 | BAY AREA CARDIOLOGY ASSOC. PA             | NA         | NA                                     | KHAN        | TEHREEN | NA     | Cardiology | 06 | 2 | F | NA | NONE | 1 | NA | 0.6941682 | 0.22830018 | 0.06735985 | 0.0101717900 | 0.0000000000 | 0 | 0 | 0 | 0 | 0 | FL | 0 | 1 | 45300 | Tampa-St. Petersburg-Clearwater, FL   | 0 |  4424 |  446058.3 | 2035 | 111111111111 |  4424 |  446058.3 | 2035 | NA           |  NA |       NA |  NA | 1964 |  3071 |  298 | FALSE |  233.44 |  1382.23 |  2 | 1 |  3 | 0 |  124.40 |  256.75 | NA |        NA | NA |        NA | NA |       NA | NA |       NA |  233.44 |  124.40 |   1382.23 |   256.75 | 2017 |\n",
       "\n"
      ],
      "text/plain": [
       "  ...1 X DESY_SORT_KEY first_diagnosis tot_allowed_carrier office_visit_count office_visit_cost_carrier cardiology_visit_count distinct_clinicians distinct_cardiologists distinct_primary_care_physicians distinct_surgeons distinct_other_specialties catheterization_count catheterization_cost_carrier\n",
       "1 1    1 100004643     2018-07-24       2164.96             2                  209.35                   2                       5                  1                      0                                0                  4                         0                       0.00                      \n",
       "2 2    2 100008543     2014-04-16       2149.56            12                  869.89                   2                      22                  4                      5                                1                 12                         0                       0.00                      \n",
       "3 3    3 100010653     2014-02-14      16861.51            16                 1376.90                   4                      49                  9                      7                                2                 31                         1                     345.44                      \n",
       "4 4    4 100010781     2017-10-16      13178.43            14                 1191.80                   6                      21                  4                      1                                2                 14                         2                     269.30                      \n",
       "5 5    5 100013703     2015-05-18       6408.96            11                  855.53                   0                      15                  0                      1                                1                 13                         0                       0.00                      \n",
       "6 6    6 100013815     2018-10-22       1615.67            12                 1145.16                   1                       5                  1                      1                                0                  3                         0                       0.00                      \n",
       "  ecg_count ecg_cost_carrier cardiac_ct_count cardiac_ct_cost_carrier cardiac_mri_count cardiac_mri_cost_carrier stress_test_count stress_test_cost_carrier echocardiography_count echocardiography_cost_carrier angioplasty_count angioplasty_cost_carrier CABG_count CABG_cost_carrier stable_angina\n",
       "1  1         16.26           0                0                       0                 0                        1                 60.06                    0                        0.00                        0                    0.00                  0          0                 TRUE         \n",
       "2  3         25.29           0                0                       0                 0                        0                  0.00                    0                        0.00                        0                    0.00                  0          0                 TRUE         \n",
       "3 12        114.88           0                0                       0                 0                        0                  0.00                    2                      133.10                        2                  991.67                  0          0                 TRUE         \n",
       "4  2         27.59           0                0                       0                 0                        0                  0.00                    3                      595.98                        4                 1543.65                  0          0                 TRUE         \n",
       "5  2         34.03           0                0                       0                 0                        1                 65.83                    0                        0.00                        0                    0.00                  0          0                 TRUE         \n",
       "6  0          0.00           0                0                       0                 0                        0                  0.00                    0                        0.00                        0                    0.00                  0          0                 TRUE         \n",
       "  unstable_angina MI    MI_date cardiac_arrest stroke hypertension copd  obesity depression diabetes icd_9_pure icd_10_pure catheterization_date angioplasty_date catheterization_doc_NPI angioplasty_doc_NPI diagnosing_doc_NPI year_first_diagnosed time_difference_angio_cath angioplasty_with_cath\n",
       "1 FALSE           FALSE <NA>    FALSE          FALSE   TRUE        FALSE FALSE   FALSE      FALSE    FALSE       TRUE       <NA>                 <NA>                     NA                      NA          1922000801         2018                 NA                         FALSE                \n",
       "2 FALSE           FALSE <NA>    FALSE          FALSE  FALSE        FALSE FALSE   FALSE      FALSE     TRUE      FALSE       <NA>                 <NA>                     NA                      NA          1033107701         2014                 NA                         FALSE                \n",
       "3  TRUE           FALSE <NA>    FALSE          FALSE  FALSE         TRUE FALSE   FALSE      FALSE     TRUE      FALSE       2014-02-14           2014-02-24       1790758688              1114990025          1790758688         2014                 10                         FALSE                \n",
       "4 FALSE           FALSE <NA>    FALSE          FALSE  FALSE        FALSE FALSE   FALSE      FALSE    FALSE       TRUE       2017-10-16           2017-10-16       1609845817              1609845817          1982698973         2017                  0                          TRUE                \n",
       "5  TRUE           FALSE <NA>    FALSE          FALSE   TRUE        FALSE FALSE   FALSE      FALSE    FALSE      FALSE       <NA>                 <NA>                     NA                      NA          1982617072         2015                 NA                         FALSE                \n",
       "6 FALSE           FALSE <NA>    FALSE          FALSE   TRUE        FALSE FALSE   FALSE      FALSE    FALSE       TRUE       <NA>                 <NA>                     NA                      NA          1235147182         2018                 NA                         FALSE                \n",
       "  angioplasty_during_year_after_cath tot_allowed_carrier_cardiology_related office_visit_count_cardiology_related office_visit_cost_carrier_cardiology_related cardiology_visit_count_cardiology_related distinct_clinicians_cardiology_related distinct_cardiologists_cardiology_related\n",
       "1 FALSE                              1098.55                                1                                     104.30                                       1                                          5                                     1                                        \n",
       "2 FALSE                               178.71                                2                                     146.81                                       1                                          4                                     3                                        \n",
       "3  TRUE                              3309.14                                3                                     258.31                                       2                                         13                                     7                                        \n",
       "4  TRUE                              2704.51                                6                                     693.47                                       5                                          4                                     3                                        \n",
       "5 FALSE                              1637.42                                9                                     711.56                                       0                                          3                                     0                                        \n",
       "6 FALSE                               381.15                                4                                     342.90                                       0                                          3                                     0                                        \n",
       "  distinct_primary_care_physicians_cardiology_related distinct_surgeons_cardiology_related distinct_other_specialties_cardiology_related catheterization_count_cardiology_related catheterization_cost_carrier_cardiology_related ecg_count_cardiology_related ecg_cost_carrier_cardiology_related\n",
       "1 0                                                   0                                    4                                             0                                          0.00                                          1                            16.26                              \n",
       "2 1                                                   0                                    0                                             0                                          0.00                                          0                             0.00                              \n",
       "3 2                                                   1                                    3                                             1                                        345.44                                          5                            36.15                              \n",
       "4 1                                                   0                                    0                                             2                                        269.30                                          1                            18.54                              \n",
       "5 1                                                   0                                    2                                             0                                          0.00                                          2                            34.03                              \n",
       "6 1                                                   0                                    2                                             0                                          0.00                                          0                             0.00                              \n",
       "  cardiac_ct_count_cardiology_related cardiac_ct_cost_carrier_cardiology_related cardiac_mri_count_cardiology_related cardiac_mri_cost_carrier_cardiology_related stress_test_count_cardiology_related stress_test_cost_carrier_cardiology_related echocardiography_count_cardiology_related\n",
       "1 0                                   0                                          0                                    0                                           0                                     0.00                                       0                                        \n",
       "2 0                                   0                                          0                                    0                                           0                                     0.00                                       0                                        \n",
       "3 0                                   0                                          0                                    0                                           0                                     0.00                                       1                                        \n",
       "4 0                                   0                                          0                                    0                                           0                                     0.00                                       1                                        \n",
       "5 0                                   0                                          0                                    0                                           1                                    65.83                                       0                                        \n",
       "6 0                                   0                                          0                                    0                                           0                                     0.00                                       0                                        \n",
       "  echocardiography_cost_carrier_cardiology_related angioplasty_count_cardiology_related angioplasty_cost_carrier_cardiology_related CABG_count_cardiology_related CABG_cost_carrier_cardiology_related office_visit_cost_outpatient catheterization_cost_outpatient ecg_cost_outpatient\n",
       "1  0.00                                            0                                       0.00                                     0                             0                                    0                            0.00                              0.00             \n",
       "2  0.00                                            0                                       0.00                                     0                             0                                    0                            0.00                            490.65             \n",
       "3 66.55                                            2                                     991.67                                     0                             0                                    0                            0.00                              0.00             \n",
       "4 68.04                                            4                                    1543.65                                     0                             0                                    0                            0.01                              0.00             \n",
       "5  0.00                                            0                                       0.00                                     0                             0                                    0                            0.00                              0.00             \n",
       "6  0.00                                            0                                       0.00                                     0                             0                                    0                            0.00                              0.00             \n",
       "  cardiac_ct_cost_outpatient cardiac_mri_cost_outpatient stress_test_cost_outpatient echocardiography_cost_outpatient angioplasty_cost_outpatient CABG_cost_outpatient office_visit_cost_outpatient_cardiology_related catheterization_cost_outpatient_cardiology_related\n",
       "1 0                          0                           0                           0                                   0.00                     0                    0                                               0.00                                              \n",
       "2 0                          0                           0                           0                                   0.00                     0                    0                                               0.00                                              \n",
       "3 0                          0                           0                           0                                   0.00                     0                    0                                               0.00                                              \n",
       "4 0                          0                           0                           0                                6621.35                     0                    0                                               0.01                                              \n",
       "5 0                          0                           0                           0                                   0.00                     0                    0                                               0.00                                              \n",
       "6 0                          0                           0                           0                                   0.00                     0                    0                                               0.00                                              \n",
       "  ecg_cost_outpatient_cardiology_related cardiac_ct_cost_outpatient_cardiology_related cardiac_mri_cost_outpatient_cardiology_related stress_test_cost_outpatient_cardiology_related echocardiography_cost_outpatient_cardiology_related angioplasty_cost_outpatient_cardiology_related\n",
       "1   0.0                                  0                                             0                                              0                                              0                                                      0.00                                       \n",
       "2 126.3                                  0                                             0                                              0                                              0                                                      0.00                                       \n",
       "3   0.0                                  0                                             0                                              0                                              0                                                      0.00                                       \n",
       "4   0.0                                  0                                             0                                              0                                              0                                                   6621.35                                       \n",
       "5   0.0                                  0                                             0                                              0                                              0                                                      0.00                                       \n",
       "6   0.0                                  0                                             0                                              0                                              0                                                      0.00                                       \n",
       "  CABG_cost_outpatient_cardiology_related office_visit_cost catheterization_cost ecg_cost cardiac_ct_cost cardiac_mri_cost stress_test_cost echocardiography_cost angioplasty_cost CABG_cost office_visit_cost_cardiology_related catheterization_cost_cardiology_related ecg_cost_cardiology_related\n",
       "1 0                                        209.35             0.00                16.26   0               0                60.06              0.00                   0.00          0         104.30                                 0.00                                   16.26                     \n",
       "2 0                                        869.89             0.00               515.94   0               0                 0.00              0.00                   0.00          0         146.81                                 0.00                                  126.30                     \n",
       "3 0                                       1376.90           345.44               114.88   0               0                 0.00            133.10                 991.67          0         258.31                               345.44                                   36.15                     \n",
       "4 0                                       1191.80           269.31                27.59   0               0                 0.00            595.98                8165.00          0         693.47                               269.31                                   18.54                     \n",
       "5 0                                        855.53             0.00                34.03   0               0                65.83              0.00                   0.00          0         711.56                                 0.00                                   34.03                     \n",
       "6 0                                       1145.16             0.00                 0.00   0               0                 0.00              0.00                   0.00          0         342.90                                 0.00                                    0.00                     \n",
       "  cardiac_ct_cost_cardiology_related cardiac_mri_cost_cardiology_related stress_test_cost_cardiology_related echocardiography_cost_cardiology_related angioplasty_cost_cardiology_related CABG_cost_cardiology_related tot_cheap_prcdr_cost tot_expensive_prcdr_cost\n",
       "1 0                                  0                                    0.00                                0.00                                       0.00                             0                             269.41                 0.00                 \n",
       "2 0                                  0                                    0.00                                0.00                                       0.00                             0                             869.89                 0.00                 \n",
       "3 0                                  0                                    0.00                               66.55                                     991.67                             0                            1510.00              1337.11                 \n",
       "4 0                                  0                                    0.00                               68.04                                    8165.00                             0                            1787.78              8434.31                 \n",
       "5 0                                  0                                   65.83                                0.00                                       0.00                             0                             921.36                 0.00                 \n",
       "6 0                                  0                                    0.00                                0.00                                       0.00                             0                            1145.16                 0.00                 \n",
       "  tot_cheap_prcdr_cost_cardiology_related tot_expensive_prcdr_cost_cardiology_related tot_cheap_prcdr_count tot_expensive_prcdr_count tot_cheap_prcdr_count_cardiology_related tot_expensive_prcdr_count_cardiology_related REFERENCE_YEAR_2013 STATE_CODE_2013 COUNTY_CODE_2013 SEX_CODE_2013\n",
       "1 104.30                                     0.00                                      3                    0                          1                                       0                                            13                  34              240              2            \n",
       "2 146.81                                     0.00                                     12                    0                          2                                       0                                            13                  49               90              1            \n",
       "3 324.86                                  1337.11                                     18                    3                          4                                       3                                            13                  33              740              2            \n",
       "4 761.51                                  8434.31                                     17                    6                          7                                       6                                            13                  21               20              2            \n",
       "5 777.39                                     0.00                                     12                    0                         10                                       0                                            13                  10               70              2            \n",
       "6 342.90                                     0.00                                     12                    0                          4                                       0                                            13                  10              280              2            \n",
       "  RACE_CODE_2013 AGE_2013 ORIG_REASON_FOR_ENTITLEMENT_2013 CURR_REASON_FOR_ENTITLEMENT_2013 ENTITLEMENT_BUY_IN_IND01_2013 ENTITLEMENT_BUY_IN_IND02_2013 ENTITLEMENT_BUY_IN_IND03_2013 ENTITLEMENT_BUY_IN_IND04_2013 ENTITLEMENT_BUY_IN_IND05_2013 ENTITLEMENT_BUY_IN_IND06_2013\n",
       "1 1              77       0                                0                                3                             3                             3                             3                             3                             3                            \n",
       "2 1              76       0                                0                                3                             3                             3                             3                             3                             3                            \n",
       "3 1              76       0                                0                                3                             3                             3                             3                             3                             3                            \n",
       "4 1              76       0                                0                                3                             3                             3                             3                             3                             3                            \n",
       "5 1              76       0                                0                                3                             3                             3                             3                             3                             3                            \n",
       "6 1              76       0                                0                                3                             3                             3                             3                             3                             3                            \n",
       "  ENTITLEMENT_BUY_IN_IND07_2013 ENTITLEMENT_BUY_IN_IND08_2013 ENTITLEMENT_BUY_IN_IND09_2013 ENTITLEMENT_BUY_IN_IND10_2013 ENTITLEMENT_BUY_IN_IND11_2013 ENTITLEMENT_BUY_IN_IND12_2013 HMO_INDICATOR01_2013 HMO_INDICATOR02_2013 HMO_INDICATOR03_2013 HMO_INDICATOR04_2013 HMO_INDICATOR05_2013\n",
       "1 3                             3                             3                             3                             3                             3                             0                    0                    0                    0                    0                   \n",
       "2 3                             3                             3                             3                             3                             3                             0                    0                    0                    0                    0                   \n",
       "3 3                             3                             3                             3                             3                             3                             0                    0                    0                    0                    0                   \n",
       "4 3                             3                             3                             3                             3                             3                             0                    0                    0                    0                    0                   \n",
       "5 3                             3                             3                             3                             3                             3                             0                    0                    0                    0                    0                   \n",
       "6 3                             3                             3                             3                             3                             3                             0                    0                    0                    0                    0                   \n",
       "  HMO_INDICATOR06_2013 HMO_INDICATOR07_2013 HMO_INDICATOR08_2013 HMO_INDICATOR09_2013 HMO_INDICATOR10_2013 ⋯ most_common_primary_care_physician_prp_in_year_before_diagnosis_05_non_exclusive_HCPCS most_common_primary_care_physician_prp_in_year_of_diagnosis_03_non_exclusive_HCPCS\n",
       "1 0                    0                    0                    0                    0                    ⋯ NA                                                                                     NA                                                                                \n",
       "2 0                    0                    0                    0                    0                    ⋯  0                                                                                      0                                                                                \n",
       "3 0                    0                    0                    0                    0                    ⋯  0                                                                                      0                                                                                \n",
       "4 0                    0                    0                    0                    0                    ⋯  0                                                                                      0                                                                                \n",
       "5 0                    0                    0                    0                    0                    ⋯  0                                                                                      0                                                                                \n",
       "6 0                    0                    0                    0                    0                    ⋯  0                                                                                      0                                                                                \n",
       "  most_common_primary_care_physician_prp_in_2013_03_non_exclusive_HCPCS most_common_primary_care_physician_prp_in_year_before_diagnosis_03_non_exclusive_HCPCS most_common_primary_care_physician_avg_in_year_of_diagnosis_non_exclusive_HCPCS\n",
       "1 NA                                                                    NA                                                                                     NA                                                                             \n",
       "2  0                                                                     0                                                                                      0                                                                             \n",
       "3  0                                                                     0                                                                                      0                                                                             \n",
       "4  0                                                                     0                                                                                      0                                                                             \n",
       "5  0                                                                     0                                                                                      0                                                                             \n",
       "6  0                                                                     0                                                                                      0                                                                             \n",
       "  most_common_primary_care_physician_avg_in_2013_non_exclusive_HCPCS most_common_primary_care_physician_avg_in_year_before_diagnosis_non_exclusive_HCPCS most_common_cardiologist_prp_in_year_of_diagnosis_05_non_exclusive_HCPCS most_common_cardiologist_prp_in_2013_05_non_exclusive_HCPCS\n",
       "1          NA                                                        NA                                                                                  0.00000000                                                               0.00000000                                                 \n",
       "2 0.000000000                                                         0                                                                                  1.00000000                                                               1.00000000                                                 \n",
       "3 0.000000000                                                         0                                                                                  0.08333333                                                               0.00000000                                                 \n",
       "4 0.000000000                                                         0                                                                                  0.00000000                                                               0.08333333                                                 \n",
       "5 0.005988024                                                         0                                                                                  0.00000000                                                               0.00000000                                                 \n",
       "6 0.000000000                                                         0                                                                                  0.00000000                                                               0.00000000                                                 \n",
       "  most_common_cardiologist_prp_in_year_before_diagnosis_05_non_exclusive_HCPCS most_common_cardiologist_prp_in_year_of_diagnosis_03_non_exclusive_HCPCS most_common_cardiologist_prp_in_2013_03_non_exclusive_HCPCS most_common_cardiologist_prp_in_year_before_diagnosis_03_non_exclusive_HCPCS\n",
       "1 0                                                                            0.00000000                                                               0.0000000                                                   0.0000000                                                                   \n",
       "2 1                                                                            1.00000000                                                               1.0000000                                                   1.0000000                                                                   \n",
       "3 0                                                                            0.08333333                                                               0.2500000                                                   0.1666667                                                                   \n",
       "4 0                                                                            0.00000000                                                               0.2500000                                                   0.0000000                                                                   \n",
       "5 0                                                                            0.00000000                                                               0.0000000                                                   0.0000000                                                                   \n",
       "6 0                                                                            0.08333333                                                               0.1666667                                                   0.1666667                                                                   \n",
       "  most_common_cardiologist_avg_in_year_of_diagnosis_non_exclusive_HCPCS most_common_cardiologist_avg_in_2013_non_exclusive_HCPCS most_common_cardiologist_avg_in_year_before_diagnosis_non_exclusive_HCPCS diagnosing_doc_prp_in_year_of_diagnosis_05_non_exclusive_HCPCS\n",
       "1 0.049250535                                                           0.06811989                                               0.07415254                                                                0.0000000                                                     \n",
       "2 0.860000000                                                           0.84375000                                               0.77906977                                                                0.0000000                                                     \n",
       "3 0.080310881                                                           0.15428571                                               0.10191083                                                                0.1666667                                                     \n",
       "4 0.027397260                                                           0.19200000                                               0.07482993                                                                0.1666667                                                     \n",
       "5 0.006329114                                                           0.02051282                                               0.01492537                                                                0.0000000                                                     \n",
       "6 0.093220339                                                           0.15957447                                               0.07826087                                                                0.0000000                                                     \n",
       "  diagnosing_doc_prp_in_2013_05_non_exclusive_HCPCS diagnosing_doc_prp_in_year_before_diagnosis_05_non_exclusive_HCPCS diagnosing_doc_prp_in_year_of_diagnosis_03_non_exclusive_HCPCS diagnosing_doc_prp_in_2013_03_non_exclusive_HCPCS diagnosing_doc_prp_in_year_before_diagnosis_03_non_exclusive_HCPCS\n",
       "1 0                                                 0.00                                                               0.0000000                                                      0.00                                              0.0000000                                                         \n",
       "2 0                                                 0.00                                                               0.0000000                                                      0.00                                              0.0000000                                                         \n",
       "3 0                                                 0.00                                                               0.1666667                                                      0.00                                              0.0000000                                                         \n",
       "4 0                                                 0.25                                                               0.5000000                                                      0.25                                              0.5833333                                                         \n",
       "5 0                                                 0.00                                                               0.0000000                                                      0.00                                              0.0000000                                                         \n",
       "6 0                                                 0.00                                                               0.0000000                                                      0.00                                              0.0000000                                                         \n",
       "  diagnosing_doc_avg_in_year_of_diagnosis_non_exclusive_HCPCS diagnosing_doc_avg_in_2013_non_exclusive_HCPCS diagnosing_doc_avg_in_year_before_diagnosis_non_exclusive_HCPCS catheterization_doc_prp_in_year_of_diagnosis_05_non_exclusive_HCPCS catheterization_doc_prp_in_2013_05_non_exclusive_HCPCS\n",
       "1 0.049250535                                                 0.06811989                                     0.07415254                                                             NA                                                            NA                                                   \n",
       "2 0.000000000                                                 0.00000000                                     0.00000000                                                             NA                                                            NA                                                   \n",
       "3 0.115789474                                                 0.04214559                                     0.04489796                                                      0.1666667                                                           0.0                                                   \n",
       "4 0.314285714                                                 0.19745223                                     0.31343284                                                      0.5833333                                                           0.5                                                   \n",
       "5 0.006329114                                                 0.02051282                                     0.01492537                                                             NA                                                            NA                                                   \n",
       "6 0.000000000                                                 0.00000000                                     0.00000000                                                             NA                                                            NA                                                   \n",
       "  catheterization_doc_prp_in_year_before_diagnosis_05_non_exclusive_HCPCS catheterization_doc_prp_in_year_of_diagnosis_03_non_exclusive_HCPCS catheterization_doc_prp_in_2013_03_non_exclusive_HCPCS catheterization_doc_prp_in_year_before_diagnosis_03_non_exclusive_HCPCS\n",
       "1        NA                                                                      NA                                                                  NA                                                NA                                                                   \n",
       "2        NA                                                                      NA                                                                  NA                                                NA                                                                   \n",
       "3 0.0000000                                                               0.1666667                                                           0.0000000                                              0.00                                                                   \n",
       "4 0.5833333                                                               0.6666667                                                           0.6666667                                              0.75                                                                   \n",
       "5        NA                                                                      NA                                                                  NA                                                NA                                                                   \n",
       "6        NA                                                                      NA                                                                  NA                                                NA                                                                   \n",
       "  catheterization_doc_avg_in_year_of_diagnosis_non_exclusive_HCPCS catheterization_doc_avg_in_2013_non_exclusive_HCPCS catheterization_doc_avg_in_year_before_diagnosis_non_exclusive_HCPCS angioplasty_doc_prp_in_year_of_diagnosis_05_non_exclusive_HCPCS\n",
       "1        NA                                                                NA                                                  NA                                                                  NA                                                      \n",
       "2        NA                                                                NA                                                  NA                                                                  NA                                                      \n",
       "3 0.1157895                                                        0.04214559                                          0.04489796                                                           0.0000000                                                      \n",
       "4 0.4878049                                                        0.44444444                                          0.50000000                                                           0.5833333                                                      \n",
       "5        NA                                                                NA                                                  NA                                                                  NA                                                      \n",
       "6        NA                                                                NA                                                  NA                                                                  NA                                                      \n",
       "  angioplasty_doc_prp_in_2013_05_non_exclusive_HCPCS angioplasty_doc_prp_in_year_before_diagnosis_05_non_exclusive_HCPCS angioplasty_doc_prp_in_year_of_diagnosis_03_non_exclusive_HCPCS angioplasty_doc_prp_in_2013_03_non_exclusive_HCPCS\n",
       "1  NA                                                       NA                                                                  NA                                                              NA                                         \n",
       "2  NA                                                       NA                                                                  NA                                                              NA                                         \n",
       "3 0.0                                                0.0000000                                                           0.1666667                                                       0.0000000                                         \n",
       "4 0.5                                                0.5833333                                                           0.6666667                                                       0.6666667                                         \n",
       "5  NA                                                       NA                                                                  NA                                                              NA                                         \n",
       "6  NA                                                       NA                                                                  NA                                                              NA                                         \n",
       "  angioplasty_doc_prp_in_year_before_diagnosis_03_non_exclusive_HCPCS angioplasty_doc_avg_in_year_of_diagnosis_non_exclusive_HCPCS angioplasty_doc_avg_in_2013_non_exclusive_HCPCS angioplasty_doc_avg_in_year_before_diagnosis_non_exclusive_HCPCS\n",
       "1   NA                                                                       NA                                                           NA                                             NA                                                        \n",
       "2   NA                                                                       NA                                                           NA                                             NA                                                        \n",
       "3 0.00                                                                0.0776699                                                    0.1003521                                       0.118705                                                        \n",
       "4 0.75                                                                0.4878049                                                    0.4444444                                       0.500000                                                        \n",
       "5   NA                                                                       NA                                                           NA                                             NA                                                        \n",
       "6   NA                                                                       NA                                                           NA                                             NA                                                        \n",
       "  most_common_physician_2013_prp_in_year_of_diagnosis_05_non_exclusive_HCPCS most_common_physician_2013_prp_in_2013_05_non_exclusive_HCPCS most_common_physician_2013_prp_in_year_before_diagnosis_05_non_exclusive_HCPCS most_common_physician_2013_prp_in_year_of_diagnosis_03_non_exclusive_HCPCS\n",
       "1 0.00                                                                       0.08333333                                                    0.0000000                                                                      0.00                                                                      \n",
       "2 0.00                                                                       0.00000000                                                    0.0000000                                                                      0.00                                                                      \n",
       "3 0.25                                                                       0.45454545                                                    0.4166667                                                                      0.25                                                                      \n",
       "4 0.00                                                                       0.00000000                                                    0.0000000                                                                      0.00                                                                      \n",
       "5 0.00                                                                       0.00000000                                                    0.0000000                                                                      0.00                                                                      \n",
       "6 0.00                                                                       0.00000000                                                    0.0000000                                                                      0.00                                                                      \n",
       "  most_common_physician_2013_prp_in_2013_03_non_exclusive_HCPCS most_common_physician_2013_prp_in_year_before_diagnosis_03_non_exclusive_HCPCS most_common_physician_2013_avg_in_year_of_diagnosis_non_exclusive_HCPCS most_common_physician_2013_avg_in_2013_non_exclusive_HCPCS\n",
       "1 0.1666667                                                     0.0000000                                                                      0.0000000                                                               0.1264368                                                 \n",
       "2 0.0000000                                                     0.0000000                                                                      0.0000000                                                               0.0000000                                                 \n",
       "3 0.6363636                                                     0.5833333                                                                      0.3769231                                                               0.4310345                                                 \n",
       "4 0.0000000                                                     0.0000000                                                                      0.0000000                                                               0.0000000                                                 \n",
       "5 0.0000000                                                     0.0000000                                                                      0.0000000                                                               0.0000000                                                 \n",
       "6 0.0000000                                                     0.0000000                                                                      0.0000000                                                               0.0000000                                                 \n",
       "  most_common_physician_2013_avg_in_year_before_diagnosis_non_exclusive_HCPCS most_common_primary_care_physician_2013_prp_in_year_of_diagnosis_05_non_exclusive_HCPCS most_common_primary_care_physician_2013_prp_in_2013_05_non_exclusive_HCPCS\n",
       "1 0.0000000                                                                    0                                                                                      0.08333333                                                                \n",
       "2 0.0000000                                                                    0                                                                                      0.00000000                                                                \n",
       "3 0.3521127                                                                    0                                                                                      0.00000000                                                                \n",
       "4 0.0000000                                                                    0                                                                                      0.00000000                                                                \n",
       "5 0.0000000                                                                   NA                                                                                              NA                                                                \n",
       "6 0.0000000                                                                    0                                                                                      0.00000000                                                                \n",
       "  most_common_primary_care_physician_2013_prp_in_year_before_diagnosis_05_non_exclusive_HCPCS most_common_primary_care_physician_2013_prp_in_year_of_diagnosis_03_non_exclusive_HCPCS most_common_primary_care_physician_2013_prp_in_2013_03_non_exclusive_HCPCS\n",
       "1  0                                                                                           0                                                                                      0.1666667                                                                 \n",
       "2  0                                                                                           0                                                                                      0.0000000                                                                 \n",
       "3  0                                                                                           0                                                                                      0.0000000                                                                 \n",
       "4  0                                                                                           0                                                                                      0.0000000                                                                 \n",
       "5 NA                                                                                          NA                                                                                             NA                                                                 \n",
       "6  0                                                                                           0                                                                                      0.0000000                                                                 \n",
       "  most_common_primary_care_physician_2013_prp_in_year_before_diagnosis_03_non_exclusive_HCPCS most_common_primary_care_physician_2013_avg_in_year_of_diagnosis_non_exclusive_HCPCS most_common_primary_care_physician_2013_avg_in_2013_non_exclusive_HCPCS\n",
       "1  0                                                                                           0                                                                                   0.1264368                                                              \n",
       "2  0                                                                                           0                                                                                   0.0000000                                                              \n",
       "3  0                                                                                           0                                                                                   0.0000000                                                              \n",
       "4  0                                                                                           0                                                                                   0.0000000                                                              \n",
       "5 NA                                                                                          NA                                                                                          NA                                                              \n",
       "6  0                                                                                           0                                                                                   0.0000000                                                              \n",
       "  most_common_primary_care_physician_2013_avg_in_year_before_diagnosis_non_exclusive_HCPCS most_common_cardiologist_2013_prp_in_year_of_diagnosis_05_non_exclusive_HCPCS most_common_cardiologist_2013_prp_in_2013_05_non_exclusive_HCPCS\n",
       "1  0                                                                                       NA                                                                                    NA                                                      \n",
       "2  0                                                                                        1                                                                            1.00000000                                                      \n",
       "3  0                                                                                       NA                                                                                    NA                                                      \n",
       "4  0                                                                                        0                                                                            0.08333333                                                      \n",
       "5 NA                                                                                       NA                                                                                    NA                                                      \n",
       "6  0                                                                                       NA                                                                                    NA                                                      \n",
       "  most_common_cardiologist_2013_prp_in_year_before_diagnosis_05_non_exclusive_HCPCS most_common_cardiologist_2013_prp_in_year_of_diagnosis_03_non_exclusive_HCPCS most_common_cardiologist_2013_prp_in_2013_03_non_exclusive_HCPCS\n",
       "1 NA                                                                                NA                                                                              NA                                                            \n",
       "2  1                                                                                 1                                                                            1.00                                                            \n",
       "3 NA                                                                                NA                                                                              NA                                                            \n",
       "4  0                                                                                 0                                                                            0.25                                                            \n",
       "5 NA                                                                                NA                                                                              NA                                                            \n",
       "6 NA                                                                                NA                                                                              NA                                                            \n",
       "  most_common_cardiologist_2013_prp_in_year_before_diagnosis_03_non_exclusive_HCPCS most_common_cardiologist_2013_avg_in_year_of_diagnosis_non_exclusive_HCPCS most_common_cardiologist_2013_avg_in_2013_non_exclusive_HCPCS most_common_cardiologist_2013_avg_in_year_before_diagnosis_non_exclusive_HCPCS\n",
       "1 NA                                                                                        NA                                                                      NA                                                               NA                                                                    \n",
       "2  1                                                                                0.86000000                                                                 0.84375                                                       0.77906977                                                                    \n",
       "3 NA                                                                                        NA                                                                      NA                                                               NA                                                                    \n",
       "4  0                                                                                0.02739726                                                                 0.19200                                                       0.07482993                                                                    \n",
       "5 NA                                                                                        NA                                                                      NA                                                               NA                                                                    \n",
       "6 NA                                                                                        NA                                                                      NA                                                               NA                                                                    \n",
       "  RUCC_2013 State.Code census_region Division           race  sex    age_group urban cardiologist_gndr cardiologist_grd_yr cardiologist_experience_at_diagnosis viclaims vikeyword tin1_nu    tin1_legal_name                           tin2_nu    tin2_legal_name                        name_last  \n",
       "1 2         LA         South         West South Central White Female 75-84     TRUE  M                 1991                27                                   0        0         NU00134539 CARDIOLOGY SPECIALISTS OF ACADIANA, LLC   NU00359047 ABBEVILLE GENERAL HOSPITAL             LELEUX     \n",
       "2 2         VA         South         South Atlantic     White Male   75-84     TRUE  NA                  NA                NA                                   1        0         NU00091211 CENTRA MEDICAL GROUP LLC                  NU00293513 CENTRA HEALTH, INC                     BROWN      \n",
       "3 3         NY         Northeast     Middle Atlantic    White Female 75-84     TRUE  M                 1995                19                                   0        0         NU00309843 NUVANCE HEALTH MEDICAL PRACTICE, PC       NA         NA                                     HAMMOUD    \n",
       "4 1         MD         South         South Atlantic     White Female 75-84     TRUE  M                 1980                37                                   0        1         NU00286144 JOHNS HOPKINS UNIVERSITY                  NU00291537 GREATER BALTIMORE MEDICAL CENTER, INC. PORTERFIELD\n",
       "5 3         FL         South         South Atlantic     White Female 75-84     TRUE  M                 1986                29                                   0        0         NU00350972 CHARLOTTE HEART AND VASCULAR INSTITUTE PA NU00333835 SRA VENTURES INC                       CONNELLY   \n",
       "6 1         FL         South         South Atlantic     White Female 75-84     TRUE  F                 1990                28                                   0        0         NU00331617 BAY AREA CARDIOLOGY ASSOC. PA             NA         NA                                     KHAN       \n",
       "  name_first name_middle SPEC_PRIM_1_NAME SPEC_PRIM_1 SPEC_BROAD SEX SPEC_PRIM_2 SPEC_PRIM_2_NAME SPEC_SOURCE SPEC_SOURCE_HOSP POS_OFFICE POS_INPAT  POS_OPD    POS_ER       POS_NURSING  POS_ASC POS_RESID POS_RETAIL POS_URGENT POS_OTHER STATE STATE_MULTI CBSA_TYPE CBSA_CD\n",
       "1 JON        DAMIAN      Cardiology       06          2          M   NA          NONE             1           NA               0.8810704  0.05155199 0.06513618 0.0022413910 0.0000000000 0       0         0          0          0         LA    0           1         29180  \n",
       "2 WILLIAM    NA          Cardiology       06          2          M   NA          NONE             1           NA               0.1854909  0.19504778 0.61946134 0.0000000000 0.0000000000 0       0         0          0          0         VA    0           1         31340  \n",
       "3 ALI        NA          Cardiology       06          2          M   NA          NONE             1           NA               0.4856055  0.32505712 0.10555979 0.0837776090 0.0000000000 0       0         0          0          0         NY    0           1         35620  \n",
       "4 JAMES      K           Cardiology       06          2          M   NA          NONE             1           NA               0.7182977  0.22207820 0.04385396 0.0153380860 0.0004320588 0       0         0          0          0         MD    0           1         12580  \n",
       "5 TERENCE    P           Cardiology       06          2          M   NA          NONE             1           NA               0.7951728  0.16314956 0.04154577 0.0001318913 0.0000000000 0       0         0          0          0         FL    0           1         39460  \n",
       "6 TEHREEN    NA          Cardiology       06          2          F   NA          NONE             1           NA               0.6941682  0.22830018 0.06735985 0.0101717900 0.0000000000 0       0         0          0          0         FL    0           1         45300  \n",
       "  CBSA_NAME                             CBSA_MULTI NPI_SRVC_LINES NPI_ALLOWED_AMT NPI_UNQ_BENES TIN1_SRVC_MONTH TIN1_SRVC_LINES TIN1_ALLOWED_AMT TIN1_UNQ_BENES TIN2_SRVC_MONTH TIN2_SRVC_LINES TIN2_ALLOWED_AMT TIN2_UNQ_BENES BIRTH_YR lns_office lns_opd\n",
       "1 Lafayette, LA                         0          14723          1811872.4       2866          111111111111    14396           1788733.8        2754           111111111111    327             23138.52         307            1967     12972       959   \n",
       "2 Lynchburg, VA                         0           2302           163198.9       1109          111111111111     2297            163157.3        1105           000001000000      5                41.65           5            1948       427      1426   \n",
       "3 New York-Newark-Jersey City, NY-NJ-PA 0           6565           428347.0       2519          111111111111     6565            428347.0        2519           NA               NA                   NA          NA            1969      3188       693   \n",
       "4 Baltimore-Columbia-Towson, MD         0           4629           418995.5       2323          111111111111     3860            411640.6        1814           111111111111    769              7354.90         674            1954      3325       203   \n",
       "5 Punta Gorda, FL                       1           7582          1252974.0       1892          111111111111     7559           1247715.9        1873           001101010111     23              5258.12          19            1959      6029       315   \n",
       "6 Tampa-St. Petersburg-Clearwater, FL   0           4424           446058.3       2035          111111111111     4424            446058.3        2035           NA               NA                   NA          NA            1964      3071       298   \n",
       "  most_common_cardiologist_integrated_in_year_of_diagnosis tot_allowed_carrier_same_tin tot_allowed_carrier_not_same_tin distinct_clinicians_same_tin distinct_cardiologists_same_tin distinct_clinicians_not_same_tin distinct_cardiologists_not_same_tin tot_allowed_carrier_same_tin_cardiology_related\n",
       "1 FALSE                                                    1345.60                        819.36                          1                           1                                4                               0                                    310.35                                        \n",
       "2  TRUE                                                     899.06                       1250.50                         13                           4                                9                               0                                    106.90                                        \n",
       "3 FALSE                                                    2848.26                      14013.25                         12                           3                               37                               6                                   1035.17                                        \n",
       "4  TRUE                                                    1318.46                      11859.97                          2                           1                               19                               3                                    367.64                                        \n",
       "5 FALSE                                                    1268.06                       5140.90                          3                           0                               12                               0                                   1158.92                                        \n",
       "6 FALSE                                                     233.44                       1382.23                          2                           1                                3                               0                                    124.40                                        \n",
       "  tot_allowed_carrier_not_same_tin_cardiology_related tot_allowed_outpatient_same_tin tot_allowed_outpatient_not_same_tin tot_allowed_inpatient_same_tin tot_allowed_inpatient_not_same_tin tot_allowed_outpatient_same_tin_cardiology_related tot_allowed_outpatient_not_same_tin_cardiology_related\n",
       "1  788.20                                             NA                                     NA                           NA                                    NA                          NA                                                       NA                                              \n",
       "2   71.81                                              0                                6337.03                           NA                                    NA                           0                                                   372.60                                              \n",
       "3 2273.97                                              0                              176109.78                            0                             311264.38                          NA                                                       NA                                              \n",
       "4 2336.87                                              0                               17704.68                            0                              13915.48                           0                                                 12305.11                                              \n",
       "5  478.50                                              0                                1037.85                           NA                                    NA                          NA                                                       NA                                              \n",
       "6  256.75                                             NA                                     NA                           NA                                    NA                          NA                                                       NA                                              \n",
       "  tot_allowed_inpatient_same_tin_cardiology_related tot_allowed_inpatient_not_same_tin_cardiology_related total_exp_same_tin total_exp_same_tin_cardiology_related total_exp_not_same_tin total_exp_not_same_tin_cardiology_related year_before_diagnosis\n",
       "1 NA                                                      NA                                              1345.60             310.35                                  819.36                788.20                                  2017                 \n",
       "2 NA                                                      NA                                               899.06             106.90                                 7587.53                444.41                                  2013                 \n",
       "3 NA                                                      NA                                              2848.26            1035.17                               501387.41               2273.97                                  2013                 \n",
       "4  0                                                13915.48                                              1318.46             367.64                                43480.13              28557.46                                  2016                 \n",
       "5 NA                                                      NA                                              1268.06            1158.92                                 6178.75                478.50                                  2014                 \n",
       "6 NA                                                      NA                                               233.44             124.40                                 1382.23                256.75                                  2017                 "
      ]
     },
     "metadata": {},
     "output_type": "display_data"
    }
   ],
   "source": [
    "yearly_calculations[,year_before_diagnosis:=year_first_diagnosed-1]\n",
    "head(yearly_calculations)"
   ]
  },
  {
   "cell_type": "code",
   "execution_count": 16,
   "id": "672f7124-120d-488f-8aa5-994f7436708f",
   "metadata": {
    "tags": []
   },
   "outputs": [],
   "source": [
    "yearly_calculations_with_diag=left_join(yearly_calculations,hcc_diag_all_years,by=c(\"DESY_SORT_KEY\"=\"MBI\",\"year_before_diagnosis\"=\"hccyear\" ))%>%as.data.table()"
   ]
  },
  {
   "cell_type": "code",
   "execution_count": 20,
   "id": "9fe4b562-198d-4fb3-aa37-3a4587f9e979",
   "metadata": {},
   "outputs": [],
   "source": [
    "yearly_calculations_with_diag=yearly_calculations_with_diag[,-c(\"...1\",\"X\")]"
   ]
  },
  {
   "cell_type": "code",
   "execution_count": 21,
   "id": "63257349-ba24-4d3b-ba95-582c2a2c4f28",
   "metadata": {},
   "outputs": [
    {
     "data": {
      "text/html": [
       "<table class=\"dataframe\">\n",
       "<caption>A data.table: 6 × 683</caption>\n",
       "<thead>\n",
       "\t<tr><th scope=col>DESY_SORT_KEY</th><th scope=col>first_diagnosis</th><th scope=col>tot_allowed_carrier</th><th scope=col>office_visit_count</th><th scope=col>office_visit_cost_carrier</th><th scope=col>cardiology_visit_count</th><th scope=col>distinct_clinicians</th><th scope=col>distinct_cardiologists</th><th scope=col>distinct_primary_care_physicians</th><th scope=col>distinct_surgeons</th><th scope=col>distinct_other_specialties</th><th scope=col>catheterization_count</th><th scope=col>catheterization_cost_carrier</th><th scope=col>ecg_count</th><th scope=col>ecg_cost_carrier</th><th scope=col>cardiac_ct_count</th><th scope=col>cardiac_ct_cost_carrier</th><th scope=col>cardiac_mri_count</th><th scope=col>cardiac_mri_cost_carrier</th><th scope=col>stress_test_count</th><th scope=col>stress_test_cost_carrier</th><th scope=col>echocardiography_count</th><th scope=col>echocardiography_cost_carrier</th><th scope=col>angioplasty_count</th><th scope=col>angioplasty_cost_carrier</th><th scope=col>CABG_count</th><th scope=col>CABG_cost_carrier</th><th scope=col>stable_angina</th><th scope=col>unstable_angina</th><th scope=col>MI</th><th scope=col>MI_date</th><th scope=col>cardiac_arrest</th><th scope=col>stroke</th><th scope=col>hypertension</th><th scope=col>copd</th><th scope=col>obesity</th><th scope=col>depression</th><th scope=col>diabetes</th><th scope=col>icd_9_pure</th><th scope=col>icd_10_pure</th><th scope=col>catheterization_date</th><th scope=col>angioplasty_date</th><th scope=col>catheterization_doc_NPI</th><th scope=col>angioplasty_doc_NPI</th><th scope=col>diagnosing_doc_NPI</th><th scope=col>year_first_diagnosed</th><th scope=col>time_difference_angio_cath</th><th scope=col>angioplasty_with_cath</th><th scope=col>angioplasty_during_year_after_cath</th><th scope=col>tot_allowed_carrier_cardiology_related</th><th scope=col>office_visit_count_cardiology_related</th><th scope=col>office_visit_cost_carrier_cardiology_related</th><th scope=col>cardiology_visit_count_cardiology_related</th><th scope=col>distinct_clinicians_cardiology_related</th><th scope=col>distinct_cardiologists_cardiology_related</th><th scope=col>distinct_primary_care_physicians_cardiology_related</th><th scope=col>distinct_surgeons_cardiology_related</th><th scope=col>distinct_other_specialties_cardiology_related</th><th scope=col>catheterization_count_cardiology_related</th><th scope=col>catheterization_cost_carrier_cardiology_related</th><th scope=col>ecg_count_cardiology_related</th><th scope=col>ecg_cost_carrier_cardiology_related</th><th scope=col>cardiac_ct_count_cardiology_related</th><th scope=col>cardiac_ct_cost_carrier_cardiology_related</th><th scope=col>cardiac_mri_count_cardiology_related</th><th scope=col>cardiac_mri_cost_carrier_cardiology_related</th><th scope=col>stress_test_count_cardiology_related</th><th scope=col>stress_test_cost_carrier_cardiology_related</th><th scope=col>echocardiography_count_cardiology_related</th><th scope=col>echocardiography_cost_carrier_cardiology_related</th><th scope=col>angioplasty_count_cardiology_related</th><th scope=col>angioplasty_cost_carrier_cardiology_related</th><th scope=col>CABG_count_cardiology_related</th><th scope=col>CABG_cost_carrier_cardiology_related</th><th scope=col>office_visit_cost_outpatient</th><th scope=col>catheterization_cost_outpatient</th><th scope=col>ecg_cost_outpatient</th><th scope=col>cardiac_ct_cost_outpatient</th><th scope=col>cardiac_mri_cost_outpatient</th><th scope=col>stress_test_cost_outpatient</th><th scope=col>echocardiography_cost_outpatient</th><th scope=col>angioplasty_cost_outpatient</th><th scope=col>CABG_cost_outpatient</th><th scope=col>office_visit_cost_outpatient_cardiology_related</th><th scope=col>catheterization_cost_outpatient_cardiology_related</th><th scope=col>ecg_cost_outpatient_cardiology_related</th><th scope=col>cardiac_ct_cost_outpatient_cardiology_related</th><th scope=col>cardiac_mri_cost_outpatient_cardiology_related</th><th scope=col>stress_test_cost_outpatient_cardiology_related</th><th scope=col>echocardiography_cost_outpatient_cardiology_related</th><th scope=col>angioplasty_cost_outpatient_cardiology_related</th><th scope=col>CABG_cost_outpatient_cardiology_related</th><th scope=col>office_visit_cost</th><th scope=col>catheterization_cost</th><th scope=col>ecg_cost</th><th scope=col>cardiac_ct_cost</th><th scope=col>cardiac_mri_cost</th><th scope=col>stress_test_cost</th><th scope=col>echocardiography_cost</th><th scope=col>angioplasty_cost</th><th scope=col>CABG_cost</th><th scope=col>office_visit_cost_cardiology_related</th><th scope=col>catheterization_cost_cardiology_related</th><th scope=col>ecg_cost_cardiology_related</th><th scope=col>cardiac_ct_cost_cardiology_related</th><th scope=col>cardiac_mri_cost_cardiology_related</th><th scope=col>stress_test_cost_cardiology_related</th><th scope=col>echocardiography_cost_cardiology_related</th><th scope=col>angioplasty_cost_cardiology_related</th><th scope=col>CABG_cost_cardiology_related</th><th scope=col>tot_cheap_prcdr_cost</th><th scope=col>tot_expensive_prcdr_cost</th><th scope=col>tot_cheap_prcdr_cost_cardiology_related</th><th scope=col>tot_expensive_prcdr_cost_cardiology_related</th><th scope=col>tot_cheap_prcdr_count</th><th scope=col>tot_expensive_prcdr_count</th><th scope=col>tot_cheap_prcdr_count_cardiology_related</th><th scope=col>tot_expensive_prcdr_count_cardiology_related</th><th scope=col>REFERENCE_YEAR_2013</th><th scope=col>STATE_CODE_2013</th><th scope=col>COUNTY_CODE_2013</th><th scope=col>SEX_CODE_2013</th><th scope=col>RACE_CODE_2013</th><th scope=col>AGE_2013</th><th scope=col>ORIG_REASON_FOR_ENTITLEMENT_2013</th><th scope=col>CURR_REASON_FOR_ENTITLEMENT_2013</th><th scope=col>ENTITLEMENT_BUY_IN_IND01_2013</th><th scope=col>ENTITLEMENT_BUY_IN_IND02_2013</th><th scope=col>ENTITLEMENT_BUY_IN_IND03_2013</th><th scope=col>ENTITLEMENT_BUY_IN_IND04_2013</th><th scope=col>ENTITLEMENT_BUY_IN_IND05_2013</th><th scope=col>ENTITLEMENT_BUY_IN_IND06_2013</th><th scope=col>ENTITLEMENT_BUY_IN_IND07_2013</th><th scope=col>ENTITLEMENT_BUY_IN_IND08_2013</th><th scope=col>ENTITLEMENT_BUY_IN_IND09_2013</th><th scope=col>ENTITLEMENT_BUY_IN_IND10_2013</th><th scope=col>ENTITLEMENT_BUY_IN_IND11_2013</th><th scope=col>ENTITLEMENT_BUY_IN_IND12_2013</th><th scope=col>HMO_INDICATOR01_2013</th><th scope=col>HMO_INDICATOR02_2013</th><th scope=col>HMO_INDICATOR03_2013</th><th scope=col>HMO_INDICATOR04_2013</th><th scope=col>HMO_INDICATOR05_2013</th><th scope=col>HMO_INDICATOR06_2013</th><th scope=col>HMO_INDICATOR07_2013</th><th scope=col>HMO_INDICATOR08_2013</th><th scope=col>HMO_INDICATOR09_2013</th><th scope=col>HMO_INDICATOR10_2013</th><th scope=col>HMO_INDICATOR11_2013</th><th scope=col>HMO_INDICATOR12_2013</th><th scope=col>⋯</th><th scope=col>name_last</th><th scope=col>name_first</th><th scope=col>name_middle</th><th scope=col>SPEC_PRIM_1_NAME</th><th scope=col>SPEC_PRIM_1</th><th scope=col>SPEC_BROAD</th><th scope=col>SEX</th><th scope=col>SPEC_PRIM_2</th><th scope=col>SPEC_PRIM_2_NAME</th><th scope=col>SPEC_SOURCE</th><th scope=col>SPEC_SOURCE_HOSP</th><th scope=col>POS_OFFICE</th><th scope=col>POS_INPAT</th><th scope=col>POS_OPD</th><th scope=col>POS_ER</th><th scope=col>POS_NURSING</th><th scope=col>POS_ASC</th><th scope=col>POS_RESID</th><th scope=col>POS_RETAIL</th><th scope=col>POS_URGENT</th><th scope=col>POS_OTHER</th><th scope=col>STATE</th><th scope=col>STATE_MULTI</th><th scope=col>CBSA_TYPE</th><th scope=col>CBSA_CD</th><th scope=col>CBSA_NAME</th><th scope=col>CBSA_MULTI</th><th scope=col>NPI_SRVC_LINES</th><th scope=col>NPI_ALLOWED_AMT</th><th scope=col>NPI_UNQ_BENES</th><th scope=col>TIN1_SRVC_MONTH</th><th scope=col>TIN1_SRVC_LINES</th><th scope=col>TIN1_ALLOWED_AMT</th><th scope=col>TIN1_UNQ_BENES</th><th scope=col>TIN2_SRVC_MONTH</th><th scope=col>TIN2_SRVC_LINES</th><th scope=col>TIN2_ALLOWED_AMT</th><th scope=col>TIN2_UNQ_BENES</th><th scope=col>BIRTH_YR</th><th scope=col>lns_office</th><th scope=col>lns_opd</th><th scope=col>most_common_cardiologist_integrated_in_year_of_diagnosis</th><th scope=col>tot_allowed_carrier_same_tin</th><th scope=col>tot_allowed_carrier_not_same_tin</th><th scope=col>distinct_clinicians_same_tin</th><th scope=col>distinct_cardiologists_same_tin</th><th scope=col>distinct_clinicians_not_same_tin</th><th scope=col>distinct_cardiologists_not_same_tin</th><th scope=col>tot_allowed_carrier_same_tin_cardiology_related</th><th scope=col>tot_allowed_carrier_not_same_tin_cardiology_related</th><th scope=col>tot_allowed_outpatient_same_tin</th><th scope=col>tot_allowed_outpatient_not_same_tin</th><th scope=col>tot_allowed_inpatient_same_tin</th><th scope=col>tot_allowed_inpatient_not_same_tin</th><th scope=col>tot_allowed_outpatient_same_tin_cardiology_related</th><th scope=col>tot_allowed_outpatient_not_same_tin_cardiology_related</th><th scope=col>tot_allowed_inpatient_same_tin_cardiology_related</th><th scope=col>tot_allowed_inpatient_not_same_tin_cardiology_related</th><th scope=col>total_exp_same_tin</th><th scope=col>total_exp_same_tin_cardiology_related</th><th scope=col>total_exp_not_same_tin</th><th scope=col>total_exp_not_same_tin_cardiology_related</th><th scope=col>year_before_diagnosis</th><th scope=col>hcc1</th><th scope=col>hcc2</th><th scope=col>hcc6</th><th scope=col>hcc8</th><th scope=col>hcc9</th><th scope=col>hcc10</th><th scope=col>hcc11</th><th scope=col>hcc12</th><th scope=col>hcc17</th><th scope=col>hcc18</th><th scope=col>hcc19</th><th scope=col>hcc21</th><th scope=col>hcc22</th><th scope=col>hcc23</th><th scope=col>hcc27</th><th scope=col>hcc28</th><th scope=col>hcc29</th><th scope=col>hcc33</th><th scope=col>hcc34</th><th scope=col>hcc35</th><th scope=col>hcc39</th><th scope=col>hcc40</th><th scope=col>hcc46</th><th scope=col>hcc47</th><th scope=col>hcc48</th><th scope=col>hcc51</th><th scope=col>hcc52</th><th scope=col>hcc54</th><th scope=col>hcc55</th><th scope=col>hcc57</th><th scope=col>hcc58</th><th scope=col>hcc70</th><th scope=col>hcc71</th><th scope=col>hcc72</th><th scope=col>hcc73</th><th scope=col>hcc74</th><th scope=col>hcc75</th><th scope=col>hcc76</th><th scope=col>hcc77</th><th scope=col>hcc78</th><th scope=col>hcc79</th><th scope=col>hcc80</th><th scope=col>hcc82</th><th scope=col>hcc83</th><th scope=col>hcc84</th><th scope=col>hcc85</th><th scope=col>hcc86</th><th scope=col>hcc87</th><th scope=col>hcc88</th><th scope=col>hcc96</th><th scope=col>hcc99</th><th scope=col>hcc100</th><th scope=col>hcc103</th><th scope=col>hcc104</th><th scope=col>hcc106</th><th scope=col>hcc107</th><th scope=col>hcc108</th><th scope=col>hcc110</th><th scope=col>hcc111</th><th scope=col>hcc112</th><th scope=col>hcc114</th><th scope=col>hcc115</th><th scope=col>hcc122</th><th scope=col>hcc124</th><th scope=col>hcc134</th><th scope=col>hcc135</th><th scope=col>hcc136</th><th scope=col>hcc137</th><th scope=col>hcc138</th><th scope=col>hcc139</th><th scope=col>hcc140</th><th scope=col>hcc141</th><th scope=col>hcc157</th><th scope=col>hcc158</th><th scope=col>hcc159</th><th scope=col>hcc160</th><th scope=col>hcc161</th><th scope=col>hcc162</th><th scope=col>hcc166</th><th scope=col>hcc167</th><th scope=col>hcc169</th><th scope=col>hcc170</th><th scope=col>hcc173</th><th scope=col>hcc176</th><th scope=col>hcc186</th><th scope=col>hcc188</th><th scope=col>hcc189</th></tr>\n",
       "\t<tr><th scope=col>&lt;dbl&gt;</th><th scope=col>&lt;date&gt;</th><th scope=col>&lt;dbl&gt;</th><th scope=col>&lt;dbl&gt;</th><th scope=col>&lt;dbl&gt;</th><th scope=col>&lt;dbl&gt;</th><th scope=col>&lt;dbl&gt;</th><th scope=col>&lt;dbl&gt;</th><th scope=col>&lt;dbl&gt;</th><th scope=col>&lt;dbl&gt;</th><th scope=col>&lt;dbl&gt;</th><th scope=col>&lt;dbl&gt;</th><th scope=col>&lt;dbl&gt;</th><th scope=col>&lt;dbl&gt;</th><th scope=col>&lt;dbl&gt;</th><th scope=col>&lt;dbl&gt;</th><th scope=col>&lt;dbl&gt;</th><th scope=col>&lt;dbl&gt;</th><th scope=col>&lt;dbl&gt;</th><th scope=col>&lt;dbl&gt;</th><th scope=col>&lt;dbl&gt;</th><th scope=col>&lt;dbl&gt;</th><th scope=col>&lt;dbl&gt;</th><th scope=col>&lt;dbl&gt;</th><th scope=col>&lt;dbl&gt;</th><th scope=col>&lt;dbl&gt;</th><th scope=col>&lt;dbl&gt;</th><th scope=col>&lt;lgl&gt;</th><th scope=col>&lt;lgl&gt;</th><th scope=col>&lt;lgl&gt;</th><th scope=col>&lt;date&gt;</th><th scope=col>&lt;lgl&gt;</th><th scope=col>&lt;lgl&gt;</th><th scope=col>&lt;lgl&gt;</th><th scope=col>&lt;lgl&gt;</th><th scope=col>&lt;lgl&gt;</th><th scope=col>&lt;lgl&gt;</th><th scope=col>&lt;lgl&gt;</th><th scope=col>&lt;lgl&gt;</th><th scope=col>&lt;lgl&gt;</th><th scope=col>&lt;date&gt;</th><th scope=col>&lt;date&gt;</th><th scope=col>&lt;dbl&gt;</th><th scope=col>&lt;dbl&gt;</th><th scope=col>&lt;dbl&gt;</th><th scope=col>&lt;dbl&gt;</th><th scope=col>&lt;dbl&gt;</th><th scope=col>&lt;lgl&gt;</th><th scope=col>&lt;lgl&gt;</th><th scope=col>&lt;dbl&gt;</th><th scope=col>&lt;dbl&gt;</th><th scope=col>&lt;dbl&gt;</th><th scope=col>&lt;dbl&gt;</th><th scope=col>&lt;dbl&gt;</th><th scope=col>&lt;dbl&gt;</th><th scope=col>&lt;dbl&gt;</th><th scope=col>&lt;dbl&gt;</th><th scope=col>&lt;dbl&gt;</th><th scope=col>&lt;dbl&gt;</th><th scope=col>&lt;dbl&gt;</th><th scope=col>&lt;dbl&gt;</th><th scope=col>&lt;dbl&gt;</th><th scope=col>&lt;dbl&gt;</th><th scope=col>&lt;dbl&gt;</th><th scope=col>&lt;dbl&gt;</th><th scope=col>&lt;dbl&gt;</th><th scope=col>&lt;dbl&gt;</th><th scope=col>&lt;dbl&gt;</th><th scope=col>&lt;dbl&gt;</th><th scope=col>&lt;dbl&gt;</th><th scope=col>&lt;dbl&gt;</th><th scope=col>&lt;dbl&gt;</th><th scope=col>&lt;dbl&gt;</th><th scope=col>&lt;dbl&gt;</th><th scope=col>&lt;dbl&gt;</th><th scope=col>&lt;dbl&gt;</th><th scope=col>&lt;dbl&gt;</th><th scope=col>&lt;dbl&gt;</th><th scope=col>&lt;dbl&gt;</th><th scope=col>&lt;dbl&gt;</th><th scope=col>&lt;dbl&gt;</th><th scope=col>&lt;dbl&gt;</th><th scope=col>&lt;dbl&gt;</th><th scope=col>&lt;dbl&gt;</th><th scope=col>&lt;dbl&gt;</th><th scope=col>&lt;dbl&gt;</th><th scope=col>&lt;dbl&gt;</th><th scope=col>&lt;dbl&gt;</th><th scope=col>&lt;dbl&gt;</th><th scope=col>&lt;dbl&gt;</th><th scope=col>&lt;dbl&gt;</th><th scope=col>&lt;dbl&gt;</th><th scope=col>&lt;dbl&gt;</th><th scope=col>&lt;dbl&gt;</th><th scope=col>&lt;dbl&gt;</th><th scope=col>&lt;dbl&gt;</th><th scope=col>&lt;dbl&gt;</th><th scope=col>&lt;dbl&gt;</th><th scope=col>&lt;dbl&gt;</th><th scope=col>&lt;dbl&gt;</th><th scope=col>&lt;dbl&gt;</th><th scope=col>&lt;dbl&gt;</th><th scope=col>&lt;dbl&gt;</th><th scope=col>&lt;dbl&gt;</th><th scope=col>&lt;dbl&gt;</th><th scope=col>&lt;dbl&gt;</th><th scope=col>&lt;dbl&gt;</th><th scope=col>&lt;dbl&gt;</th><th scope=col>&lt;dbl&gt;</th><th scope=col>&lt;dbl&gt;</th><th scope=col>&lt;dbl&gt;</th><th scope=col>&lt;dbl&gt;</th><th scope=col>&lt;dbl&gt;</th><th scope=col>&lt;dbl&gt;</th><th scope=col>&lt;dbl&gt;</th><th scope=col>&lt;dbl&gt;</th><th scope=col>&lt;dbl&gt;</th><th scope=col>&lt;dbl&gt;</th><th scope=col>&lt;dbl&gt;</th><th scope=col>&lt;dbl&gt;</th><th scope=col>&lt;dbl&gt;</th><th scope=col>&lt;dbl&gt;</th><th scope=col>&lt;dbl&gt;</th><th scope=col>&lt;dbl&gt;</th><th scope=col>&lt;dbl&gt;</th><th scope=col>&lt;dbl&gt;</th><th scope=col>&lt;chr&gt;</th><th scope=col>&lt;chr&gt;</th><th scope=col>&lt;chr&gt;</th><th scope=col>&lt;chr&gt;</th><th scope=col>&lt;chr&gt;</th><th scope=col>&lt;chr&gt;</th><th scope=col>&lt;chr&gt;</th><th scope=col>&lt;chr&gt;</th><th scope=col>&lt;chr&gt;</th><th scope=col>&lt;chr&gt;</th><th scope=col>&lt;chr&gt;</th><th scope=col>&lt;chr&gt;</th><th scope=col>&lt;chr&gt;</th><th scope=col>&lt;chr&gt;</th><th scope=col>&lt;chr&gt;</th><th scope=col>&lt;chr&gt;</th><th scope=col>&lt;chr&gt;</th><th scope=col>&lt;chr&gt;</th><th scope=col>&lt;chr&gt;</th><th scope=col>&lt;chr&gt;</th><th scope=col>&lt;chr&gt;</th><th scope=col>&lt;chr&gt;</th><th scope=col>&lt;chr&gt;</th><th scope=col>&lt;chr&gt;</th><th scope=col>⋯</th><th scope=col>&lt;chr&gt;</th><th scope=col>&lt;chr&gt;</th><th scope=col>&lt;chr&gt;</th><th scope=col>&lt;chr&gt;</th><th scope=col>&lt;chr&gt;</th><th scope=col>&lt;dbl&gt;</th><th scope=col>&lt;chr&gt;</th><th scope=col>&lt;lgl&gt;</th><th scope=col>&lt;chr&gt;</th><th scope=col>&lt;dbl&gt;</th><th scope=col>&lt;lgl&gt;</th><th scope=col>&lt;dbl&gt;</th><th scope=col>&lt;dbl&gt;</th><th scope=col>&lt;dbl&gt;</th><th scope=col>&lt;dbl&gt;</th><th scope=col>&lt;dbl&gt;</th><th scope=col>&lt;dbl&gt;</th><th scope=col>&lt;dbl&gt;</th><th scope=col>&lt;dbl&gt;</th><th scope=col>&lt;dbl&gt;</th><th scope=col>&lt;dbl&gt;</th><th scope=col>&lt;chr&gt;</th><th scope=col>&lt;dbl&gt;</th><th scope=col>&lt;dbl&gt;</th><th scope=col>&lt;dbl&gt;</th><th scope=col>&lt;chr&gt;</th><th scope=col>&lt;dbl&gt;</th><th scope=col>&lt;dbl&gt;</th><th scope=col>&lt;dbl&gt;</th><th scope=col>&lt;dbl&gt;</th><th scope=col>&lt;chr&gt;</th><th scope=col>&lt;dbl&gt;</th><th scope=col>&lt;dbl&gt;</th><th scope=col>&lt;dbl&gt;</th><th scope=col>&lt;chr&gt;</th><th scope=col>&lt;dbl&gt;</th><th scope=col>&lt;dbl&gt;</th><th scope=col>&lt;dbl&gt;</th><th scope=col>&lt;dbl&gt;</th><th scope=col>&lt;dbl&gt;</th><th scope=col>&lt;dbl&gt;</th><th scope=col>&lt;lgl&gt;</th><th scope=col>&lt;dbl&gt;</th><th scope=col>&lt;dbl&gt;</th><th scope=col>&lt;dbl&gt;</th><th scope=col>&lt;dbl&gt;</th><th scope=col>&lt;dbl&gt;</th><th scope=col>&lt;dbl&gt;</th><th scope=col>&lt;dbl&gt;</th><th scope=col>&lt;dbl&gt;</th><th scope=col>&lt;dbl&gt;</th><th scope=col>&lt;dbl&gt;</th><th scope=col>&lt;dbl&gt;</th><th scope=col>&lt;dbl&gt;</th><th scope=col>&lt;dbl&gt;</th><th scope=col>&lt;dbl&gt;</th><th scope=col>&lt;dbl&gt;</th><th scope=col>&lt;dbl&gt;</th><th scope=col>&lt;dbl&gt;</th><th scope=col>&lt;dbl&gt;</th><th scope=col>&lt;dbl&gt;</th><th scope=col>&lt;dbl&gt;</th><th scope=col>&lt;dbl&gt;</th><th scope=col>&lt;dbl&gt;</th><th scope=col>&lt;dbl&gt;</th><th scope=col>&lt;dbl&gt;</th><th scope=col>&lt;dbl&gt;</th><th scope=col>&lt;dbl&gt;</th><th scope=col>&lt;dbl&gt;</th><th scope=col>&lt;dbl&gt;</th><th scope=col>&lt;dbl&gt;</th><th scope=col>&lt;dbl&gt;</th><th scope=col>&lt;dbl&gt;</th><th scope=col>&lt;dbl&gt;</th><th scope=col>&lt;dbl&gt;</th><th scope=col>&lt;dbl&gt;</th><th scope=col>&lt;dbl&gt;</th><th scope=col>&lt;dbl&gt;</th><th scope=col>&lt;dbl&gt;</th><th scope=col>&lt;dbl&gt;</th><th scope=col>&lt;dbl&gt;</th><th scope=col>&lt;dbl&gt;</th><th scope=col>&lt;dbl&gt;</th><th scope=col>&lt;dbl&gt;</th><th scope=col>&lt;dbl&gt;</th><th scope=col>&lt;dbl&gt;</th><th scope=col>&lt;dbl&gt;</th><th scope=col>&lt;dbl&gt;</th><th scope=col>&lt;dbl&gt;</th><th scope=col>&lt;dbl&gt;</th><th scope=col>&lt;dbl&gt;</th><th scope=col>&lt;dbl&gt;</th><th scope=col>&lt;dbl&gt;</th><th scope=col>&lt;dbl&gt;</th><th scope=col>&lt;dbl&gt;</th><th scope=col>&lt;dbl&gt;</th><th scope=col>&lt;dbl&gt;</th><th scope=col>&lt;dbl&gt;</th><th scope=col>&lt;dbl&gt;</th><th scope=col>&lt;dbl&gt;</th><th scope=col>&lt;dbl&gt;</th><th scope=col>&lt;dbl&gt;</th><th scope=col>&lt;dbl&gt;</th><th scope=col>&lt;dbl&gt;</th><th scope=col>&lt;dbl&gt;</th><th scope=col>&lt;dbl&gt;</th><th scope=col>&lt;dbl&gt;</th><th scope=col>&lt;dbl&gt;</th><th scope=col>&lt;dbl&gt;</th><th scope=col>&lt;dbl&gt;</th><th scope=col>&lt;dbl&gt;</th><th scope=col>&lt;dbl&gt;</th><th scope=col>&lt;dbl&gt;</th><th scope=col>&lt;dbl&gt;</th><th scope=col>&lt;dbl&gt;</th><th scope=col>&lt;dbl&gt;</th><th scope=col>&lt;dbl&gt;</th><th scope=col>&lt;dbl&gt;</th><th scope=col>&lt;dbl&gt;</th><th scope=col>&lt;dbl&gt;</th><th scope=col>&lt;dbl&gt;</th><th scope=col>&lt;dbl&gt;</th><th scope=col>&lt;dbl&gt;</th><th scope=col>&lt;dbl&gt;</th><th scope=col>&lt;dbl&gt;</th><th scope=col>&lt;dbl&gt;</th><th scope=col>&lt;dbl&gt;</th><th scope=col>&lt;dbl&gt;</th><th scope=col>&lt;dbl&gt;</th><th scope=col>&lt;dbl&gt;</th><th scope=col>&lt;dbl&gt;</th><th scope=col>&lt;dbl&gt;</th><th scope=col>&lt;dbl&gt;</th><th scope=col>&lt;dbl&gt;</th><th scope=col>&lt;dbl&gt;</th><th scope=col>&lt;dbl&gt;</th><th scope=col>&lt;dbl&gt;</th><th scope=col>&lt;dbl&gt;</th><th scope=col>&lt;dbl&gt;</th><th scope=col>&lt;dbl&gt;</th><th scope=col>&lt;dbl&gt;</th><th scope=col>&lt;dbl&gt;</th><th scope=col>&lt;dbl&gt;</th><th scope=col>&lt;dbl&gt;</th><th scope=col>&lt;dbl&gt;</th><th scope=col>&lt;dbl&gt;</th><th scope=col>&lt;dbl&gt;</th><th scope=col>&lt;dbl&gt;</th><th scope=col>&lt;dbl&gt;</th><th scope=col>&lt;dbl&gt;</th></tr>\n",
       "</thead>\n",
       "<tbody>\n",
       "\t<tr><td>100004643</td><td>2018-07-24</td><td> 2164.96</td><td> 2</td><td> 209.35</td><td>2</td><td> 5</td><td>1</td><td>0</td><td>0</td><td> 4</td><td>0</td><td>  0.00</td><td> 1</td><td> 16.26</td><td>0</td><td>0</td><td>0</td><td>0</td><td>1</td><td>60.06</td><td>0</td><td>  0.00</td><td>0</td><td>   0.00</td><td>0</td><td>0</td><td>TRUE</td><td>FALSE</td><td>FALSE</td><td>NA</td><td>FALSE</td><td>FALSE</td><td> TRUE</td><td>FALSE</td><td>FALSE</td><td>FALSE</td><td>FALSE</td><td>FALSE</td><td> TRUE</td><td>NA</td><td>NA</td><td>        NA</td><td>        NA</td><td>1922000801</td><td>2018</td><td>NA</td><td>FALSE</td><td>FALSE</td><td>1098.55</td><td>1</td><td>104.30</td><td>1</td><td> 5</td><td>1</td><td>0</td><td>0</td><td>4</td><td>0</td><td>  0.00</td><td>1</td><td>16.26</td><td>0</td><td>0</td><td>0</td><td>0</td><td>0</td><td> 0.00</td><td>0</td><td> 0.00</td><td>0</td><td>   0.00</td><td>0</td><td>0</td><td>0</td><td>0.00</td><td>  0.00</td><td>0</td><td>0</td><td>0</td><td>0</td><td>   0.00</td><td>0</td><td>0</td><td>0.00</td><td>  0.0</td><td>0</td><td>0</td><td>0</td><td>0</td><td>   0.00</td><td>0</td><td> 209.35</td><td>  0.00</td><td> 16.26</td><td>0</td><td>0</td><td>60.06</td><td>  0.00</td><td>   0.00</td><td>0</td><td>104.30</td><td>  0.00</td><td> 16.26</td><td>0</td><td>0</td><td> 0.00</td><td> 0.00</td><td>   0.00</td><td>0</td><td> 269.41</td><td>   0.00</td><td>104.30</td><td>   0.00</td><td> 3</td><td>0</td><td> 1</td><td>0</td><td>13</td><td>34</td><td>240</td><td>2</td><td>1</td><td>77</td><td>0</td><td>0</td><td>3</td><td>3</td><td>3</td><td>3</td><td>3</td><td>3</td><td>3</td><td>3</td><td>3</td><td>3</td><td>3</td><td>3</td><td>0</td><td>0</td><td>0</td><td>0</td><td>0</td><td>0</td><td>0</td><td>0</td><td>0</td><td>0</td><td>0</td><td>0</td><td>⋯</td><td>LELEUX     </td><td>JON    </td><td>DAMIAN</td><td>Cardiology</td><td>06</td><td>2</td><td>M</td><td>NA</td><td>NONE</td><td>1</td><td>NA</td><td>0.8810704</td><td>0.05155199</td><td>0.06513618</td><td>0.0022413910</td><td>0.0000000000</td><td>0</td><td>0</td><td>0</td><td>0</td><td>0</td><td>LA</td><td>0</td><td>1</td><td>29180</td><td>Lafayette, LA                        </td><td>0</td><td>14723</td><td>1811872.4</td><td>2866</td><td>111111111111</td><td>14396</td><td>1788733.8</td><td>2754</td><td>111111111111</td><td>327</td><td>23138.52</td><td>307</td><td>1967</td><td>12972</td><td> 959</td><td>FALSE</td><td>1345.60</td><td>  819.36</td><td> 1</td><td>1</td><td> 4</td><td>0</td><td> 310.35</td><td> 788.20</td><td>NA</td><td>       NA</td><td>NA</td><td>       NA</td><td>NA</td><td>      NA</td><td>NA</td><td>      NA</td><td>1345.60</td><td> 310.35</td><td>   819.36</td><td>  788.20</td><td>2017</td><td> 0</td><td> 0</td><td> 0</td><td> 0</td><td> 0</td><td> 0</td><td> 0</td><td> 0</td><td> 0</td><td> 0</td><td> 0</td><td> 0</td><td> 0</td><td> 0</td><td> 0</td><td> 0</td><td> 0</td><td> 0</td><td> 0</td><td> 0</td><td> 0</td><td> 0</td><td> 0</td><td> 0</td><td> 1</td><td> 0</td><td> 0</td><td> 0</td><td> 0</td><td> 0</td><td> 0</td><td> 0</td><td> 0</td><td> 0</td><td> 0</td><td> 0</td><td> 0</td><td> 0</td><td> 0</td><td> 0</td><td> 0</td><td> 0</td><td> 0</td><td> 0</td><td> 0</td><td> 1</td><td> 1</td><td> 0</td><td> 0</td><td> 1</td><td> 0</td><td> 1</td><td> 0</td><td> 0</td><td> 0</td><td> 0</td><td> 1</td><td> 0</td><td> 0</td><td> 0</td><td> 0</td><td> 0</td><td> 0</td><td> 0</td><td> 0</td><td> 1</td><td> 0</td><td> 0</td><td> 0</td><td> 0</td><td> 0</td><td> 0</td><td> 0</td><td> 0</td><td> 0</td><td> 0</td><td> 0</td><td> 0</td><td> 0</td><td> 0</td><td> 0</td><td> 0</td><td> 0</td><td> 0</td><td> 0</td><td> 0</td><td> 0</td></tr>\n",
       "\t<tr><td>100008543</td><td>2014-04-16</td><td> 2149.56</td><td>12</td><td> 869.89</td><td>2</td><td>22</td><td>4</td><td>5</td><td>1</td><td>12</td><td>0</td><td>  0.00</td><td> 3</td><td> 25.29</td><td>0</td><td>0</td><td>0</td><td>0</td><td>0</td><td> 0.00</td><td>0</td><td>  0.00</td><td>0</td><td>   0.00</td><td>0</td><td>0</td><td>TRUE</td><td>FALSE</td><td>FALSE</td><td>NA</td><td>FALSE</td><td>FALSE</td><td>FALSE</td><td>FALSE</td><td>FALSE</td><td>FALSE</td><td>FALSE</td><td> TRUE</td><td>FALSE</td><td>NA</td><td>NA</td><td>        NA</td><td>        NA</td><td>1033107701</td><td>2014</td><td>NA</td><td>FALSE</td><td>FALSE</td><td> 178.71</td><td>2</td><td>146.81</td><td>1</td><td> 4</td><td>3</td><td>1</td><td>0</td><td>0</td><td>0</td><td>  0.00</td><td>0</td><td> 0.00</td><td>0</td><td>0</td><td>0</td><td>0</td><td>0</td><td> 0.00</td><td>0</td><td> 0.00</td><td>0</td><td>   0.00</td><td>0</td><td>0</td><td>0</td><td>0.00</td><td>490.65</td><td>0</td><td>0</td><td>0</td><td>0</td><td>   0.00</td><td>0</td><td>0</td><td>0.00</td><td>126.3</td><td>0</td><td>0</td><td>0</td><td>0</td><td>   0.00</td><td>0</td><td> 869.89</td><td>  0.00</td><td>515.94</td><td>0</td><td>0</td><td> 0.00</td><td>  0.00</td><td>   0.00</td><td>0</td><td>146.81</td><td>  0.00</td><td>126.30</td><td>0</td><td>0</td><td> 0.00</td><td> 0.00</td><td>   0.00</td><td>0</td><td> 869.89</td><td>   0.00</td><td>146.81</td><td>   0.00</td><td>12</td><td>0</td><td> 2</td><td>0</td><td>13</td><td>49</td><td> 90</td><td>1</td><td>1</td><td>76</td><td>0</td><td>0</td><td>3</td><td>3</td><td>3</td><td>3</td><td>3</td><td>3</td><td>3</td><td>3</td><td>3</td><td>3</td><td>3</td><td>3</td><td>0</td><td>0</td><td>0</td><td>0</td><td>0</td><td>0</td><td>0</td><td>0</td><td>0</td><td>0</td><td>0</td><td>0</td><td>⋯</td><td>BROWN      </td><td>WILLIAM</td><td>NA    </td><td>Cardiology</td><td>06</td><td>2</td><td>M</td><td>NA</td><td>NONE</td><td>1</td><td>NA</td><td>0.1854909</td><td>0.19504778</td><td>0.61946134</td><td>0.0000000000</td><td>0.0000000000</td><td>0</td><td>0</td><td>0</td><td>0</td><td>0</td><td>VA</td><td>0</td><td>1</td><td>31340</td><td>Lynchburg, VA                        </td><td>0</td><td> 2302</td><td> 163198.9</td><td>1109</td><td>111111111111</td><td> 2297</td><td> 163157.3</td><td>1105</td><td>000001000000</td><td>  5</td><td>   41.65</td><td>  5</td><td>1948</td><td>  427</td><td>1426</td><td> TRUE</td><td> 899.06</td><td> 1250.50</td><td>13</td><td>4</td><td> 9</td><td>0</td><td> 106.90</td><td>  71.81</td><td> 0</td><td>  6337.03</td><td>NA</td><td>       NA</td><td> 0</td><td>  372.60</td><td>NA</td><td>      NA</td><td> 899.06</td><td> 106.90</td><td>  7587.53</td><td>  444.41</td><td>2013</td><td> 0</td><td> 0</td><td> 0</td><td> 0</td><td> 0</td><td> 0</td><td> 0</td><td> 0</td><td> 0</td><td> 0</td><td> 0</td><td> 0</td><td> 0</td><td> 0</td><td> 0</td><td> 0</td><td> 0</td><td> 0</td><td> 0</td><td> 0</td><td> 0</td><td> 0</td><td> 0</td><td> 0</td><td> 0</td><td> 0</td><td> 0</td><td> 0</td><td> 0</td><td> 0</td><td> 1</td><td> 0</td><td> 0</td><td> 0</td><td> 0</td><td> 0</td><td> 0</td><td> 0</td><td> 0</td><td> 0</td><td> 0</td><td> 0</td><td> 0</td><td> 0</td><td> 0</td><td> 0</td><td> 0</td><td> 1</td><td> 0</td><td> 0</td><td> 0</td><td> 0</td><td> 0</td><td> 0</td><td> 0</td><td> 0</td><td> 0</td><td> 0</td><td> 0</td><td> 0</td><td> 0</td><td> 0</td><td> 0</td><td> 0</td><td> 0</td><td> 1</td><td> 0</td><td> 0</td><td> 0</td><td> 0</td><td> 0</td><td> 0</td><td> 0</td><td> 0</td><td> 0</td><td> 0</td><td> 0</td><td> 0</td><td> 0</td><td> 0</td><td> 0</td><td> 0</td><td> 0</td><td> 0</td><td> 0</td><td> 0</td><td> 0</td></tr>\n",
       "\t<tr><td>100010653</td><td>2014-02-14</td><td>16861.51</td><td>16</td><td>1376.90</td><td>4</td><td>49</td><td>9</td><td>7</td><td>2</td><td>31</td><td>1</td><td>345.44</td><td>12</td><td>114.88</td><td>0</td><td>0</td><td>0</td><td>0</td><td>0</td><td> 0.00</td><td>2</td><td>133.10</td><td>2</td><td> 991.67</td><td>0</td><td>0</td><td>TRUE</td><td> TRUE</td><td>FALSE</td><td>NA</td><td>FALSE</td><td>FALSE</td><td>FALSE</td><td> TRUE</td><td>FALSE</td><td>FALSE</td><td>FALSE</td><td> TRUE</td><td>FALSE</td><td>2014-02-14</td><td>2014-02-24</td><td>1790758688</td><td>1114990025</td><td>1790758688</td><td>2014</td><td>10</td><td>FALSE</td><td> TRUE</td><td>3309.14</td><td>3</td><td>258.31</td><td>2</td><td>13</td><td>7</td><td>2</td><td>1</td><td>3</td><td>1</td><td>345.44</td><td>5</td><td>36.15</td><td>0</td><td>0</td><td>0</td><td>0</td><td>0</td><td> 0.00</td><td>1</td><td>66.55</td><td>2</td><td> 991.67</td><td>0</td><td>0</td><td>0</td><td>0.00</td><td>  0.00</td><td>0</td><td>0</td><td>0</td><td>0</td><td>   0.00</td><td>0</td><td>0</td><td>0.00</td><td>  0.0</td><td>0</td><td>0</td><td>0</td><td>0</td><td>   0.00</td><td>0</td><td>1376.90</td><td>345.44</td><td>114.88</td><td>0</td><td>0</td><td> 0.00</td><td>133.10</td><td> 991.67</td><td>0</td><td>258.31</td><td>345.44</td><td> 36.15</td><td>0</td><td>0</td><td> 0.00</td><td>66.55</td><td> 991.67</td><td>0</td><td>1510.00</td><td>1337.11</td><td>324.86</td><td>1337.11</td><td>18</td><td>3</td><td> 4</td><td>3</td><td>13</td><td>33</td><td>740</td><td>2</td><td>1</td><td>76</td><td>0</td><td>0</td><td>3</td><td>3</td><td>3</td><td>3</td><td>3</td><td>3</td><td>3</td><td>3</td><td>3</td><td>3</td><td>3</td><td>3</td><td>0</td><td>0</td><td>0</td><td>0</td><td>0</td><td>0</td><td>0</td><td>0</td><td>0</td><td>0</td><td>0</td><td>0</td><td>⋯</td><td>HAMMOUD    </td><td>ALI    </td><td>NA    </td><td>Cardiology</td><td>06</td><td>2</td><td>M</td><td>NA</td><td>NONE</td><td>1</td><td>NA</td><td>0.4856055</td><td>0.32505712</td><td>0.10555979</td><td>0.0837776090</td><td>0.0000000000</td><td>0</td><td>0</td><td>0</td><td>0</td><td>0</td><td>NY</td><td>0</td><td>1</td><td>35620</td><td>New York-Newark-Jersey City, NY-NJ-PA</td><td>0</td><td> 6565</td><td> 428347.0</td><td>2519</td><td>111111111111</td><td> 6565</td><td> 428347.0</td><td>2519</td><td>NA          </td><td> NA</td><td>      NA</td><td> NA</td><td>1969</td><td> 3188</td><td> 693</td><td>FALSE</td><td>2848.26</td><td>14013.25</td><td>12</td><td>3</td><td>37</td><td>6</td><td>1035.17</td><td>2273.97</td><td> 0</td><td>176109.78</td><td> 0</td><td>311264.38</td><td>NA</td><td>      NA</td><td>NA</td><td>      NA</td><td>2848.26</td><td>1035.17</td><td>501387.41</td><td> 2273.97</td><td>2013</td><td> 0</td><td> 1</td><td> 0</td><td> 0</td><td> 0</td><td> 0</td><td> 0</td><td> 0</td><td> 0</td><td> 0</td><td> 1</td><td> 0</td><td> 0</td><td> 1</td><td> 0</td><td> 0</td><td> 0</td><td> 0</td><td> 0</td><td> 0</td><td> 0</td><td> 0</td><td> 0</td><td> 0</td><td> 0</td><td> 0</td><td> 0</td><td> 0</td><td> 0</td><td> 0</td><td> 0</td><td> 0</td><td> 0</td><td> 0</td><td> 0</td><td> 0</td><td> 0</td><td> 0</td><td> 0</td><td> 0</td><td> 0</td><td> 0</td><td> 0</td><td> 0</td><td> 1</td><td> 1</td><td> 0</td><td> 0</td><td> 0</td><td> 0</td><td> 0</td><td> 0</td><td> 0</td><td> 0</td><td> 0</td><td> 0</td><td> 0</td><td> 0</td><td> 1</td><td> 0</td><td> 0</td><td> 1</td><td> 0</td><td> 0</td><td> 1</td><td> 1</td><td> 0</td><td> 0</td><td> 0</td><td> 0</td><td> 0</td><td> 0</td><td> 0</td><td> 0</td><td> 0</td><td> 0</td><td> 0</td><td> 0</td><td> 0</td><td> 0</td><td> 0</td><td> 0</td><td> 0</td><td> 0</td><td> 0</td><td> 0</td><td> 0</td></tr>\n",
       "\t<tr><td>100010781</td><td>2017-10-16</td><td>13178.43</td><td>14</td><td>1191.80</td><td>6</td><td>21</td><td>4</td><td>1</td><td>2</td><td>14</td><td>2</td><td>269.30</td><td> 2</td><td> 27.59</td><td>0</td><td>0</td><td>0</td><td>0</td><td>0</td><td> 0.00</td><td>3</td><td>595.98</td><td>4</td><td>1543.65</td><td>0</td><td>0</td><td>TRUE</td><td>FALSE</td><td>FALSE</td><td>NA</td><td>FALSE</td><td>FALSE</td><td>FALSE</td><td>FALSE</td><td>FALSE</td><td>FALSE</td><td>FALSE</td><td>FALSE</td><td> TRUE</td><td>2017-10-16</td><td>2017-10-16</td><td>1609845817</td><td>1609845817</td><td>1982698973</td><td>2017</td><td> 0</td><td> TRUE</td><td> TRUE</td><td>2704.51</td><td>6</td><td>693.47</td><td>5</td><td> 4</td><td>3</td><td>1</td><td>0</td><td>0</td><td>2</td><td>269.30</td><td>1</td><td>18.54</td><td>0</td><td>0</td><td>0</td><td>0</td><td>0</td><td> 0.00</td><td>1</td><td>68.04</td><td>4</td><td>1543.65</td><td>0</td><td>0</td><td>0</td><td>0.01</td><td>  0.00</td><td>0</td><td>0</td><td>0</td><td>0</td><td>6621.35</td><td>0</td><td>0</td><td>0.01</td><td>  0.0</td><td>0</td><td>0</td><td>0</td><td>0</td><td>6621.35</td><td>0</td><td>1191.80</td><td>269.31</td><td> 27.59</td><td>0</td><td>0</td><td> 0.00</td><td>595.98</td><td>8165.00</td><td>0</td><td>693.47</td><td>269.31</td><td> 18.54</td><td>0</td><td>0</td><td> 0.00</td><td>68.04</td><td>8165.00</td><td>0</td><td>1787.78</td><td>8434.31</td><td>761.51</td><td>8434.31</td><td>17</td><td>6</td><td> 7</td><td>6</td><td>13</td><td>21</td><td> 20</td><td>2</td><td>1</td><td>76</td><td>0</td><td>0</td><td>3</td><td>3</td><td>3</td><td>3</td><td>3</td><td>3</td><td>3</td><td>3</td><td>3</td><td>3</td><td>3</td><td>3</td><td>0</td><td>0</td><td>0</td><td>0</td><td>0</td><td>0</td><td>0</td><td>0</td><td>0</td><td>0</td><td>0</td><td>0</td><td>⋯</td><td>PORTERFIELD</td><td>JAMES  </td><td>K     </td><td>Cardiology</td><td>06</td><td>2</td><td>M</td><td>NA</td><td>NONE</td><td>1</td><td>NA</td><td>0.7182977</td><td>0.22207820</td><td>0.04385396</td><td>0.0153380860</td><td>0.0004320588</td><td>0</td><td>0</td><td>0</td><td>0</td><td>0</td><td>MD</td><td>0</td><td>1</td><td>12580</td><td>Baltimore-Columbia-Towson, MD        </td><td>0</td><td> 4629</td><td> 418995.5</td><td>2323</td><td>111111111111</td><td> 3860</td><td> 411640.6</td><td>1814</td><td>111111111111</td><td>769</td><td> 7354.90</td><td>674</td><td>1954</td><td> 3325</td><td> 203</td><td> TRUE</td><td>1318.46</td><td>11859.97</td><td> 2</td><td>1</td><td>19</td><td>3</td><td> 367.64</td><td>2336.87</td><td> 0</td><td> 17704.68</td><td> 0</td><td> 13915.48</td><td> 0</td><td>12305.11</td><td> 0</td><td>13915.48</td><td>1318.46</td><td> 367.64</td><td> 43480.13</td><td>28557.46</td><td>2016</td><td> 0</td><td> 0</td><td> 0</td><td> 0</td><td> 0</td><td> 0</td><td> 0</td><td> 0</td><td> 0</td><td> 0</td><td> 0</td><td> 0</td><td> 0</td><td> 0</td><td> 0</td><td> 0</td><td> 0</td><td> 0</td><td> 0</td><td> 0</td><td> 0</td><td> 0</td><td> 0</td><td> 0</td><td> 0</td><td> 0</td><td> 0</td><td> 0</td><td> 0</td><td> 0</td><td> 0</td><td> 0</td><td> 0</td><td> 0</td><td> 0</td><td> 0</td><td> 0</td><td> 0</td><td> 0</td><td> 0</td><td> 0</td><td> 0</td><td> 0</td><td> 0</td><td> 0</td><td> 0</td><td> 0</td><td> 0</td><td> 0</td><td> 1</td><td> 0</td><td> 0</td><td> 0</td><td> 0</td><td> 0</td><td> 0</td><td> 0</td><td> 0</td><td> 0</td><td> 0</td><td> 0</td><td> 0</td><td> 0</td><td> 0</td><td> 0</td><td> 0</td><td> 0</td><td> 0</td><td> 0</td><td> 0</td><td> 0</td><td> 0</td><td> 0</td><td> 0</td><td> 0</td><td> 0</td><td> 0</td><td> 0</td><td> 0</td><td> 0</td><td> 0</td><td> 0</td><td> 0</td><td> 0</td><td> 0</td><td> 0</td><td> 0</td></tr>\n",
       "\t<tr><td>100013703</td><td>2015-05-18</td><td> 6408.96</td><td>11</td><td> 855.53</td><td>0</td><td>15</td><td>0</td><td>1</td><td>1</td><td>13</td><td>0</td><td>  0.00</td><td> 2</td><td> 34.03</td><td>0</td><td>0</td><td>0</td><td>0</td><td>1</td><td>65.83</td><td>0</td><td>  0.00</td><td>0</td><td>   0.00</td><td>0</td><td>0</td><td>TRUE</td><td> TRUE</td><td>FALSE</td><td>NA</td><td>FALSE</td><td>FALSE</td><td> TRUE</td><td>FALSE</td><td>FALSE</td><td>FALSE</td><td>FALSE</td><td>FALSE</td><td>FALSE</td><td>NA</td><td>NA</td><td>        NA</td><td>        NA</td><td>1982617072</td><td>2015</td><td>NA</td><td>FALSE</td><td>FALSE</td><td>1637.42</td><td>9</td><td>711.56</td><td>0</td><td> 3</td><td>0</td><td>1</td><td>0</td><td>2</td><td>0</td><td>  0.00</td><td>2</td><td>34.03</td><td>0</td><td>0</td><td>0</td><td>0</td><td>1</td><td>65.83</td><td>0</td><td> 0.00</td><td>0</td><td>   0.00</td><td>0</td><td>0</td><td>0</td><td>0.00</td><td>  0.00</td><td>0</td><td>0</td><td>0</td><td>0</td><td>   0.00</td><td>0</td><td>0</td><td>0.00</td><td>  0.0</td><td>0</td><td>0</td><td>0</td><td>0</td><td>   0.00</td><td>0</td><td> 855.53</td><td>  0.00</td><td> 34.03</td><td>0</td><td>0</td><td>65.83</td><td>  0.00</td><td>   0.00</td><td>0</td><td>711.56</td><td>  0.00</td><td> 34.03</td><td>0</td><td>0</td><td>65.83</td><td> 0.00</td><td>   0.00</td><td>0</td><td> 921.36</td><td>   0.00</td><td>777.39</td><td>   0.00</td><td>12</td><td>0</td><td>10</td><td>0</td><td>13</td><td>10</td><td> 70</td><td>2</td><td>1</td><td>76</td><td>0</td><td>0</td><td>3</td><td>3</td><td>3</td><td>3</td><td>3</td><td>3</td><td>3</td><td>3</td><td>3</td><td>3</td><td>3</td><td>3</td><td>0</td><td>0</td><td>0</td><td>0</td><td>0</td><td>0</td><td>0</td><td>0</td><td>0</td><td>0</td><td>0</td><td>0</td><td>⋯</td><td>CONNELLY   </td><td>TERENCE</td><td>P     </td><td>Cardiology</td><td>06</td><td>2</td><td>M</td><td>NA</td><td>NONE</td><td>1</td><td>NA</td><td>0.7951728</td><td>0.16314956</td><td>0.04154577</td><td>0.0001318913</td><td>0.0000000000</td><td>0</td><td>0</td><td>0</td><td>0</td><td>0</td><td>FL</td><td>0</td><td>1</td><td>39460</td><td>Punta Gorda, FL                      </td><td>1</td><td> 7582</td><td>1252974.0</td><td>1892</td><td>111111111111</td><td> 7559</td><td>1247715.9</td><td>1873</td><td>001101010111</td><td> 23</td><td> 5258.12</td><td> 19</td><td>1959</td><td> 6029</td><td> 315</td><td>FALSE</td><td>1268.06</td><td> 5140.90</td><td> 3</td><td>0</td><td>12</td><td>0</td><td>1158.92</td><td> 478.50</td><td> 0</td><td>  1037.85</td><td>NA</td><td>       NA</td><td>NA</td><td>      NA</td><td>NA</td><td>      NA</td><td>1268.06</td><td>1158.92</td><td>  6178.75</td><td>  478.50</td><td>2014</td><td> 0</td><td> 0</td><td> 0</td><td> 0</td><td> 0</td><td> 0</td><td> 0</td><td> 0</td><td> 0</td><td> 0</td><td> 0</td><td> 0</td><td> 0</td><td> 0</td><td> 0</td><td> 0</td><td> 0</td><td> 0</td><td> 0</td><td> 0</td><td> 0</td><td> 0</td><td> 0</td><td> 0</td><td> 0</td><td> 0</td><td> 0</td><td> 0</td><td> 0</td><td> 0</td><td> 0</td><td> 0</td><td> 0</td><td> 0</td><td> 0</td><td> 0</td><td> 0</td><td> 0</td><td> 0</td><td> 0</td><td> 0</td><td> 0</td><td> 0</td><td> 0</td><td> 0</td><td> 0</td><td> 0</td><td> 1</td><td> 0</td><td> 0</td><td> 0</td><td> 0</td><td> 0</td><td> 0</td><td> 0</td><td> 0</td><td> 0</td><td> 0</td><td> 0</td><td> 0</td><td> 0</td><td> 0</td><td> 0</td><td> 0</td><td> 0</td><td> 0</td><td> 0</td><td> 0</td><td> 0</td><td> 0</td><td> 0</td><td> 0</td><td> 0</td><td> 0</td><td> 0</td><td> 0</td><td> 0</td><td> 0</td><td> 0</td><td> 0</td><td> 0</td><td> 0</td><td> 0</td><td> 0</td><td> 0</td><td> 0</td><td> 0</td></tr>\n",
       "\t<tr><td>100013815</td><td>2018-10-22</td><td> 1615.67</td><td>12</td><td>1145.16</td><td>1</td><td> 5</td><td>1</td><td>1</td><td>0</td><td> 3</td><td>0</td><td>  0.00</td><td> 0</td><td>  0.00</td><td>0</td><td>0</td><td>0</td><td>0</td><td>0</td><td> 0.00</td><td>0</td><td>  0.00</td><td>0</td><td>   0.00</td><td>0</td><td>0</td><td>TRUE</td><td>FALSE</td><td>FALSE</td><td>NA</td><td>FALSE</td><td>FALSE</td><td> TRUE</td><td>FALSE</td><td>FALSE</td><td>FALSE</td><td>FALSE</td><td>FALSE</td><td> TRUE</td><td>NA</td><td>NA</td><td>        NA</td><td>        NA</td><td>1235147182</td><td>2018</td><td>NA</td><td>FALSE</td><td>FALSE</td><td> 381.15</td><td>4</td><td>342.90</td><td>0</td><td> 3</td><td>0</td><td>1</td><td>0</td><td>2</td><td>0</td><td>  0.00</td><td>0</td><td> 0.00</td><td>0</td><td>0</td><td>0</td><td>0</td><td>0</td><td> 0.00</td><td>0</td><td> 0.00</td><td>0</td><td>   0.00</td><td>0</td><td>0</td><td>0</td><td>0.00</td><td>  0.00</td><td>0</td><td>0</td><td>0</td><td>0</td><td>   0.00</td><td>0</td><td>0</td><td>0.00</td><td>  0.0</td><td>0</td><td>0</td><td>0</td><td>0</td><td>   0.00</td><td>0</td><td>1145.16</td><td>  0.00</td><td>  0.00</td><td>0</td><td>0</td><td> 0.00</td><td>  0.00</td><td>   0.00</td><td>0</td><td>342.90</td><td>  0.00</td><td>  0.00</td><td>0</td><td>0</td><td> 0.00</td><td> 0.00</td><td>   0.00</td><td>0</td><td>1145.16</td><td>   0.00</td><td>342.90</td><td>   0.00</td><td>12</td><td>0</td><td> 4</td><td>0</td><td>13</td><td>10</td><td>280</td><td>2</td><td>1</td><td>76</td><td>0</td><td>0</td><td>3</td><td>3</td><td>3</td><td>3</td><td>3</td><td>3</td><td>3</td><td>3</td><td>3</td><td>3</td><td>3</td><td>3</td><td>0</td><td>0</td><td>0</td><td>0</td><td>0</td><td>0</td><td>0</td><td>0</td><td>0</td><td>0</td><td>0</td><td>0</td><td>⋯</td><td>KHAN       </td><td>TEHREEN</td><td>NA    </td><td>Cardiology</td><td>06</td><td>2</td><td>F</td><td>NA</td><td>NONE</td><td>1</td><td>NA</td><td>0.6941682</td><td>0.22830018</td><td>0.06735985</td><td>0.0101717900</td><td>0.0000000000</td><td>0</td><td>0</td><td>0</td><td>0</td><td>0</td><td>FL</td><td>0</td><td>1</td><td>45300</td><td>Tampa-St. Petersburg-Clearwater, FL  </td><td>0</td><td> 4424</td><td> 446058.3</td><td>2035</td><td>111111111111</td><td> 4424</td><td> 446058.3</td><td>2035</td><td>NA          </td><td> NA</td><td>      NA</td><td> NA</td><td>1964</td><td> 3071</td><td> 298</td><td>FALSE</td><td> 233.44</td><td> 1382.23</td><td> 2</td><td>1</td><td> 3</td><td>0</td><td> 124.40</td><td> 256.75</td><td>NA</td><td>       NA</td><td>NA</td><td>       NA</td><td>NA</td><td>      NA</td><td>NA</td><td>      NA</td><td> 233.44</td><td> 124.40</td><td>  1382.23</td><td>  256.75</td><td>2017</td><td>NA</td><td>NA</td><td>NA</td><td>NA</td><td>NA</td><td>NA</td><td>NA</td><td>NA</td><td>NA</td><td>NA</td><td>NA</td><td>NA</td><td>NA</td><td>NA</td><td>NA</td><td>NA</td><td>NA</td><td>NA</td><td>NA</td><td>NA</td><td>NA</td><td>NA</td><td>NA</td><td>NA</td><td>NA</td><td>NA</td><td>NA</td><td>NA</td><td>NA</td><td>NA</td><td>NA</td><td>NA</td><td>NA</td><td>NA</td><td>NA</td><td>NA</td><td>NA</td><td>NA</td><td>NA</td><td>NA</td><td>NA</td><td>NA</td><td>NA</td><td>NA</td><td>NA</td><td>NA</td><td>NA</td><td>NA</td><td>NA</td><td>NA</td><td>NA</td><td>NA</td><td>NA</td><td>NA</td><td>NA</td><td>NA</td><td>NA</td><td>NA</td><td>NA</td><td>NA</td><td>NA</td><td>NA</td><td>NA</td><td>NA</td><td>NA</td><td>NA</td><td>NA</td><td>NA</td><td>NA</td><td>NA</td><td>NA</td><td>NA</td><td>NA</td><td>NA</td><td>NA</td><td>NA</td><td>NA</td><td>NA</td><td>NA</td><td>NA</td><td>NA</td><td>NA</td><td>NA</td><td>NA</td><td>NA</td><td>NA</td><td>NA</td></tr>\n",
       "</tbody>\n",
       "</table>\n"
      ],
      "text/latex": [
       "A data.table: 6 × 683\n",
       "\\begin{tabular}{lllllllllllllllllllllllllllllllllllllllllllllllllllllllllllllllllllllllllllllllllllllllllllllllllllllllllllllllllllllllllllllllllllllllllllllllllllllllllllllllllllllllllllllllllllllllllllllllllllllllllllllllllllllllllllllllllllllllllllllllllllllllllllllllllllllllllllllllllllllllllllllllllllllllllllll}\n",
       " DESY\\_SORT\\_KEY & first\\_diagnosis & tot\\_allowed\\_carrier & office\\_visit\\_count & office\\_visit\\_cost\\_carrier & cardiology\\_visit\\_count & distinct\\_clinicians & distinct\\_cardiologists & distinct\\_primary\\_care\\_physicians & distinct\\_surgeons & distinct\\_other\\_specialties & catheterization\\_count & catheterization\\_cost\\_carrier & ecg\\_count & ecg\\_cost\\_carrier & cardiac\\_ct\\_count & cardiac\\_ct\\_cost\\_carrier & cardiac\\_mri\\_count & cardiac\\_mri\\_cost\\_carrier & stress\\_test\\_count & stress\\_test\\_cost\\_carrier & echocardiography\\_count & echocardiography\\_cost\\_carrier & angioplasty\\_count & angioplasty\\_cost\\_carrier & CABG\\_count & CABG\\_cost\\_carrier & stable\\_angina & unstable\\_angina & MI & MI\\_date & cardiac\\_arrest & stroke & hypertension & copd & obesity & depression & diabetes & icd\\_9\\_pure & icd\\_10\\_pure & catheterization\\_date & angioplasty\\_date & catheterization\\_doc\\_NPI & angioplasty\\_doc\\_NPI & diagnosing\\_doc\\_NPI & year\\_first\\_diagnosed & time\\_difference\\_angio\\_cath & angioplasty\\_with\\_cath & angioplasty\\_during\\_year\\_after\\_cath & tot\\_allowed\\_carrier\\_cardiology\\_related & office\\_visit\\_count\\_cardiology\\_related & office\\_visit\\_cost\\_carrier\\_cardiology\\_related & cardiology\\_visit\\_count\\_cardiology\\_related & distinct\\_clinicians\\_cardiology\\_related & distinct\\_cardiologists\\_cardiology\\_related & distinct\\_primary\\_care\\_physicians\\_cardiology\\_related & distinct\\_surgeons\\_cardiology\\_related & distinct\\_other\\_specialties\\_cardiology\\_related & catheterization\\_count\\_cardiology\\_related & catheterization\\_cost\\_carrier\\_cardiology\\_related & ecg\\_count\\_cardiology\\_related & ecg\\_cost\\_carrier\\_cardiology\\_related & cardiac\\_ct\\_count\\_cardiology\\_related & cardiac\\_ct\\_cost\\_carrier\\_cardiology\\_related & cardiac\\_mri\\_count\\_cardiology\\_related & cardiac\\_mri\\_cost\\_carrier\\_cardiology\\_related & stress\\_test\\_count\\_cardiology\\_related & stress\\_test\\_cost\\_carrier\\_cardiology\\_related & echocardiography\\_count\\_cardiology\\_related & echocardiography\\_cost\\_carrier\\_cardiology\\_related & angioplasty\\_count\\_cardiology\\_related & angioplasty\\_cost\\_carrier\\_cardiology\\_related & CABG\\_count\\_cardiology\\_related & CABG\\_cost\\_carrier\\_cardiology\\_related & office\\_visit\\_cost\\_outpatient & catheterization\\_cost\\_outpatient & ecg\\_cost\\_outpatient & cardiac\\_ct\\_cost\\_outpatient & cardiac\\_mri\\_cost\\_outpatient & stress\\_test\\_cost\\_outpatient & echocardiography\\_cost\\_outpatient & angioplasty\\_cost\\_outpatient & CABG\\_cost\\_outpatient & office\\_visit\\_cost\\_outpatient\\_cardiology\\_related & catheterization\\_cost\\_outpatient\\_cardiology\\_related & ecg\\_cost\\_outpatient\\_cardiology\\_related & cardiac\\_ct\\_cost\\_outpatient\\_cardiology\\_related & cardiac\\_mri\\_cost\\_outpatient\\_cardiology\\_related & stress\\_test\\_cost\\_outpatient\\_cardiology\\_related & echocardiography\\_cost\\_outpatient\\_cardiology\\_related & angioplasty\\_cost\\_outpatient\\_cardiology\\_related & CABG\\_cost\\_outpatient\\_cardiology\\_related & office\\_visit\\_cost & catheterization\\_cost & ecg\\_cost & cardiac\\_ct\\_cost & cardiac\\_mri\\_cost & stress\\_test\\_cost & echocardiography\\_cost & angioplasty\\_cost & CABG\\_cost & office\\_visit\\_cost\\_cardiology\\_related & catheterization\\_cost\\_cardiology\\_related & ecg\\_cost\\_cardiology\\_related & cardiac\\_ct\\_cost\\_cardiology\\_related & cardiac\\_mri\\_cost\\_cardiology\\_related & stress\\_test\\_cost\\_cardiology\\_related & echocardiography\\_cost\\_cardiology\\_related & angioplasty\\_cost\\_cardiology\\_related & CABG\\_cost\\_cardiology\\_related & tot\\_cheap\\_prcdr\\_cost & tot\\_expensive\\_prcdr\\_cost & tot\\_cheap\\_prcdr\\_cost\\_cardiology\\_related & tot\\_expensive\\_prcdr\\_cost\\_cardiology\\_related & tot\\_cheap\\_prcdr\\_count & tot\\_expensive\\_prcdr\\_count & tot\\_cheap\\_prcdr\\_count\\_cardiology\\_related & tot\\_expensive\\_prcdr\\_count\\_cardiology\\_related & REFERENCE\\_YEAR\\_2013 & STATE\\_CODE\\_2013 & COUNTY\\_CODE\\_2013 & SEX\\_CODE\\_2013 & RACE\\_CODE\\_2013 & AGE\\_2013 & ORIG\\_REASON\\_FOR\\_ENTITLEMENT\\_2013 & CURR\\_REASON\\_FOR\\_ENTITLEMENT\\_2013 & ENTITLEMENT\\_BUY\\_IN\\_IND01\\_2013 & ENTITLEMENT\\_BUY\\_IN\\_IND02\\_2013 & ENTITLEMENT\\_BUY\\_IN\\_IND03\\_2013 & ENTITLEMENT\\_BUY\\_IN\\_IND04\\_2013 & ENTITLEMENT\\_BUY\\_IN\\_IND05\\_2013 & ENTITLEMENT\\_BUY\\_IN\\_IND06\\_2013 & ENTITLEMENT\\_BUY\\_IN\\_IND07\\_2013 & ENTITLEMENT\\_BUY\\_IN\\_IND08\\_2013 & ENTITLEMENT\\_BUY\\_IN\\_IND09\\_2013 & ENTITLEMENT\\_BUY\\_IN\\_IND10\\_2013 & ENTITLEMENT\\_BUY\\_IN\\_IND11\\_2013 & ENTITLEMENT\\_BUY\\_IN\\_IND12\\_2013 & HMO\\_INDICATOR01\\_2013 & HMO\\_INDICATOR02\\_2013 & HMO\\_INDICATOR03\\_2013 & HMO\\_INDICATOR04\\_2013 & HMO\\_INDICATOR05\\_2013 & HMO\\_INDICATOR06\\_2013 & HMO\\_INDICATOR07\\_2013 & HMO\\_INDICATOR08\\_2013 & HMO\\_INDICATOR09\\_2013 & HMO\\_INDICATOR10\\_2013 & HMO\\_INDICATOR11\\_2013 & HMO\\_INDICATOR12\\_2013 & ⋯ & name\\_last & name\\_first & name\\_middle & SPEC\\_PRIM\\_1\\_NAME & SPEC\\_PRIM\\_1 & SPEC\\_BROAD & SEX & SPEC\\_PRIM\\_2 & SPEC\\_PRIM\\_2\\_NAME & SPEC\\_SOURCE & SPEC\\_SOURCE\\_HOSP & POS\\_OFFICE & POS\\_INPAT & POS\\_OPD & POS\\_ER & POS\\_NURSING & POS\\_ASC & POS\\_RESID & POS\\_RETAIL & POS\\_URGENT & POS\\_OTHER & STATE & STATE\\_MULTI & CBSA\\_TYPE & CBSA\\_CD & CBSA\\_NAME & CBSA\\_MULTI & NPI\\_SRVC\\_LINES & NPI\\_ALLOWED\\_AMT & NPI\\_UNQ\\_BENES & TIN1\\_SRVC\\_MONTH & TIN1\\_SRVC\\_LINES & TIN1\\_ALLOWED\\_AMT & TIN1\\_UNQ\\_BENES & TIN2\\_SRVC\\_MONTH & TIN2\\_SRVC\\_LINES & TIN2\\_ALLOWED\\_AMT & TIN2\\_UNQ\\_BENES & BIRTH\\_YR & lns\\_office & lns\\_opd & most\\_common\\_cardiologist\\_integrated\\_in\\_year\\_of\\_diagnosis & tot\\_allowed\\_carrier\\_same\\_tin & tot\\_allowed\\_carrier\\_not\\_same\\_tin & distinct\\_clinicians\\_same\\_tin & distinct\\_cardiologists\\_same\\_tin & distinct\\_clinicians\\_not\\_same\\_tin & distinct\\_cardiologists\\_not\\_same\\_tin & tot\\_allowed\\_carrier\\_same\\_tin\\_cardiology\\_related & tot\\_allowed\\_carrier\\_not\\_same\\_tin\\_cardiology\\_related & tot\\_allowed\\_outpatient\\_same\\_tin & tot\\_allowed\\_outpatient\\_not\\_same\\_tin & tot\\_allowed\\_inpatient\\_same\\_tin & tot\\_allowed\\_inpatient\\_not\\_same\\_tin & tot\\_allowed\\_outpatient\\_same\\_tin\\_cardiology\\_related & tot\\_allowed\\_outpatient\\_not\\_same\\_tin\\_cardiology\\_related & tot\\_allowed\\_inpatient\\_same\\_tin\\_cardiology\\_related & tot\\_allowed\\_inpatient\\_not\\_same\\_tin\\_cardiology\\_related & total\\_exp\\_same\\_tin & total\\_exp\\_same\\_tin\\_cardiology\\_related & total\\_exp\\_not\\_same\\_tin & total\\_exp\\_not\\_same\\_tin\\_cardiology\\_related & year\\_before\\_diagnosis & hcc1 & hcc2 & hcc6 & hcc8 & hcc9 & hcc10 & hcc11 & hcc12 & hcc17 & hcc18 & hcc19 & hcc21 & hcc22 & hcc23 & hcc27 & hcc28 & hcc29 & hcc33 & hcc34 & hcc35 & hcc39 & hcc40 & hcc46 & hcc47 & hcc48 & hcc51 & hcc52 & hcc54 & hcc55 & hcc57 & hcc58 & hcc70 & hcc71 & hcc72 & hcc73 & hcc74 & hcc75 & hcc76 & hcc77 & hcc78 & hcc79 & hcc80 & hcc82 & hcc83 & hcc84 & hcc85 & hcc86 & hcc87 & hcc88 & hcc96 & hcc99 & hcc100 & hcc103 & hcc104 & hcc106 & hcc107 & hcc108 & hcc110 & hcc111 & hcc112 & hcc114 & hcc115 & hcc122 & hcc124 & hcc134 & hcc135 & hcc136 & hcc137 & hcc138 & hcc139 & hcc140 & hcc141 & hcc157 & hcc158 & hcc159 & hcc160 & hcc161 & hcc162 & hcc166 & hcc167 & hcc169 & hcc170 & hcc173 & hcc176 & hcc186 & hcc188 & hcc189\\\\\n",
       " <dbl> & <date> & <dbl> & <dbl> & <dbl> & <dbl> & <dbl> & <dbl> & <dbl> & <dbl> & <dbl> & <dbl> & <dbl> & <dbl> & <dbl> & <dbl> & <dbl> & <dbl> & <dbl> & <dbl> & <dbl> & <dbl> & <dbl> & <dbl> & <dbl> & <dbl> & <dbl> & <lgl> & <lgl> & <lgl> & <date> & <lgl> & <lgl> & <lgl> & <lgl> & <lgl> & <lgl> & <lgl> & <lgl> & <lgl> & <date> & <date> & <dbl> & <dbl> & <dbl> & <dbl> & <dbl> & <lgl> & <lgl> & <dbl> & <dbl> & <dbl> & <dbl> & <dbl> & <dbl> & <dbl> & <dbl> & <dbl> & <dbl> & <dbl> & <dbl> & <dbl> & <dbl> & <dbl> & <dbl> & <dbl> & <dbl> & <dbl> & <dbl> & <dbl> & <dbl> & <dbl> & <dbl> & <dbl> & <dbl> & <dbl> & <dbl> & <dbl> & <dbl> & <dbl> & <dbl> & <dbl> & <dbl> & <dbl> & <dbl> & <dbl> & <dbl> & <dbl> & <dbl> & <dbl> & <dbl> & <dbl> & <dbl> & <dbl> & <dbl> & <dbl> & <dbl> & <dbl> & <dbl> & <dbl> & <dbl> & <dbl> & <dbl> & <dbl> & <dbl> & <dbl> & <dbl> & <dbl> & <dbl> & <dbl> & <dbl> & <dbl> & <dbl> & <dbl> & <dbl> & <dbl> & <dbl> & <dbl> & <dbl> & <dbl> & <dbl> & <dbl> & <dbl> & <dbl> & <dbl> & <dbl> & <chr> & <chr> & <chr> & <chr> & <chr> & <chr> & <chr> & <chr> & <chr> & <chr> & <chr> & <chr> & <chr> & <chr> & <chr> & <chr> & <chr> & <chr> & <chr> & <chr> & <chr> & <chr> & <chr> & <chr> & ⋯ & <chr> & <chr> & <chr> & <chr> & <chr> & <dbl> & <chr> & <lgl> & <chr> & <dbl> & <lgl> & <dbl> & <dbl> & <dbl> & <dbl> & <dbl> & <dbl> & <dbl> & <dbl> & <dbl> & <dbl> & <chr> & <dbl> & <dbl> & <dbl> & <chr> & <dbl> & <dbl> & <dbl> & <dbl> & <chr> & <dbl> & <dbl> & <dbl> & <chr> & <dbl> & <dbl> & <dbl> & <dbl> & <dbl> & <dbl> & <lgl> & <dbl> & <dbl> & <dbl> & <dbl> & <dbl> & <dbl> & <dbl> & <dbl> & <dbl> & <dbl> & <dbl> & <dbl> & <dbl> & <dbl> & <dbl> & <dbl> & <dbl> & <dbl> & <dbl> & <dbl> & <dbl> & <dbl> & <dbl> & <dbl> & <dbl> & <dbl> & <dbl> & <dbl> & <dbl> & <dbl> & <dbl> & <dbl> & <dbl> & <dbl> & <dbl> & <dbl> & <dbl> & <dbl> & <dbl> & <dbl> & <dbl> & <dbl> & <dbl> & <dbl> & <dbl> & <dbl> & <dbl> & <dbl> & <dbl> & <dbl> & <dbl> & <dbl> & <dbl> & <dbl> & <dbl> & <dbl> & <dbl> & <dbl> & <dbl> & <dbl> & <dbl> & <dbl> & <dbl> & <dbl> & <dbl> & <dbl> & <dbl> & <dbl> & <dbl> & <dbl> & <dbl> & <dbl> & <dbl> & <dbl> & <dbl> & <dbl> & <dbl> & <dbl> & <dbl> & <dbl> & <dbl> & <dbl> & <dbl> & <dbl> & <dbl> & <dbl> & <dbl> & <dbl> & <dbl> & <dbl> & <dbl> & <dbl> & <dbl> & <dbl> & <dbl> & <dbl> & <dbl> & <dbl> & <dbl> & <dbl> & <dbl> & <dbl> & <dbl> & <dbl> & <dbl> & <dbl> & <dbl> & <dbl>\\\\\n",
       "\\hline\n",
       "\t 100004643 & 2018-07-24 &  2164.96 &  2 &  209.35 & 2 &  5 & 1 & 0 & 0 &  4 & 0 &   0.00 &  1 &  16.26 & 0 & 0 & 0 & 0 & 1 & 60.06 & 0 &   0.00 & 0 &    0.00 & 0 & 0 & TRUE & FALSE & FALSE & NA & FALSE & FALSE &  TRUE & FALSE & FALSE & FALSE & FALSE & FALSE &  TRUE & NA & NA &         NA &         NA & 1922000801 & 2018 & NA & FALSE & FALSE & 1098.55 & 1 & 104.30 & 1 &  5 & 1 & 0 & 0 & 4 & 0 &   0.00 & 1 & 16.26 & 0 & 0 & 0 & 0 & 0 &  0.00 & 0 &  0.00 & 0 &    0.00 & 0 & 0 & 0 & 0.00 &   0.00 & 0 & 0 & 0 & 0 &    0.00 & 0 & 0 & 0.00 &   0.0 & 0 & 0 & 0 & 0 &    0.00 & 0 &  209.35 &   0.00 &  16.26 & 0 & 0 & 60.06 &   0.00 &    0.00 & 0 & 104.30 &   0.00 &  16.26 & 0 & 0 &  0.00 &  0.00 &    0.00 & 0 &  269.41 &    0.00 & 104.30 &    0.00 &  3 & 0 &  1 & 0 & 13 & 34 & 240 & 2 & 1 & 77 & 0 & 0 & 3 & 3 & 3 & 3 & 3 & 3 & 3 & 3 & 3 & 3 & 3 & 3 & 0 & 0 & 0 & 0 & 0 & 0 & 0 & 0 & 0 & 0 & 0 & 0 & ⋯ & LELEUX      & JON     & DAMIAN & Cardiology & 06 & 2 & M & NA & NONE & 1 & NA & 0.8810704 & 0.05155199 & 0.06513618 & 0.0022413910 & 0.0000000000 & 0 & 0 & 0 & 0 & 0 & LA & 0 & 1 & 29180 & Lafayette, LA                         & 0 & 14723 & 1811872.4 & 2866 & 111111111111 & 14396 & 1788733.8 & 2754 & 111111111111 & 327 & 23138.52 & 307 & 1967 & 12972 &  959 & FALSE & 1345.60 &   819.36 &  1 & 1 &  4 & 0 &  310.35 &  788.20 & NA &        NA & NA &        NA & NA &       NA & NA &       NA & 1345.60 &  310.35 &    819.36 &   788.20 & 2017 &  0 &  0 &  0 &  0 &  0 &  0 &  0 &  0 &  0 &  0 &  0 &  0 &  0 &  0 &  0 &  0 &  0 &  0 &  0 &  0 &  0 &  0 &  0 &  0 &  1 &  0 &  0 &  0 &  0 &  0 &  0 &  0 &  0 &  0 &  0 &  0 &  0 &  0 &  0 &  0 &  0 &  0 &  0 &  0 &  0 &  1 &  1 &  0 &  0 &  1 &  0 &  1 &  0 &  0 &  0 &  0 &  1 &  0 &  0 &  0 &  0 &  0 &  0 &  0 &  0 &  1 &  0 &  0 &  0 &  0 &  0 &  0 &  0 &  0 &  0 &  0 &  0 &  0 &  0 &  0 &  0 &  0 &  0 &  0 &  0 &  0 &  0\\\\\n",
       "\t 100008543 & 2014-04-16 &  2149.56 & 12 &  869.89 & 2 & 22 & 4 & 5 & 1 & 12 & 0 &   0.00 &  3 &  25.29 & 0 & 0 & 0 & 0 & 0 &  0.00 & 0 &   0.00 & 0 &    0.00 & 0 & 0 & TRUE & FALSE & FALSE & NA & FALSE & FALSE & FALSE & FALSE & FALSE & FALSE & FALSE &  TRUE & FALSE & NA & NA &         NA &         NA & 1033107701 & 2014 & NA & FALSE & FALSE &  178.71 & 2 & 146.81 & 1 &  4 & 3 & 1 & 0 & 0 & 0 &   0.00 & 0 &  0.00 & 0 & 0 & 0 & 0 & 0 &  0.00 & 0 &  0.00 & 0 &    0.00 & 0 & 0 & 0 & 0.00 & 490.65 & 0 & 0 & 0 & 0 &    0.00 & 0 & 0 & 0.00 & 126.3 & 0 & 0 & 0 & 0 &    0.00 & 0 &  869.89 &   0.00 & 515.94 & 0 & 0 &  0.00 &   0.00 &    0.00 & 0 & 146.81 &   0.00 & 126.30 & 0 & 0 &  0.00 &  0.00 &    0.00 & 0 &  869.89 &    0.00 & 146.81 &    0.00 & 12 & 0 &  2 & 0 & 13 & 49 &  90 & 1 & 1 & 76 & 0 & 0 & 3 & 3 & 3 & 3 & 3 & 3 & 3 & 3 & 3 & 3 & 3 & 3 & 0 & 0 & 0 & 0 & 0 & 0 & 0 & 0 & 0 & 0 & 0 & 0 & ⋯ & BROWN       & WILLIAM & NA     & Cardiology & 06 & 2 & M & NA & NONE & 1 & NA & 0.1854909 & 0.19504778 & 0.61946134 & 0.0000000000 & 0.0000000000 & 0 & 0 & 0 & 0 & 0 & VA & 0 & 1 & 31340 & Lynchburg, VA                         & 0 &  2302 &  163198.9 & 1109 & 111111111111 &  2297 &  163157.3 & 1105 & 000001000000 &   5 &    41.65 &   5 & 1948 &   427 & 1426 &  TRUE &  899.06 &  1250.50 & 13 & 4 &  9 & 0 &  106.90 &   71.81 &  0 &   6337.03 & NA &        NA &  0 &   372.60 & NA &       NA &  899.06 &  106.90 &   7587.53 &   444.41 & 2013 &  0 &  0 &  0 &  0 &  0 &  0 &  0 &  0 &  0 &  0 &  0 &  0 &  0 &  0 &  0 &  0 &  0 &  0 &  0 &  0 &  0 &  0 &  0 &  0 &  0 &  0 &  0 &  0 &  0 &  0 &  1 &  0 &  0 &  0 &  0 &  0 &  0 &  0 &  0 &  0 &  0 &  0 &  0 &  0 &  0 &  0 &  0 &  1 &  0 &  0 &  0 &  0 &  0 &  0 &  0 &  0 &  0 &  0 &  0 &  0 &  0 &  0 &  0 &  0 &  0 &  1 &  0 &  0 &  0 &  0 &  0 &  0 &  0 &  0 &  0 &  0 &  0 &  0 &  0 &  0 &  0 &  0 &  0 &  0 &  0 &  0 &  0\\\\\n",
       "\t 100010653 & 2014-02-14 & 16861.51 & 16 & 1376.90 & 4 & 49 & 9 & 7 & 2 & 31 & 1 & 345.44 & 12 & 114.88 & 0 & 0 & 0 & 0 & 0 &  0.00 & 2 & 133.10 & 2 &  991.67 & 0 & 0 & TRUE &  TRUE & FALSE & NA & FALSE & FALSE & FALSE &  TRUE & FALSE & FALSE & FALSE &  TRUE & FALSE & 2014-02-14 & 2014-02-24 & 1790758688 & 1114990025 & 1790758688 & 2014 & 10 & FALSE &  TRUE & 3309.14 & 3 & 258.31 & 2 & 13 & 7 & 2 & 1 & 3 & 1 & 345.44 & 5 & 36.15 & 0 & 0 & 0 & 0 & 0 &  0.00 & 1 & 66.55 & 2 &  991.67 & 0 & 0 & 0 & 0.00 &   0.00 & 0 & 0 & 0 & 0 &    0.00 & 0 & 0 & 0.00 &   0.0 & 0 & 0 & 0 & 0 &    0.00 & 0 & 1376.90 & 345.44 & 114.88 & 0 & 0 &  0.00 & 133.10 &  991.67 & 0 & 258.31 & 345.44 &  36.15 & 0 & 0 &  0.00 & 66.55 &  991.67 & 0 & 1510.00 & 1337.11 & 324.86 & 1337.11 & 18 & 3 &  4 & 3 & 13 & 33 & 740 & 2 & 1 & 76 & 0 & 0 & 3 & 3 & 3 & 3 & 3 & 3 & 3 & 3 & 3 & 3 & 3 & 3 & 0 & 0 & 0 & 0 & 0 & 0 & 0 & 0 & 0 & 0 & 0 & 0 & ⋯ & HAMMOUD     & ALI     & NA     & Cardiology & 06 & 2 & M & NA & NONE & 1 & NA & 0.4856055 & 0.32505712 & 0.10555979 & 0.0837776090 & 0.0000000000 & 0 & 0 & 0 & 0 & 0 & NY & 0 & 1 & 35620 & New York-Newark-Jersey City, NY-NJ-PA & 0 &  6565 &  428347.0 & 2519 & 111111111111 &  6565 &  428347.0 & 2519 & NA           &  NA &       NA &  NA & 1969 &  3188 &  693 & FALSE & 2848.26 & 14013.25 & 12 & 3 & 37 & 6 & 1035.17 & 2273.97 &  0 & 176109.78 &  0 & 311264.38 & NA &       NA & NA &       NA & 2848.26 & 1035.17 & 501387.41 &  2273.97 & 2013 &  0 &  1 &  0 &  0 &  0 &  0 &  0 &  0 &  0 &  0 &  1 &  0 &  0 &  1 &  0 &  0 &  0 &  0 &  0 &  0 &  0 &  0 &  0 &  0 &  0 &  0 &  0 &  0 &  0 &  0 &  0 &  0 &  0 &  0 &  0 &  0 &  0 &  0 &  0 &  0 &  0 &  0 &  0 &  0 &  1 &  1 &  0 &  0 &  0 &  0 &  0 &  0 &  0 &  0 &  0 &  0 &  0 &  0 &  1 &  0 &  0 &  1 &  0 &  0 &  1 &  1 &  0 &  0 &  0 &  0 &  0 &  0 &  0 &  0 &  0 &  0 &  0 &  0 &  0 &  0 &  0 &  0 &  0 &  0 &  0 &  0 &  0\\\\\n",
       "\t 100010781 & 2017-10-16 & 13178.43 & 14 & 1191.80 & 6 & 21 & 4 & 1 & 2 & 14 & 2 & 269.30 &  2 &  27.59 & 0 & 0 & 0 & 0 & 0 &  0.00 & 3 & 595.98 & 4 & 1543.65 & 0 & 0 & TRUE & FALSE & FALSE & NA & FALSE & FALSE & FALSE & FALSE & FALSE & FALSE & FALSE & FALSE &  TRUE & 2017-10-16 & 2017-10-16 & 1609845817 & 1609845817 & 1982698973 & 2017 &  0 &  TRUE &  TRUE & 2704.51 & 6 & 693.47 & 5 &  4 & 3 & 1 & 0 & 0 & 2 & 269.30 & 1 & 18.54 & 0 & 0 & 0 & 0 & 0 &  0.00 & 1 & 68.04 & 4 & 1543.65 & 0 & 0 & 0 & 0.01 &   0.00 & 0 & 0 & 0 & 0 & 6621.35 & 0 & 0 & 0.01 &   0.0 & 0 & 0 & 0 & 0 & 6621.35 & 0 & 1191.80 & 269.31 &  27.59 & 0 & 0 &  0.00 & 595.98 & 8165.00 & 0 & 693.47 & 269.31 &  18.54 & 0 & 0 &  0.00 & 68.04 & 8165.00 & 0 & 1787.78 & 8434.31 & 761.51 & 8434.31 & 17 & 6 &  7 & 6 & 13 & 21 &  20 & 2 & 1 & 76 & 0 & 0 & 3 & 3 & 3 & 3 & 3 & 3 & 3 & 3 & 3 & 3 & 3 & 3 & 0 & 0 & 0 & 0 & 0 & 0 & 0 & 0 & 0 & 0 & 0 & 0 & ⋯ & PORTERFIELD & JAMES   & K      & Cardiology & 06 & 2 & M & NA & NONE & 1 & NA & 0.7182977 & 0.22207820 & 0.04385396 & 0.0153380860 & 0.0004320588 & 0 & 0 & 0 & 0 & 0 & MD & 0 & 1 & 12580 & Baltimore-Columbia-Towson, MD         & 0 &  4629 &  418995.5 & 2323 & 111111111111 &  3860 &  411640.6 & 1814 & 111111111111 & 769 &  7354.90 & 674 & 1954 &  3325 &  203 &  TRUE & 1318.46 & 11859.97 &  2 & 1 & 19 & 3 &  367.64 & 2336.87 &  0 &  17704.68 &  0 &  13915.48 &  0 & 12305.11 &  0 & 13915.48 & 1318.46 &  367.64 &  43480.13 & 28557.46 & 2016 &  0 &  0 &  0 &  0 &  0 &  0 &  0 &  0 &  0 &  0 &  0 &  0 &  0 &  0 &  0 &  0 &  0 &  0 &  0 &  0 &  0 &  0 &  0 &  0 &  0 &  0 &  0 &  0 &  0 &  0 &  0 &  0 &  0 &  0 &  0 &  0 &  0 &  0 &  0 &  0 &  0 &  0 &  0 &  0 &  0 &  0 &  0 &  0 &  0 &  1 &  0 &  0 &  0 &  0 &  0 &  0 &  0 &  0 &  0 &  0 &  0 &  0 &  0 &  0 &  0 &  0 &  0 &  0 &  0 &  0 &  0 &  0 &  0 &  0 &  0 &  0 &  0 &  0 &  0 &  0 &  0 &  0 &  0 &  0 &  0 &  0 &  0\\\\\n",
       "\t 100013703 & 2015-05-18 &  6408.96 & 11 &  855.53 & 0 & 15 & 0 & 1 & 1 & 13 & 0 &   0.00 &  2 &  34.03 & 0 & 0 & 0 & 0 & 1 & 65.83 & 0 &   0.00 & 0 &    0.00 & 0 & 0 & TRUE &  TRUE & FALSE & NA & FALSE & FALSE &  TRUE & FALSE & FALSE & FALSE & FALSE & FALSE & FALSE & NA & NA &         NA &         NA & 1982617072 & 2015 & NA & FALSE & FALSE & 1637.42 & 9 & 711.56 & 0 &  3 & 0 & 1 & 0 & 2 & 0 &   0.00 & 2 & 34.03 & 0 & 0 & 0 & 0 & 1 & 65.83 & 0 &  0.00 & 0 &    0.00 & 0 & 0 & 0 & 0.00 &   0.00 & 0 & 0 & 0 & 0 &    0.00 & 0 & 0 & 0.00 &   0.0 & 0 & 0 & 0 & 0 &    0.00 & 0 &  855.53 &   0.00 &  34.03 & 0 & 0 & 65.83 &   0.00 &    0.00 & 0 & 711.56 &   0.00 &  34.03 & 0 & 0 & 65.83 &  0.00 &    0.00 & 0 &  921.36 &    0.00 & 777.39 &    0.00 & 12 & 0 & 10 & 0 & 13 & 10 &  70 & 2 & 1 & 76 & 0 & 0 & 3 & 3 & 3 & 3 & 3 & 3 & 3 & 3 & 3 & 3 & 3 & 3 & 0 & 0 & 0 & 0 & 0 & 0 & 0 & 0 & 0 & 0 & 0 & 0 & ⋯ & CONNELLY    & TERENCE & P      & Cardiology & 06 & 2 & M & NA & NONE & 1 & NA & 0.7951728 & 0.16314956 & 0.04154577 & 0.0001318913 & 0.0000000000 & 0 & 0 & 0 & 0 & 0 & FL & 0 & 1 & 39460 & Punta Gorda, FL                       & 1 &  7582 & 1252974.0 & 1892 & 111111111111 &  7559 & 1247715.9 & 1873 & 001101010111 &  23 &  5258.12 &  19 & 1959 &  6029 &  315 & FALSE & 1268.06 &  5140.90 &  3 & 0 & 12 & 0 & 1158.92 &  478.50 &  0 &   1037.85 & NA &        NA & NA &       NA & NA &       NA & 1268.06 & 1158.92 &   6178.75 &   478.50 & 2014 &  0 &  0 &  0 &  0 &  0 &  0 &  0 &  0 &  0 &  0 &  0 &  0 &  0 &  0 &  0 &  0 &  0 &  0 &  0 &  0 &  0 &  0 &  0 &  0 &  0 &  0 &  0 &  0 &  0 &  0 &  0 &  0 &  0 &  0 &  0 &  0 &  0 &  0 &  0 &  0 &  0 &  0 &  0 &  0 &  0 &  0 &  0 &  1 &  0 &  0 &  0 &  0 &  0 &  0 &  0 &  0 &  0 &  0 &  0 &  0 &  0 &  0 &  0 &  0 &  0 &  0 &  0 &  0 &  0 &  0 &  0 &  0 &  0 &  0 &  0 &  0 &  0 &  0 &  0 &  0 &  0 &  0 &  0 &  0 &  0 &  0 &  0\\\\\n",
       "\t 100013815 & 2018-10-22 &  1615.67 & 12 & 1145.16 & 1 &  5 & 1 & 1 & 0 &  3 & 0 &   0.00 &  0 &   0.00 & 0 & 0 & 0 & 0 & 0 &  0.00 & 0 &   0.00 & 0 &    0.00 & 0 & 0 & TRUE & FALSE & FALSE & NA & FALSE & FALSE &  TRUE & FALSE & FALSE & FALSE & FALSE & FALSE &  TRUE & NA & NA &         NA &         NA & 1235147182 & 2018 & NA & FALSE & FALSE &  381.15 & 4 & 342.90 & 0 &  3 & 0 & 1 & 0 & 2 & 0 &   0.00 & 0 &  0.00 & 0 & 0 & 0 & 0 & 0 &  0.00 & 0 &  0.00 & 0 &    0.00 & 0 & 0 & 0 & 0.00 &   0.00 & 0 & 0 & 0 & 0 &    0.00 & 0 & 0 & 0.00 &   0.0 & 0 & 0 & 0 & 0 &    0.00 & 0 & 1145.16 &   0.00 &   0.00 & 0 & 0 &  0.00 &   0.00 &    0.00 & 0 & 342.90 &   0.00 &   0.00 & 0 & 0 &  0.00 &  0.00 &    0.00 & 0 & 1145.16 &    0.00 & 342.90 &    0.00 & 12 & 0 &  4 & 0 & 13 & 10 & 280 & 2 & 1 & 76 & 0 & 0 & 3 & 3 & 3 & 3 & 3 & 3 & 3 & 3 & 3 & 3 & 3 & 3 & 0 & 0 & 0 & 0 & 0 & 0 & 0 & 0 & 0 & 0 & 0 & 0 & ⋯ & KHAN        & TEHREEN & NA     & Cardiology & 06 & 2 & F & NA & NONE & 1 & NA & 0.6941682 & 0.22830018 & 0.06735985 & 0.0101717900 & 0.0000000000 & 0 & 0 & 0 & 0 & 0 & FL & 0 & 1 & 45300 & Tampa-St. Petersburg-Clearwater, FL   & 0 &  4424 &  446058.3 & 2035 & 111111111111 &  4424 &  446058.3 & 2035 & NA           &  NA &       NA &  NA & 1964 &  3071 &  298 & FALSE &  233.44 &  1382.23 &  2 & 1 &  3 & 0 &  124.40 &  256.75 & NA &        NA & NA &        NA & NA &       NA & NA &       NA &  233.44 &  124.40 &   1382.23 &   256.75 & 2017 & NA & NA & NA & NA & NA & NA & NA & NA & NA & NA & NA & NA & NA & NA & NA & NA & NA & NA & NA & NA & NA & NA & NA & NA & NA & NA & NA & NA & NA & NA & NA & NA & NA & NA & NA & NA & NA & NA & NA & NA & NA & NA & NA & NA & NA & NA & NA & NA & NA & NA & NA & NA & NA & NA & NA & NA & NA & NA & NA & NA & NA & NA & NA & NA & NA & NA & NA & NA & NA & NA & NA & NA & NA & NA & NA & NA & NA & NA & NA & NA & NA & NA & NA & NA & NA & NA & NA\\\\\n",
       "\\end{tabular}\n"
      ],
      "text/markdown": [
       "\n",
       "A data.table: 6 × 683\n",
       "\n",
       "| DESY_SORT_KEY &lt;dbl&gt; | first_diagnosis &lt;date&gt; | tot_allowed_carrier &lt;dbl&gt; | office_visit_count &lt;dbl&gt; | office_visit_cost_carrier &lt;dbl&gt; | cardiology_visit_count &lt;dbl&gt; | distinct_clinicians &lt;dbl&gt; | distinct_cardiologists &lt;dbl&gt; | distinct_primary_care_physicians &lt;dbl&gt; | distinct_surgeons &lt;dbl&gt; | distinct_other_specialties &lt;dbl&gt; | catheterization_count &lt;dbl&gt; | catheterization_cost_carrier &lt;dbl&gt; | ecg_count &lt;dbl&gt; | ecg_cost_carrier &lt;dbl&gt; | cardiac_ct_count &lt;dbl&gt; | cardiac_ct_cost_carrier &lt;dbl&gt; | cardiac_mri_count &lt;dbl&gt; | cardiac_mri_cost_carrier &lt;dbl&gt; | stress_test_count &lt;dbl&gt; | stress_test_cost_carrier &lt;dbl&gt; | echocardiography_count &lt;dbl&gt; | echocardiography_cost_carrier &lt;dbl&gt; | angioplasty_count &lt;dbl&gt; | angioplasty_cost_carrier &lt;dbl&gt; | CABG_count &lt;dbl&gt; | CABG_cost_carrier &lt;dbl&gt; | stable_angina &lt;lgl&gt; | unstable_angina &lt;lgl&gt; | MI &lt;lgl&gt; | MI_date &lt;date&gt; | cardiac_arrest &lt;lgl&gt; | stroke &lt;lgl&gt; | hypertension &lt;lgl&gt; | copd &lt;lgl&gt; | obesity &lt;lgl&gt; | depression &lt;lgl&gt; | diabetes &lt;lgl&gt; | icd_9_pure &lt;lgl&gt; | icd_10_pure &lt;lgl&gt; | catheterization_date &lt;date&gt; | angioplasty_date &lt;date&gt; | catheterization_doc_NPI &lt;dbl&gt; | angioplasty_doc_NPI &lt;dbl&gt; | diagnosing_doc_NPI &lt;dbl&gt; | year_first_diagnosed &lt;dbl&gt; | time_difference_angio_cath &lt;dbl&gt; | angioplasty_with_cath &lt;lgl&gt; | angioplasty_during_year_after_cath &lt;lgl&gt; | tot_allowed_carrier_cardiology_related &lt;dbl&gt; | office_visit_count_cardiology_related &lt;dbl&gt; | office_visit_cost_carrier_cardiology_related &lt;dbl&gt; | cardiology_visit_count_cardiology_related &lt;dbl&gt; | distinct_clinicians_cardiology_related &lt;dbl&gt; | distinct_cardiologists_cardiology_related &lt;dbl&gt; | distinct_primary_care_physicians_cardiology_related &lt;dbl&gt; | distinct_surgeons_cardiology_related &lt;dbl&gt; | distinct_other_specialties_cardiology_related &lt;dbl&gt; | catheterization_count_cardiology_related &lt;dbl&gt; | catheterization_cost_carrier_cardiology_related &lt;dbl&gt; | ecg_count_cardiology_related &lt;dbl&gt; | ecg_cost_carrier_cardiology_related &lt;dbl&gt; | cardiac_ct_count_cardiology_related &lt;dbl&gt; | cardiac_ct_cost_carrier_cardiology_related &lt;dbl&gt; | cardiac_mri_count_cardiology_related &lt;dbl&gt; | cardiac_mri_cost_carrier_cardiology_related &lt;dbl&gt; | stress_test_count_cardiology_related &lt;dbl&gt; | stress_test_cost_carrier_cardiology_related &lt;dbl&gt; | echocardiography_count_cardiology_related &lt;dbl&gt; | echocardiography_cost_carrier_cardiology_related &lt;dbl&gt; | angioplasty_count_cardiology_related &lt;dbl&gt; | angioplasty_cost_carrier_cardiology_related &lt;dbl&gt; | CABG_count_cardiology_related &lt;dbl&gt; | CABG_cost_carrier_cardiology_related &lt;dbl&gt; | office_visit_cost_outpatient &lt;dbl&gt; | catheterization_cost_outpatient &lt;dbl&gt; | ecg_cost_outpatient &lt;dbl&gt; | cardiac_ct_cost_outpatient &lt;dbl&gt; | cardiac_mri_cost_outpatient &lt;dbl&gt; | stress_test_cost_outpatient &lt;dbl&gt; | echocardiography_cost_outpatient &lt;dbl&gt; | angioplasty_cost_outpatient &lt;dbl&gt; | CABG_cost_outpatient &lt;dbl&gt; | office_visit_cost_outpatient_cardiology_related &lt;dbl&gt; | catheterization_cost_outpatient_cardiology_related &lt;dbl&gt; | ecg_cost_outpatient_cardiology_related &lt;dbl&gt; | cardiac_ct_cost_outpatient_cardiology_related &lt;dbl&gt; | cardiac_mri_cost_outpatient_cardiology_related &lt;dbl&gt; | stress_test_cost_outpatient_cardiology_related &lt;dbl&gt; | echocardiography_cost_outpatient_cardiology_related &lt;dbl&gt; | angioplasty_cost_outpatient_cardiology_related &lt;dbl&gt; | CABG_cost_outpatient_cardiology_related &lt;dbl&gt; | office_visit_cost &lt;dbl&gt; | catheterization_cost &lt;dbl&gt; | ecg_cost &lt;dbl&gt; | cardiac_ct_cost &lt;dbl&gt; | cardiac_mri_cost &lt;dbl&gt; | stress_test_cost &lt;dbl&gt; | echocardiography_cost &lt;dbl&gt; | angioplasty_cost &lt;dbl&gt; | CABG_cost &lt;dbl&gt; | office_visit_cost_cardiology_related &lt;dbl&gt; | catheterization_cost_cardiology_related &lt;dbl&gt; | ecg_cost_cardiology_related &lt;dbl&gt; | cardiac_ct_cost_cardiology_related &lt;dbl&gt; | cardiac_mri_cost_cardiology_related &lt;dbl&gt; | stress_test_cost_cardiology_related &lt;dbl&gt; | echocardiography_cost_cardiology_related &lt;dbl&gt; | angioplasty_cost_cardiology_related &lt;dbl&gt; | CABG_cost_cardiology_related &lt;dbl&gt; | tot_cheap_prcdr_cost &lt;dbl&gt; | tot_expensive_prcdr_cost &lt;dbl&gt; | tot_cheap_prcdr_cost_cardiology_related &lt;dbl&gt; | tot_expensive_prcdr_cost_cardiology_related &lt;dbl&gt; | tot_cheap_prcdr_count &lt;dbl&gt; | tot_expensive_prcdr_count &lt;dbl&gt; | tot_cheap_prcdr_count_cardiology_related &lt;dbl&gt; | tot_expensive_prcdr_count_cardiology_related &lt;dbl&gt; | REFERENCE_YEAR_2013 &lt;dbl&gt; | STATE_CODE_2013 &lt;dbl&gt; | COUNTY_CODE_2013 &lt;dbl&gt; | SEX_CODE_2013 &lt;dbl&gt; | RACE_CODE_2013 &lt;dbl&gt; | AGE_2013 &lt;dbl&gt; | ORIG_REASON_FOR_ENTITLEMENT_2013 &lt;dbl&gt; | CURR_REASON_FOR_ENTITLEMENT_2013 &lt;dbl&gt; | ENTITLEMENT_BUY_IN_IND01_2013 &lt;chr&gt; | ENTITLEMENT_BUY_IN_IND02_2013 &lt;chr&gt; | ENTITLEMENT_BUY_IN_IND03_2013 &lt;chr&gt; | ENTITLEMENT_BUY_IN_IND04_2013 &lt;chr&gt; | ENTITLEMENT_BUY_IN_IND05_2013 &lt;chr&gt; | ENTITLEMENT_BUY_IN_IND06_2013 &lt;chr&gt; | ENTITLEMENT_BUY_IN_IND07_2013 &lt;chr&gt; | ENTITLEMENT_BUY_IN_IND08_2013 &lt;chr&gt; | ENTITLEMENT_BUY_IN_IND09_2013 &lt;chr&gt; | ENTITLEMENT_BUY_IN_IND10_2013 &lt;chr&gt; | ENTITLEMENT_BUY_IN_IND11_2013 &lt;chr&gt; | ENTITLEMENT_BUY_IN_IND12_2013 &lt;chr&gt; | HMO_INDICATOR01_2013 &lt;chr&gt; | HMO_INDICATOR02_2013 &lt;chr&gt; | HMO_INDICATOR03_2013 &lt;chr&gt; | HMO_INDICATOR04_2013 &lt;chr&gt; | HMO_INDICATOR05_2013 &lt;chr&gt; | HMO_INDICATOR06_2013 &lt;chr&gt; | HMO_INDICATOR07_2013 &lt;chr&gt; | HMO_INDICATOR08_2013 &lt;chr&gt; | HMO_INDICATOR09_2013 &lt;chr&gt; | HMO_INDICATOR10_2013 &lt;chr&gt; | HMO_INDICATOR11_2013 &lt;chr&gt; | HMO_INDICATOR12_2013 &lt;chr&gt; | ⋯ ⋯ | name_last &lt;chr&gt; | name_first &lt;chr&gt; | name_middle &lt;chr&gt; | SPEC_PRIM_1_NAME &lt;chr&gt; | SPEC_PRIM_1 &lt;chr&gt; | SPEC_BROAD &lt;dbl&gt; | SEX &lt;chr&gt; | SPEC_PRIM_2 &lt;lgl&gt; | SPEC_PRIM_2_NAME &lt;chr&gt; | SPEC_SOURCE &lt;dbl&gt; | SPEC_SOURCE_HOSP &lt;lgl&gt; | POS_OFFICE &lt;dbl&gt; | POS_INPAT &lt;dbl&gt; | POS_OPD &lt;dbl&gt; | POS_ER &lt;dbl&gt; | POS_NURSING &lt;dbl&gt; | POS_ASC &lt;dbl&gt; | POS_RESID &lt;dbl&gt; | POS_RETAIL &lt;dbl&gt; | POS_URGENT &lt;dbl&gt; | POS_OTHER &lt;dbl&gt; | STATE &lt;chr&gt; | STATE_MULTI &lt;dbl&gt; | CBSA_TYPE &lt;dbl&gt; | CBSA_CD &lt;dbl&gt; | CBSA_NAME &lt;chr&gt; | CBSA_MULTI &lt;dbl&gt; | NPI_SRVC_LINES &lt;dbl&gt; | NPI_ALLOWED_AMT &lt;dbl&gt; | NPI_UNQ_BENES &lt;dbl&gt; | TIN1_SRVC_MONTH &lt;chr&gt; | TIN1_SRVC_LINES &lt;dbl&gt; | TIN1_ALLOWED_AMT &lt;dbl&gt; | TIN1_UNQ_BENES &lt;dbl&gt; | TIN2_SRVC_MONTH &lt;chr&gt; | TIN2_SRVC_LINES &lt;dbl&gt; | TIN2_ALLOWED_AMT &lt;dbl&gt; | TIN2_UNQ_BENES &lt;dbl&gt; | BIRTH_YR &lt;dbl&gt; | lns_office &lt;dbl&gt; | lns_opd &lt;dbl&gt; | most_common_cardiologist_integrated_in_year_of_diagnosis &lt;lgl&gt; | tot_allowed_carrier_same_tin &lt;dbl&gt; | tot_allowed_carrier_not_same_tin &lt;dbl&gt; | distinct_clinicians_same_tin &lt;dbl&gt; | distinct_cardiologists_same_tin &lt;dbl&gt; | distinct_clinicians_not_same_tin &lt;dbl&gt; | distinct_cardiologists_not_same_tin &lt;dbl&gt; | tot_allowed_carrier_same_tin_cardiology_related &lt;dbl&gt; | tot_allowed_carrier_not_same_tin_cardiology_related &lt;dbl&gt; | tot_allowed_outpatient_same_tin &lt;dbl&gt; | tot_allowed_outpatient_not_same_tin &lt;dbl&gt; | tot_allowed_inpatient_same_tin &lt;dbl&gt; | tot_allowed_inpatient_not_same_tin &lt;dbl&gt; | tot_allowed_outpatient_same_tin_cardiology_related &lt;dbl&gt; | tot_allowed_outpatient_not_same_tin_cardiology_related &lt;dbl&gt; | tot_allowed_inpatient_same_tin_cardiology_related &lt;dbl&gt; | tot_allowed_inpatient_not_same_tin_cardiology_related &lt;dbl&gt; | total_exp_same_tin &lt;dbl&gt; | total_exp_same_tin_cardiology_related &lt;dbl&gt; | total_exp_not_same_tin &lt;dbl&gt; | total_exp_not_same_tin_cardiology_related &lt;dbl&gt; | year_before_diagnosis &lt;dbl&gt; | hcc1 &lt;dbl&gt; | hcc2 &lt;dbl&gt; | hcc6 &lt;dbl&gt; | hcc8 &lt;dbl&gt; | hcc9 &lt;dbl&gt; | hcc10 &lt;dbl&gt; | hcc11 &lt;dbl&gt; | hcc12 &lt;dbl&gt; | hcc17 &lt;dbl&gt; | hcc18 &lt;dbl&gt; | hcc19 &lt;dbl&gt; | hcc21 &lt;dbl&gt; | hcc22 &lt;dbl&gt; | hcc23 &lt;dbl&gt; | hcc27 &lt;dbl&gt; | hcc28 &lt;dbl&gt; | hcc29 &lt;dbl&gt; | hcc33 &lt;dbl&gt; | hcc34 &lt;dbl&gt; | hcc35 &lt;dbl&gt; | hcc39 &lt;dbl&gt; | hcc40 &lt;dbl&gt; | hcc46 &lt;dbl&gt; | hcc47 &lt;dbl&gt; | hcc48 &lt;dbl&gt; | hcc51 &lt;dbl&gt; | hcc52 &lt;dbl&gt; | hcc54 &lt;dbl&gt; | hcc55 &lt;dbl&gt; | hcc57 &lt;dbl&gt; | hcc58 &lt;dbl&gt; | hcc70 &lt;dbl&gt; | hcc71 &lt;dbl&gt; | hcc72 &lt;dbl&gt; | hcc73 &lt;dbl&gt; | hcc74 &lt;dbl&gt; | hcc75 &lt;dbl&gt; | hcc76 &lt;dbl&gt; | hcc77 &lt;dbl&gt; | hcc78 &lt;dbl&gt; | hcc79 &lt;dbl&gt; | hcc80 &lt;dbl&gt; | hcc82 &lt;dbl&gt; | hcc83 &lt;dbl&gt; | hcc84 &lt;dbl&gt; | hcc85 &lt;dbl&gt; | hcc86 &lt;dbl&gt; | hcc87 &lt;dbl&gt; | hcc88 &lt;dbl&gt; | hcc96 &lt;dbl&gt; | hcc99 &lt;dbl&gt; | hcc100 &lt;dbl&gt; | hcc103 &lt;dbl&gt; | hcc104 &lt;dbl&gt; | hcc106 &lt;dbl&gt; | hcc107 &lt;dbl&gt; | hcc108 &lt;dbl&gt; | hcc110 &lt;dbl&gt; | hcc111 &lt;dbl&gt; | hcc112 &lt;dbl&gt; | hcc114 &lt;dbl&gt; | hcc115 &lt;dbl&gt; | hcc122 &lt;dbl&gt; | hcc124 &lt;dbl&gt; | hcc134 &lt;dbl&gt; | hcc135 &lt;dbl&gt; | hcc136 &lt;dbl&gt; | hcc137 &lt;dbl&gt; | hcc138 &lt;dbl&gt; | hcc139 &lt;dbl&gt; | hcc140 &lt;dbl&gt; | hcc141 &lt;dbl&gt; | hcc157 &lt;dbl&gt; | hcc158 &lt;dbl&gt; | hcc159 &lt;dbl&gt; | hcc160 &lt;dbl&gt; | hcc161 &lt;dbl&gt; | hcc162 &lt;dbl&gt; | hcc166 &lt;dbl&gt; | hcc167 &lt;dbl&gt; | hcc169 &lt;dbl&gt; | hcc170 &lt;dbl&gt; | hcc173 &lt;dbl&gt; | hcc176 &lt;dbl&gt; | hcc186 &lt;dbl&gt; | hcc188 &lt;dbl&gt; | hcc189 &lt;dbl&gt; |\n",
       "|---|---|---|---|---|---|---|---|---|---|---|---|---|---|---|---|---|---|---|---|---|---|---|---|---|---|---|---|---|---|---|---|---|---|---|---|---|---|---|---|---|---|---|---|---|---|---|---|---|---|---|---|---|---|---|---|---|---|---|---|---|---|---|---|---|---|---|---|---|---|---|---|---|---|---|---|---|---|---|---|---|---|---|---|---|---|---|---|---|---|---|---|---|---|---|---|---|---|---|---|---|---|---|---|---|---|---|---|---|---|---|---|---|---|---|---|---|---|---|---|---|---|---|---|---|---|---|---|---|---|---|---|---|---|---|---|---|---|---|---|---|---|---|---|---|---|---|---|---|---|---|---|---|---|---|---|---|---|---|---|---|---|---|---|---|---|---|---|---|---|---|---|---|---|---|---|---|---|---|---|---|---|---|---|---|---|---|---|---|---|---|---|---|---|---|---|---|---|---|---|---|---|---|---|---|---|---|---|---|---|---|---|---|---|---|---|---|---|---|---|---|---|---|---|---|---|---|---|---|---|---|---|---|---|---|---|---|---|---|---|---|---|---|---|---|---|---|---|---|---|---|---|---|---|---|---|---|---|---|---|---|---|---|---|---|---|---|---|---|---|---|---|---|---|---|---|---|---|---|---|---|---|---|---|---|---|---|---|---|---|---|---|---|---|---|---|---|---|---|---|---|\n",
       "| 100004643 | 2018-07-24 |  2164.96 |  2 |  209.35 | 2 |  5 | 1 | 0 | 0 |  4 | 0 |   0.00 |  1 |  16.26 | 0 | 0 | 0 | 0 | 1 | 60.06 | 0 |   0.00 | 0 |    0.00 | 0 | 0 | TRUE | FALSE | FALSE | NA | FALSE | FALSE |  TRUE | FALSE | FALSE | FALSE | FALSE | FALSE |  TRUE | NA | NA |         NA |         NA | 1922000801 | 2018 | NA | FALSE | FALSE | 1098.55 | 1 | 104.30 | 1 |  5 | 1 | 0 | 0 | 4 | 0 |   0.00 | 1 | 16.26 | 0 | 0 | 0 | 0 | 0 |  0.00 | 0 |  0.00 | 0 |    0.00 | 0 | 0 | 0 | 0.00 |   0.00 | 0 | 0 | 0 | 0 |    0.00 | 0 | 0 | 0.00 |   0.0 | 0 | 0 | 0 | 0 |    0.00 | 0 |  209.35 |   0.00 |  16.26 | 0 | 0 | 60.06 |   0.00 |    0.00 | 0 | 104.30 |   0.00 |  16.26 | 0 | 0 |  0.00 |  0.00 |    0.00 | 0 |  269.41 |    0.00 | 104.30 |    0.00 |  3 | 0 |  1 | 0 | 13 | 34 | 240 | 2 | 1 | 77 | 0 | 0 | 3 | 3 | 3 | 3 | 3 | 3 | 3 | 3 | 3 | 3 | 3 | 3 | 0 | 0 | 0 | 0 | 0 | 0 | 0 | 0 | 0 | 0 | 0 | 0 | ⋯ | LELEUX      | JON     | DAMIAN | Cardiology | 06 | 2 | M | NA | NONE | 1 | NA | 0.8810704 | 0.05155199 | 0.06513618 | 0.0022413910 | 0.0000000000 | 0 | 0 | 0 | 0 | 0 | LA | 0 | 1 | 29180 | Lafayette, LA                         | 0 | 14723 | 1811872.4 | 2866 | 111111111111 | 14396 | 1788733.8 | 2754 | 111111111111 | 327 | 23138.52 | 307 | 1967 | 12972 |  959 | FALSE | 1345.60 |   819.36 |  1 | 1 |  4 | 0 |  310.35 |  788.20 | NA |        NA | NA |        NA | NA |       NA | NA |       NA | 1345.60 |  310.35 |    819.36 |   788.20 | 2017 |  0 |  0 |  0 |  0 |  0 |  0 |  0 |  0 |  0 |  0 |  0 |  0 |  0 |  0 |  0 |  0 |  0 |  0 |  0 |  0 |  0 |  0 |  0 |  0 |  1 |  0 |  0 |  0 |  0 |  0 |  0 |  0 |  0 |  0 |  0 |  0 |  0 |  0 |  0 |  0 |  0 |  0 |  0 |  0 |  0 |  1 |  1 |  0 |  0 |  1 |  0 |  1 |  0 |  0 |  0 |  0 |  1 |  0 |  0 |  0 |  0 |  0 |  0 |  0 |  0 |  1 |  0 |  0 |  0 |  0 |  0 |  0 |  0 |  0 |  0 |  0 |  0 |  0 |  0 |  0 |  0 |  0 |  0 |  0 |  0 |  0 |  0 |\n",
       "| 100008543 | 2014-04-16 |  2149.56 | 12 |  869.89 | 2 | 22 | 4 | 5 | 1 | 12 | 0 |   0.00 |  3 |  25.29 | 0 | 0 | 0 | 0 | 0 |  0.00 | 0 |   0.00 | 0 |    0.00 | 0 | 0 | TRUE | FALSE | FALSE | NA | FALSE | FALSE | FALSE | FALSE | FALSE | FALSE | FALSE |  TRUE | FALSE | NA | NA |         NA |         NA | 1033107701 | 2014 | NA | FALSE | FALSE |  178.71 | 2 | 146.81 | 1 |  4 | 3 | 1 | 0 | 0 | 0 |   0.00 | 0 |  0.00 | 0 | 0 | 0 | 0 | 0 |  0.00 | 0 |  0.00 | 0 |    0.00 | 0 | 0 | 0 | 0.00 | 490.65 | 0 | 0 | 0 | 0 |    0.00 | 0 | 0 | 0.00 | 126.3 | 0 | 0 | 0 | 0 |    0.00 | 0 |  869.89 |   0.00 | 515.94 | 0 | 0 |  0.00 |   0.00 |    0.00 | 0 | 146.81 |   0.00 | 126.30 | 0 | 0 |  0.00 |  0.00 |    0.00 | 0 |  869.89 |    0.00 | 146.81 |    0.00 | 12 | 0 |  2 | 0 | 13 | 49 |  90 | 1 | 1 | 76 | 0 | 0 | 3 | 3 | 3 | 3 | 3 | 3 | 3 | 3 | 3 | 3 | 3 | 3 | 0 | 0 | 0 | 0 | 0 | 0 | 0 | 0 | 0 | 0 | 0 | 0 | ⋯ | BROWN       | WILLIAM | NA     | Cardiology | 06 | 2 | M | NA | NONE | 1 | NA | 0.1854909 | 0.19504778 | 0.61946134 | 0.0000000000 | 0.0000000000 | 0 | 0 | 0 | 0 | 0 | VA | 0 | 1 | 31340 | Lynchburg, VA                         | 0 |  2302 |  163198.9 | 1109 | 111111111111 |  2297 |  163157.3 | 1105 | 000001000000 |   5 |    41.65 |   5 | 1948 |   427 | 1426 |  TRUE |  899.06 |  1250.50 | 13 | 4 |  9 | 0 |  106.90 |   71.81 |  0 |   6337.03 | NA |        NA |  0 |   372.60 | NA |       NA |  899.06 |  106.90 |   7587.53 |   444.41 | 2013 |  0 |  0 |  0 |  0 |  0 |  0 |  0 |  0 |  0 |  0 |  0 |  0 |  0 |  0 |  0 |  0 |  0 |  0 |  0 |  0 |  0 |  0 |  0 |  0 |  0 |  0 |  0 |  0 |  0 |  0 |  1 |  0 |  0 |  0 |  0 |  0 |  0 |  0 |  0 |  0 |  0 |  0 |  0 |  0 |  0 |  0 |  0 |  1 |  0 |  0 |  0 |  0 |  0 |  0 |  0 |  0 |  0 |  0 |  0 |  0 |  0 |  0 |  0 |  0 |  0 |  1 |  0 |  0 |  0 |  0 |  0 |  0 |  0 |  0 |  0 |  0 |  0 |  0 |  0 |  0 |  0 |  0 |  0 |  0 |  0 |  0 |  0 |\n",
       "| 100010653 | 2014-02-14 | 16861.51 | 16 | 1376.90 | 4 | 49 | 9 | 7 | 2 | 31 | 1 | 345.44 | 12 | 114.88 | 0 | 0 | 0 | 0 | 0 |  0.00 | 2 | 133.10 | 2 |  991.67 | 0 | 0 | TRUE |  TRUE | FALSE | NA | FALSE | FALSE | FALSE |  TRUE | FALSE | FALSE | FALSE |  TRUE | FALSE | 2014-02-14 | 2014-02-24 | 1790758688 | 1114990025 | 1790758688 | 2014 | 10 | FALSE |  TRUE | 3309.14 | 3 | 258.31 | 2 | 13 | 7 | 2 | 1 | 3 | 1 | 345.44 | 5 | 36.15 | 0 | 0 | 0 | 0 | 0 |  0.00 | 1 | 66.55 | 2 |  991.67 | 0 | 0 | 0 | 0.00 |   0.00 | 0 | 0 | 0 | 0 |    0.00 | 0 | 0 | 0.00 |   0.0 | 0 | 0 | 0 | 0 |    0.00 | 0 | 1376.90 | 345.44 | 114.88 | 0 | 0 |  0.00 | 133.10 |  991.67 | 0 | 258.31 | 345.44 |  36.15 | 0 | 0 |  0.00 | 66.55 |  991.67 | 0 | 1510.00 | 1337.11 | 324.86 | 1337.11 | 18 | 3 |  4 | 3 | 13 | 33 | 740 | 2 | 1 | 76 | 0 | 0 | 3 | 3 | 3 | 3 | 3 | 3 | 3 | 3 | 3 | 3 | 3 | 3 | 0 | 0 | 0 | 0 | 0 | 0 | 0 | 0 | 0 | 0 | 0 | 0 | ⋯ | HAMMOUD     | ALI     | NA     | Cardiology | 06 | 2 | M | NA | NONE | 1 | NA | 0.4856055 | 0.32505712 | 0.10555979 | 0.0837776090 | 0.0000000000 | 0 | 0 | 0 | 0 | 0 | NY | 0 | 1 | 35620 | New York-Newark-Jersey City, NY-NJ-PA | 0 |  6565 |  428347.0 | 2519 | 111111111111 |  6565 |  428347.0 | 2519 | NA           |  NA |       NA |  NA | 1969 |  3188 |  693 | FALSE | 2848.26 | 14013.25 | 12 | 3 | 37 | 6 | 1035.17 | 2273.97 |  0 | 176109.78 |  0 | 311264.38 | NA |       NA | NA |       NA | 2848.26 | 1035.17 | 501387.41 |  2273.97 | 2013 |  0 |  1 |  0 |  0 |  0 |  0 |  0 |  0 |  0 |  0 |  1 |  0 |  0 |  1 |  0 |  0 |  0 |  0 |  0 |  0 |  0 |  0 |  0 |  0 |  0 |  0 |  0 |  0 |  0 |  0 |  0 |  0 |  0 |  0 |  0 |  0 |  0 |  0 |  0 |  0 |  0 |  0 |  0 |  0 |  1 |  1 |  0 |  0 |  0 |  0 |  0 |  0 |  0 |  0 |  0 |  0 |  0 |  0 |  1 |  0 |  0 |  1 |  0 |  0 |  1 |  1 |  0 |  0 |  0 |  0 |  0 |  0 |  0 |  0 |  0 |  0 |  0 |  0 |  0 |  0 |  0 |  0 |  0 |  0 |  0 |  0 |  0 |\n",
       "| 100010781 | 2017-10-16 | 13178.43 | 14 | 1191.80 | 6 | 21 | 4 | 1 | 2 | 14 | 2 | 269.30 |  2 |  27.59 | 0 | 0 | 0 | 0 | 0 |  0.00 | 3 | 595.98 | 4 | 1543.65 | 0 | 0 | TRUE | FALSE | FALSE | NA | FALSE | FALSE | FALSE | FALSE | FALSE | FALSE | FALSE | FALSE |  TRUE | 2017-10-16 | 2017-10-16 | 1609845817 | 1609845817 | 1982698973 | 2017 |  0 |  TRUE |  TRUE | 2704.51 | 6 | 693.47 | 5 |  4 | 3 | 1 | 0 | 0 | 2 | 269.30 | 1 | 18.54 | 0 | 0 | 0 | 0 | 0 |  0.00 | 1 | 68.04 | 4 | 1543.65 | 0 | 0 | 0 | 0.01 |   0.00 | 0 | 0 | 0 | 0 | 6621.35 | 0 | 0 | 0.01 |   0.0 | 0 | 0 | 0 | 0 | 6621.35 | 0 | 1191.80 | 269.31 |  27.59 | 0 | 0 |  0.00 | 595.98 | 8165.00 | 0 | 693.47 | 269.31 |  18.54 | 0 | 0 |  0.00 | 68.04 | 8165.00 | 0 | 1787.78 | 8434.31 | 761.51 | 8434.31 | 17 | 6 |  7 | 6 | 13 | 21 |  20 | 2 | 1 | 76 | 0 | 0 | 3 | 3 | 3 | 3 | 3 | 3 | 3 | 3 | 3 | 3 | 3 | 3 | 0 | 0 | 0 | 0 | 0 | 0 | 0 | 0 | 0 | 0 | 0 | 0 | ⋯ | PORTERFIELD | JAMES   | K      | Cardiology | 06 | 2 | M | NA | NONE | 1 | NA | 0.7182977 | 0.22207820 | 0.04385396 | 0.0153380860 | 0.0004320588 | 0 | 0 | 0 | 0 | 0 | MD | 0 | 1 | 12580 | Baltimore-Columbia-Towson, MD         | 0 |  4629 |  418995.5 | 2323 | 111111111111 |  3860 |  411640.6 | 1814 | 111111111111 | 769 |  7354.90 | 674 | 1954 |  3325 |  203 |  TRUE | 1318.46 | 11859.97 |  2 | 1 | 19 | 3 |  367.64 | 2336.87 |  0 |  17704.68 |  0 |  13915.48 |  0 | 12305.11 |  0 | 13915.48 | 1318.46 |  367.64 |  43480.13 | 28557.46 | 2016 |  0 |  0 |  0 |  0 |  0 |  0 |  0 |  0 |  0 |  0 |  0 |  0 |  0 |  0 |  0 |  0 |  0 |  0 |  0 |  0 |  0 |  0 |  0 |  0 |  0 |  0 |  0 |  0 |  0 |  0 |  0 |  0 |  0 |  0 |  0 |  0 |  0 |  0 |  0 |  0 |  0 |  0 |  0 |  0 |  0 |  0 |  0 |  0 |  0 |  1 |  0 |  0 |  0 |  0 |  0 |  0 |  0 |  0 |  0 |  0 |  0 |  0 |  0 |  0 |  0 |  0 |  0 |  0 |  0 |  0 |  0 |  0 |  0 |  0 |  0 |  0 |  0 |  0 |  0 |  0 |  0 |  0 |  0 |  0 |  0 |  0 |  0 |\n",
       "| 100013703 | 2015-05-18 |  6408.96 | 11 |  855.53 | 0 | 15 | 0 | 1 | 1 | 13 | 0 |   0.00 |  2 |  34.03 | 0 | 0 | 0 | 0 | 1 | 65.83 | 0 |   0.00 | 0 |    0.00 | 0 | 0 | TRUE |  TRUE | FALSE | NA | FALSE | FALSE |  TRUE | FALSE | FALSE | FALSE | FALSE | FALSE | FALSE | NA | NA |         NA |         NA | 1982617072 | 2015 | NA | FALSE | FALSE | 1637.42 | 9 | 711.56 | 0 |  3 | 0 | 1 | 0 | 2 | 0 |   0.00 | 2 | 34.03 | 0 | 0 | 0 | 0 | 1 | 65.83 | 0 |  0.00 | 0 |    0.00 | 0 | 0 | 0 | 0.00 |   0.00 | 0 | 0 | 0 | 0 |    0.00 | 0 | 0 | 0.00 |   0.0 | 0 | 0 | 0 | 0 |    0.00 | 0 |  855.53 |   0.00 |  34.03 | 0 | 0 | 65.83 |   0.00 |    0.00 | 0 | 711.56 |   0.00 |  34.03 | 0 | 0 | 65.83 |  0.00 |    0.00 | 0 |  921.36 |    0.00 | 777.39 |    0.00 | 12 | 0 | 10 | 0 | 13 | 10 |  70 | 2 | 1 | 76 | 0 | 0 | 3 | 3 | 3 | 3 | 3 | 3 | 3 | 3 | 3 | 3 | 3 | 3 | 0 | 0 | 0 | 0 | 0 | 0 | 0 | 0 | 0 | 0 | 0 | 0 | ⋯ | CONNELLY    | TERENCE | P      | Cardiology | 06 | 2 | M | NA | NONE | 1 | NA | 0.7951728 | 0.16314956 | 0.04154577 | 0.0001318913 | 0.0000000000 | 0 | 0 | 0 | 0 | 0 | FL | 0 | 1 | 39460 | Punta Gorda, FL                       | 1 |  7582 | 1252974.0 | 1892 | 111111111111 |  7559 | 1247715.9 | 1873 | 001101010111 |  23 |  5258.12 |  19 | 1959 |  6029 |  315 | FALSE | 1268.06 |  5140.90 |  3 | 0 | 12 | 0 | 1158.92 |  478.50 |  0 |   1037.85 | NA |        NA | NA |       NA | NA |       NA | 1268.06 | 1158.92 |   6178.75 |   478.50 | 2014 |  0 |  0 |  0 |  0 |  0 |  0 |  0 |  0 |  0 |  0 |  0 |  0 |  0 |  0 |  0 |  0 |  0 |  0 |  0 |  0 |  0 |  0 |  0 |  0 |  0 |  0 |  0 |  0 |  0 |  0 |  0 |  0 |  0 |  0 |  0 |  0 |  0 |  0 |  0 |  0 |  0 |  0 |  0 |  0 |  0 |  0 |  0 |  1 |  0 |  0 |  0 |  0 |  0 |  0 |  0 |  0 |  0 |  0 |  0 |  0 |  0 |  0 |  0 |  0 |  0 |  0 |  0 |  0 |  0 |  0 |  0 |  0 |  0 |  0 |  0 |  0 |  0 |  0 |  0 |  0 |  0 |  0 |  0 |  0 |  0 |  0 |  0 |\n",
       "| 100013815 | 2018-10-22 |  1615.67 | 12 | 1145.16 | 1 |  5 | 1 | 1 | 0 |  3 | 0 |   0.00 |  0 |   0.00 | 0 | 0 | 0 | 0 | 0 |  0.00 | 0 |   0.00 | 0 |    0.00 | 0 | 0 | TRUE | FALSE | FALSE | NA | FALSE | FALSE |  TRUE | FALSE | FALSE | FALSE | FALSE | FALSE |  TRUE | NA | NA |         NA |         NA | 1235147182 | 2018 | NA | FALSE | FALSE |  381.15 | 4 | 342.90 | 0 |  3 | 0 | 1 | 0 | 2 | 0 |   0.00 | 0 |  0.00 | 0 | 0 | 0 | 0 | 0 |  0.00 | 0 |  0.00 | 0 |    0.00 | 0 | 0 | 0 | 0.00 |   0.00 | 0 | 0 | 0 | 0 |    0.00 | 0 | 0 | 0.00 |   0.0 | 0 | 0 | 0 | 0 |    0.00 | 0 | 1145.16 |   0.00 |   0.00 | 0 | 0 |  0.00 |   0.00 |    0.00 | 0 | 342.90 |   0.00 |   0.00 | 0 | 0 |  0.00 |  0.00 |    0.00 | 0 | 1145.16 |    0.00 | 342.90 |    0.00 | 12 | 0 |  4 | 0 | 13 | 10 | 280 | 2 | 1 | 76 | 0 | 0 | 3 | 3 | 3 | 3 | 3 | 3 | 3 | 3 | 3 | 3 | 3 | 3 | 0 | 0 | 0 | 0 | 0 | 0 | 0 | 0 | 0 | 0 | 0 | 0 | ⋯ | KHAN        | TEHREEN | NA     | Cardiology | 06 | 2 | F | NA | NONE | 1 | NA | 0.6941682 | 0.22830018 | 0.06735985 | 0.0101717900 | 0.0000000000 | 0 | 0 | 0 | 0 | 0 | FL | 0 | 1 | 45300 | Tampa-St. Petersburg-Clearwater, FL   | 0 |  4424 |  446058.3 | 2035 | 111111111111 |  4424 |  446058.3 | 2035 | NA           |  NA |       NA |  NA | 1964 |  3071 |  298 | FALSE |  233.44 |  1382.23 |  2 | 1 |  3 | 0 |  124.40 |  256.75 | NA |        NA | NA |        NA | NA |       NA | NA |       NA |  233.44 |  124.40 |   1382.23 |   256.75 | 2017 | NA | NA | NA | NA | NA | NA | NA | NA | NA | NA | NA | NA | NA | NA | NA | NA | NA | NA | NA | NA | NA | NA | NA | NA | NA | NA | NA | NA | NA | NA | NA | NA | NA | NA | NA | NA | NA | NA | NA | NA | NA | NA | NA | NA | NA | NA | NA | NA | NA | NA | NA | NA | NA | NA | NA | NA | NA | NA | NA | NA | NA | NA | NA | NA | NA | NA | NA | NA | NA | NA | NA | NA | NA | NA | NA | NA | NA | NA | NA | NA | NA | NA | NA | NA | NA | NA | NA |\n",
       "\n"
      ],
      "text/plain": [
       "  DESY_SORT_KEY first_diagnosis tot_allowed_carrier office_visit_count office_visit_cost_carrier cardiology_visit_count distinct_clinicians distinct_cardiologists distinct_primary_care_physicians distinct_surgeons distinct_other_specialties catheterization_count catheterization_cost_carrier\n",
       "1 100004643     2018-07-24       2164.96             2                  209.35                   2                       5                  1                      0                                0                  4                         0                       0.00                      \n",
       "2 100008543     2014-04-16       2149.56            12                  869.89                   2                      22                  4                      5                                1                 12                         0                       0.00                      \n",
       "3 100010653     2014-02-14      16861.51            16                 1376.90                   4                      49                  9                      7                                2                 31                         1                     345.44                      \n",
       "4 100010781     2017-10-16      13178.43            14                 1191.80                   6                      21                  4                      1                                2                 14                         2                     269.30                      \n",
       "5 100013703     2015-05-18       6408.96            11                  855.53                   0                      15                  0                      1                                1                 13                         0                       0.00                      \n",
       "6 100013815     2018-10-22       1615.67            12                 1145.16                   1                       5                  1                      1                                0                  3                         0                       0.00                      \n",
       "  ecg_count ecg_cost_carrier cardiac_ct_count cardiac_ct_cost_carrier cardiac_mri_count cardiac_mri_cost_carrier stress_test_count stress_test_cost_carrier echocardiography_count echocardiography_cost_carrier angioplasty_count angioplasty_cost_carrier CABG_count CABG_cost_carrier stable_angina\n",
       "1  1         16.26           0                0                       0                 0                        1                 60.06                    0                        0.00                        0                    0.00                  0          0                 TRUE         \n",
       "2  3         25.29           0                0                       0                 0                        0                  0.00                    0                        0.00                        0                    0.00                  0          0                 TRUE         \n",
       "3 12        114.88           0                0                       0                 0                        0                  0.00                    2                      133.10                        2                  991.67                  0          0                 TRUE         \n",
       "4  2         27.59           0                0                       0                 0                        0                  0.00                    3                      595.98                        4                 1543.65                  0          0                 TRUE         \n",
       "5  2         34.03           0                0                       0                 0                        1                 65.83                    0                        0.00                        0                    0.00                  0          0                 TRUE         \n",
       "6  0          0.00           0                0                       0                 0                        0                  0.00                    0                        0.00                        0                    0.00                  0          0                 TRUE         \n",
       "  unstable_angina MI    MI_date cardiac_arrest stroke hypertension copd  obesity depression diabetes icd_9_pure icd_10_pure catheterization_date angioplasty_date catheterization_doc_NPI angioplasty_doc_NPI diagnosing_doc_NPI year_first_diagnosed time_difference_angio_cath angioplasty_with_cath\n",
       "1 FALSE           FALSE <NA>    FALSE          FALSE   TRUE        FALSE FALSE   FALSE      FALSE    FALSE       TRUE       <NA>                 <NA>                     NA                      NA          1922000801         2018                 NA                         FALSE                \n",
       "2 FALSE           FALSE <NA>    FALSE          FALSE  FALSE        FALSE FALSE   FALSE      FALSE     TRUE      FALSE       <NA>                 <NA>                     NA                      NA          1033107701         2014                 NA                         FALSE                \n",
       "3  TRUE           FALSE <NA>    FALSE          FALSE  FALSE         TRUE FALSE   FALSE      FALSE     TRUE      FALSE       2014-02-14           2014-02-24       1790758688              1114990025          1790758688         2014                 10                         FALSE                \n",
       "4 FALSE           FALSE <NA>    FALSE          FALSE  FALSE        FALSE FALSE   FALSE      FALSE    FALSE       TRUE       2017-10-16           2017-10-16       1609845817              1609845817          1982698973         2017                  0                          TRUE                \n",
       "5  TRUE           FALSE <NA>    FALSE          FALSE   TRUE        FALSE FALSE   FALSE      FALSE    FALSE      FALSE       <NA>                 <NA>                     NA                      NA          1982617072         2015                 NA                         FALSE                \n",
       "6 FALSE           FALSE <NA>    FALSE          FALSE   TRUE        FALSE FALSE   FALSE      FALSE    FALSE       TRUE       <NA>                 <NA>                     NA                      NA          1235147182         2018                 NA                         FALSE                \n",
       "  angioplasty_during_year_after_cath tot_allowed_carrier_cardiology_related office_visit_count_cardiology_related office_visit_cost_carrier_cardiology_related cardiology_visit_count_cardiology_related distinct_clinicians_cardiology_related distinct_cardiologists_cardiology_related\n",
       "1 FALSE                              1098.55                                1                                     104.30                                       1                                          5                                     1                                        \n",
       "2 FALSE                               178.71                                2                                     146.81                                       1                                          4                                     3                                        \n",
       "3  TRUE                              3309.14                                3                                     258.31                                       2                                         13                                     7                                        \n",
       "4  TRUE                              2704.51                                6                                     693.47                                       5                                          4                                     3                                        \n",
       "5 FALSE                              1637.42                                9                                     711.56                                       0                                          3                                     0                                        \n",
       "6 FALSE                               381.15                                4                                     342.90                                       0                                          3                                     0                                        \n",
       "  distinct_primary_care_physicians_cardiology_related distinct_surgeons_cardiology_related distinct_other_specialties_cardiology_related catheterization_count_cardiology_related catheterization_cost_carrier_cardiology_related ecg_count_cardiology_related ecg_cost_carrier_cardiology_related\n",
       "1 0                                                   0                                    4                                             0                                          0.00                                          1                            16.26                              \n",
       "2 1                                                   0                                    0                                             0                                          0.00                                          0                             0.00                              \n",
       "3 2                                                   1                                    3                                             1                                        345.44                                          5                            36.15                              \n",
       "4 1                                                   0                                    0                                             2                                        269.30                                          1                            18.54                              \n",
       "5 1                                                   0                                    2                                             0                                          0.00                                          2                            34.03                              \n",
       "6 1                                                   0                                    2                                             0                                          0.00                                          0                             0.00                              \n",
       "  cardiac_ct_count_cardiology_related cardiac_ct_cost_carrier_cardiology_related cardiac_mri_count_cardiology_related cardiac_mri_cost_carrier_cardiology_related stress_test_count_cardiology_related stress_test_cost_carrier_cardiology_related echocardiography_count_cardiology_related\n",
       "1 0                                   0                                          0                                    0                                           0                                     0.00                                       0                                        \n",
       "2 0                                   0                                          0                                    0                                           0                                     0.00                                       0                                        \n",
       "3 0                                   0                                          0                                    0                                           0                                     0.00                                       1                                        \n",
       "4 0                                   0                                          0                                    0                                           0                                     0.00                                       1                                        \n",
       "5 0                                   0                                          0                                    0                                           1                                    65.83                                       0                                        \n",
       "6 0                                   0                                          0                                    0                                           0                                     0.00                                       0                                        \n",
       "  echocardiography_cost_carrier_cardiology_related angioplasty_count_cardiology_related angioplasty_cost_carrier_cardiology_related CABG_count_cardiology_related CABG_cost_carrier_cardiology_related office_visit_cost_outpatient catheterization_cost_outpatient ecg_cost_outpatient\n",
       "1  0.00                                            0                                       0.00                                     0                             0                                    0                            0.00                              0.00             \n",
       "2  0.00                                            0                                       0.00                                     0                             0                                    0                            0.00                            490.65             \n",
       "3 66.55                                            2                                     991.67                                     0                             0                                    0                            0.00                              0.00             \n",
       "4 68.04                                            4                                    1543.65                                     0                             0                                    0                            0.01                              0.00             \n",
       "5  0.00                                            0                                       0.00                                     0                             0                                    0                            0.00                              0.00             \n",
       "6  0.00                                            0                                       0.00                                     0                             0                                    0                            0.00                              0.00             \n",
       "  cardiac_ct_cost_outpatient cardiac_mri_cost_outpatient stress_test_cost_outpatient echocardiography_cost_outpatient angioplasty_cost_outpatient CABG_cost_outpatient office_visit_cost_outpatient_cardiology_related catheterization_cost_outpatient_cardiology_related\n",
       "1 0                          0                           0                           0                                   0.00                     0                    0                                               0.00                                              \n",
       "2 0                          0                           0                           0                                   0.00                     0                    0                                               0.00                                              \n",
       "3 0                          0                           0                           0                                   0.00                     0                    0                                               0.00                                              \n",
       "4 0                          0                           0                           0                                6621.35                     0                    0                                               0.01                                              \n",
       "5 0                          0                           0                           0                                   0.00                     0                    0                                               0.00                                              \n",
       "6 0                          0                           0                           0                                   0.00                     0                    0                                               0.00                                              \n",
       "  ecg_cost_outpatient_cardiology_related cardiac_ct_cost_outpatient_cardiology_related cardiac_mri_cost_outpatient_cardiology_related stress_test_cost_outpatient_cardiology_related echocardiography_cost_outpatient_cardiology_related angioplasty_cost_outpatient_cardiology_related\n",
       "1   0.0                                  0                                             0                                              0                                              0                                                      0.00                                       \n",
       "2 126.3                                  0                                             0                                              0                                              0                                                      0.00                                       \n",
       "3   0.0                                  0                                             0                                              0                                              0                                                      0.00                                       \n",
       "4   0.0                                  0                                             0                                              0                                              0                                                   6621.35                                       \n",
       "5   0.0                                  0                                             0                                              0                                              0                                                      0.00                                       \n",
       "6   0.0                                  0                                             0                                              0                                              0                                                      0.00                                       \n",
       "  CABG_cost_outpatient_cardiology_related office_visit_cost catheterization_cost ecg_cost cardiac_ct_cost cardiac_mri_cost stress_test_cost echocardiography_cost angioplasty_cost CABG_cost office_visit_cost_cardiology_related catheterization_cost_cardiology_related ecg_cost_cardiology_related\n",
       "1 0                                        209.35             0.00                16.26   0               0                60.06              0.00                   0.00          0         104.30                                 0.00                                   16.26                     \n",
       "2 0                                        869.89             0.00               515.94   0               0                 0.00              0.00                   0.00          0         146.81                                 0.00                                  126.30                     \n",
       "3 0                                       1376.90           345.44               114.88   0               0                 0.00            133.10                 991.67          0         258.31                               345.44                                   36.15                     \n",
       "4 0                                       1191.80           269.31                27.59   0               0                 0.00            595.98                8165.00          0         693.47                               269.31                                   18.54                     \n",
       "5 0                                        855.53             0.00                34.03   0               0                65.83              0.00                   0.00          0         711.56                                 0.00                                   34.03                     \n",
       "6 0                                       1145.16             0.00                 0.00   0               0                 0.00              0.00                   0.00          0         342.90                                 0.00                                    0.00                     \n",
       "  cardiac_ct_cost_cardiology_related cardiac_mri_cost_cardiology_related stress_test_cost_cardiology_related echocardiography_cost_cardiology_related angioplasty_cost_cardiology_related CABG_cost_cardiology_related tot_cheap_prcdr_cost tot_expensive_prcdr_cost\n",
       "1 0                                  0                                    0.00                                0.00                                       0.00                             0                             269.41                 0.00                 \n",
       "2 0                                  0                                    0.00                                0.00                                       0.00                             0                             869.89                 0.00                 \n",
       "3 0                                  0                                    0.00                               66.55                                     991.67                             0                            1510.00              1337.11                 \n",
       "4 0                                  0                                    0.00                               68.04                                    8165.00                             0                            1787.78              8434.31                 \n",
       "5 0                                  0                                   65.83                                0.00                                       0.00                             0                             921.36                 0.00                 \n",
       "6 0                                  0                                    0.00                                0.00                                       0.00                             0                            1145.16                 0.00                 \n",
       "  tot_cheap_prcdr_cost_cardiology_related tot_expensive_prcdr_cost_cardiology_related tot_cheap_prcdr_count tot_expensive_prcdr_count tot_cheap_prcdr_count_cardiology_related tot_expensive_prcdr_count_cardiology_related REFERENCE_YEAR_2013 STATE_CODE_2013 COUNTY_CODE_2013 SEX_CODE_2013\n",
       "1 104.30                                     0.00                                      3                    0                          1                                       0                                            13                  34              240              2            \n",
       "2 146.81                                     0.00                                     12                    0                          2                                       0                                            13                  49               90              1            \n",
       "3 324.86                                  1337.11                                     18                    3                          4                                       3                                            13                  33              740              2            \n",
       "4 761.51                                  8434.31                                     17                    6                          7                                       6                                            13                  21               20              2            \n",
       "5 777.39                                     0.00                                     12                    0                         10                                       0                                            13                  10               70              2            \n",
       "6 342.90                                     0.00                                     12                    0                          4                                       0                                            13                  10              280              2            \n",
       "  RACE_CODE_2013 AGE_2013 ORIG_REASON_FOR_ENTITLEMENT_2013 CURR_REASON_FOR_ENTITLEMENT_2013 ENTITLEMENT_BUY_IN_IND01_2013 ENTITLEMENT_BUY_IN_IND02_2013 ENTITLEMENT_BUY_IN_IND03_2013 ENTITLEMENT_BUY_IN_IND04_2013 ENTITLEMENT_BUY_IN_IND05_2013 ENTITLEMENT_BUY_IN_IND06_2013\n",
       "1 1              77       0                                0                                3                             3                             3                             3                             3                             3                            \n",
       "2 1              76       0                                0                                3                             3                             3                             3                             3                             3                            \n",
       "3 1              76       0                                0                                3                             3                             3                             3                             3                             3                            \n",
       "4 1              76       0                                0                                3                             3                             3                             3                             3                             3                            \n",
       "5 1              76       0                                0                                3                             3                             3                             3                             3                             3                            \n",
       "6 1              76       0                                0                                3                             3                             3                             3                             3                             3                            \n",
       "  ENTITLEMENT_BUY_IN_IND07_2013 ENTITLEMENT_BUY_IN_IND08_2013 ENTITLEMENT_BUY_IN_IND09_2013 ENTITLEMENT_BUY_IN_IND10_2013 ENTITLEMENT_BUY_IN_IND11_2013 ENTITLEMENT_BUY_IN_IND12_2013 HMO_INDICATOR01_2013 HMO_INDICATOR02_2013 HMO_INDICATOR03_2013 HMO_INDICATOR04_2013 HMO_INDICATOR05_2013\n",
       "1 3                             3                             3                             3                             3                             3                             0                    0                    0                    0                    0                   \n",
       "2 3                             3                             3                             3                             3                             3                             0                    0                    0                    0                    0                   \n",
       "3 3                             3                             3                             3                             3                             3                             0                    0                    0                    0                    0                   \n",
       "4 3                             3                             3                             3                             3                             3                             0                    0                    0                    0                    0                   \n",
       "5 3                             3                             3                             3                             3                             3                             0                    0                    0                    0                    0                   \n",
       "6 3                             3                             3                             3                             3                             3                             0                    0                    0                    0                    0                   \n",
       "  HMO_INDICATOR06_2013 HMO_INDICATOR07_2013 HMO_INDICATOR08_2013 HMO_INDICATOR09_2013 HMO_INDICATOR10_2013 HMO_INDICATOR11_2013 HMO_INDICATOR12_2013 ⋯ name_last   name_first name_middle SPEC_PRIM_1_NAME SPEC_PRIM_1 SPEC_BROAD SEX SPEC_PRIM_2 SPEC_PRIM_2_NAME SPEC_SOURCE SPEC_SOURCE_HOSP POS_OFFICE\n",
       "1 0                    0                    0                    0                    0                    0                    0                    ⋯ LELEUX      JON        DAMIAN      Cardiology       06          2          M   NA          NONE             1           NA               0.8810704 \n",
       "2 0                    0                    0                    0                    0                    0                    0                    ⋯ BROWN       WILLIAM    NA          Cardiology       06          2          M   NA          NONE             1           NA               0.1854909 \n",
       "3 0                    0                    0                    0                    0                    0                    0                    ⋯ HAMMOUD     ALI        NA          Cardiology       06          2          M   NA          NONE             1           NA               0.4856055 \n",
       "4 0                    0                    0                    0                    0                    0                    0                    ⋯ PORTERFIELD JAMES      K           Cardiology       06          2          M   NA          NONE             1           NA               0.7182977 \n",
       "5 0                    0                    0                    0                    0                    0                    0                    ⋯ CONNELLY    TERENCE    P           Cardiology       06          2          M   NA          NONE             1           NA               0.7951728 \n",
       "6 0                    0                    0                    0                    0                    0                    0                    ⋯ KHAN        TEHREEN    NA          Cardiology       06          2          F   NA          NONE             1           NA               0.6941682 \n",
       "  POS_INPAT  POS_OPD    POS_ER       POS_NURSING  POS_ASC POS_RESID POS_RETAIL POS_URGENT POS_OTHER STATE STATE_MULTI CBSA_TYPE CBSA_CD CBSA_NAME                             CBSA_MULTI NPI_SRVC_LINES NPI_ALLOWED_AMT NPI_UNQ_BENES TIN1_SRVC_MONTH TIN1_SRVC_LINES TIN1_ALLOWED_AMT TIN1_UNQ_BENES\n",
       "1 0.05155199 0.06513618 0.0022413910 0.0000000000 0       0         0          0          0         LA    0           1         29180   Lafayette, LA                         0          14723          1811872.4       2866          111111111111    14396           1788733.8        2754          \n",
       "2 0.19504778 0.61946134 0.0000000000 0.0000000000 0       0         0          0          0         VA    0           1         31340   Lynchburg, VA                         0           2302           163198.9       1109          111111111111     2297            163157.3        1105          \n",
       "3 0.32505712 0.10555979 0.0837776090 0.0000000000 0       0         0          0          0         NY    0           1         35620   New York-Newark-Jersey City, NY-NJ-PA 0           6565           428347.0       2519          111111111111     6565            428347.0        2519          \n",
       "4 0.22207820 0.04385396 0.0153380860 0.0004320588 0       0         0          0          0         MD    0           1         12580   Baltimore-Columbia-Towson, MD         0           4629           418995.5       2323          111111111111     3860            411640.6        1814          \n",
       "5 0.16314956 0.04154577 0.0001318913 0.0000000000 0       0         0          0          0         FL    0           1         39460   Punta Gorda, FL                       1           7582          1252974.0       1892          111111111111     7559           1247715.9        1873          \n",
       "6 0.22830018 0.06735985 0.0101717900 0.0000000000 0       0         0          0          0         FL    0           1         45300   Tampa-St. Petersburg-Clearwater, FL   0           4424           446058.3       2035          111111111111     4424            446058.3        2035          \n",
       "  TIN2_SRVC_MONTH TIN2_SRVC_LINES TIN2_ALLOWED_AMT TIN2_UNQ_BENES BIRTH_YR lns_office lns_opd most_common_cardiologist_integrated_in_year_of_diagnosis tot_allowed_carrier_same_tin tot_allowed_carrier_not_same_tin distinct_clinicians_same_tin distinct_cardiologists_same_tin\n",
       "1 111111111111    327             23138.52         307            1967     12972       959    FALSE                                                    1345.60                        819.36                          1                           1                              \n",
       "2 000001000000      5                41.65           5            1948       427      1426     TRUE                                                     899.06                       1250.50                         13                           4                              \n",
       "3 NA               NA                   NA          NA            1969      3188       693    FALSE                                                    2848.26                      14013.25                         12                           3                              \n",
       "4 111111111111    769              7354.90         674            1954      3325       203     TRUE                                                    1318.46                      11859.97                          2                           1                              \n",
       "5 001101010111     23              5258.12          19            1959      6029       315    FALSE                                                    1268.06                       5140.90                          3                           0                              \n",
       "6 NA               NA                   NA          NA            1964      3071       298    FALSE                                                     233.44                       1382.23                          2                           1                              \n",
       "  distinct_clinicians_not_same_tin distinct_cardiologists_not_same_tin tot_allowed_carrier_same_tin_cardiology_related tot_allowed_carrier_not_same_tin_cardiology_related tot_allowed_outpatient_same_tin tot_allowed_outpatient_not_same_tin tot_allowed_inpatient_same_tin\n",
       "1  4                               0                                    310.35                                          788.20                                             NA                                     NA                           NA                            \n",
       "2  9                               0                                    106.90                                           71.81                                              0                                6337.03                           NA                            \n",
       "3 37                               6                                   1035.17                                         2273.97                                              0                              176109.78                            0                            \n",
       "4 19                               3                                    367.64                                         2336.87                                              0                               17704.68                            0                            \n",
       "5 12                               0                                   1158.92                                          478.50                                              0                                1037.85                           NA                            \n",
       "6  3                               0                                    124.40                                          256.75                                             NA                                     NA                           NA                            \n",
       "  tot_allowed_inpatient_not_same_tin tot_allowed_outpatient_same_tin_cardiology_related tot_allowed_outpatient_not_same_tin_cardiology_related tot_allowed_inpatient_same_tin_cardiology_related tot_allowed_inpatient_not_same_tin_cardiology_related total_exp_same_tin\n",
       "1        NA                          NA                                                       NA                                               NA                                                      NA                                              1345.60           \n",
       "2        NA                           0                                                   372.60                                               NA                                                      NA                                               899.06           \n",
       "3 311264.38                          NA                                                       NA                                               NA                                                      NA                                              2848.26           \n",
       "4  13915.48                           0                                                 12305.11                                                0                                                13915.48                                              1318.46           \n",
       "5        NA                          NA                                                       NA                                               NA                                                      NA                                              1268.06           \n",
       "6        NA                          NA                                                       NA                                               NA                                                      NA                                               233.44           \n",
       "  total_exp_same_tin_cardiology_related total_exp_not_same_tin total_exp_not_same_tin_cardiology_related year_before_diagnosis hcc1 hcc2 hcc6 hcc8 hcc9 hcc10 hcc11 hcc12 hcc17 hcc18 hcc19 hcc21 hcc22 hcc23 hcc27 hcc28 hcc29 hcc33 hcc34 hcc35 hcc39 hcc40 hcc46 hcc47 hcc48 hcc51 hcc52 hcc54 hcc55\n",
       "1  310.35                                  819.36                788.20                                  2017                   0    0    0    0    0    0     0     0     0     0     0     0     0     0     0     0     0     0     0     0     0     0     0     0     1     0     0     0     0   \n",
       "2  106.90                                 7587.53                444.41                                  2013                   0    0    0    0    0    0     0     0     0     0     0     0     0     0     0     0     0     0     0     0     0     0     0     0     0     0     0     0     0   \n",
       "3 1035.17                               501387.41               2273.97                                  2013                   0    1    0    0    0    0     0     0     0     0     1     0     0     1     0     0     0     0     0     0     0     0     0     0     0     0     0     0     0   \n",
       "4  367.64                                43480.13              28557.46                                  2016                   0    0    0    0    0    0     0     0     0     0     0     0     0     0     0     0     0     0     0     0     0     0     0     0     0     0     0     0     0   \n",
       "5 1158.92                                 6178.75                478.50                                  2014                   0    0    0    0    0    0     0     0     0     0     0     0     0     0     0     0     0     0     0     0     0     0     0     0     0     0     0     0     0   \n",
       "6  124.40                                 1382.23                256.75                                  2017                  NA   NA   NA   NA   NA   NA    NA    NA    NA    NA    NA    NA    NA    NA    NA    NA    NA    NA    NA    NA    NA    NA    NA    NA    NA    NA    NA    NA    NA   \n",
       "  hcc57 hcc58 hcc70 hcc71 hcc72 hcc73 hcc74 hcc75 hcc76 hcc77 hcc78 hcc79 hcc80 hcc82 hcc83 hcc84 hcc85 hcc86 hcc87 hcc88 hcc96 hcc99 hcc100 hcc103 hcc104 hcc106 hcc107 hcc108 hcc110 hcc111 hcc112 hcc114 hcc115 hcc122 hcc124 hcc134 hcc135 hcc136 hcc137 hcc138 hcc139 hcc140 hcc141 hcc157 hcc158\n",
       "1  0     0     0     0     0     0     0     0     0     0     0     0     0     0     0     0     1     1     0     0     1     0     1      0      0      0      0      1      0      0      0      0      0      0      0      0      1      0      0      0      0      0      0      0      0    \n",
       "2  0     1     0     0     0     0     0     0     0     0     0     0     0     0     0     0     0     0     1     0     0     0     0      0      0      0      0      0      0      0      0      0      0      0      0      0      1      0      0      0      0      0      0      0      0    \n",
       "3  0     0     0     0     0     0     0     0     0     0     0     0     0     0     0     1     1     0     0     0     0     0     0      0      0      0      0      0      0      1      0      0      1      0      0      1      1      0      0      0      0      0      0      0      0    \n",
       "4  0     0     0     0     0     0     0     0     0     0     0     0     0     0     0     0     0     0     0     0     1     0     0      0      0      0      0      0      0      0      0      0      0      0      0      0      0      0      0      0      0      0      0      0      0    \n",
       "5  0     0     0     0     0     0     0     0     0     0     0     0     0     0     0     0     0     0     1     0     0     0     0      0      0      0      0      0      0      0      0      0      0      0      0      0      0      0      0      0      0      0      0      0      0    \n",
       "6 NA    NA    NA    NA    NA    NA    NA    NA    NA    NA    NA    NA    NA    NA    NA    NA    NA    NA    NA    NA    NA    NA    NA     NA     NA     NA     NA     NA     NA     NA     NA     NA     NA     NA     NA     NA     NA     NA     NA     NA     NA     NA     NA     NA     NA    \n",
       "  hcc159 hcc160 hcc161 hcc162 hcc166 hcc167 hcc169 hcc170 hcc173 hcc176 hcc186 hcc188 hcc189\n",
       "1  0      0      0      0      0      0      0      0      0      0      0      0      0    \n",
       "2  0      0      0      0      0      0      0      0      0      0      0      0      0    \n",
       "3  0      0      0      0      0      0      0      0      0      0      0      0      0    \n",
       "4  0      0      0      0      0      0      0      0      0      0      0      0      0    \n",
       "5  0      0      0      0      0      0      0      0      0      0      0      0      0    \n",
       "6 NA     NA     NA     NA     NA     NA     NA     NA     NA     NA     NA     NA     NA    "
      ]
     },
     "metadata": {},
     "output_type": "display_data"
    }
   ],
   "source": [
    "head(yearly_calculations_with_diag)"
   ]
  },
  {
   "cell_type": "code",
   "execution_count": 22,
   "id": "290faa1a-179b-4963-afd7-ee82abde08c2",
   "metadata": {},
   "outputs": [],
   "source": [
    "write.csv(yearly_calculations_with_diag,\"yearly_calculations_with_diag.csv\")"
   ]
  },
  {
   "cell_type": "markdown",
   "id": "ac028884-c246-4e51-9c8b-e4e7e86dadb8",
   "metadata": {
    "tags": []
   },
   "source": [
    "# For person file"
   ]
  },
  {
   "cell_type": "code",
   "execution_count": 97,
   "id": "0274bba1-e7f5-4f11-a6a6-dc14781a721a",
   "metadata": {
    "collapsed": true,
    "jupyter": {
     "outputs_hidden": true
    },
    "tags": []
   },
   "outputs": [
    {
     "name": "stderr",
     "output_type": "stream",
     "text": [
      "\u001b[1m\u001b[22mNew names:\n",
      "\u001b[36m•\u001b[39m `06071` -> `06071...6`\n",
      "\u001b[36m•\u001b[39m `06071` -> `06071...7`\n",
      "\u001b[36m•\u001b[39m `06071` -> `06071...8`\n",
      "\u001b[36m•\u001b[39m `06071` -> `06071...9`\n",
      "\u001b[36m•\u001b[39m `06071` -> `06071...10`\n",
      "\u001b[36m•\u001b[39m `06071` -> `06071...11`\n",
      "\u001b[36m•\u001b[39m `06071` -> `06071...12`\n",
      "\u001b[36m•\u001b[39m `06071` -> `06071...13`\n",
      "\u001b[36m•\u001b[39m `06071` -> `06071...14`\n",
      "\u001b[36m•\u001b[39m `06071` -> `06071...15`\n",
      "\u001b[36m•\u001b[39m `06071` -> `06071...16`\n",
      "\u001b[36m•\u001b[39m `06071` -> `06071...17`\n",
      "\u001b[36m•\u001b[39m `0` -> `0...21`\n",
      "\u001b[36m•\u001b[39m `0` -> `0...22`\n",
      "\u001b[36m•\u001b[39m `0` -> `0...23`\n",
      "\u001b[36m•\u001b[39m `10` -> `10...24`\n",
      "\u001b[36m•\u001b[39m `10` -> `10...25`\n",
      "\u001b[36m•\u001b[39m `10` -> `10...26`\n",
      "\u001b[36m•\u001b[39m `10` -> `10...27`\n",
      "\u001b[36m•\u001b[39m `10` -> `10...28`\n",
      "\u001b[36m•\u001b[39m `10` -> `10...29`\n",
      "\u001b[36m•\u001b[39m `10` -> `10...30`\n",
      "\u001b[36m•\u001b[39m `10` -> `10...31`\n",
      "\u001b[36m•\u001b[39m `10` -> `10...32`\n",
      "\u001b[36m•\u001b[39m `10` -> `10...33`\n",
      "\u001b[36m•\u001b[39m `10` -> `10...34`\n",
      "\u001b[36m•\u001b[39m `10` -> `10...35`\n",
      "\u001b[36m•\u001b[39m `0` -> `0...36`\n",
      "\u001b[36m•\u001b[39m `0` -> `0...37`\n",
      "\u001b[36m•\u001b[39m `3` -> `3...38`\n",
      "\u001b[36m•\u001b[39m `3` -> `3...39`\n",
      "\u001b[36m•\u001b[39m `3` -> `3...40`\n",
      "\u001b[36m•\u001b[39m `3` -> `3...41`\n",
      "\u001b[36m•\u001b[39m `3` -> `3...42`\n",
      "\u001b[36m•\u001b[39m `3` -> `3...43`\n",
      "\u001b[36m•\u001b[39m `3` -> `3...44`\n",
      "\u001b[36m•\u001b[39m `3` -> `3...45`\n",
      "\u001b[36m•\u001b[39m `3` -> `3...46`\n",
      "\u001b[36m•\u001b[39m `3` -> `3...47`\n",
      "\u001b[36m•\u001b[39m `3` -> `3...48`\n",
      "\u001b[36m•\u001b[39m `3` -> `3...49`\n",
      "\u001b[36m•\u001b[39m `C` -> `C...50`\n",
      "\u001b[36m•\u001b[39m `C` -> `C...51`\n",
      "\u001b[36m•\u001b[39m `C` -> `C...52`\n",
      "\u001b[36m•\u001b[39m `C` -> `C...53`\n",
      "\u001b[36m•\u001b[39m `C` -> `C...54`\n",
      "\u001b[36m•\u001b[39m `C` -> `C...55`\n",
      "\u001b[36m•\u001b[39m `C` -> `C...56`\n",
      "\u001b[36m•\u001b[39m `C` -> `C...57`\n",
      "\u001b[36m•\u001b[39m `C` -> `C...58`\n",
      "\u001b[36m•\u001b[39m `C` -> `C...59`\n",
      "\u001b[36m•\u001b[39m `C` -> `C...60`\n",
      "\u001b[36m•\u001b[39m `C` -> `C...61`\n",
      "\u001b[36m•\u001b[39m `12` -> `12...62`\n",
      "\u001b[36m•\u001b[39m `12` -> `12...63`\n",
      "\u001b[36m•\u001b[39m `12` -> `12...64`\n",
      "\u001b[36m•\u001b[39m `0` -> `0...65`\n",
      "\u001b[36m•\u001b[39m `` -> `...66`\n",
      "\u001b[36m•\u001b[39m `` -> `...67`\n",
      "\u001b[36m•\u001b[39m `NA` -> `NA...68`\n",
      "\u001b[36m•\u001b[39m `NA` -> `NA...69`\n",
      "\u001b[36m•\u001b[39m `NA` -> `NA...70`\n",
      "\u001b[36m•\u001b[39m `NA` -> `NA...71`\n",
      "\u001b[36m•\u001b[39m `NA` -> `NA...72`\n",
      "\u001b[36m•\u001b[39m `NA` -> `NA...73`\n",
      "\u001b[36m•\u001b[39m `NA` -> `NA...74`\n",
      "\u001b[36m•\u001b[39m `NA` -> `NA...75`\n",
      "\u001b[36m•\u001b[39m `NA` -> `NA...76`\n",
      "\u001b[36m•\u001b[39m `NA` -> `NA...77`\n",
      "\u001b[36m•\u001b[39m `NA` -> `NA...78`\n",
      "\u001b[36m•\u001b[39m `NA` -> `NA...79`\n",
      "\u001b[1mRows: \u001b[22m\u001b[34m3296239\u001b[39m \u001b[1mColumns: \u001b[22m\u001b[34m79\u001b[39m\n",
      "\u001b[36m──\u001b[39m \u001b[1mColumn specification\u001b[22m \u001b[36m────────────────────────────────────────────────────────\u001b[39m\n",
      "\u001b[1mDelimiter:\u001b[22m \",\"\n",
      "\u001b[31mchr\u001b[39m (64): 04, 05, 460, 06071...6, 06071...7, 06071...8, 06071...9, 06071...10, 06071...11, 06071...12, 06071...13, 06071...14, 06071...15, 06071...16, 06071...17, 10...24, 10...25, 10...26, 10...27, 10...28, 10...29, 10...30, 10...31, 10...32, 10...33, 10...34, 10...35, 3...38, 3...39, 3...40, 3...\n",
      "\u001b[32mdbl\u001b[39m (15): 100000005, 2020, 2, 1, 83, 0...21, 0...22, 0...23, 0...36, 0...37, 12...62, 12...63, 12...64, 0...65, ...67\n",
      "\n",
      "\u001b[36mℹ\u001b[39m Use `spec()` to retrieve the full column specification for this data.\n",
      "\u001b[36mℹ\u001b[39m Specify the column types or set `show_col_types = FALSE` to quiet this message.\n",
      "Warning message:\n",
      "“One or more parsing issues, see `problems()` for details”\n"
     ]
    }
   ],
   "source": [
    "mbsf_2013=vroom(file=\"/work/postresearch/Shared/Data_raw/Medicare/Claims/MBSF/den_saf_lds_5_2013.csv\" , num_threads = numcores) %>% as.data.table\n",
    "mbsf_2014=vroom(file=\"/work/postresearch/Shared/Data_raw/Medicare/Claims/MBSF/den_saf_lds_5_2014.csv\" , num_threads = numcores) %>% as.data.table\n",
    "mbsf_2015=vroom(file=\"/work/postresearch/Shared/Data_raw/Medicare/Claims/MBSF/den_saf_lds_5_2015.csv\" , num_threads = numcores) %>% as.data.table\n",
    "mbsf_2016=vroom(file=\"/work/postresearch/Shared/Data_raw/Medicare/Claims/MBSF/mbsf_lds_5_2016.csv\" , num_threads = numcores) %>% as.data.table\n",
    "mbsf_2017=vroom(file=\"/work/postresearch/Shared/Data_raw/Medicare/Claims/MBSF/mbsf_lds_5_2017.csv\" , num_threads = numcores) %>% as.data.table\n",
    "mbsf_2018=vroom(file=\"/work/postresearch/Shared/Data_raw/Medicare/Claims/MBSF/mbsf_lds_5_2018.csv\" , num_threads = numcores) %>% as.data.table\n",
    "mbsf_2019=vroom(file=\"/work/postresearch/Shared/Data_raw/Medicare/Claims/MBSF/mbsf_lds_5_2019.csv\" , num_threads = numcores) %>% as.data.table\n",
    "mbsf_2020=vroom(file=\"/work/postresearch/Shared/Data_raw/Medicare/Claims/MBSF/mbsf_lds_5_2020.csv\" , num_threads = numcores) %>% as.data.table\n"
   ]
  },
  {
   "cell_type": "code",
   "execution_count": 98,
   "id": "60471bf1-306d-4583-848d-9b55d7d96203",
   "metadata": {},
   "outputs": [],
   "source": [
    "mbsf_colnames_2013_2015=c(\"DESY_SORT_KEY\",\"STATE_CODE\",\"COUNTY_CODE\",\"SEX_CODE\",\"RACE_CODE\",\"AGE\",\"ORIG_REASON_FOR_ENTITLEMENT\",\"CURR_REASON_FOR_ENTITLEMENT\",\"ESRD_INDICATOR\",\"MEDICARE_STATUS_CD\",\"PART_A_TERMINATION_CODE\",\"PART_B_TERMINATION_CODE\",\"ENTITLEMENT_BUY_IN_IND01\",\"ENTITLEMENT_BUY_IN_IND02\",\"ENTITLEMENT_BUY_IN_IND03\",\"ENTITLEMENT_BUY_IN_IND04\",\"ENTITLEMENT_BUY_IN_IND05\",\"ENTITLEMENT_BUY_IN_IND06\",\"ENTITLEMENT_BUY_IN_IND07\",\"ENTITLEMENT_BUY_IN_IND08\",\"ENTITLEMENT_BUY_IN_IND09\",\"ENTITLEMENT_BUY_IN_IND10\",\"ENTITLEMENT_BUY_IN_IND11\",\"ENTITLEMENT_BUY_IN_IND12\",\"HMO_INDICATOR01\",\"HMO_INDICATOR02\",\"HMO_INDICATOR03\",\"HMO_INDICATOR04\",\"HMO_INDICATOR05\",\"HMO_INDICATOR06\",\"HMO_INDICATOR07\",\"HMO_INDICATOR08\",\"HMO_INDICATOR09\",\"HMO_INDICATOR10\",\"HMO_INDICATOR11\",\"HMO_INDICATOR12\",\"HI_COVERAGE\",\"SMI_COVERAGE\",\"HMO_COVERAGE\",\"STATE_BUY_IN_COVERAGE\",\"VALID_DATE_OF_DEATH_SWITCH\",\"DATE_OF_DEATH\",\"REFERENCE_YEAR\")\n",
    "\n",
    "mbsf_colnames_2016_2020=c(\"DESY_SORT_KEY\",\"REFERENCE_YEAR\",\"SAMPLE_GROUP\",\"STATE_CODE\",\"COUNTY_CODE\",\"STATE_CNTY_FIPS_CD_01\",\"STATE_CNTY_FIPS_CD_02\",\"STATE_CNTY_FIPS_CD_03\",\"STATE_CNTY_FIPS_CD_04\",\"STATE_CNTY_FIPS_CD_05\",\"STATE_CNTY_FIPS_CD_06\",\"STATE_CNTY_FIPS_CD_07\",\"STATE_CNTY_FIPS_CD_08\",\"STATE_CNTY_FIPS_CD_09\",\"STATE_CNTY_FIPS_CD_10\",\"STATE_CNTY_FIPS_CD_11\",\"STATE_CNTY_FIPS_CD_12\",\"SEX_CODE\",\"RACE_CODE\",\"AGE\",\"ORIG_REASON_FOR_ENTITLEMENT\",\"CURR_REASON_FOR_ENTITLEMENT\",\"ESRD_INDICATOR\",\"MDCR_STATUS_CODE_01\",\"MDCR_STATUS_CODE_02\",\"MDCR_STATUS_CODE_03\",\"MDCR_STATUS_CODE_04\",\"MDCR_STATUS_CODE_05\",\"MDCR_STATUS_CODE_06\",\"MDCR_STATUS_CODE_07\",\"MDCR_STATUS_CODE_08\",\"MDCR_STATUS_CODE_09\",\"MDCR_STATUS_CODE_10\",\"MDCR_STATUS_CODE_11\",\"MDCR_STATUS_CODE_12\",\"PART_A_TERMINATION_CODE\",\"PART_B_TERMINATION_CODE\",\"ENTITLEMENT_BUY_IN_IND01\",\"ENTITLEMENT_BUY_IN_IND02\",\"ENTITLEMENT_BUY_IN_IND03\",\"ENTITLEMENT_BUY_IN_IND04\",\"ENTITLEMENT_BUY_IN_IND05\",\"ENTITLEMENT_BUY_IN_IND06\",\"ENTITLEMENT_BUY_IN_IND07\",\"ENTITLEMENT_BUY_IN_IND08\",\"ENTITLEMENT_BUY_IN_IND09\",\"ENTITLEMENT_BUY_IN_IND10\",\"ENTITLEMENT_BUY_IN_IND11\",\"ENTITLEMENT_BUY_IN_IND12\",\"HMO_INDICATOR01\",\"HMO_INDICATOR02\",\"HMO_INDICATOR03\",\"HMO_INDICATOR04\",\"HMO_INDICATOR05\",\"HMO_INDICATOR06\",\"HMO_INDICATOR07\",\"HMO_INDICATOR08\",\"HMO_INDICATOR09\",\"HMO_INDICATOR10\",\"HMO_INDICATOR11\",\"HMO_INDICATOR12\",\"HI_COVERAGE\",\"SMI_COVERAGE\",\"HMO_COVERAGE\",\"STATE_BUY_IN_COVERAGE\",\"VALID_DATE_OF_DEATH_SWITCH\",\"DATE_OF_DEATH\",\"DUAL_STUS_CD_01\",\"DUAL_STUS_CD_02\",\"DUAL_STUS_CD_03\",\"DUAL_STUS_CD_04\",\"DUAL_STUS_CD_05\",\"DUAL_STUS_CD_06\",\"DUAL_STUS_CD_07\",\"DUAL_STUS_CD_08\",\"DUAL_STUS_CD_09\",\"DUAL_STUS_CD_10\",\"DUAL_STUS_CD_11\",\"DUAL_STUS_CD_12\")\n",
    "\n",
    "\n",
    "colnames(mbsf_2013)=mbsf_colnames_2013_2015\n",
    "colnames(mbsf_2014)=mbsf_colnames_2013_2015\n",
    "colnames(mbsf_2015)=mbsf_colnames_2013_2015\n",
    "colnames(mbsf_2016)=mbsf_colnames_2016_2020\n",
    "colnames(mbsf_2017)=mbsf_colnames_2016_2020\n",
    "colnames(mbsf_2018)=mbsf_colnames_2016_2020\n",
    "colnames(mbsf_2019)=mbsf_colnames_2016_2020\n",
    "colnames(mbsf_2020)=mbsf_colnames_2016_2020"
   ]
  },
  {
   "cell_type": "code",
   "execution_count": 104,
   "id": "029adbbd-be83-44de-ac21-831e7d5b6ebe",
   "metadata": {},
   "outputs": [
    {
     "data": {
      "text/html": [
       "<style>\n",
       ".list-inline {list-style: none; margin:0; padding: 0}\n",
       ".list-inline>li {display: inline-block}\n",
       ".list-inline>li:not(:last-child)::after {content: \"\\00b7\"; padding: 0 .5ex}\n",
       "</style>\n",
       "<ol class=list-inline><li>'DESY_SORT_KEY'</li><li>'STATE_CODE'</li><li>'COUNTY_CODE'</li><li>'SEX_CODE'</li><li>'RACE_CODE'</li><li>'AGE'</li><li>'ORIG_REASON_FOR_ENTITLEMENT'</li><li>'CURR_REASON_FOR_ENTITLEMENT'</li><li>'ESRD_INDICATOR'</li><li>'MEDICARE_STATUS_CD'</li><li>'PART_A_TERMINATION_CODE'</li><li>'PART_B_TERMINATION_CODE'</li><li>'ENTITLEMENT_BUY_IN_IND01'</li><li>'ENTITLEMENT_BUY_IN_IND02'</li><li>'ENTITLEMENT_BUY_IN_IND03'</li><li>'ENTITLEMENT_BUY_IN_IND04'</li><li>'ENTITLEMENT_BUY_IN_IND05'</li><li>'ENTITLEMENT_BUY_IN_IND06'</li><li>'ENTITLEMENT_BUY_IN_IND07'</li><li>'ENTITLEMENT_BUY_IN_IND08'</li><li>'ENTITLEMENT_BUY_IN_IND09'</li><li>'ENTITLEMENT_BUY_IN_IND10'</li><li>'ENTITLEMENT_BUY_IN_IND11'</li><li>'ENTITLEMENT_BUY_IN_IND12'</li><li>'HMO_INDICATOR01'</li><li>'HMO_INDICATOR02'</li><li>'HMO_INDICATOR03'</li><li>'HMO_INDICATOR04'</li><li>'HMO_INDICATOR05'</li><li>'HMO_INDICATOR06'</li><li>'HMO_INDICATOR07'</li><li>'HMO_INDICATOR08'</li><li>'HMO_INDICATOR09'</li><li>'HMO_INDICATOR10'</li><li>'HMO_INDICATOR11'</li><li>'HMO_INDICATOR12'</li><li>'HI_COVERAGE'</li><li>'SMI_COVERAGE'</li><li>'HMO_COVERAGE'</li><li>'STATE_BUY_IN_COVERAGE'</li><li>'VALID_DATE_OF_DEATH_SWITCH'</li><li>'DATE_OF_DEATH'</li><li>'REFERENCE_YEAR'</li></ol>\n"
      ],
      "text/latex": [
       "\\begin{enumerate*}\n",
       "\\item 'DESY\\_SORT\\_KEY'\n",
       "\\item 'STATE\\_CODE'\n",
       "\\item 'COUNTY\\_CODE'\n",
       "\\item 'SEX\\_CODE'\n",
       "\\item 'RACE\\_CODE'\n",
       "\\item 'AGE'\n",
       "\\item 'ORIG\\_REASON\\_FOR\\_ENTITLEMENT'\n",
       "\\item 'CURR\\_REASON\\_FOR\\_ENTITLEMENT'\n",
       "\\item 'ESRD\\_INDICATOR'\n",
       "\\item 'MEDICARE\\_STATUS\\_CD'\n",
       "\\item 'PART\\_A\\_TERMINATION\\_CODE'\n",
       "\\item 'PART\\_B\\_TERMINATION\\_CODE'\n",
       "\\item 'ENTITLEMENT\\_BUY\\_IN\\_IND01'\n",
       "\\item 'ENTITLEMENT\\_BUY\\_IN\\_IND02'\n",
       "\\item 'ENTITLEMENT\\_BUY\\_IN\\_IND03'\n",
       "\\item 'ENTITLEMENT\\_BUY\\_IN\\_IND04'\n",
       "\\item 'ENTITLEMENT\\_BUY\\_IN\\_IND05'\n",
       "\\item 'ENTITLEMENT\\_BUY\\_IN\\_IND06'\n",
       "\\item 'ENTITLEMENT\\_BUY\\_IN\\_IND07'\n",
       "\\item 'ENTITLEMENT\\_BUY\\_IN\\_IND08'\n",
       "\\item 'ENTITLEMENT\\_BUY\\_IN\\_IND09'\n",
       "\\item 'ENTITLEMENT\\_BUY\\_IN\\_IND10'\n",
       "\\item 'ENTITLEMENT\\_BUY\\_IN\\_IND11'\n",
       "\\item 'ENTITLEMENT\\_BUY\\_IN\\_IND12'\n",
       "\\item 'HMO\\_INDICATOR01'\n",
       "\\item 'HMO\\_INDICATOR02'\n",
       "\\item 'HMO\\_INDICATOR03'\n",
       "\\item 'HMO\\_INDICATOR04'\n",
       "\\item 'HMO\\_INDICATOR05'\n",
       "\\item 'HMO\\_INDICATOR06'\n",
       "\\item 'HMO\\_INDICATOR07'\n",
       "\\item 'HMO\\_INDICATOR08'\n",
       "\\item 'HMO\\_INDICATOR09'\n",
       "\\item 'HMO\\_INDICATOR10'\n",
       "\\item 'HMO\\_INDICATOR11'\n",
       "\\item 'HMO\\_INDICATOR12'\n",
       "\\item 'HI\\_COVERAGE'\n",
       "\\item 'SMI\\_COVERAGE'\n",
       "\\item 'HMO\\_COVERAGE'\n",
       "\\item 'STATE\\_BUY\\_IN\\_COVERAGE'\n",
       "\\item 'VALID\\_DATE\\_OF\\_DEATH\\_SWITCH'\n",
       "\\item 'DATE\\_OF\\_DEATH'\n",
       "\\item 'REFERENCE\\_YEAR'\n",
       "\\end{enumerate*}\n"
      ],
      "text/markdown": [
       "1. 'DESY_SORT_KEY'\n",
       "2. 'STATE_CODE'\n",
       "3. 'COUNTY_CODE'\n",
       "4. 'SEX_CODE'\n",
       "5. 'RACE_CODE'\n",
       "6. 'AGE'\n",
       "7. 'ORIG_REASON_FOR_ENTITLEMENT'\n",
       "8. 'CURR_REASON_FOR_ENTITLEMENT'\n",
       "9. 'ESRD_INDICATOR'\n",
       "10. 'MEDICARE_STATUS_CD'\n",
       "11. 'PART_A_TERMINATION_CODE'\n",
       "12. 'PART_B_TERMINATION_CODE'\n",
       "13. 'ENTITLEMENT_BUY_IN_IND01'\n",
       "14. 'ENTITLEMENT_BUY_IN_IND02'\n",
       "15. 'ENTITLEMENT_BUY_IN_IND03'\n",
       "16. 'ENTITLEMENT_BUY_IN_IND04'\n",
       "17. 'ENTITLEMENT_BUY_IN_IND05'\n",
       "18. 'ENTITLEMENT_BUY_IN_IND06'\n",
       "19. 'ENTITLEMENT_BUY_IN_IND07'\n",
       "20. 'ENTITLEMENT_BUY_IN_IND08'\n",
       "21. 'ENTITLEMENT_BUY_IN_IND09'\n",
       "22. 'ENTITLEMENT_BUY_IN_IND10'\n",
       "23. 'ENTITLEMENT_BUY_IN_IND11'\n",
       "24. 'ENTITLEMENT_BUY_IN_IND12'\n",
       "25. 'HMO_INDICATOR01'\n",
       "26. 'HMO_INDICATOR02'\n",
       "27. 'HMO_INDICATOR03'\n",
       "28. 'HMO_INDICATOR04'\n",
       "29. 'HMO_INDICATOR05'\n",
       "30. 'HMO_INDICATOR06'\n",
       "31. 'HMO_INDICATOR07'\n",
       "32. 'HMO_INDICATOR08'\n",
       "33. 'HMO_INDICATOR09'\n",
       "34. 'HMO_INDICATOR10'\n",
       "35. 'HMO_INDICATOR11'\n",
       "36. 'HMO_INDICATOR12'\n",
       "37. 'HI_COVERAGE'\n",
       "38. 'SMI_COVERAGE'\n",
       "39. 'HMO_COVERAGE'\n",
       "40. 'STATE_BUY_IN_COVERAGE'\n",
       "41. 'VALID_DATE_OF_DEATH_SWITCH'\n",
       "42. 'DATE_OF_DEATH'\n",
       "43. 'REFERENCE_YEAR'\n",
       "\n",
       "\n"
      ],
      "text/plain": [
       " [1] \"DESY_SORT_KEY\"               \"STATE_CODE\"                  \"COUNTY_CODE\"                 \"SEX_CODE\"                    \"RACE_CODE\"                   \"AGE\"                         \"ORIG_REASON_FOR_ENTITLEMENT\" \"CURR_REASON_FOR_ENTITLEMENT\" \"ESRD_INDICATOR\"             \n",
       "[10] \"MEDICARE_STATUS_CD\"          \"PART_A_TERMINATION_CODE\"     \"PART_B_TERMINATION_CODE\"     \"ENTITLEMENT_BUY_IN_IND01\"    \"ENTITLEMENT_BUY_IN_IND02\"    \"ENTITLEMENT_BUY_IN_IND03\"    \"ENTITLEMENT_BUY_IN_IND04\"    \"ENTITLEMENT_BUY_IN_IND05\"    \"ENTITLEMENT_BUY_IN_IND06\"   \n",
       "[19] \"ENTITLEMENT_BUY_IN_IND07\"    \"ENTITLEMENT_BUY_IN_IND08\"    \"ENTITLEMENT_BUY_IN_IND09\"    \"ENTITLEMENT_BUY_IN_IND10\"    \"ENTITLEMENT_BUY_IN_IND11\"    \"ENTITLEMENT_BUY_IN_IND12\"    \"HMO_INDICATOR01\"             \"HMO_INDICATOR02\"             \"HMO_INDICATOR03\"            \n",
       "[28] \"HMO_INDICATOR04\"             \"HMO_INDICATOR05\"             \"HMO_INDICATOR06\"             \"HMO_INDICATOR07\"             \"HMO_INDICATOR08\"             \"HMO_INDICATOR09\"             \"HMO_INDICATOR10\"             \"HMO_INDICATOR11\"             \"HMO_INDICATOR12\"            \n",
       "[37] \"HI_COVERAGE\"                 \"SMI_COVERAGE\"                \"HMO_COVERAGE\"                \"STATE_BUY_IN_COVERAGE\"       \"VALID_DATE_OF_DEATH_SWITCH\"  \"DATE_OF_DEATH\"               \"REFERENCE_YEAR\"             "
      ]
     },
     "metadata": {},
     "output_type": "display_data"
    }
   ],
   "source": [
    "mbsf_colnames_2013_2015"
   ]
  },
  {
   "cell_type": "code",
   "execution_count": 101,
   "id": "c1188d88-1d27-43cd-92f5-cf3728693f47",
   "metadata": {},
   "outputs": [
    {
     "data": {
      "text/html": [
       "<table class=\"dataframe\">\n",
       "<caption>A data.table: 6 × 43</caption>\n",
       "<thead>\n",
       "\t<tr><th scope=col>DESY_SORT_KEY</th><th scope=col>STATE_CODE</th><th scope=col>COUNTY_CODE</th><th scope=col>SEX_CODE</th><th scope=col>RACE_CODE</th><th scope=col>AGE</th><th scope=col>ORIG_REASON_FOR_ENTITLEMENT</th><th scope=col>CURR_REASON_FOR_ENTITLEMENT</th><th scope=col>ESRD_INDICATOR</th><th scope=col>MEDICARE_STATUS_CD</th><th scope=col>PART_A_TERMINATION_CODE</th><th scope=col>PART_B_TERMINATION_CODE</th><th scope=col>ENTITLEMENT_BUY_IN_IND01</th><th scope=col>ENTITLEMENT_BUY_IN_IND02</th><th scope=col>ENTITLEMENT_BUY_IN_IND03</th><th scope=col>ENTITLEMENT_BUY_IN_IND04</th><th scope=col>ENTITLEMENT_BUY_IN_IND05</th><th scope=col>ENTITLEMENT_BUY_IN_IND06</th><th scope=col>ENTITLEMENT_BUY_IN_IND07</th><th scope=col>ENTITLEMENT_BUY_IN_IND08</th><th scope=col>ENTITLEMENT_BUY_IN_IND09</th><th scope=col>ENTITLEMENT_BUY_IN_IND10</th><th scope=col>ENTITLEMENT_BUY_IN_IND11</th><th scope=col>ENTITLEMENT_BUY_IN_IND12</th><th scope=col>HMO_INDICATOR01</th><th scope=col>HMO_INDICATOR02</th><th scope=col>HMO_INDICATOR03</th><th scope=col>HMO_INDICATOR04</th><th scope=col>HMO_INDICATOR05</th><th scope=col>HMO_INDICATOR06</th><th scope=col>HMO_INDICATOR07</th><th scope=col>HMO_INDICATOR08</th><th scope=col>HMO_INDICATOR09</th><th scope=col>HMO_INDICATOR10</th><th scope=col>HMO_INDICATOR11</th><th scope=col>HMO_INDICATOR12</th><th scope=col>HI_COVERAGE</th><th scope=col>SMI_COVERAGE</th><th scope=col>HMO_COVERAGE</th><th scope=col>STATE_BUY_IN_COVERAGE</th><th scope=col>VALID_DATE_OF_DEATH_SWITCH</th><th scope=col>DATE_OF_DEATH</th><th scope=col>REFERENCE_YEAR</th></tr>\n",
       "\t<tr><th scope=col>&lt;chr&gt;</th><th scope=col>&lt;chr&gt;</th><th scope=col>&lt;chr&gt;</th><th scope=col>&lt;dbl&gt;</th><th scope=col>&lt;dbl&gt;</th><th scope=col>&lt;dbl&gt;</th><th scope=col>&lt;dbl&gt;</th><th scope=col>&lt;dbl&gt;</th><th scope=col>&lt;chr&gt;</th><th scope=col>&lt;dbl&gt;</th><th scope=col>&lt;dbl&gt;</th><th scope=col>&lt;dbl&gt;</th><th scope=col>&lt;chr&gt;</th><th scope=col>&lt;chr&gt;</th><th scope=col>&lt;chr&gt;</th><th scope=col>&lt;chr&gt;</th><th scope=col>&lt;chr&gt;</th><th scope=col>&lt;chr&gt;</th><th scope=col>&lt;chr&gt;</th><th scope=col>&lt;chr&gt;</th><th scope=col>&lt;chr&gt;</th><th scope=col>&lt;chr&gt;</th><th scope=col>&lt;chr&gt;</th><th scope=col>&lt;chr&gt;</th><th scope=col>&lt;chr&gt;</th><th scope=col>&lt;chr&gt;</th><th scope=col>&lt;chr&gt;</th><th scope=col>&lt;chr&gt;</th><th scope=col>&lt;chr&gt;</th><th scope=col>&lt;chr&gt;</th><th scope=col>&lt;chr&gt;</th><th scope=col>&lt;chr&gt;</th><th scope=col>&lt;chr&gt;</th><th scope=col>&lt;chr&gt;</th><th scope=col>&lt;chr&gt;</th><th scope=col>&lt;chr&gt;</th><th scope=col>&lt;dbl&gt;</th><th scope=col>&lt;dbl&gt;</th><th scope=col>&lt;dbl&gt;</th><th scope=col>&lt;dbl&gt;</th><th scope=col>&lt;chr&gt;</th><th scope=col>&lt;dbl&gt;</th><th scope=col>&lt;dbl&gt;</th></tr>\n",
       "</thead>\n",
       "<tbody>\n",
       "\t<tr><td>000000000</td><td>45</td><td>910</td><td>2</td><td>1</td><td>75</td><td>0</td><td>0</td><td>0</td><td>10</td><td>0</td><td>0</td><td>C</td><td>C</td><td>C</td><td>C</td><td>C</td><td>C</td><td>C</td><td>C</td><td>C</td><td>C</td><td>C</td><td>3</td><td>0</td><td>0</td><td>0</td><td>0</td><td>0</td><td>0</td><td>0</td><td>0</td><td>0</td><td>0</td><td>0</td><td>0</td><td>12</td><td>12</td><td>0</td><td>11</td><td>NA</td><td>NA</td><td>13</td></tr>\n",
       "\t<tr><td>000000000</td><td>22</td><td>170</td><td>2</td><td>1</td><td>71</td><td>0</td><td>0</td><td>0</td><td>10</td><td>0</td><td>0</td><td>3</td><td>3</td><td>3</td><td>3</td><td>3</td><td>3</td><td>3</td><td>3</td><td>3</td><td>3</td><td>3</td><td>3</td><td>0</td><td>0</td><td>0</td><td>0</td><td>0</td><td>0</td><td>0</td><td>0</td><td>0</td><td>0</td><td>0</td><td>0</td><td>12</td><td>12</td><td>0</td><td> 0</td><td>NA</td><td>NA</td><td>13</td></tr>\n",
       "\t<tr><td>000000000</td><td>33</td><td>420</td><td>2</td><td>1</td><td>93</td><td>0</td><td>0</td><td>0</td><td>10</td><td>0</td><td>0</td><td>3</td><td>3</td><td>3</td><td>3</td><td>3</td><td>3</td><td>3</td><td>3</td><td>3</td><td>3</td><td>3</td><td>3</td><td>0</td><td>0</td><td>0</td><td>0</td><td>0</td><td>0</td><td>0</td><td>0</td><td>0</td><td>0</td><td>0</td><td>0</td><td>12</td><td>12</td><td>0</td><td> 0</td><td>NA</td><td>NA</td><td>13</td></tr>\n",
       "\t<tr><td>000000000</td><td>49</td><td>801</td><td>2</td><td>1</td><td>71</td><td>0</td><td>0</td><td>0</td><td>10</td><td>0</td><td>0</td><td>1</td><td>1</td><td>1</td><td>1</td><td>1</td><td>1</td><td>1</td><td>1</td><td>1</td><td>1</td><td>1</td><td>1</td><td>0</td><td>0</td><td>0</td><td>0</td><td>0</td><td>0</td><td>0</td><td>0</td><td>0</td><td>0</td><td>0</td><td>0</td><td>12</td><td> 0</td><td>0</td><td> 0</td><td>NA</td><td>NA</td><td>13</td></tr>\n",
       "\t<tr><td>000000000</td><td>33</td><td>400</td><td>2</td><td>1</td><td>75</td><td>0</td><td>0</td><td>0</td><td>10</td><td>0</td><td>0</td><td>3</td><td>3</td><td>3</td><td>3</td><td>3</td><td>3</td><td>3</td><td>3</td><td>3</td><td>3</td><td>3</td><td>3</td><td>0</td><td>0</td><td>0</td><td>0</td><td>0</td><td>0</td><td>0</td><td>0</td><td>0</td><td>0</td><td>0</td><td>0</td><td>12</td><td>12</td><td>0</td><td> 0</td><td>NA</td><td>NA</td><td>13</td></tr>\n",
       "\t<tr><td>000000000</td><td>10</td><td>510</td><td>1</td><td>1</td><td>70</td><td>0</td><td>0</td><td>0</td><td>10</td><td>0</td><td>0</td><td>3</td><td>3</td><td>3</td><td>3</td><td>3</td><td>3</td><td>3</td><td>3</td><td>3</td><td>3</td><td>3</td><td>3</td><td>0</td><td>0</td><td>0</td><td>0</td><td>0</td><td>0</td><td>0</td><td>0</td><td>0</td><td>0</td><td>0</td><td>0</td><td>12</td><td>12</td><td>0</td><td> 0</td><td>NA</td><td>NA</td><td>13</td></tr>\n",
       "</tbody>\n",
       "</table>\n"
      ],
      "text/latex": [
       "A data.table: 6 × 43\n",
       "\\begin{tabular}{lllllllllllllllllllllllllllllllllllllllllll}\n",
       " DESY\\_SORT\\_KEY & STATE\\_CODE & COUNTY\\_CODE & SEX\\_CODE & RACE\\_CODE & AGE & ORIG\\_REASON\\_FOR\\_ENTITLEMENT & CURR\\_REASON\\_FOR\\_ENTITLEMENT & ESRD\\_INDICATOR & MEDICARE\\_STATUS\\_CD & PART\\_A\\_TERMINATION\\_CODE & PART\\_B\\_TERMINATION\\_CODE & ENTITLEMENT\\_BUY\\_IN\\_IND01 & ENTITLEMENT\\_BUY\\_IN\\_IND02 & ENTITLEMENT\\_BUY\\_IN\\_IND03 & ENTITLEMENT\\_BUY\\_IN\\_IND04 & ENTITLEMENT\\_BUY\\_IN\\_IND05 & ENTITLEMENT\\_BUY\\_IN\\_IND06 & ENTITLEMENT\\_BUY\\_IN\\_IND07 & ENTITLEMENT\\_BUY\\_IN\\_IND08 & ENTITLEMENT\\_BUY\\_IN\\_IND09 & ENTITLEMENT\\_BUY\\_IN\\_IND10 & ENTITLEMENT\\_BUY\\_IN\\_IND11 & ENTITLEMENT\\_BUY\\_IN\\_IND12 & HMO\\_INDICATOR01 & HMO\\_INDICATOR02 & HMO\\_INDICATOR03 & HMO\\_INDICATOR04 & HMO\\_INDICATOR05 & HMO\\_INDICATOR06 & HMO\\_INDICATOR07 & HMO\\_INDICATOR08 & HMO\\_INDICATOR09 & HMO\\_INDICATOR10 & HMO\\_INDICATOR11 & HMO\\_INDICATOR12 & HI\\_COVERAGE & SMI\\_COVERAGE & HMO\\_COVERAGE & STATE\\_BUY\\_IN\\_COVERAGE & VALID\\_DATE\\_OF\\_DEATH\\_SWITCH & DATE\\_OF\\_DEATH & REFERENCE\\_YEAR\\\\\n",
       " <chr> & <chr> & <chr> & <dbl> & <dbl> & <dbl> & <dbl> & <dbl> & <chr> & <dbl> & <dbl> & <dbl> & <chr> & <chr> & <chr> & <chr> & <chr> & <chr> & <chr> & <chr> & <chr> & <chr> & <chr> & <chr> & <chr> & <chr> & <chr> & <chr> & <chr> & <chr> & <chr> & <chr> & <chr> & <chr> & <chr> & <chr> & <dbl> & <dbl> & <dbl> & <dbl> & <chr> & <dbl> & <dbl>\\\\\n",
       "\\hline\n",
       "\t 000000000 & 45 & 910 & 2 & 1 & 75 & 0 & 0 & 0 & 10 & 0 & 0 & C & C & C & C & C & C & C & C & C & C & C & 3 & 0 & 0 & 0 & 0 & 0 & 0 & 0 & 0 & 0 & 0 & 0 & 0 & 12 & 12 & 0 & 11 & NA & NA & 13\\\\\n",
       "\t 000000000 & 22 & 170 & 2 & 1 & 71 & 0 & 0 & 0 & 10 & 0 & 0 & 3 & 3 & 3 & 3 & 3 & 3 & 3 & 3 & 3 & 3 & 3 & 3 & 0 & 0 & 0 & 0 & 0 & 0 & 0 & 0 & 0 & 0 & 0 & 0 & 12 & 12 & 0 &  0 & NA & NA & 13\\\\\n",
       "\t 000000000 & 33 & 420 & 2 & 1 & 93 & 0 & 0 & 0 & 10 & 0 & 0 & 3 & 3 & 3 & 3 & 3 & 3 & 3 & 3 & 3 & 3 & 3 & 3 & 0 & 0 & 0 & 0 & 0 & 0 & 0 & 0 & 0 & 0 & 0 & 0 & 12 & 12 & 0 &  0 & NA & NA & 13\\\\\n",
       "\t 000000000 & 49 & 801 & 2 & 1 & 71 & 0 & 0 & 0 & 10 & 0 & 0 & 1 & 1 & 1 & 1 & 1 & 1 & 1 & 1 & 1 & 1 & 1 & 1 & 0 & 0 & 0 & 0 & 0 & 0 & 0 & 0 & 0 & 0 & 0 & 0 & 12 &  0 & 0 &  0 & NA & NA & 13\\\\\n",
       "\t 000000000 & 33 & 400 & 2 & 1 & 75 & 0 & 0 & 0 & 10 & 0 & 0 & 3 & 3 & 3 & 3 & 3 & 3 & 3 & 3 & 3 & 3 & 3 & 3 & 0 & 0 & 0 & 0 & 0 & 0 & 0 & 0 & 0 & 0 & 0 & 0 & 12 & 12 & 0 &  0 & NA & NA & 13\\\\\n",
       "\t 000000000 & 10 & 510 & 1 & 1 & 70 & 0 & 0 & 0 & 10 & 0 & 0 & 3 & 3 & 3 & 3 & 3 & 3 & 3 & 3 & 3 & 3 & 3 & 3 & 0 & 0 & 0 & 0 & 0 & 0 & 0 & 0 & 0 & 0 & 0 & 0 & 12 & 12 & 0 &  0 & NA & NA & 13\\\\\n",
       "\\end{tabular}\n"
      ],
      "text/markdown": [
       "\n",
       "A data.table: 6 × 43\n",
       "\n",
       "| DESY_SORT_KEY &lt;chr&gt; | STATE_CODE &lt;chr&gt; | COUNTY_CODE &lt;chr&gt; | SEX_CODE &lt;dbl&gt; | RACE_CODE &lt;dbl&gt; | AGE &lt;dbl&gt; | ORIG_REASON_FOR_ENTITLEMENT &lt;dbl&gt; | CURR_REASON_FOR_ENTITLEMENT &lt;dbl&gt; | ESRD_INDICATOR &lt;chr&gt; | MEDICARE_STATUS_CD &lt;dbl&gt; | PART_A_TERMINATION_CODE &lt;dbl&gt; | PART_B_TERMINATION_CODE &lt;dbl&gt; | ENTITLEMENT_BUY_IN_IND01 &lt;chr&gt; | ENTITLEMENT_BUY_IN_IND02 &lt;chr&gt; | ENTITLEMENT_BUY_IN_IND03 &lt;chr&gt; | ENTITLEMENT_BUY_IN_IND04 &lt;chr&gt; | ENTITLEMENT_BUY_IN_IND05 &lt;chr&gt; | ENTITLEMENT_BUY_IN_IND06 &lt;chr&gt; | ENTITLEMENT_BUY_IN_IND07 &lt;chr&gt; | ENTITLEMENT_BUY_IN_IND08 &lt;chr&gt; | ENTITLEMENT_BUY_IN_IND09 &lt;chr&gt; | ENTITLEMENT_BUY_IN_IND10 &lt;chr&gt; | ENTITLEMENT_BUY_IN_IND11 &lt;chr&gt; | ENTITLEMENT_BUY_IN_IND12 &lt;chr&gt; | HMO_INDICATOR01 &lt;chr&gt; | HMO_INDICATOR02 &lt;chr&gt; | HMO_INDICATOR03 &lt;chr&gt; | HMO_INDICATOR04 &lt;chr&gt; | HMO_INDICATOR05 &lt;chr&gt; | HMO_INDICATOR06 &lt;chr&gt; | HMO_INDICATOR07 &lt;chr&gt; | HMO_INDICATOR08 &lt;chr&gt; | HMO_INDICATOR09 &lt;chr&gt; | HMO_INDICATOR10 &lt;chr&gt; | HMO_INDICATOR11 &lt;chr&gt; | HMO_INDICATOR12 &lt;chr&gt; | HI_COVERAGE &lt;dbl&gt; | SMI_COVERAGE &lt;dbl&gt; | HMO_COVERAGE &lt;dbl&gt; | STATE_BUY_IN_COVERAGE &lt;dbl&gt; | VALID_DATE_OF_DEATH_SWITCH &lt;chr&gt; | DATE_OF_DEATH &lt;dbl&gt; | REFERENCE_YEAR &lt;dbl&gt; |\n",
       "|---|---|---|---|---|---|---|---|---|---|---|---|---|---|---|---|---|---|---|---|---|---|---|---|---|---|---|---|---|---|---|---|---|---|---|---|---|---|---|---|---|---|---|\n",
       "| 000000000 | 45 | 910 | 2 | 1 | 75 | 0 | 0 | 0 | 10 | 0 | 0 | C | C | C | C | C | C | C | C | C | C | C | 3 | 0 | 0 | 0 | 0 | 0 | 0 | 0 | 0 | 0 | 0 | 0 | 0 | 12 | 12 | 0 | 11 | NA | NA | 13 |\n",
       "| 000000000 | 22 | 170 | 2 | 1 | 71 | 0 | 0 | 0 | 10 | 0 | 0 | 3 | 3 | 3 | 3 | 3 | 3 | 3 | 3 | 3 | 3 | 3 | 3 | 0 | 0 | 0 | 0 | 0 | 0 | 0 | 0 | 0 | 0 | 0 | 0 | 12 | 12 | 0 |  0 | NA | NA | 13 |\n",
       "| 000000000 | 33 | 420 | 2 | 1 | 93 | 0 | 0 | 0 | 10 | 0 | 0 | 3 | 3 | 3 | 3 | 3 | 3 | 3 | 3 | 3 | 3 | 3 | 3 | 0 | 0 | 0 | 0 | 0 | 0 | 0 | 0 | 0 | 0 | 0 | 0 | 12 | 12 | 0 |  0 | NA | NA | 13 |\n",
       "| 000000000 | 49 | 801 | 2 | 1 | 71 | 0 | 0 | 0 | 10 | 0 | 0 | 1 | 1 | 1 | 1 | 1 | 1 | 1 | 1 | 1 | 1 | 1 | 1 | 0 | 0 | 0 | 0 | 0 | 0 | 0 | 0 | 0 | 0 | 0 | 0 | 12 |  0 | 0 |  0 | NA | NA | 13 |\n",
       "| 000000000 | 33 | 400 | 2 | 1 | 75 | 0 | 0 | 0 | 10 | 0 | 0 | 3 | 3 | 3 | 3 | 3 | 3 | 3 | 3 | 3 | 3 | 3 | 3 | 0 | 0 | 0 | 0 | 0 | 0 | 0 | 0 | 0 | 0 | 0 | 0 | 12 | 12 | 0 |  0 | NA | NA | 13 |\n",
       "| 000000000 | 10 | 510 | 1 | 1 | 70 | 0 | 0 | 0 | 10 | 0 | 0 | 3 | 3 | 3 | 3 | 3 | 3 | 3 | 3 | 3 | 3 | 3 | 3 | 0 | 0 | 0 | 0 | 0 | 0 | 0 | 0 | 0 | 0 | 0 | 0 | 12 | 12 | 0 |  0 | NA | NA | 13 |\n",
       "\n"
      ],
      "text/plain": [
       "  DESY_SORT_KEY STATE_CODE COUNTY_CODE SEX_CODE RACE_CODE AGE ORIG_REASON_FOR_ENTITLEMENT CURR_REASON_FOR_ENTITLEMENT ESRD_INDICATOR MEDICARE_STATUS_CD PART_A_TERMINATION_CODE PART_B_TERMINATION_CODE ENTITLEMENT_BUY_IN_IND01 ENTITLEMENT_BUY_IN_IND02 ENTITLEMENT_BUY_IN_IND03 ENTITLEMENT_BUY_IN_IND04\n",
       "1 000000000     45         910         2        1         75  0                           0                           0              10                 0                       0                       C                        C                        C                        C                       \n",
       "2 000000000     22         170         2        1         71  0                           0                           0              10                 0                       0                       3                        3                        3                        3                       \n",
       "3 000000000     33         420         2        1         93  0                           0                           0              10                 0                       0                       3                        3                        3                        3                       \n",
       "4 000000000     49         801         2        1         71  0                           0                           0              10                 0                       0                       1                        1                        1                        1                       \n",
       "5 000000000     33         400         2        1         75  0                           0                           0              10                 0                       0                       3                        3                        3                        3                       \n",
       "6 000000000     10         510         1        1         70  0                           0                           0              10                 0                       0                       3                        3                        3                        3                       \n",
       "  ENTITLEMENT_BUY_IN_IND05 ENTITLEMENT_BUY_IN_IND06 ENTITLEMENT_BUY_IN_IND07 ENTITLEMENT_BUY_IN_IND08 ENTITLEMENT_BUY_IN_IND09 ENTITLEMENT_BUY_IN_IND10 ENTITLEMENT_BUY_IN_IND11 ENTITLEMENT_BUY_IN_IND12 HMO_INDICATOR01 HMO_INDICATOR02 HMO_INDICATOR03 HMO_INDICATOR04 HMO_INDICATOR05 HMO_INDICATOR06\n",
       "1 C                        C                        C                        C                        C                        C                        C                        3                        0               0               0               0               0               0              \n",
       "2 3                        3                        3                        3                        3                        3                        3                        3                        0               0               0               0               0               0              \n",
       "3 3                        3                        3                        3                        3                        3                        3                        3                        0               0               0               0               0               0              \n",
       "4 1                        1                        1                        1                        1                        1                        1                        1                        0               0               0               0               0               0              \n",
       "5 3                        3                        3                        3                        3                        3                        3                        3                        0               0               0               0               0               0              \n",
       "6 3                        3                        3                        3                        3                        3                        3                        3                        0               0               0               0               0               0              \n",
       "  HMO_INDICATOR07 HMO_INDICATOR08 HMO_INDICATOR09 HMO_INDICATOR10 HMO_INDICATOR11 HMO_INDICATOR12 HI_COVERAGE SMI_COVERAGE HMO_COVERAGE STATE_BUY_IN_COVERAGE VALID_DATE_OF_DEATH_SWITCH DATE_OF_DEATH REFERENCE_YEAR\n",
       "1 0               0               0               0               0               0               12          12           0            11                    NA                         NA            13            \n",
       "2 0               0               0               0               0               0               12          12           0             0                    NA                         NA            13            \n",
       "3 0               0               0               0               0               0               12          12           0             0                    NA                         NA            13            \n",
       "4 0               0               0               0               0               0               12           0           0             0                    NA                         NA            13            \n",
       "5 0               0               0               0               0               0               12          12           0             0                    NA                         NA            13            \n",
       "6 0               0               0               0               0               0               12          12           0             0                    NA                         NA            13            "
      ]
     },
     "metadata": {},
     "output_type": "display_data"
    },
    {
     "data": {
      "text/html": [
       "<table class=\"dataframe\">\n",
       "<caption>A data.table: 6 × 79</caption>\n",
       "<thead>\n",
       "\t<tr><th scope=col>DESY_SORT_KEY</th><th scope=col>REFERENCE_YEAR</th><th scope=col>SAMPLE_GROUP</th><th scope=col>STATE_CODE</th><th scope=col>COUNTY_CODE</th><th scope=col>STATE_CNTY_FIPS_CD_01</th><th scope=col>STATE_CNTY_FIPS_CD_02</th><th scope=col>STATE_CNTY_FIPS_CD_03</th><th scope=col>STATE_CNTY_FIPS_CD_04</th><th scope=col>STATE_CNTY_FIPS_CD_05</th><th scope=col>STATE_CNTY_FIPS_CD_06</th><th scope=col>STATE_CNTY_FIPS_CD_07</th><th scope=col>STATE_CNTY_FIPS_CD_08</th><th scope=col>STATE_CNTY_FIPS_CD_09</th><th scope=col>STATE_CNTY_FIPS_CD_10</th><th scope=col>STATE_CNTY_FIPS_CD_11</th><th scope=col>STATE_CNTY_FIPS_CD_12</th><th scope=col>SEX_CODE</th><th scope=col>RACE_CODE</th><th scope=col>AGE</th><th scope=col>ORIG_REASON_FOR_ENTITLEMENT</th><th scope=col>CURR_REASON_FOR_ENTITLEMENT</th><th scope=col>ESRD_INDICATOR</th><th scope=col>MDCR_STATUS_CODE_01</th><th scope=col>MDCR_STATUS_CODE_02</th><th scope=col>MDCR_STATUS_CODE_03</th><th scope=col>MDCR_STATUS_CODE_04</th><th scope=col>MDCR_STATUS_CODE_05</th><th scope=col>MDCR_STATUS_CODE_06</th><th scope=col>MDCR_STATUS_CODE_07</th><th scope=col>MDCR_STATUS_CODE_08</th><th scope=col>MDCR_STATUS_CODE_09</th><th scope=col>MDCR_STATUS_CODE_10</th><th scope=col>MDCR_STATUS_CODE_11</th><th scope=col>MDCR_STATUS_CODE_12</th><th scope=col>PART_A_TERMINATION_CODE</th><th scope=col>PART_B_TERMINATION_CODE</th><th scope=col>ENTITLEMENT_BUY_IN_IND01</th><th scope=col>ENTITLEMENT_BUY_IN_IND02</th><th scope=col>ENTITLEMENT_BUY_IN_IND03</th><th scope=col>ENTITLEMENT_BUY_IN_IND04</th><th scope=col>ENTITLEMENT_BUY_IN_IND05</th><th scope=col>ENTITLEMENT_BUY_IN_IND06</th><th scope=col>ENTITLEMENT_BUY_IN_IND07</th><th scope=col>ENTITLEMENT_BUY_IN_IND08</th><th scope=col>ENTITLEMENT_BUY_IN_IND09</th><th scope=col>ENTITLEMENT_BUY_IN_IND10</th><th scope=col>ENTITLEMENT_BUY_IN_IND11</th><th scope=col>ENTITLEMENT_BUY_IN_IND12</th><th scope=col>HMO_INDICATOR01</th><th scope=col>HMO_INDICATOR02</th><th scope=col>HMO_INDICATOR03</th><th scope=col>HMO_INDICATOR04</th><th scope=col>HMO_INDICATOR05</th><th scope=col>HMO_INDICATOR06</th><th scope=col>HMO_INDICATOR07</th><th scope=col>HMO_INDICATOR08</th><th scope=col>HMO_INDICATOR09</th><th scope=col>HMO_INDICATOR10</th><th scope=col>HMO_INDICATOR11</th><th scope=col>HMO_INDICATOR12</th><th scope=col>HI_COVERAGE</th><th scope=col>SMI_COVERAGE</th><th scope=col>HMO_COVERAGE</th><th scope=col>STATE_BUY_IN_COVERAGE</th><th scope=col>VALID_DATE_OF_DEATH_SWITCH</th><th scope=col>DATE_OF_DEATH</th><th scope=col>DUAL_STUS_CD_01</th><th scope=col>DUAL_STUS_CD_02</th><th scope=col>DUAL_STUS_CD_03</th><th scope=col>DUAL_STUS_CD_04</th><th scope=col>DUAL_STUS_CD_05</th><th scope=col>DUAL_STUS_CD_06</th><th scope=col>DUAL_STUS_CD_07</th><th scope=col>DUAL_STUS_CD_08</th><th scope=col>DUAL_STUS_CD_09</th><th scope=col>DUAL_STUS_CD_10</th><th scope=col>DUAL_STUS_CD_11</th><th scope=col>DUAL_STUS_CD_12</th></tr>\n",
       "\t<tr><th scope=col>&lt;dbl&gt;</th><th scope=col>&lt;dbl&gt;</th><th scope=col>&lt;chr&gt;</th><th scope=col>&lt;chr&gt;</th><th scope=col>&lt;chr&gt;</th><th scope=col>&lt;chr&gt;</th><th scope=col>&lt;chr&gt;</th><th scope=col>&lt;chr&gt;</th><th scope=col>&lt;chr&gt;</th><th scope=col>&lt;chr&gt;</th><th scope=col>&lt;chr&gt;</th><th scope=col>&lt;chr&gt;</th><th scope=col>&lt;chr&gt;</th><th scope=col>&lt;chr&gt;</th><th scope=col>&lt;chr&gt;</th><th scope=col>&lt;chr&gt;</th><th scope=col>&lt;chr&gt;</th><th scope=col>&lt;dbl&gt;</th><th scope=col>&lt;dbl&gt;</th><th scope=col>&lt;dbl&gt;</th><th scope=col>&lt;dbl&gt;</th><th scope=col>&lt;dbl&gt;</th><th scope=col>&lt;dbl&gt;</th><th scope=col>&lt;chr&gt;</th><th scope=col>&lt;chr&gt;</th><th scope=col>&lt;chr&gt;</th><th scope=col>&lt;chr&gt;</th><th scope=col>&lt;chr&gt;</th><th scope=col>&lt;chr&gt;</th><th scope=col>&lt;chr&gt;</th><th scope=col>&lt;chr&gt;</th><th scope=col>&lt;chr&gt;</th><th scope=col>&lt;chr&gt;</th><th scope=col>&lt;chr&gt;</th><th scope=col>&lt;chr&gt;</th><th scope=col>&lt;dbl&gt;</th><th scope=col>&lt;dbl&gt;</th><th scope=col>&lt;chr&gt;</th><th scope=col>&lt;chr&gt;</th><th scope=col>&lt;chr&gt;</th><th scope=col>&lt;chr&gt;</th><th scope=col>&lt;chr&gt;</th><th scope=col>&lt;chr&gt;</th><th scope=col>&lt;chr&gt;</th><th scope=col>&lt;chr&gt;</th><th scope=col>&lt;chr&gt;</th><th scope=col>&lt;chr&gt;</th><th scope=col>&lt;chr&gt;</th><th scope=col>&lt;chr&gt;</th><th scope=col>&lt;chr&gt;</th><th scope=col>&lt;chr&gt;</th><th scope=col>&lt;chr&gt;</th><th scope=col>&lt;chr&gt;</th><th scope=col>&lt;chr&gt;</th><th scope=col>&lt;chr&gt;</th><th scope=col>&lt;chr&gt;</th><th scope=col>&lt;chr&gt;</th><th scope=col>&lt;chr&gt;</th><th scope=col>&lt;chr&gt;</th><th scope=col>&lt;chr&gt;</th><th scope=col>&lt;chr&gt;</th><th scope=col>&lt;dbl&gt;</th><th scope=col>&lt;dbl&gt;</th><th scope=col>&lt;dbl&gt;</th><th scope=col>&lt;dbl&gt;</th><th scope=col>&lt;chr&gt;</th><th scope=col>&lt;dbl&gt;</th><th scope=col>&lt;chr&gt;</th><th scope=col>&lt;chr&gt;</th><th scope=col>&lt;chr&gt;</th><th scope=col>&lt;chr&gt;</th><th scope=col>&lt;chr&gt;</th><th scope=col>&lt;chr&gt;</th><th scope=col>&lt;chr&gt;</th><th scope=col>&lt;chr&gt;</th><th scope=col>&lt;chr&gt;</th><th scope=col>&lt;chr&gt;</th><th scope=col>&lt;chr&gt;</th><th scope=col>&lt;chr&gt;</th></tr>\n",
       "</thead>\n",
       "<tbody>\n",
       "\t<tr><td>100000015</td><td>2020</td><td>04</td><td>22</td><td>160</td><td>25025</td><td>25025</td><td>25025</td><td>25025</td><td>25025</td><td>25025</td><td>25025</td><td>25025</td><td>25025</td><td>25025</td><td>25025</td><td>25025</td><td>1</td><td>1</td><td>83</td><td>0</td><td>0</td><td>0</td><td>10</td><td>10</td><td>10</td><td>10</td><td>10</td><td>10</td><td>10</td><td>10</td><td>10</td><td>10</td><td>10</td><td>10</td><td>0</td><td>0</td><td>3</td><td>3</td><td>3</td><td>3</td><td>3</td><td>3</td><td>3</td><td>3</td><td>3</td><td>3</td><td>3</td><td>3</td><td>0</td><td>0</td><td>0</td><td>0</td><td>0</td><td>0</td><td>0</td><td>0</td><td>0</td><td>0</td><td>0</td><td>0</td><td>12</td><td>12</td><td> 0</td><td> 0</td><td>NA</td><td>NA</td><td>NA</td><td>NA</td><td>NA</td><td>NA</td><td>NA</td><td>NA</td><td>NA</td><td>NA</td><td>NA</td><td>NA</td><td>NA</td><td>NA</td></tr>\n",
       "\t<tr><td>100000053</td><td>2020</td><td>01</td><td>33</td><td>331</td><td>36047</td><td>36047</td><td>36047</td><td>36047</td><td>36047</td><td>36047</td><td>36047</td><td>36047</td><td>36047</td><td>36047</td><td>36047</td><td>36047</td><td>1</td><td>2</td><td>84</td><td>0</td><td>0</td><td>0</td><td>10</td><td>10</td><td>10</td><td>10</td><td>10</td><td>10</td><td>10</td><td>10</td><td>10</td><td>10</td><td>10</td><td>10</td><td>0</td><td>0</td><td>C</td><td>C</td><td>C</td><td>C</td><td>C</td><td>C</td><td>C</td><td>C</td><td>C</td><td>C</td><td>C</td><td>C</td><td>0</td><td>0</td><td>0</td><td>0</td><td>0</td><td>0</td><td>0</td><td>0</td><td>0</td><td>0</td><td>0</td><td>0</td><td>12</td><td>12</td><td> 0</td><td>12</td><td>NA</td><td>NA</td><td>02</td><td>02</td><td>02</td><td>02</td><td>02</td><td>02</td><td>02</td><td>02</td><td>02</td><td>02</td><td>02</td><td>02</td></tr>\n",
       "\t<tr><td>100000099</td><td>2020</td><td>04</td><td>10</td><td>350</td><td>12071</td><td>12071</td><td>12071</td><td>12071</td><td>12071</td><td>12071</td><td>12071</td><td>12071</td><td>12071</td><td>12071</td><td>12071</td><td>12071</td><td>1</td><td>1</td><td>89</td><td>0</td><td>0</td><td>0</td><td>10</td><td>10</td><td>10</td><td>10</td><td>10</td><td>10</td><td>10</td><td>10</td><td>10</td><td>10</td><td>10</td><td>10</td><td>0</td><td>0</td><td>3</td><td>3</td><td>3</td><td>3</td><td>3</td><td>3</td><td>3</td><td>3</td><td>3</td><td>3</td><td>3</td><td>3</td><td>C</td><td>C</td><td>C</td><td>C</td><td>C</td><td>C</td><td>C</td><td>C</td><td>C</td><td>C</td><td>C</td><td>C</td><td>12</td><td>12</td><td>12</td><td> 0</td><td>NA</td><td>NA</td><td>NA</td><td>NA</td><td>NA</td><td>NA</td><td>NA</td><td>NA</td><td>NA</td><td>NA</td><td>NA</td><td>NA</td><td>NA</td><td>NA</td></tr>\n",
       "\t<tr><td>100000113</td><td>2020</td><td>01</td><td>55</td><td>330</td><td>99999</td><td>99999</td><td>99999</td><td>99999</td><td>99999</td><td>99999</td><td>99999</td><td>99999</td><td>99999</td><td>99999</td><td>99999</td><td>99999</td><td>1</td><td>3</td><td>86</td><td>0</td><td>0</td><td>0</td><td>10</td><td>10</td><td>10</td><td>10</td><td>10</td><td>10</td><td>10</td><td>10</td><td>10</td><td>10</td><td>10</td><td>10</td><td>0</td><td>0</td><td>1</td><td>1</td><td>1</td><td>1</td><td>1</td><td>1</td><td>1</td><td>1</td><td>1</td><td>1</td><td>1</td><td>1</td><td>0</td><td>0</td><td>0</td><td>0</td><td>0</td><td>0</td><td>0</td><td>0</td><td>0</td><td>0</td><td>0</td><td>0</td><td>12</td><td> 0</td><td> 0</td><td> 0</td><td>NA</td><td>NA</td><td>NA</td><td>NA</td><td>NA</td><td>NA</td><td>NA</td><td>NA</td><td>NA</td><td>NA</td><td>NA</td><td>NA</td><td>NA</td><td>NA</td></tr>\n",
       "\t<tr><td>100000129</td><td>2020</td><td>04</td><td>07</td><td>040</td><td>09003</td><td>09003</td><td>09003</td><td>09003</td><td>09003</td><td>09003</td><td>09003</td><td>09003</td><td>09003</td><td>09003</td><td>09007</td><td>09007</td><td>1</td><td>1</td><td>59</td><td>1</td><td>1</td><td>0</td><td>20</td><td>20</td><td>20</td><td>20</td><td>20</td><td>20</td><td>20</td><td>20</td><td>20</td><td>20</td><td>20</td><td>20</td><td>0</td><td>0</td><td>C</td><td>C</td><td>C</td><td>C</td><td>C</td><td>C</td><td>C</td><td>C</td><td>C</td><td>C</td><td>C</td><td>C</td><td>C</td><td>C</td><td>C</td><td>C</td><td>C</td><td>C</td><td>C</td><td>C</td><td>C</td><td>C</td><td>C</td><td>C</td><td>12</td><td>12</td><td>12</td><td>12</td><td>NA</td><td>NA</td><td>01</td><td>01</td><td>01</td><td>01</td><td>01</td><td>01</td><td>01</td><td>01</td><td>02</td><td>02</td><td>02</td><td>02</td></tr>\n",
       "\t<tr><td>100000133</td><td>2020</td><td>01</td><td>55</td><td>330</td><td>99999</td><td>99999</td><td>99999</td><td>99999</td><td>99999</td><td>99999</td><td>99999</td><td>99999</td><td>99999</td><td>99999</td><td>99999</td><td>99999</td><td>2</td><td>3</td><td>84</td><td>0</td><td>0</td><td>0</td><td>10</td><td>10</td><td>10</td><td>10</td><td>10</td><td>10</td><td>10</td><td>10</td><td>10</td><td>10</td><td>10</td><td>10</td><td>0</td><td>0</td><td>1</td><td>1</td><td>1</td><td>1</td><td>1</td><td>1</td><td>1</td><td>1</td><td>1</td><td>1</td><td>1</td><td>1</td><td>0</td><td>0</td><td>0</td><td>0</td><td>0</td><td>0</td><td>0</td><td>0</td><td>0</td><td>0</td><td>0</td><td>0</td><td>12</td><td> 0</td><td> 0</td><td> 0</td><td>NA</td><td>NA</td><td>NA</td><td>NA</td><td>NA</td><td>NA</td><td>NA</td><td>NA</td><td>NA</td><td>NA</td><td>NA</td><td>NA</td><td>NA</td><td>NA</td></tr>\n",
       "</tbody>\n",
       "</table>\n"
      ],
      "text/latex": [
       "A data.table: 6 × 79\n",
       "\\begin{tabular}{lllllllllllllllllllllllllllllllllllllllllllllllllllllllllllllllllllllllllllllll}\n",
       " DESY\\_SORT\\_KEY & REFERENCE\\_YEAR & SAMPLE\\_GROUP & STATE\\_CODE & COUNTY\\_CODE & STATE\\_CNTY\\_FIPS\\_CD\\_01 & STATE\\_CNTY\\_FIPS\\_CD\\_02 & STATE\\_CNTY\\_FIPS\\_CD\\_03 & STATE\\_CNTY\\_FIPS\\_CD\\_04 & STATE\\_CNTY\\_FIPS\\_CD\\_05 & STATE\\_CNTY\\_FIPS\\_CD\\_06 & STATE\\_CNTY\\_FIPS\\_CD\\_07 & STATE\\_CNTY\\_FIPS\\_CD\\_08 & STATE\\_CNTY\\_FIPS\\_CD\\_09 & STATE\\_CNTY\\_FIPS\\_CD\\_10 & STATE\\_CNTY\\_FIPS\\_CD\\_11 & STATE\\_CNTY\\_FIPS\\_CD\\_12 & SEX\\_CODE & RACE\\_CODE & AGE & ORIG\\_REASON\\_FOR\\_ENTITLEMENT & CURR\\_REASON\\_FOR\\_ENTITLEMENT & ESRD\\_INDICATOR & MDCR\\_STATUS\\_CODE\\_01 & MDCR\\_STATUS\\_CODE\\_02 & MDCR\\_STATUS\\_CODE\\_03 & MDCR\\_STATUS\\_CODE\\_04 & MDCR\\_STATUS\\_CODE\\_05 & MDCR\\_STATUS\\_CODE\\_06 & MDCR\\_STATUS\\_CODE\\_07 & MDCR\\_STATUS\\_CODE\\_08 & MDCR\\_STATUS\\_CODE\\_09 & MDCR\\_STATUS\\_CODE\\_10 & MDCR\\_STATUS\\_CODE\\_11 & MDCR\\_STATUS\\_CODE\\_12 & PART\\_A\\_TERMINATION\\_CODE & PART\\_B\\_TERMINATION\\_CODE & ENTITLEMENT\\_BUY\\_IN\\_IND01 & ENTITLEMENT\\_BUY\\_IN\\_IND02 & ENTITLEMENT\\_BUY\\_IN\\_IND03 & ENTITLEMENT\\_BUY\\_IN\\_IND04 & ENTITLEMENT\\_BUY\\_IN\\_IND05 & ENTITLEMENT\\_BUY\\_IN\\_IND06 & ENTITLEMENT\\_BUY\\_IN\\_IND07 & ENTITLEMENT\\_BUY\\_IN\\_IND08 & ENTITLEMENT\\_BUY\\_IN\\_IND09 & ENTITLEMENT\\_BUY\\_IN\\_IND10 & ENTITLEMENT\\_BUY\\_IN\\_IND11 & ENTITLEMENT\\_BUY\\_IN\\_IND12 & HMO\\_INDICATOR01 & HMO\\_INDICATOR02 & HMO\\_INDICATOR03 & HMO\\_INDICATOR04 & HMO\\_INDICATOR05 & HMO\\_INDICATOR06 & HMO\\_INDICATOR07 & HMO\\_INDICATOR08 & HMO\\_INDICATOR09 & HMO\\_INDICATOR10 & HMO\\_INDICATOR11 & HMO\\_INDICATOR12 & HI\\_COVERAGE & SMI\\_COVERAGE & HMO\\_COVERAGE & STATE\\_BUY\\_IN\\_COVERAGE & VALID\\_DATE\\_OF\\_DEATH\\_SWITCH & DATE\\_OF\\_DEATH & DUAL\\_STUS\\_CD\\_01 & DUAL\\_STUS\\_CD\\_02 & DUAL\\_STUS\\_CD\\_03 & DUAL\\_STUS\\_CD\\_04 & DUAL\\_STUS\\_CD\\_05 & DUAL\\_STUS\\_CD\\_06 & DUAL\\_STUS\\_CD\\_07 & DUAL\\_STUS\\_CD\\_08 & DUAL\\_STUS\\_CD\\_09 & DUAL\\_STUS\\_CD\\_10 & DUAL\\_STUS\\_CD\\_11 & DUAL\\_STUS\\_CD\\_12\\\\\n",
       " <dbl> & <dbl> & <chr> & <chr> & <chr> & <chr> & <chr> & <chr> & <chr> & <chr> & <chr> & <chr> & <chr> & <chr> & <chr> & <chr> & <chr> & <dbl> & <dbl> & <dbl> & <dbl> & <dbl> & <dbl> & <chr> & <chr> & <chr> & <chr> & <chr> & <chr> & <chr> & <chr> & <chr> & <chr> & <chr> & <chr> & <dbl> & <dbl> & <chr> & <chr> & <chr> & <chr> & <chr> & <chr> & <chr> & <chr> & <chr> & <chr> & <chr> & <chr> & <chr> & <chr> & <chr> & <chr> & <chr> & <chr> & <chr> & <chr> & <chr> & <chr> & <chr> & <chr> & <dbl> & <dbl> & <dbl> & <dbl> & <chr> & <dbl> & <chr> & <chr> & <chr> & <chr> & <chr> & <chr> & <chr> & <chr> & <chr> & <chr> & <chr> & <chr>\\\\\n",
       "\\hline\n",
       "\t 100000015 & 2020 & 04 & 22 & 160 & 25025 & 25025 & 25025 & 25025 & 25025 & 25025 & 25025 & 25025 & 25025 & 25025 & 25025 & 25025 & 1 & 1 & 83 & 0 & 0 & 0 & 10 & 10 & 10 & 10 & 10 & 10 & 10 & 10 & 10 & 10 & 10 & 10 & 0 & 0 & 3 & 3 & 3 & 3 & 3 & 3 & 3 & 3 & 3 & 3 & 3 & 3 & 0 & 0 & 0 & 0 & 0 & 0 & 0 & 0 & 0 & 0 & 0 & 0 & 12 & 12 &  0 &  0 & NA & NA & NA & NA & NA & NA & NA & NA & NA & NA & NA & NA & NA & NA\\\\\n",
       "\t 100000053 & 2020 & 01 & 33 & 331 & 36047 & 36047 & 36047 & 36047 & 36047 & 36047 & 36047 & 36047 & 36047 & 36047 & 36047 & 36047 & 1 & 2 & 84 & 0 & 0 & 0 & 10 & 10 & 10 & 10 & 10 & 10 & 10 & 10 & 10 & 10 & 10 & 10 & 0 & 0 & C & C & C & C & C & C & C & C & C & C & C & C & 0 & 0 & 0 & 0 & 0 & 0 & 0 & 0 & 0 & 0 & 0 & 0 & 12 & 12 &  0 & 12 & NA & NA & 02 & 02 & 02 & 02 & 02 & 02 & 02 & 02 & 02 & 02 & 02 & 02\\\\\n",
       "\t 100000099 & 2020 & 04 & 10 & 350 & 12071 & 12071 & 12071 & 12071 & 12071 & 12071 & 12071 & 12071 & 12071 & 12071 & 12071 & 12071 & 1 & 1 & 89 & 0 & 0 & 0 & 10 & 10 & 10 & 10 & 10 & 10 & 10 & 10 & 10 & 10 & 10 & 10 & 0 & 0 & 3 & 3 & 3 & 3 & 3 & 3 & 3 & 3 & 3 & 3 & 3 & 3 & C & C & C & C & C & C & C & C & C & C & C & C & 12 & 12 & 12 &  0 & NA & NA & NA & NA & NA & NA & NA & NA & NA & NA & NA & NA & NA & NA\\\\\n",
       "\t 100000113 & 2020 & 01 & 55 & 330 & 99999 & 99999 & 99999 & 99999 & 99999 & 99999 & 99999 & 99999 & 99999 & 99999 & 99999 & 99999 & 1 & 3 & 86 & 0 & 0 & 0 & 10 & 10 & 10 & 10 & 10 & 10 & 10 & 10 & 10 & 10 & 10 & 10 & 0 & 0 & 1 & 1 & 1 & 1 & 1 & 1 & 1 & 1 & 1 & 1 & 1 & 1 & 0 & 0 & 0 & 0 & 0 & 0 & 0 & 0 & 0 & 0 & 0 & 0 & 12 &  0 &  0 &  0 & NA & NA & NA & NA & NA & NA & NA & NA & NA & NA & NA & NA & NA & NA\\\\\n",
       "\t 100000129 & 2020 & 04 & 07 & 040 & 09003 & 09003 & 09003 & 09003 & 09003 & 09003 & 09003 & 09003 & 09003 & 09003 & 09007 & 09007 & 1 & 1 & 59 & 1 & 1 & 0 & 20 & 20 & 20 & 20 & 20 & 20 & 20 & 20 & 20 & 20 & 20 & 20 & 0 & 0 & C & C & C & C & C & C & C & C & C & C & C & C & C & C & C & C & C & C & C & C & C & C & C & C & 12 & 12 & 12 & 12 & NA & NA & 01 & 01 & 01 & 01 & 01 & 01 & 01 & 01 & 02 & 02 & 02 & 02\\\\\n",
       "\t 100000133 & 2020 & 01 & 55 & 330 & 99999 & 99999 & 99999 & 99999 & 99999 & 99999 & 99999 & 99999 & 99999 & 99999 & 99999 & 99999 & 2 & 3 & 84 & 0 & 0 & 0 & 10 & 10 & 10 & 10 & 10 & 10 & 10 & 10 & 10 & 10 & 10 & 10 & 0 & 0 & 1 & 1 & 1 & 1 & 1 & 1 & 1 & 1 & 1 & 1 & 1 & 1 & 0 & 0 & 0 & 0 & 0 & 0 & 0 & 0 & 0 & 0 & 0 & 0 & 12 &  0 &  0 &  0 & NA & NA & NA & NA & NA & NA & NA & NA & NA & NA & NA & NA & NA & NA\\\\\n",
       "\\end{tabular}\n"
      ],
      "text/markdown": [
       "\n",
       "A data.table: 6 × 79\n",
       "\n",
       "| DESY_SORT_KEY &lt;dbl&gt; | REFERENCE_YEAR &lt;dbl&gt; | SAMPLE_GROUP &lt;chr&gt; | STATE_CODE &lt;chr&gt; | COUNTY_CODE &lt;chr&gt; | STATE_CNTY_FIPS_CD_01 &lt;chr&gt; | STATE_CNTY_FIPS_CD_02 &lt;chr&gt; | STATE_CNTY_FIPS_CD_03 &lt;chr&gt; | STATE_CNTY_FIPS_CD_04 &lt;chr&gt; | STATE_CNTY_FIPS_CD_05 &lt;chr&gt; | STATE_CNTY_FIPS_CD_06 &lt;chr&gt; | STATE_CNTY_FIPS_CD_07 &lt;chr&gt; | STATE_CNTY_FIPS_CD_08 &lt;chr&gt; | STATE_CNTY_FIPS_CD_09 &lt;chr&gt; | STATE_CNTY_FIPS_CD_10 &lt;chr&gt; | STATE_CNTY_FIPS_CD_11 &lt;chr&gt; | STATE_CNTY_FIPS_CD_12 &lt;chr&gt; | SEX_CODE &lt;dbl&gt; | RACE_CODE &lt;dbl&gt; | AGE &lt;dbl&gt; | ORIG_REASON_FOR_ENTITLEMENT &lt;dbl&gt; | CURR_REASON_FOR_ENTITLEMENT &lt;dbl&gt; | ESRD_INDICATOR &lt;dbl&gt; | MDCR_STATUS_CODE_01 &lt;chr&gt; | MDCR_STATUS_CODE_02 &lt;chr&gt; | MDCR_STATUS_CODE_03 &lt;chr&gt; | MDCR_STATUS_CODE_04 &lt;chr&gt; | MDCR_STATUS_CODE_05 &lt;chr&gt; | MDCR_STATUS_CODE_06 &lt;chr&gt; | MDCR_STATUS_CODE_07 &lt;chr&gt; | MDCR_STATUS_CODE_08 &lt;chr&gt; | MDCR_STATUS_CODE_09 &lt;chr&gt; | MDCR_STATUS_CODE_10 &lt;chr&gt; | MDCR_STATUS_CODE_11 &lt;chr&gt; | MDCR_STATUS_CODE_12 &lt;chr&gt; | PART_A_TERMINATION_CODE &lt;dbl&gt; | PART_B_TERMINATION_CODE &lt;dbl&gt; | ENTITLEMENT_BUY_IN_IND01 &lt;chr&gt; | ENTITLEMENT_BUY_IN_IND02 &lt;chr&gt; | ENTITLEMENT_BUY_IN_IND03 &lt;chr&gt; | ENTITLEMENT_BUY_IN_IND04 &lt;chr&gt; | ENTITLEMENT_BUY_IN_IND05 &lt;chr&gt; | ENTITLEMENT_BUY_IN_IND06 &lt;chr&gt; | ENTITLEMENT_BUY_IN_IND07 &lt;chr&gt; | ENTITLEMENT_BUY_IN_IND08 &lt;chr&gt; | ENTITLEMENT_BUY_IN_IND09 &lt;chr&gt; | ENTITLEMENT_BUY_IN_IND10 &lt;chr&gt; | ENTITLEMENT_BUY_IN_IND11 &lt;chr&gt; | ENTITLEMENT_BUY_IN_IND12 &lt;chr&gt; | HMO_INDICATOR01 &lt;chr&gt; | HMO_INDICATOR02 &lt;chr&gt; | HMO_INDICATOR03 &lt;chr&gt; | HMO_INDICATOR04 &lt;chr&gt; | HMO_INDICATOR05 &lt;chr&gt; | HMO_INDICATOR06 &lt;chr&gt; | HMO_INDICATOR07 &lt;chr&gt; | HMO_INDICATOR08 &lt;chr&gt; | HMO_INDICATOR09 &lt;chr&gt; | HMO_INDICATOR10 &lt;chr&gt; | HMO_INDICATOR11 &lt;chr&gt; | HMO_INDICATOR12 &lt;chr&gt; | HI_COVERAGE &lt;dbl&gt; | SMI_COVERAGE &lt;dbl&gt; | HMO_COVERAGE &lt;dbl&gt; | STATE_BUY_IN_COVERAGE &lt;dbl&gt; | VALID_DATE_OF_DEATH_SWITCH &lt;chr&gt; | DATE_OF_DEATH &lt;dbl&gt; | DUAL_STUS_CD_01 &lt;chr&gt; | DUAL_STUS_CD_02 &lt;chr&gt; | DUAL_STUS_CD_03 &lt;chr&gt; | DUAL_STUS_CD_04 &lt;chr&gt; | DUAL_STUS_CD_05 &lt;chr&gt; | DUAL_STUS_CD_06 &lt;chr&gt; | DUAL_STUS_CD_07 &lt;chr&gt; | DUAL_STUS_CD_08 &lt;chr&gt; | DUAL_STUS_CD_09 &lt;chr&gt; | DUAL_STUS_CD_10 &lt;chr&gt; | DUAL_STUS_CD_11 &lt;chr&gt; | DUAL_STUS_CD_12 &lt;chr&gt; |\n",
       "|---|---|---|---|---|---|---|---|---|---|---|---|---|---|---|---|---|---|---|---|---|---|---|---|---|---|---|---|---|---|---|---|---|---|---|---|---|---|---|---|---|---|---|---|---|---|---|---|---|---|---|---|---|---|---|---|---|---|---|---|---|---|---|---|---|---|---|---|---|---|---|---|---|---|---|---|---|---|---|\n",
       "| 100000015 | 2020 | 04 | 22 | 160 | 25025 | 25025 | 25025 | 25025 | 25025 | 25025 | 25025 | 25025 | 25025 | 25025 | 25025 | 25025 | 1 | 1 | 83 | 0 | 0 | 0 | 10 | 10 | 10 | 10 | 10 | 10 | 10 | 10 | 10 | 10 | 10 | 10 | 0 | 0 | 3 | 3 | 3 | 3 | 3 | 3 | 3 | 3 | 3 | 3 | 3 | 3 | 0 | 0 | 0 | 0 | 0 | 0 | 0 | 0 | 0 | 0 | 0 | 0 | 12 | 12 |  0 |  0 | NA | NA | NA | NA | NA | NA | NA | NA | NA | NA | NA | NA | NA | NA |\n",
       "| 100000053 | 2020 | 01 | 33 | 331 | 36047 | 36047 | 36047 | 36047 | 36047 | 36047 | 36047 | 36047 | 36047 | 36047 | 36047 | 36047 | 1 | 2 | 84 | 0 | 0 | 0 | 10 | 10 | 10 | 10 | 10 | 10 | 10 | 10 | 10 | 10 | 10 | 10 | 0 | 0 | C | C | C | C | C | C | C | C | C | C | C | C | 0 | 0 | 0 | 0 | 0 | 0 | 0 | 0 | 0 | 0 | 0 | 0 | 12 | 12 |  0 | 12 | NA | NA | 02 | 02 | 02 | 02 | 02 | 02 | 02 | 02 | 02 | 02 | 02 | 02 |\n",
       "| 100000099 | 2020 | 04 | 10 | 350 | 12071 | 12071 | 12071 | 12071 | 12071 | 12071 | 12071 | 12071 | 12071 | 12071 | 12071 | 12071 | 1 | 1 | 89 | 0 | 0 | 0 | 10 | 10 | 10 | 10 | 10 | 10 | 10 | 10 | 10 | 10 | 10 | 10 | 0 | 0 | 3 | 3 | 3 | 3 | 3 | 3 | 3 | 3 | 3 | 3 | 3 | 3 | C | C | C | C | C | C | C | C | C | C | C | C | 12 | 12 | 12 |  0 | NA | NA | NA | NA | NA | NA | NA | NA | NA | NA | NA | NA | NA | NA |\n",
       "| 100000113 | 2020 | 01 | 55 | 330 | 99999 | 99999 | 99999 | 99999 | 99999 | 99999 | 99999 | 99999 | 99999 | 99999 | 99999 | 99999 | 1 | 3 | 86 | 0 | 0 | 0 | 10 | 10 | 10 | 10 | 10 | 10 | 10 | 10 | 10 | 10 | 10 | 10 | 0 | 0 | 1 | 1 | 1 | 1 | 1 | 1 | 1 | 1 | 1 | 1 | 1 | 1 | 0 | 0 | 0 | 0 | 0 | 0 | 0 | 0 | 0 | 0 | 0 | 0 | 12 |  0 |  0 |  0 | NA | NA | NA | NA | NA | NA | NA | NA | NA | NA | NA | NA | NA | NA |\n",
       "| 100000129 | 2020 | 04 | 07 | 040 | 09003 | 09003 | 09003 | 09003 | 09003 | 09003 | 09003 | 09003 | 09003 | 09003 | 09007 | 09007 | 1 | 1 | 59 | 1 | 1 | 0 | 20 | 20 | 20 | 20 | 20 | 20 | 20 | 20 | 20 | 20 | 20 | 20 | 0 | 0 | C | C | C | C | C | C | C | C | C | C | C | C | C | C | C | C | C | C | C | C | C | C | C | C | 12 | 12 | 12 | 12 | NA | NA | 01 | 01 | 01 | 01 | 01 | 01 | 01 | 01 | 02 | 02 | 02 | 02 |\n",
       "| 100000133 | 2020 | 01 | 55 | 330 | 99999 | 99999 | 99999 | 99999 | 99999 | 99999 | 99999 | 99999 | 99999 | 99999 | 99999 | 99999 | 2 | 3 | 84 | 0 | 0 | 0 | 10 | 10 | 10 | 10 | 10 | 10 | 10 | 10 | 10 | 10 | 10 | 10 | 0 | 0 | 1 | 1 | 1 | 1 | 1 | 1 | 1 | 1 | 1 | 1 | 1 | 1 | 0 | 0 | 0 | 0 | 0 | 0 | 0 | 0 | 0 | 0 | 0 | 0 | 12 |  0 |  0 |  0 | NA | NA | NA | NA | NA | NA | NA | NA | NA | NA | NA | NA | NA | NA |\n",
       "\n"
      ],
      "text/plain": [
       "  DESY_SORT_KEY REFERENCE_YEAR SAMPLE_GROUP STATE_CODE COUNTY_CODE STATE_CNTY_FIPS_CD_01 STATE_CNTY_FIPS_CD_02 STATE_CNTY_FIPS_CD_03 STATE_CNTY_FIPS_CD_04 STATE_CNTY_FIPS_CD_05 STATE_CNTY_FIPS_CD_06 STATE_CNTY_FIPS_CD_07 STATE_CNTY_FIPS_CD_08 STATE_CNTY_FIPS_CD_09 STATE_CNTY_FIPS_CD_10\n",
       "1 100000015     2020           04           22         160         25025                 25025                 25025                 25025                 25025                 25025                 25025                 25025                 25025                 25025                \n",
       "2 100000053     2020           01           33         331         36047                 36047                 36047                 36047                 36047                 36047                 36047                 36047                 36047                 36047                \n",
       "3 100000099     2020           04           10         350         12071                 12071                 12071                 12071                 12071                 12071                 12071                 12071                 12071                 12071                \n",
       "4 100000113     2020           01           55         330         99999                 99999                 99999                 99999                 99999                 99999                 99999                 99999                 99999                 99999                \n",
       "5 100000129     2020           04           07         040         09003                 09003                 09003                 09003                 09003                 09003                 09003                 09003                 09003                 09003                \n",
       "6 100000133     2020           01           55         330         99999                 99999                 99999                 99999                 99999                 99999                 99999                 99999                 99999                 99999                \n",
       "  STATE_CNTY_FIPS_CD_11 STATE_CNTY_FIPS_CD_12 SEX_CODE RACE_CODE AGE ORIG_REASON_FOR_ENTITLEMENT CURR_REASON_FOR_ENTITLEMENT ESRD_INDICATOR MDCR_STATUS_CODE_01 MDCR_STATUS_CODE_02 MDCR_STATUS_CODE_03 MDCR_STATUS_CODE_04 MDCR_STATUS_CODE_05 MDCR_STATUS_CODE_06 MDCR_STATUS_CODE_07 MDCR_STATUS_CODE_08\n",
       "1 25025                 25025                 1        1         83  0                           0                           0              10                  10                  10                  10                  10                  10                  10                  10                 \n",
       "2 36047                 36047                 1        2         84  0                           0                           0              10                  10                  10                  10                  10                  10                  10                  10                 \n",
       "3 12071                 12071                 1        1         89  0                           0                           0              10                  10                  10                  10                  10                  10                  10                  10                 \n",
       "4 99999                 99999                 1        3         86  0                           0                           0              10                  10                  10                  10                  10                  10                  10                  10                 \n",
       "5 09007                 09007                 1        1         59  1                           1                           0              20                  20                  20                  20                  20                  20                  20                  20                 \n",
       "6 99999                 99999                 2        3         84  0                           0                           0              10                  10                  10                  10                  10                  10                  10                  10                 \n",
       "  MDCR_STATUS_CODE_09 MDCR_STATUS_CODE_10 MDCR_STATUS_CODE_11 MDCR_STATUS_CODE_12 PART_A_TERMINATION_CODE PART_B_TERMINATION_CODE ENTITLEMENT_BUY_IN_IND01 ENTITLEMENT_BUY_IN_IND02 ENTITLEMENT_BUY_IN_IND03 ENTITLEMENT_BUY_IN_IND04 ENTITLEMENT_BUY_IN_IND05 ENTITLEMENT_BUY_IN_IND06\n",
       "1 10                  10                  10                  10                  0                       0                       3                        3                        3                        3                        3                        3                       \n",
       "2 10                  10                  10                  10                  0                       0                       C                        C                        C                        C                        C                        C                       \n",
       "3 10                  10                  10                  10                  0                       0                       3                        3                        3                        3                        3                        3                       \n",
       "4 10                  10                  10                  10                  0                       0                       1                        1                        1                        1                        1                        1                       \n",
       "5 20                  20                  20                  20                  0                       0                       C                        C                        C                        C                        C                        C                       \n",
       "6 10                  10                  10                  10                  0                       0                       1                        1                        1                        1                        1                        1                       \n",
       "  ENTITLEMENT_BUY_IN_IND07 ENTITLEMENT_BUY_IN_IND08 ENTITLEMENT_BUY_IN_IND09 ENTITLEMENT_BUY_IN_IND10 ENTITLEMENT_BUY_IN_IND11 ENTITLEMENT_BUY_IN_IND12 HMO_INDICATOR01 HMO_INDICATOR02 HMO_INDICATOR03 HMO_INDICATOR04 HMO_INDICATOR05 HMO_INDICATOR06 HMO_INDICATOR07 HMO_INDICATOR08 HMO_INDICATOR09\n",
       "1 3                        3                        3                        3                        3                        3                        0               0               0               0               0               0               0               0               0              \n",
       "2 C                        C                        C                        C                        C                        C                        0               0               0               0               0               0               0               0               0              \n",
       "3 3                        3                        3                        3                        3                        3                        C               C               C               C               C               C               C               C               C              \n",
       "4 1                        1                        1                        1                        1                        1                        0               0               0               0               0               0               0               0               0              \n",
       "5 C                        C                        C                        C                        C                        C                        C               C               C               C               C               C               C               C               C              \n",
       "6 1                        1                        1                        1                        1                        1                        0               0               0               0               0               0               0               0               0              \n",
       "  HMO_INDICATOR10 HMO_INDICATOR11 HMO_INDICATOR12 HI_COVERAGE SMI_COVERAGE HMO_COVERAGE STATE_BUY_IN_COVERAGE VALID_DATE_OF_DEATH_SWITCH DATE_OF_DEATH DUAL_STUS_CD_01 DUAL_STUS_CD_02 DUAL_STUS_CD_03 DUAL_STUS_CD_04 DUAL_STUS_CD_05 DUAL_STUS_CD_06 DUAL_STUS_CD_07 DUAL_STUS_CD_08 DUAL_STUS_CD_09\n",
       "1 0               0               0               12          12            0            0                    NA                         NA            NA              NA              NA              NA              NA              NA              NA              NA              NA             \n",
       "2 0               0               0               12          12            0           12                    NA                         NA            02              02              02              02              02              02              02              02              02             \n",
       "3 C               C               C               12          12           12            0                    NA                         NA            NA              NA              NA              NA              NA              NA              NA              NA              NA             \n",
       "4 0               0               0               12           0            0            0                    NA                         NA            NA              NA              NA              NA              NA              NA              NA              NA              NA             \n",
       "5 C               C               C               12          12           12           12                    NA                         NA            01              01              01              01              01              01              01              01              02             \n",
       "6 0               0               0               12           0            0            0                    NA                         NA            NA              NA              NA              NA              NA              NA              NA              NA              NA             \n",
       "  DUAL_STUS_CD_10 DUAL_STUS_CD_11 DUAL_STUS_CD_12\n",
       "1 NA              NA              NA             \n",
       "2 02              02              02             \n",
       "3 NA              NA              NA             \n",
       "4 NA              NA              NA             \n",
       "5 02              02              02             \n",
       "6 NA              NA              NA             "
      ]
     },
     "metadata": {},
     "output_type": "display_data"
    },
    {
     "data": {
      "text/html": [
       "2758309"
      ],
      "text/latex": [
       "2758309"
      ],
      "text/markdown": [
       "2758309"
      ],
      "text/plain": [
       "[1] 2758309"
      ]
     },
     "metadata": {},
     "output_type": "display_data"
    },
    {
     "data": {
      "text/html": [
       "3296239"
      ],
      "text/latex": [
       "3296239"
      ],
      "text/markdown": [
       "3296239"
      ],
      "text/plain": [
       "[1] 3296239"
      ]
     },
     "metadata": {},
     "output_type": "display_data"
    }
   ],
   "source": [
    "head(mbsf_2013)\n",
    "head(mbsf_2020)\n",
    "\n",
    "nrow(mbsf_2013)\n",
    "nrow(mbsf_2020)\n"
   ]
  },
  {
   "cell_type": "code",
   "execution_count": 105,
   "id": "653600d2-9a24-4f99-9d18-96ce1521a664",
   "metadata": {},
   "outputs": [],
   "source": [
    "create_person_file_2013_2015=function(mbsf_data){\n",
    "    \n",
    "    result=mbsf_data[,\n",
    "          .(\n",
    "              MBI=DESY_SORT_KEY,\n",
    "              SEX=SEX_CODE,\n",
    "              DOB=as.IDate(paste(\n",
    "                  as.character(REFERENCE_YEAR-AGE),\"-01\",\"-01\",sep=\"\")\n",
    "                       ,\"%Y-%m-%d\"),\n",
    "              OREC=ORIG_REASON_FOR_ENTITLEMENT,\n",
    "              LTIMCAID=0,\n",
    "              NEMCAID=0\n",
    "          ),keyby=DESY_SORT_KEY\n",
    "         ]\n",
    "    \n",
    "    result=result[order(MBI)]\n",
    "    return(result)\n",
    "}\n",
    "\n",
    "create_person_file_2016_2020=function(mbsf_data){\n",
    "    \n",
    "    result=mbsf_data[,\n",
    "          .(\n",
    "              MBI=DESY_SORT_KEY,\n",
    "              SEX=SEX_CODE,\n",
    "              DOB=as.IDate(paste(\n",
    "                  as.character(REFERENCE_YEAR-AGE),\"-01\",\"-01\",sep=\"\")\n",
    "                       ,\"%Y-%m-%d\"),\n",
    "              OREC=ORIG_REASON_FOR_ENTITLEMENT,\n",
    "              LTIMCAID=(sum(\n",
    "                  DUAL_STUS_CD_01 %in% c('02','04','08'),\n",
    "                  DUAL_STUS_CD_02 %in% c('02','04','08'),\n",
    "                  DUAL_STUS_CD_03 %in% c('02','04','08'),\n",
    "                  DUAL_STUS_CD_04 %in% c('02','04','08'),\n",
    "                  DUAL_STUS_CD_05 %in% c('02','04','08'),\n",
    "                  DUAL_STUS_CD_06 %in% c('02','04','08'),\n",
    "                  DUAL_STUS_CD_07 %in% c('02','04','08'),\n",
    "                  DUAL_STUS_CD_08 %in% c('02','04','08'),\n",
    "                  DUAL_STUS_CD_09 %in% c('02','04','08'),\n",
    "                  DUAL_STUS_CD_10 %in% c('02','04','08'),\n",
    "                  DUAL_STUS_CD_11 %in% c('02','04','08'),\n",
    "                  DUAL_STUS_CD_12 %in% c('02','04','08'),na.rm=T\n",
    "              )>0)*1,\n",
    "              NEMCAID=0\n",
    "          ),keyby=DESY_SORT_KEY\n",
    "         ]\n",
    "    \n",
    "    result=result[order(MBI)]\n",
    "    return(result)\n",
    "}"
   ]
  },
  {
   "cell_type": "code",
   "execution_count": 106,
   "id": "f35a2b4a-6280-41e5-b5f8-312e41f9d1f4",
   "metadata": {},
   "outputs": [],
   "source": [
    "person_file_2013=create_person_file_2013_2015(mbsf_2013)\n",
    "person_file_2014=create_person_file_2013_2015(mbsf_2014)\n",
    "person_file_2015=create_person_file_2013_2015(mbsf_2015)\n",
    "person_file_2016=create_person_file_2016_2020(mbsf_2016)\n",
    "person_file_2017=create_person_file_2016_2020(mbsf_2017)\n",
    "person_file_2018=create_person_file_2016_2020(mbsf_2018)\n",
    "person_file_2019=create_person_file_2016_2020(mbsf_2019)\n",
    "person_file_2020=create_person_file_2016_2020(mbsf_2020)"
   ]
  },
  {
   "cell_type": "code",
   "execution_count": 134,
   "id": "f16f552f-8896-4160-8e44-55da515fa5a3",
   "metadata": {},
   "outputs": [],
   "source": [
    "write.csv(person_file_2013,\"/work/postresearch/Shared/Projects/Farbod/hcc_data/person_file_2013.csv\")\n",
    "write.csv(person_file_2014,\"/work/postresearch/Shared/Projects/Farbod/hcc_data/person_file_2014.csv\")\n",
    "write.csv(person_file_2015,\"/work/postresearch/Shared/Projects/Farbod/hcc_data/person_file_2015.csv\")\n",
    "write.csv(person_file_2016,\"/work/postresearch/Shared/Projects/Farbod/hcc_data/person_file_2016.csv\")\n",
    "write.csv(person_file_2017,\"/work/postresearch/Shared/Projects/Farbod/hcc_data/person_file_2017.csv\")\n",
    "write.csv(person_file_2018,\"/work/postresearch/Shared/Projects/Farbod/hcc_data/person_file_2018.csv\")\n",
    "write.csv(person_file_2019,\"/work/postresearch/Shared/Projects/Farbod/hcc_data/person_file_2019.csv\")\n",
    "write.csv(person_file_2020,\"/work/postresearch/Shared/Projects/Farbod/hcc_data/person_file_2020.csv\")"
   ]
  },
  {
   "cell_type": "code",
   "execution_count": null,
   "id": "c5b3ccba-af0e-48ad-add6-3ee57d859ee4",
   "metadata": {},
   "outputs": [],
   "source": []
  }
 ],
 "metadata": {
  "kernelspec": {
   "display_name": "R",
   "language": "R",
   "name": "ir"
  },
  "language_info": {
   "codemirror_mode": "r",
   "file_extension": ".r",
   "mimetype": "text/x-r-source",
   "name": "R",
   "pygments_lexer": "r",
   "version": "4.2.0"
  }
 },
 "nbformat": 4,
 "nbformat_minor": 5
}

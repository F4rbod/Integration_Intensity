{
 "cells": [
  {
   "cell_type": "markdown",
   "id": "13ffe1ec-7515-473a-a152-de06e6250e82",
   "metadata": {},
   "source": [
    "# Setup"
   ]
  },
  {
   "cell_type": "code",
   "execution_count": null,
   "id": "4c35f02d-0dd9-49e1-95ba-3da58c9a47ec",
   "metadata": {
    "vscode": {
     "languageId": "r"
    }
   },
   "outputs": [],
   "source": [
    "packrat::init(project = \"/work/postresearch/Shared/Projects/Farbod/CaseMix\")"
   ]
  },
  {
   "cell_type": "code",
   "execution_count": null,
   "id": "87d247c5-4afb-49d7-b54c-317655f91891",
   "metadata": {
    "vscode": {
     "languageId": "r"
    }
   },
   "outputs": [],
   "source": [
    "packrat::snapshot()"
   ]
  },
  {
   "cell_type": "code",
   "execution_count": null,
   "id": "3d33fe60-1077-44e8-b923-f6d318960f7d",
   "metadata": {
    "vscode": {
     "languageId": "r"
    }
   },
   "outputs": [],
   "source": [
    "packrat::status()"
   ]
  },
  {
   "cell_type": "code",
   "execution_count": 2,
   "id": "363434e4-7517-4392-908a-53cc61ade523",
   "metadata": {
    "vscode": {
     "languageId": "r"
    }
   },
   "outputs": [],
   "source": [
    "setwd('/work/postresearch/Shared/Projects/Farbod/Integration_Intensity')"
   ]
  },
  {
   "cell_type": "code",
   "execution_count": 3,
   "id": "047d3179-6b10-41b1-bc57-c400f1dae3f7",
   "metadata": {
    "pycharm": {
     "name": "#%%\n"
    },
    "tags": [],
    "vscode": {
     "languageId": "r"
    }
   },
   "outputs": [
    {
     "name": "stderr",
     "output_type": "stream",
     "text": [
      "── \u001b[1mAttaching packages\u001b[22m ─────────────────────────────────────────────────────────────────────────────────────────────────────────────────────── tidyverse 1.3.1 ──\n",
      "\n",
      "\u001b[32m✔\u001b[39m \u001b[34mggplot2\u001b[39m 3.4.0     \u001b[32m✔\u001b[39m \u001b[34mpurrr  \u001b[39m 0.3.4\n",
      "\u001b[32m✔\u001b[39m \u001b[34mtibble \u001b[39m 3.1.7     \u001b[32m✔\u001b[39m \u001b[34mdplyr  \u001b[39m 1.0.9\n",
      "\u001b[32m✔\u001b[39m \u001b[34mtidyr  \u001b[39m 1.2.0     \u001b[32m✔\u001b[39m \u001b[34mstringr\u001b[39m 1.4.0\n",
      "\u001b[32m✔\u001b[39m \u001b[34mreadr  \u001b[39m 2.1.2     \u001b[32m✔\u001b[39m \u001b[34mforcats\u001b[39m 0.5.1\n",
      "\n",
      "── \u001b[1mConflicts\u001b[22m ────────────────────────────────────────────────────────────────────────────────────────────────────────────────────────── tidyverse_conflicts() ──\n",
      "\u001b[31m✖\u001b[39m \u001b[34mdplyr\u001b[39m::\u001b[32mfilter()\u001b[39m masks \u001b[34mstats\u001b[39m::filter()\n",
      "\u001b[31m✖\u001b[39m \u001b[34mdplyr\u001b[39m::\u001b[32mlag()\u001b[39m    masks \u001b[34mstats\u001b[39m::lag()\n",
      "\n",
      "\n",
      "Attaching package: ‘data.table’\n",
      "\n",
      "\n",
      "The following objects are masked from ‘package:dplyr’:\n",
      "\n",
      "    between, first, last\n",
      "\n",
      "\n",
      "The following object is masked from ‘package:purrr’:\n",
      "\n",
      "    transpose\n",
      "\n",
      "\n",
      "\n",
      "Attaching package: ‘reshape’\n",
      "\n",
      "\n",
      "The following object is masked from ‘package:data.table’:\n",
      "\n",
      "    melt\n",
      "\n",
      "\n",
      "The following object is masked from ‘package:dplyr’:\n",
      "\n",
      "    rename\n",
      "\n",
      "\n",
      "The following objects are masked from ‘package:tidyr’:\n",
      "\n",
      "    expand, smiths\n",
      "\n",
      "\n",
      "\n",
      "Attaching package: ‘foreach’\n",
      "\n",
      "\n",
      "The following objects are masked from ‘package:purrr’:\n",
      "\n",
      "    accumulate, when\n",
      "\n",
      "\n"
     ]
    },
    {
     "ename": "ERROR",
     "evalue": "Error in library(doMC): there is no package called ‘doMC’\n",
     "output_type": "error",
     "traceback": [
      "Error in library(doMC): there is no package called ‘doMC’\nTraceback:\n",
      "1. library(doMC)"
     ]
    }
   ],
   "source": [
    "options(repr.matrix.max.rows=100, repr.matrix.max.cols=300)\n",
    "options(repr.plot.width = 20, repr.plot.height = 15)\n",
    "options(width=300)\n",
    "    \n",
    "numcores=128\n",
    "\n",
    "library(tidyverse)\n",
    "library(parallel)\n",
    "library(data.table)\n",
    "library(fst)\n",
    "library(comorbidity)\n",
    "library(zeallot)\n",
    "library(reshape)\n",
    "library(dtplyr)\n",
    "library(haven)\n",
    "library(vroom)\n",
    "library(dplyr)\n",
    "#library(icd)\n",
    "`%!in%` = Negate(`%in%`)\n",
    "\n",
    "setDTthreads(numcores)\n",
    "\n",
    "numcores_foreach=8\n",
    "\n",
    "library(foreach)\n",
    "library(doMC)\n",
    "registerDoMC(cores=numcores_foreach)"
   ]
  },
  {
   "cell_type": "markdown",
   "id": "66b93937-6634-4b82-8ae8-2e6aaeb496bc",
   "metadata": {},
   "source": [
    "# Finding the diagnosis for each patient"
   ]
  },
  {
   "cell_type": "markdown",
   "id": "11d95288-b707-4cb0-98eb-a50e2cdeb1be",
   "metadata": {},
   "source": [
    "## Carrier files"
   ]
  },
  {
   "cell_type": "code",
   "execution_count": null,
   "id": "cf674419-e763-49f2-b0d2-9e1df920bcb9",
   "metadata": {
    "pycharm": {
     "name": "#%%\n"
    },
    "vscode": {
     "languageId": "r"
    }
   },
   "outputs": [],
   "source": [
    "carrier_data_2013=read_fst(\"/work/postresearch/Shared/Projects/Data_fst/carrier_data_2013.fst\",as.data.table = T, columns = c(\"DESY_SORT_KEY\",\"LINE_ICD_DGNS_CD\"))\n",
    "carrier_data_2014=read_fst(\"/work/postresearch/Shared/Projects/Data_fst/carrier_data_2014.fst\",as.data.table = T, columns = c(\"DESY_SORT_KEY\",\"LINE_ICD_DGNS_CD\"))\n",
    "carrier_data_2015=read_fst(\"/work/postresearch/Shared/Projects/Data_fst/carrier_data_2015.fst\",as.data.table = T, columns = c(\"DESY_SORT_KEY\",\"LINE_ICD_DGNS_CD\"))\n",
    "carrier_data_2016=read_fst(\"/work/postresearch/Shared/Projects/Data_fst/carrier_data_2016.fst\",as.data.table = T, columns = c(\"DESY_SORT_KEY\",\"LINE_ICD_DGNS_CD\"))\n",
    "carrier_data_2017=read_fst(\"/work/postresearch/Shared/Projects/Data_fst/carrier_data_2017.fst\",as.data.table = T, columns = c(\"DESY_SORT_KEY\",\"LINE_ICD_DGNS_CD\"))\n",
    "carrier_data_2018=read_fst(\"/work/postresearch/Shared/Projects/Data_fst/carrier_data_2018.fst\",as.data.table = T, columns = c(\"DESY_SORT_KEY\",\"LINE_ICD_DGNS_CD\"))\n",
    "carrier_data_2019=read_fst(\"/work/postresearch/Shared/Projects/Data_fst/carrier_data_2019.fst\",as.data.table = T, columns = c(\"DESY_SORT_KEY\",\"LINE_ICD_DGNS_CD\"))\n",
    "carrier_data_2020=read_fst(\"/work/postresearch/Shared/Projects/Data_fst/carrier_data_2020.fst\",as.data.table = T, columns = c(\"DESY_SORT_KEY\",\"LINE_ICD_DGNS_CD\"))"
   ]
  },
  {
   "cell_type": "markdown",
   "id": "67dd131d-a8dd-4f10-b57d-59db811259f5",
   "metadata": {
    "pycharm": {
     "name": "#%% md\n"
    },
    "tags": []
   },
   "source": [
    "## Inpatient files"
   ]
  },
  {
   "cell_type": "code",
   "execution_count": null,
   "id": "50472a0e-7fb3-44b9-a2a1-5d8a363ffb46",
   "metadata": {
    "pycharm": {
     "name": "#%%\n"
    },
    "tags": [],
    "vscode": {
     "languageId": "r"
    }
   },
   "outputs": [],
   "source": [
    "inpatient_data_2013 = read_fst(\"/work/postresearch/Shared/Projects/Data_fst/inpatient_data_2013.fst\",as.data.table = T)\n",
    "inpatient_data_2014 = read_fst(\"/work/postresearch/Shared/Projects/Data_fst/inpatient_data_2014.fst\",as.data.table = T)\n",
    "inpatient_data_2015 = read_fst(\"/work/postresearch/Shared/Projects/Data_fst/inpatient_data_2015.fst\",as.data.table = T)\n",
    "inpatient_data_2016 = read_fst(\"/work/postresearch/Shared/Projects/Data_fst/inpatient_data_2016.fst\",as.data.table = T)\n",
    "inpatient_data_2017 = read_fst(\"/work/postresearch/Shared/Projects/Data_fst/inpatient_data_2017.fst\",as.data.table = T)\n",
    "inpatient_data_2018 = read_fst(\"/work/postresearch/Shared/Projects/Data_fst/inpatient_data_2018.fst\",as.data.table = T)\n",
    "inpatient_data_2019 = read_fst(\"/work/postresearch/Shared/Projects/Data_fst/inpatient_data_2019.fst\",as.data.table = T)\n",
    "inpatient_data_2020 = read_fst(\"/work/postresearch/Shared/Projects/Data_fst/inpatient_data_2020.fst\",as.data.table = T)"
   ]
  },
  {
   "cell_type": "markdown",
   "id": "49aaaf87-3c1f-450e-8f51-a5a21a4cb694",
   "metadata": {
    "pycharm": {
     "name": "#%% md\n"
    }
   },
   "source": [
    "## Outpatient files"
   ]
  },
  {
   "cell_type": "code",
   "execution_count": null,
   "id": "07b87323-b8cf-4407-8386-6a0dad4bb890",
   "metadata": {
    "pycharm": {
     "name": "#%%\n"
    },
    "vscode": {
     "languageId": "r"
    }
   },
   "outputs": [],
   "source": [
    "outpatient_data_2013 = read_fst(\"/work/postresearch/Shared/Projects/Data_fst/outpatient_data_2013.fst\",as.data.table = T)\n",
    "outpatient_data_2014 = read_fst(\"/work/postresearch/Shared/Projects/Data_fst/outpatient_data_2014.fst\",as.data.table = T)\n",
    "outpatient_data_2015 = read_fst(\"/work/postresearch/Shared/Projects/Data_fst/outpatient_data_2015.fst\",as.data.table = T)\n",
    "outpatient_data_2016 = read_fst(\"/work/postresearch/Shared/Projects/Data_fst/outpatient_data_2016.fst\",as.data.table = T)\n",
    "outpatient_data_2017 = read_fst(\"/work/postresearch/Shared/Projects/Data_fst/outpatient_data_2017.fst\",as.data.table = T)\n",
    "outpatient_data_2018 = read_fst(\"/work/postresearch/Shared/Projects/Data_fst/outpatient_data_2018.fst\",as.data.table = T)\n",
    "outpatient_data_2019 = read_fst(\"/work/postresearch/Shared/Projects/Data_fst/outpatient_data_2019.fst\",as.data.table = T)\n",
    "outpatient_data_2020 = read_fst(\"/work/postresearch/Shared/Projects/Data_fst/outpatient_data_2020.fst\",as.data.table = T)"
   ]
  },
  {
   "cell_type": "code",
   "execution_count": null,
   "id": "85dc4483-cd83-44c5-bdb5-26bdbb223b42",
   "metadata": {
    "vscode": {
     "languageId": "r"
    }
   },
   "outputs": [],
   "source": [
    "carrier_test=\n",
    "carrier_data_2020[1:10,.(\n",
    "    MBI=DESY_SORT_KEY,\n",
    "    DIAG=LINE_ICD_DGNS_CD)]"
   ]
  },
  {
   "cell_type": "code",
   "execution_count": null,
   "id": "54a7108f-2f7e-42cd-a6e4-f826332e0b4f",
   "metadata": {
    "vscode": {
     "languageId": "r"
    }
   },
   "outputs": [],
   "source": [
    "head(carrier_test)"
   ]
  },
  {
   "cell_type": "code",
   "execution_count": null,
   "id": "042b69b3-fe96-483c-ad29-ca9a5bb5ae92",
   "metadata": {
    "vscode": {
     "languageId": "r"
    }
   },
   "outputs": [],
   "source": [
    "find_all_diagnosis=function(data){\n",
    "    data=data[,.(\n",
    "    DESY_SORT_KEY,\n",
    "    PRNCPAL_DGNS_CD,\n",
    "    ICD_DGNS_CD1,\n",
    "    ICD_DGNS_CD2,\n",
    "    ICD_DGNS_CD3,\n",
    "    ICD_DGNS_CD4,\n",
    "    ICD_DGNS_CD5,\n",
    "    ICD_DGNS_CD6,\n",
    "    ICD_DGNS_CD7,\n",
    "    ICD_DGNS_CD8,\n",
    "    ICD_DGNS_CD9,\n",
    "    ICD_DGNS_CD10,\n",
    "    ICD_DGNS_CD11,\n",
    "    ICD_DGNS_CD12,\n",
    "    ICD_DGNS_CD13,\n",
    "    ICD_DGNS_CD14,\n",
    "    ICD_DGNS_CD15,\n",
    "    ICD_DGNS_CD16,\n",
    "    ICD_DGNS_CD17,\n",
    "    ICD_DGNS_CD18,\n",
    "    ICD_DGNS_CD19,\n",
    "    ICD_DGNS_CD20,\n",
    "    ICD_DGNS_CD21,\n",
    "    ICD_DGNS_CD22,\n",
    "    ICD_DGNS_CD23,\n",
    "    ICD_DGNS_CD24,\n",
    "    ICD_DGNS_CD25\n",
    "    )]\n",
    "    \n",
    "    result=melt(data,id.vars = \"DESY_SORT_KEY\")%>%as.data.table()\n",
    "    \n",
    "    result=result[,.(MBI=DESY_SORT_KEY,\n",
    "                     DIAG=value\n",
    "                    )]\n",
    "    \n",
    "    result=result[nchar(DIAG)>0,]\n",
    "    \n",
    "    return(result)\n",
    "    \n",
    "    \n",
    "}"
   ]
  },
  {
   "cell_type": "code",
   "execution_count": null,
   "id": "2e3da25c-45b2-48af-b593-245351c8682f",
   "metadata": {
    "vscode": {
     "languageId": "r"
    }
   },
   "outputs": [],
   "source": [
    "in_test=find_all_diagnosis(inpatient_data_2020[1:2,])"
   ]
  },
  {
   "cell_type": "code",
   "execution_count": null,
   "id": "002ac5bd-eee4-4b32-b775-2d62cc665a55",
   "metadata": {
    "vscode": {
     "languageId": "r"
    }
   },
   "outputs": [],
   "source": [
    "out_test=find_all_diagnosis(outpatient_data_2020[1:2,])"
   ]
  },
  {
   "cell_type": "code",
   "execution_count": null,
   "id": "449a96d6-1bd9-4a9d-8ec4-0c62d25d9316",
   "metadata": {
    "vscode": {
     "languageId": "r"
    }
   },
   "outputs": [],
   "source": [
    "combine_diagnosis=function(carrier,outpatient,inpatient){\n",
    "    data=rbind(carrier,outpatient,inpatient)\n",
    "    data=data[order(MBI)]\n",
    "    return(data)\n",
    "}"
   ]
  },
  {
   "cell_type": "code",
   "execution_count": null,
   "id": "1639a118-0ffe-426c-91af-465da7eeac2b",
   "metadata": {
    "vscode": {
     "languageId": "r"
    }
   },
   "outputs": [],
   "source": [
    "diag_test=combine_diagnosis(carrier_test,out_test,in_test)"
   ]
  },
  {
   "cell_type": "code",
   "execution_count": null,
   "id": "02881118-a425-46f9-beb7-37cc394f509b",
   "metadata": {
    "vscode": {
     "languageId": "r"
    }
   },
   "outputs": [],
   "source": [
    "head(diag_test)"
   ]
  },
  {
   "cell_type": "code",
   "execution_count": null,
   "id": "c68fd8cb-b9b5-48a7-a4bc-10b846047747",
   "metadata": {
    "vscode": {
     "languageId": "r"
    }
   },
   "outputs": [],
   "source": [
    "carrier_2013=\n",
    "carrier_data_2013[,.(\n",
    "    MBI=DESY_SORT_KEY,\n",
    "    DIAG=LINE_ICD_DGNS_CD)]\n",
    "\n",
    "carrier_2014=\n",
    "carrier_data_2014[,.(\n",
    "    MBI=DESY_SORT_KEY,\n",
    "    DIAG=LINE_ICD_DGNS_CD)]\n",
    "\n",
    "carrier_2015=\n",
    "carrier_data_2015[,.(\n",
    "    MBI=DESY_SORT_KEY,\n",
    "    DIAG=LINE_ICD_DGNS_CD)]\n",
    "\n",
    "carrier_2016=\n",
    "carrier_data_2016[,.(\n",
    "    MBI=DESY_SORT_KEY,\n",
    "    DIAG=LINE_ICD_DGNS_CD)]\n",
    "\n",
    "carrier_2017=\n",
    "carrier_data_2017[,.(\n",
    "    MBI=DESY_SORT_KEY,\n",
    "    DIAG=LINE_ICD_DGNS_CD)]\n",
    "\n",
    "carrier_2018=\n",
    "carrier_data_2018[,.(\n",
    "    MBI=DESY_SORT_KEY,\n",
    "    DIAG=LINE_ICD_DGNS_CD)]\n",
    "\n",
    "carrier_2019=\n",
    "carrier_data_2019[,.(\n",
    "    MBI=DESY_SORT_KEY,\n",
    "    DIAG=LINE_ICD_DGNS_CD)]\n",
    "\n",
    "carrier_2020=\n",
    "carrier_data_2020[,.(\n",
    "    MBI=DESY_SORT_KEY,\n",
    "    DIAG=LINE_ICD_DGNS_CD)]"
   ]
  },
  {
   "cell_type": "code",
   "execution_count": null,
   "id": "12c9e71c-363d-4fe7-8016-39cb4501dd77",
   "metadata": {
    "vscode": {
     "languageId": "r"
    }
   },
   "outputs": [],
   "source": [
    "head(carrier_2013)"
   ]
  },
  {
   "cell_type": "code",
   "execution_count": null,
   "id": "a2bb4ef8-2616-42ac-abcf-ce51b4eb7a02",
   "metadata": {
    "vscode": {
     "languageId": "r"
    }
   },
   "outputs": [],
   "source": [
    "in_2013=find_all_diagnosis(inpatient_data_2013)\n",
    "in_2014=find_all_diagnosis(inpatient_data_2014)\n",
    "in_2015=find_all_diagnosis(inpatient_data_2015)\n",
    "in_2016=find_all_diagnosis(inpatient_data_2016)\n",
    "in_2017=find_all_diagnosis(inpatient_data_2017)\n",
    "in_2018=find_all_diagnosis(inpatient_data_2018)\n",
    "in_2019=find_all_diagnosis(inpatient_data_2019)\n",
    "in_2020=find_all_diagnosis(inpatient_data_2020)"
   ]
  },
  {
   "cell_type": "code",
   "execution_count": null,
   "id": "2a275d5a-fc31-4907-afad-73597a97e3f3",
   "metadata": {
    "vscode": {
     "languageId": "r"
    }
   },
   "outputs": [],
   "source": [
    "head(in_2013)"
   ]
  },
  {
   "cell_type": "code",
   "execution_count": null,
   "id": "eaddb3e1-eb2f-4f86-b462-e827dc3912f8",
   "metadata": {
    "vscode": {
     "languageId": "r"
    }
   },
   "outputs": [],
   "source": [
    "out_2013=find_all_diagnosis(outpatient_data_2013)\n",
    "out_2014=find_all_diagnosis(outpatient_data_2014)\n",
    "out_2015=find_all_diagnosis(outpatient_data_2015)\n",
    "out_2016=find_all_diagnosis(outpatient_data_2016)\n",
    "out_2017=find_all_diagnosis(outpatient_data_2017)\n",
    "out_2018=find_all_diagnosis(outpatient_data_2018)\n",
    "out_2019=find_all_diagnosis(outpatient_data_2019)\n",
    "out_2020=find_all_diagnosis(outpatient_data_2020)"
   ]
  },
  {
   "cell_type": "code",
   "execution_count": null,
   "id": "644f7332-5e6d-4b9f-8eaf-806d07e0d2b9",
   "metadata": {
    "vscode": {
     "languageId": "r"
    }
   },
   "outputs": [],
   "source": [
    "head(out_2013)"
   ]
  },
  {
   "cell_type": "code",
   "execution_count": null,
   "id": "ea7d8a79-b78d-4902-9f4d-f66b97557df0",
   "metadata": {
    "vscode": {
     "languageId": "r"
    }
   },
   "outputs": [],
   "source": [
    "diag_2013=combine_diagnosis(carrier_2013,out_2013,in_2013)\n",
    "diag_2014=combine_diagnosis(carrier_2014,out_2014,in_2014)\n",
    "diag_2015=combine_diagnosis(carrier_2015,out_2015,in_2015)\n",
    "diag_2016=combine_diagnosis(carrier_2016,out_2016,in_2016)\n",
    "diag_2017=combine_diagnosis(carrier_2017,out_2017,in_2017)\n",
    "diag_2018=combine_diagnosis(carrier_2018,out_2018,in_2018)\n",
    "diag_2019=combine_diagnosis(carrier_2019,out_2019,in_2019)\n",
    "diag_2020=combine_diagnosis(carrier_2020,out_2020,in_2020)"
   ]
  },
  {
   "cell_type": "code",
   "execution_count": null,
   "id": "dafad692-6e8a-49e9-8b17-fd2b227e45d1",
   "metadata": {
    "vscode": {
     "languageId": "r"
    }
   },
   "outputs": [],
   "source": [
    "head(diag_2013)"
   ]
  },
  {
   "cell_type": "code",
   "execution_count": null,
   "id": "27192a0c-0986-462e-91a3-8608a1a3de46",
   "metadata": {
    "vscode": {
     "languageId": "r"
    }
   },
   "outputs": [],
   "source": [
    "write.csv(diag_2013,\"/work/postresearch/Shared/Projects/Farbod/hcc_data/diag_2013.csv\")\n",
    "write.csv(diag_2014,\"/work/postresearch/Shared/Projects/Farbod/hcc_data/diag_2014.csv\")\n",
    "write.csv(diag_2015,\"/work/postresearch/Shared/Projects/Farbod/hcc_data/diag_2015.csv\")\n",
    "write.csv(diag_2016,\"/work/postresearch/Shared/Projects/Farbod/hcc_data/diag_2016.csv\")\n",
    "write.csv(diag_2017,\"/work/postresearch/Shared/Projects/Farbod/hcc_data/diag_2017.csv\")\n",
    "write.csv(diag_2018,\"/work/postresearch/Shared/Projects/Farbod/hcc_data/diag_2018.csv\")\n",
    "write.csv(diag_2019,\"/work/postresearch/Shared/Projects/Farbod/hcc_data/diag_2019.csv\")\n",
    "write.csv(diag_2020,\"/work/postresearch/Shared/Projects/Farbod/hcc_data/diag_2020.csv\")"
   ]
  },
  {
   "cell_type": "markdown",
   "id": "213e4911-5139-41a4-8387-5ed27498dd35",
   "metadata": {
    "tags": []
   },
   "source": [
    "# Converting to HCC codes"
   ]
  },
  {
   "cell_type": "code",
   "execution_count": null,
   "id": "b736b3fb-8534-487e-b49d-5268ee668ae6",
   "metadata": {
    "collapsed": true,
    "jupyter": {
     "outputs_hidden": true
    },
    "tags": [],
    "vscode": {
     "languageId": "r"
    }
   },
   "outputs": [],
   "source": [
    "diag_2013=vroom(\"/work/postresearch/Shared/Projects/Farbod/hcc_data/diag_2013.csv\", num_threads = numcores)%>% as.data.table()\n",
    "diag_2014=vroom(\"/work/postresearch/Shared/Projects/Farbod/hcc_data/diag_2014.csv\", num_threads = numcores)%>% as.data.table()\n",
    "diag_2015=vroom(\"/work/postresearch/Shared/Projects/Farbod/hcc_data/diag_2015.csv\", num_threads = numcores)%>% as.data.table()\n",
    "diag_2016=vroom(\"/work/postresearch/Shared/Projects/Farbod/hcc_data/diag_2016.csv\", num_threads = numcores)%>% as.data.table()\n",
    "diag_2017=vroom(\"/work/postresearch/Shared/Projects/Farbod/hcc_data/diag_2017.csv\", num_threads = numcores)%>% as.data.table()\n",
    "diag_2018=vroom(\"/work/postresearch/Shared/Projects/Farbod/hcc_data/diag_2018.csv\", num_threads = numcores)%>% as.data.table()\n",
    "diag_2019=vroom(\"/work/postresearch/Shared/Projects/Farbod/hcc_data/diag_2019.csv\", num_threads = numcores)%>% as.data.table()\n",
    "diag_2020=vroom(\"/work/postresearch/Shared/Projects/Farbod/hcc_data/diag_2020.csv\", num_threads = numcores)%>% as.data.table()"
   ]
  },
  {
   "cell_type": "code",
   "execution_count": null,
   "id": "62a8a507-9263-49cc-984c-6ec86d2b51f5",
   "metadata": {
    "vscode": {
     "languageId": "r"
    }
   },
   "outputs": [],
   "source": [
    "diag_2013[,date:=as.IDate(paste(\"2013\",\"-01\",\"-01\",sep=\"\"),\"%Y-%m-%d\")]\n",
    "diag_2014[,date:=as.IDate(paste(\"2014\",\"-01\",\"-01\",sep=\"\"),\"%Y-%m-%d\")]\n",
    "diag_2015[,date:=as.IDate(paste(\"2015\",\"-01\",\"-01\",sep=\"\"),\"%Y-%m-%d\")]\n",
    "diag_2016[,date:=as.IDate(paste(\"2016\",\"-01\",\"-01\",sep=\"\"),\"%Y-%m-%d\")]\n",
    "diag_2017[,date:=as.IDate(paste(\"2017\",\"-01\",\"-01\",sep=\"\"),\"%Y-%m-%d\")]\n",
    "diag_2018[,date:=as.IDate(paste(\"2018\",\"-01\",\"-01\",sep=\"\"),\"%Y-%m-%d\")]\n",
    "diag_2019[,date:=as.IDate(paste(\"2019\",\"-01\",\"-01\",sep=\"\"),\"%Y-%m-%d\")]\n",
    "diag_2020[,date:=as.IDate(paste(\"2019\",\"-01\",\"-01\",sep=\"\"),\"%Y-%m-%d\")]"
   ]
  },
  {
   "cell_type": "code",
   "execution_count": null,
   "id": "1e0e6240-647c-44b5-9bd6-403bb225b801",
   "metadata": {
    "vscode": {
     "languageId": "r"
    }
   },
   "outputs": [],
   "source": [
    "diag_2013[,MBI:=as.character(MBI)]\n",
    "diag_2014[,MBI:=as.character(MBI)]\n",
    "diag_2015[,MBI:=as.character(MBI)]\n",
    "diag_2016[,MBI:=as.character(MBI)]\n",
    "diag_2017[,MBI:=as.character(MBI)]\n",
    "diag_2018[,MBI:=as.character(MBI)]\n",
    "diag_2019[,MBI:=as.character(MBI)]\n",
    "diag_2020[,MBI:=as.character(MBI)]"
   ]
  },
  {
   "cell_type": "code",
   "execution_count": null,
   "id": "5b948ff5-749f-4a5b-8eeb-aaeffc7c0338",
   "metadata": {
    "vscode": {
     "languageId": "r"
    }
   },
   "outputs": [],
   "source": [
    "head(diag_2013)\n",
    "tail(diag_2020)"
   ]
  },
  {
   "cell_type": "code",
   "execution_count": null,
   "id": "7c330d85-60a2-430f-a13c-a95518ac3477",
   "metadata": {
    "vscode": {
     "languageId": "r"
    }
   },
   "outputs": [],
   "source": [
    "comorbid_hcc(as.data.frame(diag_2013[MBI==100000015,]),\n",
    "             date_name = \"date\",\n",
    "             visit_name = \"MBI\",\n",
    "             icd_name = \"DIAG\"\n",
    "            )"
   ]
  },
  {
   "cell_type": "code",
   "execution_count": null,
   "id": "72c755e7-1004-4ea4-a9ae-d6f0c5ff0b38",
   "metadata": {
    "vscode": {
     "languageId": "r"
    }
   },
   "outputs": [],
   "source": [
    "comorbid_hcc(as.data.frame(diag_2015[MBI==100000015,]),\n",
    "             date_name = \"date\",\n",
    "             visit_name = \"MBI\",\n",
    "             icd_name = \"DIAG\"\n",
    "            )"
   ]
  },
  {
   "cell_type": "code",
   "execution_count": null,
   "id": "9ee81544-a92e-4e02-8956-48580992c1d8",
   "metadata": {
    "vscode": {
     "languageId": "r"
    }
   },
   "outputs": [],
   "source": [
    "hcc_diag_2013=comorbid_hcc(as.data.frame(diag_2013),\n",
    "             date_name = \"date\",\n",
    "             visit_name = \"MBI\",\n",
    "             icd_name = \"DIAG\"\n",
    "            )\n",
    "hcc_diag_2014=comorbid_hcc(as.data.frame(diag_2014),\n",
    "             date_name = \"date\",\n",
    "             visit_name = \"MBI\",\n",
    "             icd_name = \"DIAG\"\n",
    "            )\n",
    "hcc_diag_2015=comorbid_hcc(as.data.frame(diag_2015),\n",
    "             date_name = \"date\",\n",
    "             visit_name = \"MBI\",\n",
    "             icd_name = \"DIAG\"\n",
    "            )\n",
    "hcc_diag_2016=comorbid_hcc(as.data.frame(diag_2016),\n",
    "             date_name = \"date\",\n",
    "             visit_name = \"MBI\",\n",
    "             icd_name = \"DIAG\"\n",
    "            )\n",
    "hcc_diag_2017=comorbid_hcc(as.data.frame(diag_2017),\n",
    "             date_name = \"date\",\n",
    "             visit_name = \"MBI\",\n",
    "             icd_name = \"DIAG\"\n",
    "            )\n",
    "hcc_diag_2018=comorbid_hcc(as.data.frame(diag_2018),\n",
    "             date_name = \"date\",\n",
    "             visit_name = \"MBI\",\n",
    "             icd_name = \"DIAG\"\n",
    "            )\n",
    "hcc_diag_2019=comorbid_hcc(as.data.frame(diag_2019),\n",
    "             date_name = \"date\",\n",
    "             visit_name = \"MBI\",\n",
    "             icd_name = \"DIAG\"\n",
    "            )\n",
    "hcc_diag_2020=comorbid_hcc(as.data.frame(diag_2020),\n",
    "             date_name = \"date\",\n",
    "             visit_name = \"MBI\",\n",
    "             icd_name = \"DIAG\"\n",
    "            )"
   ]
  },
  {
   "cell_type": "code",
   "execution_count": null,
   "id": "7fbb6193-5e59-41b4-b855-392a450020ac",
   "metadata": {
    "tags": [],
    "vscode": {
     "languageId": "r"
    }
   },
   "outputs": [],
   "source": [
    "hcc_diag_2013=vroom(\"/work/postresearch/Shared/Projects/Farbod/hcc_data/hcc_diag_2013.csv\",num_threads = numcores)%>%as.data.table()\n",
    "hcc_diag_2014=vroom(\"/work/postresearch/Shared/Projects/Farbod/hcc_data/hcc_diag_2014.csv\",num_threads = numcores)%>%as.data.table()\n",
    "hcc_diag_2015=vroom(\"/work/postresearch/Shared/Projects/Farbod/hcc_data/hcc_diag_2015.csv\",num_threads = numcores)%>%as.data.table()\n",
    "hcc_diag_2016=vroom(\"/work/postresearch/Shared/Projects/Farbod/hcc_data/hcc_diag_2016.csv\",num_threads = numcores)%>%as.data.table()\n",
    "hcc_diag_2017=vroom(\"/work/postresearch/Shared/Projects/Farbod/hcc_data/hcc_diag_2017.csv\",num_threads = numcores)%>%as.data.table()\n",
    "hcc_diag_2018=vroom(\"/work/postresearch/Shared/Projects/Farbod/hcc_data/hcc_diag_2018.csv\",num_threads = numcores)%>%as.data.table()\n",
    "hcc_diag_2019=vroom(\"/work/postresearch/Shared/Projects/Farbod/hcc_data/hcc_diag_2019.csv\",num_threads = numcores)%>%as.data.table()\n",
    "hcc_diag_2020=vroom(\"/work/postresearch/Shared/Projects/Farbod/hcc_data/hcc_diag_2020.csv\",num_threads = numcores)%>%as.data.table()"
   ]
  },
  {
   "cell_type": "code",
   "execution_count": null,
   "id": "003d4e9a-fb2c-4d1b-8d53-0a38769a028a",
   "metadata": {
    "vscode": {
     "languageId": "r"
    }
   },
   "outputs": [],
   "source": [
    "hcc_diag_2013=hcc_diag_2013[,.(MBI=as.factor(MBI),hcc)]\n",
    "hcc_diag_2014=hcc_diag_2014[,.(MBI=as.factor(MBI),hcc)]\n",
    "hcc_diag_2015=hcc_diag_2015[,.(MBI=as.factor(MBI),hcc)]\n",
    "hcc_diag_2016=hcc_diag_2016[,.(MBI=as.factor(MBI),hcc)]\n",
    "hcc_diag_2017=hcc_diag_2017[,.(MBI=as.factor(MBI),hcc)]\n",
    "hcc_diag_2018=hcc_diag_2018[,.(MBI=as.factor(MBI),hcc)]\n",
    "hcc_diag_2019=hcc_diag_2019[,.(MBI=as.factor(MBI),hcc)]\n",
    "hcc_diag_2020=hcc_diag_2020[,.(MBI=as.factor(MBI),hcc)]"
   ]
  },
  {
   "cell_type": "code",
   "execution_count": null,
   "id": "1709ba23-2e86-4881-9372-0fd1f12fea86",
   "metadata": {
    "vscode": {
     "languageId": "r"
    }
   },
   "outputs": [],
   "source": [
    "hcc_diag_2013[MBI==100000015]\n",
    "hcc_diag_2015[MBI==100000015]\n",
    "hcc_diag_2020[MBI==100000015]"
   ]
  },
  {
   "cell_type": "code",
   "execution_count": null,
   "id": "78e338b1-a666-4c8f-9471-2495e0723842",
   "metadata": {
    "tags": [],
    "vscode": {
     "languageId": "r"
    }
   },
   "outputs": [],
   "source": [
    "hcc_diag_2013_wide = dcast(hcc_diag_2013,MBI~hcc,length)\n",
    "hcc_diag_2014_wide = dcast(hcc_diag_2014,MBI~hcc,length)\n",
    "hcc_diag_2015_wide = dcast(hcc_diag_2015,MBI~hcc,length)\n",
    "hcc_diag_2016_wide = dcast(hcc_diag_2016,MBI~hcc,length)\n",
    "hcc_diag_2017_wide = dcast(hcc_diag_2017,MBI~hcc,length)\n",
    "hcc_diag_2018_wide = dcast(hcc_diag_2018,MBI~hcc,length)\n",
    "hcc_diag_2019_wide = dcast(hcc_diag_2019,MBI~hcc,length)\n",
    "hcc_diag_2020_wide = dcast(hcc_diag_2020,MBI~hcc,length)"
   ]
  },
  {
   "cell_type": "code",
   "execution_count": null,
   "id": "211e5b2b-3e93-4b35-84ce-0d84e9d9ef03",
   "metadata": {
    "vscode": {
     "languageId": "r"
    }
   },
   "outputs": [],
   "source": [
    "hcc_diag_2013_wide[MBI==100000015]\n",
    "hcc_diag_2015_wide[MBI==100000015]\n",
    "hcc_diag_2020_wide[MBI==100000015]"
   ]
  },
  {
   "cell_type": "code",
   "execution_count": null,
   "id": "e38afadb-5676-4736-9399-c4c0df1a3315",
   "metadata": {
    "vscode": {
     "languageId": "r"
    }
   },
   "outputs": [],
   "source": [
    "head(hcc_diag_2013_wide)\n",
    "head(hcc_diag_2020_wide)"
   ]
  },
  {
   "cell_type": "code",
   "execution_count": null,
   "id": "16231f9f-b284-4a15-a4fe-085072e160e4",
   "metadata": {
    "vscode": {
     "languageId": "r"
    }
   },
   "outputs": [],
   "source": [
    "write.csv(hcc_diag_2013_wide,\"/work/postresearch/Shared/Projects/Farbod/hcc_data/wide_results/hcc_diag_2013_wide.csv\")\n",
    "write.csv(hcc_diag_2014_wide,\"/work/postresearch/Shared/Projects/Farbod/hcc_data/wide_results/hcc_diag_2014_wide.csv\")\n",
    "write.csv(hcc_diag_2015_wide,\"/work/postresearch/Shared/Projects/Farbod/hcc_data/wide_results/hcc_diag_2015_wide.csv\")\n",
    "write.csv(hcc_diag_2016_wide,\"/work/postresearch/Shared/Projects/Farbod/hcc_data/wide_results/hcc_diag_2016_wide.csv\")\n",
    "write.csv(hcc_diag_2017_wide,\"/work/postresearch/Shared/Projects/Farbod/hcc_data/wide_results/hcc_diag_2017_wide.csv\")\n",
    "write.csv(hcc_diag_2018_wide,\"/work/postresearch/Shared/Projects/Farbod/hcc_data/wide_results/hcc_diag_2018_wide.csv\")\n",
    "write.csv(hcc_diag_2019_wide,\"/work/postresearch/Shared/Projects/Farbod/hcc_data/wide_results/hcc_diag_2019_wide.csv\")\n",
    "write.csv(hcc_diag_2020_wide,\"/work/postresearch/Shared/Projects/Farbod/hcc_data/wide_results/hcc_diag_2020_wide.csv\")"
   ]
  },
  {
   "cell_type": "markdown",
   "id": "64d18bba-6fb2-4368-94a9-9fbe1647112d",
   "metadata": {},
   "source": [
    "## Adding to the stable angina file"
   ]
  },
  {
   "cell_type": "code",
   "execution_count": null,
   "id": "52608db7-d5d7-4f8b-9a6a-05fe903c46df",
   "metadata": {
    "collapsed": true,
    "jupyter": {
     "outputs_hidden": true
    },
    "tags": [],
    "vscode": {
     "languageId": "r"
    }
   },
   "outputs": [],
   "source": [
    "hcc_diag_2013_wide=vroom(\"/work/postresearch/Shared/Projects/Farbod/hcc_data/wide_results/hcc_diag_2013_wide.csv\",num_threads = numcores)%>%as.data.table()\n",
    "hcc_diag_2014_wide=vroom(\"/work/postresearch/Shared/Projects/Farbod/hcc_data/wide_results/hcc_diag_2014_wide.csv\",num_threads = numcores)%>%as.data.table()\n",
    "hcc_diag_2015_wide=vroom(\"/work/postresearch/Shared/Projects/Farbod/hcc_data/wide_results/hcc_diag_2015_wide.csv\",num_threads = numcores)%>%as.data.table()\n",
    "hcc_diag_2016_wide=vroom(\"/work/postresearch/Shared/Projects/Farbod/hcc_data/wide_results/hcc_diag_2016_wide.csv\",num_threads = numcores)%>%as.data.table()\n",
    "hcc_diag_2017_wide=vroom(\"/work/postresearch/Shared/Projects/Farbod/hcc_data/wide_results/hcc_diag_2017_wide.csv\",num_threads = numcores)%>%as.data.table()\n",
    "hcc_diag_2018_wide=vroom(\"/work/postresearch/Shared/Projects/Farbod/hcc_data/wide_results/hcc_diag_2018_wide.csv\",num_threads = numcores)%>%as.data.table()\n",
    "hcc_diag_2019_wide=vroom(\"/work/postresearch/Shared/Projects/Farbod/hcc_data/wide_results/hcc_diag_2019_wide.csv\",num_threads = numcores)%>%as.data.table()\n",
    "hcc_diag_2020_wide=vroom(\"/work/postresearch/Shared/Projects/Farbod/hcc_data/wide_results/hcc_diag_2020_wide.csv\",num_threads = numcores)%>%as.data.table()"
   ]
  },
  {
   "cell_type": "code",
   "execution_count": null,
   "id": "30797d14-291d-42cb-859a-45773a383db3",
   "metadata": {
    "collapsed": true,
    "jupyter": {
     "outputs_hidden": true
    },
    "tags": [],
    "vscode": {
     "languageId": "r"
    }
   },
   "outputs": [],
   "source": [
    "yearly_calculations=vroom(\"yearly_calculations_with_tin.csv\",num_threads = numcores)%>%as.data.table()"
   ]
  },
  {
   "cell_type": "code",
   "execution_count": null,
   "id": "1f3a7fe4-fae3-4de0-a822-5ea971ad111f",
   "metadata": {
    "vscode": {
     "languageId": "r"
    }
   },
   "outputs": [],
   "source": [
    "hcc_diag_2013_wide[,year:=2013]\n",
    "hcc_diag_2014_wide[,year:=2014]\n",
    "hcc_diag_2015_wide[,year:=2015]\n",
    "hcc_diag_2016_wide[,year:=2016]\n",
    "hcc_diag_2017_wide[,year:=2017]\n",
    "hcc_diag_2018_wide[,year:=2018]\n",
    "hcc_diag_2019_wide[,year:=2019]\n",
    "hcc_diag_2020_wide[,year:=2020]"
   ]
  },
  {
   "cell_type": "code",
   "execution_count": null,
   "id": "d4f26ac9-f7ff-4bfc-989f-4973063fe74a",
   "metadata": {
    "vscode": {
     "languageId": "r"
    }
   },
   "outputs": [],
   "source": [
    "head(hcc_diag_2013_wide)"
   ]
  },
  {
   "cell_type": "code",
   "execution_count": null,
   "id": "ba1aa2e1-ace5-4eda-9f0a-89d6a6ea4379",
   "metadata": {
    "vscode": {
     "languageId": "r"
    }
   },
   "outputs": [],
   "source": [
    "hcc_diag_all_years=\n",
    "rbind(hcc_diag_2013_wide,\n",
    "      hcc_diag_2014_wide,\n",
    "      hcc_diag_2015_wide,\n",
    "      hcc_diag_2016_wide,\n",
    "      hcc_diag_2017_wide,\n",
    "      hcc_diag_2018_wide,\n",
    "      hcc_diag_2019_wide,\n",
    "      hcc_diag_2020_wide,fill=T)"
   ]
  },
  {
   "cell_type": "code",
   "execution_count": null,
   "id": "4faef4e8-4923-4629-8f97-1f53f298095d",
   "metadata": {
    "vscode": {
     "languageId": "r"
    }
   },
   "outputs": [],
   "source": [
    "colnames(hcc_diag_all_years)[-2]=paste(\"hcc\",colnames(hcc_diag_all_years)[-2],sep=\"\")"
   ]
  },
  {
   "cell_type": "code",
   "execution_count": null,
   "id": "54b1a09c-5065-461d-9129-4e11385679e3",
   "metadata": {
    "vscode": {
     "languageId": "r"
    }
   },
   "outputs": [],
   "source": [
    "hcc_diag_all_years[is.na(hcc_diag_all_years)]<-0\n",
    "hcc_diag_all_years=hcc_diag_all_years[,-1]"
   ]
  },
  {
   "cell_type": "code",
   "execution_count": null,
   "id": "9640b9d3-1fc0-4575-ae98-3d2a3f740066",
   "metadata": {
    "vscode": {
     "languageId": "r"
    }
   },
   "outputs": [],
   "source": [
    "tail(hcc_diag_all_years)"
   ]
  },
  {
   "cell_type": "code",
   "execution_count": null,
   "id": "2829e3e7-dd99-4b18-ab04-51a4ec2e95e0",
   "metadata": {
    "vscode": {
     "languageId": "r"
    }
   },
   "outputs": [],
   "source": [
    "yearly_calculations[,year_before_diagnosis:=year_first_diagnosed-1]\n",
    "head(yearly_calculations)"
   ]
  },
  {
   "cell_type": "code",
   "execution_count": null,
   "id": "672f7124-120d-488f-8aa5-994f7436708f",
   "metadata": {
    "tags": [],
    "vscode": {
     "languageId": "r"
    }
   },
   "outputs": [],
   "source": [
    "yearly_calculations_with_diag=left_join(yearly_calculations,hcc_diag_all_years,by=c(\"DESY_SORT_KEY\"=\"MBI\",\"year_before_diagnosis\"=\"hccyear\" ))%>%as.data.table()"
   ]
  },
  {
   "cell_type": "code",
   "execution_count": null,
   "id": "9fe4b562-198d-4fb3-aa37-3a4587f9e979",
   "metadata": {
    "vscode": {
     "languageId": "r"
    }
   },
   "outputs": [],
   "source": [
    "yearly_calculations_with_diag=yearly_calculations_with_diag[,-c(\"...1\",\"X\")]"
   ]
  },
  {
   "cell_type": "code",
   "execution_count": null,
   "id": "63257349-ba24-4d3b-ba95-582c2a2c4f28",
   "metadata": {
    "vscode": {
     "languageId": "r"
    }
   },
   "outputs": [],
   "source": [
    "head(yearly_calculations_with_diag)"
   ]
  },
  {
   "cell_type": "code",
   "execution_count": null,
   "id": "290faa1a-179b-4963-afd7-ee82abde08c2",
   "metadata": {
    "vscode": {
     "languageId": "r"
    }
   },
   "outputs": [],
   "source": [
    "write.csv(yearly_calculations_with_diag,\"yearly_calculations_with_diag.csv\")"
   ]
  },
  {
   "cell_type": "markdown",
   "id": "817acfac-aff9-492d-b5b5-1498aeb153da",
   "metadata": {},
   "source": [
    "# Adding last year's part A and part B coverage"
   ]
  },
  {
   "cell_type": "code",
   "execution_count": null,
   "id": "2aed78e8-e512-4673-a55a-2f67e60b7dd6",
   "metadata": {
    "vscode": {
     "languageId": "r"
    }
   },
   "outputs": [],
   "source": [
    "yearly_calculations_with_diag=vroom(\"yearly_calculations_with_diag.csv\",num_threads = numcores)%>%as.data.table()\n"
   ]
  },
  {
   "cell_type": "code",
   "execution_count": null,
   "id": "fdec79a0-5cf6-40f0-b0fb-d94f05d7f72d",
   "metadata": {
    "vscode": {
     "languageId": "r"
    }
   },
   "outputs": [],
   "source": [
    "yearly_calculations_with_diag[,date_year_before_diagnosis:=(first_diagnosis-365)]\n",
    "head(yearly_calculations_with_diag)"
   ]
  },
  {
   "cell_type": "code",
   "execution_count": null,
   "id": "09e8b137-5ac4-4355-b5a3-9714bbe38597",
   "metadata": {
    "pycharm": {
     "name": "#%%\n"
    },
    "tags": [],
    "vscode": {
     "languageId": "r"
    }
   },
   "outputs": [],
   "source": [
    "twelve_months_after=function(data,colname){\n",
    "\n",
    "  z=foreach (p = 1:nrow(data), .combine = rbind) %:%\n",
    "      foreach (a = 0:11, .combine = cbind) %dopar% {\n",
    "        paste(colname,\n",
    "              format(data[p,\"date_year_before_diagnosis\"] %m+% months(a),\"%m\"),\"_\",\n",
    "              format(data[p,\"date_year_before_diagnosis\"] %m+% months(a),\"%Y\"),sep=\"\")\n",
    "      }\n",
    "  \n",
    "  y=foreach(p = 1:nrow(data), .combine = rbind) %:%\n",
    "      foreach (a = 0:11, .combine = cbind) %dopar% {\n",
    "        as.numeric(format(data[p,\"date_year_before_diagnosis\"] %m+% months(a),\"%Y\"))\n",
    "      }\n",
    "\n",
    "  return(list(z,y))\n",
    "}\n",
    "\n",
    "monthly_characteristics_finder=function(data,colname){\n",
    "  \n",
    "  require(dtplyr)\n",
    "  require(tidyverse)\n",
    "\n",
    "  z=twelve_months_after(data,colname)[[1]] \n",
    "  y=twelve_months_after(data,colname)[[2]] \n",
    "  \n",
    "  result = foreach (p = 1:nrow(data), .combine = rbind) %:%\n",
    "      foreach (i = 1:12, .combine = cbind) %dopar% {\n",
    "        if(y[p,i]>=2013){\n",
    "          a=as.character(z[p,i])\n",
    "          b=data[p,a]\n",
    "        }\n",
    "        else{\n",
    "          b=NA\n",
    "        }\n",
    "        b\n",
    "      }\n",
    "  return(result)\n",
    "}\n",
    "\n",
    "add_patient_characteristics = function(data){\n",
    "  \n",
    "  require(dtplyr)\n",
    "  require(lubridate)\n",
    "  require(tidyverse)\n",
    "  \n",
    "  result=data%>%\n",
    "    mutate(   \n",
    "      year_before_ENTITLEMENT_BUY_IN_IND_sum=\n",
    "      rowSums(monthly_characteristics_finder(data,\"ENTITLEMENT_BUY_IN_IND\")==3 \n",
    "              | monthly_characteristics_finder(data,\"ENTITLEMENT_BUY_IN_IND\")==\"C\"\n",
    "              ,na.rm=T)\n",
    "          ) %>% \n",
    "  as.data.table()\n",
    "  \n",
    "  return(result)\n",
    "}\n",
    "\n",
    "\n",
    "data_with_part_a_b=add_patient_characteristics(yearly_calculations_with_diag%>%as.data.frame())\n",
    "head(data_with_part_a_b)"
   ]
  },
  {
   "cell_type": "code",
   "execution_count": null,
   "id": "d1f2062d-1e9e-4e96-836b-38f47a19483d",
   "metadata": {
    "vscode": {
     "languageId": "r"
    }
   },
   "outputs": [],
   "source": [
    "nrow(data_with_part_a_b[year_before_ENTITLEMENT_BUY_IN_IND_sum!=12])"
   ]
  },
  {
   "cell_type": "code",
   "execution_count": null,
   "id": "c58944cf-2f3e-40a8-b6b8-9228dbb80a7b",
   "metadata": {
    "vscode": {
     "languageId": "r"
    }
   },
   "outputs": [],
   "source": [
    "write.csv(data_with_part_a_b,\"yearly_calculations_with_part_a_b.csv\")"
   ]
  },
  {
   "cell_type": "markdown",
   "id": "ac028884-c246-4e51-9c8b-e4e7e86dadb8",
   "metadata": {
    "tags": []
   },
   "source": [
    "# For person file"
   ]
  },
  {
   "cell_type": "code",
   "execution_count": null,
   "id": "0274bba1-e7f5-4f11-a6a6-dc14781a721a",
   "metadata": {
    "collapsed": true,
    "jupyter": {
     "outputs_hidden": true
    },
    "tags": [],
    "vscode": {
     "languageId": "r"
    }
   },
   "outputs": [],
   "source": [
    "mbsf_2013=vroom(file=\"/work/postresearch/Shared/Data_raw/Medicare/Claims/MBSF/den_saf_lds_5_2013.csv\" , num_threads = numcores) %>% as.data.table\n",
    "mbsf_2014=vroom(file=\"/work/postresearch/Shared/Data_raw/Medicare/Claims/MBSF/den_saf_lds_5_2014.csv\" , num_threads = numcores) %>% as.data.table\n",
    "mbsf_2015=vroom(file=\"/work/postresearch/Shared/Data_raw/Medicare/Claims/MBSF/den_saf_lds_5_2015.csv\" , num_threads = numcores) %>% as.data.table\n",
    "mbsf_2016=vroom(file=\"/work/postresearch/Shared/Data_raw/Medicare/Claims/MBSF/mbsf_lds_5_2016.csv\" , num_threads = numcores) %>% as.data.table\n",
    "mbsf_2017=vroom(file=\"/work/postresearch/Shared/Data_raw/Medicare/Claims/MBSF/mbsf_lds_5_2017.csv\" , num_threads = numcores) %>% as.data.table\n",
    "mbsf_2018=vroom(file=\"/work/postresearch/Shared/Data_raw/Medicare/Claims/MBSF/mbsf_lds_5_2018.csv\" , num_threads = numcores) %>% as.data.table\n",
    "mbsf_2019=vroom(file=\"/work/postresearch/Shared/Data_raw/Medicare/Claims/MBSF/mbsf_lds_5_2019.csv\" , num_threads = numcores) %>% as.data.table\n",
    "mbsf_2020=vroom(file=\"/work/postresearch/Shared/Data_raw/Medicare/Claims/MBSF/mbsf_lds_5_2020.csv\" , num_threads = numcores) %>% as.data.table\n"
   ]
  },
  {
   "cell_type": "code",
   "execution_count": null,
   "id": "60471bf1-306d-4583-848d-9b55d7d96203",
   "metadata": {
    "vscode": {
     "languageId": "r"
    }
   },
   "outputs": [],
   "source": [
    "mbsf_colnames_2013_2015=c(\"DESY_SORT_KEY\",\"STATE_CODE\",\"COUNTY_CODE\",\"SEX_CODE\",\"RACE_CODE\",\"AGE\",\"ORIG_REASON_FOR_ENTITLEMENT\",\"CURR_REASON_FOR_ENTITLEMENT\",\"ESRD_INDICATOR\",\"MEDICARE_STATUS_CD\",\"PART_A_TERMINATION_CODE\",\"PART_B_TERMINATION_CODE\",\"ENTITLEMENT_BUY_IN_IND01\",\"ENTITLEMENT_BUY_IN_IND02\",\"ENTITLEMENT_BUY_IN_IND03\",\"ENTITLEMENT_BUY_IN_IND04\",\"ENTITLEMENT_BUY_IN_IND05\",\"ENTITLEMENT_BUY_IN_IND06\",\"ENTITLEMENT_BUY_IN_IND07\",\"ENTITLEMENT_BUY_IN_IND08\",\"ENTITLEMENT_BUY_IN_IND09\",\"ENTITLEMENT_BUY_IN_IND10\",\"ENTITLEMENT_BUY_IN_IND11\",\"ENTITLEMENT_BUY_IN_IND12\",\"HMO_INDICATOR01\",\"HMO_INDICATOR02\",\"HMO_INDICATOR03\",\"HMO_INDICATOR04\",\"HMO_INDICATOR05\",\"HMO_INDICATOR06\",\"HMO_INDICATOR07\",\"HMO_INDICATOR08\",\"HMO_INDICATOR09\",\"HMO_INDICATOR10\",\"HMO_INDICATOR11\",\"HMO_INDICATOR12\",\"HI_COVERAGE\",\"SMI_COVERAGE\",\"HMO_COVERAGE\",\"STATE_BUY_IN_COVERAGE\",\"VALID_DATE_OF_DEATH_SWITCH\",\"DATE_OF_DEATH\",\"REFERENCE_YEAR\")\n",
    "\n",
    "mbsf_colnames_2016_2020=c(\"DESY_SORT_KEY\",\"REFERENCE_YEAR\",\"SAMPLE_GROUP\",\"STATE_CODE\",\"COUNTY_CODE\",\"STATE_CNTY_FIPS_CD_01\",\"STATE_CNTY_FIPS_CD_02\",\"STATE_CNTY_FIPS_CD_03\",\"STATE_CNTY_FIPS_CD_04\",\"STATE_CNTY_FIPS_CD_05\",\"STATE_CNTY_FIPS_CD_06\",\"STATE_CNTY_FIPS_CD_07\",\"STATE_CNTY_FIPS_CD_08\",\"STATE_CNTY_FIPS_CD_09\",\"STATE_CNTY_FIPS_CD_10\",\"STATE_CNTY_FIPS_CD_11\",\"STATE_CNTY_FIPS_CD_12\",\"SEX_CODE\",\"RACE_CODE\",\"AGE\",\"ORIG_REASON_FOR_ENTITLEMENT\",\"CURR_REASON_FOR_ENTITLEMENT\",\"ESRD_INDICATOR\",\"MDCR_STATUS_CODE_01\",\"MDCR_STATUS_CODE_02\",\"MDCR_STATUS_CODE_03\",\"MDCR_STATUS_CODE_04\",\"MDCR_STATUS_CODE_05\",\"MDCR_STATUS_CODE_06\",\"MDCR_STATUS_CODE_07\",\"MDCR_STATUS_CODE_08\",\"MDCR_STATUS_CODE_09\",\"MDCR_STATUS_CODE_10\",\"MDCR_STATUS_CODE_11\",\"MDCR_STATUS_CODE_12\",\"PART_A_TERMINATION_CODE\",\"PART_B_TERMINATION_CODE\",\"ENTITLEMENT_BUY_IN_IND01\",\"ENTITLEMENT_BUY_IN_IND02\",\"ENTITLEMENT_BUY_IN_IND03\",\"ENTITLEMENT_BUY_IN_IND04\",\"ENTITLEMENT_BUY_IN_IND05\",\"ENTITLEMENT_BUY_IN_IND06\",\"ENTITLEMENT_BUY_IN_IND07\",\"ENTITLEMENT_BUY_IN_IND08\",\"ENTITLEMENT_BUY_IN_IND09\",\"ENTITLEMENT_BUY_IN_IND10\",\"ENTITLEMENT_BUY_IN_IND11\",\"ENTITLEMENT_BUY_IN_IND12\",\"HMO_INDICATOR01\",\"HMO_INDICATOR02\",\"HMO_INDICATOR03\",\"HMO_INDICATOR04\",\"HMO_INDICATOR05\",\"HMO_INDICATOR06\",\"HMO_INDICATOR07\",\"HMO_INDICATOR08\",\"HMO_INDICATOR09\",\"HMO_INDICATOR10\",\"HMO_INDICATOR11\",\"HMO_INDICATOR12\",\"HI_COVERAGE\",\"SMI_COVERAGE\",\"HMO_COVERAGE\",\"STATE_BUY_IN_COVERAGE\",\"VALID_DATE_OF_DEATH_SWITCH\",\"DATE_OF_DEATH\",\"DUAL_STUS_CD_01\",\"DUAL_STUS_CD_02\",\"DUAL_STUS_CD_03\",\"DUAL_STUS_CD_04\",\"DUAL_STUS_CD_05\",\"DUAL_STUS_CD_06\",\"DUAL_STUS_CD_07\",\"DUAL_STUS_CD_08\",\"DUAL_STUS_CD_09\",\"DUAL_STUS_CD_10\",\"DUAL_STUS_CD_11\",\"DUAL_STUS_CD_12\")\n",
    "\n",
    "\n",
    "colnames(mbsf_2013)=mbsf_colnames_2013_2015\n",
    "colnames(mbsf_2014)=mbsf_colnames_2013_2015\n",
    "colnames(mbsf_2015)=mbsf_colnames_2013_2015\n",
    "colnames(mbsf_2016)=mbsf_colnames_2016_2020\n",
    "colnames(mbsf_2017)=mbsf_colnames_2016_2020\n",
    "colnames(mbsf_2018)=mbsf_colnames_2016_2020\n",
    "colnames(mbsf_2019)=mbsf_colnames_2016_2020\n",
    "colnames(mbsf_2020)=mbsf_colnames_2016_2020"
   ]
  },
  {
   "cell_type": "code",
   "execution_count": null,
   "id": "029adbbd-be83-44de-ac21-831e7d5b6ebe",
   "metadata": {
    "vscode": {
     "languageId": "r"
    }
   },
   "outputs": [],
   "source": [
    "mbsf_colnames_2013_2015"
   ]
  },
  {
   "cell_type": "code",
   "execution_count": null,
   "id": "c1188d88-1d27-43cd-92f5-cf3728693f47",
   "metadata": {
    "vscode": {
     "languageId": "r"
    }
   },
   "outputs": [],
   "source": [
    "head(mbsf_2013)\n",
    "head(mbsf_2020)\n",
    "\n",
    "nrow(mbsf_2013)\n",
    "nrow(mbsf_2020)\n"
   ]
  },
  {
   "cell_type": "code",
   "execution_count": null,
   "id": "653600d2-9a24-4f99-9d18-96ce1521a664",
   "metadata": {
    "vscode": {
     "languageId": "r"
    }
   },
   "outputs": [],
   "source": [
    "create_person_file_2013_2015=function(mbsf_data){\n",
    "    \n",
    "    result=mbsf_data[,\n",
    "          .(\n",
    "              MBI=DESY_SORT_KEY,\n",
    "              SEX=SEX_CODE,\n",
    "              DOB=as.IDate(paste(\n",
    "                  as.character(REFERENCE_YEAR-AGE),\"-01\",\"-01\",sep=\"\")\n",
    "                       ,\"%Y-%m-%d\"),\n",
    "              OREC=ORIG_REASON_FOR_ENTITLEMENT,\n",
    "              LTIMCAID=0,\n",
    "              NEMCAID=0\n",
    "          ),keyby=DESY_SORT_KEY\n",
    "         ]\n",
    "    \n",
    "    result=result[order(MBI)]\n",
    "    return(result)\n",
    "}\n",
    "\n",
    "create_person_file_2016_2020=function(mbsf_data){\n",
    "    \n",
    "    result=mbsf_data[,\n",
    "          .(\n",
    "              MBI=DESY_SORT_KEY,\n",
    "              SEX=SEX_CODE,\n",
    "              DOB=as.IDate(paste(\n",
    "                  as.character(REFERENCE_YEAR-AGE),\"-01\",\"-01\",sep=\"\")\n",
    "                       ,\"%Y-%m-%d\"),\n",
    "              OREC=ORIG_REASON_FOR_ENTITLEMENT,\n",
    "              LTIMCAID=(sum(\n",
    "                  DUAL_STUS_CD_01 %in% c('02','04','08'),\n",
    "                  DUAL_STUS_CD_02 %in% c('02','04','08'),\n",
    "                  DUAL_STUS_CD_03 %in% c('02','04','08'),\n",
    "                  DUAL_STUS_CD_04 %in% c('02','04','08'),\n",
    "                  DUAL_STUS_CD_05 %in% c('02','04','08'),\n",
    "                  DUAL_STUS_CD_06 %in% c('02','04','08'),\n",
    "                  DUAL_STUS_CD_07 %in% c('02','04','08'),\n",
    "                  DUAL_STUS_CD_08 %in% c('02','04','08'),\n",
    "                  DUAL_STUS_CD_09 %in% c('02','04','08'),\n",
    "                  DUAL_STUS_CD_10 %in% c('02','04','08'),\n",
    "                  DUAL_STUS_CD_11 %in% c('02','04','08'),\n",
    "                  DUAL_STUS_CD_12 %in% c('02','04','08'),na.rm=T\n",
    "              )>0)*1,\n",
    "              NEMCAID=0\n",
    "          ),keyby=DESY_SORT_KEY\n",
    "         ]\n",
    "    \n",
    "    result=result[order(MBI)]\n",
    "    return(result)\n",
    "}"
   ]
  },
  {
   "cell_type": "code",
   "execution_count": null,
   "id": "f35a2b4a-6280-41e5-b5f8-312e41f9d1f4",
   "metadata": {
    "vscode": {
     "languageId": "r"
    }
   },
   "outputs": [],
   "source": [
    "person_file_2013=create_person_file_2013_2015(mbsf_2013)\n",
    "person_file_2014=create_person_file_2013_2015(mbsf_2014)\n",
    "person_file_2015=create_person_file_2013_2015(mbsf_2015)\n",
    "person_file_2016=create_person_file_2016_2020(mbsf_2016)\n",
    "person_file_2017=create_person_file_2016_2020(mbsf_2017)\n",
    "person_file_2018=create_person_file_2016_2020(mbsf_2018)\n",
    "person_file_2019=create_person_file_2016_2020(mbsf_2019)\n",
    "person_file_2020=create_person_file_2016_2020(mbsf_2020)"
   ]
  },
  {
   "cell_type": "code",
   "execution_count": null,
   "id": "f16f552f-8896-4160-8e44-55da515fa5a3",
   "metadata": {
    "vscode": {
     "languageId": "r"
    }
   },
   "outputs": [],
   "source": [
    "write.csv(person_file_2013,\"/work/postresearch/Shared/Projects/Farbod/hcc_data/person_file_2013.csv\")\n",
    "write.csv(person_file_2014,\"/work/postresearch/Shared/Projects/Farbod/hcc_data/person_file_2014.csv\")\n",
    "write.csv(person_file_2015,\"/work/postresearch/Shared/Projects/Farbod/hcc_data/person_file_2015.csv\")\n",
    "write.csv(person_file_2016,\"/work/postresearch/Shared/Projects/Farbod/hcc_data/person_file_2016.csv\")\n",
    "write.csv(person_file_2017,\"/work/postresearch/Shared/Projects/Farbod/hcc_data/person_file_2017.csv\")\n",
    "write.csv(person_file_2018,\"/work/postresearch/Shared/Projects/Farbod/hcc_data/person_file_2018.csv\")\n",
    "write.csv(person_file_2019,\"/work/postresearch/Shared/Projects/Farbod/hcc_data/person_file_2019.csv\")\n",
    "write.csv(person_file_2020,\"/work/postresearch/Shared/Projects/Farbod/hcc_data/person_file_2020.csv\")"
   ]
  },
  {
   "cell_type": "markdown",
   "id": "d8ad8f9e-22c6-44d0-9280-fd1070e1b3aa",
   "metadata": {},
   "source": [
    "# Recalculating the Charlson scores using the majority of ICD9 or 10"
   ]
  },
  {
   "cell_type": "code",
   "execution_count": null,
   "id": "a3262812-acfd-4f55-bbd9-d9709aad84bc",
   "metadata": {
    "tags": [],
    "vscode": {
     "languageId": "r"
    }
   },
   "outputs": [],
   "source": [
    "diag_2013=vroom(\"/work/postresearch/Shared/Projects/Farbod/hcc_data/diag_2013.csv\", num_threads = numcores)%>% as.data.table()\n",
    "diag_2014=vroom(\"/work/postresearch/Shared/Projects/Farbod/hcc_data/diag_2014.csv\", num_threads = numcores)%>% as.data.table()\n",
    "diag_2015=vroom(\"/work/postresearch/Shared/Projects/Farbod/hcc_data/diag_2015.csv\", num_threads = numcores)%>% as.data.table()\n",
    "diag_2016=vroom(\"/work/postresearch/Shared/Projects/Farbod/hcc_data/diag_2016.csv\", num_threads = numcores)%>% as.data.table()\n",
    "diag_2017=vroom(\"/work/postresearch/Shared/Projects/Farbod/hcc_data/diag_2017.csv\", num_threads = numcores)%>% as.data.table()\n",
    "diag_2018=vroom(\"/work/postresearch/Shared/Projects/Farbod/hcc_data/diag_2018.csv\", num_threads = numcores)%>% as.data.table()\n",
    "diag_2019=vroom(\"/work/postresearch/Shared/Projects/Farbod/hcc_data/diag_2019.csv\", num_threads = numcores)%>% as.data.table()\n",
    "diag_2020=vroom(\"/work/postresearch/Shared/Projects/Farbod/hcc_data/diag_2020.csv\", num_threads = numcores)%>% as.data.table()"
   ]
  },
  {
   "cell_type": "code",
   "execution_count": null,
   "id": "4fad4b2d-a150-48d6-97a7-e3364915594d",
   "metadata": {
    "vscode": {
     "languageId": "r"
    }
   },
   "outputs": [],
   "source": [
    "diag_2013[,date:=as.IDate(paste(\"2013\",\"-01\",\"-01\",sep=\"\"),\"%Y-%m-%d\")]\n",
    "diag_2014[,date:=as.IDate(paste(\"2014\",\"-01\",\"-01\",sep=\"\"),\"%Y-%m-%d\")]\n",
    "diag_2015[,date:=as.IDate(paste(\"2015\",\"-01\",\"-01\",sep=\"\"),\"%Y-%m-%d\")]\n",
    "diag_2016[,date:=as.IDate(paste(\"2016\",\"-01\",\"-01\",sep=\"\"),\"%Y-%m-%d\")]\n",
    "diag_2017[,date:=as.IDate(paste(\"2017\",\"-01\",\"-01\",sep=\"\"),\"%Y-%m-%d\")]\n",
    "diag_2018[,date:=as.IDate(paste(\"2018\",\"-01\",\"-01\",sep=\"\"),\"%Y-%m-%d\")]\n",
    "diag_2019[,date:=as.IDate(paste(\"2019\",\"-01\",\"-01\",sep=\"\"),\"%Y-%m-%d\")]\n",
    "diag_2020[,date:=as.IDate(paste(\"2019\",\"-01\",\"-01\",sep=\"\"),\"%Y-%m-%d\")]"
   ]
  },
  {
   "cell_type": "code",
   "execution_count": null,
   "id": "0571e847-83dd-487d-bc74-25db0b44a71d",
   "metadata": {
    "vscode": {
     "languageId": "r"
    }
   },
   "outputs": [],
   "source": [
    "diag_2013[,MBI:=as.character(MBI)]\n",
    "diag_2014[,MBI:=as.character(MBI)]\n",
    "diag_2015[,MBI:=as.character(MBI)]\n",
    "diag_2016[,MBI:=as.character(MBI)]\n",
    "diag_2017[,MBI:=as.character(MBI)]\n",
    "diag_2018[,MBI:=as.character(MBI)]\n",
    "diag_2019[,MBI:=as.character(MBI)]\n",
    "diag_2020[,MBI:=as.character(MBI)]"
   ]
  },
  {
   "cell_type": "code",
   "execution_count": null,
   "id": "530eee68-eb61-4c41-8bf7-4192ac8497b9",
   "metadata": {
    "vscode": {
     "languageId": "r"
    }
   },
   "outputs": [],
   "source": [
    "head(diag_2013)\n",
    "tail(diag_2020)"
   ]
  },
  {
   "cell_type": "code",
   "execution_count": null,
   "id": "74c2f4db-8899-45b6-9ed9-a72a51b6e383",
   "metadata": {
    "pycharm": {
     "name": "#%%\n"
    },
    "tags": [],
    "vscode": {
     "languageId": "r"
    }
   },
   "outputs": [],
   "source": [
    "comorbidity_icd_9 = comorbidity(\n",
    "      as.data.table(comorbidity_icd_9),\n",
    "      id = \"DESY_SORT_KEY\",\n",
    "      code = \"LINE_ICD_DGNS_CD\",\n",
    "      score = \"charlson\",\n",
    "      icd = \"icd9\",\n",
    "      assign0 = T\n",
    "    )\n",
    "\n",
    "  \n",
    "comorbidity_icd_10 = comorbidity(\n",
    "      as.data.table(comorbidity_icd_10),\n",
    "      id = \"DESY_SORT_KEY\",\n",
    "      code = \"LINE_ICD_DGNS_CD\",\n",
    "      score = \"charlson\",\n",
    "      icd = \"icd10\",\n",
    "      assign0 = T\n",
    "    )\n",
    "\n",
    "comorbidity_all=rbind(\n",
    "    comorbidity_icd_9[,c(\"DESY_SORT_KEY\",\"score\",\"index\",\"wscore\",\"windex\")]\n",
    "    ,comorbidity_icd_10[,c(\"DESY_SORT_KEY\",\"score\",\"index\",\"wscore\",\"windex\")]\n",
    "  )\n",
    "  result = left_join(summary_data,\n",
    "                     comorbidity_all,\n",
    "                     by=\"DESY_SORT_KEY\",) %>% as.data.table()\n",
    "\n",
    "\n",
    "\n",
    "summary_with_patient_characteristics_comorbidity=add_comorbidity(data = carrier_data_all_years, summary_data = summary_with_patient_characteristics)\n",
    "head(summary_with_patient_characteristics_comorbidity)"
   ]
  },
  {
   "cell_type": "code",
   "execution_count": null,
   "id": "34beb019-8b06-4e81-a4aa-47f9336fb608",
   "metadata": {
    "vscode": {
     "languageId": "r"
    }
   },
   "outputs": [],
   "source": [
    "score(comorbidity(\n",
    "      x= as.data.table(diag_2013[MBI==100000015,]),\n",
    "      id = \"MBI\",\n",
    "      code = \"DIAG\",\n",
    "      map = \"charlson_icd9_quan\",\n",
    "      assign0 = T\n",
    "    ),assign0 = TRUE,weights=\"charlson\")"
   ]
  },
  {
   "cell_type": "code",
   "execution_count": null,
   "id": "1a9ae2a5-6fd5-476e-bb16-c0a2da4a3f7b",
   "metadata": {
    "vscode": {
     "languageId": "r"
    }
   },
   "outputs": [],
   "source": [
    "score(comorbidity(\n",
    "      x= as.data.table(diag_2015[MBI==100000015,]),\n",
    "      id = \"MBI\",\n",
    "      code = \"DIAG\",\n",
    "      map = \"charlson_icd9_quan\",\n",
    "      assign0 = T\n",
    "    ),assign0 = TRUE,weights=\"charlson\")"
   ]
  },
  {
   "cell_type": "code",
   "execution_count": null,
   "id": "cadec054-2cff-4327-9970-30e0114f9830",
   "metadata": {
    "vscode": {
     "languageId": "r"
    }
   },
   "outputs": [],
   "source": [
    "charlson_2013=\n",
    "comorbidity(\n",
    "    x= diag_2013,\n",
    "    id = \"MBI\",\n",
    "    code = \"DIAG\",\n",
    "    map = \"charlson_icd9_quan\",\n",
    "    assign0 = T\n",
    ")"
   ]
  },
  {
   "cell_type": "code",
   "execution_count": null,
   "id": "c4a8923e-b95b-4214-85e8-66bfbecd5f40",
   "metadata": {
    "vscode": {
     "languageId": "r"
    }
   },
   "outputs": [],
   "source": [
    "cbind(head(charlson_2013),wscore=score(head(charlson_2013),assign0 = TRUE,weights=\"charlson\"))"
   ]
  },
  {
   "cell_type": "code",
   "execution_count": null,
   "id": "c1586b7e-10c3-4ae9-a190-81ee4966e2de",
   "metadata": {
    "vscode": {
     "languageId": "r"
    }
   },
   "outputs": [],
   "source": [
    "charlson_2013=\n",
    "comorbidity(\n",
    "    x= diag_2013,\n",
    "    id = \"MBI\",\n",
    "    code = \"DIAG\",\n",
    "    map = \"charlson_icd9_quan\",\n",
    "    assign0 = T\n",
    ")\n",
    "\n",
    "charlson_2014=\n",
    "comorbidity(\n",
    "    x= diag_2014,\n",
    "    id = \"MBI\",\n",
    "    code = \"DIAG\",\n",
    "    map = \"charlson_icd9_quan\",\n",
    "    assign0 = T\n",
    ")\n",
    "\n",
    "charlson_2015=\n",
    "comorbidity(\n",
    "    x= diag_2015,\n",
    "    id = \"MBI\",\n",
    "    code = \"DIAG\",\n",
    "    map = \"charlson_icd9_quan\",\n",
    "    assign0 = T\n",
    ")\n",
    "\n",
    "charlson_2016=\n",
    "comorbidity(\n",
    "    x= diag_2016,\n",
    "    id = \"MBI\",\n",
    "    code = \"DIAG\",\n",
    "    map = \"charlson_icd10_quan\",\n",
    "    assign0 = T\n",
    ")\n",
    "\n",
    "charlson_2017=\n",
    "comorbidity(\n",
    "    x= diag_2017,\n",
    "    id = \"MBI\",\n",
    "    code = \"DIAG\",\n",
    "    map = \"charlson_icd10_quan\",\n",
    "    assign0 = T\n",
    ")\n",
    "\n",
    "charlson_2018=\n",
    "comorbidity(\n",
    "    x= diag_2018,\n",
    "    id = \"MBI\",\n",
    "    code = \"DIAG\",\n",
    "    map = \"charlson_icd10_quan\",\n",
    "    assign0 = T\n",
    ")\n",
    "\n",
    "charlson_2019=\n",
    "comorbidity(\n",
    "    x= diag_2019,\n",
    "    id = \"MBI\",\n",
    "    code = \"DIAG\",\n",
    "    map = \"charlson_icd10_quan\",\n",
    "    assign0 = T\n",
    ")\n",
    "\n",
    "charlson_2020=\n",
    "comorbidity(\n",
    "    x= diag_2020,\n",
    "    id = \"MBI\",\n",
    "    code = \"DIAG\",\n",
    "    map = \"charlson_icd10_quan\",\n",
    "    assign0 = T\n",
    ")\n"
   ]
  },
  {
   "cell_type": "code",
   "execution_count": null,
   "id": "9f7afed9-d941-4ccf-9e21-881299374945",
   "metadata": {
    "vscode": {
     "languageId": "r"
    }
   },
   "outputs": [],
   "source": [
    "wscore_2013=score(charlson_2013,assign0 = TRUE,weights=\"charlson\")\n",
    "wscore_2014=score(charlson_2014,assign0 = TRUE,weights=\"charlson\")\n",
    "wscore_2015=score(charlson_2015,assign0 = TRUE,weights=\"charlson\")\n",
    "wscore_2016=score(charlson_2016,assign0 = TRUE,weights=\"charlson\")\n",
    "wscore_2017=score(charlson_2017,assign0 = TRUE,weights=\"charlson\")\n",
    "wscore_2018=score(charlson_2018,assign0 = TRUE,weights=\"charlson\")\n",
    "wscore_2019=score(charlson_2019,assign0 = TRUE,weights=\"charlson\")\n",
    "wscore_2020=score(charlson_2020,assign0 = TRUE,weights=\"charlson\")"
   ]
  },
  {
   "cell_type": "code",
   "execution_count": null,
   "id": "b4c554b9-7293-44a9-a969-e09a34c23e1b",
   "metadata": {
    "vscode": {
     "languageId": "r"
    }
   },
   "outputs": [],
   "source": [
    "charlson_2013=cbind(charlson_2013,wscore_2013)%>%as.data.table()\n",
    "charlson_2014=cbind(charlson_2014,wscore_2014)%>%as.data.table()\n",
    "charlson_2015=cbind(charlson_2015,wscore_2015)%>%as.data.table()\n",
    "charlson_2016=cbind(charlson_2016,wscore_2016)%>%as.data.table()\n",
    "charlson_2017=cbind(charlson_2017,wscore_2017)%>%as.data.table()\n",
    "charlson_2018=cbind(charlson_2018,wscore_2018)%>%as.data.table()\n",
    "charlson_2019=cbind(charlson_2019,wscore_2019)%>%as.data.table()\n",
    "charlson_2020=cbind(charlson_2020,wscore_2020)%>%as.data.table()"
   ]
  },
  {
   "cell_type": "code",
   "execution_count": null,
   "id": "8571c9bf-828a-4e3a-a810-516c9d769e17",
   "metadata": {
    "vscode": {
     "languageId": "r"
    }
   },
   "outputs": [],
   "source": [
    "colnames(charlson_2013)[19]=\"wscore\"\n",
    "colnames(charlson_2014)[19]=\"wscore\"\n",
    "colnames(charlson_2015)[19]=\"wscore\"\n",
    "colnames(charlson_2016)[19]=\"wscore\"\n",
    "colnames(charlson_2017)[19]=\"wscore\"\n",
    "colnames(charlson_2018)[19]=\"wscore\"\n",
    "colnames(charlson_2019)[19]=\"wscore\"\n",
    "colnames(charlson_2020)[19]=\"wscore\""
   ]
  },
  {
   "cell_type": "code",
   "execution_count": null,
   "id": "0b4a8905-fc6a-4375-beb9-19f40da7a7b3",
   "metadata": {
    "vscode": {
     "languageId": "r"
    }
   },
   "outputs": [],
   "source": [
    "charlson_2013[,year:=2013]\n",
    "charlson_2014[,year:=2014]\n",
    "charlson_2015[,year:=2015]\n",
    "charlson_2016[,year:=2016]\n",
    "charlson_2017[,year:=2017]\n",
    "charlson_2018[,year:=2018]\n",
    "charlson_2019[,year:=2019]\n",
    "charlson_2020[,year:=2020]"
   ]
  },
  {
   "cell_type": "code",
   "execution_count": null,
   "id": "4348f1e3-f27e-4857-8d61-b3971ec739fa",
   "metadata": {
    "vscode": {
     "languageId": "r"
    }
   },
   "outputs": [],
   "source": [
    "head(charlson_2013)\n",
    "head(charlson_2015)\n",
    "head(charlson_2020)"
   ]
  },
  {
   "cell_type": "code",
   "execution_count": null,
   "id": "6d61a37a-6bcc-48c8-8a8e-5a37aa35e2a1",
   "metadata": {
    "tags": [],
    "vscode": {
     "languageId": "r"
    }
   },
   "outputs": [],
   "source": [
    "yearly_calculations=vroom(\"yearly_calculations_with_part_a_b.csv\",num_threads = numcores)%>%as.data.table()"
   ]
  },
  {
   "cell_type": "code",
   "execution_count": null,
   "id": "c444701a-b82c-48f7-b851-60e7cbac925e",
   "metadata": {
    "vscode": {
     "languageId": "r"
    }
   },
   "outputs": [],
   "source": [
    "charlson_all_years=\n",
    "rbind(charlson_2013,\n",
    "      charlson_2014,\n",
    "      charlson_2015,\n",
    "      charlson_2016,\n",
    "      charlson_2017,\n",
    "      charlson_2018,\n",
    "      charlson_2019,\n",
    "      charlson_2020,fill=T)"
   ]
  },
  {
   "cell_type": "code",
   "execution_count": null,
   "id": "136aa235-edb1-4c41-aac5-ad9700b2c0e2",
   "metadata": {
    "vscode": {
     "languageId": "r"
    }
   },
   "outputs": [],
   "source": [
    "yearly_calculations[,DESY_SORT_KEY:=as.character(DESY_SORT_KEY)]"
   ]
  },
  {
   "cell_type": "code",
   "execution_count": null,
   "id": "ad6b0101-20e2-478e-9115-e0a842b0d23e",
   "metadata": {
    "vscode": {
     "languageId": "r"
    }
   },
   "outputs": [],
   "source": [
    "colnames(yearly_calculations)[colnames(yearly_calculations)==\"wscore\"]=\"wscore_old\""
   ]
  },
  {
   "cell_type": "code",
   "execution_count": null,
   "id": "2fbdf7fc-2881-46dd-b975-601d422e3d39",
   "metadata": {
    "vscode": {
     "languageId": "r"
    }
   },
   "outputs": [],
   "source": [
    "head(yearly_calculations)"
   ]
  },
  {
   "cell_type": "code",
   "execution_count": null,
   "id": "f8474f5c-4a49-4a07-b449-c98559729378",
   "metadata": {
    "tags": [],
    "vscode": {
     "languageId": "r"
    }
   },
   "outputs": [],
   "source": [
    "yearly_calculations_with_charlson=left_join(yearly_calculations,charlson_all_years,by=c(\"DESY_SORT_KEY\"=\"MBI\",\"year_before_diagnosis\"=\"year\"))%>%as.data.table()"
   ]
  },
  {
   "cell_type": "code",
   "execution_count": null,
   "id": "d0905550-3ea4-40fd-ad52-cb5d01c4ef20",
   "metadata": {
    "vscode": {
     "languageId": "r"
    }
   },
   "outputs": [],
   "source": [
    "head(yearly_calculations_with_charlson)"
   ]
  },
  {
   "cell_type": "code",
   "execution_count": null,
   "id": "ace4dc6b-8b19-44f9-bb78-65c35cfda3d5",
   "metadata": {
    "vscode": {
     "languageId": "r"
    }
   },
   "outputs": [],
   "source": [
    "head(yearly_calculations_with_charlson[,.(DESY_SORT_KEY,wscore_old,wscore)])"
   ]
  },
  {
   "cell_type": "code",
   "execution_count": null,
   "id": "2fe48652-830a-4416-8480-105e8f61078e",
   "metadata": {
    "vscode": {
     "languageId": "r"
    }
   },
   "outputs": [],
   "source": [
    "yearly_calculations_with_charlson=yearly_calculations_with_charlson[,-c(\"...1\",\"...2\")]"
   ]
  },
  {
   "cell_type": "code",
   "execution_count": null,
   "id": "80add680-a5a6-4e09-b8b3-5d23bf24624c",
   "metadata": {
    "vscode": {
     "languageId": "r"
    }
   },
   "outputs": [],
   "source": [
    "write.csv(yearly_calculations_with_charlson,\"yearly_calculations_with_new_charlson.csv\")"
   ]
  },
  {
   "cell_type": "markdown",
   "id": "a42a56bb-5bba-4367-ac76-34750a88ec47",
   "metadata": {},
   "source": [
    "## year of diagnosis charlson"
   ]
  },
  {
   "cell_type": "code",
   "execution_count": null,
   "id": "52c0f765-16d4-4cf9-9fdb-3fedd55a8d04",
   "metadata": {
    "tags": [],
    "vscode": {
     "languageId": "r"
    }
   },
   "outputs": [],
   "source": [
    "yearly_calculations_with_charlson=left_join(yearly_calculations,charlson_all_years,by=c(\"DESY_SORT_KEY\"=\"MBI\",\"year_first_diagnosed\"=\"year\"))%>%as.data.table()"
   ]
  },
  {
   "cell_type": "code",
   "execution_count": null,
   "id": "f3ad0b79-2200-4c47-a98f-a2ebdabada56",
   "metadata": {
    "vscode": {
     "languageId": "r"
    }
   },
   "outputs": [],
   "source": [
    "head(yearly_calculations_with_charlson)"
   ]
  },
  {
   "cell_type": "code",
   "execution_count": null,
   "id": "cca957e5-6c14-46c2-a2bd-1c94ba207608",
   "metadata": {
    "vscode": {
     "languageId": "r"
    }
   },
   "outputs": [],
   "source": [
    "head(yearly_calculations_with_charlson[,.(DESY_SORT_KEY,wscore_old,wscore)],20)"
   ]
  },
  {
   "cell_type": "code",
   "execution_count": null,
   "id": "f2e420a2-d902-426c-8ac5-8fc30d45d895",
   "metadata": {
    "vscode": {
     "languageId": "r"
    }
   },
   "outputs": [],
   "source": [
    "yearly_calculations_with_charlson=yearly_calculations_with_charlson[,-c(\"...1\",\"...2\")]"
   ]
  },
  {
   "cell_type": "code",
   "execution_count": null,
   "id": "4eb51727-047e-4d36-8bc8-f2309af25dc4",
   "metadata": {
    "vscode": {
     "languageId": "r"
    }
   },
   "outputs": [],
   "source": [
    "write.csv(yearly_calculations_with_charlson,\"yearly_calculations_with_new_charlson_year_of_diagnosis.csv\")"
   ]
  },
  {
   "cell_type": "markdown",
   "id": "f650bf1e",
   "metadata": {},
   "source": [
    "# Testing"
   ]
  },
  {
   "cell_type": "code",
   "execution_count": 4,
   "id": "7c311dc6",
   "metadata": {
    "vscode": {
     "languageId": "r"
    }
   },
   "outputs": [],
   "source": [
    "yearly_data=read.csv(\"yearly_calculations_with_new_charlson_year_of_diagnosis.csv\")%>%as.data.table()"
   ]
  },
  {
   "cell_type": "code",
   "execution_count": 16,
   "id": "fde32aaa",
   "metadata": {
    "vscode": {
     "languageId": "r"
    }
   },
   "outputs": [
    {
     "data": {
      "text/html": [
       "<table class=\"dataframe\">\n",
       "<caption>A data.table: 6 × 704</caption>\n",
       "<thead>\n",
       "\t<tr><th scope=col>X</th><th scope=col>DESY_SORT_KEY</th><th scope=col>first_diagnosis</th><th scope=col>tot_allowed_carrier</th><th scope=col>office_visit_count</th><th scope=col>office_visit_cost_carrier</th><th scope=col>cardiology_visit_count</th><th scope=col>distinct_clinicians</th><th scope=col>distinct_cardiologists</th><th scope=col>distinct_primary_care_physicians</th><th scope=col>distinct_surgeons</th><th scope=col>distinct_other_specialties</th><th scope=col>catheterization_count</th><th scope=col>catheterization_cost_carrier</th><th scope=col>ecg_count</th><th scope=col>ecg_cost_carrier</th><th scope=col>cardiac_ct_count</th><th scope=col>cardiac_ct_cost_carrier</th><th scope=col>cardiac_mri_count</th><th scope=col>cardiac_mri_cost_carrier</th><th scope=col>stress_test_count</th><th scope=col>stress_test_cost_carrier</th><th scope=col>echocardiography_count</th><th scope=col>echocardiography_cost_carrier</th><th scope=col>angioplasty_count</th><th scope=col>angioplasty_cost_carrier</th><th scope=col>CABG_count</th><th scope=col>CABG_cost_carrier</th><th scope=col>stable_angina</th><th scope=col>unstable_angina</th><th scope=col>MI</th><th scope=col>MI_date</th><th scope=col>cardiac_arrest</th><th scope=col>stroke</th><th scope=col>hypertension</th><th scope=col>copd</th><th scope=col>obesity</th><th scope=col>depression</th><th scope=col>diabetes</th><th scope=col>icd_9_pure</th><th scope=col>icd_10_pure</th><th scope=col>catheterization_date</th><th scope=col>angioplasty_date</th><th scope=col>catheterization_doc_NPI</th><th scope=col>angioplasty_doc_NPI</th><th scope=col>diagnosing_doc_NPI</th><th scope=col>year_first_diagnosed</th><th scope=col>time_difference_angio_cath</th><th scope=col>angioplasty_with_cath</th><th scope=col>angioplasty_during_year_after_cath</th><th scope=col>tot_allowed_carrier_cardiology_related</th><th scope=col>office_visit_count_cardiology_related</th><th scope=col>office_visit_cost_carrier_cardiology_related</th><th scope=col>cardiology_visit_count_cardiology_related</th><th scope=col>distinct_clinicians_cardiology_related</th><th scope=col>distinct_cardiologists_cardiology_related</th><th scope=col>distinct_primary_care_physicians_cardiology_related</th><th scope=col>distinct_surgeons_cardiology_related</th><th scope=col>distinct_other_specialties_cardiology_related</th><th scope=col>catheterization_count_cardiology_related</th><th scope=col>catheterization_cost_carrier_cardiology_related</th><th scope=col>ecg_count_cardiology_related</th><th scope=col>ecg_cost_carrier_cardiology_related</th><th scope=col>cardiac_ct_count_cardiology_related</th><th scope=col>cardiac_ct_cost_carrier_cardiology_related</th><th scope=col>cardiac_mri_count_cardiology_related</th><th scope=col>cardiac_mri_cost_carrier_cardiology_related</th><th scope=col>stress_test_count_cardiology_related</th><th scope=col>stress_test_cost_carrier_cardiology_related</th><th scope=col>echocardiography_count_cardiology_related</th><th scope=col>echocardiography_cost_carrier_cardiology_related</th><th scope=col>angioplasty_count_cardiology_related</th><th scope=col>angioplasty_cost_carrier_cardiology_related</th><th scope=col>CABG_count_cardiology_related</th><th scope=col>CABG_cost_carrier_cardiology_related</th><th scope=col>office_visit_cost_outpatient</th><th scope=col>catheterization_cost_outpatient</th><th scope=col>ecg_cost_outpatient</th><th scope=col>cardiac_ct_cost_outpatient</th><th scope=col>cardiac_mri_cost_outpatient</th><th scope=col>stress_test_cost_outpatient</th><th scope=col>echocardiography_cost_outpatient</th><th scope=col>angioplasty_cost_outpatient</th><th scope=col>CABG_cost_outpatient</th><th scope=col>office_visit_cost_outpatient_cardiology_related</th><th scope=col>catheterization_cost_outpatient_cardiology_related</th><th scope=col>ecg_cost_outpatient_cardiology_related</th><th scope=col>cardiac_ct_cost_outpatient_cardiology_related</th><th scope=col>cardiac_mri_cost_outpatient_cardiology_related</th><th scope=col>stress_test_cost_outpatient_cardiology_related</th><th scope=col>echocardiography_cost_outpatient_cardiology_related</th><th scope=col>angioplasty_cost_outpatient_cardiology_related</th><th scope=col>CABG_cost_outpatient_cardiology_related</th><th scope=col>office_visit_cost</th><th scope=col>catheterization_cost</th><th scope=col>ecg_cost</th><th scope=col>cardiac_ct_cost</th><th scope=col>cardiac_mri_cost</th><th scope=col>stress_test_cost</th><th scope=col>echocardiography_cost</th><th scope=col>angioplasty_cost</th><th scope=col>CABG_cost</th><th scope=col>office_visit_cost_cardiology_related</th><th scope=col>catheterization_cost_cardiology_related</th><th scope=col>ecg_cost_cardiology_related</th><th scope=col>cardiac_ct_cost_cardiology_related</th><th scope=col>cardiac_mri_cost_cardiology_related</th><th scope=col>stress_test_cost_cardiology_related</th><th scope=col>echocardiography_cost_cardiology_related</th><th scope=col>angioplasty_cost_cardiology_related</th><th scope=col>CABG_cost_cardiology_related</th><th scope=col>tot_cheap_prcdr_cost</th><th scope=col>tot_expensive_prcdr_cost</th><th scope=col>tot_cheap_prcdr_cost_cardiology_related</th><th scope=col>tot_expensive_prcdr_cost_cardiology_related</th><th scope=col>tot_cheap_prcdr_count</th><th scope=col>tot_expensive_prcdr_count</th><th scope=col>tot_cheap_prcdr_count_cardiology_related</th><th scope=col>tot_expensive_prcdr_count_cardiology_related</th><th scope=col>REFERENCE_YEAR_2013</th><th scope=col>STATE_CODE_2013</th><th scope=col>COUNTY_CODE_2013</th><th scope=col>SEX_CODE_2013</th><th scope=col>RACE_CODE_2013</th><th scope=col>AGE_2013</th><th scope=col>ORIG_REASON_FOR_ENTITLEMENT_2013</th><th scope=col>CURR_REASON_FOR_ENTITLEMENT_2013</th><th scope=col>ENTITLEMENT_BUY_IN_IND01_2013</th><th scope=col>ENTITLEMENT_BUY_IN_IND02_2013</th><th scope=col>ENTITLEMENT_BUY_IN_IND03_2013</th><th scope=col>ENTITLEMENT_BUY_IN_IND04_2013</th><th scope=col>ENTITLEMENT_BUY_IN_IND05_2013</th><th scope=col>ENTITLEMENT_BUY_IN_IND06_2013</th><th scope=col>ENTITLEMENT_BUY_IN_IND07_2013</th><th scope=col>ENTITLEMENT_BUY_IN_IND08_2013</th><th scope=col>ENTITLEMENT_BUY_IN_IND09_2013</th><th scope=col>ENTITLEMENT_BUY_IN_IND10_2013</th><th scope=col>ENTITLEMENT_BUY_IN_IND11_2013</th><th scope=col>ENTITLEMENT_BUY_IN_IND12_2013</th><th scope=col>HMO_INDICATOR01_2013</th><th scope=col>HMO_INDICATOR02_2013</th><th scope=col>HMO_INDICATOR03_2013</th><th scope=col>HMO_INDICATOR04_2013</th><th scope=col>HMO_INDICATOR05_2013</th><th scope=col>HMO_INDICATOR06_2013</th><th scope=col>HMO_INDICATOR07_2013</th><th scope=col>HMO_INDICATOR08_2013</th><th scope=col>HMO_INDICATOR09_2013</th><th scope=col>HMO_INDICATOR10_2013</th><th scope=col>HMO_INDICATOR11_2013</th><th scope=col>⋯</th><th scope=col>POS_OTHER</th><th scope=col>STATE</th><th scope=col>STATE_MULTI</th><th scope=col>CBSA_TYPE</th><th scope=col>CBSA_CD</th><th scope=col>CBSA_NAME</th><th scope=col>CBSA_MULTI</th><th scope=col>NPI_SRVC_LINES</th><th scope=col>NPI_ALLOWED_AMT</th><th scope=col>NPI_UNQ_BENES</th><th scope=col>TIN1_SRVC_MONTH</th><th scope=col>TIN1_SRVC_LINES</th><th scope=col>TIN1_ALLOWED_AMT</th><th scope=col>TIN1_UNQ_BENES</th><th scope=col>TIN2_SRVC_MONTH</th><th scope=col>TIN2_SRVC_LINES</th><th scope=col>TIN2_ALLOWED_AMT</th><th scope=col>TIN2_UNQ_BENES</th><th scope=col>BIRTH_YR</th><th scope=col>lns_office</th><th scope=col>lns_opd</th><th scope=col>most_common_cardiologist_integrated_in_year_of_diagnosis</th><th scope=col>tot_allowed_carrier_same_tin</th><th scope=col>tot_allowed_carrier_not_same_tin</th><th scope=col>distinct_clinicians_same_tin</th><th scope=col>distinct_cardiologists_same_tin</th><th scope=col>distinct_clinicians_not_same_tin</th><th scope=col>distinct_cardiologists_not_same_tin</th><th scope=col>tot_allowed_carrier_same_tin_cardiology_related</th><th scope=col>tot_allowed_carrier_not_same_tin_cardiology_related</th><th scope=col>tot_allowed_outpatient_same_tin</th><th scope=col>tot_allowed_outpatient_not_same_tin</th><th scope=col>tot_allowed_inpatient_same_tin</th><th scope=col>tot_allowed_inpatient_not_same_tin</th><th scope=col>tot_allowed_outpatient_same_tin_cardiology_related</th><th scope=col>tot_allowed_outpatient_not_same_tin_cardiology_related</th><th scope=col>tot_allowed_inpatient_same_tin_cardiology_related</th><th scope=col>tot_allowed_inpatient_not_same_tin_cardiology_related</th><th scope=col>total_exp_same_tin</th><th scope=col>total_exp_same_tin_cardiology_related</th><th scope=col>total_exp_not_same_tin</th><th scope=col>total_exp_not_same_tin_cardiology_related</th><th scope=col>year_before_diagnosis</th><th scope=col>hcc1</th><th scope=col>hcc2</th><th scope=col>hcc6</th><th scope=col>hcc8</th><th scope=col>hcc9</th><th scope=col>hcc10</th><th scope=col>hcc11</th><th scope=col>hcc12</th><th scope=col>hcc17</th><th scope=col>hcc18</th><th scope=col>hcc19</th><th scope=col>hcc21</th><th scope=col>hcc22</th><th scope=col>hcc23</th><th scope=col>hcc27</th><th scope=col>hcc28</th><th scope=col>hcc29</th><th scope=col>hcc33</th><th scope=col>hcc34</th><th scope=col>hcc35</th><th scope=col>hcc39</th><th scope=col>hcc40</th><th scope=col>hcc46</th><th scope=col>hcc47</th><th scope=col>hcc48</th><th scope=col>hcc51</th><th scope=col>hcc52</th><th scope=col>hcc54</th><th scope=col>hcc55</th><th scope=col>hcc57</th><th scope=col>hcc58</th><th scope=col>hcc70</th><th scope=col>hcc71</th><th scope=col>hcc72</th><th scope=col>hcc73</th><th scope=col>hcc74</th><th scope=col>hcc75</th><th scope=col>hcc76</th><th scope=col>hcc77</th><th scope=col>hcc78</th><th scope=col>hcc79</th><th scope=col>hcc80</th><th scope=col>hcc82</th><th scope=col>hcc83</th><th scope=col>hcc84</th><th scope=col>hcc85</th><th scope=col>hcc86</th><th scope=col>hcc87</th><th scope=col>hcc88</th><th scope=col>hcc96</th><th scope=col>hcc99</th><th scope=col>hcc100</th><th scope=col>hcc103</th><th scope=col>hcc104</th><th scope=col>hcc106</th><th scope=col>hcc107</th><th scope=col>hcc108</th><th scope=col>hcc110</th><th scope=col>hcc111</th><th scope=col>hcc112</th><th scope=col>hcc114</th><th scope=col>hcc115</th><th scope=col>hcc122</th><th scope=col>hcc124</th><th scope=col>hcc134</th><th scope=col>hcc135</th><th scope=col>hcc136</th><th scope=col>hcc137</th><th scope=col>hcc138</th><th scope=col>hcc139</th><th scope=col>hcc140</th><th scope=col>hcc141</th><th scope=col>hcc157</th><th scope=col>hcc158</th><th scope=col>hcc159</th><th scope=col>hcc160</th><th scope=col>hcc161</th><th scope=col>hcc162</th><th scope=col>hcc166</th><th scope=col>hcc167</th><th scope=col>hcc169</th><th scope=col>hcc170</th><th scope=col>hcc173</th><th scope=col>hcc176</th><th scope=col>hcc186</th><th scope=col>hcc188</th><th scope=col>hcc189</th><th scope=col>date_year_before_diagnosis</th><th scope=col>year_before_ENTITLEMENT_BUY_IN_IND_sum</th><th scope=col>mi</th><th scope=col>chf</th><th scope=col>pvd</th><th scope=col>cevd</th><th scope=col>dementia</th><th scope=col>cpd</th><th scope=col>rheumd</th><th scope=col>pud</th><th scope=col>mld</th><th scope=col>diab</th><th scope=col>diabwc</th><th scope=col>hp</th><th scope=col>rend</th><th scope=col>canc</th><th scope=col>msld</th><th scope=col>metacanc</th><th scope=col>aids</th><th scope=col>wscore</th></tr>\n",
       "\t<tr><th scope=col>&lt;int&gt;</th><th scope=col>&lt;int&gt;</th><th scope=col>&lt;chr&gt;</th><th scope=col>&lt;dbl&gt;</th><th scope=col>&lt;int&gt;</th><th scope=col>&lt;dbl&gt;</th><th scope=col>&lt;int&gt;</th><th scope=col>&lt;int&gt;</th><th scope=col>&lt;int&gt;</th><th scope=col>&lt;int&gt;</th><th scope=col>&lt;int&gt;</th><th scope=col>&lt;int&gt;</th><th scope=col>&lt;int&gt;</th><th scope=col>&lt;dbl&gt;</th><th scope=col>&lt;int&gt;</th><th scope=col>&lt;dbl&gt;</th><th scope=col>&lt;int&gt;</th><th scope=col>&lt;dbl&gt;</th><th scope=col>&lt;int&gt;</th><th scope=col>&lt;dbl&gt;</th><th scope=col>&lt;int&gt;</th><th scope=col>&lt;dbl&gt;</th><th scope=col>&lt;int&gt;</th><th scope=col>&lt;dbl&gt;</th><th scope=col>&lt;int&gt;</th><th scope=col>&lt;dbl&gt;</th><th scope=col>&lt;int&gt;</th><th scope=col>&lt;dbl&gt;</th><th scope=col>&lt;lgl&gt;</th><th scope=col>&lt;lgl&gt;</th><th scope=col>&lt;lgl&gt;</th><th scope=col>&lt;chr&gt;</th><th scope=col>&lt;lgl&gt;</th><th scope=col>&lt;lgl&gt;</th><th scope=col>&lt;lgl&gt;</th><th scope=col>&lt;lgl&gt;</th><th scope=col>&lt;lgl&gt;</th><th scope=col>&lt;lgl&gt;</th><th scope=col>&lt;lgl&gt;</th><th scope=col>&lt;lgl&gt;</th><th scope=col>&lt;lgl&gt;</th><th scope=col>&lt;chr&gt;</th><th scope=col>&lt;chr&gt;</th><th scope=col>&lt;int&gt;</th><th scope=col>&lt;int&gt;</th><th scope=col>&lt;int&gt;</th><th scope=col>&lt;int&gt;</th><th scope=col>&lt;int&gt;</th><th scope=col>&lt;lgl&gt;</th><th scope=col>&lt;lgl&gt;</th><th scope=col>&lt;dbl&gt;</th><th scope=col>&lt;int&gt;</th><th scope=col>&lt;dbl&gt;</th><th scope=col>&lt;int&gt;</th><th scope=col>&lt;int&gt;</th><th scope=col>&lt;int&gt;</th><th scope=col>&lt;int&gt;</th><th scope=col>&lt;int&gt;</th><th scope=col>&lt;int&gt;</th><th scope=col>&lt;int&gt;</th><th scope=col>&lt;dbl&gt;</th><th scope=col>&lt;int&gt;</th><th scope=col>&lt;dbl&gt;</th><th scope=col>&lt;int&gt;</th><th scope=col>&lt;dbl&gt;</th><th scope=col>&lt;int&gt;</th><th scope=col>&lt;dbl&gt;</th><th scope=col>&lt;int&gt;</th><th scope=col>&lt;dbl&gt;</th><th scope=col>&lt;int&gt;</th><th scope=col>&lt;dbl&gt;</th><th scope=col>&lt;int&gt;</th><th scope=col>&lt;dbl&gt;</th><th scope=col>&lt;int&gt;</th><th scope=col>&lt;dbl&gt;</th><th scope=col>&lt;dbl&gt;</th><th scope=col>&lt;dbl&gt;</th><th scope=col>&lt;dbl&gt;</th><th scope=col>&lt;dbl&gt;</th><th scope=col>&lt;dbl&gt;</th><th scope=col>&lt;dbl&gt;</th><th scope=col>&lt;dbl&gt;</th><th scope=col>&lt;dbl&gt;</th><th scope=col>&lt;int&gt;</th><th scope=col>&lt;dbl&gt;</th><th scope=col>&lt;dbl&gt;</th><th scope=col>&lt;dbl&gt;</th><th scope=col>&lt;dbl&gt;</th><th scope=col>&lt;dbl&gt;</th><th scope=col>&lt;dbl&gt;</th><th scope=col>&lt;dbl&gt;</th><th scope=col>&lt;dbl&gt;</th><th scope=col>&lt;int&gt;</th><th scope=col>&lt;dbl&gt;</th><th scope=col>&lt;dbl&gt;</th><th scope=col>&lt;dbl&gt;</th><th scope=col>&lt;dbl&gt;</th><th scope=col>&lt;dbl&gt;</th><th scope=col>&lt;dbl&gt;</th><th scope=col>&lt;dbl&gt;</th><th scope=col>&lt;dbl&gt;</th><th scope=col>&lt;dbl&gt;</th><th scope=col>&lt;dbl&gt;</th><th scope=col>&lt;dbl&gt;</th><th scope=col>&lt;dbl&gt;</th><th scope=col>&lt;dbl&gt;</th><th scope=col>&lt;dbl&gt;</th><th scope=col>&lt;dbl&gt;</th><th scope=col>&lt;dbl&gt;</th><th scope=col>&lt;dbl&gt;</th><th scope=col>&lt;dbl&gt;</th><th scope=col>&lt;dbl&gt;</th><th scope=col>&lt;dbl&gt;</th><th scope=col>&lt;dbl&gt;</th><th scope=col>&lt;dbl&gt;</th><th scope=col>&lt;int&gt;</th><th scope=col>&lt;int&gt;</th><th scope=col>&lt;int&gt;</th><th scope=col>&lt;int&gt;</th><th scope=col>&lt;int&gt;</th><th scope=col>&lt;int&gt;</th><th scope=col>&lt;int&gt;</th><th scope=col>&lt;int&gt;</th><th scope=col>&lt;int&gt;</th><th scope=col>&lt;int&gt;</th><th scope=col>&lt;int&gt;</th><th scope=col>&lt;int&gt;</th><th scope=col>&lt;chr&gt;</th><th scope=col>&lt;chr&gt;</th><th scope=col>&lt;chr&gt;</th><th scope=col>&lt;chr&gt;</th><th scope=col>&lt;chr&gt;</th><th scope=col>&lt;chr&gt;</th><th scope=col>&lt;chr&gt;</th><th scope=col>&lt;chr&gt;</th><th scope=col>&lt;chr&gt;</th><th scope=col>&lt;chr&gt;</th><th scope=col>&lt;chr&gt;</th><th scope=col>&lt;chr&gt;</th><th scope=col>&lt;chr&gt;</th><th scope=col>&lt;chr&gt;</th><th scope=col>&lt;chr&gt;</th><th scope=col>&lt;chr&gt;</th><th scope=col>&lt;chr&gt;</th><th scope=col>&lt;chr&gt;</th><th scope=col>&lt;chr&gt;</th><th scope=col>&lt;chr&gt;</th><th scope=col>&lt;chr&gt;</th><th scope=col>&lt;chr&gt;</th><th scope=col>&lt;chr&gt;</th><th scope=col>⋯</th><th scope=col>&lt;dbl&gt;</th><th scope=col>&lt;chr&gt;</th><th scope=col>&lt;int&gt;</th><th scope=col>&lt;int&gt;</th><th scope=col>&lt;int&gt;</th><th scope=col>&lt;chr&gt;</th><th scope=col>&lt;int&gt;</th><th scope=col>&lt;int&gt;</th><th scope=col>&lt;dbl&gt;</th><th scope=col>&lt;int&gt;</th><th scope=col>&lt;dbl&gt;</th><th scope=col>&lt;int&gt;</th><th scope=col>&lt;dbl&gt;</th><th scope=col>&lt;int&gt;</th><th scope=col>&lt;dbl&gt;</th><th scope=col>&lt;int&gt;</th><th scope=col>&lt;dbl&gt;</th><th scope=col>&lt;int&gt;</th><th scope=col>&lt;int&gt;</th><th scope=col>&lt;dbl&gt;</th><th scope=col>&lt;dbl&gt;</th><th scope=col>&lt;lgl&gt;</th><th scope=col>&lt;dbl&gt;</th><th scope=col>&lt;dbl&gt;</th><th scope=col>&lt;int&gt;</th><th scope=col>&lt;int&gt;</th><th scope=col>&lt;int&gt;</th><th scope=col>&lt;int&gt;</th><th scope=col>&lt;dbl&gt;</th><th scope=col>&lt;dbl&gt;</th><th scope=col>&lt;dbl&gt;</th><th scope=col>&lt;dbl&gt;</th><th scope=col>&lt;dbl&gt;</th><th scope=col>&lt;dbl&gt;</th><th scope=col>&lt;dbl&gt;</th><th scope=col>&lt;dbl&gt;</th><th scope=col>&lt;dbl&gt;</th><th scope=col>&lt;dbl&gt;</th><th scope=col>&lt;dbl&gt;</th><th scope=col>&lt;dbl&gt;</th><th scope=col>&lt;dbl&gt;</th><th scope=col>&lt;dbl&gt;</th><th scope=col>&lt;int&gt;</th><th scope=col>&lt;int&gt;</th><th scope=col>&lt;int&gt;</th><th scope=col>&lt;int&gt;</th><th scope=col>&lt;int&gt;</th><th scope=col>&lt;int&gt;</th><th scope=col>&lt;int&gt;</th><th scope=col>&lt;int&gt;</th><th scope=col>&lt;int&gt;</th><th scope=col>&lt;int&gt;</th><th scope=col>&lt;int&gt;</th><th scope=col>&lt;int&gt;</th><th scope=col>&lt;int&gt;</th><th scope=col>&lt;int&gt;</th><th scope=col>&lt;int&gt;</th><th scope=col>&lt;int&gt;</th><th scope=col>&lt;int&gt;</th><th scope=col>&lt;int&gt;</th><th scope=col>&lt;int&gt;</th><th scope=col>&lt;int&gt;</th><th scope=col>&lt;int&gt;</th><th scope=col>&lt;int&gt;</th><th scope=col>&lt;int&gt;</th><th scope=col>&lt;int&gt;</th><th scope=col>&lt;int&gt;</th><th scope=col>&lt;int&gt;</th><th scope=col>&lt;int&gt;</th><th scope=col>&lt;int&gt;</th><th scope=col>&lt;int&gt;</th><th scope=col>&lt;int&gt;</th><th scope=col>&lt;int&gt;</th><th scope=col>&lt;int&gt;</th><th scope=col>&lt;int&gt;</th><th scope=col>&lt;int&gt;</th><th scope=col>&lt;int&gt;</th><th scope=col>&lt;int&gt;</th><th scope=col>&lt;int&gt;</th><th scope=col>&lt;int&gt;</th><th scope=col>&lt;int&gt;</th><th scope=col>&lt;int&gt;</th><th scope=col>&lt;int&gt;</th><th scope=col>&lt;int&gt;</th><th scope=col>&lt;int&gt;</th><th scope=col>&lt;int&gt;</th><th scope=col>&lt;int&gt;</th><th scope=col>&lt;int&gt;</th><th scope=col>&lt;int&gt;</th><th scope=col>&lt;int&gt;</th><th scope=col>&lt;int&gt;</th><th scope=col>&lt;int&gt;</th><th scope=col>&lt;int&gt;</th><th scope=col>&lt;int&gt;</th><th scope=col>&lt;int&gt;</th><th scope=col>&lt;int&gt;</th><th scope=col>&lt;int&gt;</th><th scope=col>&lt;int&gt;</th><th scope=col>&lt;int&gt;</th><th scope=col>&lt;int&gt;</th><th scope=col>&lt;int&gt;</th><th scope=col>&lt;int&gt;</th><th scope=col>&lt;int&gt;</th><th scope=col>&lt;int&gt;</th><th scope=col>&lt;int&gt;</th><th scope=col>&lt;int&gt;</th><th scope=col>&lt;int&gt;</th><th scope=col>&lt;int&gt;</th><th scope=col>&lt;int&gt;</th><th scope=col>&lt;int&gt;</th><th scope=col>&lt;int&gt;</th><th scope=col>&lt;int&gt;</th><th scope=col>&lt;int&gt;</th><th scope=col>&lt;int&gt;</th><th scope=col>&lt;int&gt;</th><th scope=col>&lt;int&gt;</th><th scope=col>&lt;int&gt;</th><th scope=col>&lt;int&gt;</th><th scope=col>&lt;int&gt;</th><th scope=col>&lt;int&gt;</th><th scope=col>&lt;int&gt;</th><th scope=col>&lt;int&gt;</th><th scope=col>&lt;int&gt;</th><th scope=col>&lt;int&gt;</th><th scope=col>&lt;int&gt;</th><th scope=col>&lt;int&gt;</th><th scope=col>&lt;int&gt;</th><th scope=col>&lt;int&gt;</th><th scope=col>&lt;int&gt;</th><th scope=col>&lt;int&gt;</th><th scope=col>&lt;chr&gt;</th><th scope=col>&lt;int&gt;</th><th scope=col>&lt;int&gt;</th><th scope=col>&lt;int&gt;</th><th scope=col>&lt;int&gt;</th><th scope=col>&lt;int&gt;</th><th scope=col>&lt;int&gt;</th><th scope=col>&lt;int&gt;</th><th scope=col>&lt;int&gt;</th><th scope=col>&lt;int&gt;</th><th scope=col>&lt;int&gt;</th><th scope=col>&lt;int&gt;</th><th scope=col>&lt;int&gt;</th><th scope=col>&lt;int&gt;</th><th scope=col>&lt;int&gt;</th><th scope=col>&lt;int&gt;</th><th scope=col>&lt;int&gt;</th><th scope=col>&lt;int&gt;</th><th scope=col>&lt;int&gt;</th><th scope=col>&lt;int&gt;</th></tr>\n",
       "</thead>\n",
       "<tbody>\n",
       "\t<tr><td>1</td><td>100004643</td><td>2018-07-24</td><td> 2164.96</td><td> 2</td><td> 209.35</td><td>2</td><td> 5</td><td>1</td><td>0</td><td>0</td><td> 4</td><td>0</td><td>  0.00</td><td> 1</td><td> 16.26</td><td>0</td><td>0</td><td>0</td><td>0</td><td>1</td><td>60.06</td><td>0</td><td>  0.00</td><td>0</td><td>   0.00</td><td>0</td><td>0</td><td>TRUE</td><td>FALSE</td><td>FALSE</td><td>NA</td><td>FALSE</td><td>FALSE</td><td> TRUE</td><td>FALSE</td><td>FALSE</td><td>FALSE</td><td>FALSE</td><td>FALSE</td><td> TRUE</td><td>NA        </td><td>NA        </td><td>        NA</td><td>        NA</td><td>1922000801</td><td>2018</td><td>NA</td><td>FALSE</td><td>FALSE</td><td>1098.55</td><td>1</td><td>104.30</td><td>1</td><td> 5</td><td>1</td><td>0</td><td>0</td><td>4</td><td>0</td><td>  0.00</td><td>1</td><td>16.26</td><td>0</td><td>0</td><td>0</td><td>0</td><td>0</td><td> 0.00</td><td>0</td><td> 0.00</td><td>0</td><td>   0.00</td><td>0</td><td>0</td><td>0</td><td>0.00</td><td>  0.00</td><td>0</td><td>0</td><td>0</td><td>0</td><td>   0.00</td><td>0</td><td>0</td><td>0.00</td><td>  0.0</td><td>0</td><td>0</td><td>0</td><td>0</td><td>   0.00</td><td>0</td><td> 209.35</td><td>  0.00</td><td> 16.26</td><td>0</td><td>0</td><td>60.06</td><td>  0.00</td><td>   0.00</td><td>0</td><td>104.30</td><td>  0.00</td><td> 16.26</td><td>0</td><td>0</td><td> 0.00</td><td> 0.00</td><td>   0.00</td><td>0</td><td> 269.41</td><td>   0.00</td><td>104.30</td><td>   0.00</td><td> 3</td><td>0</td><td> 1</td><td>0</td><td>13</td><td>34</td><td>240</td><td>2</td><td>1</td><td>77</td><td>0</td><td>0</td><td>3</td><td>3</td><td>3</td><td>3</td><td>3</td><td>3</td><td>3</td><td>3</td><td>3</td><td>3</td><td>3</td><td>3</td><td>0</td><td>0</td><td>0</td><td>0</td><td>0</td><td>0</td><td>0</td><td>0</td><td>0</td><td>0</td><td>0</td><td>⋯</td><td>0</td><td>LA</td><td>0</td><td>1</td><td>29180</td><td>Lafayette, LA                        </td><td>0</td><td>14723</td><td>1811872.4</td><td>2866</td><td>111111111111</td><td>14396</td><td>1788733.8</td><td>2754</td><td>111111111111</td><td>327</td><td>23138.52</td><td>307</td><td>1967</td><td>12972</td><td> 959</td><td>FALSE</td><td>1345.60</td><td>  819.36</td><td> 1</td><td>1</td><td> 4</td><td>0</td><td> 310.35</td><td> 788.20</td><td>NA</td><td>       NA</td><td>NA</td><td>       NA</td><td>NA</td><td>      NA</td><td>NA</td><td>      NA</td><td>1345.60</td><td> 310.35</td><td>   819.36</td><td>  788.20</td><td>2017</td><td> 0</td><td> 0</td><td> 0</td><td> 0</td><td> 0</td><td> 0</td><td> 0</td><td> 0</td><td> 0</td><td> 0</td><td> 0</td><td> 0</td><td> 0</td><td> 0</td><td> 0</td><td> 0</td><td> 0</td><td> 0</td><td> 0</td><td> 0</td><td> 0</td><td> 0</td><td> 0</td><td> 0</td><td> 1</td><td> 0</td><td> 0</td><td> 0</td><td> 0</td><td> 0</td><td> 0</td><td> 0</td><td> 0</td><td> 0</td><td> 0</td><td> 0</td><td> 0</td><td> 0</td><td> 0</td><td> 0</td><td> 0</td><td> 0</td><td> 0</td><td> 0</td><td> 0</td><td> 1</td><td> 1</td><td> 0</td><td> 0</td><td> 1</td><td> 0</td><td> 1</td><td> 0</td><td> 0</td><td> 0</td><td> 0</td><td> 1</td><td> 0</td><td> 0</td><td> 0</td><td> 0</td><td> 0</td><td> 0</td><td> 0</td><td> 0</td><td> 1</td><td> 0</td><td> 0</td><td> 0</td><td> 0</td><td> 0</td><td> 0</td><td> 0</td><td> 0</td><td> 0</td><td> 0</td><td> 0</td><td> 0</td><td> 0</td><td> 0</td><td> 0</td><td> 0</td><td> 0</td><td> 0</td><td> 0</td><td> 0</td><td> 0</td><td>2017-07-24</td><td>12</td><td>0</td><td>0</td><td>0</td><td>1</td><td>0</td><td>0</td><td>0</td><td>0</td><td>0</td><td>0</td><td>0</td><td>0</td><td>0</td><td>0</td><td>0</td><td>0</td><td>0</td><td>1</td></tr>\n",
       "\t<tr><td>2</td><td>100008543</td><td>2014-04-16</td><td> 2149.56</td><td>12</td><td> 869.89</td><td>2</td><td>22</td><td>4</td><td>5</td><td>1</td><td>12</td><td>0</td><td>  0.00</td><td> 3</td><td> 25.29</td><td>0</td><td>0</td><td>0</td><td>0</td><td>0</td><td> 0.00</td><td>0</td><td>  0.00</td><td>0</td><td>   0.00</td><td>0</td><td>0</td><td>TRUE</td><td>FALSE</td><td>FALSE</td><td>NA</td><td>FALSE</td><td>FALSE</td><td>FALSE</td><td>FALSE</td><td>FALSE</td><td>FALSE</td><td>FALSE</td><td> TRUE</td><td>FALSE</td><td>NA        </td><td>NA        </td><td>        NA</td><td>        NA</td><td>1033107701</td><td>2014</td><td>NA</td><td>FALSE</td><td>FALSE</td><td> 178.71</td><td>2</td><td>146.81</td><td>1</td><td> 4</td><td>3</td><td>1</td><td>0</td><td>0</td><td>0</td><td>  0.00</td><td>0</td><td> 0.00</td><td>0</td><td>0</td><td>0</td><td>0</td><td>0</td><td> 0.00</td><td>0</td><td> 0.00</td><td>0</td><td>   0.00</td><td>0</td><td>0</td><td>0</td><td>0.00</td><td>490.65</td><td>0</td><td>0</td><td>0</td><td>0</td><td>   0.00</td><td>0</td><td>0</td><td>0.00</td><td>126.3</td><td>0</td><td>0</td><td>0</td><td>0</td><td>   0.00</td><td>0</td><td> 869.89</td><td>  0.00</td><td>515.94</td><td>0</td><td>0</td><td> 0.00</td><td>  0.00</td><td>   0.00</td><td>0</td><td>146.81</td><td>  0.00</td><td>126.30</td><td>0</td><td>0</td><td> 0.00</td><td> 0.00</td><td>   0.00</td><td>0</td><td> 869.89</td><td>   0.00</td><td>146.81</td><td>   0.00</td><td>12</td><td>0</td><td> 2</td><td>0</td><td>13</td><td>49</td><td> 90</td><td>1</td><td>1</td><td>76</td><td>0</td><td>0</td><td>3</td><td>3</td><td>3</td><td>3</td><td>3</td><td>3</td><td>3</td><td>3</td><td>3</td><td>3</td><td>3</td><td>3</td><td>0</td><td>0</td><td>0</td><td>0</td><td>0</td><td>0</td><td>0</td><td>0</td><td>0</td><td>0</td><td>0</td><td>⋯</td><td>0</td><td>VA</td><td>0</td><td>1</td><td>31340</td><td>Lynchburg, VA                        </td><td>0</td><td> 2302</td><td> 163198.9</td><td>1109</td><td>111111111111</td><td> 2297</td><td> 163157.3</td><td>1105</td><td>     1000000</td><td>  5</td><td>   41.65</td><td>  5</td><td>1948</td><td>  427</td><td>1426</td><td> TRUE</td><td> 899.06</td><td> 1250.50</td><td>13</td><td>4</td><td> 9</td><td>0</td><td> 106.90</td><td>  71.81</td><td> 0</td><td>  6337.03</td><td>NA</td><td>       NA</td><td> 0</td><td>  372.60</td><td>NA</td><td>      NA</td><td> 899.06</td><td> 106.90</td><td>  7587.53</td><td>  444.41</td><td>2013</td><td> 0</td><td> 0</td><td> 0</td><td> 0</td><td> 0</td><td> 0</td><td> 0</td><td> 0</td><td> 0</td><td> 0</td><td> 0</td><td> 0</td><td> 0</td><td> 0</td><td> 0</td><td> 0</td><td> 0</td><td> 0</td><td> 0</td><td> 0</td><td> 0</td><td> 0</td><td> 0</td><td> 0</td><td> 0</td><td> 0</td><td> 0</td><td> 0</td><td> 0</td><td> 0</td><td> 1</td><td> 0</td><td> 0</td><td> 0</td><td> 0</td><td> 0</td><td> 0</td><td> 0</td><td> 0</td><td> 0</td><td> 0</td><td> 0</td><td> 0</td><td> 0</td><td> 0</td><td> 0</td><td> 0</td><td> 1</td><td> 0</td><td> 0</td><td> 0</td><td> 0</td><td> 0</td><td> 0</td><td> 0</td><td> 0</td><td> 0</td><td> 0</td><td> 0</td><td> 0</td><td> 0</td><td> 0</td><td> 0</td><td> 0</td><td> 0</td><td> 1</td><td> 0</td><td> 0</td><td> 0</td><td> 0</td><td> 0</td><td> 0</td><td> 0</td><td> 0</td><td> 0</td><td> 0</td><td> 0</td><td> 0</td><td> 0</td><td> 0</td><td> 0</td><td> 0</td><td> 0</td><td> 0</td><td> 0</td><td> 0</td><td> 0</td><td>2013-04-16</td><td>12</td><td>0</td><td>0</td><td>0</td><td>0</td><td>0</td><td>0</td><td>0</td><td>0</td><td>0</td><td>0</td><td>0</td><td>0</td><td>0</td><td>0</td><td>0</td><td>0</td><td>0</td><td>0</td></tr>\n",
       "\t<tr><td>3</td><td>100010653</td><td>2014-02-14</td><td>16861.51</td><td>16</td><td>1376.90</td><td>4</td><td>49</td><td>9</td><td>7</td><td>2</td><td>31</td><td>1</td><td>345.44</td><td>12</td><td>114.88</td><td>0</td><td>0</td><td>0</td><td>0</td><td>0</td><td> 0.00</td><td>2</td><td>133.10</td><td>2</td><td> 991.67</td><td>0</td><td>0</td><td>TRUE</td><td> TRUE</td><td>FALSE</td><td>NA</td><td>FALSE</td><td>FALSE</td><td>FALSE</td><td> TRUE</td><td>FALSE</td><td>FALSE</td><td>FALSE</td><td> TRUE</td><td>FALSE</td><td>2014-02-14</td><td>2014-02-24</td><td>1790758688</td><td>1114990025</td><td>1790758688</td><td>2014</td><td>10</td><td>FALSE</td><td> TRUE</td><td>3309.14</td><td>3</td><td>258.31</td><td>2</td><td>13</td><td>7</td><td>2</td><td>1</td><td>3</td><td>1</td><td>345.44</td><td>5</td><td>36.15</td><td>0</td><td>0</td><td>0</td><td>0</td><td>0</td><td> 0.00</td><td>1</td><td>66.55</td><td>2</td><td> 991.67</td><td>0</td><td>0</td><td>0</td><td>0.00</td><td>  0.00</td><td>0</td><td>0</td><td>0</td><td>0</td><td>   0.00</td><td>0</td><td>0</td><td>0.00</td><td>  0.0</td><td>0</td><td>0</td><td>0</td><td>0</td><td>   0.00</td><td>0</td><td>1376.90</td><td>345.44</td><td>114.88</td><td>0</td><td>0</td><td> 0.00</td><td>133.10</td><td> 991.67</td><td>0</td><td>258.31</td><td>345.44</td><td> 36.15</td><td>0</td><td>0</td><td> 0.00</td><td>66.55</td><td> 991.67</td><td>0</td><td>1510.00</td><td>1337.11</td><td>324.86</td><td>1337.11</td><td>18</td><td>3</td><td> 4</td><td>3</td><td>13</td><td>33</td><td>740</td><td>2</td><td>1</td><td>76</td><td>0</td><td>0</td><td>3</td><td>3</td><td>3</td><td>3</td><td>3</td><td>3</td><td>3</td><td>3</td><td>3</td><td>3</td><td>3</td><td>3</td><td>0</td><td>0</td><td>0</td><td>0</td><td>0</td><td>0</td><td>0</td><td>0</td><td>0</td><td>0</td><td>0</td><td>⋯</td><td>0</td><td>NY</td><td>0</td><td>1</td><td>35620</td><td>New York-Newark-Jersey City, NY-NJ-PA</td><td>0</td><td> 6565</td><td> 428347.0</td><td>2519</td><td>111111111111</td><td> 6565</td><td> 428347.0</td><td>2519</td><td>          NA</td><td> NA</td><td>      NA</td><td> NA</td><td>1969</td><td> 3188</td><td> 693</td><td>FALSE</td><td>2848.26</td><td>14013.25</td><td>12</td><td>3</td><td>37</td><td>6</td><td>1035.17</td><td>2273.97</td><td> 0</td><td>176109.78</td><td> 0</td><td>311264.38</td><td>NA</td><td>      NA</td><td>NA</td><td>      NA</td><td>2848.26</td><td>1035.17</td><td>501387.41</td><td> 2273.97</td><td>2013</td><td> 0</td><td> 1</td><td> 0</td><td> 0</td><td> 0</td><td> 0</td><td> 0</td><td> 0</td><td> 0</td><td> 0</td><td> 1</td><td> 0</td><td> 0</td><td> 1</td><td> 0</td><td> 0</td><td> 0</td><td> 0</td><td> 0</td><td> 0</td><td> 0</td><td> 0</td><td> 0</td><td> 0</td><td> 0</td><td> 0</td><td> 0</td><td> 0</td><td> 0</td><td> 0</td><td> 0</td><td> 0</td><td> 0</td><td> 0</td><td> 0</td><td> 0</td><td> 0</td><td> 0</td><td> 0</td><td> 0</td><td> 0</td><td> 0</td><td> 0</td><td> 0</td><td> 1</td><td> 1</td><td> 0</td><td> 0</td><td> 0</td><td> 0</td><td> 0</td><td> 0</td><td> 0</td><td> 0</td><td> 0</td><td> 0</td><td> 0</td><td> 0</td><td> 1</td><td> 0</td><td> 0</td><td> 1</td><td> 0</td><td> 0</td><td> 1</td><td> 1</td><td> 0</td><td> 0</td><td> 0</td><td> 0</td><td> 0</td><td> 0</td><td> 0</td><td> 0</td><td> 0</td><td> 0</td><td> 0</td><td> 0</td><td> 0</td><td> 0</td><td> 0</td><td> 0</td><td> 0</td><td> 0</td><td> 0</td><td> 0</td><td> 0</td><td>2013-02-14</td><td>12</td><td>0</td><td>1</td><td>0</td><td>0</td><td>0</td><td>1</td><td>0</td><td>0</td><td>0</td><td>0</td><td>0</td><td>0</td><td>1</td><td>0</td><td>0</td><td>0</td><td>0</td><td>4</td></tr>\n",
       "\t<tr><td>4</td><td>100010781</td><td>2017-10-16</td><td>13178.43</td><td>14</td><td>1191.80</td><td>6</td><td>21</td><td>4</td><td>1</td><td>2</td><td>14</td><td>2</td><td>269.30</td><td> 2</td><td> 27.59</td><td>0</td><td>0</td><td>0</td><td>0</td><td>0</td><td> 0.00</td><td>3</td><td>595.98</td><td>4</td><td>1543.65</td><td>0</td><td>0</td><td>TRUE</td><td>FALSE</td><td>FALSE</td><td>NA</td><td>FALSE</td><td>FALSE</td><td>FALSE</td><td>FALSE</td><td>FALSE</td><td>FALSE</td><td>FALSE</td><td>FALSE</td><td> TRUE</td><td>2017-10-16</td><td>2017-10-16</td><td>1609845817</td><td>1609845817</td><td>1982698973</td><td>2017</td><td> 0</td><td> TRUE</td><td> TRUE</td><td>2704.51</td><td>6</td><td>693.47</td><td>5</td><td> 4</td><td>3</td><td>1</td><td>0</td><td>0</td><td>2</td><td>269.30</td><td>1</td><td>18.54</td><td>0</td><td>0</td><td>0</td><td>0</td><td>0</td><td> 0.00</td><td>1</td><td>68.04</td><td>4</td><td>1543.65</td><td>0</td><td>0</td><td>0</td><td>0.01</td><td>  0.00</td><td>0</td><td>0</td><td>0</td><td>0</td><td>6621.35</td><td>0</td><td>0</td><td>0.01</td><td>  0.0</td><td>0</td><td>0</td><td>0</td><td>0</td><td>6621.35</td><td>0</td><td>1191.80</td><td>269.31</td><td> 27.59</td><td>0</td><td>0</td><td> 0.00</td><td>595.98</td><td>8165.00</td><td>0</td><td>693.47</td><td>269.31</td><td> 18.54</td><td>0</td><td>0</td><td> 0.00</td><td>68.04</td><td>8165.00</td><td>0</td><td>1787.78</td><td>8434.31</td><td>761.51</td><td>8434.31</td><td>17</td><td>6</td><td> 7</td><td>6</td><td>13</td><td>21</td><td> 20</td><td>2</td><td>1</td><td>76</td><td>0</td><td>0</td><td>3</td><td>3</td><td>3</td><td>3</td><td>3</td><td>3</td><td>3</td><td>3</td><td>3</td><td>3</td><td>3</td><td>3</td><td>0</td><td>0</td><td>0</td><td>0</td><td>0</td><td>0</td><td>0</td><td>0</td><td>0</td><td>0</td><td>0</td><td>⋯</td><td>0</td><td>MD</td><td>0</td><td>1</td><td>12580</td><td>Baltimore-Columbia-Towson, MD        </td><td>0</td><td> 4629</td><td> 418995.5</td><td>2323</td><td>111111111111</td><td> 3860</td><td> 411640.6</td><td>1814</td><td>111111111111</td><td>769</td><td> 7354.90</td><td>674</td><td>1954</td><td> 3325</td><td> 203</td><td> TRUE</td><td>1318.46</td><td>11859.97</td><td> 2</td><td>1</td><td>19</td><td>3</td><td> 367.64</td><td>2336.87</td><td> 0</td><td> 17704.68</td><td> 0</td><td> 13915.48</td><td> 0</td><td>12305.11</td><td> 0</td><td>13915.48</td><td>1318.46</td><td> 367.64</td><td> 43480.13</td><td>28557.46</td><td>2016</td><td> 0</td><td> 0</td><td> 0</td><td> 0</td><td> 0</td><td> 0</td><td> 0</td><td> 0</td><td> 0</td><td> 0</td><td> 0</td><td> 0</td><td> 0</td><td> 0</td><td> 0</td><td> 0</td><td> 0</td><td> 0</td><td> 0</td><td> 0</td><td> 0</td><td> 0</td><td> 0</td><td> 0</td><td> 0</td><td> 0</td><td> 0</td><td> 0</td><td> 0</td><td> 0</td><td> 0</td><td> 0</td><td> 0</td><td> 0</td><td> 0</td><td> 0</td><td> 0</td><td> 0</td><td> 0</td><td> 0</td><td> 0</td><td> 0</td><td> 0</td><td> 0</td><td> 0</td><td> 0</td><td> 0</td><td> 0</td><td> 0</td><td> 1</td><td> 0</td><td> 0</td><td> 0</td><td> 0</td><td> 0</td><td> 0</td><td> 0</td><td> 0</td><td> 0</td><td> 0</td><td> 0</td><td> 0</td><td> 0</td><td> 0</td><td> 0</td><td> 0</td><td> 0</td><td> 0</td><td> 0</td><td> 0</td><td> 0</td><td> 0</td><td> 0</td><td> 0</td><td> 0</td><td> 0</td><td> 0</td><td> 0</td><td> 0</td><td> 0</td><td> 0</td><td> 0</td><td> 0</td><td> 0</td><td> 0</td><td> 0</td><td> 0</td><td>2016-10-16</td><td>12</td><td>0</td><td>1</td><td>0</td><td>0</td><td>0</td><td>0</td><td>0</td><td>0</td><td>0</td><td>0</td><td>0</td><td>0</td><td>0</td><td>0</td><td>0</td><td>0</td><td>0</td><td>1</td></tr>\n",
       "\t<tr><td>5</td><td>100013703</td><td>2015-05-18</td><td> 6408.96</td><td>11</td><td> 855.53</td><td>0</td><td>15</td><td>0</td><td>1</td><td>1</td><td>13</td><td>0</td><td>  0.00</td><td> 2</td><td> 34.03</td><td>0</td><td>0</td><td>0</td><td>0</td><td>1</td><td>65.83</td><td>0</td><td>  0.00</td><td>0</td><td>   0.00</td><td>0</td><td>0</td><td>TRUE</td><td> TRUE</td><td>FALSE</td><td>NA</td><td>FALSE</td><td>FALSE</td><td> TRUE</td><td>FALSE</td><td>FALSE</td><td>FALSE</td><td>FALSE</td><td>FALSE</td><td>FALSE</td><td>NA        </td><td>NA        </td><td>        NA</td><td>        NA</td><td>1982617072</td><td>2015</td><td>NA</td><td>FALSE</td><td>FALSE</td><td>1637.42</td><td>9</td><td>711.56</td><td>0</td><td> 3</td><td>0</td><td>1</td><td>0</td><td>2</td><td>0</td><td>  0.00</td><td>2</td><td>34.03</td><td>0</td><td>0</td><td>0</td><td>0</td><td>1</td><td>65.83</td><td>0</td><td> 0.00</td><td>0</td><td>   0.00</td><td>0</td><td>0</td><td>0</td><td>0.00</td><td>  0.00</td><td>0</td><td>0</td><td>0</td><td>0</td><td>   0.00</td><td>0</td><td>0</td><td>0.00</td><td>  0.0</td><td>0</td><td>0</td><td>0</td><td>0</td><td>   0.00</td><td>0</td><td> 855.53</td><td>  0.00</td><td> 34.03</td><td>0</td><td>0</td><td>65.83</td><td>  0.00</td><td>   0.00</td><td>0</td><td>711.56</td><td>  0.00</td><td> 34.03</td><td>0</td><td>0</td><td>65.83</td><td> 0.00</td><td>   0.00</td><td>0</td><td> 921.36</td><td>   0.00</td><td>777.39</td><td>   0.00</td><td>12</td><td>0</td><td>10</td><td>0</td><td>13</td><td>10</td><td> 70</td><td>2</td><td>1</td><td>76</td><td>0</td><td>0</td><td>3</td><td>3</td><td>3</td><td>3</td><td>3</td><td>3</td><td>3</td><td>3</td><td>3</td><td>3</td><td>3</td><td>3</td><td>0</td><td>0</td><td>0</td><td>0</td><td>0</td><td>0</td><td>0</td><td>0</td><td>0</td><td>0</td><td>0</td><td>⋯</td><td>0</td><td>FL</td><td>0</td><td>1</td><td>39460</td><td>Punta Gorda, FL                      </td><td>1</td><td> 7582</td><td>1252974.0</td><td>1892</td><td>111111111111</td><td> 7559</td><td>1247715.9</td><td>1873</td><td>  1101010111</td><td> 23</td><td> 5258.12</td><td> 19</td><td>1959</td><td> 6029</td><td> 315</td><td>FALSE</td><td>1268.06</td><td> 5140.90</td><td> 3</td><td>0</td><td>12</td><td>0</td><td>1158.92</td><td> 478.50</td><td> 0</td><td>  1037.85</td><td>NA</td><td>       NA</td><td>NA</td><td>      NA</td><td>NA</td><td>      NA</td><td>1268.06</td><td>1158.92</td><td>  6178.75</td><td>  478.50</td><td>2014</td><td> 0</td><td> 0</td><td> 0</td><td> 0</td><td> 0</td><td> 0</td><td> 0</td><td> 0</td><td> 0</td><td> 0</td><td> 0</td><td> 0</td><td> 0</td><td> 0</td><td> 0</td><td> 0</td><td> 0</td><td> 0</td><td> 0</td><td> 0</td><td> 0</td><td> 0</td><td> 0</td><td> 0</td><td> 0</td><td> 0</td><td> 0</td><td> 0</td><td> 0</td><td> 0</td><td> 0</td><td> 0</td><td> 0</td><td> 0</td><td> 0</td><td> 0</td><td> 0</td><td> 0</td><td> 0</td><td> 0</td><td> 0</td><td> 0</td><td> 0</td><td> 0</td><td> 0</td><td> 0</td><td> 0</td><td> 1</td><td> 0</td><td> 0</td><td> 0</td><td> 0</td><td> 0</td><td> 0</td><td> 0</td><td> 0</td><td> 0</td><td> 0</td><td> 0</td><td> 0</td><td> 0</td><td> 0</td><td> 0</td><td> 0</td><td> 0</td><td> 0</td><td> 0</td><td> 0</td><td> 0</td><td> 0</td><td> 0</td><td> 0</td><td> 0</td><td> 0</td><td> 0</td><td> 0</td><td> 0</td><td> 0</td><td> 0</td><td> 0</td><td> 0</td><td> 0</td><td> 0</td><td> 0</td><td> 0</td><td> 0</td><td> 0</td><td>2014-05-18</td><td>12</td><td>0</td><td>0</td><td>0</td><td>0</td><td>0</td><td>0</td><td>0</td><td>0</td><td>0</td><td>0</td><td>0</td><td>0</td><td>0</td><td>0</td><td>0</td><td>0</td><td>0</td><td>0</td></tr>\n",
       "\t<tr><td>6</td><td>100013815</td><td>2018-10-22</td><td> 1615.67</td><td>12</td><td>1145.16</td><td>1</td><td> 5</td><td>1</td><td>1</td><td>0</td><td> 3</td><td>0</td><td>  0.00</td><td> 0</td><td>  0.00</td><td>0</td><td>0</td><td>0</td><td>0</td><td>0</td><td> 0.00</td><td>0</td><td>  0.00</td><td>0</td><td>   0.00</td><td>0</td><td>0</td><td>TRUE</td><td>FALSE</td><td>FALSE</td><td>NA</td><td>FALSE</td><td>FALSE</td><td> TRUE</td><td>FALSE</td><td>FALSE</td><td>FALSE</td><td>FALSE</td><td>FALSE</td><td> TRUE</td><td>NA        </td><td>NA        </td><td>        NA</td><td>        NA</td><td>1235147182</td><td>2018</td><td>NA</td><td>FALSE</td><td>FALSE</td><td> 381.15</td><td>4</td><td>342.90</td><td>0</td><td> 3</td><td>0</td><td>1</td><td>0</td><td>2</td><td>0</td><td>  0.00</td><td>0</td><td> 0.00</td><td>0</td><td>0</td><td>0</td><td>0</td><td>0</td><td> 0.00</td><td>0</td><td> 0.00</td><td>0</td><td>   0.00</td><td>0</td><td>0</td><td>0</td><td>0.00</td><td>  0.00</td><td>0</td><td>0</td><td>0</td><td>0</td><td>   0.00</td><td>0</td><td>0</td><td>0.00</td><td>  0.0</td><td>0</td><td>0</td><td>0</td><td>0</td><td>   0.00</td><td>0</td><td>1145.16</td><td>  0.00</td><td>  0.00</td><td>0</td><td>0</td><td> 0.00</td><td>  0.00</td><td>   0.00</td><td>0</td><td>342.90</td><td>  0.00</td><td>  0.00</td><td>0</td><td>0</td><td> 0.00</td><td> 0.00</td><td>   0.00</td><td>0</td><td>1145.16</td><td>   0.00</td><td>342.90</td><td>   0.00</td><td>12</td><td>0</td><td> 4</td><td>0</td><td>13</td><td>10</td><td>280</td><td>2</td><td>1</td><td>76</td><td>0</td><td>0</td><td>3</td><td>3</td><td>3</td><td>3</td><td>3</td><td>3</td><td>3</td><td>3</td><td>3</td><td>3</td><td>3</td><td>3</td><td>0</td><td>0</td><td>0</td><td>0</td><td>0</td><td>0</td><td>0</td><td>0</td><td>0</td><td>0</td><td>0</td><td>⋯</td><td>0</td><td>FL</td><td>0</td><td>1</td><td>45300</td><td>Tampa-St. Petersburg-Clearwater, FL  </td><td>0</td><td> 4424</td><td> 446058.3</td><td>2035</td><td>111111111111</td><td> 4424</td><td> 446058.3</td><td>2035</td><td>          NA</td><td> NA</td><td>      NA</td><td> NA</td><td>1964</td><td> 3071</td><td> 298</td><td>FALSE</td><td> 233.44</td><td> 1382.23</td><td> 2</td><td>1</td><td> 3</td><td>0</td><td> 124.40</td><td> 256.75</td><td>NA</td><td>       NA</td><td>NA</td><td>       NA</td><td>NA</td><td>      NA</td><td>NA</td><td>      NA</td><td> 233.44</td><td> 124.40</td><td>  1382.23</td><td>  256.75</td><td>2017</td><td>NA</td><td>NA</td><td>NA</td><td>NA</td><td>NA</td><td>NA</td><td>NA</td><td>NA</td><td>NA</td><td>NA</td><td>NA</td><td>NA</td><td>NA</td><td>NA</td><td>NA</td><td>NA</td><td>NA</td><td>NA</td><td>NA</td><td>NA</td><td>NA</td><td>NA</td><td>NA</td><td>NA</td><td>NA</td><td>NA</td><td>NA</td><td>NA</td><td>NA</td><td>NA</td><td>NA</td><td>NA</td><td>NA</td><td>NA</td><td>NA</td><td>NA</td><td>NA</td><td>NA</td><td>NA</td><td>NA</td><td>NA</td><td>NA</td><td>NA</td><td>NA</td><td>NA</td><td>NA</td><td>NA</td><td>NA</td><td>NA</td><td>NA</td><td>NA</td><td>NA</td><td>NA</td><td>NA</td><td>NA</td><td>NA</td><td>NA</td><td>NA</td><td>NA</td><td>NA</td><td>NA</td><td>NA</td><td>NA</td><td>NA</td><td>NA</td><td>NA</td><td>NA</td><td>NA</td><td>NA</td><td>NA</td><td>NA</td><td>NA</td><td>NA</td><td>NA</td><td>NA</td><td>NA</td><td>NA</td><td>NA</td><td>NA</td><td>NA</td><td>NA</td><td>NA</td><td>NA</td><td>NA</td><td>NA</td><td>NA</td><td>NA</td><td>2017-10-22</td><td>12</td><td>1</td><td>0</td><td>0</td><td>0</td><td>0</td><td>0</td><td>0</td><td>0</td><td>0</td><td>0</td><td>0</td><td>0</td><td>1</td><td>0</td><td>0</td><td>0</td><td>0</td><td>3</td></tr>\n",
       "</tbody>\n",
       "</table>\n"
      ],
      "text/latex": [
       "A data.table: 6 × 704\n",
       "\\begin{tabular}{lllllllllllllllllllllllllllllllllllllllllllllllllllllllllllllllllllllllllllllllllllllllllllllllllllllllllllllllllllllllllllllllllllllllllllllllllllllllllllllllllllllllllllllllllllllllllllllllllllllllllllllllllllllllllllllllllllllllllllllllllllllllllllllllllllllllllllllllllllllllllllllllllllllllllllll}\n",
       " X & DESY\\_SORT\\_KEY & first\\_diagnosis & tot\\_allowed\\_carrier & office\\_visit\\_count & office\\_visit\\_cost\\_carrier & cardiology\\_visit\\_count & distinct\\_clinicians & distinct\\_cardiologists & distinct\\_primary\\_care\\_physicians & distinct\\_surgeons & distinct\\_other\\_specialties & catheterization\\_count & catheterization\\_cost\\_carrier & ecg\\_count & ecg\\_cost\\_carrier & cardiac\\_ct\\_count & cardiac\\_ct\\_cost\\_carrier & cardiac\\_mri\\_count & cardiac\\_mri\\_cost\\_carrier & stress\\_test\\_count & stress\\_test\\_cost\\_carrier & echocardiography\\_count & echocardiography\\_cost\\_carrier & angioplasty\\_count & angioplasty\\_cost\\_carrier & CABG\\_count & CABG\\_cost\\_carrier & stable\\_angina & unstable\\_angina & MI & MI\\_date & cardiac\\_arrest & stroke & hypertension & copd & obesity & depression & diabetes & icd\\_9\\_pure & icd\\_10\\_pure & catheterization\\_date & angioplasty\\_date & catheterization\\_doc\\_NPI & angioplasty\\_doc\\_NPI & diagnosing\\_doc\\_NPI & year\\_first\\_diagnosed & time\\_difference\\_angio\\_cath & angioplasty\\_with\\_cath & angioplasty\\_during\\_year\\_after\\_cath & tot\\_allowed\\_carrier\\_cardiology\\_related & office\\_visit\\_count\\_cardiology\\_related & office\\_visit\\_cost\\_carrier\\_cardiology\\_related & cardiology\\_visit\\_count\\_cardiology\\_related & distinct\\_clinicians\\_cardiology\\_related & distinct\\_cardiologists\\_cardiology\\_related & distinct\\_primary\\_care\\_physicians\\_cardiology\\_related & distinct\\_surgeons\\_cardiology\\_related & distinct\\_other\\_specialties\\_cardiology\\_related & catheterization\\_count\\_cardiology\\_related & catheterization\\_cost\\_carrier\\_cardiology\\_related & ecg\\_count\\_cardiology\\_related & ecg\\_cost\\_carrier\\_cardiology\\_related & cardiac\\_ct\\_count\\_cardiology\\_related & cardiac\\_ct\\_cost\\_carrier\\_cardiology\\_related & cardiac\\_mri\\_count\\_cardiology\\_related & cardiac\\_mri\\_cost\\_carrier\\_cardiology\\_related & stress\\_test\\_count\\_cardiology\\_related & stress\\_test\\_cost\\_carrier\\_cardiology\\_related & echocardiography\\_count\\_cardiology\\_related & echocardiography\\_cost\\_carrier\\_cardiology\\_related & angioplasty\\_count\\_cardiology\\_related & angioplasty\\_cost\\_carrier\\_cardiology\\_related & CABG\\_count\\_cardiology\\_related & CABG\\_cost\\_carrier\\_cardiology\\_related & office\\_visit\\_cost\\_outpatient & catheterization\\_cost\\_outpatient & ecg\\_cost\\_outpatient & cardiac\\_ct\\_cost\\_outpatient & cardiac\\_mri\\_cost\\_outpatient & stress\\_test\\_cost\\_outpatient & echocardiography\\_cost\\_outpatient & angioplasty\\_cost\\_outpatient & CABG\\_cost\\_outpatient & office\\_visit\\_cost\\_outpatient\\_cardiology\\_related & catheterization\\_cost\\_outpatient\\_cardiology\\_related & ecg\\_cost\\_outpatient\\_cardiology\\_related & cardiac\\_ct\\_cost\\_outpatient\\_cardiology\\_related & cardiac\\_mri\\_cost\\_outpatient\\_cardiology\\_related & stress\\_test\\_cost\\_outpatient\\_cardiology\\_related & echocardiography\\_cost\\_outpatient\\_cardiology\\_related & angioplasty\\_cost\\_outpatient\\_cardiology\\_related & CABG\\_cost\\_outpatient\\_cardiology\\_related & office\\_visit\\_cost & catheterization\\_cost & ecg\\_cost & cardiac\\_ct\\_cost & cardiac\\_mri\\_cost & stress\\_test\\_cost & echocardiography\\_cost & angioplasty\\_cost & CABG\\_cost & office\\_visit\\_cost\\_cardiology\\_related & catheterization\\_cost\\_cardiology\\_related & ecg\\_cost\\_cardiology\\_related & cardiac\\_ct\\_cost\\_cardiology\\_related & cardiac\\_mri\\_cost\\_cardiology\\_related & stress\\_test\\_cost\\_cardiology\\_related & echocardiography\\_cost\\_cardiology\\_related & angioplasty\\_cost\\_cardiology\\_related & CABG\\_cost\\_cardiology\\_related & tot\\_cheap\\_prcdr\\_cost & tot\\_expensive\\_prcdr\\_cost & tot\\_cheap\\_prcdr\\_cost\\_cardiology\\_related & tot\\_expensive\\_prcdr\\_cost\\_cardiology\\_related & tot\\_cheap\\_prcdr\\_count & tot\\_expensive\\_prcdr\\_count & tot\\_cheap\\_prcdr\\_count\\_cardiology\\_related & tot\\_expensive\\_prcdr\\_count\\_cardiology\\_related & REFERENCE\\_YEAR\\_2013 & STATE\\_CODE\\_2013 & COUNTY\\_CODE\\_2013 & SEX\\_CODE\\_2013 & RACE\\_CODE\\_2013 & AGE\\_2013 & ORIG\\_REASON\\_FOR\\_ENTITLEMENT\\_2013 & CURR\\_REASON\\_FOR\\_ENTITLEMENT\\_2013 & ENTITLEMENT\\_BUY\\_IN\\_IND01\\_2013 & ENTITLEMENT\\_BUY\\_IN\\_IND02\\_2013 & ENTITLEMENT\\_BUY\\_IN\\_IND03\\_2013 & ENTITLEMENT\\_BUY\\_IN\\_IND04\\_2013 & ENTITLEMENT\\_BUY\\_IN\\_IND05\\_2013 & ENTITLEMENT\\_BUY\\_IN\\_IND06\\_2013 & ENTITLEMENT\\_BUY\\_IN\\_IND07\\_2013 & ENTITLEMENT\\_BUY\\_IN\\_IND08\\_2013 & ENTITLEMENT\\_BUY\\_IN\\_IND09\\_2013 & ENTITLEMENT\\_BUY\\_IN\\_IND10\\_2013 & ENTITLEMENT\\_BUY\\_IN\\_IND11\\_2013 & ENTITLEMENT\\_BUY\\_IN\\_IND12\\_2013 & HMO\\_INDICATOR01\\_2013 & HMO\\_INDICATOR02\\_2013 & HMO\\_INDICATOR03\\_2013 & HMO\\_INDICATOR04\\_2013 & HMO\\_INDICATOR05\\_2013 & HMO\\_INDICATOR06\\_2013 & HMO\\_INDICATOR07\\_2013 & HMO\\_INDICATOR08\\_2013 & HMO\\_INDICATOR09\\_2013 & HMO\\_INDICATOR10\\_2013 & HMO\\_INDICATOR11\\_2013 & ⋯ & POS\\_OTHER & STATE & STATE\\_MULTI & CBSA\\_TYPE & CBSA\\_CD & CBSA\\_NAME & CBSA\\_MULTI & NPI\\_SRVC\\_LINES & NPI\\_ALLOWED\\_AMT & NPI\\_UNQ\\_BENES & TIN1\\_SRVC\\_MONTH & TIN1\\_SRVC\\_LINES & TIN1\\_ALLOWED\\_AMT & TIN1\\_UNQ\\_BENES & TIN2\\_SRVC\\_MONTH & TIN2\\_SRVC\\_LINES & TIN2\\_ALLOWED\\_AMT & TIN2\\_UNQ\\_BENES & BIRTH\\_YR & lns\\_office & lns\\_opd & most\\_common\\_cardiologist\\_integrated\\_in\\_year\\_of\\_diagnosis & tot\\_allowed\\_carrier\\_same\\_tin & tot\\_allowed\\_carrier\\_not\\_same\\_tin & distinct\\_clinicians\\_same\\_tin & distinct\\_cardiologists\\_same\\_tin & distinct\\_clinicians\\_not\\_same\\_tin & distinct\\_cardiologists\\_not\\_same\\_tin & tot\\_allowed\\_carrier\\_same\\_tin\\_cardiology\\_related & tot\\_allowed\\_carrier\\_not\\_same\\_tin\\_cardiology\\_related & tot\\_allowed\\_outpatient\\_same\\_tin & tot\\_allowed\\_outpatient\\_not\\_same\\_tin & tot\\_allowed\\_inpatient\\_same\\_tin & tot\\_allowed\\_inpatient\\_not\\_same\\_tin & tot\\_allowed\\_outpatient\\_same\\_tin\\_cardiology\\_related & tot\\_allowed\\_outpatient\\_not\\_same\\_tin\\_cardiology\\_related & tot\\_allowed\\_inpatient\\_same\\_tin\\_cardiology\\_related & tot\\_allowed\\_inpatient\\_not\\_same\\_tin\\_cardiology\\_related & total\\_exp\\_same\\_tin & total\\_exp\\_same\\_tin\\_cardiology\\_related & total\\_exp\\_not\\_same\\_tin & total\\_exp\\_not\\_same\\_tin\\_cardiology\\_related & year\\_before\\_diagnosis & hcc1 & hcc2 & hcc6 & hcc8 & hcc9 & hcc10 & hcc11 & hcc12 & hcc17 & hcc18 & hcc19 & hcc21 & hcc22 & hcc23 & hcc27 & hcc28 & hcc29 & hcc33 & hcc34 & hcc35 & hcc39 & hcc40 & hcc46 & hcc47 & hcc48 & hcc51 & hcc52 & hcc54 & hcc55 & hcc57 & hcc58 & hcc70 & hcc71 & hcc72 & hcc73 & hcc74 & hcc75 & hcc76 & hcc77 & hcc78 & hcc79 & hcc80 & hcc82 & hcc83 & hcc84 & hcc85 & hcc86 & hcc87 & hcc88 & hcc96 & hcc99 & hcc100 & hcc103 & hcc104 & hcc106 & hcc107 & hcc108 & hcc110 & hcc111 & hcc112 & hcc114 & hcc115 & hcc122 & hcc124 & hcc134 & hcc135 & hcc136 & hcc137 & hcc138 & hcc139 & hcc140 & hcc141 & hcc157 & hcc158 & hcc159 & hcc160 & hcc161 & hcc162 & hcc166 & hcc167 & hcc169 & hcc170 & hcc173 & hcc176 & hcc186 & hcc188 & hcc189 & date\\_year\\_before\\_diagnosis & year\\_before\\_ENTITLEMENT\\_BUY\\_IN\\_IND\\_sum & mi & chf & pvd & cevd & dementia & cpd & rheumd & pud & mld & diab & diabwc & hp & rend & canc & msld & metacanc & aids & wscore\\\\\n",
       " <int> & <int> & <chr> & <dbl> & <int> & <dbl> & <int> & <int> & <int> & <int> & <int> & <int> & <int> & <dbl> & <int> & <dbl> & <int> & <dbl> & <int> & <dbl> & <int> & <dbl> & <int> & <dbl> & <int> & <dbl> & <int> & <dbl> & <lgl> & <lgl> & <lgl> & <chr> & <lgl> & <lgl> & <lgl> & <lgl> & <lgl> & <lgl> & <lgl> & <lgl> & <lgl> & <chr> & <chr> & <int> & <int> & <int> & <int> & <int> & <lgl> & <lgl> & <dbl> & <int> & <dbl> & <int> & <int> & <int> & <int> & <int> & <int> & <int> & <dbl> & <int> & <dbl> & <int> & <dbl> & <int> & <dbl> & <int> & <dbl> & <int> & <dbl> & <int> & <dbl> & <int> & <dbl> & <dbl> & <dbl> & <dbl> & <dbl> & <dbl> & <dbl> & <dbl> & <dbl> & <int> & <dbl> & <dbl> & <dbl> & <dbl> & <dbl> & <dbl> & <dbl> & <dbl> & <int> & <dbl> & <dbl> & <dbl> & <dbl> & <dbl> & <dbl> & <dbl> & <dbl> & <dbl> & <dbl> & <dbl> & <dbl> & <dbl> & <dbl> & <dbl> & <dbl> & <dbl> & <dbl> & <dbl> & <dbl> & <dbl> & <dbl> & <int> & <int> & <int> & <int> & <int> & <int> & <int> & <int> & <int> & <int> & <int> & <int> & <chr> & <chr> & <chr> & <chr> & <chr> & <chr> & <chr> & <chr> & <chr> & <chr> & <chr> & <chr> & <chr> & <chr> & <chr> & <chr> & <chr> & <chr> & <chr> & <chr> & <chr> & <chr> & <chr> & ⋯ & <dbl> & <chr> & <int> & <int> & <int> & <chr> & <int> & <int> & <dbl> & <int> & <dbl> & <int> & <dbl> & <int> & <dbl> & <int> & <dbl> & <int> & <int> & <dbl> & <dbl> & <lgl> & <dbl> & <dbl> & <int> & <int> & <int> & <int> & <dbl> & <dbl> & <dbl> & <dbl> & <dbl> & <dbl> & <dbl> & <dbl> & <dbl> & <dbl> & <dbl> & <dbl> & <dbl> & <dbl> & <int> & <int> & <int> & <int> & <int> & <int> & <int> & <int> & <int> & <int> & <int> & <int> & <int> & <int> & <int> & <int> & <int> & <int> & <int> & <int> & <int> & <int> & <int> & <int> & <int> & <int> & <int> & <int> & <int> & <int> & <int> & <int> & <int> & <int> & <int> & <int> & <int> & <int> & <int> & <int> & <int> & <int> & <int> & <int> & <int> & <int> & <int> & <int> & <int> & <int> & <int> & <int> & <int> & <int> & <int> & <int> & <int> & <int> & <int> & <int> & <int> & <int> & <int> & <int> & <int> & <int> & <int> & <int> & <int> & <int> & <int> & <int> & <int> & <int> & <int> & <int> & <int> & <int> & <int> & <int> & <int> & <int> & <int> & <int> & <int> & <int> & <int> & <int> & <chr> & <int> & <int> & <int> & <int> & <int> & <int> & <int> & <int> & <int> & <int> & <int> & <int> & <int> & <int> & <int> & <int> & <int> & <int> & <int>\\\\\n",
       "\\hline\n",
       "\t 1 & 100004643 & 2018-07-24 &  2164.96 &  2 &  209.35 & 2 &  5 & 1 & 0 & 0 &  4 & 0 &   0.00 &  1 &  16.26 & 0 & 0 & 0 & 0 & 1 & 60.06 & 0 &   0.00 & 0 &    0.00 & 0 & 0 & TRUE & FALSE & FALSE & NA & FALSE & FALSE &  TRUE & FALSE & FALSE & FALSE & FALSE & FALSE &  TRUE & NA         & NA         &         NA &         NA & 1922000801 & 2018 & NA & FALSE & FALSE & 1098.55 & 1 & 104.30 & 1 &  5 & 1 & 0 & 0 & 4 & 0 &   0.00 & 1 & 16.26 & 0 & 0 & 0 & 0 & 0 &  0.00 & 0 &  0.00 & 0 &    0.00 & 0 & 0 & 0 & 0.00 &   0.00 & 0 & 0 & 0 & 0 &    0.00 & 0 & 0 & 0.00 &   0.0 & 0 & 0 & 0 & 0 &    0.00 & 0 &  209.35 &   0.00 &  16.26 & 0 & 0 & 60.06 &   0.00 &    0.00 & 0 & 104.30 &   0.00 &  16.26 & 0 & 0 &  0.00 &  0.00 &    0.00 & 0 &  269.41 &    0.00 & 104.30 &    0.00 &  3 & 0 &  1 & 0 & 13 & 34 & 240 & 2 & 1 & 77 & 0 & 0 & 3 & 3 & 3 & 3 & 3 & 3 & 3 & 3 & 3 & 3 & 3 & 3 & 0 & 0 & 0 & 0 & 0 & 0 & 0 & 0 & 0 & 0 & 0 & ⋯ & 0 & LA & 0 & 1 & 29180 & Lafayette, LA                         & 0 & 14723 & 1811872.4 & 2866 & 111111111111 & 14396 & 1788733.8 & 2754 & 111111111111 & 327 & 23138.52 & 307 & 1967 & 12972 &  959 & FALSE & 1345.60 &   819.36 &  1 & 1 &  4 & 0 &  310.35 &  788.20 & NA &        NA & NA &        NA & NA &       NA & NA &       NA & 1345.60 &  310.35 &    819.36 &   788.20 & 2017 &  0 &  0 &  0 &  0 &  0 &  0 &  0 &  0 &  0 &  0 &  0 &  0 &  0 &  0 &  0 &  0 &  0 &  0 &  0 &  0 &  0 &  0 &  0 &  0 &  1 &  0 &  0 &  0 &  0 &  0 &  0 &  0 &  0 &  0 &  0 &  0 &  0 &  0 &  0 &  0 &  0 &  0 &  0 &  0 &  0 &  1 &  1 &  0 &  0 &  1 &  0 &  1 &  0 &  0 &  0 &  0 &  1 &  0 &  0 &  0 &  0 &  0 &  0 &  0 &  0 &  1 &  0 &  0 &  0 &  0 &  0 &  0 &  0 &  0 &  0 &  0 &  0 &  0 &  0 &  0 &  0 &  0 &  0 &  0 &  0 &  0 &  0 & 2017-07-24 & 12 & 0 & 0 & 0 & 1 & 0 & 0 & 0 & 0 & 0 & 0 & 0 & 0 & 0 & 0 & 0 & 0 & 0 & 1\\\\\n",
       "\t 2 & 100008543 & 2014-04-16 &  2149.56 & 12 &  869.89 & 2 & 22 & 4 & 5 & 1 & 12 & 0 &   0.00 &  3 &  25.29 & 0 & 0 & 0 & 0 & 0 &  0.00 & 0 &   0.00 & 0 &    0.00 & 0 & 0 & TRUE & FALSE & FALSE & NA & FALSE & FALSE & FALSE & FALSE & FALSE & FALSE & FALSE &  TRUE & FALSE & NA         & NA         &         NA &         NA & 1033107701 & 2014 & NA & FALSE & FALSE &  178.71 & 2 & 146.81 & 1 &  4 & 3 & 1 & 0 & 0 & 0 &   0.00 & 0 &  0.00 & 0 & 0 & 0 & 0 & 0 &  0.00 & 0 &  0.00 & 0 &    0.00 & 0 & 0 & 0 & 0.00 & 490.65 & 0 & 0 & 0 & 0 &    0.00 & 0 & 0 & 0.00 & 126.3 & 0 & 0 & 0 & 0 &    0.00 & 0 &  869.89 &   0.00 & 515.94 & 0 & 0 &  0.00 &   0.00 &    0.00 & 0 & 146.81 &   0.00 & 126.30 & 0 & 0 &  0.00 &  0.00 &    0.00 & 0 &  869.89 &    0.00 & 146.81 &    0.00 & 12 & 0 &  2 & 0 & 13 & 49 &  90 & 1 & 1 & 76 & 0 & 0 & 3 & 3 & 3 & 3 & 3 & 3 & 3 & 3 & 3 & 3 & 3 & 3 & 0 & 0 & 0 & 0 & 0 & 0 & 0 & 0 & 0 & 0 & 0 & ⋯ & 0 & VA & 0 & 1 & 31340 & Lynchburg, VA                         & 0 &  2302 &  163198.9 & 1109 & 111111111111 &  2297 &  163157.3 & 1105 &      1000000 &   5 &    41.65 &   5 & 1948 &   427 & 1426 &  TRUE &  899.06 &  1250.50 & 13 & 4 &  9 & 0 &  106.90 &   71.81 &  0 &   6337.03 & NA &        NA &  0 &   372.60 & NA &       NA &  899.06 &  106.90 &   7587.53 &   444.41 & 2013 &  0 &  0 &  0 &  0 &  0 &  0 &  0 &  0 &  0 &  0 &  0 &  0 &  0 &  0 &  0 &  0 &  0 &  0 &  0 &  0 &  0 &  0 &  0 &  0 &  0 &  0 &  0 &  0 &  0 &  0 &  1 &  0 &  0 &  0 &  0 &  0 &  0 &  0 &  0 &  0 &  0 &  0 &  0 &  0 &  0 &  0 &  0 &  1 &  0 &  0 &  0 &  0 &  0 &  0 &  0 &  0 &  0 &  0 &  0 &  0 &  0 &  0 &  0 &  0 &  0 &  1 &  0 &  0 &  0 &  0 &  0 &  0 &  0 &  0 &  0 &  0 &  0 &  0 &  0 &  0 &  0 &  0 &  0 &  0 &  0 &  0 &  0 & 2013-04-16 & 12 & 0 & 0 & 0 & 0 & 0 & 0 & 0 & 0 & 0 & 0 & 0 & 0 & 0 & 0 & 0 & 0 & 0 & 0\\\\\n",
       "\t 3 & 100010653 & 2014-02-14 & 16861.51 & 16 & 1376.90 & 4 & 49 & 9 & 7 & 2 & 31 & 1 & 345.44 & 12 & 114.88 & 0 & 0 & 0 & 0 & 0 &  0.00 & 2 & 133.10 & 2 &  991.67 & 0 & 0 & TRUE &  TRUE & FALSE & NA & FALSE & FALSE & FALSE &  TRUE & FALSE & FALSE & FALSE &  TRUE & FALSE & 2014-02-14 & 2014-02-24 & 1790758688 & 1114990025 & 1790758688 & 2014 & 10 & FALSE &  TRUE & 3309.14 & 3 & 258.31 & 2 & 13 & 7 & 2 & 1 & 3 & 1 & 345.44 & 5 & 36.15 & 0 & 0 & 0 & 0 & 0 &  0.00 & 1 & 66.55 & 2 &  991.67 & 0 & 0 & 0 & 0.00 &   0.00 & 0 & 0 & 0 & 0 &    0.00 & 0 & 0 & 0.00 &   0.0 & 0 & 0 & 0 & 0 &    0.00 & 0 & 1376.90 & 345.44 & 114.88 & 0 & 0 &  0.00 & 133.10 &  991.67 & 0 & 258.31 & 345.44 &  36.15 & 0 & 0 &  0.00 & 66.55 &  991.67 & 0 & 1510.00 & 1337.11 & 324.86 & 1337.11 & 18 & 3 &  4 & 3 & 13 & 33 & 740 & 2 & 1 & 76 & 0 & 0 & 3 & 3 & 3 & 3 & 3 & 3 & 3 & 3 & 3 & 3 & 3 & 3 & 0 & 0 & 0 & 0 & 0 & 0 & 0 & 0 & 0 & 0 & 0 & ⋯ & 0 & NY & 0 & 1 & 35620 & New York-Newark-Jersey City, NY-NJ-PA & 0 &  6565 &  428347.0 & 2519 & 111111111111 &  6565 &  428347.0 & 2519 &           NA &  NA &       NA &  NA & 1969 &  3188 &  693 & FALSE & 2848.26 & 14013.25 & 12 & 3 & 37 & 6 & 1035.17 & 2273.97 &  0 & 176109.78 &  0 & 311264.38 & NA &       NA & NA &       NA & 2848.26 & 1035.17 & 501387.41 &  2273.97 & 2013 &  0 &  1 &  0 &  0 &  0 &  0 &  0 &  0 &  0 &  0 &  1 &  0 &  0 &  1 &  0 &  0 &  0 &  0 &  0 &  0 &  0 &  0 &  0 &  0 &  0 &  0 &  0 &  0 &  0 &  0 &  0 &  0 &  0 &  0 &  0 &  0 &  0 &  0 &  0 &  0 &  0 &  0 &  0 &  0 &  1 &  1 &  0 &  0 &  0 &  0 &  0 &  0 &  0 &  0 &  0 &  0 &  0 &  0 &  1 &  0 &  0 &  1 &  0 &  0 &  1 &  1 &  0 &  0 &  0 &  0 &  0 &  0 &  0 &  0 &  0 &  0 &  0 &  0 &  0 &  0 &  0 &  0 &  0 &  0 &  0 &  0 &  0 & 2013-02-14 & 12 & 0 & 1 & 0 & 0 & 0 & 1 & 0 & 0 & 0 & 0 & 0 & 0 & 1 & 0 & 0 & 0 & 0 & 4\\\\\n",
       "\t 4 & 100010781 & 2017-10-16 & 13178.43 & 14 & 1191.80 & 6 & 21 & 4 & 1 & 2 & 14 & 2 & 269.30 &  2 &  27.59 & 0 & 0 & 0 & 0 & 0 &  0.00 & 3 & 595.98 & 4 & 1543.65 & 0 & 0 & TRUE & FALSE & FALSE & NA & FALSE & FALSE & FALSE & FALSE & FALSE & FALSE & FALSE & FALSE &  TRUE & 2017-10-16 & 2017-10-16 & 1609845817 & 1609845817 & 1982698973 & 2017 &  0 &  TRUE &  TRUE & 2704.51 & 6 & 693.47 & 5 &  4 & 3 & 1 & 0 & 0 & 2 & 269.30 & 1 & 18.54 & 0 & 0 & 0 & 0 & 0 &  0.00 & 1 & 68.04 & 4 & 1543.65 & 0 & 0 & 0 & 0.01 &   0.00 & 0 & 0 & 0 & 0 & 6621.35 & 0 & 0 & 0.01 &   0.0 & 0 & 0 & 0 & 0 & 6621.35 & 0 & 1191.80 & 269.31 &  27.59 & 0 & 0 &  0.00 & 595.98 & 8165.00 & 0 & 693.47 & 269.31 &  18.54 & 0 & 0 &  0.00 & 68.04 & 8165.00 & 0 & 1787.78 & 8434.31 & 761.51 & 8434.31 & 17 & 6 &  7 & 6 & 13 & 21 &  20 & 2 & 1 & 76 & 0 & 0 & 3 & 3 & 3 & 3 & 3 & 3 & 3 & 3 & 3 & 3 & 3 & 3 & 0 & 0 & 0 & 0 & 0 & 0 & 0 & 0 & 0 & 0 & 0 & ⋯ & 0 & MD & 0 & 1 & 12580 & Baltimore-Columbia-Towson, MD         & 0 &  4629 &  418995.5 & 2323 & 111111111111 &  3860 &  411640.6 & 1814 & 111111111111 & 769 &  7354.90 & 674 & 1954 &  3325 &  203 &  TRUE & 1318.46 & 11859.97 &  2 & 1 & 19 & 3 &  367.64 & 2336.87 &  0 &  17704.68 &  0 &  13915.48 &  0 & 12305.11 &  0 & 13915.48 & 1318.46 &  367.64 &  43480.13 & 28557.46 & 2016 &  0 &  0 &  0 &  0 &  0 &  0 &  0 &  0 &  0 &  0 &  0 &  0 &  0 &  0 &  0 &  0 &  0 &  0 &  0 &  0 &  0 &  0 &  0 &  0 &  0 &  0 &  0 &  0 &  0 &  0 &  0 &  0 &  0 &  0 &  0 &  0 &  0 &  0 &  0 &  0 &  0 &  0 &  0 &  0 &  0 &  0 &  0 &  0 &  0 &  1 &  0 &  0 &  0 &  0 &  0 &  0 &  0 &  0 &  0 &  0 &  0 &  0 &  0 &  0 &  0 &  0 &  0 &  0 &  0 &  0 &  0 &  0 &  0 &  0 &  0 &  0 &  0 &  0 &  0 &  0 &  0 &  0 &  0 &  0 &  0 &  0 &  0 & 2016-10-16 & 12 & 0 & 1 & 0 & 0 & 0 & 0 & 0 & 0 & 0 & 0 & 0 & 0 & 0 & 0 & 0 & 0 & 0 & 1\\\\\n",
       "\t 5 & 100013703 & 2015-05-18 &  6408.96 & 11 &  855.53 & 0 & 15 & 0 & 1 & 1 & 13 & 0 &   0.00 &  2 &  34.03 & 0 & 0 & 0 & 0 & 1 & 65.83 & 0 &   0.00 & 0 &    0.00 & 0 & 0 & TRUE &  TRUE & FALSE & NA & FALSE & FALSE &  TRUE & FALSE & FALSE & FALSE & FALSE & FALSE & FALSE & NA         & NA         &         NA &         NA & 1982617072 & 2015 & NA & FALSE & FALSE & 1637.42 & 9 & 711.56 & 0 &  3 & 0 & 1 & 0 & 2 & 0 &   0.00 & 2 & 34.03 & 0 & 0 & 0 & 0 & 1 & 65.83 & 0 &  0.00 & 0 &    0.00 & 0 & 0 & 0 & 0.00 &   0.00 & 0 & 0 & 0 & 0 &    0.00 & 0 & 0 & 0.00 &   0.0 & 0 & 0 & 0 & 0 &    0.00 & 0 &  855.53 &   0.00 &  34.03 & 0 & 0 & 65.83 &   0.00 &    0.00 & 0 & 711.56 &   0.00 &  34.03 & 0 & 0 & 65.83 &  0.00 &    0.00 & 0 &  921.36 &    0.00 & 777.39 &    0.00 & 12 & 0 & 10 & 0 & 13 & 10 &  70 & 2 & 1 & 76 & 0 & 0 & 3 & 3 & 3 & 3 & 3 & 3 & 3 & 3 & 3 & 3 & 3 & 3 & 0 & 0 & 0 & 0 & 0 & 0 & 0 & 0 & 0 & 0 & 0 & ⋯ & 0 & FL & 0 & 1 & 39460 & Punta Gorda, FL                       & 1 &  7582 & 1252974.0 & 1892 & 111111111111 &  7559 & 1247715.9 & 1873 &   1101010111 &  23 &  5258.12 &  19 & 1959 &  6029 &  315 & FALSE & 1268.06 &  5140.90 &  3 & 0 & 12 & 0 & 1158.92 &  478.50 &  0 &   1037.85 & NA &        NA & NA &       NA & NA &       NA & 1268.06 & 1158.92 &   6178.75 &   478.50 & 2014 &  0 &  0 &  0 &  0 &  0 &  0 &  0 &  0 &  0 &  0 &  0 &  0 &  0 &  0 &  0 &  0 &  0 &  0 &  0 &  0 &  0 &  0 &  0 &  0 &  0 &  0 &  0 &  0 &  0 &  0 &  0 &  0 &  0 &  0 &  0 &  0 &  0 &  0 &  0 &  0 &  0 &  0 &  0 &  0 &  0 &  0 &  0 &  1 &  0 &  0 &  0 &  0 &  0 &  0 &  0 &  0 &  0 &  0 &  0 &  0 &  0 &  0 &  0 &  0 &  0 &  0 &  0 &  0 &  0 &  0 &  0 &  0 &  0 &  0 &  0 &  0 &  0 &  0 &  0 &  0 &  0 &  0 &  0 &  0 &  0 &  0 &  0 & 2014-05-18 & 12 & 0 & 0 & 0 & 0 & 0 & 0 & 0 & 0 & 0 & 0 & 0 & 0 & 0 & 0 & 0 & 0 & 0 & 0\\\\\n",
       "\t 6 & 100013815 & 2018-10-22 &  1615.67 & 12 & 1145.16 & 1 &  5 & 1 & 1 & 0 &  3 & 0 &   0.00 &  0 &   0.00 & 0 & 0 & 0 & 0 & 0 &  0.00 & 0 &   0.00 & 0 &    0.00 & 0 & 0 & TRUE & FALSE & FALSE & NA & FALSE & FALSE &  TRUE & FALSE & FALSE & FALSE & FALSE & FALSE &  TRUE & NA         & NA         &         NA &         NA & 1235147182 & 2018 & NA & FALSE & FALSE &  381.15 & 4 & 342.90 & 0 &  3 & 0 & 1 & 0 & 2 & 0 &   0.00 & 0 &  0.00 & 0 & 0 & 0 & 0 & 0 &  0.00 & 0 &  0.00 & 0 &    0.00 & 0 & 0 & 0 & 0.00 &   0.00 & 0 & 0 & 0 & 0 &    0.00 & 0 & 0 & 0.00 &   0.0 & 0 & 0 & 0 & 0 &    0.00 & 0 & 1145.16 &   0.00 &   0.00 & 0 & 0 &  0.00 &   0.00 &    0.00 & 0 & 342.90 &   0.00 &   0.00 & 0 & 0 &  0.00 &  0.00 &    0.00 & 0 & 1145.16 &    0.00 & 342.90 &    0.00 & 12 & 0 &  4 & 0 & 13 & 10 & 280 & 2 & 1 & 76 & 0 & 0 & 3 & 3 & 3 & 3 & 3 & 3 & 3 & 3 & 3 & 3 & 3 & 3 & 0 & 0 & 0 & 0 & 0 & 0 & 0 & 0 & 0 & 0 & 0 & ⋯ & 0 & FL & 0 & 1 & 45300 & Tampa-St. Petersburg-Clearwater, FL   & 0 &  4424 &  446058.3 & 2035 & 111111111111 &  4424 &  446058.3 & 2035 &           NA &  NA &       NA &  NA & 1964 &  3071 &  298 & FALSE &  233.44 &  1382.23 &  2 & 1 &  3 & 0 &  124.40 &  256.75 & NA &        NA & NA &        NA & NA &       NA & NA &       NA &  233.44 &  124.40 &   1382.23 &   256.75 & 2017 & NA & NA & NA & NA & NA & NA & NA & NA & NA & NA & NA & NA & NA & NA & NA & NA & NA & NA & NA & NA & NA & NA & NA & NA & NA & NA & NA & NA & NA & NA & NA & NA & NA & NA & NA & NA & NA & NA & NA & NA & NA & NA & NA & NA & NA & NA & NA & NA & NA & NA & NA & NA & NA & NA & NA & NA & NA & NA & NA & NA & NA & NA & NA & NA & NA & NA & NA & NA & NA & NA & NA & NA & NA & NA & NA & NA & NA & NA & NA & NA & NA & NA & NA & NA & NA & NA & NA & 2017-10-22 & 12 & 1 & 0 & 0 & 0 & 0 & 0 & 0 & 0 & 0 & 0 & 0 & 0 & 1 & 0 & 0 & 0 & 0 & 3\\\\\n",
       "\\end{tabular}\n"
      ],
      "text/markdown": [
       "\n",
       "A data.table: 6 × 704\n",
       "\n",
       "| X &lt;int&gt; | DESY_SORT_KEY &lt;int&gt; | first_diagnosis &lt;chr&gt; | tot_allowed_carrier &lt;dbl&gt; | office_visit_count &lt;int&gt; | office_visit_cost_carrier &lt;dbl&gt; | cardiology_visit_count &lt;int&gt; | distinct_clinicians &lt;int&gt; | distinct_cardiologists &lt;int&gt; | distinct_primary_care_physicians &lt;int&gt; | distinct_surgeons &lt;int&gt; | distinct_other_specialties &lt;int&gt; | catheterization_count &lt;int&gt; | catheterization_cost_carrier &lt;dbl&gt; | ecg_count &lt;int&gt; | ecg_cost_carrier &lt;dbl&gt; | cardiac_ct_count &lt;int&gt; | cardiac_ct_cost_carrier &lt;dbl&gt; | cardiac_mri_count &lt;int&gt; | cardiac_mri_cost_carrier &lt;dbl&gt; | stress_test_count &lt;int&gt; | stress_test_cost_carrier &lt;dbl&gt; | echocardiography_count &lt;int&gt; | echocardiography_cost_carrier &lt;dbl&gt; | angioplasty_count &lt;int&gt; | angioplasty_cost_carrier &lt;dbl&gt; | CABG_count &lt;int&gt; | CABG_cost_carrier &lt;dbl&gt; | stable_angina &lt;lgl&gt; | unstable_angina &lt;lgl&gt; | MI &lt;lgl&gt; | MI_date &lt;chr&gt; | cardiac_arrest &lt;lgl&gt; | stroke &lt;lgl&gt; | hypertension &lt;lgl&gt; | copd &lt;lgl&gt; | obesity &lt;lgl&gt; | depression &lt;lgl&gt; | diabetes &lt;lgl&gt; | icd_9_pure &lt;lgl&gt; | icd_10_pure &lt;lgl&gt; | catheterization_date &lt;chr&gt; | angioplasty_date &lt;chr&gt; | catheterization_doc_NPI &lt;int&gt; | angioplasty_doc_NPI &lt;int&gt; | diagnosing_doc_NPI &lt;int&gt; | year_first_diagnosed &lt;int&gt; | time_difference_angio_cath &lt;int&gt; | angioplasty_with_cath &lt;lgl&gt; | angioplasty_during_year_after_cath &lt;lgl&gt; | tot_allowed_carrier_cardiology_related &lt;dbl&gt; | office_visit_count_cardiology_related &lt;int&gt; | office_visit_cost_carrier_cardiology_related &lt;dbl&gt; | cardiology_visit_count_cardiology_related &lt;int&gt; | distinct_clinicians_cardiology_related &lt;int&gt; | distinct_cardiologists_cardiology_related &lt;int&gt; | distinct_primary_care_physicians_cardiology_related &lt;int&gt; | distinct_surgeons_cardiology_related &lt;int&gt; | distinct_other_specialties_cardiology_related &lt;int&gt; | catheterization_count_cardiology_related &lt;int&gt; | catheterization_cost_carrier_cardiology_related &lt;dbl&gt; | ecg_count_cardiology_related &lt;int&gt; | ecg_cost_carrier_cardiology_related &lt;dbl&gt; | cardiac_ct_count_cardiology_related &lt;int&gt; | cardiac_ct_cost_carrier_cardiology_related &lt;dbl&gt; | cardiac_mri_count_cardiology_related &lt;int&gt; | cardiac_mri_cost_carrier_cardiology_related &lt;dbl&gt; | stress_test_count_cardiology_related &lt;int&gt; | stress_test_cost_carrier_cardiology_related &lt;dbl&gt; | echocardiography_count_cardiology_related &lt;int&gt; | echocardiography_cost_carrier_cardiology_related &lt;dbl&gt; | angioplasty_count_cardiology_related &lt;int&gt; | angioplasty_cost_carrier_cardiology_related &lt;dbl&gt; | CABG_count_cardiology_related &lt;int&gt; | CABG_cost_carrier_cardiology_related &lt;dbl&gt; | office_visit_cost_outpatient &lt;dbl&gt; | catheterization_cost_outpatient &lt;dbl&gt; | ecg_cost_outpatient &lt;dbl&gt; | cardiac_ct_cost_outpatient &lt;dbl&gt; | cardiac_mri_cost_outpatient &lt;dbl&gt; | stress_test_cost_outpatient &lt;dbl&gt; | echocardiography_cost_outpatient &lt;dbl&gt; | angioplasty_cost_outpatient &lt;dbl&gt; | CABG_cost_outpatient &lt;int&gt; | office_visit_cost_outpatient_cardiology_related &lt;dbl&gt; | catheterization_cost_outpatient_cardiology_related &lt;dbl&gt; | ecg_cost_outpatient_cardiology_related &lt;dbl&gt; | cardiac_ct_cost_outpatient_cardiology_related &lt;dbl&gt; | cardiac_mri_cost_outpatient_cardiology_related &lt;dbl&gt; | stress_test_cost_outpatient_cardiology_related &lt;dbl&gt; | echocardiography_cost_outpatient_cardiology_related &lt;dbl&gt; | angioplasty_cost_outpatient_cardiology_related &lt;dbl&gt; | CABG_cost_outpatient_cardiology_related &lt;int&gt; | office_visit_cost &lt;dbl&gt; | catheterization_cost &lt;dbl&gt; | ecg_cost &lt;dbl&gt; | cardiac_ct_cost &lt;dbl&gt; | cardiac_mri_cost &lt;dbl&gt; | stress_test_cost &lt;dbl&gt; | echocardiography_cost &lt;dbl&gt; | angioplasty_cost &lt;dbl&gt; | CABG_cost &lt;dbl&gt; | office_visit_cost_cardiology_related &lt;dbl&gt; | catheterization_cost_cardiology_related &lt;dbl&gt; | ecg_cost_cardiology_related &lt;dbl&gt; | cardiac_ct_cost_cardiology_related &lt;dbl&gt; | cardiac_mri_cost_cardiology_related &lt;dbl&gt; | stress_test_cost_cardiology_related &lt;dbl&gt; | echocardiography_cost_cardiology_related &lt;dbl&gt; | angioplasty_cost_cardiology_related &lt;dbl&gt; | CABG_cost_cardiology_related &lt;dbl&gt; | tot_cheap_prcdr_cost &lt;dbl&gt; | tot_expensive_prcdr_cost &lt;dbl&gt; | tot_cheap_prcdr_cost_cardiology_related &lt;dbl&gt; | tot_expensive_prcdr_cost_cardiology_related &lt;dbl&gt; | tot_cheap_prcdr_count &lt;int&gt; | tot_expensive_prcdr_count &lt;int&gt; | tot_cheap_prcdr_count_cardiology_related &lt;int&gt; | tot_expensive_prcdr_count_cardiology_related &lt;int&gt; | REFERENCE_YEAR_2013 &lt;int&gt; | STATE_CODE_2013 &lt;int&gt; | COUNTY_CODE_2013 &lt;int&gt; | SEX_CODE_2013 &lt;int&gt; | RACE_CODE_2013 &lt;int&gt; | AGE_2013 &lt;int&gt; | ORIG_REASON_FOR_ENTITLEMENT_2013 &lt;int&gt; | CURR_REASON_FOR_ENTITLEMENT_2013 &lt;int&gt; | ENTITLEMENT_BUY_IN_IND01_2013 &lt;chr&gt; | ENTITLEMENT_BUY_IN_IND02_2013 &lt;chr&gt; | ENTITLEMENT_BUY_IN_IND03_2013 &lt;chr&gt; | ENTITLEMENT_BUY_IN_IND04_2013 &lt;chr&gt; | ENTITLEMENT_BUY_IN_IND05_2013 &lt;chr&gt; | ENTITLEMENT_BUY_IN_IND06_2013 &lt;chr&gt; | ENTITLEMENT_BUY_IN_IND07_2013 &lt;chr&gt; | ENTITLEMENT_BUY_IN_IND08_2013 &lt;chr&gt; | ENTITLEMENT_BUY_IN_IND09_2013 &lt;chr&gt; | ENTITLEMENT_BUY_IN_IND10_2013 &lt;chr&gt; | ENTITLEMENT_BUY_IN_IND11_2013 &lt;chr&gt; | ENTITLEMENT_BUY_IN_IND12_2013 &lt;chr&gt; | HMO_INDICATOR01_2013 &lt;chr&gt; | HMO_INDICATOR02_2013 &lt;chr&gt; | HMO_INDICATOR03_2013 &lt;chr&gt; | HMO_INDICATOR04_2013 &lt;chr&gt; | HMO_INDICATOR05_2013 &lt;chr&gt; | HMO_INDICATOR06_2013 &lt;chr&gt; | HMO_INDICATOR07_2013 &lt;chr&gt; | HMO_INDICATOR08_2013 &lt;chr&gt; | HMO_INDICATOR09_2013 &lt;chr&gt; | HMO_INDICATOR10_2013 &lt;chr&gt; | HMO_INDICATOR11_2013 &lt;chr&gt; | ⋯ ⋯ | POS_OTHER &lt;dbl&gt; | STATE &lt;chr&gt; | STATE_MULTI &lt;int&gt; | CBSA_TYPE &lt;int&gt; | CBSA_CD &lt;int&gt; | CBSA_NAME &lt;chr&gt; | CBSA_MULTI &lt;int&gt; | NPI_SRVC_LINES &lt;int&gt; | NPI_ALLOWED_AMT &lt;dbl&gt; | NPI_UNQ_BENES &lt;int&gt; | TIN1_SRVC_MONTH &lt;dbl&gt; | TIN1_SRVC_LINES &lt;int&gt; | TIN1_ALLOWED_AMT &lt;dbl&gt; | TIN1_UNQ_BENES &lt;int&gt; | TIN2_SRVC_MONTH &lt;dbl&gt; | TIN2_SRVC_LINES &lt;int&gt; | TIN2_ALLOWED_AMT &lt;dbl&gt; | TIN2_UNQ_BENES &lt;int&gt; | BIRTH_YR &lt;int&gt; | lns_office &lt;dbl&gt; | lns_opd &lt;dbl&gt; | most_common_cardiologist_integrated_in_year_of_diagnosis &lt;lgl&gt; | tot_allowed_carrier_same_tin &lt;dbl&gt; | tot_allowed_carrier_not_same_tin &lt;dbl&gt; | distinct_clinicians_same_tin &lt;int&gt; | distinct_cardiologists_same_tin &lt;int&gt; | distinct_clinicians_not_same_tin &lt;int&gt; | distinct_cardiologists_not_same_tin &lt;int&gt; | tot_allowed_carrier_same_tin_cardiology_related &lt;dbl&gt; | tot_allowed_carrier_not_same_tin_cardiology_related &lt;dbl&gt; | tot_allowed_outpatient_same_tin &lt;dbl&gt; | tot_allowed_outpatient_not_same_tin &lt;dbl&gt; | tot_allowed_inpatient_same_tin &lt;dbl&gt; | tot_allowed_inpatient_not_same_tin &lt;dbl&gt; | tot_allowed_outpatient_same_tin_cardiology_related &lt;dbl&gt; | tot_allowed_outpatient_not_same_tin_cardiology_related &lt;dbl&gt; | tot_allowed_inpatient_same_tin_cardiology_related &lt;dbl&gt; | tot_allowed_inpatient_not_same_tin_cardiology_related &lt;dbl&gt; | total_exp_same_tin &lt;dbl&gt; | total_exp_same_tin_cardiology_related &lt;dbl&gt; | total_exp_not_same_tin &lt;dbl&gt; | total_exp_not_same_tin_cardiology_related &lt;dbl&gt; | year_before_diagnosis &lt;int&gt; | hcc1 &lt;int&gt; | hcc2 &lt;int&gt; | hcc6 &lt;int&gt; | hcc8 &lt;int&gt; | hcc9 &lt;int&gt; | hcc10 &lt;int&gt; | hcc11 &lt;int&gt; | hcc12 &lt;int&gt; | hcc17 &lt;int&gt; | hcc18 &lt;int&gt; | hcc19 &lt;int&gt; | hcc21 &lt;int&gt; | hcc22 &lt;int&gt; | hcc23 &lt;int&gt; | hcc27 &lt;int&gt; | hcc28 &lt;int&gt; | hcc29 &lt;int&gt; | hcc33 &lt;int&gt; | hcc34 &lt;int&gt; | hcc35 &lt;int&gt; | hcc39 &lt;int&gt; | hcc40 &lt;int&gt; | hcc46 &lt;int&gt; | hcc47 &lt;int&gt; | hcc48 &lt;int&gt; | hcc51 &lt;int&gt; | hcc52 &lt;int&gt; | hcc54 &lt;int&gt; | hcc55 &lt;int&gt; | hcc57 &lt;int&gt; | hcc58 &lt;int&gt; | hcc70 &lt;int&gt; | hcc71 &lt;int&gt; | hcc72 &lt;int&gt; | hcc73 &lt;int&gt; | hcc74 &lt;int&gt; | hcc75 &lt;int&gt; | hcc76 &lt;int&gt; | hcc77 &lt;int&gt; | hcc78 &lt;int&gt; | hcc79 &lt;int&gt; | hcc80 &lt;int&gt; | hcc82 &lt;int&gt; | hcc83 &lt;int&gt; | hcc84 &lt;int&gt; | hcc85 &lt;int&gt; | hcc86 &lt;int&gt; | hcc87 &lt;int&gt; | hcc88 &lt;int&gt; | hcc96 &lt;int&gt; | hcc99 &lt;int&gt; | hcc100 &lt;int&gt; | hcc103 &lt;int&gt; | hcc104 &lt;int&gt; | hcc106 &lt;int&gt; | hcc107 &lt;int&gt; | hcc108 &lt;int&gt; | hcc110 &lt;int&gt; | hcc111 &lt;int&gt; | hcc112 &lt;int&gt; | hcc114 &lt;int&gt; | hcc115 &lt;int&gt; | hcc122 &lt;int&gt; | hcc124 &lt;int&gt; | hcc134 &lt;int&gt; | hcc135 &lt;int&gt; | hcc136 &lt;int&gt; | hcc137 &lt;int&gt; | hcc138 &lt;int&gt; | hcc139 &lt;int&gt; | hcc140 &lt;int&gt; | hcc141 &lt;int&gt; | hcc157 &lt;int&gt; | hcc158 &lt;int&gt; | hcc159 &lt;int&gt; | hcc160 &lt;int&gt; | hcc161 &lt;int&gt; | hcc162 &lt;int&gt; | hcc166 &lt;int&gt; | hcc167 &lt;int&gt; | hcc169 &lt;int&gt; | hcc170 &lt;int&gt; | hcc173 &lt;int&gt; | hcc176 &lt;int&gt; | hcc186 &lt;int&gt; | hcc188 &lt;int&gt; | hcc189 &lt;int&gt; | date_year_before_diagnosis &lt;chr&gt; | year_before_ENTITLEMENT_BUY_IN_IND_sum &lt;int&gt; | mi &lt;int&gt; | chf &lt;int&gt; | pvd &lt;int&gt; | cevd &lt;int&gt; | dementia &lt;int&gt; | cpd &lt;int&gt; | rheumd &lt;int&gt; | pud &lt;int&gt; | mld &lt;int&gt; | diab &lt;int&gt; | diabwc &lt;int&gt; | hp &lt;int&gt; | rend &lt;int&gt; | canc &lt;int&gt; | msld &lt;int&gt; | metacanc &lt;int&gt; | aids &lt;int&gt; | wscore &lt;int&gt; |\n",
       "|---|---|---|---|---|---|---|---|---|---|---|---|---|---|---|---|---|---|---|---|---|---|---|---|---|---|---|---|---|---|---|---|---|---|---|---|---|---|---|---|---|---|---|---|---|---|---|---|---|---|---|---|---|---|---|---|---|---|---|---|---|---|---|---|---|---|---|---|---|---|---|---|---|---|---|---|---|---|---|---|---|---|---|---|---|---|---|---|---|---|---|---|---|---|---|---|---|---|---|---|---|---|---|---|---|---|---|---|---|---|---|---|---|---|---|---|---|---|---|---|---|---|---|---|---|---|---|---|---|---|---|---|---|---|---|---|---|---|---|---|---|---|---|---|---|---|---|---|---|---|---|---|---|---|---|---|---|---|---|---|---|---|---|---|---|---|---|---|---|---|---|---|---|---|---|---|---|---|---|---|---|---|---|---|---|---|---|---|---|---|---|---|---|---|---|---|---|---|---|---|---|---|---|---|---|---|---|---|---|---|---|---|---|---|---|---|---|---|---|---|---|---|---|---|---|---|---|---|---|---|---|---|---|---|---|---|---|---|---|---|---|---|---|---|---|---|---|---|---|---|---|---|---|---|---|---|---|---|---|---|---|---|---|---|---|---|---|---|---|---|---|---|---|---|---|---|---|---|---|---|---|---|---|---|---|---|---|---|---|---|---|---|---|---|---|---|---|---|---|---|---|\n",
       "| 1 | 100004643 | 2018-07-24 |  2164.96 |  2 |  209.35 | 2 |  5 | 1 | 0 | 0 |  4 | 0 |   0.00 |  1 |  16.26 | 0 | 0 | 0 | 0 | 1 | 60.06 | 0 |   0.00 | 0 |    0.00 | 0 | 0 | TRUE | FALSE | FALSE | NA | FALSE | FALSE |  TRUE | FALSE | FALSE | FALSE | FALSE | FALSE |  TRUE | NA         | NA         |         NA |         NA | 1922000801 | 2018 | NA | FALSE | FALSE | 1098.55 | 1 | 104.30 | 1 |  5 | 1 | 0 | 0 | 4 | 0 |   0.00 | 1 | 16.26 | 0 | 0 | 0 | 0 | 0 |  0.00 | 0 |  0.00 | 0 |    0.00 | 0 | 0 | 0 | 0.00 |   0.00 | 0 | 0 | 0 | 0 |    0.00 | 0 | 0 | 0.00 |   0.0 | 0 | 0 | 0 | 0 |    0.00 | 0 |  209.35 |   0.00 |  16.26 | 0 | 0 | 60.06 |   0.00 |    0.00 | 0 | 104.30 |   0.00 |  16.26 | 0 | 0 |  0.00 |  0.00 |    0.00 | 0 |  269.41 |    0.00 | 104.30 |    0.00 |  3 | 0 |  1 | 0 | 13 | 34 | 240 | 2 | 1 | 77 | 0 | 0 | 3 | 3 | 3 | 3 | 3 | 3 | 3 | 3 | 3 | 3 | 3 | 3 | 0 | 0 | 0 | 0 | 0 | 0 | 0 | 0 | 0 | 0 | 0 | ⋯ | 0 | LA | 0 | 1 | 29180 | Lafayette, LA                         | 0 | 14723 | 1811872.4 | 2866 | 111111111111 | 14396 | 1788733.8 | 2754 | 111111111111 | 327 | 23138.52 | 307 | 1967 | 12972 |  959 | FALSE | 1345.60 |   819.36 |  1 | 1 |  4 | 0 |  310.35 |  788.20 | NA |        NA | NA |        NA | NA |       NA | NA |       NA | 1345.60 |  310.35 |    819.36 |   788.20 | 2017 |  0 |  0 |  0 |  0 |  0 |  0 |  0 |  0 |  0 |  0 |  0 |  0 |  0 |  0 |  0 |  0 |  0 |  0 |  0 |  0 |  0 |  0 |  0 |  0 |  1 |  0 |  0 |  0 |  0 |  0 |  0 |  0 |  0 |  0 |  0 |  0 |  0 |  0 |  0 |  0 |  0 |  0 |  0 |  0 |  0 |  1 |  1 |  0 |  0 |  1 |  0 |  1 |  0 |  0 |  0 |  0 |  1 |  0 |  0 |  0 |  0 |  0 |  0 |  0 |  0 |  1 |  0 |  0 |  0 |  0 |  0 |  0 |  0 |  0 |  0 |  0 |  0 |  0 |  0 |  0 |  0 |  0 |  0 |  0 |  0 |  0 |  0 | 2017-07-24 | 12 | 0 | 0 | 0 | 1 | 0 | 0 | 0 | 0 | 0 | 0 | 0 | 0 | 0 | 0 | 0 | 0 | 0 | 1 |\n",
       "| 2 | 100008543 | 2014-04-16 |  2149.56 | 12 |  869.89 | 2 | 22 | 4 | 5 | 1 | 12 | 0 |   0.00 |  3 |  25.29 | 0 | 0 | 0 | 0 | 0 |  0.00 | 0 |   0.00 | 0 |    0.00 | 0 | 0 | TRUE | FALSE | FALSE | NA | FALSE | FALSE | FALSE | FALSE | FALSE | FALSE | FALSE |  TRUE | FALSE | NA         | NA         |         NA |         NA | 1033107701 | 2014 | NA | FALSE | FALSE |  178.71 | 2 | 146.81 | 1 |  4 | 3 | 1 | 0 | 0 | 0 |   0.00 | 0 |  0.00 | 0 | 0 | 0 | 0 | 0 |  0.00 | 0 |  0.00 | 0 |    0.00 | 0 | 0 | 0 | 0.00 | 490.65 | 0 | 0 | 0 | 0 |    0.00 | 0 | 0 | 0.00 | 126.3 | 0 | 0 | 0 | 0 |    0.00 | 0 |  869.89 |   0.00 | 515.94 | 0 | 0 |  0.00 |   0.00 |    0.00 | 0 | 146.81 |   0.00 | 126.30 | 0 | 0 |  0.00 |  0.00 |    0.00 | 0 |  869.89 |    0.00 | 146.81 |    0.00 | 12 | 0 |  2 | 0 | 13 | 49 |  90 | 1 | 1 | 76 | 0 | 0 | 3 | 3 | 3 | 3 | 3 | 3 | 3 | 3 | 3 | 3 | 3 | 3 | 0 | 0 | 0 | 0 | 0 | 0 | 0 | 0 | 0 | 0 | 0 | ⋯ | 0 | VA | 0 | 1 | 31340 | Lynchburg, VA                         | 0 |  2302 |  163198.9 | 1109 | 111111111111 |  2297 |  163157.3 | 1105 |      1000000 |   5 |    41.65 |   5 | 1948 |   427 | 1426 |  TRUE |  899.06 |  1250.50 | 13 | 4 |  9 | 0 |  106.90 |   71.81 |  0 |   6337.03 | NA |        NA |  0 |   372.60 | NA |       NA |  899.06 |  106.90 |   7587.53 |   444.41 | 2013 |  0 |  0 |  0 |  0 |  0 |  0 |  0 |  0 |  0 |  0 |  0 |  0 |  0 |  0 |  0 |  0 |  0 |  0 |  0 |  0 |  0 |  0 |  0 |  0 |  0 |  0 |  0 |  0 |  0 |  0 |  1 |  0 |  0 |  0 |  0 |  0 |  0 |  0 |  0 |  0 |  0 |  0 |  0 |  0 |  0 |  0 |  0 |  1 |  0 |  0 |  0 |  0 |  0 |  0 |  0 |  0 |  0 |  0 |  0 |  0 |  0 |  0 |  0 |  0 |  0 |  1 |  0 |  0 |  0 |  0 |  0 |  0 |  0 |  0 |  0 |  0 |  0 |  0 |  0 |  0 |  0 |  0 |  0 |  0 |  0 |  0 |  0 | 2013-04-16 | 12 | 0 | 0 | 0 | 0 | 0 | 0 | 0 | 0 | 0 | 0 | 0 | 0 | 0 | 0 | 0 | 0 | 0 | 0 |\n",
       "| 3 | 100010653 | 2014-02-14 | 16861.51 | 16 | 1376.90 | 4 | 49 | 9 | 7 | 2 | 31 | 1 | 345.44 | 12 | 114.88 | 0 | 0 | 0 | 0 | 0 |  0.00 | 2 | 133.10 | 2 |  991.67 | 0 | 0 | TRUE |  TRUE | FALSE | NA | FALSE | FALSE | FALSE |  TRUE | FALSE | FALSE | FALSE |  TRUE | FALSE | 2014-02-14 | 2014-02-24 | 1790758688 | 1114990025 | 1790758688 | 2014 | 10 | FALSE |  TRUE | 3309.14 | 3 | 258.31 | 2 | 13 | 7 | 2 | 1 | 3 | 1 | 345.44 | 5 | 36.15 | 0 | 0 | 0 | 0 | 0 |  0.00 | 1 | 66.55 | 2 |  991.67 | 0 | 0 | 0 | 0.00 |   0.00 | 0 | 0 | 0 | 0 |    0.00 | 0 | 0 | 0.00 |   0.0 | 0 | 0 | 0 | 0 |    0.00 | 0 | 1376.90 | 345.44 | 114.88 | 0 | 0 |  0.00 | 133.10 |  991.67 | 0 | 258.31 | 345.44 |  36.15 | 0 | 0 |  0.00 | 66.55 |  991.67 | 0 | 1510.00 | 1337.11 | 324.86 | 1337.11 | 18 | 3 |  4 | 3 | 13 | 33 | 740 | 2 | 1 | 76 | 0 | 0 | 3 | 3 | 3 | 3 | 3 | 3 | 3 | 3 | 3 | 3 | 3 | 3 | 0 | 0 | 0 | 0 | 0 | 0 | 0 | 0 | 0 | 0 | 0 | ⋯ | 0 | NY | 0 | 1 | 35620 | New York-Newark-Jersey City, NY-NJ-PA | 0 |  6565 |  428347.0 | 2519 | 111111111111 |  6565 |  428347.0 | 2519 |           NA |  NA |       NA |  NA | 1969 |  3188 |  693 | FALSE | 2848.26 | 14013.25 | 12 | 3 | 37 | 6 | 1035.17 | 2273.97 |  0 | 176109.78 |  0 | 311264.38 | NA |       NA | NA |       NA | 2848.26 | 1035.17 | 501387.41 |  2273.97 | 2013 |  0 |  1 |  0 |  0 |  0 |  0 |  0 |  0 |  0 |  0 |  1 |  0 |  0 |  1 |  0 |  0 |  0 |  0 |  0 |  0 |  0 |  0 |  0 |  0 |  0 |  0 |  0 |  0 |  0 |  0 |  0 |  0 |  0 |  0 |  0 |  0 |  0 |  0 |  0 |  0 |  0 |  0 |  0 |  0 |  1 |  1 |  0 |  0 |  0 |  0 |  0 |  0 |  0 |  0 |  0 |  0 |  0 |  0 |  1 |  0 |  0 |  1 |  0 |  0 |  1 |  1 |  0 |  0 |  0 |  0 |  0 |  0 |  0 |  0 |  0 |  0 |  0 |  0 |  0 |  0 |  0 |  0 |  0 |  0 |  0 |  0 |  0 | 2013-02-14 | 12 | 0 | 1 | 0 | 0 | 0 | 1 | 0 | 0 | 0 | 0 | 0 | 0 | 1 | 0 | 0 | 0 | 0 | 4 |\n",
       "| 4 | 100010781 | 2017-10-16 | 13178.43 | 14 | 1191.80 | 6 | 21 | 4 | 1 | 2 | 14 | 2 | 269.30 |  2 |  27.59 | 0 | 0 | 0 | 0 | 0 |  0.00 | 3 | 595.98 | 4 | 1543.65 | 0 | 0 | TRUE | FALSE | FALSE | NA | FALSE | FALSE | FALSE | FALSE | FALSE | FALSE | FALSE | FALSE |  TRUE | 2017-10-16 | 2017-10-16 | 1609845817 | 1609845817 | 1982698973 | 2017 |  0 |  TRUE |  TRUE | 2704.51 | 6 | 693.47 | 5 |  4 | 3 | 1 | 0 | 0 | 2 | 269.30 | 1 | 18.54 | 0 | 0 | 0 | 0 | 0 |  0.00 | 1 | 68.04 | 4 | 1543.65 | 0 | 0 | 0 | 0.01 |   0.00 | 0 | 0 | 0 | 0 | 6621.35 | 0 | 0 | 0.01 |   0.0 | 0 | 0 | 0 | 0 | 6621.35 | 0 | 1191.80 | 269.31 |  27.59 | 0 | 0 |  0.00 | 595.98 | 8165.00 | 0 | 693.47 | 269.31 |  18.54 | 0 | 0 |  0.00 | 68.04 | 8165.00 | 0 | 1787.78 | 8434.31 | 761.51 | 8434.31 | 17 | 6 |  7 | 6 | 13 | 21 |  20 | 2 | 1 | 76 | 0 | 0 | 3 | 3 | 3 | 3 | 3 | 3 | 3 | 3 | 3 | 3 | 3 | 3 | 0 | 0 | 0 | 0 | 0 | 0 | 0 | 0 | 0 | 0 | 0 | ⋯ | 0 | MD | 0 | 1 | 12580 | Baltimore-Columbia-Towson, MD         | 0 |  4629 |  418995.5 | 2323 | 111111111111 |  3860 |  411640.6 | 1814 | 111111111111 | 769 |  7354.90 | 674 | 1954 |  3325 |  203 |  TRUE | 1318.46 | 11859.97 |  2 | 1 | 19 | 3 |  367.64 | 2336.87 |  0 |  17704.68 |  0 |  13915.48 |  0 | 12305.11 |  0 | 13915.48 | 1318.46 |  367.64 |  43480.13 | 28557.46 | 2016 |  0 |  0 |  0 |  0 |  0 |  0 |  0 |  0 |  0 |  0 |  0 |  0 |  0 |  0 |  0 |  0 |  0 |  0 |  0 |  0 |  0 |  0 |  0 |  0 |  0 |  0 |  0 |  0 |  0 |  0 |  0 |  0 |  0 |  0 |  0 |  0 |  0 |  0 |  0 |  0 |  0 |  0 |  0 |  0 |  0 |  0 |  0 |  0 |  0 |  1 |  0 |  0 |  0 |  0 |  0 |  0 |  0 |  0 |  0 |  0 |  0 |  0 |  0 |  0 |  0 |  0 |  0 |  0 |  0 |  0 |  0 |  0 |  0 |  0 |  0 |  0 |  0 |  0 |  0 |  0 |  0 |  0 |  0 |  0 |  0 |  0 |  0 | 2016-10-16 | 12 | 0 | 1 | 0 | 0 | 0 | 0 | 0 | 0 | 0 | 0 | 0 | 0 | 0 | 0 | 0 | 0 | 0 | 1 |\n",
       "| 5 | 100013703 | 2015-05-18 |  6408.96 | 11 |  855.53 | 0 | 15 | 0 | 1 | 1 | 13 | 0 |   0.00 |  2 |  34.03 | 0 | 0 | 0 | 0 | 1 | 65.83 | 0 |   0.00 | 0 |    0.00 | 0 | 0 | TRUE |  TRUE | FALSE | NA | FALSE | FALSE |  TRUE | FALSE | FALSE | FALSE | FALSE | FALSE | FALSE | NA         | NA         |         NA |         NA | 1982617072 | 2015 | NA | FALSE | FALSE | 1637.42 | 9 | 711.56 | 0 |  3 | 0 | 1 | 0 | 2 | 0 |   0.00 | 2 | 34.03 | 0 | 0 | 0 | 0 | 1 | 65.83 | 0 |  0.00 | 0 |    0.00 | 0 | 0 | 0 | 0.00 |   0.00 | 0 | 0 | 0 | 0 |    0.00 | 0 | 0 | 0.00 |   0.0 | 0 | 0 | 0 | 0 |    0.00 | 0 |  855.53 |   0.00 |  34.03 | 0 | 0 | 65.83 |   0.00 |    0.00 | 0 | 711.56 |   0.00 |  34.03 | 0 | 0 | 65.83 |  0.00 |    0.00 | 0 |  921.36 |    0.00 | 777.39 |    0.00 | 12 | 0 | 10 | 0 | 13 | 10 |  70 | 2 | 1 | 76 | 0 | 0 | 3 | 3 | 3 | 3 | 3 | 3 | 3 | 3 | 3 | 3 | 3 | 3 | 0 | 0 | 0 | 0 | 0 | 0 | 0 | 0 | 0 | 0 | 0 | ⋯ | 0 | FL | 0 | 1 | 39460 | Punta Gorda, FL                       | 1 |  7582 | 1252974.0 | 1892 | 111111111111 |  7559 | 1247715.9 | 1873 |   1101010111 |  23 |  5258.12 |  19 | 1959 |  6029 |  315 | FALSE | 1268.06 |  5140.90 |  3 | 0 | 12 | 0 | 1158.92 |  478.50 |  0 |   1037.85 | NA |        NA | NA |       NA | NA |       NA | 1268.06 | 1158.92 |   6178.75 |   478.50 | 2014 |  0 |  0 |  0 |  0 |  0 |  0 |  0 |  0 |  0 |  0 |  0 |  0 |  0 |  0 |  0 |  0 |  0 |  0 |  0 |  0 |  0 |  0 |  0 |  0 |  0 |  0 |  0 |  0 |  0 |  0 |  0 |  0 |  0 |  0 |  0 |  0 |  0 |  0 |  0 |  0 |  0 |  0 |  0 |  0 |  0 |  0 |  0 |  1 |  0 |  0 |  0 |  0 |  0 |  0 |  0 |  0 |  0 |  0 |  0 |  0 |  0 |  0 |  0 |  0 |  0 |  0 |  0 |  0 |  0 |  0 |  0 |  0 |  0 |  0 |  0 |  0 |  0 |  0 |  0 |  0 |  0 |  0 |  0 |  0 |  0 |  0 |  0 | 2014-05-18 | 12 | 0 | 0 | 0 | 0 | 0 | 0 | 0 | 0 | 0 | 0 | 0 | 0 | 0 | 0 | 0 | 0 | 0 | 0 |\n",
       "| 6 | 100013815 | 2018-10-22 |  1615.67 | 12 | 1145.16 | 1 |  5 | 1 | 1 | 0 |  3 | 0 |   0.00 |  0 |   0.00 | 0 | 0 | 0 | 0 | 0 |  0.00 | 0 |   0.00 | 0 |    0.00 | 0 | 0 | TRUE | FALSE | FALSE | NA | FALSE | FALSE |  TRUE | FALSE | FALSE | FALSE | FALSE | FALSE |  TRUE | NA         | NA         |         NA |         NA | 1235147182 | 2018 | NA | FALSE | FALSE |  381.15 | 4 | 342.90 | 0 |  3 | 0 | 1 | 0 | 2 | 0 |   0.00 | 0 |  0.00 | 0 | 0 | 0 | 0 | 0 |  0.00 | 0 |  0.00 | 0 |    0.00 | 0 | 0 | 0 | 0.00 |   0.00 | 0 | 0 | 0 | 0 |    0.00 | 0 | 0 | 0.00 |   0.0 | 0 | 0 | 0 | 0 |    0.00 | 0 | 1145.16 |   0.00 |   0.00 | 0 | 0 |  0.00 |   0.00 |    0.00 | 0 | 342.90 |   0.00 |   0.00 | 0 | 0 |  0.00 |  0.00 |    0.00 | 0 | 1145.16 |    0.00 | 342.90 |    0.00 | 12 | 0 |  4 | 0 | 13 | 10 | 280 | 2 | 1 | 76 | 0 | 0 | 3 | 3 | 3 | 3 | 3 | 3 | 3 | 3 | 3 | 3 | 3 | 3 | 0 | 0 | 0 | 0 | 0 | 0 | 0 | 0 | 0 | 0 | 0 | ⋯ | 0 | FL | 0 | 1 | 45300 | Tampa-St. Petersburg-Clearwater, FL   | 0 |  4424 |  446058.3 | 2035 | 111111111111 |  4424 |  446058.3 | 2035 |           NA |  NA |       NA |  NA | 1964 |  3071 |  298 | FALSE |  233.44 |  1382.23 |  2 | 1 |  3 | 0 |  124.40 |  256.75 | NA |        NA | NA |        NA | NA |       NA | NA |       NA |  233.44 |  124.40 |   1382.23 |   256.75 | 2017 | NA | NA | NA | NA | NA | NA | NA | NA | NA | NA | NA | NA | NA | NA | NA | NA | NA | NA | NA | NA | NA | NA | NA | NA | NA | NA | NA | NA | NA | NA | NA | NA | NA | NA | NA | NA | NA | NA | NA | NA | NA | NA | NA | NA | NA | NA | NA | NA | NA | NA | NA | NA | NA | NA | NA | NA | NA | NA | NA | NA | NA | NA | NA | NA | NA | NA | NA | NA | NA | NA | NA | NA | NA | NA | NA | NA | NA | NA | NA | NA | NA | NA | NA | NA | NA | NA | NA | 2017-10-22 | 12 | 1 | 0 | 0 | 0 | 0 | 0 | 0 | 0 | 0 | 0 | 0 | 0 | 1 | 0 | 0 | 0 | 0 | 3 |\n",
       "\n"
      ],
      "text/plain": [
       "  X DESY_SORT_KEY first_diagnosis tot_allowed_carrier office_visit_count office_visit_cost_carrier cardiology_visit_count distinct_clinicians distinct_cardiologists distinct_primary_care_physicians distinct_surgeons distinct_other_specialties catheterization_count catheterization_cost_carrier\n",
       "1 1 100004643     2018-07-24       2164.96             2                  209.35                   2                       5                  1                      0                                0                  4                         0                       0.00                      \n",
       "2 2 100008543     2014-04-16       2149.56            12                  869.89                   2                      22                  4                      5                                1                 12                         0                       0.00                      \n",
       "3 3 100010653     2014-02-14      16861.51            16                 1376.90                   4                      49                  9                      7                                2                 31                         1                     345.44                      \n",
       "4 4 100010781     2017-10-16      13178.43            14                 1191.80                   6                      21                  4                      1                                2                 14                         2                     269.30                      \n",
       "5 5 100013703     2015-05-18       6408.96            11                  855.53                   0                      15                  0                      1                                1                 13                         0                       0.00                      \n",
       "6 6 100013815     2018-10-22       1615.67            12                 1145.16                   1                       5                  1                      1                                0                  3                         0                       0.00                      \n",
       "  ecg_count ecg_cost_carrier cardiac_ct_count cardiac_ct_cost_carrier cardiac_mri_count cardiac_mri_cost_carrier stress_test_count stress_test_cost_carrier echocardiography_count echocardiography_cost_carrier angioplasty_count angioplasty_cost_carrier CABG_count CABG_cost_carrier stable_angina\n",
       "1  1         16.26           0                0                       0                 0                        1                 60.06                    0                        0.00                        0                    0.00                  0          0                 TRUE         \n",
       "2  3         25.29           0                0                       0                 0                        0                  0.00                    0                        0.00                        0                    0.00                  0          0                 TRUE         \n",
       "3 12        114.88           0                0                       0                 0                        0                  0.00                    2                      133.10                        2                  991.67                  0          0                 TRUE         \n",
       "4  2         27.59           0                0                       0                 0                        0                  0.00                    3                      595.98                        4                 1543.65                  0          0                 TRUE         \n",
       "5  2         34.03           0                0                       0                 0                        1                 65.83                    0                        0.00                        0                    0.00                  0          0                 TRUE         \n",
       "6  0          0.00           0                0                       0                 0                        0                  0.00                    0                        0.00                        0                    0.00                  0          0                 TRUE         \n",
       "  unstable_angina MI    MI_date cardiac_arrest stroke hypertension copd  obesity depression diabetes icd_9_pure icd_10_pure catheterization_date angioplasty_date catheterization_doc_NPI angioplasty_doc_NPI diagnosing_doc_NPI year_first_diagnosed time_difference_angio_cath angioplasty_with_cath\n",
       "1 FALSE           FALSE NA      FALSE          FALSE   TRUE        FALSE FALSE   FALSE      FALSE    FALSE       TRUE       NA                   NA                       NA                      NA          1922000801         2018                 NA                         FALSE                \n",
       "2 FALSE           FALSE NA      FALSE          FALSE  FALSE        FALSE FALSE   FALSE      FALSE     TRUE      FALSE       NA                   NA                       NA                      NA          1033107701         2014                 NA                         FALSE                \n",
       "3  TRUE           FALSE NA      FALSE          FALSE  FALSE         TRUE FALSE   FALSE      FALSE     TRUE      FALSE       2014-02-14           2014-02-24       1790758688              1114990025          1790758688         2014                 10                         FALSE                \n",
       "4 FALSE           FALSE NA      FALSE          FALSE  FALSE        FALSE FALSE   FALSE      FALSE    FALSE       TRUE       2017-10-16           2017-10-16       1609845817              1609845817          1982698973         2017                  0                          TRUE                \n",
       "5  TRUE           FALSE NA      FALSE          FALSE   TRUE        FALSE FALSE   FALSE      FALSE    FALSE      FALSE       NA                   NA                       NA                      NA          1982617072         2015                 NA                         FALSE                \n",
       "6 FALSE           FALSE NA      FALSE          FALSE   TRUE        FALSE FALSE   FALSE      FALSE    FALSE       TRUE       NA                   NA                       NA                      NA          1235147182         2018                 NA                         FALSE                \n",
       "  angioplasty_during_year_after_cath tot_allowed_carrier_cardiology_related office_visit_count_cardiology_related office_visit_cost_carrier_cardiology_related cardiology_visit_count_cardiology_related distinct_clinicians_cardiology_related distinct_cardiologists_cardiology_related\n",
       "1 FALSE                              1098.55                                1                                     104.30                                       1                                          5                                     1                                        \n",
       "2 FALSE                               178.71                                2                                     146.81                                       1                                          4                                     3                                        \n",
       "3  TRUE                              3309.14                                3                                     258.31                                       2                                         13                                     7                                        \n",
       "4  TRUE                              2704.51                                6                                     693.47                                       5                                          4                                     3                                        \n",
       "5 FALSE                              1637.42                                9                                     711.56                                       0                                          3                                     0                                        \n",
       "6 FALSE                               381.15                                4                                     342.90                                       0                                          3                                     0                                        \n",
       "  distinct_primary_care_physicians_cardiology_related distinct_surgeons_cardiology_related distinct_other_specialties_cardiology_related catheterization_count_cardiology_related catheterization_cost_carrier_cardiology_related ecg_count_cardiology_related ecg_cost_carrier_cardiology_related\n",
       "1 0                                                   0                                    4                                             0                                          0.00                                          1                            16.26                              \n",
       "2 1                                                   0                                    0                                             0                                          0.00                                          0                             0.00                              \n",
       "3 2                                                   1                                    3                                             1                                        345.44                                          5                            36.15                              \n",
       "4 1                                                   0                                    0                                             2                                        269.30                                          1                            18.54                              \n",
       "5 1                                                   0                                    2                                             0                                          0.00                                          2                            34.03                              \n",
       "6 1                                                   0                                    2                                             0                                          0.00                                          0                             0.00                              \n",
       "  cardiac_ct_count_cardiology_related cardiac_ct_cost_carrier_cardiology_related cardiac_mri_count_cardiology_related cardiac_mri_cost_carrier_cardiology_related stress_test_count_cardiology_related stress_test_cost_carrier_cardiology_related echocardiography_count_cardiology_related\n",
       "1 0                                   0                                          0                                    0                                           0                                     0.00                                       0                                        \n",
       "2 0                                   0                                          0                                    0                                           0                                     0.00                                       0                                        \n",
       "3 0                                   0                                          0                                    0                                           0                                     0.00                                       1                                        \n",
       "4 0                                   0                                          0                                    0                                           0                                     0.00                                       1                                        \n",
       "5 0                                   0                                          0                                    0                                           1                                    65.83                                       0                                        \n",
       "6 0                                   0                                          0                                    0                                           0                                     0.00                                       0                                        \n",
       "  echocardiography_cost_carrier_cardiology_related angioplasty_count_cardiology_related angioplasty_cost_carrier_cardiology_related CABG_count_cardiology_related CABG_cost_carrier_cardiology_related office_visit_cost_outpatient catheterization_cost_outpatient ecg_cost_outpatient\n",
       "1  0.00                                            0                                       0.00                                     0                             0                                    0                            0.00                              0.00             \n",
       "2  0.00                                            0                                       0.00                                     0                             0                                    0                            0.00                            490.65             \n",
       "3 66.55                                            2                                     991.67                                     0                             0                                    0                            0.00                              0.00             \n",
       "4 68.04                                            4                                    1543.65                                     0                             0                                    0                            0.01                              0.00             \n",
       "5  0.00                                            0                                       0.00                                     0                             0                                    0                            0.00                              0.00             \n",
       "6  0.00                                            0                                       0.00                                     0                             0                                    0                            0.00                              0.00             \n",
       "  cardiac_ct_cost_outpatient cardiac_mri_cost_outpatient stress_test_cost_outpatient echocardiography_cost_outpatient angioplasty_cost_outpatient CABG_cost_outpatient office_visit_cost_outpatient_cardiology_related catheterization_cost_outpatient_cardiology_related\n",
       "1 0                          0                           0                           0                                   0.00                     0                    0                                               0.00                                              \n",
       "2 0                          0                           0                           0                                   0.00                     0                    0                                               0.00                                              \n",
       "3 0                          0                           0                           0                                   0.00                     0                    0                                               0.00                                              \n",
       "4 0                          0                           0                           0                                6621.35                     0                    0                                               0.01                                              \n",
       "5 0                          0                           0                           0                                   0.00                     0                    0                                               0.00                                              \n",
       "6 0                          0                           0                           0                                   0.00                     0                    0                                               0.00                                              \n",
       "  ecg_cost_outpatient_cardiology_related cardiac_ct_cost_outpatient_cardiology_related cardiac_mri_cost_outpatient_cardiology_related stress_test_cost_outpatient_cardiology_related echocardiography_cost_outpatient_cardiology_related angioplasty_cost_outpatient_cardiology_related\n",
       "1   0.0                                  0                                             0                                              0                                              0                                                      0.00                                       \n",
       "2 126.3                                  0                                             0                                              0                                              0                                                      0.00                                       \n",
       "3   0.0                                  0                                             0                                              0                                              0                                                      0.00                                       \n",
       "4   0.0                                  0                                             0                                              0                                              0                                                   6621.35                                       \n",
       "5   0.0                                  0                                             0                                              0                                              0                                                      0.00                                       \n",
       "6   0.0                                  0                                             0                                              0                                              0                                                      0.00                                       \n",
       "  CABG_cost_outpatient_cardiology_related office_visit_cost catheterization_cost ecg_cost cardiac_ct_cost cardiac_mri_cost stress_test_cost echocardiography_cost angioplasty_cost CABG_cost office_visit_cost_cardiology_related catheterization_cost_cardiology_related ecg_cost_cardiology_related\n",
       "1 0                                        209.35             0.00                16.26   0               0                60.06              0.00                   0.00          0         104.30                                 0.00                                   16.26                     \n",
       "2 0                                        869.89             0.00               515.94   0               0                 0.00              0.00                   0.00          0         146.81                                 0.00                                  126.30                     \n",
       "3 0                                       1376.90           345.44               114.88   0               0                 0.00            133.10                 991.67          0         258.31                               345.44                                   36.15                     \n",
       "4 0                                       1191.80           269.31                27.59   0               0                 0.00            595.98                8165.00          0         693.47                               269.31                                   18.54                     \n",
       "5 0                                        855.53             0.00                34.03   0               0                65.83              0.00                   0.00          0         711.56                                 0.00                                   34.03                     \n",
       "6 0                                       1145.16             0.00                 0.00   0               0                 0.00              0.00                   0.00          0         342.90                                 0.00                                    0.00                     \n",
       "  cardiac_ct_cost_cardiology_related cardiac_mri_cost_cardiology_related stress_test_cost_cardiology_related echocardiography_cost_cardiology_related angioplasty_cost_cardiology_related CABG_cost_cardiology_related tot_cheap_prcdr_cost tot_expensive_prcdr_cost\n",
       "1 0                                  0                                    0.00                                0.00                                       0.00                             0                             269.41                 0.00                 \n",
       "2 0                                  0                                    0.00                                0.00                                       0.00                             0                             869.89                 0.00                 \n",
       "3 0                                  0                                    0.00                               66.55                                     991.67                             0                            1510.00              1337.11                 \n",
       "4 0                                  0                                    0.00                               68.04                                    8165.00                             0                            1787.78              8434.31                 \n",
       "5 0                                  0                                   65.83                                0.00                                       0.00                             0                             921.36                 0.00                 \n",
       "6 0                                  0                                    0.00                                0.00                                       0.00                             0                            1145.16                 0.00                 \n",
       "  tot_cheap_prcdr_cost_cardiology_related tot_expensive_prcdr_cost_cardiology_related tot_cheap_prcdr_count tot_expensive_prcdr_count tot_cheap_prcdr_count_cardiology_related tot_expensive_prcdr_count_cardiology_related REFERENCE_YEAR_2013 STATE_CODE_2013 COUNTY_CODE_2013 SEX_CODE_2013\n",
       "1 104.30                                     0.00                                      3                    0                          1                                       0                                            13                  34              240              2            \n",
       "2 146.81                                     0.00                                     12                    0                          2                                       0                                            13                  49               90              1            \n",
       "3 324.86                                  1337.11                                     18                    3                          4                                       3                                            13                  33              740              2            \n",
       "4 761.51                                  8434.31                                     17                    6                          7                                       6                                            13                  21               20              2            \n",
       "5 777.39                                     0.00                                     12                    0                         10                                       0                                            13                  10               70              2            \n",
       "6 342.90                                     0.00                                     12                    0                          4                                       0                                            13                  10              280              2            \n",
       "  RACE_CODE_2013 AGE_2013 ORIG_REASON_FOR_ENTITLEMENT_2013 CURR_REASON_FOR_ENTITLEMENT_2013 ENTITLEMENT_BUY_IN_IND01_2013 ENTITLEMENT_BUY_IN_IND02_2013 ENTITLEMENT_BUY_IN_IND03_2013 ENTITLEMENT_BUY_IN_IND04_2013 ENTITLEMENT_BUY_IN_IND05_2013 ENTITLEMENT_BUY_IN_IND06_2013\n",
       "1 1              77       0                                0                                3                             3                             3                             3                             3                             3                            \n",
       "2 1              76       0                                0                                3                             3                             3                             3                             3                             3                            \n",
       "3 1              76       0                                0                                3                             3                             3                             3                             3                             3                            \n",
       "4 1              76       0                                0                                3                             3                             3                             3                             3                             3                            \n",
       "5 1              76       0                                0                                3                             3                             3                             3                             3                             3                            \n",
       "6 1              76       0                                0                                3                             3                             3                             3                             3                             3                            \n",
       "  ENTITLEMENT_BUY_IN_IND07_2013 ENTITLEMENT_BUY_IN_IND08_2013 ENTITLEMENT_BUY_IN_IND09_2013 ENTITLEMENT_BUY_IN_IND10_2013 ENTITLEMENT_BUY_IN_IND11_2013 ENTITLEMENT_BUY_IN_IND12_2013 HMO_INDICATOR01_2013 HMO_INDICATOR02_2013 HMO_INDICATOR03_2013 HMO_INDICATOR04_2013 HMO_INDICATOR05_2013\n",
       "1 3                             3                             3                             3                             3                             3                             0                    0                    0                    0                    0                   \n",
       "2 3                             3                             3                             3                             3                             3                             0                    0                    0                    0                    0                   \n",
       "3 3                             3                             3                             3                             3                             3                             0                    0                    0                    0                    0                   \n",
       "4 3                             3                             3                             3                             3                             3                             0                    0                    0                    0                    0                   \n",
       "5 3                             3                             3                             3                             3                             3                             0                    0                    0                    0                    0                   \n",
       "6 3                             3                             3                             3                             3                             3                             0                    0                    0                    0                    0                   \n",
       "  HMO_INDICATOR06_2013 HMO_INDICATOR07_2013 HMO_INDICATOR08_2013 HMO_INDICATOR09_2013 HMO_INDICATOR10_2013 HMO_INDICATOR11_2013 ⋯ POS_OTHER STATE STATE_MULTI CBSA_TYPE CBSA_CD CBSA_NAME                             CBSA_MULTI NPI_SRVC_LINES NPI_ALLOWED_AMT NPI_UNQ_BENES TIN1_SRVC_MONTH\n",
       "1 0                    0                    0                    0                    0                    0                    ⋯ 0         LA    0           1         29180   Lafayette, LA                         0          14723          1811872.4       2866          111111111111   \n",
       "2 0                    0                    0                    0                    0                    0                    ⋯ 0         VA    0           1         31340   Lynchburg, VA                         0           2302           163198.9       1109          111111111111   \n",
       "3 0                    0                    0                    0                    0                    0                    ⋯ 0         NY    0           1         35620   New York-Newark-Jersey City, NY-NJ-PA 0           6565           428347.0       2519          111111111111   \n",
       "4 0                    0                    0                    0                    0                    0                    ⋯ 0         MD    0           1         12580   Baltimore-Columbia-Towson, MD         0           4629           418995.5       2323          111111111111   \n",
       "5 0                    0                    0                    0                    0                    0                    ⋯ 0         FL    0           1         39460   Punta Gorda, FL                       1           7582          1252974.0       1892          111111111111   \n",
       "6 0                    0                    0                    0                    0                    0                    ⋯ 0         FL    0           1         45300   Tampa-St. Petersburg-Clearwater, FL   0           4424           446058.3       2035          111111111111   \n",
       "  TIN1_SRVC_LINES TIN1_ALLOWED_AMT TIN1_UNQ_BENES TIN2_SRVC_MONTH TIN2_SRVC_LINES TIN2_ALLOWED_AMT TIN2_UNQ_BENES BIRTH_YR lns_office lns_opd most_common_cardiologist_integrated_in_year_of_diagnosis tot_allowed_carrier_same_tin tot_allowed_carrier_not_same_tin distinct_clinicians_same_tin\n",
       "1 14396           1788733.8        2754           111111111111    327             23138.52         307            1967     12972       959    FALSE                                                    1345.60                        819.36                          1                          \n",
       "2  2297            163157.3        1105                1000000      5                41.65           5            1948       427      1426     TRUE                                                     899.06                       1250.50                         13                          \n",
       "3  6565            428347.0        2519                     NA     NA                   NA          NA            1969      3188       693    FALSE                                                    2848.26                      14013.25                         12                          \n",
       "4  3860            411640.6        1814           111111111111    769              7354.90         674            1954      3325       203     TRUE                                                    1318.46                      11859.97                          2                          \n",
       "5  7559           1247715.9        1873             1101010111     23              5258.12          19            1959      6029       315    FALSE                                                    1268.06                       5140.90                          3                          \n",
       "6  4424            446058.3        2035                     NA     NA                   NA          NA            1964      3071       298    FALSE                                                     233.44                       1382.23                          2                          \n",
       "  distinct_cardiologists_same_tin distinct_clinicians_not_same_tin distinct_cardiologists_not_same_tin tot_allowed_carrier_same_tin_cardiology_related tot_allowed_carrier_not_same_tin_cardiology_related tot_allowed_outpatient_same_tin tot_allowed_outpatient_not_same_tin\n",
       "1 1                                4                               0                                    310.35                                          788.20                                             NA                                     NA                          \n",
       "2 4                                9                               0                                    106.90                                           71.81                                              0                                6337.03                          \n",
       "3 3                               37                               6                                   1035.17                                         2273.97                                              0                              176109.78                          \n",
       "4 1                               19                               3                                    367.64                                         2336.87                                              0                               17704.68                          \n",
       "5 0                               12                               0                                   1158.92                                          478.50                                              0                                1037.85                          \n",
       "6 1                                3                               0                                    124.40                                          256.75                                             NA                                     NA                          \n",
       "  tot_allowed_inpatient_same_tin tot_allowed_inpatient_not_same_tin tot_allowed_outpatient_same_tin_cardiology_related tot_allowed_outpatient_not_same_tin_cardiology_related tot_allowed_inpatient_same_tin_cardiology_related tot_allowed_inpatient_not_same_tin_cardiology_related total_exp_same_tin\n",
       "1 NA                                    NA                          NA                                                       NA                                               NA                                                      NA                                              1345.60           \n",
       "2 NA                                    NA                           0                                                   372.60                                               NA                                                      NA                                               899.06           \n",
       "3  0                             311264.38                          NA                                                       NA                                               NA                                                      NA                                              2848.26           \n",
       "4  0                              13915.48                           0                                                 12305.11                                                0                                                13915.48                                              1318.46           \n",
       "5 NA                                    NA                          NA                                                       NA                                               NA                                                      NA                                              1268.06           \n",
       "6 NA                                    NA                          NA                                                       NA                                               NA                                                      NA                                               233.44           \n",
       "  total_exp_same_tin_cardiology_related total_exp_not_same_tin total_exp_not_same_tin_cardiology_related year_before_diagnosis hcc1 hcc2 hcc6 hcc8 hcc9 hcc10 hcc11 hcc12 hcc17 hcc18 hcc19 hcc21 hcc22 hcc23 hcc27 hcc28 hcc29 hcc33 hcc34 hcc35 hcc39 hcc40 hcc46 hcc47 hcc48 hcc51 hcc52 hcc54 hcc55\n",
       "1  310.35                                  819.36                788.20                                  2017                   0    0    0    0    0    0     0     0     0     0     0     0     0     0     0     0     0     0     0     0     0     0     0     0     1     0     0     0     0   \n",
       "2  106.90                                 7587.53                444.41                                  2013                   0    0    0    0    0    0     0     0     0     0     0     0     0     0     0     0     0     0     0     0     0     0     0     0     0     0     0     0     0   \n",
       "3 1035.17                               501387.41               2273.97                                  2013                   0    1    0    0    0    0     0     0     0     0     1     0     0     1     0     0     0     0     0     0     0     0     0     0     0     0     0     0     0   \n",
       "4  367.64                                43480.13              28557.46                                  2016                   0    0    0    0    0    0     0     0     0     0     0     0     0     0     0     0     0     0     0     0     0     0     0     0     0     0     0     0     0   \n",
       "5 1158.92                                 6178.75                478.50                                  2014                   0    0    0    0    0    0     0     0     0     0     0     0     0     0     0     0     0     0     0     0     0     0     0     0     0     0     0     0     0   \n",
       "6  124.40                                 1382.23                256.75                                  2017                  NA   NA   NA   NA   NA   NA    NA    NA    NA    NA    NA    NA    NA    NA    NA    NA    NA    NA    NA    NA    NA    NA    NA    NA    NA    NA    NA    NA    NA   \n",
       "  hcc57 hcc58 hcc70 hcc71 hcc72 hcc73 hcc74 hcc75 hcc76 hcc77 hcc78 hcc79 hcc80 hcc82 hcc83 hcc84 hcc85 hcc86 hcc87 hcc88 hcc96 hcc99 hcc100 hcc103 hcc104 hcc106 hcc107 hcc108 hcc110 hcc111 hcc112 hcc114 hcc115 hcc122 hcc124 hcc134 hcc135 hcc136 hcc137 hcc138 hcc139 hcc140 hcc141 hcc157 hcc158\n",
       "1  0     0     0     0     0     0     0     0     0     0     0     0     0     0     0     0     1     1     0     0     1     0     1      0      0      0      0      1      0      0      0      0      0      0      0      0      1      0      0      0      0      0      0      0      0    \n",
       "2  0     1     0     0     0     0     0     0     0     0     0     0     0     0     0     0     0     0     1     0     0     0     0      0      0      0      0      0      0      0      0      0      0      0      0      0      1      0      0      0      0      0      0      0      0    \n",
       "3  0     0     0     0     0     0     0     0     0     0     0     0     0     0     0     1     1     0     0     0     0     0     0      0      0      0      0      0      0      1      0      0      1      0      0      1      1      0      0      0      0      0      0      0      0    \n",
       "4  0     0     0     0     0     0     0     0     0     0     0     0     0     0     0     0     0     0     0     0     1     0     0      0      0      0      0      0      0      0      0      0      0      0      0      0      0      0      0      0      0      0      0      0      0    \n",
       "5  0     0     0     0     0     0     0     0     0     0     0     0     0     0     0     0     0     0     1     0     0     0     0      0      0      0      0      0      0      0      0      0      0      0      0      0      0      0      0      0      0      0      0      0      0    \n",
       "6 NA    NA    NA    NA    NA    NA    NA    NA    NA    NA    NA    NA    NA    NA    NA    NA    NA    NA    NA    NA    NA    NA    NA     NA     NA     NA     NA     NA     NA     NA     NA     NA     NA     NA     NA     NA     NA     NA     NA     NA     NA     NA     NA     NA     NA    \n",
       "  hcc159 hcc160 hcc161 hcc162 hcc166 hcc167 hcc169 hcc170 hcc173 hcc176 hcc186 hcc188 hcc189 date_year_before_diagnosis year_before_ENTITLEMENT_BUY_IN_IND_sum mi chf pvd cevd dementia cpd rheumd pud mld diab diabwc hp rend canc msld metacanc aids wscore\n",
       "1  0      0      0      0      0      0      0      0      0      0      0      0      0     2017-07-24                 12                                     0  0   0   1    0        0   0      0   0   0    0      0  0    0    0    0        0    1     \n",
       "2  0      0      0      0      0      0      0      0      0      0      0      0      0     2013-04-16                 12                                     0  0   0   0    0        0   0      0   0   0    0      0  0    0    0    0        0    0     \n",
       "3  0      0      0      0      0      0      0      0      0      0      0      0      0     2013-02-14                 12                                     0  1   0   0    0        1   0      0   0   0    0      0  1    0    0    0        0    4     \n",
       "4  0      0      0      0      0      0      0      0      0      0      0      0      0     2016-10-16                 12                                     0  1   0   0    0        0   0      0   0   0    0      0  0    0    0    0        0    1     \n",
       "5  0      0      0      0      0      0      0      0      0      0      0      0      0     2014-05-18                 12                                     0  0   0   0    0        0   0      0   0   0    0      0  0    0    0    0        0    0     \n",
       "6 NA     NA     NA     NA     NA     NA     NA     NA     NA     NA     NA     NA     NA     2017-10-22                 12                                     1  0   0   0    0        0   0      0   0   0    0      0  1    0    0    0        0    3     "
      ]
     },
     "metadata": {},
     "output_type": "display_data"
    }
   ],
   "source": [
    "head(yearly_data)"
   ]
  },
  {
   "cell_type": "code",
   "execution_count": 13,
   "id": "b235e623",
   "metadata": {
    "vscode": {
     "languageId": "r"
    }
   },
   "outputs": [
    {
     "data": {
      "text/html": [
       "<style>\n",
       ".list-inline {list-style: none; margin:0; padding: 0}\n",
       ".list-inline>li {display: inline-block}\n",
       ".list-inline>li:not(:last-child)::after {content: \"\\00b7\"; padding: 0 .5ex}\n",
       "</style>\n",
       "<ol class=list-inline><li>'most_common_physician_prp_in_year_before_diagnosis_05_non_exclusive_HCPCS'</li><li>'most_common_physician_prp_in_year_before_diagnosis_03_non_exclusive_HCPCS'</li><li>'most_common_physician_avg_in_year_before_diagnosis_non_exclusive_HCPCS'</li><li>'most_common_primary_care_physician_prp_in_year_before_diagnosis_05_non_exclusive_HCPCS'</li><li>'most_common_primary_care_physician_prp_in_year_before_diagnosis_03_non_exclusive_HCPCS'</li><li>'most_common_primary_care_physician_avg_in_year_before_diagnosis_non_exclusive_HCPCS'</li><li>'most_common_cardiologist_prp_in_year_before_diagnosis_05_non_exclusive_HCPCS'</li><li>'most_common_cardiologist_prp_in_year_before_diagnosis_03_non_exclusive_HCPCS'</li><li>'most_common_cardiologist_avg_in_year_before_diagnosis_non_exclusive_HCPCS'</li><li>'diagnosing_doc_prp_in_year_before_diagnosis_05_non_exclusive_HCPCS'</li><li>'diagnosing_doc_prp_in_year_before_diagnosis_03_non_exclusive_HCPCS'</li><li>'diagnosing_doc_avg_in_year_before_diagnosis_non_exclusive_HCPCS'</li><li>'catheterization_doc_prp_in_year_before_diagnosis_05_non_exclusive_HCPCS'</li><li>'catheterization_doc_prp_in_year_before_diagnosis_03_non_exclusive_HCPCS'</li><li>'catheterization_doc_avg_in_year_before_diagnosis_non_exclusive_HCPCS'</li><li>'angioplasty_doc_prp_in_year_before_diagnosis_05_non_exclusive_HCPCS'</li><li>'angioplasty_doc_prp_in_year_before_diagnosis_03_non_exclusive_HCPCS'</li><li>'angioplasty_doc_avg_in_year_before_diagnosis_non_exclusive_HCPCS'</li><li>'most_common_physician_2013_prp_in_year_before_diagnosis_05_non_exclusive_HCPCS'</li><li>'most_common_physician_2013_prp_in_year_before_diagnosis_03_non_exclusive_HCPCS'</li><li>'most_common_physician_2013_avg_in_year_before_diagnosis_non_exclusive_HCPCS'</li><li>'most_common_primary_care_physician_2013_prp_in_year_before_diagnosis_05_non_exclusive_HCPCS'</li><li>'most_common_primary_care_physician_2013_prp_in_year_before_diagnosis_03_non_exclusive_HCPCS'</li><li>'most_common_primary_care_physician_2013_avg_in_year_before_diagnosis_non_exclusive_HCPCS'</li><li>'most_common_cardiologist_2013_prp_in_year_before_diagnosis_05_non_exclusive_HCPCS'</li><li>'most_common_cardiologist_2013_prp_in_year_before_diagnosis_03_non_exclusive_HCPCS'</li><li>'most_common_cardiologist_2013_avg_in_year_before_diagnosis_non_exclusive_HCPCS'</li><li>'year_before_diagnosis'</li><li>'date_year_before_diagnosis'</li><li>'year_before_ENTITLEMENT_BUY_IN_IND_sum'</li></ol>\n"
      ],
      "text/latex": [
       "\\begin{enumerate*}\n",
       "\\item 'most\\_common\\_physician\\_prp\\_in\\_year\\_before\\_diagnosis\\_05\\_non\\_exclusive\\_HCPCS'\n",
       "\\item 'most\\_common\\_physician\\_prp\\_in\\_year\\_before\\_diagnosis\\_03\\_non\\_exclusive\\_HCPCS'\n",
       "\\item 'most\\_common\\_physician\\_avg\\_in\\_year\\_before\\_diagnosis\\_non\\_exclusive\\_HCPCS'\n",
       "\\item 'most\\_common\\_primary\\_care\\_physician\\_prp\\_in\\_year\\_before\\_diagnosis\\_05\\_non\\_exclusive\\_HCPCS'\n",
       "\\item 'most\\_common\\_primary\\_care\\_physician\\_prp\\_in\\_year\\_before\\_diagnosis\\_03\\_non\\_exclusive\\_HCPCS'\n",
       "\\item 'most\\_common\\_primary\\_care\\_physician\\_avg\\_in\\_year\\_before\\_diagnosis\\_non\\_exclusive\\_HCPCS'\n",
       "\\item 'most\\_common\\_cardiologist\\_prp\\_in\\_year\\_before\\_diagnosis\\_05\\_non\\_exclusive\\_HCPCS'\n",
       "\\item 'most\\_common\\_cardiologist\\_prp\\_in\\_year\\_before\\_diagnosis\\_03\\_non\\_exclusive\\_HCPCS'\n",
       "\\item 'most\\_common\\_cardiologist\\_avg\\_in\\_year\\_before\\_diagnosis\\_non\\_exclusive\\_HCPCS'\n",
       "\\item 'diagnosing\\_doc\\_prp\\_in\\_year\\_before\\_diagnosis\\_05\\_non\\_exclusive\\_HCPCS'\n",
       "\\item 'diagnosing\\_doc\\_prp\\_in\\_year\\_before\\_diagnosis\\_03\\_non\\_exclusive\\_HCPCS'\n",
       "\\item 'diagnosing\\_doc\\_avg\\_in\\_year\\_before\\_diagnosis\\_non\\_exclusive\\_HCPCS'\n",
       "\\item 'catheterization\\_doc\\_prp\\_in\\_year\\_before\\_diagnosis\\_05\\_non\\_exclusive\\_HCPCS'\n",
       "\\item 'catheterization\\_doc\\_prp\\_in\\_year\\_before\\_diagnosis\\_03\\_non\\_exclusive\\_HCPCS'\n",
       "\\item 'catheterization\\_doc\\_avg\\_in\\_year\\_before\\_diagnosis\\_non\\_exclusive\\_HCPCS'\n",
       "\\item 'angioplasty\\_doc\\_prp\\_in\\_year\\_before\\_diagnosis\\_05\\_non\\_exclusive\\_HCPCS'\n",
       "\\item 'angioplasty\\_doc\\_prp\\_in\\_year\\_before\\_diagnosis\\_03\\_non\\_exclusive\\_HCPCS'\n",
       "\\item 'angioplasty\\_doc\\_avg\\_in\\_year\\_before\\_diagnosis\\_non\\_exclusive\\_HCPCS'\n",
       "\\item 'most\\_common\\_physician\\_2013\\_prp\\_in\\_year\\_before\\_diagnosis\\_05\\_non\\_exclusive\\_HCPCS'\n",
       "\\item 'most\\_common\\_physician\\_2013\\_prp\\_in\\_year\\_before\\_diagnosis\\_03\\_non\\_exclusive\\_HCPCS'\n",
       "\\item 'most\\_common\\_physician\\_2013\\_avg\\_in\\_year\\_before\\_diagnosis\\_non\\_exclusive\\_HCPCS'\n",
       "\\item 'most\\_common\\_primary\\_care\\_physician\\_2013\\_prp\\_in\\_year\\_before\\_diagnosis\\_05\\_non\\_exclusive\\_HCPCS'\n",
       "\\item 'most\\_common\\_primary\\_care\\_physician\\_2013\\_prp\\_in\\_year\\_before\\_diagnosis\\_03\\_non\\_exclusive\\_HCPCS'\n",
       "\\item 'most\\_common\\_primary\\_care\\_physician\\_2013\\_avg\\_in\\_year\\_before\\_diagnosis\\_non\\_exclusive\\_HCPCS'\n",
       "\\item 'most\\_common\\_cardiologist\\_2013\\_prp\\_in\\_year\\_before\\_diagnosis\\_05\\_non\\_exclusive\\_HCPCS'\n",
       "\\item 'most\\_common\\_cardiologist\\_2013\\_prp\\_in\\_year\\_before\\_diagnosis\\_03\\_non\\_exclusive\\_HCPCS'\n",
       "\\item 'most\\_common\\_cardiologist\\_2013\\_avg\\_in\\_year\\_before\\_diagnosis\\_non\\_exclusive\\_HCPCS'\n",
       "\\item 'year\\_before\\_diagnosis'\n",
       "\\item 'date\\_year\\_before\\_diagnosis'\n",
       "\\item 'year\\_before\\_ENTITLEMENT\\_BUY\\_IN\\_IND\\_sum'\n",
       "\\end{enumerate*}\n"
      ],
      "text/markdown": [
       "1. 'most_common_physician_prp_in_year_before_diagnosis_05_non_exclusive_HCPCS'\n",
       "2. 'most_common_physician_prp_in_year_before_diagnosis_03_non_exclusive_HCPCS'\n",
       "3. 'most_common_physician_avg_in_year_before_diagnosis_non_exclusive_HCPCS'\n",
       "4. 'most_common_primary_care_physician_prp_in_year_before_diagnosis_05_non_exclusive_HCPCS'\n",
       "5. 'most_common_primary_care_physician_prp_in_year_before_diagnosis_03_non_exclusive_HCPCS'\n",
       "6. 'most_common_primary_care_physician_avg_in_year_before_diagnosis_non_exclusive_HCPCS'\n",
       "7. 'most_common_cardiologist_prp_in_year_before_diagnosis_05_non_exclusive_HCPCS'\n",
       "8. 'most_common_cardiologist_prp_in_year_before_diagnosis_03_non_exclusive_HCPCS'\n",
       "9. 'most_common_cardiologist_avg_in_year_before_diagnosis_non_exclusive_HCPCS'\n",
       "10. 'diagnosing_doc_prp_in_year_before_diagnosis_05_non_exclusive_HCPCS'\n",
       "11. 'diagnosing_doc_prp_in_year_before_diagnosis_03_non_exclusive_HCPCS'\n",
       "12. 'diagnosing_doc_avg_in_year_before_diagnosis_non_exclusive_HCPCS'\n",
       "13. 'catheterization_doc_prp_in_year_before_diagnosis_05_non_exclusive_HCPCS'\n",
       "14. 'catheterization_doc_prp_in_year_before_diagnosis_03_non_exclusive_HCPCS'\n",
       "15. 'catheterization_doc_avg_in_year_before_diagnosis_non_exclusive_HCPCS'\n",
       "16. 'angioplasty_doc_prp_in_year_before_diagnosis_05_non_exclusive_HCPCS'\n",
       "17. 'angioplasty_doc_prp_in_year_before_diagnosis_03_non_exclusive_HCPCS'\n",
       "18. 'angioplasty_doc_avg_in_year_before_diagnosis_non_exclusive_HCPCS'\n",
       "19. 'most_common_physician_2013_prp_in_year_before_diagnosis_05_non_exclusive_HCPCS'\n",
       "20. 'most_common_physician_2013_prp_in_year_before_diagnosis_03_non_exclusive_HCPCS'\n",
       "21. 'most_common_physician_2013_avg_in_year_before_diagnosis_non_exclusive_HCPCS'\n",
       "22. 'most_common_primary_care_physician_2013_prp_in_year_before_diagnosis_05_non_exclusive_HCPCS'\n",
       "23. 'most_common_primary_care_physician_2013_prp_in_year_before_diagnosis_03_non_exclusive_HCPCS'\n",
       "24. 'most_common_primary_care_physician_2013_avg_in_year_before_diagnosis_non_exclusive_HCPCS'\n",
       "25. 'most_common_cardiologist_2013_prp_in_year_before_diagnosis_05_non_exclusive_HCPCS'\n",
       "26. 'most_common_cardiologist_2013_prp_in_year_before_diagnosis_03_non_exclusive_HCPCS'\n",
       "27. 'most_common_cardiologist_2013_avg_in_year_before_diagnosis_non_exclusive_HCPCS'\n",
       "28. 'year_before_diagnosis'\n",
       "29. 'date_year_before_diagnosis'\n",
       "30. 'year_before_ENTITLEMENT_BUY_IN_IND_sum'\n",
       "\n",
       "\n"
      ],
      "text/plain": [
       " [1] \"most_common_physician_prp_in_year_before_diagnosis_05_non_exclusive_HCPCS\"                   \"most_common_physician_prp_in_year_before_diagnosis_03_non_exclusive_HCPCS\"                   \"most_common_physician_avg_in_year_before_diagnosis_non_exclusive_HCPCS\"                     \n",
       " [4] \"most_common_primary_care_physician_prp_in_year_before_diagnosis_05_non_exclusive_HCPCS\"      \"most_common_primary_care_physician_prp_in_year_before_diagnosis_03_non_exclusive_HCPCS\"      \"most_common_primary_care_physician_avg_in_year_before_diagnosis_non_exclusive_HCPCS\"        \n",
       " [7] \"most_common_cardiologist_prp_in_year_before_diagnosis_05_non_exclusive_HCPCS\"                \"most_common_cardiologist_prp_in_year_before_diagnosis_03_non_exclusive_HCPCS\"                \"most_common_cardiologist_avg_in_year_before_diagnosis_non_exclusive_HCPCS\"                  \n",
       "[10] \"diagnosing_doc_prp_in_year_before_diagnosis_05_non_exclusive_HCPCS\"                          \"diagnosing_doc_prp_in_year_before_diagnosis_03_non_exclusive_HCPCS\"                          \"diagnosing_doc_avg_in_year_before_diagnosis_non_exclusive_HCPCS\"                            \n",
       "[13] \"catheterization_doc_prp_in_year_before_diagnosis_05_non_exclusive_HCPCS\"                     \"catheterization_doc_prp_in_year_before_diagnosis_03_non_exclusive_HCPCS\"                     \"catheterization_doc_avg_in_year_before_diagnosis_non_exclusive_HCPCS\"                       \n",
       "[16] \"angioplasty_doc_prp_in_year_before_diagnosis_05_non_exclusive_HCPCS\"                         \"angioplasty_doc_prp_in_year_before_diagnosis_03_non_exclusive_HCPCS\"                         \"angioplasty_doc_avg_in_year_before_diagnosis_non_exclusive_HCPCS\"                           \n",
       "[19] \"most_common_physician_2013_prp_in_year_before_diagnosis_05_non_exclusive_HCPCS\"              \"most_common_physician_2013_prp_in_year_before_diagnosis_03_non_exclusive_HCPCS\"              \"most_common_physician_2013_avg_in_year_before_diagnosis_non_exclusive_HCPCS\"                \n",
       "[22] \"most_common_primary_care_physician_2013_prp_in_year_before_diagnosis_05_non_exclusive_HCPCS\" \"most_common_primary_care_physician_2013_prp_in_year_before_diagnosis_03_non_exclusive_HCPCS\" \"most_common_primary_care_physician_2013_avg_in_year_before_diagnosis_non_exclusive_HCPCS\"   \n",
       "[25] \"most_common_cardiologist_2013_prp_in_year_before_diagnosis_05_non_exclusive_HCPCS\"           \"most_common_cardiologist_2013_prp_in_year_before_diagnosis_03_non_exclusive_HCPCS\"           \"most_common_cardiologist_2013_avg_in_year_before_diagnosis_non_exclusive_HCPCS\"             \n",
       "[28] \"year_before_diagnosis\"                                                                       \"date_year_before_diagnosis\"                                                                  \"year_before_ENTITLEMENT_BUY_IN_IND_sum\"                                                     "
      ]
     },
     "metadata": {},
     "output_type": "display_data"
    }
   ],
   "source": [
    "# find the column names that contant \"year_before\"\n",
    "grep(\"year_before\", colnames(yearly_data), value = T)"
   ]
  },
  {
   "cell_type": "code",
   "execution_count": 25,
   "id": "555d8fa0",
   "metadata": {
    "vscode": {
     "languageId": "r"
    }
   },
   "outputs": [
    {
     "name": "stderr",
     "output_type": "stream",
     "text": [
      "Warning message in `[.data.table`(yearly_data, unique(most_common_cardiologist_PRF_PHYSN_NPI), :\n",
      "“NAs introduced by coercion to integer range”\n"
     ]
    },
    {
     "ename": "ERROR",
     "evalue": "Error in as.vector(x, \"list\"): cannot coerce type 'closure' to vector of type 'list'\n",
     "output_type": "error",
     "traceback": [
      "Error in as.vector(x, \"list\"): cannot coerce type 'closure' to vector of type 'list'\nTraceback:\n",
      "1. yearly_data[unique(most_common_cardiologist_PRF_PHYSN_NPI), mean((most_common_cardiologist_avg_in_year_of_diagnosis_non_exclusive_HCPCS >= \n .     0.75), na.rm = TRUE), keyby = year]",
      "2. `[.data.table`(yearly_data, unique(most_common_cardiologist_PRF_PHYSN_NPI), \n .     mean((most_common_cardiologist_avg_in_year_of_diagnosis_non_exclusive_HCPCS >= \n .         0.75), na.rm = TRUE), keyby = year)",
      "3. as.list.default(bysub)"
     ]
    }
   ],
   "source": [
    "yearly_data[\n",
    "    unique(most_common_cardiologist_PRF_PHYSN_NPI),\n",
    "    mean(most_common_cardiologist_avg_in_year_of_diagnosis_non_exclusive_HCPCS >= 0.75,\n",
    "        na.rm = TRUE\n",
    "    ),\n",
    "    keyby = year\n",
    "]"
   ]
  },
  {
   "cell_type": "code",
   "execution_count": 33,
   "id": "fbec1b30",
   "metadata": {
    "vscode": {
     "languageId": "r"
    }
   },
   "outputs": [
    {
     "name": "stderr",
     "output_type": "stream",
     "text": [
      "Warning message in `[.data.table`(yearly_data, unique(most_common_cardiologist_PRF_PHYSN_NPI), :\n",
      "“NAs introduced by coercion to integer range”\n"
     ]
    },
    {
     "data": {
      "text/html": [
       "<table class=\"dataframe\">\n",
       "<caption>A data.table: 1 × 2</caption>\n",
       "<thead>\n",
       "\t<tr><th scope=col>year_first_diagnosed</th><th scope=col>V1</th></tr>\n",
       "\t<tr><th scope=col>&lt;int&gt;</th><th scope=col>&lt;dbl&gt;</th></tr>\n",
       "</thead>\n",
       "<tbody>\n",
       "\t<tr><td>NA</td><td>NA</td></tr>\n",
       "</tbody>\n",
       "</table>\n"
      ],
      "text/latex": [
       "A data.table: 1 × 2\n",
       "\\begin{tabular}{ll}\n",
       " year\\_first\\_diagnosed & V1\\\\\n",
       " <int> & <dbl>\\\\\n",
       "\\hline\n",
       "\t NA & NA\\\\\n",
       "\\end{tabular}\n"
      ],
      "text/markdown": [
       "\n",
       "A data.table: 1 × 2\n",
       "\n",
       "| year_first_diagnosed &lt;int&gt; | V1 &lt;dbl&gt; |\n",
       "|---|---|\n",
       "| NA | NA |\n",
       "\n"
      ],
      "text/plain": [
       "  year_first_diagnosed V1\n",
       "1 NA                   NA"
      ]
     },
     "metadata": {},
     "output_type": "display_data"
    }
   ],
   "source": [
    "yearly_data[\n",
    "    unique(most_common_cardiologist_PRF_PHYSN_NPI),\n",
    "    mean(most_common_cardiologist_avg_in_year_of_diagnosis_non_exclusive_HCPCS >= 0.75),\n",
    "    by = year_first_diagnosed\n",
    "]"
   ]
  },
  {
   "cell_type": "code",
   "execution_count": null,
   "id": "d2526283",
   "metadata": {
    "vscode": {
     "languageId": "r"
    }
   },
   "outputs": [],
   "source": []
  }
 ],
 "metadata": {
  "kernelspec": {
   "display_name": "R",
   "language": "R",
   "name": "ir"
  },
  "language_info": {
   "codemirror_mode": "r",
   "file_extension": ".r",
   "mimetype": "text/x-r-source",
   "name": "R",
   "pygments_lexer": "r",
   "version": "4.2.2"
  }
 },
 "nbformat": 4,
 "nbformat_minor": 5
}
